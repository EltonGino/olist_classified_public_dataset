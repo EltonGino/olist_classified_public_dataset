{
  "nbformat": 4,
  "nbformat_minor": 0,
  "metadata": {
    "colab": {
      "provenance": [],
      "toc_visible": true,
      "mount_file_id": "1oagVezrYSN3jScubMRDip7HMp66OY0jA",
      "authorship_tag": "ABX9TyO/i+qGlBpcSWxSwOXbHsEn",
      "include_colab_link": true
    },
    "kernelspec": {
      "name": "python3",
      "display_name": "Python 3"
    },
    "language_info": {
      "name": "python"
    }
  },
  "cells": [
    {
      "cell_type": "markdown",
      "metadata": {
        "id": "view-in-github",
        "colab_type": "text"
      },
      "source": [
        "<a href=\"https://colab.research.google.com/github/EltonGino/olist_classified_public_dataset/blob/main/Untitled2.ipynb\" target=\"_parent\"><img src=\"https://colab.research.google.com/assets/colab-badge.svg\" alt=\"Open In Colab\"/></a>"
      ]
    },
    {
      "cell_type": "code",
      "execution_count": null,
      "metadata": {
        "colab": {
          "base_uri": "https://localhost:8080/"
        },
        "id": "HkC8-tQVjbEe",
        "outputId": "68c5e43d-87f8-4a60-8746-3e32ed0070ee"
      },
      "outputs": [
        {
          "output_type": "stream",
          "name": "stdout",
          "text": [
            "Requirement already satisfied: cufflinks in /usr/local/lib/python3.10/dist-packages (0.17.3)\n",
            "Requirement already satisfied: numpy>=1.9.2 in /usr/local/lib/python3.10/dist-packages (from cufflinks) (1.23.5)\n",
            "Requirement already satisfied: pandas>=0.19.2 in /usr/local/lib/python3.10/dist-packages (from cufflinks) (1.5.3)\n",
            "Requirement already satisfied: plotly>=4.1.1 in /usr/local/lib/python3.10/dist-packages (from cufflinks) (5.15.0)\n",
            "Requirement already satisfied: six>=1.9.0 in /usr/local/lib/python3.10/dist-packages (from cufflinks) (1.16.0)\n",
            "Requirement already satisfied: colorlover>=0.2.1 in /usr/local/lib/python3.10/dist-packages (from cufflinks) (0.3.0)\n",
            "Requirement already satisfied: setuptools>=34.4.1 in /usr/local/lib/python3.10/dist-packages (from cufflinks) (67.7.2)\n",
            "Requirement already satisfied: ipython>=5.3.0 in /usr/local/lib/python3.10/dist-packages (from cufflinks) (7.34.0)\n",
            "Requirement already satisfied: ipywidgets>=7.0.0 in /usr/local/lib/python3.10/dist-packages (from cufflinks) (7.7.1)\n",
            "Collecting jedi>=0.16 (from ipython>=5.3.0->cufflinks)\n",
            "  Downloading jedi-0.19.0-py2.py3-none-any.whl (1.6 MB)\n",
            "\u001b[2K     \u001b[90m━━━━━━━━━━━━━━━━━━━━━━━━━━━━━━━━━━━━━━━━\u001b[0m \u001b[32m1.6/1.6 MB\u001b[0m \u001b[31m8.5 MB/s\u001b[0m eta \u001b[36m0:00:00\u001b[0m\n",
            "\u001b[?25hRequirement already satisfied: decorator in /usr/local/lib/python3.10/dist-packages (from ipython>=5.3.0->cufflinks) (4.4.2)\n",
            "Requirement already satisfied: pickleshare in /usr/local/lib/python3.10/dist-packages (from ipython>=5.3.0->cufflinks) (0.7.5)\n",
            "Requirement already satisfied: traitlets>=4.2 in /usr/local/lib/python3.10/dist-packages (from ipython>=5.3.0->cufflinks) (5.7.1)\n",
            "Requirement already satisfied: prompt-toolkit!=3.0.0,!=3.0.1,<3.1.0,>=2.0.0 in /usr/local/lib/python3.10/dist-packages (from ipython>=5.3.0->cufflinks) (3.0.39)\n",
            "Requirement already satisfied: pygments in /usr/local/lib/python3.10/dist-packages (from ipython>=5.3.0->cufflinks) (2.16.1)\n",
            "Requirement already satisfied: backcall in /usr/local/lib/python3.10/dist-packages (from ipython>=5.3.0->cufflinks) (0.2.0)\n",
            "Requirement already satisfied: matplotlib-inline in /usr/local/lib/python3.10/dist-packages (from ipython>=5.3.0->cufflinks) (0.1.6)\n",
            "Requirement already satisfied: pexpect>4.3 in /usr/local/lib/python3.10/dist-packages (from ipython>=5.3.0->cufflinks) (4.8.0)\n",
            "Requirement already satisfied: ipykernel>=4.5.1 in /usr/local/lib/python3.10/dist-packages (from ipywidgets>=7.0.0->cufflinks) (5.5.6)\n",
            "Requirement already satisfied: ipython-genutils~=0.2.0 in /usr/local/lib/python3.10/dist-packages (from ipywidgets>=7.0.0->cufflinks) (0.2.0)\n",
            "Requirement already satisfied: widgetsnbextension~=3.6.0 in /usr/local/lib/python3.10/dist-packages (from ipywidgets>=7.0.0->cufflinks) (3.6.5)\n",
            "Requirement already satisfied: jupyterlab-widgets>=1.0.0 in /usr/local/lib/python3.10/dist-packages (from ipywidgets>=7.0.0->cufflinks) (3.0.8)\n",
            "Requirement already satisfied: python-dateutil>=2.8.1 in /usr/local/lib/python3.10/dist-packages (from pandas>=0.19.2->cufflinks) (2.8.2)\n",
            "Requirement already satisfied: pytz>=2020.1 in /usr/local/lib/python3.10/dist-packages (from pandas>=0.19.2->cufflinks) (2023.3.post1)\n",
            "Requirement already satisfied: tenacity>=6.2.0 in /usr/local/lib/python3.10/dist-packages (from plotly>=4.1.1->cufflinks) (8.2.3)\n",
            "Requirement already satisfied: packaging in /usr/local/lib/python3.10/dist-packages (from plotly>=4.1.1->cufflinks) (23.1)\n",
            "Requirement already satisfied: jupyter-client in /usr/local/lib/python3.10/dist-packages (from ipykernel>=4.5.1->ipywidgets>=7.0.0->cufflinks) (6.1.12)\n",
            "Requirement already satisfied: tornado>=4.2 in /usr/local/lib/python3.10/dist-packages (from ipykernel>=4.5.1->ipywidgets>=7.0.0->cufflinks) (6.3.2)\n",
            "Requirement already satisfied: parso<0.9.0,>=0.8.3 in /usr/local/lib/python3.10/dist-packages (from jedi>=0.16->ipython>=5.3.0->cufflinks) (0.8.3)\n",
            "Requirement already satisfied: ptyprocess>=0.5 in /usr/local/lib/python3.10/dist-packages (from pexpect>4.3->ipython>=5.3.0->cufflinks) (0.7.0)\n",
            "Requirement already satisfied: wcwidth in /usr/local/lib/python3.10/dist-packages (from prompt-toolkit!=3.0.0,!=3.0.1,<3.1.0,>=2.0.0->ipython>=5.3.0->cufflinks) (0.2.6)\n",
            "Requirement already satisfied: notebook>=4.4.1 in /usr/local/lib/python3.10/dist-packages (from widgetsnbextension~=3.6.0->ipywidgets>=7.0.0->cufflinks) (6.5.5)\n",
            "Requirement already satisfied: jinja2 in /usr/local/lib/python3.10/dist-packages (from notebook>=4.4.1->widgetsnbextension~=3.6.0->ipywidgets>=7.0.0->cufflinks) (3.1.2)\n",
            "Requirement already satisfied: pyzmq<25,>=17 in /usr/local/lib/python3.10/dist-packages (from notebook>=4.4.1->widgetsnbextension~=3.6.0->ipywidgets>=7.0.0->cufflinks) (23.2.1)\n",
            "Requirement already satisfied: argon2-cffi in /usr/local/lib/python3.10/dist-packages (from notebook>=4.4.1->widgetsnbextension~=3.6.0->ipywidgets>=7.0.0->cufflinks) (23.1.0)\n",
            "Requirement already satisfied: jupyter-core>=4.6.1 in /usr/local/lib/python3.10/dist-packages (from notebook>=4.4.1->widgetsnbextension~=3.6.0->ipywidgets>=7.0.0->cufflinks) (5.3.1)\n",
            "Requirement already satisfied: nbformat in /usr/local/lib/python3.10/dist-packages (from notebook>=4.4.1->widgetsnbextension~=3.6.0->ipywidgets>=7.0.0->cufflinks) (5.9.2)\n",
            "Requirement already satisfied: nbconvert>=5 in /usr/local/lib/python3.10/dist-packages (from notebook>=4.4.1->widgetsnbextension~=3.6.0->ipywidgets>=7.0.0->cufflinks) (6.5.4)\n",
            "Requirement already satisfied: nest-asyncio>=1.5 in /usr/local/lib/python3.10/dist-packages (from notebook>=4.4.1->widgetsnbextension~=3.6.0->ipywidgets>=7.0.0->cufflinks) (1.5.7)\n",
            "Requirement already satisfied: Send2Trash>=1.8.0 in /usr/local/lib/python3.10/dist-packages (from notebook>=4.4.1->widgetsnbextension~=3.6.0->ipywidgets>=7.0.0->cufflinks) (1.8.2)\n",
            "Requirement already satisfied: terminado>=0.8.3 in /usr/local/lib/python3.10/dist-packages (from notebook>=4.4.1->widgetsnbextension~=3.6.0->ipywidgets>=7.0.0->cufflinks) (0.17.1)\n",
            "Requirement already satisfied: prometheus-client in /usr/local/lib/python3.10/dist-packages (from notebook>=4.4.1->widgetsnbextension~=3.6.0->ipywidgets>=7.0.0->cufflinks) (0.17.1)\n",
            "Requirement already satisfied: nbclassic>=0.4.7 in /usr/local/lib/python3.10/dist-packages (from notebook>=4.4.1->widgetsnbextension~=3.6.0->ipywidgets>=7.0.0->cufflinks) (1.0.0)\n",
            "Requirement already satisfied: platformdirs>=2.5 in /usr/local/lib/python3.10/dist-packages (from jupyter-core>=4.6.1->notebook>=4.4.1->widgetsnbextension~=3.6.0->ipywidgets>=7.0.0->cufflinks) (3.10.0)\n",
            "Requirement already satisfied: jupyter-server>=1.8 in /usr/local/lib/python3.10/dist-packages (from nbclassic>=0.4.7->notebook>=4.4.1->widgetsnbextension~=3.6.0->ipywidgets>=7.0.0->cufflinks) (1.24.0)\n",
            "Requirement already satisfied: notebook-shim>=0.2.3 in /usr/local/lib/python3.10/dist-packages (from nbclassic>=0.4.7->notebook>=4.4.1->widgetsnbextension~=3.6.0->ipywidgets>=7.0.0->cufflinks) (0.2.3)\n",
            "Requirement already satisfied: lxml in /usr/local/lib/python3.10/dist-packages (from nbconvert>=5->notebook>=4.4.1->widgetsnbextension~=3.6.0->ipywidgets>=7.0.0->cufflinks) (4.9.3)\n",
            "Requirement already satisfied: beautifulsoup4 in /usr/local/lib/python3.10/dist-packages (from nbconvert>=5->notebook>=4.4.1->widgetsnbextension~=3.6.0->ipywidgets>=7.0.0->cufflinks) (4.11.2)\n",
            "Requirement already satisfied: bleach in /usr/local/lib/python3.10/dist-packages (from nbconvert>=5->notebook>=4.4.1->widgetsnbextension~=3.6.0->ipywidgets>=7.0.0->cufflinks) (6.0.0)\n",
            "Requirement already satisfied: defusedxml in /usr/local/lib/python3.10/dist-packages (from nbconvert>=5->notebook>=4.4.1->widgetsnbextension~=3.6.0->ipywidgets>=7.0.0->cufflinks) (0.7.1)\n",
            "Requirement already satisfied: entrypoints>=0.2.2 in /usr/local/lib/python3.10/dist-packages (from nbconvert>=5->notebook>=4.4.1->widgetsnbextension~=3.6.0->ipywidgets>=7.0.0->cufflinks) (0.4)\n",
            "Requirement already satisfied: jupyterlab-pygments in /usr/local/lib/python3.10/dist-packages (from nbconvert>=5->notebook>=4.4.1->widgetsnbextension~=3.6.0->ipywidgets>=7.0.0->cufflinks) (0.2.2)\n",
            "Requirement already satisfied: MarkupSafe>=2.0 in /usr/local/lib/python3.10/dist-packages (from nbconvert>=5->notebook>=4.4.1->widgetsnbextension~=3.6.0->ipywidgets>=7.0.0->cufflinks) (2.1.3)\n",
            "Requirement already satisfied: mistune<2,>=0.8.1 in /usr/local/lib/python3.10/dist-packages (from nbconvert>=5->notebook>=4.4.1->widgetsnbextension~=3.6.0->ipywidgets>=7.0.0->cufflinks) (0.8.4)\n",
            "Requirement already satisfied: nbclient>=0.5.0 in /usr/local/lib/python3.10/dist-packages (from nbconvert>=5->notebook>=4.4.1->widgetsnbextension~=3.6.0->ipywidgets>=7.0.0->cufflinks) (0.8.0)\n",
            "Requirement already satisfied: pandocfilters>=1.4.1 in /usr/local/lib/python3.10/dist-packages (from nbconvert>=5->notebook>=4.4.1->widgetsnbextension~=3.6.0->ipywidgets>=7.0.0->cufflinks) (1.5.0)\n",
            "Requirement already satisfied: tinycss2 in /usr/local/lib/python3.10/dist-packages (from nbconvert>=5->notebook>=4.4.1->widgetsnbextension~=3.6.0->ipywidgets>=7.0.0->cufflinks) (1.2.1)\n",
            "Requirement already satisfied: fastjsonschema in /usr/local/lib/python3.10/dist-packages (from nbformat->notebook>=4.4.1->widgetsnbextension~=3.6.0->ipywidgets>=7.0.0->cufflinks) (2.18.0)\n",
            "Requirement already satisfied: jsonschema>=2.6 in /usr/local/lib/python3.10/dist-packages (from nbformat->notebook>=4.4.1->widgetsnbextension~=3.6.0->ipywidgets>=7.0.0->cufflinks) (4.19.0)\n",
            "Requirement already satisfied: argon2-cffi-bindings in /usr/local/lib/python3.10/dist-packages (from argon2-cffi->notebook>=4.4.1->widgetsnbextension~=3.6.0->ipywidgets>=7.0.0->cufflinks) (21.2.0)\n",
            "Requirement already satisfied: attrs>=22.2.0 in /usr/local/lib/python3.10/dist-packages (from jsonschema>=2.6->nbformat->notebook>=4.4.1->widgetsnbextension~=3.6.0->ipywidgets>=7.0.0->cufflinks) (23.1.0)\n",
            "Requirement already satisfied: jsonschema-specifications>=2023.03.6 in /usr/local/lib/python3.10/dist-packages (from jsonschema>=2.6->nbformat->notebook>=4.4.1->widgetsnbextension~=3.6.0->ipywidgets>=7.0.0->cufflinks) (2023.7.1)\n",
            "Requirement already satisfied: referencing>=0.28.4 in /usr/local/lib/python3.10/dist-packages (from jsonschema>=2.6->nbformat->notebook>=4.4.1->widgetsnbextension~=3.6.0->ipywidgets>=7.0.0->cufflinks) (0.30.2)\n",
            "Requirement already satisfied: rpds-py>=0.7.1 in /usr/local/lib/python3.10/dist-packages (from jsonschema>=2.6->nbformat->notebook>=4.4.1->widgetsnbextension~=3.6.0->ipywidgets>=7.0.0->cufflinks) (0.10.2)\n",
            "Requirement already satisfied: anyio<4,>=3.1.0 in /usr/local/lib/python3.10/dist-packages (from jupyter-server>=1.8->nbclassic>=0.4.7->notebook>=4.4.1->widgetsnbextension~=3.6.0->ipywidgets>=7.0.0->cufflinks) (3.7.1)\n",
            "Requirement already satisfied: websocket-client in /usr/local/lib/python3.10/dist-packages (from jupyter-server>=1.8->nbclassic>=0.4.7->notebook>=4.4.1->widgetsnbextension~=3.6.0->ipywidgets>=7.0.0->cufflinks) (1.6.2)\n",
            "Requirement already satisfied: cffi>=1.0.1 in /usr/local/lib/python3.10/dist-packages (from argon2-cffi-bindings->argon2-cffi->notebook>=4.4.1->widgetsnbextension~=3.6.0->ipywidgets>=7.0.0->cufflinks) (1.15.1)\n",
            "Requirement already satisfied: soupsieve>1.2 in /usr/local/lib/python3.10/dist-packages (from beautifulsoup4->nbconvert>=5->notebook>=4.4.1->widgetsnbextension~=3.6.0->ipywidgets>=7.0.0->cufflinks) (2.5)\n",
            "Requirement already satisfied: webencodings in /usr/local/lib/python3.10/dist-packages (from bleach->nbconvert>=5->notebook>=4.4.1->widgetsnbextension~=3.6.0->ipywidgets>=7.0.0->cufflinks) (0.5.1)\n",
            "Requirement already satisfied: idna>=2.8 in /usr/local/lib/python3.10/dist-packages (from anyio<4,>=3.1.0->jupyter-server>=1.8->nbclassic>=0.4.7->notebook>=4.4.1->widgetsnbextension~=3.6.0->ipywidgets>=7.0.0->cufflinks) (3.4)\n",
            "Requirement already satisfied: sniffio>=1.1 in /usr/local/lib/python3.10/dist-packages (from anyio<4,>=3.1.0->jupyter-server>=1.8->nbclassic>=0.4.7->notebook>=4.4.1->widgetsnbextension~=3.6.0->ipywidgets>=7.0.0->cufflinks) (1.3.0)\n",
            "Requirement already satisfied: exceptiongroup in /usr/local/lib/python3.10/dist-packages (from anyio<4,>=3.1.0->jupyter-server>=1.8->nbclassic>=0.4.7->notebook>=4.4.1->widgetsnbextension~=3.6.0->ipywidgets>=7.0.0->cufflinks) (1.1.3)\n",
            "Requirement already satisfied: pycparser in /usr/local/lib/python3.10/dist-packages (from cffi>=1.0.1->argon2-cffi-bindings->argon2-cffi->notebook>=4.4.1->widgetsnbextension~=3.6.0->ipywidgets>=7.0.0->cufflinks) (2.21)\n",
            "Installing collected packages: jedi\n",
            "Successfully installed jedi-0.19.0\n"
          ]
        }
      ],
      "source": [
        "!pip install cufflinks"
      ]
    },
    {
      "cell_type": "code",
      "source": [
        "!pip install plotly"
      ],
      "metadata": {
        "colab": {
          "base_uri": "https://localhost:8080/"
        },
        "id": "yjpjP5-6kJ4A",
        "outputId": "886877ab-25fe-4176-f364-5a255bc47734"
      },
      "execution_count": null,
      "outputs": [
        {
          "output_type": "stream",
          "name": "stdout",
          "text": [
            "Requirement already satisfied: plotly in /usr/local/lib/python3.10/dist-packages (5.15.0)\n",
            "Requirement already satisfied: tenacity>=6.2.0 in /usr/local/lib/python3.10/dist-packages (from plotly) (8.2.3)\n",
            "Requirement already satisfied: packaging in /usr/local/lib/python3.10/dist-packages (from plotly) (23.1)\n"
          ]
        }
      ]
    },
    {
      "cell_type": "code",
      "source": [
        "import cufflinks as cf"
      ],
      "metadata": {
        "id": "8bzDmJvLkUTM"
      },
      "execution_count": null,
      "outputs": []
    },
    {
      "cell_type": "code",
      "source": [
        "from plotly.offline import plot, iplot"
      ],
      "metadata": {
        "id": "zGr6h8p3lGaK"
      },
      "execution_count": null,
      "outputs": []
    },
    {
      "cell_type": "code",
      "source": [
        "!pip install chart_studio"
      ],
      "metadata": {
        "colab": {
          "base_uri": "https://localhost:8080/"
        },
        "id": "MQOK2-n-l4na",
        "outputId": "1ee58fed-8f4e-46f3-f32d-2cffe1713dad"
      },
      "execution_count": null,
      "outputs": [
        {
          "output_type": "stream",
          "name": "stdout",
          "text": [
            "Collecting chart_studio\n",
            "  Downloading chart_studio-1.1.0-py3-none-any.whl (64 kB)\n",
            "\u001b[?25l     \u001b[90m━━━━━━━━━━━━━━━━━━━━━━━━━━━━━━━━━━━━━━━━\u001b[0m \u001b[32m0.0/64.4 kB\u001b[0m \u001b[31m?\u001b[0m eta \u001b[36m-:--:--\u001b[0m\r\u001b[2K     \u001b[90m━━━━━━━━━━━━━━━━━━━━━━━━━━━━━━━━━━━━━━━━\u001b[0m \u001b[32m64.4/64.4 kB\u001b[0m \u001b[31m1.7 MB/s\u001b[0m eta \u001b[36m0:00:00\u001b[0m\n",
            "\u001b[?25hRequirement already satisfied: plotly in /usr/local/lib/python3.10/dist-packages (from chart_studio) (5.15.0)\n",
            "Requirement already satisfied: requests in /usr/local/lib/python3.10/dist-packages (from chart_studio) (2.31.0)\n",
            "Collecting retrying>=1.3.3 (from chart_studio)\n",
            "  Downloading retrying-1.3.4-py3-none-any.whl (11 kB)\n",
            "Requirement already satisfied: six in /usr/local/lib/python3.10/dist-packages (from chart_studio) (1.16.0)\n",
            "Requirement already satisfied: tenacity>=6.2.0 in /usr/local/lib/python3.10/dist-packages (from plotly->chart_studio) (8.2.3)\n",
            "Requirement already satisfied: packaging in /usr/local/lib/python3.10/dist-packages (from plotly->chart_studio) (23.1)\n",
            "Requirement already satisfied: charset-normalizer<4,>=2 in /usr/local/lib/python3.10/dist-packages (from requests->chart_studio) (3.2.0)\n",
            "Requirement already satisfied: idna<4,>=2.5 in /usr/local/lib/python3.10/dist-packages (from requests->chart_studio) (3.4)\n",
            "Requirement already satisfied: urllib3<3,>=1.21.1 in /usr/local/lib/python3.10/dist-packages (from requests->chart_studio) (2.0.4)\n",
            "Requirement already satisfied: certifi>=2017.4.17 in /usr/local/lib/python3.10/dist-packages (from requests->chart_studio) (2023.7.22)\n",
            "Installing collected packages: retrying, chart_studio\n",
            "Successfully installed chart_studio-1.1.0 retrying-1.3.4\n"
          ]
        }
      ]
    },
    {
      "cell_type": "code",
      "source": [
        "import chart_studio\n",
        "chart_studio.tools.set_credentials_file(username='EltonG', api_key='LyQCIF6DAFVcX25lHlAg')"
      ],
      "metadata": {
        "id": "AMbzbiaTmNrr"
      },
      "execution_count": null,
      "outputs": []
    },
    {
      "cell_type": "code",
      "source": [
        "import chart_studio.plotly as py"
      ],
      "metadata": {
        "id": "xkV2bFItmjly"
      },
      "execution_count": null,
      "outputs": []
    },
    {
      "cell_type": "code",
      "source": [
        "import pandas as pd"
      ],
      "metadata": {
        "id": "kJwerqLumsOp"
      },
      "execution_count": null,
      "outputs": []
    },
    {
      "cell_type": "code",
      "source": [
        "import numpy as np"
      ],
      "metadata": {
        "id": "Xf8CF4f1myCg"
      },
      "execution_count": null,
      "outputs": []
    },
    {
      "cell_type": "code",
      "source": [
        "import plotly.graph_objects as go"
      ],
      "metadata": {
        "id": "ZKTuAQnvm1BH"
      },
      "execution_count": null,
      "outputs": []
    },
    {
      "cell_type": "code",
      "source": [
        "import plotly.io as pio"
      ],
      "metadata": {
        "id": "UyMUojtfm4Y7"
      },
      "execution_count": null,
      "outputs": []
    },
    {
      "cell_type": "code",
      "source": [
        "df = pd.read_csv(\"/content/drive/MyDrive/olist_classified_public_dataset.csv\")"
      ],
      "metadata": {
        "id": "L26KvfmUnWSs"
      },
      "execution_count": null,
      "outputs": []
    },
    {
      "cell_type": "code",
      "source": [
        "df.head()"
      ],
      "metadata": {
        "colab": {
          "base_uri": "https://localhost:8080/",
          "height": 355
        },
        "id": "dUDcDbjGnX07",
        "outputId": "ee19e300-fca3-4400-cb2f-27a83af78d38"
      },
      "execution_count": null,
      "outputs": [
        {
          "output_type": "execute_result",
          "data": {
            "text/plain": [
              "   Unnamed: 0  id order_status  order_products_value  order_freight_value  \\\n",
              "0           0   1    delivered                 89.99                14.38   \n",
              "1           1   2    delivered                 69.00                15.23   \n",
              "2           2   3    delivered                 99.80                15.86   \n",
              "3           3   4    delivered                 87.00                12.74   \n",
              "4           4   5    delivered                 99.90                17.95   \n",
              "\n",
              "   order_items_qty  order_sellers_qty    order_purchase_timestamp  \\\n",
              "0                1                  1  2017-08-30 11:41:01.000000   \n",
              "1                1                  1  2017-09-26 09:13:36.000000   \n",
              "2                2                  4  2018-01-15 15:50:42.000000   \n",
              "3                1                  1  2018-02-04 11:16:42.000000   \n",
              "4                1                  2  2017-12-07 11:58:42.000000   \n",
              "\n",
              "             order_aproved_at order_estimated_delivery_date  ...  \\\n",
              "0  2017-08-30 11:55:08.970352    2017-09-21 00:00:00.000000  ...   \n",
              "1  2017-09-26 09:28:10.922048    2017-10-24 00:00:00.000000  ...   \n",
              "2  2018-01-17 07:29:56.419769    2018-02-05 00:00:00.000000  ...   \n",
              "3  2018-02-06 05:31:50.990164    2018-03-13 00:00:00.000000  ...   \n",
              "4  2017-12-08 02:36:49.587515    2018-01-03 00:00:00.000000  ...   \n",
              "\n",
              "  votes_delayed votes_low_quality votes_return  votes_not_as_anounced  \\\n",
              "0             0                 0            0                      0   \n",
              "1             0                 0            0                      0   \n",
              "2             0                 0            0                      0   \n",
              "3             3                 0            0                      0   \n",
              "4             0                 0            0                      0   \n",
              "\n",
              "  votes_partial_delivery  votes_other_delivery  votes_other_order  \\\n",
              "0                      0                     0                  0   \n",
              "1                      0                     0                  0   \n",
              "2                      3                     0                  0   \n",
              "3                      0                     0                  0   \n",
              "4                      3                     0                  0   \n",
              "\n",
              "   votes_satisfied  most_voted_subclass       most_voted_class  \n",
              "0                3           satisfeito  satisfeito_com_pedido  \n",
              "1                0          antes_prazo  satisfeito_com_pedido  \n",
              "2                0      entrega_parcial   problemas_de_entrega  \n",
              "3                0             atrasado   problemas_de_entrega  \n",
              "4                0      entrega_parcial   problemas_de_entrega  \n",
              "\n",
              "[5 rows x 34 columns]"
            ],
            "text/html": [
              "\n",
              "  <div id=\"df-704c3e8f-3d53-4486-8379-a16b2c7cfcd6\" class=\"colab-df-container\">\n",
              "    <div>\n",
              "<style scoped>\n",
              "    .dataframe tbody tr th:only-of-type {\n",
              "        vertical-align: middle;\n",
              "    }\n",
              "\n",
              "    .dataframe tbody tr th {\n",
              "        vertical-align: top;\n",
              "    }\n",
              "\n",
              "    .dataframe thead th {\n",
              "        text-align: right;\n",
              "    }\n",
              "</style>\n",
              "<table border=\"1\" class=\"dataframe\">\n",
              "  <thead>\n",
              "    <tr style=\"text-align: right;\">\n",
              "      <th></th>\n",
              "      <th>Unnamed: 0</th>\n",
              "      <th>id</th>\n",
              "      <th>order_status</th>\n",
              "      <th>order_products_value</th>\n",
              "      <th>order_freight_value</th>\n",
              "      <th>order_items_qty</th>\n",
              "      <th>order_sellers_qty</th>\n",
              "      <th>order_purchase_timestamp</th>\n",
              "      <th>order_aproved_at</th>\n",
              "      <th>order_estimated_delivery_date</th>\n",
              "      <th>...</th>\n",
              "      <th>votes_delayed</th>\n",
              "      <th>votes_low_quality</th>\n",
              "      <th>votes_return</th>\n",
              "      <th>votes_not_as_anounced</th>\n",
              "      <th>votes_partial_delivery</th>\n",
              "      <th>votes_other_delivery</th>\n",
              "      <th>votes_other_order</th>\n",
              "      <th>votes_satisfied</th>\n",
              "      <th>most_voted_subclass</th>\n",
              "      <th>most_voted_class</th>\n",
              "    </tr>\n",
              "  </thead>\n",
              "  <tbody>\n",
              "    <tr>\n",
              "      <th>0</th>\n",
              "      <td>0</td>\n",
              "      <td>1</td>\n",
              "      <td>delivered</td>\n",
              "      <td>89.99</td>\n",
              "      <td>14.38</td>\n",
              "      <td>1</td>\n",
              "      <td>1</td>\n",
              "      <td>2017-08-30 11:41:01.000000</td>\n",
              "      <td>2017-08-30 11:55:08.970352</td>\n",
              "      <td>2017-09-21 00:00:00.000000</td>\n",
              "      <td>...</td>\n",
              "      <td>0</td>\n",
              "      <td>0</td>\n",
              "      <td>0</td>\n",
              "      <td>0</td>\n",
              "      <td>0</td>\n",
              "      <td>0</td>\n",
              "      <td>0</td>\n",
              "      <td>3</td>\n",
              "      <td>satisfeito</td>\n",
              "      <td>satisfeito_com_pedido</td>\n",
              "    </tr>\n",
              "    <tr>\n",
              "      <th>1</th>\n",
              "      <td>1</td>\n",
              "      <td>2</td>\n",
              "      <td>delivered</td>\n",
              "      <td>69.00</td>\n",
              "      <td>15.23</td>\n",
              "      <td>1</td>\n",
              "      <td>1</td>\n",
              "      <td>2017-09-26 09:13:36.000000</td>\n",
              "      <td>2017-09-26 09:28:10.922048</td>\n",
              "      <td>2017-10-24 00:00:00.000000</td>\n",
              "      <td>...</td>\n",
              "      <td>0</td>\n",
              "      <td>0</td>\n",
              "      <td>0</td>\n",
              "      <td>0</td>\n",
              "      <td>0</td>\n",
              "      <td>0</td>\n",
              "      <td>0</td>\n",
              "      <td>0</td>\n",
              "      <td>antes_prazo</td>\n",
              "      <td>satisfeito_com_pedido</td>\n",
              "    </tr>\n",
              "    <tr>\n",
              "      <th>2</th>\n",
              "      <td>2</td>\n",
              "      <td>3</td>\n",
              "      <td>delivered</td>\n",
              "      <td>99.80</td>\n",
              "      <td>15.86</td>\n",
              "      <td>2</td>\n",
              "      <td>4</td>\n",
              "      <td>2018-01-15 15:50:42.000000</td>\n",
              "      <td>2018-01-17 07:29:56.419769</td>\n",
              "      <td>2018-02-05 00:00:00.000000</td>\n",
              "      <td>...</td>\n",
              "      <td>0</td>\n",
              "      <td>0</td>\n",
              "      <td>0</td>\n",
              "      <td>0</td>\n",
              "      <td>3</td>\n",
              "      <td>0</td>\n",
              "      <td>0</td>\n",
              "      <td>0</td>\n",
              "      <td>entrega_parcial</td>\n",
              "      <td>problemas_de_entrega</td>\n",
              "    </tr>\n",
              "    <tr>\n",
              "      <th>3</th>\n",
              "      <td>3</td>\n",
              "      <td>4</td>\n",
              "      <td>delivered</td>\n",
              "      <td>87.00</td>\n",
              "      <td>12.74</td>\n",
              "      <td>1</td>\n",
              "      <td>1</td>\n",
              "      <td>2018-02-04 11:16:42.000000</td>\n",
              "      <td>2018-02-06 05:31:50.990164</td>\n",
              "      <td>2018-03-13 00:00:00.000000</td>\n",
              "      <td>...</td>\n",
              "      <td>3</td>\n",
              "      <td>0</td>\n",
              "      <td>0</td>\n",
              "      <td>0</td>\n",
              "      <td>0</td>\n",
              "      <td>0</td>\n",
              "      <td>0</td>\n",
              "      <td>0</td>\n",
              "      <td>atrasado</td>\n",
              "      <td>problemas_de_entrega</td>\n",
              "    </tr>\n",
              "    <tr>\n",
              "      <th>4</th>\n",
              "      <td>4</td>\n",
              "      <td>5</td>\n",
              "      <td>delivered</td>\n",
              "      <td>99.90</td>\n",
              "      <td>17.95</td>\n",
              "      <td>1</td>\n",
              "      <td>2</td>\n",
              "      <td>2017-12-07 11:58:42.000000</td>\n",
              "      <td>2017-12-08 02:36:49.587515</td>\n",
              "      <td>2018-01-03 00:00:00.000000</td>\n",
              "      <td>...</td>\n",
              "      <td>0</td>\n",
              "      <td>0</td>\n",
              "      <td>0</td>\n",
              "      <td>0</td>\n",
              "      <td>3</td>\n",
              "      <td>0</td>\n",
              "      <td>0</td>\n",
              "      <td>0</td>\n",
              "      <td>entrega_parcial</td>\n",
              "      <td>problemas_de_entrega</td>\n",
              "    </tr>\n",
              "  </tbody>\n",
              "</table>\n",
              "<p>5 rows × 34 columns</p>\n",
              "</div>\n",
              "    <div class=\"colab-df-buttons\">\n",
              "\n",
              "  <div class=\"colab-df-container\">\n",
              "    <button class=\"colab-df-convert\" onclick=\"convertToInteractive('df-704c3e8f-3d53-4486-8379-a16b2c7cfcd6')\"\n",
              "            title=\"Convert this dataframe to an interactive table.\"\n",
              "            style=\"display:none;\">\n",
              "\n",
              "  <svg xmlns=\"http://www.w3.org/2000/svg\" height=\"24px\" viewBox=\"0 -960 960 960\">\n",
              "    <path d=\"M120-120v-720h720v720H120Zm60-500h600v-160H180v160Zm220 220h160v-160H400v160Zm0 220h160v-160H400v160ZM180-400h160v-160H180v160Zm440 0h160v-160H620v160ZM180-180h160v-160H180v160Zm440 0h160v-160H620v160Z\"/>\n",
              "  </svg>\n",
              "    </button>\n",
              "\n",
              "  <style>\n",
              "    .colab-df-container {\n",
              "      display:flex;\n",
              "      gap: 12px;\n",
              "    }\n",
              "\n",
              "    .colab-df-convert {\n",
              "      background-color: #E8F0FE;\n",
              "      border: none;\n",
              "      border-radius: 50%;\n",
              "      cursor: pointer;\n",
              "      display: none;\n",
              "      fill: #1967D2;\n",
              "      height: 32px;\n",
              "      padding: 0 0 0 0;\n",
              "      width: 32px;\n",
              "    }\n",
              "\n",
              "    .colab-df-convert:hover {\n",
              "      background-color: #E2EBFA;\n",
              "      box-shadow: 0px 1px 2px rgba(60, 64, 67, 0.3), 0px 1px 3px 1px rgba(60, 64, 67, 0.15);\n",
              "      fill: #174EA6;\n",
              "    }\n",
              "\n",
              "    .colab-df-buttons div {\n",
              "      margin-bottom: 4px;\n",
              "    }\n",
              "\n",
              "    [theme=dark] .colab-df-convert {\n",
              "      background-color: #3B4455;\n",
              "      fill: #D2E3FC;\n",
              "    }\n",
              "\n",
              "    [theme=dark] .colab-df-convert:hover {\n",
              "      background-color: #434B5C;\n",
              "      box-shadow: 0px 1px 3px 1px rgba(0, 0, 0, 0.15);\n",
              "      filter: drop-shadow(0px 1px 2px rgba(0, 0, 0, 0.3));\n",
              "      fill: #FFFFFF;\n",
              "    }\n",
              "  </style>\n",
              "\n",
              "    <script>\n",
              "      const buttonEl =\n",
              "        document.querySelector('#df-704c3e8f-3d53-4486-8379-a16b2c7cfcd6 button.colab-df-convert');\n",
              "      buttonEl.style.display =\n",
              "        google.colab.kernel.accessAllowed ? 'block' : 'none';\n",
              "\n",
              "      async function convertToInteractive(key) {\n",
              "        const element = document.querySelector('#df-704c3e8f-3d53-4486-8379-a16b2c7cfcd6');\n",
              "        const dataTable =\n",
              "          await google.colab.kernel.invokeFunction('convertToInteractive',\n",
              "                                                    [key], {});\n",
              "        if (!dataTable) return;\n",
              "\n",
              "        const docLinkHtml = 'Like what you see? Visit the ' +\n",
              "          '<a target=\"_blank\" href=https://colab.research.google.com/notebooks/data_table.ipynb>data table notebook</a>'\n",
              "          + ' to learn more about interactive tables.';\n",
              "        element.innerHTML = '';\n",
              "        dataTable['output_type'] = 'display_data';\n",
              "        await google.colab.output.renderOutput(dataTable, element);\n",
              "        const docLink = document.createElement('div');\n",
              "        docLink.innerHTML = docLinkHtml;\n",
              "        element.appendChild(docLink);\n",
              "      }\n",
              "    </script>\n",
              "  </div>\n",
              "\n",
              "\n",
              "<div id=\"df-7de4d3dc-90cc-4e5c-97ee-2c242b73303a\">\n",
              "  <button class=\"colab-df-quickchart\" onclick=\"quickchart('df-7de4d3dc-90cc-4e5c-97ee-2c242b73303a')\"\n",
              "            title=\"Suggest charts.\"\n",
              "            style=\"display:none;\">\n",
              "\n",
              "<svg xmlns=\"http://www.w3.org/2000/svg\" height=\"24px\"viewBox=\"0 0 24 24\"\n",
              "     width=\"24px\">\n",
              "    <g>\n",
              "        <path d=\"M19 3H5c-1.1 0-2 .9-2 2v14c0 1.1.9 2 2 2h14c1.1 0 2-.9 2-2V5c0-1.1-.9-2-2-2zM9 17H7v-7h2v7zm4 0h-2V7h2v10zm4 0h-2v-4h2v4z\"/>\n",
              "    </g>\n",
              "</svg>\n",
              "  </button>\n",
              "\n",
              "<style>\n",
              "  .colab-df-quickchart {\n",
              "      --bg-color: #E8F0FE;\n",
              "      --fill-color: #1967D2;\n",
              "      --hover-bg-color: #E2EBFA;\n",
              "      --hover-fill-color: #174EA6;\n",
              "      --disabled-fill-color: #AAA;\n",
              "      --disabled-bg-color: #DDD;\n",
              "  }\n",
              "\n",
              "  [theme=dark] .colab-df-quickchart {\n",
              "      --bg-color: #3B4455;\n",
              "      --fill-color: #D2E3FC;\n",
              "      --hover-bg-color: #434B5C;\n",
              "      --hover-fill-color: #FFFFFF;\n",
              "      --disabled-bg-color: #3B4455;\n",
              "      --disabled-fill-color: #666;\n",
              "  }\n",
              "\n",
              "  .colab-df-quickchart {\n",
              "    background-color: var(--bg-color);\n",
              "    border: none;\n",
              "    border-radius: 50%;\n",
              "    cursor: pointer;\n",
              "    display: none;\n",
              "    fill: var(--fill-color);\n",
              "    height: 32px;\n",
              "    padding: 0;\n",
              "    width: 32px;\n",
              "  }\n",
              "\n",
              "  .colab-df-quickchart:hover {\n",
              "    background-color: var(--hover-bg-color);\n",
              "    box-shadow: 0 1px 2px rgba(60, 64, 67, 0.3), 0 1px 3px 1px rgba(60, 64, 67, 0.15);\n",
              "    fill: var(--button-hover-fill-color);\n",
              "  }\n",
              "\n",
              "  .colab-df-quickchart-complete:disabled,\n",
              "  .colab-df-quickchart-complete:disabled:hover {\n",
              "    background-color: var(--disabled-bg-color);\n",
              "    fill: var(--disabled-fill-color);\n",
              "    box-shadow: none;\n",
              "  }\n",
              "\n",
              "  .colab-df-spinner {\n",
              "    border: 2px solid var(--fill-color);\n",
              "    border-color: transparent;\n",
              "    border-bottom-color: var(--fill-color);\n",
              "    animation:\n",
              "      spin 1s steps(1) infinite;\n",
              "  }\n",
              "\n",
              "  @keyframes spin {\n",
              "    0% {\n",
              "      border-color: transparent;\n",
              "      border-bottom-color: var(--fill-color);\n",
              "      border-left-color: var(--fill-color);\n",
              "    }\n",
              "    20% {\n",
              "      border-color: transparent;\n",
              "      border-left-color: var(--fill-color);\n",
              "      border-top-color: var(--fill-color);\n",
              "    }\n",
              "    30% {\n",
              "      border-color: transparent;\n",
              "      border-left-color: var(--fill-color);\n",
              "      border-top-color: var(--fill-color);\n",
              "      border-right-color: var(--fill-color);\n",
              "    }\n",
              "    40% {\n",
              "      border-color: transparent;\n",
              "      border-right-color: var(--fill-color);\n",
              "      border-top-color: var(--fill-color);\n",
              "    }\n",
              "    60% {\n",
              "      border-color: transparent;\n",
              "      border-right-color: var(--fill-color);\n",
              "    }\n",
              "    80% {\n",
              "      border-color: transparent;\n",
              "      border-right-color: var(--fill-color);\n",
              "      border-bottom-color: var(--fill-color);\n",
              "    }\n",
              "    90% {\n",
              "      border-color: transparent;\n",
              "      border-bottom-color: var(--fill-color);\n",
              "    }\n",
              "  }\n",
              "</style>\n",
              "\n",
              "  <script>\n",
              "    async function quickchart(key) {\n",
              "      const quickchartButtonEl =\n",
              "        document.querySelector('#' + key + ' button');\n",
              "      quickchartButtonEl.disabled = true;  // To prevent multiple clicks.\n",
              "      quickchartButtonEl.classList.add('colab-df-spinner');\n",
              "      try {\n",
              "        const charts = await google.colab.kernel.invokeFunction(\n",
              "            'suggestCharts', [key], {});\n",
              "      } catch (error) {\n",
              "        console.error('Error during call to suggestCharts:', error);\n",
              "      }\n",
              "      quickchartButtonEl.classList.remove('colab-df-spinner');\n",
              "      quickchartButtonEl.classList.add('colab-df-quickchart-complete');\n",
              "    }\n",
              "    (() => {\n",
              "      let quickchartButtonEl =\n",
              "        document.querySelector('#df-7de4d3dc-90cc-4e5c-97ee-2c242b73303a button');\n",
              "      quickchartButtonEl.style.display =\n",
              "        google.colab.kernel.accessAllowed ? 'block' : 'none';\n",
              "    })();\n",
              "  </script>\n",
              "</div>\n",
              "    </div>\n",
              "  </div>\n"
            ]
          },
          "metadata": {},
          "execution_count": 15
        }
      ]
    },
    {
      "cell_type": "code",
      "source": [
        "df.info()"
      ],
      "metadata": {
        "colab": {
          "base_uri": "https://localhost:8080/"
        },
        "id": "8N4zimhynawJ",
        "outputId": "901b7b92-f208-46c6-9f26-a73b3d308d37"
      },
      "execution_count": null,
      "outputs": [
        {
          "output_type": "stream",
          "name": "stdout",
          "text": [
            "<class 'pandas.core.frame.DataFrame'>\n",
            "RangeIndex: 3584 entries, 0 to 3583\n",
            "Data columns (total 34 columns):\n",
            " #   Column                         Non-Null Count  Dtype  \n",
            "---  ------                         --------------  -----  \n",
            " 0   Unnamed: 0                     3584 non-null   int64  \n",
            " 1   id                             3584 non-null   int64  \n",
            " 2   order_status                   3584 non-null   object \n",
            " 3   order_products_value           3584 non-null   float64\n",
            " 4   order_freight_value            3584 non-null   float64\n",
            " 5   order_items_qty                3584 non-null   int64  \n",
            " 6   order_sellers_qty              3584 non-null   int64  \n",
            " 7   order_purchase_timestamp       3584 non-null   object \n",
            " 8   order_aproved_at               3584 non-null   object \n",
            " 9   order_estimated_delivery_date  3584 non-null   object \n",
            " 10  order_delivered_customer_date  3467 non-null   object \n",
            " 11  customer_city                  3584 non-null   object \n",
            " 12  customer_state                 3584 non-null   object \n",
            " 13  customer_zip_code_prefix       3584 non-null   int64  \n",
            " 14  product_category_name          3584 non-null   object \n",
            " 15  product_name_lenght            3584 non-null   int64  \n",
            " 16  product_description_lenght     3584 non-null   int64  \n",
            " 17  product_photos_qty             3584 non-null   int64  \n",
            " 18  review_score                   3584 non-null   int64  \n",
            " 19  review_comment_title           0 non-null      float64\n",
            " 20  review_comment_message         3584 non-null   object \n",
            " 21  review_creation_date           3584 non-null   object \n",
            " 22  review_answer_timestamp        3584 non-null   object \n",
            " 23  votes_before_estimate          3584 non-null   int64  \n",
            " 24  votes_delayed                  3584 non-null   int64  \n",
            " 25  votes_low_quality              3584 non-null   int64  \n",
            " 26  votes_return                   3584 non-null   int64  \n",
            " 27  votes_not_as_anounced          3584 non-null   int64  \n",
            " 28  votes_partial_delivery         3584 non-null   int64  \n",
            " 29  votes_other_delivery           3584 non-null   int64  \n",
            " 30  votes_other_order              3584 non-null   int64  \n",
            " 31  votes_satisfied                3584 non-null   int64  \n",
            " 32  most_voted_subclass            3413 non-null   object \n",
            " 33  most_voted_class               3413 non-null   object \n",
            "dtypes: float64(3), int64(18), object(13)\n",
            "memory usage: 952.1+ KB\n"
          ]
        }
      ]
    },
    {
      "cell_type": "code",
      "source": [
        "df.order_status.value_counts().iplot(kind=\"bar\")"
      ],
      "metadata": {
        "colab": {
          "base_uri": "https://localhost:8080/",
          "height": 546
        },
        "id": "b1SEEBkEnjWV",
        "outputId": "25941996-b3de-49f5-e3bd-1e529fd27dbf"
      },
      "execution_count": null,
      "outputs": [
        {
          "output_type": "execute_result",
          "data": {
            "text/plain": [
              "<IPython.lib.display.IFrame at 0x7a1e3f3ac7f0>"
            ],
            "text/html": [
              "\n",
              "        <iframe\n",
              "            width=\"100%\"\n",
              "            height=\"525px\"\n",
              "            src=\"https://plotly.com/~EltonG/36.embed\"\n",
              "            frameborder=\"0\"\n",
              "            allowfullscreen\n",
              "            \n",
              "        ></iframe>\n",
              "        "
            ]
          },
          "metadata": {},
          "execution_count": 19
        }
      ]
    },
    {
      "cell_type": "code",
      "source": [
        "# Transformando colunas para formato datetime\n",
        "df.order_purchase_timestamp = pd.to_datetime(df.order_purchase_timestamp)"
      ],
      "metadata": {
        "id": "DwA_ihOzrjkz"
      },
      "execution_count": null,
      "outputs": []
    },
    {
      "cell_type": "code",
      "source": [
        "# Vizualizando as colunas em Datetime\n",
        "df.info()"
      ],
      "metadata": {
        "colab": {
          "base_uri": "https://localhost:8080/"
        },
        "id": "FN_zIgfnrsPc",
        "outputId": "ae704c34-7488-458d-9430-9f0e61a20aa8"
      },
      "execution_count": null,
      "outputs": [
        {
          "output_type": "stream",
          "name": "stdout",
          "text": [
            "<class 'pandas.core.frame.DataFrame'>\n",
            "RangeIndex: 3584 entries, 0 to 3583\n",
            "Data columns (total 34 columns):\n",
            " #   Column                         Non-Null Count  Dtype         \n",
            "---  ------                         --------------  -----         \n",
            " 0   Unnamed: 0                     3584 non-null   int64         \n",
            " 1   id                             3584 non-null   int64         \n",
            " 2   order_status                   3584 non-null   object        \n",
            " 3   order_products_value           3584 non-null   float64       \n",
            " 4   order_freight_value            3584 non-null   float64       \n",
            " 5   order_items_qty                3584 non-null   int64         \n",
            " 6   order_sellers_qty              3584 non-null   int64         \n",
            " 7   order_purchase_timestamp       3584 non-null   datetime64[ns]\n",
            " 8   order_aproved_at               3584 non-null   object        \n",
            " 9   order_estimated_delivery_date  3584 non-null   object        \n",
            " 10  order_delivered_customer_date  3467 non-null   object        \n",
            " 11  customer_city                  3584 non-null   object        \n",
            " 12  customer_state                 3584 non-null   object        \n",
            " 13  customer_zip_code_prefix       3584 non-null   int64         \n",
            " 14  product_category_name          3584 non-null   object        \n",
            " 15  product_name_lenght            3584 non-null   int64         \n",
            " 16  product_description_lenght     3584 non-null   int64         \n",
            " 17  product_photos_qty             3584 non-null   int64         \n",
            " 18  review_score                   3584 non-null   int64         \n",
            " 19  review_comment_title           0 non-null      float64       \n",
            " 20  review_comment_message         3584 non-null   object        \n",
            " 21  review_creation_date           3584 non-null   object        \n",
            " 22  review_answer_timestamp        3584 non-null   object        \n",
            " 23  votes_before_estimate          3584 non-null   int64         \n",
            " 24  votes_delayed                  3584 non-null   int64         \n",
            " 25  votes_low_quality              3584 non-null   int64         \n",
            " 26  votes_return                   3584 non-null   int64         \n",
            " 27  votes_not_as_anounced          3584 non-null   int64         \n",
            " 28  votes_partial_delivery         3584 non-null   int64         \n",
            " 29  votes_other_delivery           3584 non-null   int64         \n",
            " 30  votes_other_order              3584 non-null   int64         \n",
            " 31  votes_satisfied                3584 non-null   int64         \n",
            " 32  most_voted_subclass            3413 non-null   object        \n",
            " 33  most_voted_class               3413 non-null   object        \n",
            "dtypes: datetime64[ns](1), float64(3), int64(18), object(12)\n",
            "memory usage: 952.1+ KB\n"
          ]
        }
      ]
    },
    {
      "cell_type": "code",
      "source": [
        "df['order_purchase_month'] = df.order_purchase_timestamp.dt.to_period('M').astype(str)"
      ],
      "metadata": {
        "id": "dLfFngGwryO9"
      },
      "execution_count": null,
      "outputs": []
    },
    {
      "cell_type": "code",
      "source": [
        "df.order_purchase_month"
      ],
      "metadata": {
        "colab": {
          "base_uri": "https://localhost:8080/"
        },
        "id": "YqtR1yv-sQI1",
        "outputId": "facbbacd-2a57-4aa2-81ca-04fc91fba9c3"
      },
      "execution_count": null,
      "outputs": [
        {
          "output_type": "execute_result",
          "data": {
            "text/plain": [
              "0       2017-08\n",
              "1       2017-09\n",
              "2       2018-01\n",
              "3       2018-02\n",
              "4       2017-12\n",
              "         ...   \n",
              "3579    2017-11\n",
              "3580    2017-05\n",
              "3581    2017-05\n",
              "3582    2017-09\n",
              "3583    2017-08\n",
              "Name: order_purchase_month, Length: 3584, dtype: object"
            ]
          },
          "metadata": {},
          "execution_count": 23
        }
      ]
    },
    {
      "cell_type": "code",
      "source": [
        "df.head()"
      ],
      "metadata": {
        "colab": {
          "base_uri": "https://localhost:8080/",
          "height": 355
        },
        "id": "aY10FSVEsVoa",
        "outputId": "3c4b1b78-4366-401b-db35-9c037ea071e8"
      },
      "execution_count": null,
      "outputs": [
        {
          "output_type": "execute_result",
          "data": {
            "text/plain": [
              "   Unnamed: 0  id order_status  order_products_value  order_freight_value  \\\n",
              "0           0   1    delivered                 89.99                14.38   \n",
              "1           1   2    delivered                 69.00                15.23   \n",
              "2           2   3    delivered                 99.80                15.86   \n",
              "3           3   4    delivered                 87.00                12.74   \n",
              "4           4   5    delivered                 99.90                17.95   \n",
              "\n",
              "   order_items_qty  order_sellers_qty order_purchase_timestamp  \\\n",
              "0                1                  1      2017-08-30 11:41:01   \n",
              "1                1                  1      2017-09-26 09:13:36   \n",
              "2                2                  4      2018-01-15 15:50:42   \n",
              "3                1                  1      2018-02-04 11:16:42   \n",
              "4                1                  2      2017-12-07 11:58:42   \n",
              "\n",
              "             order_aproved_at order_estimated_delivery_date  ...  \\\n",
              "0  2017-08-30 11:55:08.970352    2017-09-21 00:00:00.000000  ...   \n",
              "1  2017-09-26 09:28:10.922048    2017-10-24 00:00:00.000000  ...   \n",
              "2  2018-01-17 07:29:56.419769    2018-02-05 00:00:00.000000  ...   \n",
              "3  2018-02-06 05:31:50.990164    2018-03-13 00:00:00.000000  ...   \n",
              "4  2017-12-08 02:36:49.587515    2018-01-03 00:00:00.000000  ...   \n",
              "\n",
              "  votes_low_quality votes_return votes_not_as_anounced  \\\n",
              "0                 0            0                     0   \n",
              "1                 0            0                     0   \n",
              "2                 0            0                     0   \n",
              "3                 0            0                     0   \n",
              "4                 0            0                     0   \n",
              "\n",
              "   votes_partial_delivery votes_other_delivery  votes_other_order  \\\n",
              "0                       0                    0                  0   \n",
              "1                       0                    0                  0   \n",
              "2                       3                    0                  0   \n",
              "3                       0                    0                  0   \n",
              "4                       3                    0                  0   \n",
              "\n",
              "   votes_satisfied  most_voted_subclass       most_voted_class  \\\n",
              "0                3           satisfeito  satisfeito_com_pedido   \n",
              "1                0          antes_prazo  satisfeito_com_pedido   \n",
              "2                0      entrega_parcial   problemas_de_entrega   \n",
              "3                0             atrasado   problemas_de_entrega   \n",
              "4                0      entrega_parcial   problemas_de_entrega   \n",
              "\n",
              "   order_purchase_month  \n",
              "0               2017-08  \n",
              "1               2017-09  \n",
              "2               2018-01  \n",
              "3               2018-02  \n",
              "4               2017-12  \n",
              "\n",
              "[5 rows x 35 columns]"
            ],
            "text/html": [
              "\n",
              "  <div id=\"df-435377c6-e0cd-4c12-8c09-e9213171f67e\" class=\"colab-df-container\">\n",
              "    <div>\n",
              "<style scoped>\n",
              "    .dataframe tbody tr th:only-of-type {\n",
              "        vertical-align: middle;\n",
              "    }\n",
              "\n",
              "    .dataframe tbody tr th {\n",
              "        vertical-align: top;\n",
              "    }\n",
              "\n",
              "    .dataframe thead th {\n",
              "        text-align: right;\n",
              "    }\n",
              "</style>\n",
              "<table border=\"1\" class=\"dataframe\">\n",
              "  <thead>\n",
              "    <tr style=\"text-align: right;\">\n",
              "      <th></th>\n",
              "      <th>Unnamed: 0</th>\n",
              "      <th>id</th>\n",
              "      <th>order_status</th>\n",
              "      <th>order_products_value</th>\n",
              "      <th>order_freight_value</th>\n",
              "      <th>order_items_qty</th>\n",
              "      <th>order_sellers_qty</th>\n",
              "      <th>order_purchase_timestamp</th>\n",
              "      <th>order_aproved_at</th>\n",
              "      <th>order_estimated_delivery_date</th>\n",
              "      <th>...</th>\n",
              "      <th>votes_low_quality</th>\n",
              "      <th>votes_return</th>\n",
              "      <th>votes_not_as_anounced</th>\n",
              "      <th>votes_partial_delivery</th>\n",
              "      <th>votes_other_delivery</th>\n",
              "      <th>votes_other_order</th>\n",
              "      <th>votes_satisfied</th>\n",
              "      <th>most_voted_subclass</th>\n",
              "      <th>most_voted_class</th>\n",
              "      <th>order_purchase_month</th>\n",
              "    </tr>\n",
              "  </thead>\n",
              "  <tbody>\n",
              "    <tr>\n",
              "      <th>0</th>\n",
              "      <td>0</td>\n",
              "      <td>1</td>\n",
              "      <td>delivered</td>\n",
              "      <td>89.99</td>\n",
              "      <td>14.38</td>\n",
              "      <td>1</td>\n",
              "      <td>1</td>\n",
              "      <td>2017-08-30 11:41:01</td>\n",
              "      <td>2017-08-30 11:55:08.970352</td>\n",
              "      <td>2017-09-21 00:00:00.000000</td>\n",
              "      <td>...</td>\n",
              "      <td>0</td>\n",
              "      <td>0</td>\n",
              "      <td>0</td>\n",
              "      <td>0</td>\n",
              "      <td>0</td>\n",
              "      <td>0</td>\n",
              "      <td>3</td>\n",
              "      <td>satisfeito</td>\n",
              "      <td>satisfeito_com_pedido</td>\n",
              "      <td>2017-08</td>\n",
              "    </tr>\n",
              "    <tr>\n",
              "      <th>1</th>\n",
              "      <td>1</td>\n",
              "      <td>2</td>\n",
              "      <td>delivered</td>\n",
              "      <td>69.00</td>\n",
              "      <td>15.23</td>\n",
              "      <td>1</td>\n",
              "      <td>1</td>\n",
              "      <td>2017-09-26 09:13:36</td>\n",
              "      <td>2017-09-26 09:28:10.922048</td>\n",
              "      <td>2017-10-24 00:00:00.000000</td>\n",
              "      <td>...</td>\n",
              "      <td>0</td>\n",
              "      <td>0</td>\n",
              "      <td>0</td>\n",
              "      <td>0</td>\n",
              "      <td>0</td>\n",
              "      <td>0</td>\n",
              "      <td>0</td>\n",
              "      <td>antes_prazo</td>\n",
              "      <td>satisfeito_com_pedido</td>\n",
              "      <td>2017-09</td>\n",
              "    </tr>\n",
              "    <tr>\n",
              "      <th>2</th>\n",
              "      <td>2</td>\n",
              "      <td>3</td>\n",
              "      <td>delivered</td>\n",
              "      <td>99.80</td>\n",
              "      <td>15.86</td>\n",
              "      <td>2</td>\n",
              "      <td>4</td>\n",
              "      <td>2018-01-15 15:50:42</td>\n",
              "      <td>2018-01-17 07:29:56.419769</td>\n",
              "      <td>2018-02-05 00:00:00.000000</td>\n",
              "      <td>...</td>\n",
              "      <td>0</td>\n",
              "      <td>0</td>\n",
              "      <td>0</td>\n",
              "      <td>3</td>\n",
              "      <td>0</td>\n",
              "      <td>0</td>\n",
              "      <td>0</td>\n",
              "      <td>entrega_parcial</td>\n",
              "      <td>problemas_de_entrega</td>\n",
              "      <td>2018-01</td>\n",
              "    </tr>\n",
              "    <tr>\n",
              "      <th>3</th>\n",
              "      <td>3</td>\n",
              "      <td>4</td>\n",
              "      <td>delivered</td>\n",
              "      <td>87.00</td>\n",
              "      <td>12.74</td>\n",
              "      <td>1</td>\n",
              "      <td>1</td>\n",
              "      <td>2018-02-04 11:16:42</td>\n",
              "      <td>2018-02-06 05:31:50.990164</td>\n",
              "      <td>2018-03-13 00:00:00.000000</td>\n",
              "      <td>...</td>\n",
              "      <td>0</td>\n",
              "      <td>0</td>\n",
              "      <td>0</td>\n",
              "      <td>0</td>\n",
              "      <td>0</td>\n",
              "      <td>0</td>\n",
              "      <td>0</td>\n",
              "      <td>atrasado</td>\n",
              "      <td>problemas_de_entrega</td>\n",
              "      <td>2018-02</td>\n",
              "    </tr>\n",
              "    <tr>\n",
              "      <th>4</th>\n",
              "      <td>4</td>\n",
              "      <td>5</td>\n",
              "      <td>delivered</td>\n",
              "      <td>99.90</td>\n",
              "      <td>17.95</td>\n",
              "      <td>1</td>\n",
              "      <td>2</td>\n",
              "      <td>2017-12-07 11:58:42</td>\n",
              "      <td>2017-12-08 02:36:49.587515</td>\n",
              "      <td>2018-01-03 00:00:00.000000</td>\n",
              "      <td>...</td>\n",
              "      <td>0</td>\n",
              "      <td>0</td>\n",
              "      <td>0</td>\n",
              "      <td>3</td>\n",
              "      <td>0</td>\n",
              "      <td>0</td>\n",
              "      <td>0</td>\n",
              "      <td>entrega_parcial</td>\n",
              "      <td>problemas_de_entrega</td>\n",
              "      <td>2017-12</td>\n",
              "    </tr>\n",
              "  </tbody>\n",
              "</table>\n",
              "<p>5 rows × 35 columns</p>\n",
              "</div>\n",
              "    <div class=\"colab-df-buttons\">\n",
              "\n",
              "  <div class=\"colab-df-container\">\n",
              "    <button class=\"colab-df-convert\" onclick=\"convertToInteractive('df-435377c6-e0cd-4c12-8c09-e9213171f67e')\"\n",
              "            title=\"Convert this dataframe to an interactive table.\"\n",
              "            style=\"display:none;\">\n",
              "\n",
              "  <svg xmlns=\"http://www.w3.org/2000/svg\" height=\"24px\" viewBox=\"0 -960 960 960\">\n",
              "    <path d=\"M120-120v-720h720v720H120Zm60-500h600v-160H180v160Zm220 220h160v-160H400v160Zm0 220h160v-160H400v160ZM180-400h160v-160H180v160Zm440 0h160v-160H620v160ZM180-180h160v-160H180v160Zm440 0h160v-160H620v160Z\"/>\n",
              "  </svg>\n",
              "    </button>\n",
              "\n",
              "  <style>\n",
              "    .colab-df-container {\n",
              "      display:flex;\n",
              "      gap: 12px;\n",
              "    }\n",
              "\n",
              "    .colab-df-convert {\n",
              "      background-color: #E8F0FE;\n",
              "      border: none;\n",
              "      border-radius: 50%;\n",
              "      cursor: pointer;\n",
              "      display: none;\n",
              "      fill: #1967D2;\n",
              "      height: 32px;\n",
              "      padding: 0 0 0 0;\n",
              "      width: 32px;\n",
              "    }\n",
              "\n",
              "    .colab-df-convert:hover {\n",
              "      background-color: #E2EBFA;\n",
              "      box-shadow: 0px 1px 2px rgba(60, 64, 67, 0.3), 0px 1px 3px 1px rgba(60, 64, 67, 0.15);\n",
              "      fill: #174EA6;\n",
              "    }\n",
              "\n",
              "    .colab-df-buttons div {\n",
              "      margin-bottom: 4px;\n",
              "    }\n",
              "\n",
              "    [theme=dark] .colab-df-convert {\n",
              "      background-color: #3B4455;\n",
              "      fill: #D2E3FC;\n",
              "    }\n",
              "\n",
              "    [theme=dark] .colab-df-convert:hover {\n",
              "      background-color: #434B5C;\n",
              "      box-shadow: 0px 1px 3px 1px rgba(0, 0, 0, 0.15);\n",
              "      filter: drop-shadow(0px 1px 2px rgba(0, 0, 0, 0.3));\n",
              "      fill: #FFFFFF;\n",
              "    }\n",
              "  </style>\n",
              "\n",
              "    <script>\n",
              "      const buttonEl =\n",
              "        document.querySelector('#df-435377c6-e0cd-4c12-8c09-e9213171f67e button.colab-df-convert');\n",
              "      buttonEl.style.display =\n",
              "        google.colab.kernel.accessAllowed ? 'block' : 'none';\n",
              "\n",
              "      async function convertToInteractive(key) {\n",
              "        const element = document.querySelector('#df-435377c6-e0cd-4c12-8c09-e9213171f67e');\n",
              "        const dataTable =\n",
              "          await google.colab.kernel.invokeFunction('convertToInteractive',\n",
              "                                                    [key], {});\n",
              "        if (!dataTable) return;\n",
              "\n",
              "        const docLinkHtml = 'Like what you see? Visit the ' +\n",
              "          '<a target=\"_blank\" href=https://colab.research.google.com/notebooks/data_table.ipynb>data table notebook</a>'\n",
              "          + ' to learn more about interactive tables.';\n",
              "        element.innerHTML = '';\n",
              "        dataTable['output_type'] = 'display_data';\n",
              "        await google.colab.output.renderOutput(dataTable, element);\n",
              "        const docLink = document.createElement('div');\n",
              "        docLink.innerHTML = docLinkHtml;\n",
              "        element.appendChild(docLink);\n",
              "      }\n",
              "    </script>\n",
              "  </div>\n",
              "\n",
              "\n",
              "<div id=\"df-20270481-c5dd-4513-b2ae-1299c6c8886a\">\n",
              "  <button class=\"colab-df-quickchart\" onclick=\"quickchart('df-20270481-c5dd-4513-b2ae-1299c6c8886a')\"\n",
              "            title=\"Suggest charts.\"\n",
              "            style=\"display:none;\">\n",
              "\n",
              "<svg xmlns=\"http://www.w3.org/2000/svg\" height=\"24px\"viewBox=\"0 0 24 24\"\n",
              "     width=\"24px\">\n",
              "    <g>\n",
              "        <path d=\"M19 3H5c-1.1 0-2 .9-2 2v14c0 1.1.9 2 2 2h14c1.1 0 2-.9 2-2V5c0-1.1-.9-2-2-2zM9 17H7v-7h2v7zm4 0h-2V7h2v10zm4 0h-2v-4h2v4z\"/>\n",
              "    </g>\n",
              "</svg>\n",
              "  </button>\n",
              "\n",
              "<style>\n",
              "  .colab-df-quickchart {\n",
              "      --bg-color: #E8F0FE;\n",
              "      --fill-color: #1967D2;\n",
              "      --hover-bg-color: #E2EBFA;\n",
              "      --hover-fill-color: #174EA6;\n",
              "      --disabled-fill-color: #AAA;\n",
              "      --disabled-bg-color: #DDD;\n",
              "  }\n",
              "\n",
              "  [theme=dark] .colab-df-quickchart {\n",
              "      --bg-color: #3B4455;\n",
              "      --fill-color: #D2E3FC;\n",
              "      --hover-bg-color: #434B5C;\n",
              "      --hover-fill-color: #FFFFFF;\n",
              "      --disabled-bg-color: #3B4455;\n",
              "      --disabled-fill-color: #666;\n",
              "  }\n",
              "\n",
              "  .colab-df-quickchart {\n",
              "    background-color: var(--bg-color);\n",
              "    border: none;\n",
              "    border-radius: 50%;\n",
              "    cursor: pointer;\n",
              "    display: none;\n",
              "    fill: var(--fill-color);\n",
              "    height: 32px;\n",
              "    padding: 0;\n",
              "    width: 32px;\n",
              "  }\n",
              "\n",
              "  .colab-df-quickchart:hover {\n",
              "    background-color: var(--hover-bg-color);\n",
              "    box-shadow: 0 1px 2px rgba(60, 64, 67, 0.3), 0 1px 3px 1px rgba(60, 64, 67, 0.15);\n",
              "    fill: var(--button-hover-fill-color);\n",
              "  }\n",
              "\n",
              "  .colab-df-quickchart-complete:disabled,\n",
              "  .colab-df-quickchart-complete:disabled:hover {\n",
              "    background-color: var(--disabled-bg-color);\n",
              "    fill: var(--disabled-fill-color);\n",
              "    box-shadow: none;\n",
              "  }\n",
              "\n",
              "  .colab-df-spinner {\n",
              "    border: 2px solid var(--fill-color);\n",
              "    border-color: transparent;\n",
              "    border-bottom-color: var(--fill-color);\n",
              "    animation:\n",
              "      spin 1s steps(1) infinite;\n",
              "  }\n",
              "\n",
              "  @keyframes spin {\n",
              "    0% {\n",
              "      border-color: transparent;\n",
              "      border-bottom-color: var(--fill-color);\n",
              "      border-left-color: var(--fill-color);\n",
              "    }\n",
              "    20% {\n",
              "      border-color: transparent;\n",
              "      border-left-color: var(--fill-color);\n",
              "      border-top-color: var(--fill-color);\n",
              "    }\n",
              "    30% {\n",
              "      border-color: transparent;\n",
              "      border-left-color: var(--fill-color);\n",
              "      border-top-color: var(--fill-color);\n",
              "      border-right-color: var(--fill-color);\n",
              "    }\n",
              "    40% {\n",
              "      border-color: transparent;\n",
              "      border-right-color: var(--fill-color);\n",
              "      border-top-color: var(--fill-color);\n",
              "    }\n",
              "    60% {\n",
              "      border-color: transparent;\n",
              "      border-right-color: var(--fill-color);\n",
              "    }\n",
              "    80% {\n",
              "      border-color: transparent;\n",
              "      border-right-color: var(--fill-color);\n",
              "      border-bottom-color: var(--fill-color);\n",
              "    }\n",
              "    90% {\n",
              "      border-color: transparent;\n",
              "      border-bottom-color: var(--fill-color);\n",
              "    }\n",
              "  }\n",
              "</style>\n",
              "\n",
              "  <script>\n",
              "    async function quickchart(key) {\n",
              "      const quickchartButtonEl =\n",
              "        document.querySelector('#' + key + ' button');\n",
              "      quickchartButtonEl.disabled = true;  // To prevent multiple clicks.\n",
              "      quickchartButtonEl.classList.add('colab-df-spinner');\n",
              "      try {\n",
              "        const charts = await google.colab.kernel.invokeFunction(\n",
              "            'suggestCharts', [key], {});\n",
              "      } catch (error) {\n",
              "        console.error('Error during call to suggestCharts:', error);\n",
              "      }\n",
              "      quickchartButtonEl.classList.remove('colab-df-spinner');\n",
              "      quickchartButtonEl.classList.add('colab-df-quickchart-complete');\n",
              "    }\n",
              "    (() => {\n",
              "      let quickchartButtonEl =\n",
              "        document.querySelector('#df-20270481-c5dd-4513-b2ae-1299c6c8886a button');\n",
              "      quickchartButtonEl.style.display =\n",
              "        google.colab.kernel.accessAllowed ? 'block' : 'none';\n",
              "    })();\n",
              "  </script>\n",
              "</div>\n",
              "    </div>\n",
              "  </div>\n"
            ]
          },
          "metadata": {},
          "execution_count": 24
        }
      ]
    },
    {
      "cell_type": "code",
      "source": [
        "vendas_por_mes = df.groupby(by='order_purchase_month').order_products_value.sum()\n",
        "type(vendas_por_mes)"
      ],
      "metadata": {
        "colab": {
          "base_uri": "https://localhost:8080/"
        },
        "id": "K2SKi6AqsYsz",
        "outputId": "61e3be59-2158-4615-eefd-0ce455fcebf1"
      },
      "execution_count": null,
      "outputs": [
        {
          "output_type": "execute_result",
          "data": {
            "text/plain": [
              "pandas.core.series.Series"
            ]
          },
          "metadata": {},
          "execution_count": 25
        }
      ]
    },
    {
      "cell_type": "code",
      "source": [
        "vendas_por_mes.head()"
      ],
      "metadata": {
        "colab": {
          "base_uri": "https://localhost:8080/"
        },
        "id": "KoSThMxas1Eo",
        "outputId": "e8d8e92d-0cdf-45a6-d5fe-eba149d2269d"
      },
      "execution_count": null,
      "outputs": [
        {
          "output_type": "execute_result",
          "data": {
            "text/plain": [
              "order_purchase_month\n",
              "2017-02        9.99\n",
              "2017-03      902.86\n",
              "2017-04    17654.19\n",
              "2017-05    25556.23\n",
              "2017-06    34172.86\n",
              "Name: order_products_value, dtype: float64"
            ]
          },
          "metadata": {},
          "execution_count": 26
        }
      ]
    },
    {
      "cell_type": "code",
      "source": [
        "vendas_por_mes.index.item"
      ],
      "metadata": {
        "colab": {
          "base_uri": "https://localhost:8080/"
        },
        "id": "nQn82qLVs4_B",
        "outputId": "e846a00f-6fee-4882-9b89-b9ca5bc9d233"
      },
      "execution_count": null,
      "outputs": [
        {
          "output_type": "execute_result",
          "data": {
            "text/plain": [
              "<bound method IndexOpsMixin.item of Index(['2017-02', '2017-03', '2017-04', '2017-05', '2017-06', '2017-07',\n",
              "       '2017-08', '2017-09', '2017-10', '2017-11', '2017-12', '2018-01',\n",
              "       '2018-02', '2018-03', '2018-04'],\n",
              "      dtype='object', name='order_purchase_month')>"
            ]
          },
          "metadata": {},
          "execution_count": 27
        }
      ]
    },
    {
      "cell_type": "code",
      "source": [
        "vendas_por_mes.values"
      ],
      "metadata": {
        "colab": {
          "base_uri": "https://localhost:8080/"
        },
        "id": "yc8o-A98s8rX",
        "outputId": "e62f70fa-ea6c-4859-e96e-649009ac7629"
      },
      "execution_count": null,
      "outputs": [
        {
          "output_type": "execute_result",
          "data": {
            "text/plain": [
              "array([9.990000e+00, 9.028600e+02, 1.765419e+04, 2.555623e+04,\n",
              "       3.417286e+04, 4.728474e+04, 3.989885e+04, 4.546220e+04,\n",
              "       4.091040e+04, 5.537392e+04, 4.380657e+04, 4.675556e+04,\n",
              "       4.256054e+04, 3.343548e+04, 3.754330e+03])"
            ]
          },
          "metadata": {},
          "execution_count": 28
        }
      ]
    },
    {
      "cell_type": "code",
      "source": [
        "data = [go.Scatter(x=vendas_por_mes.index,\n",
        "                   y=vendas_por_mes.values)]"
      ],
      "metadata": {
        "id": "8rvYR4sCtBkT"
      },
      "execution_count": null,
      "outputs": []
    },
    {
      "cell_type": "code",
      "source": [
        "py.iplot(data)"
      ],
      "metadata": {
        "colab": {
          "base_uri": "https://localhost:8080/",
          "height": 546
        },
        "id": "fqXwFPDatMCS",
        "outputId": "17e0012e-5a0f-4522-898b-c406a15b76df"
      },
      "execution_count": null,
      "outputs": [
        {
          "output_type": "execute_result",
          "data": {
            "text/plain": [
              "<IPython.lib.display.IFrame at 0x7a1e3f1d3730>"
            ],
            "text/html": [
              "\n",
              "        <iframe\n",
              "            width=\"100%\"\n",
              "            height=\"525px\"\n",
              "            src=\"https://plotly.com/~EltonG/38.embed\"\n",
              "            frameborder=\"0\"\n",
              "            allowfullscreen\n",
              "            \n",
              "        ></iframe>\n",
              "        "
            ]
          },
          "metadata": {},
          "execution_count": 30
        }
      ]
    },
    {
      "cell_type": "code",
      "source": [
        "data = [go.Bar(x = vendas_por_mes.index,\n",
        "               y = vendas_por_mes.values,\n",
        "               marker = {'color': 'lightblue'})]"
      ],
      "metadata": {
        "id": "n5KFffmItfjq"
      },
      "execution_count": null,
      "outputs": []
    },
    {
      "cell_type": "code",
      "source": [
        "configuracoes_layout = go.Layout(title = 'Vendas no Periodo',\n",
        "                                 yaxis = {'title': 'Valores em Vendas'},\n",
        "                                 xaxis = {'title': 'Periodo'})"
      ],
      "metadata": {
        "id": "5hY1CJDttnzR"
      },
      "execution_count": null,
      "outputs": []
    },
    {
      "cell_type": "code",
      "source": [
        "fig = go.Figure(data = data, layout = configuracoes_layout)"
      ],
      "metadata": {
        "id": "NLkM_oRItsIH"
      },
      "execution_count": null,
      "outputs": []
    },
    {
      "cell_type": "code",
      "source": [
        "py.plot(fig)"
      ],
      "metadata": {
        "colab": {
          "base_uri": "https://localhost:8080/",
          "height": 35
        },
        "id": "oc_WDEDAt1mY",
        "outputId": "f5993849-55f8-41e1-974d-2e3b835e3232"
      },
      "execution_count": null,
      "outputs": [
        {
          "output_type": "execute_result",
          "data": {
            "text/plain": [
              "'https://plotly.com/~EltonG/40/'"
            ],
            "application/vnd.google.colaboratory.intrinsic+json": {
              "type": "string"
            }
          },
          "metadata": {},
          "execution_count": 34
        }
      ]
    },
    {
      "cell_type": "code",
      "source": [
        "py.iplot(fig)"
      ],
      "metadata": {
        "colab": {
          "base_uri": "https://localhost:8080/",
          "height": 546
        },
        "id": "UeeTpcq9uEE9",
        "outputId": "25f91f08-eef0-4704-a2e7-a27dc056c631"
      },
      "execution_count": null,
      "outputs": [
        {
          "output_type": "execute_result",
          "data": {
            "text/plain": [
              "<IPython.lib.display.IFrame at 0x7a1e3f2ca140>"
            ],
            "text/html": [
              "\n",
              "        <iframe\n",
              "            width=\"100%\"\n",
              "            height=\"525px\"\n",
              "            src=\"https://plotly.com/~EltonG/42.embed\"\n",
              "            frameborder=\"0\"\n",
              "            allowfullscreen\n",
              "            \n",
              "        ></iframe>\n",
              "        "
            ]
          },
          "metadata": {},
          "execution_count": 35
        }
      ]
    },
    {
      "cell_type": "code",
      "source": [
        "data = [go.Bar(x=vendas_por_mes.index,\n",
        "               y=vendas_por_mes.values,\n",
        "               marker={'color': 'lightblue',\n",
        "                       'line':{'color': '#333',\n",
        "                               'width': 2}\n",
        "                       },\n",
        "               opacity=0.7\n",
        "               )\n",
        "]"
      ],
      "metadata": {
        "id": "7lXJ_ikbuKv5"
      },
      "execution_count": null,
      "outputs": []
    },
    {
      "cell_type": "code",
      "source": [
        "configuracoes_layout = go.Layout(title = \"Vendas no Período\",\n",
        "                                 yaxis = {\"title\": \"Valores em Vendas\"},\n",
        "                                 xaxis = {\"title\": \"Período\"})"
      ],
      "metadata": {
        "id": "ox2lMK1TuZ8P"
      },
      "execution_count": null,
      "outputs": []
    },
    {
      "cell_type": "code",
      "source": [
        "fig = go.Figure(data = data, layout = configuracoes_layout)"
      ],
      "metadata": {
        "id": "fJAMdP1uudn2"
      },
      "execution_count": null,
      "outputs": []
    },
    {
      "cell_type": "code",
      "source": [
        "py.plot(fig)\n",
        "py.iplot(fig)"
      ],
      "metadata": {
        "colab": {
          "base_uri": "https://localhost:8080/",
          "height": 546
        },
        "id": "gLOFFQIjufrt",
        "outputId": "dccd3f32-03b2-4d55-d5aa-a5653c83ce24"
      },
      "execution_count": null,
      "outputs": [
        {
          "output_type": "execute_result",
          "data": {
            "text/plain": [
              "<IPython.lib.display.IFrame at 0x7a1e3f924160>"
            ],
            "text/html": [
              "\n",
              "        <iframe\n",
              "            width=\"100%\"\n",
              "            height=\"525px\"\n",
              "            src=\"https://plotly.com/~EltonG/46.embed\"\n",
              "            frameborder=\"0\"\n",
              "            allowfullscreen\n",
              "            \n",
              "        ></iframe>\n",
              "        "
            ]
          },
          "metadata": {},
          "execution_count": 39
        }
      ]
    },
    {
      "cell_type": "code",
      "source": [
        "cores = []"
      ],
      "metadata": {
        "id": "en9b0OqFvgKb"
      },
      "execution_count": null,
      "outputs": []
    },
    {
      "cell_type": "code",
      "source": [
        "vendas_por_mes.index"
      ],
      "metadata": {
        "colab": {
          "base_uri": "https://localhost:8080/"
        },
        "id": "wcP2gqcMvjPK",
        "outputId": "1b46bab9-6d29-43b9-aaca-004966c05f7f"
      },
      "execution_count": null,
      "outputs": [
        {
          "output_type": "execute_result",
          "data": {
            "text/plain": [
              "Index(['2017-02', '2017-03', '2017-04', '2017-05', '2017-06', '2017-07',\n",
              "       '2017-08', '2017-09', '2017-10', '2017-11', '2017-12', '2018-01',\n",
              "       '2018-02', '2018-03', '2018-04'],\n",
              "      dtype='object', name='order_purchase_month')"
            ]
          },
          "metadata": {},
          "execution_count": 44
        }
      ]
    },
    {
      "cell_type": "code",
      "source": [
        "vendas_por_mes"
      ],
      "metadata": {
        "colab": {
          "base_uri": "https://localhost:8080/"
        },
        "id": "4IJrAQOxvsLO",
        "outputId": "5f6f55b9-ce00-48a5-e2af-a3fe337474a2"
      },
      "execution_count": null,
      "outputs": [
        {
          "output_type": "execute_result",
          "data": {
            "text/plain": [
              "order_purchase_month\n",
              "2017-02        9.99\n",
              "2017-03      902.86\n",
              "2017-04    17654.19\n",
              "2017-05    25556.23\n",
              "2017-06    34172.86\n",
              "2017-07    47284.74\n",
              "2017-08    39898.85\n",
              "2017-09    45462.20\n",
              "2017-10    40910.40\n",
              "2017-11    55373.92\n",
              "2017-12    43806.57\n",
              "2018-01    46755.56\n",
              "2018-02    42560.54\n",
              "2018-03    33435.48\n",
              "2018-04     3754.33\n",
              "Name: order_products_value, dtype: float64"
            ]
          },
          "metadata": {},
          "execution_count": 45
        }
      ]
    },
    {
      "cell_type": "code",
      "source": [
        "media = vendas_por_mes.values.mean()"
      ],
      "metadata": {
        "id": "KAZx4fB3vvxt"
      },
      "execution_count": null,
      "outputs": []
    },
    {
      "cell_type": "code",
      "source": [
        "for x in vendas_por_mes.values:\n",
        "  if x < media:\n",
        "    cores.append('red')\n",
        "  else:\n",
        "    cores.append('lightblue')"
      ],
      "metadata": {
        "id": "ywEgMqgLv5-J"
      },
      "execution_count": null,
      "outputs": []
    },
    {
      "cell_type": "code",
      "source": [
        "data = [go.Bar(x=vendas_por_mes.index,\n",
        "               y=vendas_por_mes.values,\n",
        "               marker={'color': 'lightblue',\n",
        "                       'line':{'color': '#333',\n",
        "                               'width': 2}\n",
        "                       },\n",
        "               opacity=0.7\n",
        "               )\n",
        "]"
      ],
      "metadata": {
        "id": "5GgYzwHxvB_b"
      },
      "execution_count": null,
      "outputs": []
    },
    {
      "cell_type": "code",
      "source": [
        "configuracoes_layout = go.Layout(title = \"Vendas no Período\",\n",
        "                                 yaxis = {\"title\": \"Valores em Vendas\"},\n",
        "                                 xaxis = {\"title\": \"Período\"})"
      ],
      "metadata": {
        "id": "jAlUkl5wxFYD"
      },
      "execution_count": null,
      "outputs": []
    },
    {
      "cell_type": "code",
      "source": [
        "fig = go.Figure(data = data, layout = configuracoes_layout)"
      ],
      "metadata": {
        "id": "rWUxbWO2xNZg"
      },
      "execution_count": null,
      "outputs": []
    },
    {
      "cell_type": "code",
      "source": [
        "py.plot(fig)\n",
        "py.iplot(fig)"
      ],
      "metadata": {
        "colab": {
          "base_uri": "https://localhost:8080/",
          "height": 546
        },
        "id": "4SO_iAPcxRId",
        "outputId": "a224c6f8-7cf1-4858-8457-d89da166c945"
      },
      "execution_count": null,
      "outputs": [
        {
          "output_type": "execute_result",
          "data": {
            "text/plain": [
              "<IPython.lib.display.IFrame at 0x7a1e7d2717e0>"
            ],
            "text/html": [
              "\n",
              "        <iframe\n",
              "            width=\"100%\"\n",
              "            height=\"525px\"\n",
              "            src=\"https://plotly.com/~EltonG/50.embed\"\n",
              "            frameborder=\"0\"\n",
              "            allowfullscreen\n",
              "            \n",
              "        ></iframe>\n",
              "        "
            ]
          },
          "metadata": {},
          "execution_count": 53
        }
      ]
    },
    {
      "cell_type": "code",
      "source": [
        "maximo_de_vendas = vendas_por_mes.values.max()"
      ],
      "metadata": {
        "id": "1tIGeE9Nuw_I"
      },
      "execution_count": null,
      "outputs": []
    },
    {
      "cell_type": "code",
      "source": [
        "maximo_de_vendas"
      ],
      "metadata": {
        "colab": {
          "base_uri": "https://localhost:8080/"
        },
        "id": "0NfBpTtzuzwu",
        "outputId": "557fef26-adae-4cf5-f546-1644e8933fea"
      },
      "execution_count": null,
      "outputs": [
        {
          "output_type": "execute_result",
          "data": {
            "text/plain": [
              "55373.92"
            ]
          },
          "metadata": {},
          "execution_count": 55
        }
      ]
    },
    {
      "cell_type": "code",
      "source": [
        "cores=[]\n",
        "for x, y in zip(vendas_por_mes.values, vendas_por_mes.index):\n",
        "  if x == maximo_de_vendas :\n",
        "    mes_maximo_de_vendas = y\n",
        "    cores.append(\"blue\")\n",
        "  else:\n",
        "    cores.append(\"lightblue\")"
      ],
      "metadata": {
        "id": "Z_aYSVKqu00_"
      },
      "execution_count": null,
      "outputs": []
    },
    {
      "cell_type": "code",
      "source": [
        "data = [go.Bar(x=vendas_por_mes.index,\n",
        "               y=vendas_por_mes.values,\n",
        "               marker={'color': 'lightblue',\n",
        "                       'line':{'color': '#333',\n",
        "                               'width': 2}\n",
        "                       },\n",
        "               opacity=0.7\n",
        "               )\n",
        "]"
      ],
      "metadata": {
        "id": "xTaVSqwqx-n-"
      },
      "execution_count": null,
      "outputs": []
    },
    {
      "cell_type": "code",
      "source": [
        "configuracoes_layout = go.Layout(title = \"Vendas no Período\",\n",
        "                                 yaxis = {\"title\": \"Valores em Vendas\"},\n",
        "                                 xaxis = {\"title\": \"Período\"},\n",
        "                                 annotations =  [{\"text\" : \"Mês destaque de vendas\",\n",
        "                                                  \"x\" : mes_maximo_de_vendas,\n",
        "                                                  \"y\" : maximo_de_vendas}])"
      ],
      "metadata": {
        "id": "cM--6d93yCdL"
      },
      "execution_count": null,
      "outputs": []
    },
    {
      "cell_type": "code",
      "source": [
        "fig = go.Figure(data = data, layout = configuracoes_layout)"
      ],
      "metadata": {
        "id": "jWjW9fcxyC4b"
      },
      "execution_count": null,
      "outputs": []
    },
    {
      "cell_type": "code",
      "source": [
        "py.iplot(fig)\n",
        "py.plot(fig)"
      ],
      "metadata": {
        "colab": {
          "base_uri": "https://localhost:8080/",
          "height": 35
        },
        "id": "KH-08K72yIib",
        "outputId": "793049ea-0be7-418b-c23f-247ab4969711"
      },
      "execution_count": null,
      "outputs": [
        {
          "output_type": "execute_result",
          "data": {
            "text/plain": [
              "'https://plotly.com/~EltonG/54/'"
            ],
            "application/vnd.google.colaboratory.intrinsic+json": {
              "type": "string"
            }
          },
          "metadata": {},
          "execution_count": 60
        }
      ]
    },
    {
      "cell_type": "code",
      "source": [
        "py.iplot(fig)"
      ],
      "metadata": {
        "colab": {
          "base_uri": "https://localhost:8080/",
          "height": 546
        },
        "id": "K_XtzD-tyQxh",
        "outputId": "addb9c31-d034-411f-bb97-fb64114fecf5"
      },
      "execution_count": null,
      "outputs": [
        {
          "output_type": "execute_result",
          "data": {
            "text/plain": [
              "<IPython.lib.display.IFrame at 0x7a1e3ef0e680>"
            ],
            "text/html": [
              "\n",
              "        <iframe\n",
              "            width=\"100%\"\n",
              "            height=\"525px\"\n",
              "            src=\"https://plotly.com/~EltonG/56.embed\"\n",
              "            frameborder=\"0\"\n",
              "            allowfullscreen\n",
              "            \n",
              "        ></iframe>\n",
              "        "
            ]
          },
          "metadata": {},
          "execution_count": 61
        }
      ]
    },
    {
      "cell_type": "code",
      "source": [
        "vendas_ano_anterior = vendas_por_mes - 10000.00"
      ],
      "metadata": {
        "id": "iYcZqROtyWXZ"
      },
      "execution_count": null,
      "outputs": []
    },
    {
      "cell_type": "code",
      "source": [
        "data = [go.Bar(x = vendas_por_mes.index,\n",
        "               y = vendas_por_mes.values,\n",
        "               marker = {\"color\": cores,\n",
        "                         \"line\" : {\"color\": \"#333\",\n",
        "                                   \"width\": 2}\n",
        "                         },\n",
        "               opacity = 0.7,\n",
        "               name = '2017'\n",
        "               ),\n",
        "\n",
        "        go.Bar(x = vendas_ano_anterior.index,\n",
        "               y = vendas_ano_anterior.values,\n",
        "               name = '2016',\n",
        "               marker = {\"color\": 'lightgreen',\n",
        "                         \"line\" : {\"color\": \"#333\",\n",
        "                                   \"width\": 2}\n",
        "                         },\n",
        "               opacity = 0.7\n",
        "               )\n",
        "]"
      ],
      "metadata": {
        "id": "jydMRla4ydx1"
      },
      "execution_count": null,
      "outputs": []
    },
    {
      "cell_type": "code",
      "source": [
        "configuracoes_layout = go.Layout(title = \"Vendas no Período\",\n",
        "                                 yaxis = {\"title\": \"Valores em Vendas\"},\n",
        "                                 xaxis = {\"title\": \"Período\"},\n",
        "                                 annotations =  [{\"text\" : \"Mês destaque de vendas\",\n",
        "                                                  \"x\" : mes_maximo_de_vendas,\n",
        "                                                  \"y\" : maximo_de_vendas}])"
      ],
      "metadata": {
        "id": "YazQNwzQz6Zm"
      },
      "execution_count": null,
      "outputs": []
    },
    {
      "cell_type": "code",
      "source": [
        "fig = go.Figure(data = data, layout = configuracoes_layout)"
      ],
      "metadata": {
        "id": "QvzAedLo0CVB"
      },
      "execution_count": null,
      "outputs": []
    },
    {
      "cell_type": "code",
      "source": [
        "py.iplot(fig)"
      ],
      "metadata": {
        "colab": {
          "base_uri": "https://localhost:8080/",
          "height": 546
        },
        "id": "ZNZjIvAR0ILa",
        "outputId": "4ee7b0a4-0505-40b2-9c56-e74160a71240"
      },
      "execution_count": null,
      "outputs": [
        {
          "output_type": "execute_result",
          "data": {
            "text/plain": [
              "<IPython.lib.display.IFrame at 0x7a1e3ea98190>"
            ],
            "text/html": [
              "\n",
              "        <iframe\n",
              "            width=\"100%\"\n",
              "            height=\"525px\"\n",
              "            src=\"https://plotly.com/~EltonG/58.embed\"\n",
              "            frameborder=\"0\"\n",
              "            allowfullscreen\n",
              "            \n",
              "        ></iframe>\n",
              "        "
            ]
          },
          "metadata": {},
          "execution_count": 70
        }
      ]
    },
    {
      "cell_type": "code",
      "source": [
        "vendas_produto_por_categoria = df.groupby(by = \"product_category_name\").id.count()"
      ],
      "metadata": {
        "id": "kTrT707I0eHX"
      },
      "execution_count": null,
      "outputs": []
    },
    {
      "cell_type": "code",
      "source": [
        "vendas_produto_por_categoria = vendas_produto_por_categoria.loc[vendas_produto_por_categoria.values > 1]"
      ],
      "metadata": {
        "id": "iT4c57nG1SAY"
      },
      "execution_count": null,
      "outputs": []
    },
    {
      "cell_type": "code",
      "source": [
        "vendas_produto_por_categoria.sort_values(ascending = False, inplace =True)"
      ],
      "metadata": {
        "id": "sgv7AUq71Xp3"
      },
      "execution_count": null,
      "outputs": []
    },
    {
      "cell_type": "code",
      "source": [
        "trace0 = go.Bar(x = vendas_produto_por_categoria.index,\n",
        "                y = vendas_produto_por_categoria.values,\n",
        "                marker = {\"color\": \"#00ff2a\"},\n",
        "                orientation=\"v\")\n",
        "data = [trace0]"
      ],
      "metadata": {
        "id": "HGK0lVYc1cxL"
      },
      "execution_count": null,
      "outputs": []
    },
    {
      "cell_type": "code",
      "source": [
        "configuracoes_layout = go.Layout(title = \"Vendas por categoria de Produtos\",\n",
        "                                 xaxis = dict(\n",
        "                                    titlefont = dict(\n",
        "                                        size = 50,\n",
        "                                        color = \"lightgrey\"),\n",
        "                                tickangle = 75),\n",
        "                                 yaxis = { \"title\" : \"Quantidade Vendida\"})"
      ],
      "metadata": {
        "id": "pkiF92tM1ilD"
      },
      "execution_count": null,
      "outputs": []
    },
    {
      "cell_type": "code",
      "source": [
        "fig = go.Figure(data = data, layout = configuracoes_layout)"
      ],
      "metadata": {
        "id": "bdIFsjvf1mYe"
      },
      "execution_count": null,
      "outputs": []
    },
    {
      "cell_type": "code",
      "source": [
        "py.iplot(fig)"
      ],
      "metadata": {
        "colab": {
          "base_uri": "https://localhost:8080/",
          "height": 546
        },
        "id": "NPjHfqam1qpX",
        "outputId": "cce8319f-1254-45ac-8a66-217f88e3b1b0"
      },
      "execution_count": null,
      "outputs": [
        {
          "output_type": "execute_result",
          "data": {
            "text/plain": [
              "<IPython.lib.display.IFrame at 0x7a1e3e8e18a0>"
            ],
            "text/html": [
              "\n",
              "        <iframe\n",
              "            width=\"100%\"\n",
              "            height=\"525px\"\n",
              "            src=\"https://plotly.com/~EltonG/60.embed\"\n",
              "            frameborder=\"0\"\n",
              "            allowfullscreen\n",
              "            \n",
              "        ></iframe>\n",
              "        "
            ]
          },
          "metadata": {},
          "execution_count": 77
        }
      ]
    },
    {
      "cell_type": "code",
      "source": [
        "max(vendas_produto_por_categoria) * 1.10"
      ],
      "metadata": {
        "colab": {
          "base_uri": "https://localhost:8080/"
        },
        "id": "dDJ2o8O6140D",
        "outputId": "909de358-d015-4ae9-c9d8-7d2c368b95db"
      },
      "execution_count": null,
      "outputs": [
        {
          "output_type": "execute_result",
          "data": {
            "text/plain": [
              "518.1"
            ]
          },
          "metadata": {},
          "execution_count": 78
        }
      ]
    },
    {
      "cell_type": "code",
      "source": [
        "trace0 = go.Bar(x = vendas_produto_por_categoria.index,\n",
        "                y = vendas_produto_por_categoria.values,\n",
        "                marker = {\"color\": \"#00ff2a\"},\n",
        "                orientation=\"v\")\n",
        "data = [trace0]"
      ],
      "metadata": {
        "id": "w8qI4D8l2EI-"
      },
      "execution_count": null,
      "outputs": []
    },
    {
      "cell_type": "code",
      "source": [
        "configuracoes_layout = go.Layout(title = \"Vendas por categoria de Produtos\",\n",
        "                                 xaxis = dict(\n",
        "                                    titlefont = dict(\n",
        "                                        size = 50,\n",
        "                                        color = \"lightgrey\"),\n",
        "                                tickangle = 75),\n",
        "                                 yaxis = { \"title\" : \"Quantidade Vendida\",\n",
        "                                          \"range\" : [0,\n",
        "                                                     max(vendas_produto_por_categoria.values) * 1.10]})"
      ],
      "metadata": {
        "id": "t0o95rXp2KOq"
      },
      "execution_count": null,
      "outputs": []
    },
    {
      "cell_type": "code",
      "source": [
        "fig = go.Figure(data = data, layout = configuracoes_layout)"
      ],
      "metadata": {
        "id": "2x2MqVR42OHP"
      },
      "execution_count": null,
      "outputs": []
    },
    {
      "cell_type": "code",
      "source": [
        "py.plot(fig, filename = 'Vendas por Categoria de Produto')"
      ],
      "metadata": {
        "colab": {
          "base_uri": "https://localhost:8080/",
          "height": 35
        },
        "id": "VjgbR2DA2SHi",
        "outputId": "e5b132b2-2c32-4d57-ce06-88ebccbce880"
      },
      "execution_count": null,
      "outputs": [
        {
          "output_type": "execute_result",
          "data": {
            "text/plain": [
              "'https://plotly.com/~EltonG/64/'"
            ],
            "application/vnd.google.colaboratory.intrinsic+json": {
              "type": "string"
            }
          },
          "metadata": {},
          "execution_count": 83
        }
      ]
    },
    {
      "cell_type": "code",
      "source": [
        "trace = go.Scatter(x = df[\"order_freight_value\"],\n",
        "                   y = df [\"order_products_value\"],\n",
        "                   mode = \"markers\",\n",
        "                   marker = {\"color\": \"#941229\"}\n",
        "                   )\n",
        "data = [trace]"
      ],
      "metadata": {
        "id": "pVco3eYg2v3T"
      },
      "execution_count": null,
      "outputs": []
    },
    {
      "cell_type": "code",
      "source": [
        "layout = go.Layout(title = \"Valor de Frete x Valor de Produto\",\n",
        "                   yaxis = {\"title\" : \"Valor do Produto\"},\n",
        "                   xaxis = {\"title\": \"Valor do Frete\"})"
      ],
      "metadata": {
        "id": "nbt64iVc21MM"
      },
      "execution_count": null,
      "outputs": []
    },
    {
      "cell_type": "code",
      "source": [
        "fig = go.Figure(data = data, layout = layout)"
      ],
      "metadata": {
        "id": "ib7Q8B4Q26xo"
      },
      "execution_count": null,
      "outputs": []
    },
    {
      "cell_type": "code",
      "source": [
        "py.iplot(fig)"
      ],
      "metadata": {
        "colab": {
          "base_uri": "https://localhost:8080/",
          "height": 546
        },
        "id": "yoGt1Ssk29zc",
        "outputId": "c4410413-1b76-4736-b76b-4f955ba6774d"
      },
      "execution_count": null,
      "outputs": [
        {
          "output_type": "execute_result",
          "data": {
            "text/plain": [
              "<IPython.lib.display.IFrame at 0x7a1e3e831210>"
            ],
            "text/html": [
              "\n",
              "        <iframe\n",
              "            width=\"100%\"\n",
              "            height=\"525px\"\n",
              "            src=\"https://plotly.com/~EltonG/66.embed\"\n",
              "            frameborder=\"0\"\n",
              "            allowfullscreen\n",
              "            \n",
              "        ></iframe>\n",
              "        "
            ]
          },
          "metadata": {},
          "execution_count": 88
        }
      ]
    },
    {
      "cell_type": "code",
      "source": [
        "trace = go.Scatter(x = df[\"order_freight_value\"],\n",
        "                   y = df [\"order_products_value\"],\n",
        "                   mode = \"markers\",\n",
        "                   text = \"Status do Pedido:\" + df[\"order_status\"] +\n",
        "                   \"<br>\" + \"Classe: \" + df[\"most_voted_class\"],\n",
        "                   hoverinfo = \"text +x+y\",\n",
        "                   marker = {\"color\": \"#941229\",\n",
        "                             \"size\" : df[\"order_sellers_qty\"] * 10,\n",
        "                             \"sizemode\" : \"area\"})\n",
        "data = [trace]"
      ],
      "metadata": {
        "id": "AgMPFSf0eGcK"
      },
      "execution_count": null,
      "outputs": []
    },
    {
      "cell_type": "code",
      "source": [
        "layout = go.Layout(title = \"Valor de Frete x Valor do Produto\",\n",
        "                   yaxis = {\"title\": \"Valor do Produto\",\n",
        "                            \"tickformat\" : \".\",\n",
        "                            \"tickprefix\" : \"R$\" },\n",
        "                   xaxis = {\"title\": \"Valor do Produto\",\n",
        "                            \"tickformat\" : \".\",\n",
        "                            \"tickprefix\" : \"R$\" })"
      ],
      "metadata": {
        "id": "17hN6rSwfaiv"
      },
      "execution_count": null,
      "outputs": []
    },
    {
      "cell_type": "code",
      "source": [
        "fig = go.Figure(data = data, layout = layout)"
      ],
      "metadata": {
        "id": "YqWFfKRW3gua"
      },
      "execution_count": null,
      "outputs": []
    },
    {
      "cell_type": "code",
      "source": [
        "py.iplot(fig)"
      ],
      "metadata": {
        "colab": {
          "base_uri": "https://localhost:8080/",
          "height": 546
        },
        "id": "eeZrsfrp3m7Y",
        "outputId": "b5e749a2-0e2f-40af-d2af-e88f9425455a"
      },
      "execution_count": null,
      "outputs": [
        {
          "output_type": "execute_result",
          "data": {
            "text/plain": [
              "<IPython.lib.display.IFrame at 0x7a1e3f924b20>"
            ],
            "text/html": [
              "\n",
              "        <iframe\n",
              "            width=\"100%\"\n",
              "            height=\"525px\"\n",
              "            src=\"https://plotly.com/~EltonG/68.embed\"\n",
              "            frameborder=\"0\"\n",
              "            allowfullscreen\n",
              "            \n",
              "        ></iframe>\n",
              "        "
            ]
          },
          "metadata": {},
          "execution_count": 92
        }
      ]
    },
    {
      "cell_type": "code",
      "source": [
        "data = [go.Histogram(x = df.order_items_qty)]"
      ],
      "metadata": {
        "id": "Z26Lf8323uH9"
      },
      "execution_count": null,
      "outputs": []
    },
    {
      "cell_type": "code",
      "source": [
        "layout = go.Layout(title = \"Quantidade média de itens de um pedido\")"
      ],
      "metadata": {
        "id": "Hyg5B0Z53w3b"
      },
      "execution_count": null,
      "outputs": []
    },
    {
      "cell_type": "code",
      "source": [
        "fig = go.Figure(data = data, layout = layout)"
      ],
      "metadata": {
        "id": "CMkzXkKl3zui"
      },
      "execution_count": null,
      "outputs": []
    },
    {
      "cell_type": "code",
      "source": [
        "py.iplot(fig)"
      ],
      "metadata": {
        "colab": {
          "base_uri": "https://localhost:8080/",
          "height": 546
        },
        "id": "26qDvb5H322t",
        "outputId": "638e4c62-d845-4375-ff08-a4936c2bf224"
      },
      "execution_count": null,
      "outputs": [
        {
          "output_type": "execute_result",
          "data": {
            "text/plain": [
              "<IPython.lib.display.IFrame at 0x7a1e3f924910>"
            ],
            "text/html": [
              "\n",
              "        <iframe\n",
              "            width=\"100%\"\n",
              "            height=\"525px\"\n",
              "            src=\"https://plotly.com/~EltonG/70.embed\"\n",
              "            frameborder=\"0\"\n",
              "            allowfullscreen\n",
              "            \n",
              "        ></iframe>\n",
              "        "
            ]
          },
          "metadata": {},
          "execution_count": 96
        }
      ]
    },
    {
      "cell_type": "code",
      "source": [
        "trace1 = go.Histogram(x = df.order_items_qty,\n",
        "                      name = \"itens\",\n",
        "                      opacity = 0.75)"
      ],
      "metadata": {
        "id": "bLwLVfxl36As"
      },
      "execution_count": null,
      "outputs": []
    },
    {
      "cell_type": "code",
      "source": [
        "trace2 = go.Histogram(x = df.order_sellers_qty,\n",
        "                      name = \"vendedores\",\n",
        "                      opacity = 0.75)"
      ],
      "metadata": {
        "id": "FjCDXXWX4CNN"
      },
      "execution_count": null,
      "outputs": []
    },
    {
      "cell_type": "code",
      "source": [
        "layout = go.Layout(title = \"Quantidade de itens e Vendedores por pedido\",\n",
        "                   barmode = \"overlay\")"
      ],
      "metadata": {
        "id": "bydKjPe-4FLN"
      },
      "execution_count": null,
      "outputs": []
    },
    {
      "cell_type": "code",
      "source": [
        "dados = [trace1, trace2]"
      ],
      "metadata": {
        "id": "6IDutFXD4IZu"
      },
      "execution_count": null,
      "outputs": []
    },
    {
      "cell_type": "code",
      "source": [
        "fig = go.Figure(data = data, layout = layout)"
      ],
      "metadata": {
        "id": "u7_JtrHw4MNU"
      },
      "execution_count": null,
      "outputs": []
    },
    {
      "cell_type": "code",
      "source": [
        "py.iplot(fig)"
      ],
      "metadata": {
        "colab": {
          "base_uri": "https://localhost:8080/",
          "height": 546
        },
        "id": "Qj1BBf-04MCi",
        "outputId": "d5e34e81-5ce1-46a1-bd33-65f636ee7d52"
      },
      "execution_count": null,
      "outputs": [
        {
          "output_type": "execute_result",
          "data": {
            "text/plain": [
              "<IPython.lib.display.IFrame at 0x7a1e3f370310>"
            ],
            "text/html": [
              "\n",
              "        <iframe\n",
              "            width=\"100%\"\n",
              "            height=\"525px\"\n",
              "            src=\"https://plotly.com/~EltonG/72.embed\"\n",
              "            frameborder=\"0\"\n",
              "            allowfullscreen\n",
              "            \n",
              "        ></iframe>\n",
              "        "
            ]
          },
          "metadata": {},
          "execution_count": 102
        }
      ]
    },
    {
      "cell_type": "code",
      "source": [
        "df.order_status.value_counts()"
      ],
      "metadata": {
        "colab": {
          "base_uri": "https://localhost:8080/"
        },
        "id": "c_2dgxjB4Umn",
        "outputId": "52f7577a-fa0c-48c0-d4b4-d243722677cc"
      },
      "execution_count": null,
      "outputs": [
        {
          "output_type": "execute_result",
          "data": {
            "text/plain": [
              "delivered     3467\n",
              "shipped         48\n",
              "canceled        25\n",
              "invoiced        24\n",
              "processing      20\n",
              "Name: order_status, dtype: int64"
            ]
          },
          "metadata": {},
          "execution_count": 104
        }
      ]
    },
    {
      "cell_type": "code",
      "source": [
        "classes_mais_votadas = df.groupby(by = \"most_voted_class\").id.count()"
      ],
      "metadata": {
        "id": "DayFShBd4ZaZ"
      },
      "execution_count": null,
      "outputs": []
    },
    {
      "cell_type": "code",
      "source": [
        "classes_mais_votadas = df.most_voted_class.value_counts()"
      ],
      "metadata": {
        "id": "YREkoypV4oAd"
      },
      "execution_count": null,
      "outputs": []
    },
    {
      "cell_type": "code",
      "source": [
        "trace = go.Pie(labels = classes_mais_votadas.index,\n",
        "               values = classes_mais_votadas.values)\n",
        "data = [trace]"
      ],
      "metadata": {
        "id": "_1GeXopB4s9b"
      },
      "execution_count": null,
      "outputs": []
    },
    {
      "cell_type": "code",
      "source": [
        "layout = go.Layout(title = \"Classificação de Clientes sobre Pedidos\")"
      ],
      "metadata": {
        "id": "FiMpf_mX4uaq"
      },
      "execution_count": null,
      "outputs": []
    },
    {
      "cell_type": "code",
      "source": [
        "fig = go.Figure(data = data, layout = layout)"
      ],
      "metadata": {
        "id": "PTNTAUce41XC"
      },
      "execution_count": null,
      "outputs": []
    },
    {
      "cell_type": "code",
      "source": [
        "py.iplot(fig)"
      ],
      "metadata": {
        "colab": {
          "base_uri": "https://localhost:8080/",
          "height": 546
        },
        "id": "kZCkghcr450Q",
        "outputId": "2a3b1cdc-342d-4f64-f532-af7e4b25ec35"
      },
      "execution_count": null,
      "outputs": [
        {
          "output_type": "execute_result",
          "data": {
            "text/plain": [
              "<IPython.lib.display.IFrame at 0x7a1e409b7ee0>"
            ],
            "text/html": [
              "\n",
              "        <iframe\n",
              "            width=\"100%\"\n",
              "            height=\"525px\"\n",
              "            src=\"https://plotly.com/~EltonG/76.embed\"\n",
              "            frameborder=\"0\"\n",
              "            allowfullscreen\n",
              "            \n",
              "        ></iframe>\n",
              "        "
            ]
          },
          "metadata": {},
          "execution_count": 111
        }
      ]
    },
    {
      "cell_type": "code",
      "source": [
        "trace = go.Pie(labels = classes_mais_votadas.index,\n",
        "               values = classes_mais_votadas.values,\n",
        "               direction = \"clockwise\")\n",
        "data=[trace]"
      ],
      "metadata": {
        "id": "csrKlt6A473W"
      },
      "execution_count": null,
      "outputs": []
    },
    {
      "cell_type": "code",
      "source": [
        "layout = go.Layout(title = \"Classificação de Clientes sobre Pedidos\")"
      ],
      "metadata": {
        "id": "sHjPf8GY5EBQ"
      },
      "execution_count": null,
      "outputs": []
    },
    {
      "cell_type": "code",
      "source": [
        "fig = go.Figure(data = data, layout = layout)"
      ],
      "metadata": {
        "id": "GFGzwcvl5Lec"
      },
      "execution_count": null,
      "outputs": []
    },
    {
      "cell_type": "code",
      "source": [
        "py.iplot(fig)"
      ],
      "metadata": {
        "colab": {
          "base_uri": "https://localhost:8080/",
          "height": 546
        },
        "id": "u45ysrnN5Oei",
        "outputId": "0089fee9-4b95-4dad-ee18-df970bd6fba2"
      },
      "execution_count": null,
      "outputs": [
        {
          "output_type": "execute_result",
          "data": {
            "text/plain": [
              "<IPython.lib.display.IFrame at 0x7a1e3e9ef880>"
            ],
            "text/html": [
              "\n",
              "        <iframe\n",
              "            width=\"100%\"\n",
              "            height=\"525px\"\n",
              "            src=\"https://plotly.com/~EltonG/78.embed\"\n",
              "            frameborder=\"0\"\n",
              "            allowfullscreen\n",
              "            \n",
              "        ></iframe>\n",
              "        "
            ]
          },
          "metadata": {},
          "execution_count": 115
        }
      ]
    },
    {
      "cell_type": "code",
      "source": [
        "cores = [\"#96D38C\", \"#FEBFB3\", \"#E1396C\"]"
      ],
      "metadata": {
        "id": "05Zr-b3K5Vdn"
      },
      "execution_count": null,
      "outputs": []
    },
    {
      "cell_type": "code",
      "source": [
        "trace = go.Pie(labels = classes_mais_votadas.index,\n",
        "               values = classes_mais_votadas.values,\n",
        "               marker = {\"colors\" : cores},\n",
        "               direction = \"clockwise\")\n",
        "data = [trace]"
      ],
      "metadata": {
        "id": "4umPrl9-5ZCZ"
      },
      "execution_count": null,
      "outputs": []
    },
    {
      "cell_type": "code",
      "source": [
        "layout = go.Layout(title = \"Classificação de Clientes sobre Pedidos\")"
      ],
      "metadata": {
        "id": "HlxaaIUV5c0U"
      },
      "execution_count": null,
      "outputs": []
    },
    {
      "cell_type": "code",
      "source": [
        "fig = go.Figure(data = data, layout = layout)"
      ],
      "metadata": {
        "id": "NQGqbn6S5hqn"
      },
      "execution_count": null,
      "outputs": []
    },
    {
      "cell_type": "code",
      "source": [
        "py.iplot(fig)"
      ],
      "metadata": {
        "colab": {
          "base_uri": "https://localhost:8080/",
          "height": 546
        },
        "id": "yClhANen5kYk",
        "outputId": "c0454589-acdb-46d9-a24a-63ac4eeb260e"
      },
      "execution_count": null,
      "outputs": [
        {
          "output_type": "execute_result",
          "data": {
            "text/plain": [
              "<IPython.lib.display.IFrame at 0x7a1e3e9ee1a0>"
            ],
            "text/html": [
              "\n",
              "        <iframe\n",
              "            width=\"100%\"\n",
              "            height=\"525px\"\n",
              "            src=\"https://plotly.com/~EltonG/80.embed\"\n",
              "            frameborder=\"0\"\n",
              "            allowfullscreen\n",
              "            \n",
              "        ></iframe>\n",
              "        "
            ]
          },
          "metadata": {},
          "execution_count": 120
        }
      ]
    },
    {
      "cell_type": "code",
      "source": [
        "# Convertendo as colunas de datas para datetime\n",
        "df['order_estimated_delivery_date'] = pd.to_datetime(df['order_estimated_delivery_date'])\n",
        "df['order_delivered_customer_date'] = pd.to_datetime(df['order_delivered_customer_date'])\n",
        "\n",
        "# Calculando o tempo de entrega\n",
        "df['tempo_entrega'] = df['order_delivered_customer_date'] - df['order_estimated_delivery_date']\n",
        "\n",
        "# Calculando a média do tempo de entrega\n",
        "tempo_medio_entrega = df['tempo_entrega'].mean()\n",
        "\n",
        "print(f'O tempo médio de entrega é: {tempo_medio_entrega}')\n"
      ],
      "metadata": {
        "colab": {
          "base_uri": "https://localhost:8080/"
        },
        "id": "0itaOun05pJp",
        "outputId": "8681361d-dd98-43eb-f8c4-17727331c59b"
      },
      "execution_count": null,
      "outputs": [
        {
          "output_type": "stream",
          "name": "stdout",
          "text": [
            "O tempo médio de entrega é: -11 days +20:02:13.856892984\n"
          ]
        }
      ]
    },
    {
      "cell_type": "code",
      "source": [
        "data = [go.Bar(x=vendas_por_mes.index, y=vendas_por_mes.values)]\n",
        "configuracoes_layout = go.Layout(title=\"Vendas por Mês\", yaxis={\"title\": \"Valores em Vendas\"}, xaxis={\"title\": \"Mês\"})\n",
        "fig = go.Figure(data=data, layout=configuracoes_layout)\n",
        "py.iplot(fig)\n"
      ],
      "metadata": {
        "colab": {
          "base_uri": "https://localhost:8080/",
          "height": 546
        },
        "id": "9PcX5izY5whX",
        "outputId": "70e94866-4268-4e65-a310-103c264b1513"
      },
      "execution_count": null,
      "outputs": [
        {
          "output_type": "execute_result",
          "data": {
            "text/plain": [
              "<IPython.lib.display.IFrame at 0x7a1e3e9eee60>"
            ],
            "text/html": [
              "\n",
              "        <iframe\n",
              "            width=\"100%\"\n",
              "            height=\"525px\"\n",
              "            src=\"https://plotly.com/~EltonG/82.embed\"\n",
              "            frameborder=\"0\"\n",
              "            allowfullscreen\n",
              "            \n",
              "        ></iframe>\n",
              "        "
            ]
          },
          "metadata": {},
          "execution_count": 122
        }
      ]
    },
    {
      "cell_type": "code",
      "source": [
        "# Filtrando os dados para incluir apenas o ano de 2016\n",
        "vendas_2016 = df[df['order_purchase_timestamp'].dt.year == 2016]\n",
        "\n",
        "# Calculando as vendas por mês em 2016\n",
        "vendas_por_mes_2016 = vendas_2016.groupby(by='order_purchase_month').order_products_value.sum()\n",
        "\n",
        "# Agora, você pode plotar o gráfico de barras para as vendas de 2016\n",
        "data_2016 = [go.Bar(x=vendas_por_mes_2016.index, y=vendas_por_mes_2016.values)]\n",
        "configuracoes_layout_2016 = go.Layout(title=\"Vendas por Mês em 2016\", yaxis={\"title\": \"Valores em Vendas\"}, xaxis={\"title\": \"Mês\"})\n",
        "fig_2016 = go.Figure(data=data_2016, layout=configuracoes_layout_2016)\n",
        "py.iplot(fig_2016)\n"
      ],
      "metadata": {
        "colab": {
          "base_uri": "https://localhost:8080/",
          "height": 546
        },
        "id": "WHjyYjF951i5",
        "outputId": "162e8bfd-c84d-4f9b-e4df-f8edff66489d"
      },
      "execution_count": null,
      "outputs": [
        {
          "output_type": "execute_result",
          "data": {
            "text/plain": [
              "<IPython.lib.display.IFrame at 0x7a1e3f3af220>"
            ],
            "text/html": [
              "\n",
              "        <iframe\n",
              "            width=\"100%\"\n",
              "            height=\"525px\"\n",
              "            src=\"https://plotly.com/~EltonG/84.embed\"\n",
              "            frameborder=\"0\"\n",
              "            allowfullscreen\n",
              "            \n",
              "        ></iframe>\n",
              "        "
            ]
          },
          "metadata": {},
          "execution_count": 123
        }
      ]
    }
  ]
}