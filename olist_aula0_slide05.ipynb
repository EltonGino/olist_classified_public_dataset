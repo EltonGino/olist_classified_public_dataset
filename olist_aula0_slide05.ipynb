{
  "nbformat": 4,
  "nbformat_minor": 0,
  "metadata": {
    "colab": {
      "provenance": []
    },
    "kernelspec": {
      "name": "python3",
      "display_name": "Python 3"
    },
    "language_info": {
      "name": "python"
    }
  },
  "cells": [
    {
      "cell_type": "code",
      "execution_count": 336,
      "metadata": {
        "id": "U6dzx2nJzf1q"
      },
      "outputs": [],
      "source": [
        "import cufflinks as cf"
      ]
    },
    {
      "cell_type": "code",
      "source": [
        "# cf.go_offline()"
      ],
      "metadata": {
        "id": "t_Hg2CvY0LYf"
      },
      "execution_count": 337,
      "outputs": []
    },
    {
      "cell_type": "code",
      "source": [
        "!pip install chart_studio"
      ],
      "metadata": {
        "colab": {
          "base_uri": "https://localhost:8080/"
        },
        "id": "rxGMQHTz0m7b",
        "outputId": "7285d890-c581-43b6-fa16-c23795bc5198"
      },
      "execution_count": 338,
      "outputs": [
        {
          "output_type": "stream",
          "name": "stdout",
          "text": [
            "Requirement already satisfied: chart_studio in /usr/local/lib/python3.10/dist-packages (1.1.0)\n",
            "Requirement already satisfied: plotly in /usr/local/lib/python3.10/dist-packages (from chart_studio) (5.15.0)\n",
            "Requirement already satisfied: requests in /usr/local/lib/python3.10/dist-packages (from chart_studio) (2.31.0)\n",
            "Requirement already satisfied: retrying>=1.3.3 in /usr/local/lib/python3.10/dist-packages (from chart_studio) (1.3.4)\n",
            "Requirement already satisfied: six in /usr/local/lib/python3.10/dist-packages (from chart_studio) (1.16.0)\n",
            "Requirement already satisfied: tenacity>=6.2.0 in /usr/local/lib/python3.10/dist-packages (from plotly->chart_studio) (8.2.3)\n",
            "Requirement already satisfied: packaging in /usr/local/lib/python3.10/dist-packages (from plotly->chart_studio) (23.1)\n",
            "Requirement already satisfied: charset-normalizer<4,>=2 in /usr/local/lib/python3.10/dist-packages (from requests->chart_studio) (3.2.0)\n",
            "Requirement already satisfied: idna<4,>=2.5 in /usr/local/lib/python3.10/dist-packages (from requests->chart_studio) (3.4)\n",
            "Requirement already satisfied: urllib3<3,>=1.21.1 in /usr/local/lib/python3.10/dist-packages (from requests->chart_studio) (2.0.4)\n",
            "Requirement already satisfied: certifi>=2017.4.17 in /usr/local/lib/python3.10/dist-packages (from requests->chart_studio) (2023.7.22)\n"
          ]
        }
      ]
    },
    {
      "cell_type": "code",
      "source": [
        "import chart_studio\n",
        "chart_studio.tools.set_credentials_file(username='EltonG', api_key='LyQCIF6DAFVcX25lHlAg')\n"
      ],
      "metadata": {
        "id": "GqecR_6P1BIv"
      },
      "execution_count": 339,
      "outputs": []
    },
    {
      "cell_type": "code",
      "source": [
        "import chart_studio.plotly as py"
      ],
      "metadata": {
        "id": "t6aDE9i604sA"
      },
      "execution_count": 340,
      "outputs": []
    },
    {
      "cell_type": "code",
      "source": [
        "import plotly.io as pio"
      ],
      "metadata": {
        "id": "ZCcoDYdt3LOe"
      },
      "execution_count": 341,
      "outputs": []
    },
    {
      "cell_type": "code",
      "source": [
        "import pandas as pd"
      ],
      "metadata": {
        "id": "uCTFuWeL0PRC"
      },
      "execution_count": 342,
      "outputs": []
    },
    {
      "cell_type": "code",
      "source": [
        "import plotly"
      ],
      "metadata": {
        "id": "b3dPomRkAsNr"
      },
      "execution_count": 343,
      "outputs": []
    },
    {
      "cell_type": "code",
      "source": [
        "import plotly.graph_objects as go"
      ],
      "metadata": {
        "id": "OurYV--7Ax4N"
      },
      "execution_count": 344,
      "outputs": []
    },
    {
      "cell_type": "code",
      "source": [
        "import plotly.offline as pyo"
      ],
      "metadata": {
        "id": "PwdQgPp0A37F"
      },
      "execution_count": 345,
      "outputs": []
    },
    {
      "cell_type": "code",
      "source": [
        "# plotly.offline.init_notebook_mode(connected = True)"
      ],
      "metadata": {
        "id": "Ah_U142bA-bO"
      },
      "execution_count": 346,
      "outputs": []
    },
    {
      "cell_type": "code",
      "source": [
        "pio.renderers.default = 'colab'"
      ],
      "metadata": {
        "id": "eTk8augMBPz3"
      },
      "execution_count": 347,
      "outputs": []
    },
    {
      "cell_type": "code",
      "source": [
        "import plotly.graph_objs as go"
      ],
      "metadata": {
        "id": "sQEloIvcBWev"
      },
      "execution_count": 348,
      "outputs": []
    },
    {
      "cell_type": "code",
      "source": [],
      "metadata": {
        "id": "YZTeFDABC3tD"
      },
      "execution_count": 348,
      "outputs": []
    },
    {
      "cell_type": "code",
      "source": [
        "df = pd.read_csv(\"/content/drive/MyDrive/olist_classified_public_dataset.csv\")"
      ],
      "metadata": {
        "id": "LfSm4lPV0UTz"
      },
      "execution_count": 349,
      "outputs": []
    },
    {
      "cell_type": "code",
      "source": [
        "df.head()"
      ],
      "metadata": {
        "colab": {
          "base_uri": "https://localhost:8080/",
          "height": 355
        },
        "id": "NBxQv9qz0eIn",
        "outputId": "a078d625-e838-4d09-f50c-1e341e7b3a1e"
      },
      "execution_count": 350,
      "outputs": [
        {
          "output_type": "execute_result",
          "data": {
            "text/plain": [
              "   Unnamed: 0  id order_status  order_products_value  order_freight_value  \\\n",
              "0           0   1    delivered                 89.99                14.38   \n",
              "1           1   2    delivered                 69.00                15.23   \n",
              "2           2   3    delivered                 99.80                15.86   \n",
              "3           3   4    delivered                 87.00                12.74   \n",
              "4           4   5    delivered                 99.90                17.95   \n",
              "\n",
              "   order_items_qty  order_sellers_qty    order_purchase_timestamp  \\\n",
              "0                1                  1  2017-08-30 11:41:01.000000   \n",
              "1                1                  1  2017-09-26 09:13:36.000000   \n",
              "2                2                  4  2018-01-15 15:50:42.000000   \n",
              "3                1                  1  2018-02-04 11:16:42.000000   \n",
              "4                1                  2  2017-12-07 11:58:42.000000   \n",
              "\n",
              "             order_aproved_at order_estimated_delivery_date  ...  \\\n",
              "0  2017-08-30 11:55:08.970352    2017-09-21 00:00:00.000000  ...   \n",
              "1  2017-09-26 09:28:10.922048    2017-10-24 00:00:00.000000  ...   \n",
              "2  2018-01-17 07:29:56.419769    2018-02-05 00:00:00.000000  ...   \n",
              "3  2018-02-06 05:31:50.990164    2018-03-13 00:00:00.000000  ...   \n",
              "4  2017-12-08 02:36:49.587515    2018-01-03 00:00:00.000000  ...   \n",
              "\n",
              "  votes_delayed votes_low_quality votes_return  votes_not_as_anounced  \\\n",
              "0             0                 0            0                      0   \n",
              "1             0                 0            0                      0   \n",
              "2             0                 0            0                      0   \n",
              "3             3                 0            0                      0   \n",
              "4             0                 0            0                      0   \n",
              "\n",
              "  votes_partial_delivery  votes_other_delivery  votes_other_order  \\\n",
              "0                      0                     0                  0   \n",
              "1                      0                     0                  0   \n",
              "2                      3                     0                  0   \n",
              "3                      0                     0                  0   \n",
              "4                      3                     0                  0   \n",
              "\n",
              "   votes_satisfied  most_voted_subclass       most_voted_class  \n",
              "0                3           satisfeito  satisfeito_com_pedido  \n",
              "1                0          antes_prazo  satisfeito_com_pedido  \n",
              "2                0      entrega_parcial   problemas_de_entrega  \n",
              "3                0             atrasado   problemas_de_entrega  \n",
              "4                0      entrega_parcial   problemas_de_entrega  \n",
              "\n",
              "[5 rows x 34 columns]"
            ],
            "text/html": [
              "\n",
              "  <div id=\"df-86ada47e-7af9-4552-bf9e-2a7d4681da81\" class=\"colab-df-container\">\n",
              "    <div>\n",
              "<style scoped>\n",
              "    .dataframe tbody tr th:only-of-type {\n",
              "        vertical-align: middle;\n",
              "    }\n",
              "\n",
              "    .dataframe tbody tr th {\n",
              "        vertical-align: top;\n",
              "    }\n",
              "\n",
              "    .dataframe thead th {\n",
              "        text-align: right;\n",
              "    }\n",
              "</style>\n",
              "<table border=\"1\" class=\"dataframe\">\n",
              "  <thead>\n",
              "    <tr style=\"text-align: right;\">\n",
              "      <th></th>\n",
              "      <th>Unnamed: 0</th>\n",
              "      <th>id</th>\n",
              "      <th>order_status</th>\n",
              "      <th>order_products_value</th>\n",
              "      <th>order_freight_value</th>\n",
              "      <th>order_items_qty</th>\n",
              "      <th>order_sellers_qty</th>\n",
              "      <th>order_purchase_timestamp</th>\n",
              "      <th>order_aproved_at</th>\n",
              "      <th>order_estimated_delivery_date</th>\n",
              "      <th>...</th>\n",
              "      <th>votes_delayed</th>\n",
              "      <th>votes_low_quality</th>\n",
              "      <th>votes_return</th>\n",
              "      <th>votes_not_as_anounced</th>\n",
              "      <th>votes_partial_delivery</th>\n",
              "      <th>votes_other_delivery</th>\n",
              "      <th>votes_other_order</th>\n",
              "      <th>votes_satisfied</th>\n",
              "      <th>most_voted_subclass</th>\n",
              "      <th>most_voted_class</th>\n",
              "    </tr>\n",
              "  </thead>\n",
              "  <tbody>\n",
              "    <tr>\n",
              "      <th>0</th>\n",
              "      <td>0</td>\n",
              "      <td>1</td>\n",
              "      <td>delivered</td>\n",
              "      <td>89.99</td>\n",
              "      <td>14.38</td>\n",
              "      <td>1</td>\n",
              "      <td>1</td>\n",
              "      <td>2017-08-30 11:41:01.000000</td>\n",
              "      <td>2017-08-30 11:55:08.970352</td>\n",
              "      <td>2017-09-21 00:00:00.000000</td>\n",
              "      <td>...</td>\n",
              "      <td>0</td>\n",
              "      <td>0</td>\n",
              "      <td>0</td>\n",
              "      <td>0</td>\n",
              "      <td>0</td>\n",
              "      <td>0</td>\n",
              "      <td>0</td>\n",
              "      <td>3</td>\n",
              "      <td>satisfeito</td>\n",
              "      <td>satisfeito_com_pedido</td>\n",
              "    </tr>\n",
              "    <tr>\n",
              "      <th>1</th>\n",
              "      <td>1</td>\n",
              "      <td>2</td>\n",
              "      <td>delivered</td>\n",
              "      <td>69.00</td>\n",
              "      <td>15.23</td>\n",
              "      <td>1</td>\n",
              "      <td>1</td>\n",
              "      <td>2017-09-26 09:13:36.000000</td>\n",
              "      <td>2017-09-26 09:28:10.922048</td>\n",
              "      <td>2017-10-24 00:00:00.000000</td>\n",
              "      <td>...</td>\n",
              "      <td>0</td>\n",
              "      <td>0</td>\n",
              "      <td>0</td>\n",
              "      <td>0</td>\n",
              "      <td>0</td>\n",
              "      <td>0</td>\n",
              "      <td>0</td>\n",
              "      <td>0</td>\n",
              "      <td>antes_prazo</td>\n",
              "      <td>satisfeito_com_pedido</td>\n",
              "    </tr>\n",
              "    <tr>\n",
              "      <th>2</th>\n",
              "      <td>2</td>\n",
              "      <td>3</td>\n",
              "      <td>delivered</td>\n",
              "      <td>99.80</td>\n",
              "      <td>15.86</td>\n",
              "      <td>2</td>\n",
              "      <td>4</td>\n",
              "      <td>2018-01-15 15:50:42.000000</td>\n",
              "      <td>2018-01-17 07:29:56.419769</td>\n",
              "      <td>2018-02-05 00:00:00.000000</td>\n",
              "      <td>...</td>\n",
              "      <td>0</td>\n",
              "      <td>0</td>\n",
              "      <td>0</td>\n",
              "      <td>0</td>\n",
              "      <td>3</td>\n",
              "      <td>0</td>\n",
              "      <td>0</td>\n",
              "      <td>0</td>\n",
              "      <td>entrega_parcial</td>\n",
              "      <td>problemas_de_entrega</td>\n",
              "    </tr>\n",
              "    <tr>\n",
              "      <th>3</th>\n",
              "      <td>3</td>\n",
              "      <td>4</td>\n",
              "      <td>delivered</td>\n",
              "      <td>87.00</td>\n",
              "      <td>12.74</td>\n",
              "      <td>1</td>\n",
              "      <td>1</td>\n",
              "      <td>2018-02-04 11:16:42.000000</td>\n",
              "      <td>2018-02-06 05:31:50.990164</td>\n",
              "      <td>2018-03-13 00:00:00.000000</td>\n",
              "      <td>...</td>\n",
              "      <td>3</td>\n",
              "      <td>0</td>\n",
              "      <td>0</td>\n",
              "      <td>0</td>\n",
              "      <td>0</td>\n",
              "      <td>0</td>\n",
              "      <td>0</td>\n",
              "      <td>0</td>\n",
              "      <td>atrasado</td>\n",
              "      <td>problemas_de_entrega</td>\n",
              "    </tr>\n",
              "    <tr>\n",
              "      <th>4</th>\n",
              "      <td>4</td>\n",
              "      <td>5</td>\n",
              "      <td>delivered</td>\n",
              "      <td>99.90</td>\n",
              "      <td>17.95</td>\n",
              "      <td>1</td>\n",
              "      <td>2</td>\n",
              "      <td>2017-12-07 11:58:42.000000</td>\n",
              "      <td>2017-12-08 02:36:49.587515</td>\n",
              "      <td>2018-01-03 00:00:00.000000</td>\n",
              "      <td>...</td>\n",
              "      <td>0</td>\n",
              "      <td>0</td>\n",
              "      <td>0</td>\n",
              "      <td>0</td>\n",
              "      <td>3</td>\n",
              "      <td>0</td>\n",
              "      <td>0</td>\n",
              "      <td>0</td>\n",
              "      <td>entrega_parcial</td>\n",
              "      <td>problemas_de_entrega</td>\n",
              "    </tr>\n",
              "  </tbody>\n",
              "</table>\n",
              "<p>5 rows × 34 columns</p>\n",
              "</div>\n",
              "    <div class=\"colab-df-buttons\">\n",
              "\n",
              "  <div class=\"colab-df-container\">\n",
              "    <button class=\"colab-df-convert\" onclick=\"convertToInteractive('df-86ada47e-7af9-4552-bf9e-2a7d4681da81')\"\n",
              "            title=\"Convert this dataframe to an interactive table.\"\n",
              "            style=\"display:none;\">\n",
              "\n",
              "  <svg xmlns=\"http://www.w3.org/2000/svg\" height=\"24px\" viewBox=\"0 -960 960 960\">\n",
              "    <path d=\"M120-120v-720h720v720H120Zm60-500h600v-160H180v160Zm220 220h160v-160H400v160Zm0 220h160v-160H400v160ZM180-400h160v-160H180v160Zm440 0h160v-160H620v160ZM180-180h160v-160H180v160Zm440 0h160v-160H620v160Z\"/>\n",
              "  </svg>\n",
              "    </button>\n",
              "\n",
              "  <style>\n",
              "    .colab-df-container {\n",
              "      display:flex;\n",
              "      gap: 12px;\n",
              "    }\n",
              "\n",
              "    .colab-df-convert {\n",
              "      background-color: #E8F0FE;\n",
              "      border: none;\n",
              "      border-radius: 50%;\n",
              "      cursor: pointer;\n",
              "      display: none;\n",
              "      fill: #1967D2;\n",
              "      height: 32px;\n",
              "      padding: 0 0 0 0;\n",
              "      width: 32px;\n",
              "    }\n",
              "\n",
              "    .colab-df-convert:hover {\n",
              "      background-color: #E2EBFA;\n",
              "      box-shadow: 0px 1px 2px rgba(60, 64, 67, 0.3), 0px 1px 3px 1px rgba(60, 64, 67, 0.15);\n",
              "      fill: #174EA6;\n",
              "    }\n",
              "\n",
              "    .colab-df-buttons div {\n",
              "      margin-bottom: 4px;\n",
              "    }\n",
              "\n",
              "    [theme=dark] .colab-df-convert {\n",
              "      background-color: #3B4455;\n",
              "      fill: #D2E3FC;\n",
              "    }\n",
              "\n",
              "    [theme=dark] .colab-df-convert:hover {\n",
              "      background-color: #434B5C;\n",
              "      box-shadow: 0px 1px 3px 1px rgba(0, 0, 0, 0.15);\n",
              "      filter: drop-shadow(0px 1px 2px rgba(0, 0, 0, 0.3));\n",
              "      fill: #FFFFFF;\n",
              "    }\n",
              "  </style>\n",
              "\n",
              "    <script>\n",
              "      const buttonEl =\n",
              "        document.querySelector('#df-86ada47e-7af9-4552-bf9e-2a7d4681da81 button.colab-df-convert');\n",
              "      buttonEl.style.display =\n",
              "        google.colab.kernel.accessAllowed ? 'block' : 'none';\n",
              "\n",
              "      async function convertToInteractive(key) {\n",
              "        const element = document.querySelector('#df-86ada47e-7af9-4552-bf9e-2a7d4681da81');\n",
              "        const dataTable =\n",
              "          await google.colab.kernel.invokeFunction('convertToInteractive',\n",
              "                                                    [key], {});\n",
              "        if (!dataTable) return;\n",
              "\n",
              "        const docLinkHtml = 'Like what you see? Visit the ' +\n",
              "          '<a target=\"_blank\" href=https://colab.research.google.com/notebooks/data_table.ipynb>data table notebook</a>'\n",
              "          + ' to learn more about interactive tables.';\n",
              "        element.innerHTML = '';\n",
              "        dataTable['output_type'] = 'display_data';\n",
              "        await google.colab.output.renderOutput(dataTable, element);\n",
              "        const docLink = document.createElement('div');\n",
              "        docLink.innerHTML = docLinkHtml;\n",
              "        element.appendChild(docLink);\n",
              "      }\n",
              "    </script>\n",
              "  </div>\n",
              "\n",
              "\n",
              "<div id=\"df-6e592ee8-c27d-4f8e-a951-ffdb92c6d82c\">\n",
              "  <button class=\"colab-df-quickchart\" onclick=\"quickchart('df-6e592ee8-c27d-4f8e-a951-ffdb92c6d82c')\"\n",
              "            title=\"Suggest charts.\"\n",
              "            style=\"display:none;\">\n",
              "\n",
              "<svg xmlns=\"http://www.w3.org/2000/svg\" height=\"24px\"viewBox=\"0 0 24 24\"\n",
              "     width=\"24px\">\n",
              "    <g>\n",
              "        <path d=\"M19 3H5c-1.1 0-2 .9-2 2v14c0 1.1.9 2 2 2h14c1.1 0 2-.9 2-2V5c0-1.1-.9-2-2-2zM9 17H7v-7h2v7zm4 0h-2V7h2v10zm4 0h-2v-4h2v4z\"/>\n",
              "    </g>\n",
              "</svg>\n",
              "  </button>\n",
              "\n",
              "<style>\n",
              "  .colab-df-quickchart {\n",
              "      --bg-color: #E8F0FE;\n",
              "      --fill-color: #1967D2;\n",
              "      --hover-bg-color: #E2EBFA;\n",
              "      --hover-fill-color: #174EA6;\n",
              "      --disabled-fill-color: #AAA;\n",
              "      --disabled-bg-color: #DDD;\n",
              "  }\n",
              "\n",
              "  [theme=dark] .colab-df-quickchart {\n",
              "      --bg-color: #3B4455;\n",
              "      --fill-color: #D2E3FC;\n",
              "      --hover-bg-color: #434B5C;\n",
              "      --hover-fill-color: #FFFFFF;\n",
              "      --disabled-bg-color: #3B4455;\n",
              "      --disabled-fill-color: #666;\n",
              "  }\n",
              "\n",
              "  .colab-df-quickchart {\n",
              "    background-color: var(--bg-color);\n",
              "    border: none;\n",
              "    border-radius: 50%;\n",
              "    cursor: pointer;\n",
              "    display: none;\n",
              "    fill: var(--fill-color);\n",
              "    height: 32px;\n",
              "    padding: 0;\n",
              "    width: 32px;\n",
              "  }\n",
              "\n",
              "  .colab-df-quickchart:hover {\n",
              "    background-color: var(--hover-bg-color);\n",
              "    box-shadow: 0 1px 2px rgba(60, 64, 67, 0.3), 0 1px 3px 1px rgba(60, 64, 67, 0.15);\n",
              "    fill: var(--button-hover-fill-color);\n",
              "  }\n",
              "\n",
              "  .colab-df-quickchart-complete:disabled,\n",
              "  .colab-df-quickchart-complete:disabled:hover {\n",
              "    background-color: var(--disabled-bg-color);\n",
              "    fill: var(--disabled-fill-color);\n",
              "    box-shadow: none;\n",
              "  }\n",
              "\n",
              "  .colab-df-spinner {\n",
              "    border: 2px solid var(--fill-color);\n",
              "    border-color: transparent;\n",
              "    border-bottom-color: var(--fill-color);\n",
              "    animation:\n",
              "      spin 1s steps(1) infinite;\n",
              "  }\n",
              "\n",
              "  @keyframes spin {\n",
              "    0% {\n",
              "      border-color: transparent;\n",
              "      border-bottom-color: var(--fill-color);\n",
              "      border-left-color: var(--fill-color);\n",
              "    }\n",
              "    20% {\n",
              "      border-color: transparent;\n",
              "      border-left-color: var(--fill-color);\n",
              "      border-top-color: var(--fill-color);\n",
              "    }\n",
              "    30% {\n",
              "      border-color: transparent;\n",
              "      border-left-color: var(--fill-color);\n",
              "      border-top-color: var(--fill-color);\n",
              "      border-right-color: var(--fill-color);\n",
              "    }\n",
              "    40% {\n",
              "      border-color: transparent;\n",
              "      border-right-color: var(--fill-color);\n",
              "      border-top-color: var(--fill-color);\n",
              "    }\n",
              "    60% {\n",
              "      border-color: transparent;\n",
              "      border-right-color: var(--fill-color);\n",
              "    }\n",
              "    80% {\n",
              "      border-color: transparent;\n",
              "      border-right-color: var(--fill-color);\n",
              "      border-bottom-color: var(--fill-color);\n",
              "    }\n",
              "    90% {\n",
              "      border-color: transparent;\n",
              "      border-bottom-color: var(--fill-color);\n",
              "    }\n",
              "  }\n",
              "</style>\n",
              "\n",
              "  <script>\n",
              "    async function quickchart(key) {\n",
              "      const quickchartButtonEl =\n",
              "        document.querySelector('#' + key + ' button');\n",
              "      quickchartButtonEl.disabled = true;  // To prevent multiple clicks.\n",
              "      quickchartButtonEl.classList.add('colab-df-spinner');\n",
              "      try {\n",
              "        const charts = await google.colab.kernel.invokeFunction(\n",
              "            'suggestCharts', [key], {});\n",
              "      } catch (error) {\n",
              "        console.error('Error during call to suggestCharts:', error);\n",
              "      }\n",
              "      quickchartButtonEl.classList.remove('colab-df-spinner');\n",
              "      quickchartButtonEl.classList.add('colab-df-quickchart-complete');\n",
              "    }\n",
              "    (() => {\n",
              "      let quickchartButtonEl =\n",
              "        document.querySelector('#df-6e592ee8-c27d-4f8e-a951-ffdb92c6d82c button');\n",
              "      quickchartButtonEl.style.display =\n",
              "        google.colab.kernel.accessAllowed ? 'block' : 'none';\n",
              "    })();\n",
              "  </script>\n",
              "</div>\n",
              "    </div>\n",
              "  </div>\n"
            ]
          },
          "metadata": {},
          "execution_count": 350
        }
      ]
    },
    {
      "cell_type": "code",
      "source": [
        "df.info()"
      ],
      "metadata": {
        "colab": {
          "base_uri": "https://localhost:8080/"
        },
        "id": "JJmQrb3B0h4j",
        "outputId": "9da6c793-1425-4bf9-dfc8-c937b2945a6c"
      },
      "execution_count": 351,
      "outputs": [
        {
          "output_type": "stream",
          "name": "stdout",
          "text": [
            "<class 'pandas.core.frame.DataFrame'>\n",
            "RangeIndex: 3584 entries, 0 to 3583\n",
            "Data columns (total 34 columns):\n",
            " #   Column                         Non-Null Count  Dtype  \n",
            "---  ------                         --------------  -----  \n",
            " 0   Unnamed: 0                     3584 non-null   int64  \n",
            " 1   id                             3584 non-null   int64  \n",
            " 2   order_status                   3584 non-null   object \n",
            " 3   order_products_value           3584 non-null   float64\n",
            " 4   order_freight_value            3584 non-null   float64\n",
            " 5   order_items_qty                3584 non-null   int64  \n",
            " 6   order_sellers_qty              3584 non-null   int64  \n",
            " 7   order_purchase_timestamp       3584 non-null   object \n",
            " 8   order_aproved_at               3584 non-null   object \n",
            " 9   order_estimated_delivery_date  3584 non-null   object \n",
            " 10  order_delivered_customer_date  3467 non-null   object \n",
            " 11  customer_city                  3584 non-null   object \n",
            " 12  customer_state                 3584 non-null   object \n",
            " 13  customer_zip_code_prefix       3584 non-null   int64  \n",
            " 14  product_category_name          3584 non-null   object \n",
            " 15  product_name_lenght            3584 non-null   int64  \n",
            " 16  product_description_lenght     3584 non-null   int64  \n",
            " 17  product_photos_qty             3584 non-null   int64  \n",
            " 18  review_score                   3584 non-null   int64  \n",
            " 19  review_comment_title           0 non-null      float64\n",
            " 20  review_comment_message         3584 non-null   object \n",
            " 21  review_creation_date           3584 non-null   object \n",
            " 22  review_answer_timestamp        3584 non-null   object \n",
            " 23  votes_before_estimate          3584 non-null   int64  \n",
            " 24  votes_delayed                  3584 non-null   int64  \n",
            " 25  votes_low_quality              3584 non-null   int64  \n",
            " 26  votes_return                   3584 non-null   int64  \n",
            " 27  votes_not_as_anounced          3584 non-null   int64  \n",
            " 28  votes_partial_delivery         3584 non-null   int64  \n",
            " 29  votes_other_delivery           3584 non-null   int64  \n",
            " 30  votes_other_order              3584 non-null   int64  \n",
            " 31  votes_satisfied                3584 non-null   int64  \n",
            " 32  most_voted_subclass            3413 non-null   object \n",
            " 33  most_voted_class               3413 non-null   object \n",
            "dtypes: float64(3), int64(18), object(13)\n",
            "memory usage: 952.1+ KB\n"
          ]
        }
      ]
    },
    {
      "cell_type": "code",
      "source": [
        "pio.renderers.default = 'colab'"
      ],
      "metadata": {
        "id": "9rIRBc0p2b8P"
      },
      "execution_count": 352,
      "outputs": []
    },
    {
      "cell_type": "code",
      "source": [
        "df.order_status.value_counts().iplot(kind=\"bar\", asFigure = True)"
      ],
      "metadata": {
        "colab": {
          "base_uri": "https://localhost:8080/",
          "height": 542
        },
        "id": "SMIwMtZg3Oam",
        "outputId": "cd9af304-cd71-4354-c9eb-06c7aa6181b7"
      },
      "execution_count": 353,
      "outputs": [
        {
          "output_type": "display_data",
          "data": {
            "text/html": [
              "<html>\n",
              "<head><meta charset=\"utf-8\" /></head>\n",
              "<body>\n",
              "    <div>            <script src=\"https://cdnjs.cloudflare.com/ajax/libs/mathjax/2.7.5/MathJax.js?config=TeX-AMS-MML_SVG\"></script><script type=\"text/javascript\">if (window.MathJax && window.MathJax.Hub && window.MathJax.Hub.Config) {window.MathJax.Hub.Config({SVG: {font: \"STIX-Web\"}});}</script>                <script type=\"text/javascript\">window.PlotlyConfig = {MathJaxConfig: 'local'};</script>\n",
              "        <script charset=\"utf-8\" src=\"https://cdn.plot.ly/plotly-2.24.1.min.js\"></script>                <div id=\"f8115214-d2ee-4c7d-b2e1-cbdb15c195d1\" class=\"plotly-graph-div\" style=\"height:525px; width:100%;\"></div>            <script type=\"text/javascript\">                                    window.PLOTLYENV=window.PLOTLYENV || {};                                    if (document.getElementById(\"f8115214-d2ee-4c7d-b2e1-cbdb15c195d1\")) {                    Plotly.newPlot(                        \"f8115214-d2ee-4c7d-b2e1-cbdb15c195d1\",                        [{\"marker\":{\"color\":\"rgba(255, 153, 51, 0.6)\",\"line\":{\"color\":\"rgba(255, 153, 51, 1.0)\",\"width\":1}},\"name\":\"order_status\",\"orientation\":\"v\",\"text\":\"\",\"x\":[\"delivered\",\"shipped\",\"canceled\",\"invoiced\",\"processing\"],\"y\":[3467,48,25,24,20],\"type\":\"bar\"}],                        {\"legend\":{\"bgcolor\":\"#F5F6F9\",\"font\":{\"color\":\"#4D5663\"}},\"paper_bgcolor\":\"#F5F6F9\",\"plot_bgcolor\":\"#F5F6F9\",\"title\":{\"font\":{\"color\":\"#4D5663\"}},\"xaxis\":{\"gridcolor\":\"#E1E5ED\",\"showgrid\":true,\"tickfont\":{\"color\":\"#4D5663\"},\"title\":{\"text\":\"\",\"font\":{\"color\":\"#4D5663\"}},\"zerolinecolor\":\"#E1E5ED\"},\"yaxis\":{\"gridcolor\":\"#E1E5ED\",\"showgrid\":true,\"tickfont\":{\"color\":\"#4D5663\"},\"title\":{\"text\":\"\",\"font\":{\"color\":\"#4D5663\"}},\"zerolinecolor\":\"#E1E5ED\"},\"template\":{\"data\":{\"histogram2dcontour\":[{\"type\":\"histogram2dcontour\",\"colorbar\":{\"outlinewidth\":0,\"ticks\":\"\"},\"colorscale\":[[0.0,\"#0d0887\"],[0.1111111111111111,\"#46039f\"],[0.2222222222222222,\"#7201a8\"],[0.3333333333333333,\"#9c179e\"],[0.4444444444444444,\"#bd3786\"],[0.5555555555555556,\"#d8576b\"],[0.6666666666666666,\"#ed7953\"],[0.7777777777777778,\"#fb9f3a\"],[0.8888888888888888,\"#fdca26\"],[1.0,\"#f0f921\"]]}],\"choropleth\":[{\"type\":\"choropleth\",\"colorbar\":{\"outlinewidth\":0,\"ticks\":\"\"}}],\"histogram2d\":[{\"type\":\"histogram2d\",\"colorbar\":{\"outlinewidth\":0,\"ticks\":\"\"},\"colorscale\":[[0.0,\"#0d0887\"],[0.1111111111111111,\"#46039f\"],[0.2222222222222222,\"#7201a8\"],[0.3333333333333333,\"#9c179e\"],[0.4444444444444444,\"#bd3786\"],[0.5555555555555556,\"#d8576b\"],[0.6666666666666666,\"#ed7953\"],[0.7777777777777778,\"#fb9f3a\"],[0.8888888888888888,\"#fdca26\"],[1.0,\"#f0f921\"]]}],\"heatmap\":[{\"type\":\"heatmap\",\"colorbar\":{\"outlinewidth\":0,\"ticks\":\"\"},\"colorscale\":[[0.0,\"#0d0887\"],[0.1111111111111111,\"#46039f\"],[0.2222222222222222,\"#7201a8\"],[0.3333333333333333,\"#9c179e\"],[0.4444444444444444,\"#bd3786\"],[0.5555555555555556,\"#d8576b\"],[0.6666666666666666,\"#ed7953\"],[0.7777777777777778,\"#fb9f3a\"],[0.8888888888888888,\"#fdca26\"],[1.0,\"#f0f921\"]]}],\"heatmapgl\":[{\"type\":\"heatmapgl\",\"colorbar\":{\"outlinewidth\":0,\"ticks\":\"\"},\"colorscale\":[[0.0,\"#0d0887\"],[0.1111111111111111,\"#46039f\"],[0.2222222222222222,\"#7201a8\"],[0.3333333333333333,\"#9c179e\"],[0.4444444444444444,\"#bd3786\"],[0.5555555555555556,\"#d8576b\"],[0.6666666666666666,\"#ed7953\"],[0.7777777777777778,\"#fb9f3a\"],[0.8888888888888888,\"#fdca26\"],[1.0,\"#f0f921\"]]}],\"contourcarpet\":[{\"type\":\"contourcarpet\",\"colorbar\":{\"outlinewidth\":0,\"ticks\":\"\"}}],\"contour\":[{\"type\":\"contour\",\"colorbar\":{\"outlinewidth\":0,\"ticks\":\"\"},\"colorscale\":[[0.0,\"#0d0887\"],[0.1111111111111111,\"#46039f\"],[0.2222222222222222,\"#7201a8\"],[0.3333333333333333,\"#9c179e\"],[0.4444444444444444,\"#bd3786\"],[0.5555555555555556,\"#d8576b\"],[0.6666666666666666,\"#ed7953\"],[0.7777777777777778,\"#fb9f3a\"],[0.8888888888888888,\"#fdca26\"],[1.0,\"#f0f921\"]]}],\"surface\":[{\"type\":\"surface\",\"colorbar\":{\"outlinewidth\":0,\"ticks\":\"\"},\"colorscale\":[[0.0,\"#0d0887\"],[0.1111111111111111,\"#46039f\"],[0.2222222222222222,\"#7201a8\"],[0.3333333333333333,\"#9c179e\"],[0.4444444444444444,\"#bd3786\"],[0.5555555555555556,\"#d8576b\"],[0.6666666666666666,\"#ed7953\"],[0.7777777777777778,\"#fb9f3a\"],[0.8888888888888888,\"#fdca26\"],[1.0,\"#f0f921\"]]}],\"mesh3d\":[{\"type\":\"mesh3d\",\"colorbar\":{\"outlinewidth\":0,\"ticks\":\"\"}}],\"scatter\":[{\"fillpattern\":{\"fillmode\":\"overlay\",\"size\":10,\"solidity\":0.2},\"type\":\"scatter\"}],\"parcoords\":[{\"type\":\"parcoords\",\"line\":{\"colorbar\":{\"outlinewidth\":0,\"ticks\":\"\"}}}],\"scatterpolargl\":[{\"type\":\"scatterpolargl\",\"marker\":{\"colorbar\":{\"outlinewidth\":0,\"ticks\":\"\"}}}],\"bar\":[{\"error_x\":{\"color\":\"#2a3f5f\"},\"error_y\":{\"color\":\"#2a3f5f\"},\"marker\":{\"line\":{\"color\":\"#E5ECF6\",\"width\":0.5},\"pattern\":{\"fillmode\":\"overlay\",\"size\":10,\"solidity\":0.2}},\"type\":\"bar\"}],\"scattergeo\":[{\"type\":\"scattergeo\",\"marker\":{\"colorbar\":{\"outlinewidth\":0,\"ticks\":\"\"}}}],\"scatterpolar\":[{\"type\":\"scatterpolar\",\"marker\":{\"colorbar\":{\"outlinewidth\":0,\"ticks\":\"\"}}}],\"histogram\":[{\"marker\":{\"pattern\":{\"fillmode\":\"overlay\",\"size\":10,\"solidity\":0.2}},\"type\":\"histogram\"}],\"scattergl\":[{\"type\":\"scattergl\",\"marker\":{\"colorbar\":{\"outlinewidth\":0,\"ticks\":\"\"}}}],\"scatter3d\":[{\"type\":\"scatter3d\",\"line\":{\"colorbar\":{\"outlinewidth\":0,\"ticks\":\"\"}},\"marker\":{\"colorbar\":{\"outlinewidth\":0,\"ticks\":\"\"}}}],\"scattermapbox\":[{\"type\":\"scattermapbox\",\"marker\":{\"colorbar\":{\"outlinewidth\":0,\"ticks\":\"\"}}}],\"scatterternary\":[{\"type\":\"scatterternary\",\"marker\":{\"colorbar\":{\"outlinewidth\":0,\"ticks\":\"\"}}}],\"scattercarpet\":[{\"type\":\"scattercarpet\",\"marker\":{\"colorbar\":{\"outlinewidth\":0,\"ticks\":\"\"}}}],\"carpet\":[{\"aaxis\":{\"endlinecolor\":\"#2a3f5f\",\"gridcolor\":\"white\",\"linecolor\":\"white\",\"minorgridcolor\":\"white\",\"startlinecolor\":\"#2a3f5f\"},\"baxis\":{\"endlinecolor\":\"#2a3f5f\",\"gridcolor\":\"white\",\"linecolor\":\"white\",\"minorgridcolor\":\"white\",\"startlinecolor\":\"#2a3f5f\"},\"type\":\"carpet\"}],\"table\":[{\"cells\":{\"fill\":{\"color\":\"#EBF0F8\"},\"line\":{\"color\":\"white\"}},\"header\":{\"fill\":{\"color\":\"#C8D4E3\"},\"line\":{\"color\":\"white\"}},\"type\":\"table\"}],\"barpolar\":[{\"marker\":{\"line\":{\"color\":\"#E5ECF6\",\"width\":0.5},\"pattern\":{\"fillmode\":\"overlay\",\"size\":10,\"solidity\":0.2}},\"type\":\"barpolar\"}],\"pie\":[{\"automargin\":true,\"type\":\"pie\"}]},\"layout\":{\"autotypenumbers\":\"strict\",\"colorway\":[\"#636efa\",\"#EF553B\",\"#00cc96\",\"#ab63fa\",\"#FFA15A\",\"#19d3f3\",\"#FF6692\",\"#B6E880\",\"#FF97FF\",\"#FECB52\"],\"font\":{\"color\":\"#2a3f5f\"},\"hovermode\":\"closest\",\"hoverlabel\":{\"align\":\"left\"},\"paper_bgcolor\":\"white\",\"plot_bgcolor\":\"#E5ECF6\",\"polar\":{\"bgcolor\":\"#E5ECF6\",\"angularaxis\":{\"gridcolor\":\"white\",\"linecolor\":\"white\",\"ticks\":\"\"},\"radialaxis\":{\"gridcolor\":\"white\",\"linecolor\":\"white\",\"ticks\":\"\"}},\"ternary\":{\"bgcolor\":\"#E5ECF6\",\"aaxis\":{\"gridcolor\":\"white\",\"linecolor\":\"white\",\"ticks\":\"\"},\"baxis\":{\"gridcolor\":\"white\",\"linecolor\":\"white\",\"ticks\":\"\"},\"caxis\":{\"gridcolor\":\"white\",\"linecolor\":\"white\",\"ticks\":\"\"}},\"coloraxis\":{\"colorbar\":{\"outlinewidth\":0,\"ticks\":\"\"}},\"colorscale\":{\"sequential\":[[0.0,\"#0d0887\"],[0.1111111111111111,\"#46039f\"],[0.2222222222222222,\"#7201a8\"],[0.3333333333333333,\"#9c179e\"],[0.4444444444444444,\"#bd3786\"],[0.5555555555555556,\"#d8576b\"],[0.6666666666666666,\"#ed7953\"],[0.7777777777777778,\"#fb9f3a\"],[0.8888888888888888,\"#fdca26\"],[1.0,\"#f0f921\"]],\"sequentialminus\":[[0.0,\"#0d0887\"],[0.1111111111111111,\"#46039f\"],[0.2222222222222222,\"#7201a8\"],[0.3333333333333333,\"#9c179e\"],[0.4444444444444444,\"#bd3786\"],[0.5555555555555556,\"#d8576b\"],[0.6666666666666666,\"#ed7953\"],[0.7777777777777778,\"#fb9f3a\"],[0.8888888888888888,\"#fdca26\"],[1.0,\"#f0f921\"]],\"diverging\":[[0,\"#8e0152\"],[0.1,\"#c51b7d\"],[0.2,\"#de77ae\"],[0.3,\"#f1b6da\"],[0.4,\"#fde0ef\"],[0.5,\"#f7f7f7\"],[0.6,\"#e6f5d0\"],[0.7,\"#b8e186\"],[0.8,\"#7fbc41\"],[0.9,\"#4d9221\"],[1,\"#276419\"]]},\"xaxis\":{\"gridcolor\":\"white\",\"linecolor\":\"white\",\"ticks\":\"\",\"title\":{\"standoff\":15},\"zerolinecolor\":\"white\",\"automargin\":true,\"zerolinewidth\":2},\"yaxis\":{\"gridcolor\":\"white\",\"linecolor\":\"white\",\"ticks\":\"\",\"title\":{\"standoff\":15},\"zerolinecolor\":\"white\",\"automargin\":true,\"zerolinewidth\":2},\"scene\":{\"xaxis\":{\"backgroundcolor\":\"#E5ECF6\",\"gridcolor\":\"white\",\"linecolor\":\"white\",\"showbackground\":true,\"ticks\":\"\",\"zerolinecolor\":\"white\",\"gridwidth\":2},\"yaxis\":{\"backgroundcolor\":\"#E5ECF6\",\"gridcolor\":\"white\",\"linecolor\":\"white\",\"showbackground\":true,\"ticks\":\"\",\"zerolinecolor\":\"white\",\"gridwidth\":2},\"zaxis\":{\"backgroundcolor\":\"#E5ECF6\",\"gridcolor\":\"white\",\"linecolor\":\"white\",\"showbackground\":true,\"ticks\":\"\",\"zerolinecolor\":\"white\",\"gridwidth\":2}},\"shapedefaults\":{\"line\":{\"color\":\"#2a3f5f\"}},\"annotationdefaults\":{\"arrowcolor\":\"#2a3f5f\",\"arrowhead\":0,\"arrowwidth\":1},\"geo\":{\"bgcolor\":\"white\",\"landcolor\":\"#E5ECF6\",\"subunitcolor\":\"white\",\"showland\":true,\"showlakes\":true,\"lakecolor\":\"white\"},\"title\":{\"x\":0.05},\"mapbox\":{\"style\":\"light\"}}}},                        {\"responsive\": true}                    ).then(function(){\n",
              "                            \n",
              "var gd = document.getElementById('f8115214-d2ee-4c7d-b2e1-cbdb15c195d1');\n",
              "var x = new MutationObserver(function (mutations, observer) {{\n",
              "        var display = window.getComputedStyle(gd).display;\n",
              "        if (!display || display === 'none') {{\n",
              "            console.log([gd, 'removed!']);\n",
              "            Plotly.purge(gd);\n",
              "            observer.disconnect();\n",
              "        }}\n",
              "}});\n",
              "\n",
              "// Listen for the removal of the full notebook cells\n",
              "var notebookContainer = gd.closest('#notebook-container');\n",
              "if (notebookContainer) {{\n",
              "    x.observe(notebookContainer, {childList: true});\n",
              "}}\n",
              "\n",
              "// Listen for the clearing of the current output cell\n",
              "var outputEl = gd.closest('.output');\n",
              "if (outputEl) {{\n",
              "    x.observe(outputEl, {childList: true});\n",
              "}}\n",
              "\n",
              "                        })                };                            </script>        </div>\n",
              "</body>\n",
              "</html>"
            ]
          },
          "metadata": {}
        }
      ]
    },
    {
      "cell_type": "code",
      "source": [
        "df.order_purchase_timestamp = pd.to_datetime(df.order_purchase_timestamp)"
      ],
      "metadata": {
        "id": "C8vWU4sg3s9Q"
      },
      "execution_count": 354,
      "outputs": []
    },
    {
      "cell_type": "code",
      "source": [
        "df.info()"
      ],
      "metadata": {
        "colab": {
          "base_uri": "https://localhost:8080/"
        },
        "id": "Sp_juMWn4Amo",
        "outputId": "74cfd85a-e9ca-4575-dfdb-acd5c70c8689"
      },
      "execution_count": 355,
      "outputs": [
        {
          "output_type": "stream",
          "name": "stdout",
          "text": [
            "<class 'pandas.core.frame.DataFrame'>\n",
            "RangeIndex: 3584 entries, 0 to 3583\n",
            "Data columns (total 34 columns):\n",
            " #   Column                         Non-Null Count  Dtype         \n",
            "---  ------                         --------------  -----         \n",
            " 0   Unnamed: 0                     3584 non-null   int64         \n",
            " 1   id                             3584 non-null   int64         \n",
            " 2   order_status                   3584 non-null   object        \n",
            " 3   order_products_value           3584 non-null   float64       \n",
            " 4   order_freight_value            3584 non-null   float64       \n",
            " 5   order_items_qty                3584 non-null   int64         \n",
            " 6   order_sellers_qty              3584 non-null   int64         \n",
            " 7   order_purchase_timestamp       3584 non-null   datetime64[ns]\n",
            " 8   order_aproved_at               3584 non-null   object        \n",
            " 9   order_estimated_delivery_date  3584 non-null   object        \n",
            " 10  order_delivered_customer_date  3467 non-null   object        \n",
            " 11  customer_city                  3584 non-null   object        \n",
            " 12  customer_state                 3584 non-null   object        \n",
            " 13  customer_zip_code_prefix       3584 non-null   int64         \n",
            " 14  product_category_name          3584 non-null   object        \n",
            " 15  product_name_lenght            3584 non-null   int64         \n",
            " 16  product_description_lenght     3584 non-null   int64         \n",
            " 17  product_photos_qty             3584 non-null   int64         \n",
            " 18  review_score                   3584 non-null   int64         \n",
            " 19  review_comment_title           0 non-null      float64       \n",
            " 20  review_comment_message         3584 non-null   object        \n",
            " 21  review_creation_date           3584 non-null   object        \n",
            " 22  review_answer_timestamp        3584 non-null   object        \n",
            " 23  votes_before_estimate          3584 non-null   int64         \n",
            " 24  votes_delayed                  3584 non-null   int64         \n",
            " 25  votes_low_quality              3584 non-null   int64         \n",
            " 26  votes_return                   3584 non-null   int64         \n",
            " 27  votes_not_as_anounced          3584 non-null   int64         \n",
            " 28  votes_partial_delivery         3584 non-null   int64         \n",
            " 29  votes_other_delivery           3584 non-null   int64         \n",
            " 30  votes_other_order              3584 non-null   int64         \n",
            " 31  votes_satisfied                3584 non-null   int64         \n",
            " 32  most_voted_subclass            3413 non-null   object        \n",
            " 33  most_voted_class               3413 non-null   object        \n",
            "dtypes: datetime64[ns](1), float64(3), int64(18), object(12)\n",
            "memory usage: 952.1+ KB\n"
          ]
        }
      ]
    },
    {
      "cell_type": "code",
      "source": [
        "df['order_purchase_month'] = df.order_purchase_timestamp.dt.to_period('M').astype(str)"
      ],
      "metadata": {
        "id": "90gBa70S4F6X"
      },
      "execution_count": 356,
      "outputs": []
    },
    {
      "cell_type": "code",
      "source": [
        "df.order_purchase_month"
      ],
      "metadata": {
        "colab": {
          "base_uri": "https://localhost:8080/"
        },
        "id": "anpDEWBH-OQ2",
        "outputId": "5ec63a76-9775-47a7-c2c3-118e4b3dc64f"
      },
      "execution_count": 357,
      "outputs": [
        {
          "output_type": "execute_result",
          "data": {
            "text/plain": [
              "0       2017-08\n",
              "1       2017-09\n",
              "2       2018-01\n",
              "3       2018-02\n",
              "4       2017-12\n",
              "         ...   \n",
              "3579    2017-11\n",
              "3580    2017-05\n",
              "3581    2017-05\n",
              "3582    2017-09\n",
              "3583    2017-08\n",
              "Name: order_purchase_month, Length: 3584, dtype: object"
            ]
          },
          "metadata": {},
          "execution_count": 357
        }
      ]
    },
    {
      "cell_type": "code",
      "source": [
        "df.head()"
      ],
      "metadata": {
        "colab": {
          "base_uri": "https://localhost:8080/",
          "height": 355
        },
        "id": "OHV5wahP-jUJ",
        "outputId": "2503b702-9c23-40de-baed-9f1be76fb4fb"
      },
      "execution_count": 358,
      "outputs": [
        {
          "output_type": "execute_result",
          "data": {
            "text/plain": [
              "   Unnamed: 0  id order_status  order_products_value  order_freight_value  \\\n",
              "0           0   1    delivered                 89.99                14.38   \n",
              "1           1   2    delivered                 69.00                15.23   \n",
              "2           2   3    delivered                 99.80                15.86   \n",
              "3           3   4    delivered                 87.00                12.74   \n",
              "4           4   5    delivered                 99.90                17.95   \n",
              "\n",
              "   order_items_qty  order_sellers_qty order_purchase_timestamp  \\\n",
              "0                1                  1      2017-08-30 11:41:01   \n",
              "1                1                  1      2017-09-26 09:13:36   \n",
              "2                2                  4      2018-01-15 15:50:42   \n",
              "3                1                  1      2018-02-04 11:16:42   \n",
              "4                1                  2      2017-12-07 11:58:42   \n",
              "\n",
              "             order_aproved_at order_estimated_delivery_date  ...  \\\n",
              "0  2017-08-30 11:55:08.970352    2017-09-21 00:00:00.000000  ...   \n",
              "1  2017-09-26 09:28:10.922048    2017-10-24 00:00:00.000000  ...   \n",
              "2  2018-01-17 07:29:56.419769    2018-02-05 00:00:00.000000  ...   \n",
              "3  2018-02-06 05:31:50.990164    2018-03-13 00:00:00.000000  ...   \n",
              "4  2017-12-08 02:36:49.587515    2018-01-03 00:00:00.000000  ...   \n",
              "\n",
              "  votes_low_quality votes_return votes_not_as_anounced  \\\n",
              "0                 0            0                     0   \n",
              "1                 0            0                     0   \n",
              "2                 0            0                     0   \n",
              "3                 0            0                     0   \n",
              "4                 0            0                     0   \n",
              "\n",
              "   votes_partial_delivery votes_other_delivery  votes_other_order  \\\n",
              "0                       0                    0                  0   \n",
              "1                       0                    0                  0   \n",
              "2                       3                    0                  0   \n",
              "3                       0                    0                  0   \n",
              "4                       3                    0                  0   \n",
              "\n",
              "   votes_satisfied  most_voted_subclass       most_voted_class  \\\n",
              "0                3           satisfeito  satisfeito_com_pedido   \n",
              "1                0          antes_prazo  satisfeito_com_pedido   \n",
              "2                0      entrega_parcial   problemas_de_entrega   \n",
              "3                0             atrasado   problemas_de_entrega   \n",
              "4                0      entrega_parcial   problemas_de_entrega   \n",
              "\n",
              "   order_purchase_month  \n",
              "0               2017-08  \n",
              "1               2017-09  \n",
              "2               2018-01  \n",
              "3               2018-02  \n",
              "4               2017-12  \n",
              "\n",
              "[5 rows x 35 columns]"
            ],
            "text/html": [
              "\n",
              "  <div id=\"df-04db9c24-775f-4984-b24c-cd75d65f2feb\" class=\"colab-df-container\">\n",
              "    <div>\n",
              "<style scoped>\n",
              "    .dataframe tbody tr th:only-of-type {\n",
              "        vertical-align: middle;\n",
              "    }\n",
              "\n",
              "    .dataframe tbody tr th {\n",
              "        vertical-align: top;\n",
              "    }\n",
              "\n",
              "    .dataframe thead th {\n",
              "        text-align: right;\n",
              "    }\n",
              "</style>\n",
              "<table border=\"1\" class=\"dataframe\">\n",
              "  <thead>\n",
              "    <tr style=\"text-align: right;\">\n",
              "      <th></th>\n",
              "      <th>Unnamed: 0</th>\n",
              "      <th>id</th>\n",
              "      <th>order_status</th>\n",
              "      <th>order_products_value</th>\n",
              "      <th>order_freight_value</th>\n",
              "      <th>order_items_qty</th>\n",
              "      <th>order_sellers_qty</th>\n",
              "      <th>order_purchase_timestamp</th>\n",
              "      <th>order_aproved_at</th>\n",
              "      <th>order_estimated_delivery_date</th>\n",
              "      <th>...</th>\n",
              "      <th>votes_low_quality</th>\n",
              "      <th>votes_return</th>\n",
              "      <th>votes_not_as_anounced</th>\n",
              "      <th>votes_partial_delivery</th>\n",
              "      <th>votes_other_delivery</th>\n",
              "      <th>votes_other_order</th>\n",
              "      <th>votes_satisfied</th>\n",
              "      <th>most_voted_subclass</th>\n",
              "      <th>most_voted_class</th>\n",
              "      <th>order_purchase_month</th>\n",
              "    </tr>\n",
              "  </thead>\n",
              "  <tbody>\n",
              "    <tr>\n",
              "      <th>0</th>\n",
              "      <td>0</td>\n",
              "      <td>1</td>\n",
              "      <td>delivered</td>\n",
              "      <td>89.99</td>\n",
              "      <td>14.38</td>\n",
              "      <td>1</td>\n",
              "      <td>1</td>\n",
              "      <td>2017-08-30 11:41:01</td>\n",
              "      <td>2017-08-30 11:55:08.970352</td>\n",
              "      <td>2017-09-21 00:00:00.000000</td>\n",
              "      <td>...</td>\n",
              "      <td>0</td>\n",
              "      <td>0</td>\n",
              "      <td>0</td>\n",
              "      <td>0</td>\n",
              "      <td>0</td>\n",
              "      <td>0</td>\n",
              "      <td>3</td>\n",
              "      <td>satisfeito</td>\n",
              "      <td>satisfeito_com_pedido</td>\n",
              "      <td>2017-08</td>\n",
              "    </tr>\n",
              "    <tr>\n",
              "      <th>1</th>\n",
              "      <td>1</td>\n",
              "      <td>2</td>\n",
              "      <td>delivered</td>\n",
              "      <td>69.00</td>\n",
              "      <td>15.23</td>\n",
              "      <td>1</td>\n",
              "      <td>1</td>\n",
              "      <td>2017-09-26 09:13:36</td>\n",
              "      <td>2017-09-26 09:28:10.922048</td>\n",
              "      <td>2017-10-24 00:00:00.000000</td>\n",
              "      <td>...</td>\n",
              "      <td>0</td>\n",
              "      <td>0</td>\n",
              "      <td>0</td>\n",
              "      <td>0</td>\n",
              "      <td>0</td>\n",
              "      <td>0</td>\n",
              "      <td>0</td>\n",
              "      <td>antes_prazo</td>\n",
              "      <td>satisfeito_com_pedido</td>\n",
              "      <td>2017-09</td>\n",
              "    </tr>\n",
              "    <tr>\n",
              "      <th>2</th>\n",
              "      <td>2</td>\n",
              "      <td>3</td>\n",
              "      <td>delivered</td>\n",
              "      <td>99.80</td>\n",
              "      <td>15.86</td>\n",
              "      <td>2</td>\n",
              "      <td>4</td>\n",
              "      <td>2018-01-15 15:50:42</td>\n",
              "      <td>2018-01-17 07:29:56.419769</td>\n",
              "      <td>2018-02-05 00:00:00.000000</td>\n",
              "      <td>...</td>\n",
              "      <td>0</td>\n",
              "      <td>0</td>\n",
              "      <td>0</td>\n",
              "      <td>3</td>\n",
              "      <td>0</td>\n",
              "      <td>0</td>\n",
              "      <td>0</td>\n",
              "      <td>entrega_parcial</td>\n",
              "      <td>problemas_de_entrega</td>\n",
              "      <td>2018-01</td>\n",
              "    </tr>\n",
              "    <tr>\n",
              "      <th>3</th>\n",
              "      <td>3</td>\n",
              "      <td>4</td>\n",
              "      <td>delivered</td>\n",
              "      <td>87.00</td>\n",
              "      <td>12.74</td>\n",
              "      <td>1</td>\n",
              "      <td>1</td>\n",
              "      <td>2018-02-04 11:16:42</td>\n",
              "      <td>2018-02-06 05:31:50.990164</td>\n",
              "      <td>2018-03-13 00:00:00.000000</td>\n",
              "      <td>...</td>\n",
              "      <td>0</td>\n",
              "      <td>0</td>\n",
              "      <td>0</td>\n",
              "      <td>0</td>\n",
              "      <td>0</td>\n",
              "      <td>0</td>\n",
              "      <td>0</td>\n",
              "      <td>atrasado</td>\n",
              "      <td>problemas_de_entrega</td>\n",
              "      <td>2018-02</td>\n",
              "    </tr>\n",
              "    <tr>\n",
              "      <th>4</th>\n",
              "      <td>4</td>\n",
              "      <td>5</td>\n",
              "      <td>delivered</td>\n",
              "      <td>99.90</td>\n",
              "      <td>17.95</td>\n",
              "      <td>1</td>\n",
              "      <td>2</td>\n",
              "      <td>2017-12-07 11:58:42</td>\n",
              "      <td>2017-12-08 02:36:49.587515</td>\n",
              "      <td>2018-01-03 00:00:00.000000</td>\n",
              "      <td>...</td>\n",
              "      <td>0</td>\n",
              "      <td>0</td>\n",
              "      <td>0</td>\n",
              "      <td>3</td>\n",
              "      <td>0</td>\n",
              "      <td>0</td>\n",
              "      <td>0</td>\n",
              "      <td>entrega_parcial</td>\n",
              "      <td>problemas_de_entrega</td>\n",
              "      <td>2017-12</td>\n",
              "    </tr>\n",
              "  </tbody>\n",
              "</table>\n",
              "<p>5 rows × 35 columns</p>\n",
              "</div>\n",
              "    <div class=\"colab-df-buttons\">\n",
              "\n",
              "  <div class=\"colab-df-container\">\n",
              "    <button class=\"colab-df-convert\" onclick=\"convertToInteractive('df-04db9c24-775f-4984-b24c-cd75d65f2feb')\"\n",
              "            title=\"Convert this dataframe to an interactive table.\"\n",
              "            style=\"display:none;\">\n",
              "\n",
              "  <svg xmlns=\"http://www.w3.org/2000/svg\" height=\"24px\" viewBox=\"0 -960 960 960\">\n",
              "    <path d=\"M120-120v-720h720v720H120Zm60-500h600v-160H180v160Zm220 220h160v-160H400v160Zm0 220h160v-160H400v160ZM180-400h160v-160H180v160Zm440 0h160v-160H620v160ZM180-180h160v-160H180v160Zm440 0h160v-160H620v160Z\"/>\n",
              "  </svg>\n",
              "    </button>\n",
              "\n",
              "  <style>\n",
              "    .colab-df-container {\n",
              "      display:flex;\n",
              "      gap: 12px;\n",
              "    }\n",
              "\n",
              "    .colab-df-convert {\n",
              "      background-color: #E8F0FE;\n",
              "      border: none;\n",
              "      border-radius: 50%;\n",
              "      cursor: pointer;\n",
              "      display: none;\n",
              "      fill: #1967D2;\n",
              "      height: 32px;\n",
              "      padding: 0 0 0 0;\n",
              "      width: 32px;\n",
              "    }\n",
              "\n",
              "    .colab-df-convert:hover {\n",
              "      background-color: #E2EBFA;\n",
              "      box-shadow: 0px 1px 2px rgba(60, 64, 67, 0.3), 0px 1px 3px 1px rgba(60, 64, 67, 0.15);\n",
              "      fill: #174EA6;\n",
              "    }\n",
              "\n",
              "    .colab-df-buttons div {\n",
              "      margin-bottom: 4px;\n",
              "    }\n",
              "\n",
              "    [theme=dark] .colab-df-convert {\n",
              "      background-color: #3B4455;\n",
              "      fill: #D2E3FC;\n",
              "    }\n",
              "\n",
              "    [theme=dark] .colab-df-convert:hover {\n",
              "      background-color: #434B5C;\n",
              "      box-shadow: 0px 1px 3px 1px rgba(0, 0, 0, 0.15);\n",
              "      filter: drop-shadow(0px 1px 2px rgba(0, 0, 0, 0.3));\n",
              "      fill: #FFFFFF;\n",
              "    }\n",
              "  </style>\n",
              "\n",
              "    <script>\n",
              "      const buttonEl =\n",
              "        document.querySelector('#df-04db9c24-775f-4984-b24c-cd75d65f2feb button.colab-df-convert');\n",
              "      buttonEl.style.display =\n",
              "        google.colab.kernel.accessAllowed ? 'block' : 'none';\n",
              "\n",
              "      async function convertToInteractive(key) {\n",
              "        const element = document.querySelector('#df-04db9c24-775f-4984-b24c-cd75d65f2feb');\n",
              "        const dataTable =\n",
              "          await google.colab.kernel.invokeFunction('convertToInteractive',\n",
              "                                                    [key], {});\n",
              "        if (!dataTable) return;\n",
              "\n",
              "        const docLinkHtml = 'Like what you see? Visit the ' +\n",
              "          '<a target=\"_blank\" href=https://colab.research.google.com/notebooks/data_table.ipynb>data table notebook</a>'\n",
              "          + ' to learn more about interactive tables.';\n",
              "        element.innerHTML = '';\n",
              "        dataTable['output_type'] = 'display_data';\n",
              "        await google.colab.output.renderOutput(dataTable, element);\n",
              "        const docLink = document.createElement('div');\n",
              "        docLink.innerHTML = docLinkHtml;\n",
              "        element.appendChild(docLink);\n",
              "      }\n",
              "    </script>\n",
              "  </div>\n",
              "\n",
              "\n",
              "<div id=\"df-74477bc7-ede8-44e8-b040-78d31d4b058b\">\n",
              "  <button class=\"colab-df-quickchart\" onclick=\"quickchart('df-74477bc7-ede8-44e8-b040-78d31d4b058b')\"\n",
              "            title=\"Suggest charts.\"\n",
              "            style=\"display:none;\">\n",
              "\n",
              "<svg xmlns=\"http://www.w3.org/2000/svg\" height=\"24px\"viewBox=\"0 0 24 24\"\n",
              "     width=\"24px\">\n",
              "    <g>\n",
              "        <path d=\"M19 3H5c-1.1 0-2 .9-2 2v14c0 1.1.9 2 2 2h14c1.1 0 2-.9 2-2V5c0-1.1-.9-2-2-2zM9 17H7v-7h2v7zm4 0h-2V7h2v10zm4 0h-2v-4h2v4z\"/>\n",
              "    </g>\n",
              "</svg>\n",
              "  </button>\n",
              "\n",
              "<style>\n",
              "  .colab-df-quickchart {\n",
              "      --bg-color: #E8F0FE;\n",
              "      --fill-color: #1967D2;\n",
              "      --hover-bg-color: #E2EBFA;\n",
              "      --hover-fill-color: #174EA6;\n",
              "      --disabled-fill-color: #AAA;\n",
              "      --disabled-bg-color: #DDD;\n",
              "  }\n",
              "\n",
              "  [theme=dark] .colab-df-quickchart {\n",
              "      --bg-color: #3B4455;\n",
              "      --fill-color: #D2E3FC;\n",
              "      --hover-bg-color: #434B5C;\n",
              "      --hover-fill-color: #FFFFFF;\n",
              "      --disabled-bg-color: #3B4455;\n",
              "      --disabled-fill-color: #666;\n",
              "  }\n",
              "\n",
              "  .colab-df-quickchart {\n",
              "    background-color: var(--bg-color);\n",
              "    border: none;\n",
              "    border-radius: 50%;\n",
              "    cursor: pointer;\n",
              "    display: none;\n",
              "    fill: var(--fill-color);\n",
              "    height: 32px;\n",
              "    padding: 0;\n",
              "    width: 32px;\n",
              "  }\n",
              "\n",
              "  .colab-df-quickchart:hover {\n",
              "    background-color: var(--hover-bg-color);\n",
              "    box-shadow: 0 1px 2px rgba(60, 64, 67, 0.3), 0 1px 3px 1px rgba(60, 64, 67, 0.15);\n",
              "    fill: var(--button-hover-fill-color);\n",
              "  }\n",
              "\n",
              "  .colab-df-quickchart-complete:disabled,\n",
              "  .colab-df-quickchart-complete:disabled:hover {\n",
              "    background-color: var(--disabled-bg-color);\n",
              "    fill: var(--disabled-fill-color);\n",
              "    box-shadow: none;\n",
              "  }\n",
              "\n",
              "  .colab-df-spinner {\n",
              "    border: 2px solid var(--fill-color);\n",
              "    border-color: transparent;\n",
              "    border-bottom-color: var(--fill-color);\n",
              "    animation:\n",
              "      spin 1s steps(1) infinite;\n",
              "  }\n",
              "\n",
              "  @keyframes spin {\n",
              "    0% {\n",
              "      border-color: transparent;\n",
              "      border-bottom-color: var(--fill-color);\n",
              "      border-left-color: var(--fill-color);\n",
              "    }\n",
              "    20% {\n",
              "      border-color: transparent;\n",
              "      border-left-color: var(--fill-color);\n",
              "      border-top-color: var(--fill-color);\n",
              "    }\n",
              "    30% {\n",
              "      border-color: transparent;\n",
              "      border-left-color: var(--fill-color);\n",
              "      border-top-color: var(--fill-color);\n",
              "      border-right-color: var(--fill-color);\n",
              "    }\n",
              "    40% {\n",
              "      border-color: transparent;\n",
              "      border-right-color: var(--fill-color);\n",
              "      border-top-color: var(--fill-color);\n",
              "    }\n",
              "    60% {\n",
              "      border-color: transparent;\n",
              "      border-right-color: var(--fill-color);\n",
              "    }\n",
              "    80% {\n",
              "      border-color: transparent;\n",
              "      border-right-color: var(--fill-color);\n",
              "      border-bottom-color: var(--fill-color);\n",
              "    }\n",
              "    90% {\n",
              "      border-color: transparent;\n",
              "      border-bottom-color: var(--fill-color);\n",
              "    }\n",
              "  }\n",
              "</style>\n",
              "\n",
              "  <script>\n",
              "    async function quickchart(key) {\n",
              "      const quickchartButtonEl =\n",
              "        document.querySelector('#' + key + ' button');\n",
              "      quickchartButtonEl.disabled = true;  // To prevent multiple clicks.\n",
              "      quickchartButtonEl.classList.add('colab-df-spinner');\n",
              "      try {\n",
              "        const charts = await google.colab.kernel.invokeFunction(\n",
              "            'suggestCharts', [key], {});\n",
              "      } catch (error) {\n",
              "        console.error('Error during call to suggestCharts:', error);\n",
              "      }\n",
              "      quickchartButtonEl.classList.remove('colab-df-spinner');\n",
              "      quickchartButtonEl.classList.add('colab-df-quickchart-complete');\n",
              "    }\n",
              "    (() => {\n",
              "      let quickchartButtonEl =\n",
              "        document.querySelector('#df-74477bc7-ede8-44e8-b040-78d31d4b058b button');\n",
              "      quickchartButtonEl.style.display =\n",
              "        google.colab.kernel.accessAllowed ? 'block' : 'none';\n",
              "    })();\n",
              "  </script>\n",
              "</div>\n",
              "    </div>\n",
              "  </div>\n"
            ]
          },
          "metadata": {},
          "execution_count": 358
        }
      ]
    },
    {
      "cell_type": "code",
      "source": [
        "vendas_por_mes = df.groupby(by='order_purchase_month').order_products_value.sum()\n",
        "type(vendas_por_mes)"
      ],
      "metadata": {
        "colab": {
          "base_uri": "https://localhost:8080/"
        },
        "id": "89WRLJ_d-mZk",
        "outputId": "88046f62-1b64-4cbe-b9d2-c36fc295d6f7"
      },
      "execution_count": 359,
      "outputs": [
        {
          "output_type": "execute_result",
          "data": {
            "text/plain": [
              "pandas.core.series.Series"
            ]
          },
          "metadata": {},
          "execution_count": 359
        }
      ]
    },
    {
      "cell_type": "code",
      "source": [
        "vendas_por_mes.head()"
      ],
      "metadata": {
        "colab": {
          "base_uri": "https://localhost:8080/"
        },
        "id": "ZQos-2-x_cvg",
        "outputId": "2e56bdd6-db9a-4c19-cb4f-cffebc63faaa"
      },
      "execution_count": 360,
      "outputs": [
        {
          "output_type": "execute_result",
          "data": {
            "text/plain": [
              "order_purchase_month\n",
              "2017-02        9.99\n",
              "2017-03      902.86\n",
              "2017-04    17654.19\n",
              "2017-05    25556.23\n",
              "2017-06    34172.86\n",
              "Name: order_products_value, dtype: float64"
            ]
          },
          "metadata": {},
          "execution_count": 360
        }
      ]
    },
    {
      "cell_type": "code",
      "source": [
        "vendas_por_mes.index.item"
      ],
      "metadata": {
        "colab": {
          "base_uri": "https://localhost:8080/"
        },
        "id": "5GOIKhtk_iUl",
        "outputId": "ed956f95-25ba-4410-8f5a-2d6b05ef95fd"
      },
      "execution_count": 361,
      "outputs": [
        {
          "output_type": "execute_result",
          "data": {
            "text/plain": [
              "<bound method IndexOpsMixin.item of Index(['2017-02', '2017-03', '2017-04', '2017-05', '2017-06', '2017-07',\n",
              "       '2017-08', '2017-09', '2017-10', '2017-11', '2017-12', '2018-01',\n",
              "       '2018-02', '2018-03', '2018-04'],\n",
              "      dtype='object', name='order_purchase_month')>"
            ]
          },
          "metadata": {},
          "execution_count": 361
        }
      ]
    },
    {
      "cell_type": "code",
      "source": [
        "vendas_por_mes.values"
      ],
      "metadata": {
        "colab": {
          "base_uri": "https://localhost:8080/"
        },
        "id": "qaNRWx1y_oxh",
        "outputId": "e2b82419-bf64-44d3-d727-787d0d02bfc3"
      },
      "execution_count": 362,
      "outputs": [
        {
          "output_type": "execute_result",
          "data": {
            "text/plain": [
              "array([9.990000e+00, 9.028600e+02, 1.765419e+04, 2.555623e+04,\n",
              "       3.417286e+04, 4.728474e+04, 3.989885e+04, 4.546220e+04,\n",
              "       4.091040e+04, 5.537392e+04, 4.380657e+04, 4.675556e+04,\n",
              "       4.256054e+04, 3.343548e+04, 3.754330e+03])"
            ]
          },
          "metadata": {},
          "execution_count": 362
        }
      ]
    },
    {
      "cell_type": "code",
      "source": [
        "data = [go.Scatter(x=vendas_por_mes.index,\n",
        "                   y=vendas_por_mes.values)]"
      ],
      "metadata": {
        "id": "iVrr-TRjCgPa"
      },
      "execution_count": 363,
      "outputs": []
    },
    {
      "cell_type": "code",
      "source": [
        "py.iplot(data)"
      ],
      "metadata": {
        "colab": {
          "base_uri": "https://localhost:8080/",
          "height": 546
        },
        "id": "NZ7XvWUTAgwr",
        "outputId": "263c763e-382a-4262-d4a7-7e7857635386"
      },
      "execution_count": 364,
      "outputs": [
        {
          "output_type": "execute_result",
          "data": {
            "text/plain": [
              "<IPython.lib.display.IFrame at 0x7bb0b662ec80>"
            ],
            "text/html": [
              "\n",
              "        <iframe\n",
              "            width=\"100%\"\n",
              "            height=\"525px\"\n",
              "            src=\"https://plotly.com/~EltonG/18.embed\"\n",
              "            frameborder=\"0\"\n",
              "            allowfullscreen\n",
              "            \n",
              "        ></iframe>\n",
              "        "
            ]
          },
          "metadata": {},
          "execution_count": 364
        }
      ]
    },
    {
      "cell_type": "code",
      "source": [
        "import plotly.io as pyo"
      ],
      "metadata": {
        "id": "Hpkc8eumEkkA"
      },
      "execution_count": 365,
      "outputs": []
    },
    {
      "cell_type": "code",
      "source": [
        "data = [go.Bar(x = vendas_por_mes.index,\n",
        "               y = vendas_por_mes.values,\n",
        "               marker = {'color': 'lightblue'})]"
      ],
      "metadata": {
        "id": "hzAN4RRgG0iq"
      },
      "execution_count": 366,
      "outputs": []
    },
    {
      "cell_type": "code",
      "source": [
        "configuracoes_layout = go.Layout(title = 'Vendas no Periodo',\n",
        "                                 yaxis = {'title': 'Valores em Vendas'},\n",
        "                                 xaxis = {'title': 'Periodo'})"
      ],
      "metadata": {
        "id": "dLV_9VxQH2AJ"
      },
      "execution_count": 367,
      "outputs": []
    },
    {
      "cell_type": "code",
      "source": [
        "fig = go.Figure(data = data, layout = configuracoes_layout)"
      ],
      "metadata": {
        "id": "c-oYXWsgIU4o"
      },
      "execution_count": 368,
      "outputs": []
    },
    {
      "cell_type": "code",
      "source": [
        "py.iplot(fig)"
      ],
      "metadata": {
        "colab": {
          "base_uri": "https://localhost:8080/",
          "height": 546
        },
        "id": "NhGhapX8Ies2",
        "outputId": "509a37dd-2b6c-44d5-fcb3-0b3fcac6170b"
      },
      "execution_count": 369,
      "outputs": [
        {
          "output_type": "execute_result",
          "data": {
            "text/plain": [
              "<IPython.lib.display.IFrame at 0x7bb0af570dc0>"
            ],
            "text/html": [
              "\n",
              "        <iframe\n",
              "            width=\"100%\"\n",
              "            height=\"525px\"\n",
              "            src=\"https://plotly.com/~EltonG/20.embed\"\n",
              "            frameborder=\"0\"\n",
              "            allowfullscreen\n",
              "            \n",
              "        ></iframe>\n",
              "        "
            ]
          },
          "metadata": {},
          "execution_count": 369
        }
      ]
    },
    {
      "cell_type": "code",
      "source": [
        "data = [go.Bar(x=vendas_por_mes.index,\n",
        "               y=vendas_por_mes.values,\n",
        "               marker={'color': 'lightblue',\n",
        "                       'line':{'color': '#333',\n",
        "                               'width': 2}\n",
        "                       },\n",
        "               opacity=0.7\n",
        "               )\n",
        "]"
      ],
      "metadata": {
        "id": "ZB-JEnbzyvuz"
      },
      "execution_count": 370,
      "outputs": []
    },
    {
      "cell_type": "code",
      "source": [
        "configuracoes_layout = go.Layout(title = \"Vendas no Período\",\n",
        "                                 yaxis = {\"title\": \"Valores em Vendas\"},\n",
        "                                 xaxis = {\"title\": \"Período\"})"
      ],
      "metadata": {
        "id": "pShO3YvpBpJP"
      },
      "execution_count": 371,
      "outputs": []
    },
    {
      "cell_type": "code",
      "source": [
        "fig = go.Figure(data = data, layout = configuracoes_layout)"
      ],
      "metadata": {
        "id": "wqP7R1WzDWaC"
      },
      "execution_count": 372,
      "outputs": []
    },
    {
      "cell_type": "code",
      "source": [
        "py.iplot(fig)"
      ],
      "metadata": {
        "colab": {
          "base_uri": "https://localhost:8080/",
          "height": 546
        },
        "id": "BqIjig9sD15Q",
        "outputId": "79c32a06-c1d7-4687-fa88-e7b9c2cfc894"
      },
      "execution_count": 373,
      "outputs": [
        {
          "output_type": "execute_result",
          "data": {
            "text/plain": [
              "<IPython.lib.display.IFrame at 0x7bb0b6c83bb0>"
            ],
            "text/html": [
              "\n",
              "        <iframe\n",
              "            width=\"100%\"\n",
              "            height=\"525px\"\n",
              "            src=\"https://plotly.com/~EltonG/22.embed\"\n",
              "            frameborder=\"0\"\n",
              "            allowfullscreen\n",
              "            \n",
              "        ></iframe>\n",
              "        "
            ]
          },
          "metadata": {},
          "execution_count": 373
        }
      ]
    },
    {
      "cell_type": "code",
      "source": [
        "maximo_de_vendas = vendas_por_mes.values.max()"
      ],
      "metadata": {
        "id": "PT_qsj3pD_LT"
      },
      "execution_count": 374,
      "outputs": []
    },
    {
      "cell_type": "code",
      "source": [
        "maximo_de_vendas"
      ],
      "metadata": {
        "colab": {
          "base_uri": "https://localhost:8080/"
        },
        "id": "LY5QxWVWERxi",
        "outputId": "8553b7b7-80e7-475a-9a36-7c139b79e2e4"
      },
      "execution_count": 375,
      "outputs": [
        {
          "output_type": "execute_result",
          "data": {
            "text/plain": [
              "55373.92"
            ]
          },
          "metadata": {},
          "execution_count": 375
        }
      ]
    },
    {
      "cell_type": "code",
      "source": [
        "cores=[]\n",
        "for x, y in zip(vendas_por_mes.values, vendas_por_mes.index):\n",
        "  if x == maximo_de_vendas :\n",
        "    mes_maximo_de_vendas = y\n",
        "    cores.append(\"blue\")\n",
        "  else:\n",
        "    cores.append(\"lightblue\")"
      ],
      "metadata": {
        "id": "eH57c9mdOaM9"
      },
      "execution_count": 376,
      "outputs": []
    },
    {
      "cell_type": "code",
      "source": [
        "data = [go.Bar(x=vendas_por_mes.index,\n",
        "               y=vendas_por_mes.values,\n",
        "               marker={'color': 'lightblue',\n",
        "                       'line':{'color': '#333',\n",
        "                               'width': 2}\n",
        "                       },\n",
        "               opacity=0.7\n",
        "               )\n",
        "]"
      ],
      "metadata": {
        "id": "pjxhcHFTO2Sf"
      },
      "execution_count": 377,
      "outputs": []
    },
    {
      "cell_type": "code",
      "source": [
        "configuracoes_layout = go.Layout(title = \"Vendas no Período\",\n",
        "                                 yaxis = {\"title\": \"Valores em Vendas\"},\n",
        "                                 xaxis = {\"title\": \"Período\"},\n",
        "                                 annotations =  [{\"text\" : \"Mês destaque de vendas\",\n",
        "                                                  \"x\" : mes_maximo_de_vendas,\n",
        "                                                  \"y\" : maximo_de_vendas}])"
      ],
      "metadata": {
        "id": "3lCxr91zQtSZ"
      },
      "execution_count": 378,
      "outputs": []
    },
    {
      "cell_type": "code",
      "source": [
        "fig = go.Figure(data = data, layout = configuracoes_layout)"
      ],
      "metadata": {
        "id": "XVloSUoaQvRn"
      },
      "execution_count": 379,
      "outputs": []
    },
    {
      "cell_type": "code",
      "source": [
        "py.iplot(fig)"
      ],
      "metadata": {
        "colab": {
          "base_uri": "https://localhost:8080/",
          "height": 546
        },
        "id": "jT0z5Cn0Q1me",
        "outputId": "a0ef31c1-9e59-4252-cc48-09df97d12989"
      },
      "execution_count": 380,
      "outputs": [
        {
          "output_type": "execute_result",
          "data": {
            "text/plain": [
              "<IPython.lib.display.IFrame at 0x7bb0af572c80>"
            ],
            "text/html": [
              "\n",
              "        <iframe\n",
              "            width=\"100%\"\n",
              "            height=\"525px\"\n",
              "            src=\"https://plotly.com/~EltonG/24.embed\"\n",
              "            frameborder=\"0\"\n",
              "            allowfullscreen\n",
              "            \n",
              "        ></iframe>\n",
              "        "
            ]
          },
          "metadata": {},
          "execution_count": 380
        }
      ]
    },
    {
      "cell_type": "code",
      "source": [
        "vendas_ano_anterior = vendas_por_mes - 10000.00"
      ],
      "metadata": {
        "id": "Ohd1776JQ6T-"
      },
      "execution_count": 381,
      "outputs": []
    },
    {
      "cell_type": "code",
      "source": [
        "import plotly.offline as py"
      ],
      "metadata": {
        "id": "3XEGJIhqTrWE"
      },
      "execution_count": 382,
      "outputs": []
    },
    {
      "cell_type": "code",
      "source": [
        "import plotly.graph_objs as go"
      ],
      "metadata": {
        "id": "EoHhSLJyTyo_"
      },
      "execution_count": 383,
      "outputs": []
    },
    {
      "cell_type": "code",
      "source": [
        "data = [go.Bar(x = vendas_por_mes.index,\n",
        "               y = vendas_por_mes.values,\n",
        "               marker = {\"color\": cores,\n",
        "                         \"line\" : {\"color\": \"#333\",\n",
        "                                   \"width\": 2}\n",
        "                         },\n",
        "               opacity = 0.7\n",
        "               )\n",
        "]"
      ],
      "metadata": {
        "id": "bYO7KdrwT4wc"
      },
      "execution_count": 384,
      "outputs": []
    },
    {
      "cell_type": "code",
      "source": [
        "configuracoes_layout = go.Layout(title = \"Vendas no Período\",\n",
        "                                 yaxis = {\"title\": \"Valores em Vendas\"},\n",
        "                                 xaxis = {\"title\": \"Período\"},\n",
        "                                 annotations =  [{\"text\" : \"Mês destaque de vendas\",\n",
        "                                                  \"x\" : mes_maximo_de_vendas,\n",
        "                                                  \"y\" : maximo_de_vendas}])"
      ],
      "metadata": {
        "id": "2XJ4EqYUUora"
      },
      "execution_count": 385,
      "outputs": []
    },
    {
      "cell_type": "code",
      "source": [
        "fig = go.Figure(data = data, layout = configuracoes_layout)"
      ],
      "metadata": {
        "id": "IeTHgILPVBn2"
      },
      "execution_count": 386,
      "outputs": []
    },
    {
      "cell_type": "code",
      "source": [
        "py.iplot(fig, filename = 'Vendas no Mês')"
      ],
      "metadata": {
        "colab": {
          "base_uri": "https://localhost:8080/",
          "height": 542
        },
        "id": "f4opLA5kVDPL",
        "outputId": "96e3642b-6470-4449-8a4f-124b0d21cf67"
      },
      "execution_count": 387,
      "outputs": [
        {
          "output_type": "display_data",
          "data": {
            "text/html": [
              "<html>\n",
              "<head><meta charset=\"utf-8\" /></head>\n",
              "<body>\n",
              "    <div>            <script src=\"https://cdnjs.cloudflare.com/ajax/libs/mathjax/2.7.5/MathJax.js?config=TeX-AMS-MML_SVG\"></script><script type=\"text/javascript\">if (window.MathJax && window.MathJax.Hub && window.MathJax.Hub.Config) {window.MathJax.Hub.Config({SVG: {font: \"STIX-Web\"}});}</script>                <script type=\"text/javascript\">window.PlotlyConfig = {MathJaxConfig: 'local'};</script>\n",
              "        <script charset=\"utf-8\" src=\"https://cdn.plot.ly/plotly-2.24.1.min.js\"></script>                <div id=\"f89e461b-2413-4226-a595-c1f8437a2af7\" class=\"plotly-graph-div\" style=\"height:525px; width:100%;\"></div>            <script type=\"text/javascript\">                                    window.PLOTLYENV=window.PLOTLYENV || {};                                    if (document.getElementById(\"f89e461b-2413-4226-a595-c1f8437a2af7\")) {                    Plotly.newPlot(                        \"f89e461b-2413-4226-a595-c1f8437a2af7\",                        [{\"marker\":{\"color\":[\"lightblue\",\"lightblue\",\"lightblue\",\"lightblue\",\"lightblue\",\"lightblue\",\"lightblue\",\"lightblue\",\"lightblue\",\"blue\",\"lightblue\",\"lightblue\",\"lightblue\",\"lightblue\",\"lightblue\"],\"line\":{\"color\":\"#333\",\"width\":2}},\"opacity\":0.7,\"x\":[\"2017-02\",\"2017-03\",\"2017-04\",\"2017-05\",\"2017-06\",\"2017-07\",\"2017-08\",\"2017-09\",\"2017-10\",\"2017-11\",\"2017-12\",\"2018-01\",\"2018-02\",\"2018-03\",\"2018-04\"],\"y\":[9.99,902.86,17654.190000000002,25556.23,34172.86,47284.74,39898.85,45462.2,40910.4,55373.92,43806.57,46755.56,42560.54,33435.48,3754.33],\"type\":\"bar\"}],                        {\"annotations\":[{\"text\":\"M\\u00eas destaque de vendas\",\"x\":\"2017-11\",\"y\":55373.92}],\"template\":{\"data\":{\"barpolar\":[{\"marker\":{\"line\":{\"color\":\"#E5ECF6\",\"width\":0.5},\"pattern\":{\"fillmode\":\"overlay\",\"size\":10,\"solidity\":0.2}},\"type\":\"barpolar\"}],\"bar\":[{\"error_x\":{\"color\":\"#2a3f5f\"},\"error_y\":{\"color\":\"#2a3f5f\"},\"marker\":{\"line\":{\"color\":\"#E5ECF6\",\"width\":0.5},\"pattern\":{\"fillmode\":\"overlay\",\"size\":10,\"solidity\":0.2}},\"type\":\"bar\"}],\"carpet\":[{\"aaxis\":{\"endlinecolor\":\"#2a3f5f\",\"gridcolor\":\"white\",\"linecolor\":\"white\",\"minorgridcolor\":\"white\",\"startlinecolor\":\"#2a3f5f\"},\"baxis\":{\"endlinecolor\":\"#2a3f5f\",\"gridcolor\":\"white\",\"linecolor\":\"white\",\"minorgridcolor\":\"white\",\"startlinecolor\":\"#2a3f5f\"},\"type\":\"carpet\"}],\"choropleth\":[{\"colorbar\":{\"outlinewidth\":0,\"ticks\":\"\"},\"type\":\"choropleth\"}],\"contourcarpet\":[{\"colorbar\":{\"outlinewidth\":0,\"ticks\":\"\"},\"type\":\"contourcarpet\"}],\"contour\":[{\"colorbar\":{\"outlinewidth\":0,\"ticks\":\"\"},\"colorscale\":[[0.0,\"#0d0887\"],[0.1111111111111111,\"#46039f\"],[0.2222222222222222,\"#7201a8\"],[0.3333333333333333,\"#9c179e\"],[0.4444444444444444,\"#bd3786\"],[0.5555555555555556,\"#d8576b\"],[0.6666666666666666,\"#ed7953\"],[0.7777777777777778,\"#fb9f3a\"],[0.8888888888888888,\"#fdca26\"],[1.0,\"#f0f921\"]],\"type\":\"contour\"}],\"heatmapgl\":[{\"colorbar\":{\"outlinewidth\":0,\"ticks\":\"\"},\"colorscale\":[[0.0,\"#0d0887\"],[0.1111111111111111,\"#46039f\"],[0.2222222222222222,\"#7201a8\"],[0.3333333333333333,\"#9c179e\"],[0.4444444444444444,\"#bd3786\"],[0.5555555555555556,\"#d8576b\"],[0.6666666666666666,\"#ed7953\"],[0.7777777777777778,\"#fb9f3a\"],[0.8888888888888888,\"#fdca26\"],[1.0,\"#f0f921\"]],\"type\":\"heatmapgl\"}],\"heatmap\":[{\"colorbar\":{\"outlinewidth\":0,\"ticks\":\"\"},\"colorscale\":[[0.0,\"#0d0887\"],[0.1111111111111111,\"#46039f\"],[0.2222222222222222,\"#7201a8\"],[0.3333333333333333,\"#9c179e\"],[0.4444444444444444,\"#bd3786\"],[0.5555555555555556,\"#d8576b\"],[0.6666666666666666,\"#ed7953\"],[0.7777777777777778,\"#fb9f3a\"],[0.8888888888888888,\"#fdca26\"],[1.0,\"#f0f921\"]],\"type\":\"heatmap\"}],\"histogram2dcontour\":[{\"colorbar\":{\"outlinewidth\":0,\"ticks\":\"\"},\"colorscale\":[[0.0,\"#0d0887\"],[0.1111111111111111,\"#46039f\"],[0.2222222222222222,\"#7201a8\"],[0.3333333333333333,\"#9c179e\"],[0.4444444444444444,\"#bd3786\"],[0.5555555555555556,\"#d8576b\"],[0.6666666666666666,\"#ed7953\"],[0.7777777777777778,\"#fb9f3a\"],[0.8888888888888888,\"#fdca26\"],[1.0,\"#f0f921\"]],\"type\":\"histogram2dcontour\"}],\"histogram2d\":[{\"colorbar\":{\"outlinewidth\":0,\"ticks\":\"\"},\"colorscale\":[[0.0,\"#0d0887\"],[0.1111111111111111,\"#46039f\"],[0.2222222222222222,\"#7201a8\"],[0.3333333333333333,\"#9c179e\"],[0.4444444444444444,\"#bd3786\"],[0.5555555555555556,\"#d8576b\"],[0.6666666666666666,\"#ed7953\"],[0.7777777777777778,\"#fb9f3a\"],[0.8888888888888888,\"#fdca26\"],[1.0,\"#f0f921\"]],\"type\":\"histogram2d\"}],\"histogram\":[{\"marker\":{\"pattern\":{\"fillmode\":\"overlay\",\"size\":10,\"solidity\":0.2}},\"type\":\"histogram\"}],\"mesh3d\":[{\"colorbar\":{\"outlinewidth\":0,\"ticks\":\"\"},\"type\":\"mesh3d\"}],\"parcoords\":[{\"line\":{\"colorbar\":{\"outlinewidth\":0,\"ticks\":\"\"}},\"type\":\"parcoords\"}],\"pie\":[{\"automargin\":true,\"type\":\"pie\"}],\"scatter3d\":[{\"line\":{\"colorbar\":{\"outlinewidth\":0,\"ticks\":\"\"}},\"marker\":{\"colorbar\":{\"outlinewidth\":0,\"ticks\":\"\"}},\"type\":\"scatter3d\"}],\"scattercarpet\":[{\"marker\":{\"colorbar\":{\"outlinewidth\":0,\"ticks\":\"\"}},\"type\":\"scattercarpet\"}],\"scattergeo\":[{\"marker\":{\"colorbar\":{\"outlinewidth\":0,\"ticks\":\"\"}},\"type\":\"scattergeo\"}],\"scattergl\":[{\"marker\":{\"colorbar\":{\"outlinewidth\":0,\"ticks\":\"\"}},\"type\":\"scattergl\"}],\"scattermapbox\":[{\"marker\":{\"colorbar\":{\"outlinewidth\":0,\"ticks\":\"\"}},\"type\":\"scattermapbox\"}],\"scatterpolargl\":[{\"marker\":{\"colorbar\":{\"outlinewidth\":0,\"ticks\":\"\"}},\"type\":\"scatterpolargl\"}],\"scatterpolar\":[{\"marker\":{\"colorbar\":{\"outlinewidth\":0,\"ticks\":\"\"}},\"type\":\"scatterpolar\"}],\"scatter\":[{\"fillpattern\":{\"fillmode\":\"overlay\",\"size\":10,\"solidity\":0.2},\"type\":\"scatter\"}],\"scatterternary\":[{\"marker\":{\"colorbar\":{\"outlinewidth\":0,\"ticks\":\"\"}},\"type\":\"scatterternary\"}],\"surface\":[{\"colorbar\":{\"outlinewidth\":0,\"ticks\":\"\"},\"colorscale\":[[0.0,\"#0d0887\"],[0.1111111111111111,\"#46039f\"],[0.2222222222222222,\"#7201a8\"],[0.3333333333333333,\"#9c179e\"],[0.4444444444444444,\"#bd3786\"],[0.5555555555555556,\"#d8576b\"],[0.6666666666666666,\"#ed7953\"],[0.7777777777777778,\"#fb9f3a\"],[0.8888888888888888,\"#fdca26\"],[1.0,\"#f0f921\"]],\"type\":\"surface\"}],\"table\":[{\"cells\":{\"fill\":{\"color\":\"#EBF0F8\"},\"line\":{\"color\":\"white\"}},\"header\":{\"fill\":{\"color\":\"#C8D4E3\"},\"line\":{\"color\":\"white\"}},\"type\":\"table\"}]},\"layout\":{\"annotationdefaults\":{\"arrowcolor\":\"#2a3f5f\",\"arrowhead\":0,\"arrowwidth\":1},\"autotypenumbers\":\"strict\",\"coloraxis\":{\"colorbar\":{\"outlinewidth\":0,\"ticks\":\"\"}},\"colorscale\":{\"diverging\":[[0,\"#8e0152\"],[0.1,\"#c51b7d\"],[0.2,\"#de77ae\"],[0.3,\"#f1b6da\"],[0.4,\"#fde0ef\"],[0.5,\"#f7f7f7\"],[0.6,\"#e6f5d0\"],[0.7,\"#b8e186\"],[0.8,\"#7fbc41\"],[0.9,\"#4d9221\"],[1,\"#276419\"]],\"sequential\":[[0.0,\"#0d0887\"],[0.1111111111111111,\"#46039f\"],[0.2222222222222222,\"#7201a8\"],[0.3333333333333333,\"#9c179e\"],[0.4444444444444444,\"#bd3786\"],[0.5555555555555556,\"#d8576b\"],[0.6666666666666666,\"#ed7953\"],[0.7777777777777778,\"#fb9f3a\"],[0.8888888888888888,\"#fdca26\"],[1.0,\"#f0f921\"]],\"sequentialminus\":[[0.0,\"#0d0887\"],[0.1111111111111111,\"#46039f\"],[0.2222222222222222,\"#7201a8\"],[0.3333333333333333,\"#9c179e\"],[0.4444444444444444,\"#bd3786\"],[0.5555555555555556,\"#d8576b\"],[0.6666666666666666,\"#ed7953\"],[0.7777777777777778,\"#fb9f3a\"],[0.8888888888888888,\"#fdca26\"],[1.0,\"#f0f921\"]]},\"colorway\":[\"#636efa\",\"#EF553B\",\"#00cc96\",\"#ab63fa\",\"#FFA15A\",\"#19d3f3\",\"#FF6692\",\"#B6E880\",\"#FF97FF\",\"#FECB52\"],\"font\":{\"color\":\"#2a3f5f\"},\"geo\":{\"bgcolor\":\"white\",\"lakecolor\":\"white\",\"landcolor\":\"#E5ECF6\",\"showlakes\":true,\"showland\":true,\"subunitcolor\":\"white\"},\"hoverlabel\":{\"align\":\"left\"},\"hovermode\":\"closest\",\"mapbox\":{\"style\":\"light\"},\"paper_bgcolor\":\"white\",\"plot_bgcolor\":\"#E5ECF6\",\"polar\":{\"angularaxis\":{\"gridcolor\":\"white\",\"linecolor\":\"white\",\"ticks\":\"\"},\"bgcolor\":\"#E5ECF6\",\"radialaxis\":{\"gridcolor\":\"white\",\"linecolor\":\"white\",\"ticks\":\"\"}},\"scene\":{\"xaxis\":{\"backgroundcolor\":\"#E5ECF6\",\"gridcolor\":\"white\",\"gridwidth\":2,\"linecolor\":\"white\",\"showbackground\":true,\"ticks\":\"\",\"zerolinecolor\":\"white\"},\"yaxis\":{\"backgroundcolor\":\"#E5ECF6\",\"gridcolor\":\"white\",\"gridwidth\":2,\"linecolor\":\"white\",\"showbackground\":true,\"ticks\":\"\",\"zerolinecolor\":\"white\"},\"zaxis\":{\"backgroundcolor\":\"#E5ECF6\",\"gridcolor\":\"white\",\"gridwidth\":2,\"linecolor\":\"white\",\"showbackground\":true,\"ticks\":\"\",\"zerolinecolor\":\"white\"}},\"shapedefaults\":{\"line\":{\"color\":\"#2a3f5f\"}},\"ternary\":{\"aaxis\":{\"gridcolor\":\"white\",\"linecolor\":\"white\",\"ticks\":\"\"},\"baxis\":{\"gridcolor\":\"white\",\"linecolor\":\"white\",\"ticks\":\"\"},\"bgcolor\":\"#E5ECF6\",\"caxis\":{\"gridcolor\":\"white\",\"linecolor\":\"white\",\"ticks\":\"\"}},\"title\":{\"x\":0.05},\"xaxis\":{\"automargin\":true,\"gridcolor\":\"white\",\"linecolor\":\"white\",\"ticks\":\"\",\"title\":{\"standoff\":15},\"zerolinecolor\":\"white\",\"zerolinewidth\":2},\"yaxis\":{\"automargin\":true,\"gridcolor\":\"white\",\"linecolor\":\"white\",\"ticks\":\"\",\"title\":{\"standoff\":15},\"zerolinecolor\":\"white\",\"zerolinewidth\":2}}},\"title\":{\"text\":\"Vendas no Per\\u00edodo\"},\"xaxis\":{\"title\":{\"text\":\"Per\\u00edodo\"}},\"yaxis\":{\"title\":{\"text\":\"Valores em Vendas\"}}},                        {\"responsive\": true}                    ).then(function(){\n",
              "                            \n",
              "var gd = document.getElementById('f89e461b-2413-4226-a595-c1f8437a2af7');\n",
              "var x = new MutationObserver(function (mutations, observer) {{\n",
              "        var display = window.getComputedStyle(gd).display;\n",
              "        if (!display || display === 'none') {{\n",
              "            console.log([gd, 'removed!']);\n",
              "            Plotly.purge(gd);\n",
              "            observer.disconnect();\n",
              "        }}\n",
              "}});\n",
              "\n",
              "// Listen for the removal of the full notebook cells\n",
              "var notebookContainer = gd.closest('#notebook-container');\n",
              "if (notebookContainer) {{\n",
              "    x.observe(notebookContainer, {childList: true});\n",
              "}}\n",
              "\n",
              "// Listen for the clearing of the current output cell\n",
              "var outputEl = gd.closest('.output');\n",
              "if (outputEl) {{\n",
              "    x.observe(outputEl, {childList: true});\n",
              "}}\n",
              "\n",
              "                        })                };                            </script>        </div>\n",
              "</body>\n",
              "</html>"
            ]
          },
          "metadata": {}
        }
      ]
    },
    {
      "cell_type": "code",
      "source": [
        "vendas_produto_por_categoria = df.groupby(by = \"product_category_name\").id.count()"
      ],
      "metadata": {
        "id": "ADxt_zrGVmc4"
      },
      "execution_count": 388,
      "outputs": []
    },
    {
      "cell_type": "code",
      "source": [
        "vendas_produto_por_categoria = vendas_produto_por_categoria.loc[vendas_produto_por_categoria.values > 1]"
      ],
      "metadata": {
        "id": "Pmd2CBqlV5Wy"
      },
      "execution_count": 389,
      "outputs": []
    },
    {
      "cell_type": "code",
      "source": [
        "vendas_produto_por_categoria.sort_values(ascending = False, inplace =True)"
      ],
      "metadata": {
        "id": "G--nzpXtWL2N"
      },
      "execution_count": 390,
      "outputs": []
    },
    {
      "cell_type": "code",
      "source": [
        "trace0 = go.Bar(x = vendas_produto_por_categoria.index,\n",
        "                y = vendas_produto_por_categoria.values,\n",
        "                marker = {\"color\": \"#00ff2a\"},\n",
        "                orientation=\"v\")\n",
        "data = [trace0]"
      ],
      "metadata": {
        "id": "NOVoDyyZWbbi"
      },
      "execution_count": 391,
      "outputs": []
    },
    {
      "cell_type": "code",
      "source": [
        "configuracoes_layout = go.Layout(title = \"Vendas por categoria de Produtos\",\n",
        "                                 xaxis = dict(\n",
        "                                    titlefont = dict(\n",
        "                                        size = 50,\n",
        "                                        color = \"lightgrey\"),\n",
        "                                tickangle = 75),\n",
        "                                 yaxis = { \"title\" : \"Quantidade Vendida\"})"
      ],
      "metadata": {
        "id": "ysW7A5ouY8PQ"
      },
      "execution_count": 392,
      "outputs": []
    },
    {
      "cell_type": "code",
      "source": [
        "fig = go.Figure(data = data, layout = configuracoes_layout)"
      ],
      "metadata": {
        "id": "R723t-S4wJfH"
      },
      "execution_count": 393,
      "outputs": []
    },
    {
      "cell_type": "code",
      "source": [
        "py.iplot(fig)"
      ],
      "metadata": {
        "colab": {
          "base_uri": "https://localhost:8080/",
          "height": 542
        },
        "id": "FTJo4dg-ws1I",
        "outputId": "d2a4ba96-df7f-4288-911b-8b4c8192370b"
      },
      "execution_count": 394,
      "outputs": [
        {
          "output_type": "display_data",
          "data": {
            "text/html": [
              "<html>\n",
              "<head><meta charset=\"utf-8\" /></head>\n",
              "<body>\n",
              "    <div>            <script src=\"https://cdnjs.cloudflare.com/ajax/libs/mathjax/2.7.5/MathJax.js?config=TeX-AMS-MML_SVG\"></script><script type=\"text/javascript\">if (window.MathJax && window.MathJax.Hub && window.MathJax.Hub.Config) {window.MathJax.Hub.Config({SVG: {font: \"STIX-Web\"}});}</script>                <script type=\"text/javascript\">window.PlotlyConfig = {MathJaxConfig: 'local'};</script>\n",
              "        <script charset=\"utf-8\" src=\"https://cdn.plot.ly/plotly-2.24.1.min.js\"></script>                <div id=\"30821957-87a9-44cc-9923-2f468570af42\" class=\"plotly-graph-div\" style=\"height:525px; width:100%;\"></div>            <script type=\"text/javascript\">                                    window.PLOTLYENV=window.PLOTLYENV || {};                                    if (document.getElementById(\"30821957-87a9-44cc-9923-2f468570af42\")) {                    Plotly.newPlot(                        \"30821957-87a9-44cc-9923-2f468570af42\",                        [{\"marker\":{\"color\":\"#00ff2a\"},\"orientation\":\"v\",\"x\":[\"cama_mesa_banho\",\"moveis_decoracao\",\"beleza_saude\",\"esporte_lazer\",\"informatica_acessorios\",\"utilidades_domesticas\",\"ferramentas_jardim\",\"relogios_presentes\",\"cool_stuff\",\"perfumaria\",\"brinquedos\",\"automotivo\",\"fashion_bolsas_e_acessorios\",\"telefonia\",\"bebes\",\"moveis_escritorio\",\"papelaria\",\"eletronicos\",\"pet_shop\",\"malas_acessorios\",\"consoles_games\",\"casa_conforto\",\"eletrodomesticos\",\"eletroportateis\",\"fashion_roupa_masculina\",\"fashion_calcados\",\"market_place\",\"instrumentos_musicais\",\"livros_interesse_geral\",\"moveis_sala\",\"construcao_ferramentas_construcao\",\"alimentos_bebidas\",\"artes\",\"climatizacao\",\"livros_tecnicos\",\"alimentos\",\"fashion_underwear_e_moda_praia\",\"bebidas\",\"construcao_ferramentas_jardim\",\"eletrodomesticos_2\",\"pcs\",\"artigos_de_natal\",\"audio\",\"moveis_cozinha_area_de_servico_jantar_e_jardim\",\"tablets_impressao_imagem\",\"agro_industria_e_comercio\",\"moveis_colchao_e_estofado\",\"livros_importados\",\"dvds_blu_ray\",\"construcao_ferramentas_iluminacao\",\"casa_construcao\",\"artigos_de_festas\"],\"y\":[471,302,253,224,215,199,197,196,152,140,137,134,125,118,83,77,65,55,52,49,32,31,29,26,23,19,19,15,15,14,12,9,8,7,7,6,6,6,6,6,5,5,4,4,3,3,2,2,2,2,2,2],\"type\":\"bar\"}],                        {\"template\":{\"data\":{\"barpolar\":[{\"marker\":{\"line\":{\"color\":\"#E5ECF6\",\"width\":0.5},\"pattern\":{\"fillmode\":\"overlay\",\"size\":10,\"solidity\":0.2}},\"type\":\"barpolar\"}],\"bar\":[{\"error_x\":{\"color\":\"#2a3f5f\"},\"error_y\":{\"color\":\"#2a3f5f\"},\"marker\":{\"line\":{\"color\":\"#E5ECF6\",\"width\":0.5},\"pattern\":{\"fillmode\":\"overlay\",\"size\":10,\"solidity\":0.2}},\"type\":\"bar\"}],\"carpet\":[{\"aaxis\":{\"endlinecolor\":\"#2a3f5f\",\"gridcolor\":\"white\",\"linecolor\":\"white\",\"minorgridcolor\":\"white\",\"startlinecolor\":\"#2a3f5f\"},\"baxis\":{\"endlinecolor\":\"#2a3f5f\",\"gridcolor\":\"white\",\"linecolor\":\"white\",\"minorgridcolor\":\"white\",\"startlinecolor\":\"#2a3f5f\"},\"type\":\"carpet\"}],\"choropleth\":[{\"colorbar\":{\"outlinewidth\":0,\"ticks\":\"\"},\"type\":\"choropleth\"}],\"contourcarpet\":[{\"colorbar\":{\"outlinewidth\":0,\"ticks\":\"\"},\"type\":\"contourcarpet\"}],\"contour\":[{\"colorbar\":{\"outlinewidth\":0,\"ticks\":\"\"},\"colorscale\":[[0.0,\"#0d0887\"],[0.1111111111111111,\"#46039f\"],[0.2222222222222222,\"#7201a8\"],[0.3333333333333333,\"#9c179e\"],[0.4444444444444444,\"#bd3786\"],[0.5555555555555556,\"#d8576b\"],[0.6666666666666666,\"#ed7953\"],[0.7777777777777778,\"#fb9f3a\"],[0.8888888888888888,\"#fdca26\"],[1.0,\"#f0f921\"]],\"type\":\"contour\"}],\"heatmapgl\":[{\"colorbar\":{\"outlinewidth\":0,\"ticks\":\"\"},\"colorscale\":[[0.0,\"#0d0887\"],[0.1111111111111111,\"#46039f\"],[0.2222222222222222,\"#7201a8\"],[0.3333333333333333,\"#9c179e\"],[0.4444444444444444,\"#bd3786\"],[0.5555555555555556,\"#d8576b\"],[0.6666666666666666,\"#ed7953\"],[0.7777777777777778,\"#fb9f3a\"],[0.8888888888888888,\"#fdca26\"],[1.0,\"#f0f921\"]],\"type\":\"heatmapgl\"}],\"heatmap\":[{\"colorbar\":{\"outlinewidth\":0,\"ticks\":\"\"},\"colorscale\":[[0.0,\"#0d0887\"],[0.1111111111111111,\"#46039f\"],[0.2222222222222222,\"#7201a8\"],[0.3333333333333333,\"#9c179e\"],[0.4444444444444444,\"#bd3786\"],[0.5555555555555556,\"#d8576b\"],[0.6666666666666666,\"#ed7953\"],[0.7777777777777778,\"#fb9f3a\"],[0.8888888888888888,\"#fdca26\"],[1.0,\"#f0f921\"]],\"type\":\"heatmap\"}],\"histogram2dcontour\":[{\"colorbar\":{\"outlinewidth\":0,\"ticks\":\"\"},\"colorscale\":[[0.0,\"#0d0887\"],[0.1111111111111111,\"#46039f\"],[0.2222222222222222,\"#7201a8\"],[0.3333333333333333,\"#9c179e\"],[0.4444444444444444,\"#bd3786\"],[0.5555555555555556,\"#d8576b\"],[0.6666666666666666,\"#ed7953\"],[0.7777777777777778,\"#fb9f3a\"],[0.8888888888888888,\"#fdca26\"],[1.0,\"#f0f921\"]],\"type\":\"histogram2dcontour\"}],\"histogram2d\":[{\"colorbar\":{\"outlinewidth\":0,\"ticks\":\"\"},\"colorscale\":[[0.0,\"#0d0887\"],[0.1111111111111111,\"#46039f\"],[0.2222222222222222,\"#7201a8\"],[0.3333333333333333,\"#9c179e\"],[0.4444444444444444,\"#bd3786\"],[0.5555555555555556,\"#d8576b\"],[0.6666666666666666,\"#ed7953\"],[0.7777777777777778,\"#fb9f3a\"],[0.8888888888888888,\"#fdca26\"],[1.0,\"#f0f921\"]],\"type\":\"histogram2d\"}],\"histogram\":[{\"marker\":{\"pattern\":{\"fillmode\":\"overlay\",\"size\":10,\"solidity\":0.2}},\"type\":\"histogram\"}],\"mesh3d\":[{\"colorbar\":{\"outlinewidth\":0,\"ticks\":\"\"},\"type\":\"mesh3d\"}],\"parcoords\":[{\"line\":{\"colorbar\":{\"outlinewidth\":0,\"ticks\":\"\"}},\"type\":\"parcoords\"}],\"pie\":[{\"automargin\":true,\"type\":\"pie\"}],\"scatter3d\":[{\"line\":{\"colorbar\":{\"outlinewidth\":0,\"ticks\":\"\"}},\"marker\":{\"colorbar\":{\"outlinewidth\":0,\"ticks\":\"\"}},\"type\":\"scatter3d\"}],\"scattercarpet\":[{\"marker\":{\"colorbar\":{\"outlinewidth\":0,\"ticks\":\"\"}},\"type\":\"scattercarpet\"}],\"scattergeo\":[{\"marker\":{\"colorbar\":{\"outlinewidth\":0,\"ticks\":\"\"}},\"type\":\"scattergeo\"}],\"scattergl\":[{\"marker\":{\"colorbar\":{\"outlinewidth\":0,\"ticks\":\"\"}},\"type\":\"scattergl\"}],\"scattermapbox\":[{\"marker\":{\"colorbar\":{\"outlinewidth\":0,\"ticks\":\"\"}},\"type\":\"scattermapbox\"}],\"scatterpolargl\":[{\"marker\":{\"colorbar\":{\"outlinewidth\":0,\"ticks\":\"\"}},\"type\":\"scatterpolargl\"}],\"scatterpolar\":[{\"marker\":{\"colorbar\":{\"outlinewidth\":0,\"ticks\":\"\"}},\"type\":\"scatterpolar\"}],\"scatter\":[{\"fillpattern\":{\"fillmode\":\"overlay\",\"size\":10,\"solidity\":0.2},\"type\":\"scatter\"}],\"scatterternary\":[{\"marker\":{\"colorbar\":{\"outlinewidth\":0,\"ticks\":\"\"}},\"type\":\"scatterternary\"}],\"surface\":[{\"colorbar\":{\"outlinewidth\":0,\"ticks\":\"\"},\"colorscale\":[[0.0,\"#0d0887\"],[0.1111111111111111,\"#46039f\"],[0.2222222222222222,\"#7201a8\"],[0.3333333333333333,\"#9c179e\"],[0.4444444444444444,\"#bd3786\"],[0.5555555555555556,\"#d8576b\"],[0.6666666666666666,\"#ed7953\"],[0.7777777777777778,\"#fb9f3a\"],[0.8888888888888888,\"#fdca26\"],[1.0,\"#f0f921\"]],\"type\":\"surface\"}],\"table\":[{\"cells\":{\"fill\":{\"color\":\"#EBF0F8\"},\"line\":{\"color\":\"white\"}},\"header\":{\"fill\":{\"color\":\"#C8D4E3\"},\"line\":{\"color\":\"white\"}},\"type\":\"table\"}]},\"layout\":{\"annotationdefaults\":{\"arrowcolor\":\"#2a3f5f\",\"arrowhead\":0,\"arrowwidth\":1},\"autotypenumbers\":\"strict\",\"coloraxis\":{\"colorbar\":{\"outlinewidth\":0,\"ticks\":\"\"}},\"colorscale\":{\"diverging\":[[0,\"#8e0152\"],[0.1,\"#c51b7d\"],[0.2,\"#de77ae\"],[0.3,\"#f1b6da\"],[0.4,\"#fde0ef\"],[0.5,\"#f7f7f7\"],[0.6,\"#e6f5d0\"],[0.7,\"#b8e186\"],[0.8,\"#7fbc41\"],[0.9,\"#4d9221\"],[1,\"#276419\"]],\"sequential\":[[0.0,\"#0d0887\"],[0.1111111111111111,\"#46039f\"],[0.2222222222222222,\"#7201a8\"],[0.3333333333333333,\"#9c179e\"],[0.4444444444444444,\"#bd3786\"],[0.5555555555555556,\"#d8576b\"],[0.6666666666666666,\"#ed7953\"],[0.7777777777777778,\"#fb9f3a\"],[0.8888888888888888,\"#fdca26\"],[1.0,\"#f0f921\"]],\"sequentialminus\":[[0.0,\"#0d0887\"],[0.1111111111111111,\"#46039f\"],[0.2222222222222222,\"#7201a8\"],[0.3333333333333333,\"#9c179e\"],[0.4444444444444444,\"#bd3786\"],[0.5555555555555556,\"#d8576b\"],[0.6666666666666666,\"#ed7953\"],[0.7777777777777778,\"#fb9f3a\"],[0.8888888888888888,\"#fdca26\"],[1.0,\"#f0f921\"]]},\"colorway\":[\"#636efa\",\"#EF553B\",\"#00cc96\",\"#ab63fa\",\"#FFA15A\",\"#19d3f3\",\"#FF6692\",\"#B6E880\",\"#FF97FF\",\"#FECB52\"],\"font\":{\"color\":\"#2a3f5f\"},\"geo\":{\"bgcolor\":\"white\",\"lakecolor\":\"white\",\"landcolor\":\"#E5ECF6\",\"showlakes\":true,\"showland\":true,\"subunitcolor\":\"white\"},\"hoverlabel\":{\"align\":\"left\"},\"hovermode\":\"closest\",\"mapbox\":{\"style\":\"light\"},\"paper_bgcolor\":\"white\",\"plot_bgcolor\":\"#E5ECF6\",\"polar\":{\"angularaxis\":{\"gridcolor\":\"white\",\"linecolor\":\"white\",\"ticks\":\"\"},\"bgcolor\":\"#E5ECF6\",\"radialaxis\":{\"gridcolor\":\"white\",\"linecolor\":\"white\",\"ticks\":\"\"}},\"scene\":{\"xaxis\":{\"backgroundcolor\":\"#E5ECF6\",\"gridcolor\":\"white\",\"gridwidth\":2,\"linecolor\":\"white\",\"showbackground\":true,\"ticks\":\"\",\"zerolinecolor\":\"white\"},\"yaxis\":{\"backgroundcolor\":\"#E5ECF6\",\"gridcolor\":\"white\",\"gridwidth\":2,\"linecolor\":\"white\",\"showbackground\":true,\"ticks\":\"\",\"zerolinecolor\":\"white\"},\"zaxis\":{\"backgroundcolor\":\"#E5ECF6\",\"gridcolor\":\"white\",\"gridwidth\":2,\"linecolor\":\"white\",\"showbackground\":true,\"ticks\":\"\",\"zerolinecolor\":\"white\"}},\"shapedefaults\":{\"line\":{\"color\":\"#2a3f5f\"}},\"ternary\":{\"aaxis\":{\"gridcolor\":\"white\",\"linecolor\":\"white\",\"ticks\":\"\"},\"baxis\":{\"gridcolor\":\"white\",\"linecolor\":\"white\",\"ticks\":\"\"},\"bgcolor\":\"#E5ECF6\",\"caxis\":{\"gridcolor\":\"white\",\"linecolor\":\"white\",\"ticks\":\"\"}},\"title\":{\"x\":0.05},\"xaxis\":{\"automargin\":true,\"gridcolor\":\"white\",\"linecolor\":\"white\",\"ticks\":\"\",\"title\":{\"standoff\":15},\"zerolinecolor\":\"white\",\"zerolinewidth\":2},\"yaxis\":{\"automargin\":true,\"gridcolor\":\"white\",\"linecolor\":\"white\",\"ticks\":\"\",\"title\":{\"standoff\":15},\"zerolinecolor\":\"white\",\"zerolinewidth\":2}}},\"title\":{\"text\":\"Vendas por categoria de Produtos\"},\"xaxis\":{\"tickangle\":75,\"title\":{\"font\":{\"color\":\"lightgrey\",\"size\":50}}},\"yaxis\":{\"title\":{\"text\":\"Quantidade Vendida\"}}},                        {\"responsive\": true}                    ).then(function(){\n",
              "                            \n",
              "var gd = document.getElementById('30821957-87a9-44cc-9923-2f468570af42');\n",
              "var x = new MutationObserver(function (mutations, observer) {{\n",
              "        var display = window.getComputedStyle(gd).display;\n",
              "        if (!display || display === 'none') {{\n",
              "            console.log([gd, 'removed!']);\n",
              "            Plotly.purge(gd);\n",
              "            observer.disconnect();\n",
              "        }}\n",
              "}});\n",
              "\n",
              "// Listen for the removal of the full notebook cells\n",
              "var notebookContainer = gd.closest('#notebook-container');\n",
              "if (notebookContainer) {{\n",
              "    x.observe(notebookContainer, {childList: true});\n",
              "}}\n",
              "\n",
              "// Listen for the clearing of the current output cell\n",
              "var outputEl = gd.closest('.output');\n",
              "if (outputEl) {{\n",
              "    x.observe(outputEl, {childList: true});\n",
              "}}\n",
              "\n",
              "                        })                };                            </script>        </div>\n",
              "</body>\n",
              "</html>"
            ]
          },
          "metadata": {}
        }
      ]
    },
    {
      "cell_type": "code",
      "source": [
        "trace0 = go.Bar(x = vendas_produto_por_categoria.index,\n",
        "                y = vendas_produto_por_categoria.values,\n",
        "                marker = {\"color\": \"#00ff2a\"},\n",
        "                orientation=\"v\")\n",
        "data = [trace0]"
      ],
      "metadata": {
        "id": "qKiwYW_RA_rK"
      },
      "execution_count": 395,
      "outputs": []
    },
    {
      "cell_type": "code",
      "source": [
        "configuracoes_layout = go.Layout(title = \"Vendas por categoria de Produtos\",\n",
        "                                 xaxis = dict(\n",
        "                                    titlefont = dict(\n",
        "                                        size = 50,\n",
        "                                        color = \"lightgrey\"),\n",
        "                                tickangle = 75),\n",
        "                                 yaxis = { \"title\" : \"Quantidade Vendida\",\n",
        "                                          \"range\" : [0,\n",
        "                                                     max(vendas_produto_por_categoria.values) * 1.10]})"
      ],
      "metadata": {
        "id": "RqYcNWYWwzMt"
      },
      "execution_count": 396,
      "outputs": []
    },
    {
      "cell_type": "code",
      "source": [
        "fig = go.Figure(data = data, layout = configuracoes_layout)"
      ],
      "metadata": {
        "id": "JvlDaeTyAjgd"
      },
      "execution_count": 397,
      "outputs": []
    },
    {
      "cell_type": "code",
      "source": [
        "py.iplot(fig, filename = 'Vendas por Categoria de Produto')"
      ],
      "metadata": {
        "colab": {
          "base_uri": "https://localhost:8080/",
          "height": 542
        },
        "id": "YuRwPuxOAp2M",
        "outputId": "ebb3b63f-be00-44ac-fbc9-ddafaecfe85d"
      },
      "execution_count": 398,
      "outputs": [
        {
          "output_type": "display_data",
          "data": {
            "text/html": [
              "<html>\n",
              "<head><meta charset=\"utf-8\" /></head>\n",
              "<body>\n",
              "    <div>            <script src=\"https://cdnjs.cloudflare.com/ajax/libs/mathjax/2.7.5/MathJax.js?config=TeX-AMS-MML_SVG\"></script><script type=\"text/javascript\">if (window.MathJax && window.MathJax.Hub && window.MathJax.Hub.Config) {window.MathJax.Hub.Config({SVG: {font: \"STIX-Web\"}});}</script>                <script type=\"text/javascript\">window.PlotlyConfig = {MathJaxConfig: 'local'};</script>\n",
              "        <script charset=\"utf-8\" src=\"https://cdn.plot.ly/plotly-2.24.1.min.js\"></script>                <div id=\"e696ad6e-2d8c-4ed5-9ece-90cd1c3cce97\" class=\"plotly-graph-div\" style=\"height:525px; width:100%;\"></div>            <script type=\"text/javascript\">                                    window.PLOTLYENV=window.PLOTLYENV || {};                                    if (document.getElementById(\"e696ad6e-2d8c-4ed5-9ece-90cd1c3cce97\")) {                    Plotly.newPlot(                        \"e696ad6e-2d8c-4ed5-9ece-90cd1c3cce97\",                        [{\"marker\":{\"color\":\"#00ff2a\"},\"orientation\":\"v\",\"x\":[\"cama_mesa_banho\",\"moveis_decoracao\",\"beleza_saude\",\"esporte_lazer\",\"informatica_acessorios\",\"utilidades_domesticas\",\"ferramentas_jardim\",\"relogios_presentes\",\"cool_stuff\",\"perfumaria\",\"brinquedos\",\"automotivo\",\"fashion_bolsas_e_acessorios\",\"telefonia\",\"bebes\",\"moveis_escritorio\",\"papelaria\",\"eletronicos\",\"pet_shop\",\"malas_acessorios\",\"consoles_games\",\"casa_conforto\",\"eletrodomesticos\",\"eletroportateis\",\"fashion_roupa_masculina\",\"fashion_calcados\",\"market_place\",\"instrumentos_musicais\",\"livros_interesse_geral\",\"moveis_sala\",\"construcao_ferramentas_construcao\",\"alimentos_bebidas\",\"artes\",\"climatizacao\",\"livros_tecnicos\",\"alimentos\",\"fashion_underwear_e_moda_praia\",\"bebidas\",\"construcao_ferramentas_jardim\",\"eletrodomesticos_2\",\"pcs\",\"artigos_de_natal\",\"audio\",\"moveis_cozinha_area_de_servico_jantar_e_jardim\",\"tablets_impressao_imagem\",\"agro_industria_e_comercio\",\"moveis_colchao_e_estofado\",\"livros_importados\",\"dvds_blu_ray\",\"construcao_ferramentas_iluminacao\",\"casa_construcao\",\"artigos_de_festas\"],\"y\":[471,302,253,224,215,199,197,196,152,140,137,134,125,118,83,77,65,55,52,49,32,31,29,26,23,19,19,15,15,14,12,9,8,7,7,6,6,6,6,6,5,5,4,4,3,3,2,2,2,2,2,2],\"type\":\"bar\"}],                        {\"template\":{\"data\":{\"barpolar\":[{\"marker\":{\"line\":{\"color\":\"#E5ECF6\",\"width\":0.5},\"pattern\":{\"fillmode\":\"overlay\",\"size\":10,\"solidity\":0.2}},\"type\":\"barpolar\"}],\"bar\":[{\"error_x\":{\"color\":\"#2a3f5f\"},\"error_y\":{\"color\":\"#2a3f5f\"},\"marker\":{\"line\":{\"color\":\"#E5ECF6\",\"width\":0.5},\"pattern\":{\"fillmode\":\"overlay\",\"size\":10,\"solidity\":0.2}},\"type\":\"bar\"}],\"carpet\":[{\"aaxis\":{\"endlinecolor\":\"#2a3f5f\",\"gridcolor\":\"white\",\"linecolor\":\"white\",\"minorgridcolor\":\"white\",\"startlinecolor\":\"#2a3f5f\"},\"baxis\":{\"endlinecolor\":\"#2a3f5f\",\"gridcolor\":\"white\",\"linecolor\":\"white\",\"minorgridcolor\":\"white\",\"startlinecolor\":\"#2a3f5f\"},\"type\":\"carpet\"}],\"choropleth\":[{\"colorbar\":{\"outlinewidth\":0,\"ticks\":\"\"},\"type\":\"choropleth\"}],\"contourcarpet\":[{\"colorbar\":{\"outlinewidth\":0,\"ticks\":\"\"},\"type\":\"contourcarpet\"}],\"contour\":[{\"colorbar\":{\"outlinewidth\":0,\"ticks\":\"\"},\"colorscale\":[[0.0,\"#0d0887\"],[0.1111111111111111,\"#46039f\"],[0.2222222222222222,\"#7201a8\"],[0.3333333333333333,\"#9c179e\"],[0.4444444444444444,\"#bd3786\"],[0.5555555555555556,\"#d8576b\"],[0.6666666666666666,\"#ed7953\"],[0.7777777777777778,\"#fb9f3a\"],[0.8888888888888888,\"#fdca26\"],[1.0,\"#f0f921\"]],\"type\":\"contour\"}],\"heatmapgl\":[{\"colorbar\":{\"outlinewidth\":0,\"ticks\":\"\"},\"colorscale\":[[0.0,\"#0d0887\"],[0.1111111111111111,\"#46039f\"],[0.2222222222222222,\"#7201a8\"],[0.3333333333333333,\"#9c179e\"],[0.4444444444444444,\"#bd3786\"],[0.5555555555555556,\"#d8576b\"],[0.6666666666666666,\"#ed7953\"],[0.7777777777777778,\"#fb9f3a\"],[0.8888888888888888,\"#fdca26\"],[1.0,\"#f0f921\"]],\"type\":\"heatmapgl\"}],\"heatmap\":[{\"colorbar\":{\"outlinewidth\":0,\"ticks\":\"\"},\"colorscale\":[[0.0,\"#0d0887\"],[0.1111111111111111,\"#46039f\"],[0.2222222222222222,\"#7201a8\"],[0.3333333333333333,\"#9c179e\"],[0.4444444444444444,\"#bd3786\"],[0.5555555555555556,\"#d8576b\"],[0.6666666666666666,\"#ed7953\"],[0.7777777777777778,\"#fb9f3a\"],[0.8888888888888888,\"#fdca26\"],[1.0,\"#f0f921\"]],\"type\":\"heatmap\"}],\"histogram2dcontour\":[{\"colorbar\":{\"outlinewidth\":0,\"ticks\":\"\"},\"colorscale\":[[0.0,\"#0d0887\"],[0.1111111111111111,\"#46039f\"],[0.2222222222222222,\"#7201a8\"],[0.3333333333333333,\"#9c179e\"],[0.4444444444444444,\"#bd3786\"],[0.5555555555555556,\"#d8576b\"],[0.6666666666666666,\"#ed7953\"],[0.7777777777777778,\"#fb9f3a\"],[0.8888888888888888,\"#fdca26\"],[1.0,\"#f0f921\"]],\"type\":\"histogram2dcontour\"}],\"histogram2d\":[{\"colorbar\":{\"outlinewidth\":0,\"ticks\":\"\"},\"colorscale\":[[0.0,\"#0d0887\"],[0.1111111111111111,\"#46039f\"],[0.2222222222222222,\"#7201a8\"],[0.3333333333333333,\"#9c179e\"],[0.4444444444444444,\"#bd3786\"],[0.5555555555555556,\"#d8576b\"],[0.6666666666666666,\"#ed7953\"],[0.7777777777777778,\"#fb9f3a\"],[0.8888888888888888,\"#fdca26\"],[1.0,\"#f0f921\"]],\"type\":\"histogram2d\"}],\"histogram\":[{\"marker\":{\"pattern\":{\"fillmode\":\"overlay\",\"size\":10,\"solidity\":0.2}},\"type\":\"histogram\"}],\"mesh3d\":[{\"colorbar\":{\"outlinewidth\":0,\"ticks\":\"\"},\"type\":\"mesh3d\"}],\"parcoords\":[{\"line\":{\"colorbar\":{\"outlinewidth\":0,\"ticks\":\"\"}},\"type\":\"parcoords\"}],\"pie\":[{\"automargin\":true,\"type\":\"pie\"}],\"scatter3d\":[{\"line\":{\"colorbar\":{\"outlinewidth\":0,\"ticks\":\"\"}},\"marker\":{\"colorbar\":{\"outlinewidth\":0,\"ticks\":\"\"}},\"type\":\"scatter3d\"}],\"scattercarpet\":[{\"marker\":{\"colorbar\":{\"outlinewidth\":0,\"ticks\":\"\"}},\"type\":\"scattercarpet\"}],\"scattergeo\":[{\"marker\":{\"colorbar\":{\"outlinewidth\":0,\"ticks\":\"\"}},\"type\":\"scattergeo\"}],\"scattergl\":[{\"marker\":{\"colorbar\":{\"outlinewidth\":0,\"ticks\":\"\"}},\"type\":\"scattergl\"}],\"scattermapbox\":[{\"marker\":{\"colorbar\":{\"outlinewidth\":0,\"ticks\":\"\"}},\"type\":\"scattermapbox\"}],\"scatterpolargl\":[{\"marker\":{\"colorbar\":{\"outlinewidth\":0,\"ticks\":\"\"}},\"type\":\"scatterpolargl\"}],\"scatterpolar\":[{\"marker\":{\"colorbar\":{\"outlinewidth\":0,\"ticks\":\"\"}},\"type\":\"scatterpolar\"}],\"scatter\":[{\"fillpattern\":{\"fillmode\":\"overlay\",\"size\":10,\"solidity\":0.2},\"type\":\"scatter\"}],\"scatterternary\":[{\"marker\":{\"colorbar\":{\"outlinewidth\":0,\"ticks\":\"\"}},\"type\":\"scatterternary\"}],\"surface\":[{\"colorbar\":{\"outlinewidth\":0,\"ticks\":\"\"},\"colorscale\":[[0.0,\"#0d0887\"],[0.1111111111111111,\"#46039f\"],[0.2222222222222222,\"#7201a8\"],[0.3333333333333333,\"#9c179e\"],[0.4444444444444444,\"#bd3786\"],[0.5555555555555556,\"#d8576b\"],[0.6666666666666666,\"#ed7953\"],[0.7777777777777778,\"#fb9f3a\"],[0.8888888888888888,\"#fdca26\"],[1.0,\"#f0f921\"]],\"type\":\"surface\"}],\"table\":[{\"cells\":{\"fill\":{\"color\":\"#EBF0F8\"},\"line\":{\"color\":\"white\"}},\"header\":{\"fill\":{\"color\":\"#C8D4E3\"},\"line\":{\"color\":\"white\"}},\"type\":\"table\"}]},\"layout\":{\"annotationdefaults\":{\"arrowcolor\":\"#2a3f5f\",\"arrowhead\":0,\"arrowwidth\":1},\"autotypenumbers\":\"strict\",\"coloraxis\":{\"colorbar\":{\"outlinewidth\":0,\"ticks\":\"\"}},\"colorscale\":{\"diverging\":[[0,\"#8e0152\"],[0.1,\"#c51b7d\"],[0.2,\"#de77ae\"],[0.3,\"#f1b6da\"],[0.4,\"#fde0ef\"],[0.5,\"#f7f7f7\"],[0.6,\"#e6f5d0\"],[0.7,\"#b8e186\"],[0.8,\"#7fbc41\"],[0.9,\"#4d9221\"],[1,\"#276419\"]],\"sequential\":[[0.0,\"#0d0887\"],[0.1111111111111111,\"#46039f\"],[0.2222222222222222,\"#7201a8\"],[0.3333333333333333,\"#9c179e\"],[0.4444444444444444,\"#bd3786\"],[0.5555555555555556,\"#d8576b\"],[0.6666666666666666,\"#ed7953\"],[0.7777777777777778,\"#fb9f3a\"],[0.8888888888888888,\"#fdca26\"],[1.0,\"#f0f921\"]],\"sequentialminus\":[[0.0,\"#0d0887\"],[0.1111111111111111,\"#46039f\"],[0.2222222222222222,\"#7201a8\"],[0.3333333333333333,\"#9c179e\"],[0.4444444444444444,\"#bd3786\"],[0.5555555555555556,\"#d8576b\"],[0.6666666666666666,\"#ed7953\"],[0.7777777777777778,\"#fb9f3a\"],[0.8888888888888888,\"#fdca26\"],[1.0,\"#f0f921\"]]},\"colorway\":[\"#636efa\",\"#EF553B\",\"#00cc96\",\"#ab63fa\",\"#FFA15A\",\"#19d3f3\",\"#FF6692\",\"#B6E880\",\"#FF97FF\",\"#FECB52\"],\"font\":{\"color\":\"#2a3f5f\"},\"geo\":{\"bgcolor\":\"white\",\"lakecolor\":\"white\",\"landcolor\":\"#E5ECF6\",\"showlakes\":true,\"showland\":true,\"subunitcolor\":\"white\"},\"hoverlabel\":{\"align\":\"left\"},\"hovermode\":\"closest\",\"mapbox\":{\"style\":\"light\"},\"paper_bgcolor\":\"white\",\"plot_bgcolor\":\"#E5ECF6\",\"polar\":{\"angularaxis\":{\"gridcolor\":\"white\",\"linecolor\":\"white\",\"ticks\":\"\"},\"bgcolor\":\"#E5ECF6\",\"radialaxis\":{\"gridcolor\":\"white\",\"linecolor\":\"white\",\"ticks\":\"\"}},\"scene\":{\"xaxis\":{\"backgroundcolor\":\"#E5ECF6\",\"gridcolor\":\"white\",\"gridwidth\":2,\"linecolor\":\"white\",\"showbackground\":true,\"ticks\":\"\",\"zerolinecolor\":\"white\"},\"yaxis\":{\"backgroundcolor\":\"#E5ECF6\",\"gridcolor\":\"white\",\"gridwidth\":2,\"linecolor\":\"white\",\"showbackground\":true,\"ticks\":\"\",\"zerolinecolor\":\"white\"},\"zaxis\":{\"backgroundcolor\":\"#E5ECF6\",\"gridcolor\":\"white\",\"gridwidth\":2,\"linecolor\":\"white\",\"showbackground\":true,\"ticks\":\"\",\"zerolinecolor\":\"white\"}},\"shapedefaults\":{\"line\":{\"color\":\"#2a3f5f\"}},\"ternary\":{\"aaxis\":{\"gridcolor\":\"white\",\"linecolor\":\"white\",\"ticks\":\"\"},\"baxis\":{\"gridcolor\":\"white\",\"linecolor\":\"white\",\"ticks\":\"\"},\"bgcolor\":\"#E5ECF6\",\"caxis\":{\"gridcolor\":\"white\",\"linecolor\":\"white\",\"ticks\":\"\"}},\"title\":{\"x\":0.05},\"xaxis\":{\"automargin\":true,\"gridcolor\":\"white\",\"linecolor\":\"white\",\"ticks\":\"\",\"title\":{\"standoff\":15},\"zerolinecolor\":\"white\",\"zerolinewidth\":2},\"yaxis\":{\"automargin\":true,\"gridcolor\":\"white\",\"linecolor\":\"white\",\"ticks\":\"\",\"title\":{\"standoff\":15},\"zerolinecolor\":\"white\",\"zerolinewidth\":2}}},\"title\":{\"text\":\"Vendas por categoria de Produtos\"},\"xaxis\":{\"tickangle\":75,\"title\":{\"font\":{\"color\":\"lightgrey\",\"size\":50}}},\"yaxis\":{\"range\":[0,518.1],\"title\":{\"text\":\"Quantidade Vendida\"}}},                        {\"responsive\": true}                    ).then(function(){\n",
              "                            \n",
              "var gd = document.getElementById('e696ad6e-2d8c-4ed5-9ece-90cd1c3cce97');\n",
              "var x = new MutationObserver(function (mutations, observer) {{\n",
              "        var display = window.getComputedStyle(gd).display;\n",
              "        if (!display || display === 'none') {{\n",
              "            console.log([gd, 'removed!']);\n",
              "            Plotly.purge(gd);\n",
              "            observer.disconnect();\n",
              "        }}\n",
              "}});\n",
              "\n",
              "// Listen for the removal of the full notebook cells\n",
              "var notebookContainer = gd.closest('#notebook-container');\n",
              "if (notebookContainer) {{\n",
              "    x.observe(notebookContainer, {childList: true});\n",
              "}}\n",
              "\n",
              "// Listen for the clearing of the current output cell\n",
              "var outputEl = gd.closest('.output');\n",
              "if (outputEl) {{\n",
              "    x.observe(outputEl, {childList: true});\n",
              "}}\n",
              "\n",
              "                        })                };                            </script>        </div>\n",
              "</body>\n",
              "</html>"
            ]
          },
          "metadata": {}
        }
      ]
    },
    {
      "cell_type": "code",
      "source": [
        "trace = go.Scatter(x = df[\"order_freight_value\"],\n",
        "                   y = df [\"order_products_value\"],\n",
        "                   mode = \"markers\",\n",
        "                   marker = {\"color\": \"#941229\"}\n",
        "                   )"
      ],
      "metadata": {
        "id": "YnWCOvBdBdVF"
      },
      "execution_count": 399,
      "outputs": []
    },
    {
      "cell_type": "code",
      "source": [
        "data = [trace]"
      ],
      "metadata": {
        "id": "FnlFibtza3XC"
      },
      "execution_count": 400,
      "outputs": []
    },
    {
      "cell_type": "code",
      "source": [
        "layout = go.Layout(title = \"Valor de Frete x Valor de Produto\",\n",
        "                   yaxis = {\"title\" : \"Valor do Produto\"},\n",
        "                   xaxis = {\"title\": \"Valor do Frete\"})"
      ],
      "metadata": {
        "id": "fztxDmoKa6Df"
      },
      "execution_count": 401,
      "outputs": []
    },
    {
      "cell_type": "code",
      "source": [
        "fig = go.Figure(data = data, layout = layout)"
      ],
      "metadata": {
        "id": "AuK18KhwcfTU"
      },
      "execution_count": 402,
      "outputs": []
    },
    {
      "cell_type": "code",
      "source": [
        "py.iplot(fig)"
      ],
      "metadata": {
        "colab": {
          "base_uri": "https://localhost:8080/",
          "height": 542
        },
        "id": "Li2gIE4cdGSq",
        "outputId": "2e3b6caa-c573-43ec-8a0c-a6e631a33125"
      },
      "execution_count": 403,
      "outputs": [
        {
          "output_type": "display_data",
          "data": {
            "text/html": [
              "<html>\n",
              "<head><meta charset=\"utf-8\" /></head>\n",
              "<body>\n",
              "    <div>            <script src=\"https://cdnjs.cloudflare.com/ajax/libs/mathjax/2.7.5/MathJax.js?config=TeX-AMS-MML_SVG\"></script><script type=\"text/javascript\">if (window.MathJax && window.MathJax.Hub && window.MathJax.Hub.Config) {window.MathJax.Hub.Config({SVG: {font: \"STIX-Web\"}});}</script>                <script type=\"text/javascript\">window.PlotlyConfig = {MathJaxConfig: 'local'};</script>\n",
              "        <script charset=\"utf-8\" src=\"https://cdn.plot.ly/plotly-2.24.1.min.js\"></script>                <div id=\"b1fee705-d2e4-47df-8217-a5bfaa0de235\" class=\"plotly-graph-div\" style=\"height:525px; width:100%;\"></div>            <script type=\"text/javascript\">                                    window.PLOTLYENV=window.PLOTLYENV || {};                                    if (document.getElementById(\"b1fee705-d2e4-47df-8217-a5bfaa0de235\")) {                    Plotly.newPlot(                        \"b1fee705-d2e4-47df-8217-a5bfaa0de235\",                        [{\"marker\":{\"color\":\"#941229\"},\"mode\":\"markers\",\"x\":[14.38,15.23,15.86,12.74,17.95,0.15,30.01,8.41,40.62,19.94,14.43,17.2,12.17,15.24,12.81,25.74,8.82,8.72,11.89,34.14,11.85,14.8,16.26,49.11,7.78,0.69,22.41,7.88,12.43,17.21,28.2,25.11,74.43,38.59,16.68,11.42,13.86,30.2,3.65,1.68,18.65,16.79,17.66,8.08,12.33,11.85,12.48,12.76,17.86,15.1,15.84,18.76,12.61,18.49,14.45,36.06,15.24,16.11,20.27,7.78,15.1,33.58,31.74,12.83,24.39,10.85,18.2,17.67,7.31,11.73,7.78,22.1,35.91,17.88,8.72,60.29,22.28,17.59,11.85,9.83,15.11,38.55,14.1,11.73,12.35,64.02,20.8,18.73,22.4,15.1,15.43,22.57,14.59,64.74,11.89,25.25,46.73,8.05,13.14,13.59,17.81,11.73,28.36,30.46,17.67,17.95,18.94,14.1,71.88,8.27,14.35,16.79,8.72,14.22,17.95,27.58,9.03,16.16,17.0,16.82,233.59,17.53,18.75,20.3,9.34,15.28,17.74,9.94,13.72,11.92,21.11,20.18,11.98,21.05,19.8,48.52,29.76,16.11,22.93,13.54,15.17,12.8,16.6,19.14,21.43,16.16,16.11,14.95,25.77,45.71,21.15,11.83,26.35,45.02,17.22,9.27,21.33,17.67,17.74,14.72,181.97,67.0,42.12,19.83,18.72,51.62,21.52,21.64,35.81,167.05,30.2,25.63,35.82,18.23,15.44,25.63,11.33,14.01,46.48,18.19,15.1,11.84,20.82,14.35,12.75,14.1,17.99,18.84,19.66,13.1,20.35,11.85,12.48,16.39,18.55,12.41,59.46,31.0,14.52,33.89,11.15,19.72,14.15,18.79,47.71,22.05,8.82,13.63,15.83,18.06,66.81,28.75,21.56,27.72,28.16,15.17,14.1,21.28,26.89,21.68,13.57,28.98,16.36,17.12,15.69,23.84,19.59,50.71,14.96,7.78,13.37,7.78,17.92,9.45,12.69,7.78,12.72,14.1,14.8,17.8,23.67,17.92,29.57,18.45,18.14,8.83,22.32,38.71,9.34,28.9,11.18,12.64,16.98,15.62,18.23,20.29,17.12,70.24,94.94,70.38,24.78,11.85,25.76,13.66,15.1,167.05,12.9,15.1,15.38,45.34,32.17,79.16,17.03,60.29,11.95,13.41,19.73,14.1,11.73,14.02,15.11,12.57,12.48,36.13,15.15,8.72,15.1,16.34,59.95,21.64,16.22,65.57,34.82,15.24,11.89,19.79,13.37,13.09,33.89,14.1,14.15,10.96,28.86,17.6,19.95,10.59,16.76,11.72,51.54,15.4,7.39,15.44,15.1,15.1,11.85,25.67,15.38,60.29,13.99,29.1,7.53,11.85,23.84,17.63,26.44,33.51,33.08,17.6,15.15,12.7,60.2,15.13,11.85,11.99,16.75,16.5,9.7,16.92,20.08,17.1,21.6,105.96,8.88,20.94,17.55,6.82,14.23,11.88,34.25,26.11,13.18,12.69,19.16,14.72,12.69,15.79,11.85,42.38,19.59,1.54,30.64,17.39,26.53,17.6,13.54,30.3,88.3,28.57,31.58,15.1,13.08,12.33,30.2,54.48,17.67,22.35,18.65,14.1,9.27,62.03,16.11,52.08,17.02,5.78,38.07,92.03,42.52,22.88,15.3,11.75,15.37,7.9,20.54,38.49,16.35,12.13,28.49,22.96,15.1,19.53,9.17,13.52,15.1,13.25,12.18,60.9,12.79,38.36,31.62,7.78,10.32,8.88,24.78,7.78,11.85,36.38,3.7,11.89,15.59,9.65,15.1,56.29,11.73,28.36,18.55,38.56,14.1,15.38,14.1,25.63,42.51,25.63,11.98,13.66,12.74,30.34,17.63,18.43,29.44,11.85,90.18,12.62,12.69,14.1,53.01,14.3,14.65,15.1,15.79,64.68,13.66,16.61,15.1,23.09,7.88,15.1,11.85,36.15,39.41,21.15,14.33,12.41,15.1,18.92,12.37,12.28,21.35,26.88,63.22,17.92,13.84,15.1,29.55,15.71,15.1,18.29,37.24,21.54,39.46,22.67,37.05,14.1,13.61,15.1,15.56,14.1,34.15,26.11,23.49,13.83,18.71,17.12,8.72,15.17,12.34,108.4,17.06,37.41,17.84,15.1,18.23,17.63,16.93,15.23,14.94,16.11,17.6,1.44,16.21,15.38,46.94,8.72,11.85,25.46,17.67,16.0,9.27,158.38,11.87,16.79,28.92,45.09,16.08,13.25,15.1,108.96,50.71,34.98,16.7,21.12,13.85,29.17,17.67,19.31,19.5,32.28,1.94,26.88,14.5,15.13,16.11,45.93,20.22,15.1,14.79,29.55,38.59,23.16,17.67,7.1,7.01,26.66,16.4,97.14,9.69,17.6,58.06,34.05,7.87,40.84,29.88,16.79,17.67,18.48,10.96,16.11,23.0,23.49,16.43,17.27,17.13,14.22,16.7,15.61,23.43,11.85,28.14,17.66,7.78,13.69,42.52,17.67,7.78,12.62,15.1,9.34,18.55,9.17,16.6,14.6,18.15,68.13,25.91,80.74,16.81,13.71,12.8,17.83,15.11,26.17,13.61,14.09,15.1,11.88,15.32,34.05,11.85,19.3,12.4,12.69,15.1,16.58,39.38,13.57,56.68,29.8,23.42,45.55,25.31,13.08,19.5,26.46,36.85,15.67,13.23,35.97,3.7,15.55,12.34,16.26,17.06,17.7,20.3,16.11,32.36,14.65,9.09,57.78,94.94,39.32,22.29,13.08,22.0,14.1,18.02,7.78,41.47,15.15,37.97,16.52,7.78,26.89,16.28,167.04,22.11,18.81,15.1,23.79,7.18,15.1,18.13,236.64,27.94,40.38,16.14,16.21,15.1,20.86,3.36,13.24,12.69,35.91,21.16,8.27,11.9,59.53,41.84,17.59,22.0,13.86,16.25,15.27,9.09,21.89,20.25,19.19,17.07,13.41,17.65,14.41,21.23,15.1,14.87,15.1,12.96,7.78,19.94,15.86,16.79,13.37,14.1,16.11,7.78,14.32,16.4,9.72,15.39,18.0,17.71,14.37,14.94,13.64,11.73,17.6,16.18,43.91,16.11,9.68,13.76,23.85,13.57,21.18,17.6,14.57,11.22,17.67,15.08,57.79,14.32,12.54,16.52,34.49,13.37,5.29,7.78,15.1,16.59,15.1,28.18,11.85,14.29,12.69,15.22,16.53,15.1,7.86,30.2,7.78,16.46,35.61,9.78,33.92,34.99,16.11,42.24,15.79,18.16,19.8,16.11,49.39,3.96,16.13,18.32,23.91,82.49,20.07,11.85,25.97,15.72,18.65,14.97,52.7,5.19,8.11,15.01,17.95,14.28,28.56,17.31,14.32,21.27,17.66,27.27,13.44,11.85,43.16,18.79,8.72,17.07,21.19,21.82,7.81,14.16,17.8,7.78,16.86,33.97,140.72,7.78,12.13,18.99,8.84,20.69,17.65,7.78,15.59,13.46,26.61,74.56,8.76,23.74,14.22,13.09,16.71,19.53,59.09,15.24,26.74,17.85,12.74,45.3,26.88,26.82,29.45,63.45,16.14,28.92,7.78,13.81,84.06,7.78,7.07,101.86,14.03,15.1,34.62,11.85,24.07,38.45,46.44,31.94,16.99,21.21,17.67,17.53,14.6,12.4,19.61,15.14,7.78,7.78,7.53,13.37,35.2,19.91,18.02,42.18,96.66,13.78,25.88,11.97,16.11,12.06,20.08,31.87,35.94,35.79,15.0,16.27,17.67,26.89,17.57,28.78,12.84,37.89,11.85,17.0,17.94,11.99,16.79,11.85,15.6,17.74,14.1,13.65,16.32,8.07,26.33,17.73,41.05,4.28,0.75,30.2,7.78,26.46,17.79,75.52,147.56,15.1,16.11,7.78,23.78,14.1,15.1,90.2,15.41,13.47,21.54,8.41,15.66,16.99,15.56,25.24,16.11,36.02,33.36,12.2,14.1,30.86,22.62,20.8,14.68,15.1,75.84,15.1,44.32,52.2,14.1,19.88,72.45,11.92,15.92,25.63,17.34,39.24,16.81,17.63,17.94,15.79,11.85,37.74,13.53,0.84,16.66,35.55,127.2,17.67,6.0,20.14,15.32,15.11,13.82,15.1,15.24,19.15,33.34,0.0,13.7,15.1,20.74,37.05,12.73,17.82,17.95,21.54,33.58,37.61,18.1,8.1,117.44,15.18,38.95,9.34,34.2,15.79,17.6,9.34,15.1,18.09,6.25,35.34,45.3,8.72,16.12,21.38,9.34,18.46,8.11,12.69,15.1,12.79,15.17,15.1,14.16,10.76,12.48,21.4,15.7,21.58,17.15,26.19,38.1,26.06,9.34,43.52,17.6,39.14,17.63,38.55,149.64,37.0,9.94,12.69,16.6,35.91,15.79,41.64,11.85,20.97,17.26,21.22,17.6,17.74,13.44,21.27,17.45,18.47,11.85,59.0,15.1,11.88,18.78,12.97,12.61,19.59,11.88,61.39,20.96,24.19,14.1,15.1,13.08,16.25,37.92,12.35,16.18,20.13,11.85,16.52,24.61,14.43,34.15,7.39,34.18,9.44,11.79,20.18,16.79,15.59,15.12,18.94,18.23,11.85,75.16,14.77,9.88,36.43,13.72,7.94,18.95,17.6,19.94,13.42,15.11,24.05,30.66,14.64,7.39,16.93,8.27,16.21,12.6,8.72,16.16,14.35,15.1,16.34,24.84,17.63,13.44,18.27,14.1,14.13,61.89,49.65,16.11,11.62,35.9,52.72,17.78,13.08,43.34,17.37,3.75,14.8,121.22,15.15,8.48,11.85,20.45,7.78,8.27,17.07,16.14,15.3,16.11,34.18,16.06,15.1,7.78,11.86,11.85,16.47,11.85,10.03,16.79,8.27,25.22,8.27,17.71,14.29,17.94,6.04,16.93,8.88,49.24,15.79,117.35,8.29,11.88,12.08,20.38,7.78,17.67,15.1,19.93,45.43,22.22,52.86,20.99,12.58,34.83,34.15,19.59,21.15,37.97,25.9,27.27,12.57,29.73,16.85,26.96,38.9,16.86,13.72,17.65,11.8,12.4,22.92,7.78,21.25,48.71,12.2,16.11,31.76,14.34,14.2,16.11,15.1,15.1,14.97,58.9,14.1,9.37,1.98,16.66,15.19,17.63,12.69,21.15,14.23,26.92,37.49,26.3,38.03,19.79,19.79,14.15,10.38,16.85,53.78,12.48,25.96,43.0,17.67,12.11,40.84,15.0,36.38,11.3,17.7,14.31,12.85,14.35,20.86,25.07,15.13,14.68,14.79,31.86,16.95,61.58,18.23,13.47,47.98,18.27,18.78,15.59,25.63,17.78,12.54,17.93,11.85,18.02,18.46,8.27,13.32,43.41,41.08,23.31,7.78,4.28,16.11,11.73,16.86,11.85,17.86,401.58,30.4,20.52,35.53,40.56,12.69,23.11,25.63,43.22,14.52,15.66,9.68,6.34,131.09,12.18,9.51,60.72,19.95,16.38,14.52,14.1,22.59,4.24,68.32,15.21,8.29,47.73,8.72,21.15,15.92,18.27,25.56,18.86,15.59,7.99,17.67,37.28,7.79,65.67,12.33,46.78,14.15,13.14,15.38,25.54,26.66,15.1,20.07,13.66,15.16,2.79,8.88,18.16,26.17,10.01,28.09,37.37,28.82,15.19,32.87,50.5,16.11,7.53,21.82,16.96,18.52,15.1,7.87,0.02,17.88,13.37,25.95,24.84,13.92,18.25,25.42,15.27,26.74,14.1,10.5,12.86,15.11,25.38,11.83,14.1,12.48,17.97,17.6,7.86,103.37,13.5,13.18,8.11,15.11,29.14,15.44,17.52,3.09,61.58,16.25,15.15,33.24,15.1,15.1,11.1,12.06,98.02,18.63,26.11,17.57,16.79,13.5,44.23,8.35,13.37,55.97,41.53,17.06,12.18,21.26,16.32,28.82,9.19,21.85,20.32,18.79,12.72,18.68,16.3,27.83,21.39,22.85,55.07,15.38,39.16,12.19,15.01,42.3,14.65,17.66,17.65,13.65,17.17,44.58,15.1,12.48,16.53,15.1,38.24,36.46,12.59,13.79,17.69,15.13,16.79,18.21,24.26,14.1,8.8,18.32,18.32,35.55,14.15,37.9,43.62,8.3,17.74,43.04,12.17,14.29,14.1,15.38,16.11,14.01,14.2,7.39,23.88,18.52,13.02,14.15,17.18,23.87,8.72,14.1,28.82,15.66,18.16,44.55,12.69,31.52,21.11,16.25,3.94,15.38,42.36,11.85,32.23,23.68,21.38,24.64,16.11,15.98,21.14,58.42,17.07,53.01,16.64,13.75,12.27,18.02,18.0,11.02,18.35,18.21,15.05,24.84,59.66,21.16,17.78,60.84,34.61,35.67,10.35,13.64,9.34,17.92,14.66,17.6,17.63,23.46,29.51,22.3,15.1,15.41,15.1,12.76,4.6,35.26,25.22,35.67,25.64,9.94,15.8,8.75,19.66,34.18,17.77,15.1,24.84,15.59,15.22,32.22,14.13,16.5,13.58,26.27,17.63,16.11,11.26,18.47,11.92,21.64,17.6,15.15,87.33,9.37,17.91,20.88,21.68,10.37,23.0,25.19,9.27,18.23,12.22,12.55,9.74,21.15,58.21,25.74,8.07,22.64,15.1,16.81,17.94,17.19,116.06,17.54,14.1,10.96,19.13,15.09,16.11,9.94,16.11,16.11,14.36,38.6,16.46,20.93,1.98,16.18,22.35,37.89,12.76,14.04,13.21,15.87,35.91,2.09,8.72,13.07,24.91,12.48,34.33,16.56,17.27,11.85,14.51,32.44,51.25,16.11,9.81,18.27,22.9,11.81,4.8,10.56,15.12,18.7,37.51,36.98,15.38,16.79,17.09,16.28,6.92,33.7,17.78,19.23,13.59,15.63,9.3,34.46,33.04,7.28,9.31,27.06,21.12,13.51,18.19,25.94,11.85,22.58,31.53,14.13,14.09,16.7,15.1,9.26,42.59,30.87,64.38,11.85,14.31,36.11,21.19,11.85,14.1,18.54,17.6,8.82,35.91,7.78,16.6,26.66,17.63,9.83,9.34,16.79,48.87,7.81,14.65,17.63,33.24,3.01,25.04,16.29,8.72,16.33,20.89,21.1,13.51,22.79,13.44,20.19,25.87,3.06,17.65,15.65,21.3,16.37,3.07,9.34,29.14,18.72,34.15,17.02,34.15,38.45,15.1,71.88,7.94,15.1,12.19,12.69,19.7,16.11,131.32,52.71,37.61,29.17,8.27,17.86,23.78,17.7,15.1,14.97,15.98,17.95,36.5,9.34,259.7,9.91,14.42,15.19,13.52,28.68,25.63,21.1,18.26,12.61,5.19,7.78,15.01,98.52,33.36,7.94,15.86,18.86,18.06,24.84,27.74,13.17,18.09,19.88,28.98,98.48,16.73,18.24,24.35,10.6,80.11,19.98,15.17,15.15,15.17,12.57,14.1,21.49,55.86,18.24,10.65,12.69,7.37,10.49,17.34,49.3,26.54,25.15,14.63,10.55,16.92,17.67,18.57,9.27,12.13,11.85,26.27,15.18,0.28,15.87,28.16,124.74,36.02,11.85,14.1,19.77,15.1,3.33,17.26,11.85,13.46,20.52,9.32,9.49,14.8,18.04,7.78,15.31,17.81,4.36,20.99,44.24,15.1,15.71,15.82,15.73,27.23,13.44,7.78,16.11,16.16,17.61,13.93,111.57,9.34,8.27,14.22,12.79,11.87,15.18,2.41,16.6,18.23,17.63,15.39,15.11,25.38,28.76,12.72,13.72,15.45,9.7,15.2,91.93,15.46,64.68,53.08,17.55,23.14,4.07,21.32,15.13,8.27,7.78,17.62,7.87,28.76,13.81,15.24,16.39,29.05,9.29,27.41,16.39,17.99,26.03,17.9,13.53,18.68,7.78,66.71,93.34,11.85,17.6,16.79,35.67,8.66,17.88,19.95,15.1,17.02,13.37,15.43,34.15,17.6,11.85,18.0,15.1,25.22,20.99,26.95,19.75,19.5,35.67,17.63,21.66,16.28,38.51,21.29,16.11,19.38,15.89,13.71,13.47,11.03,13.04,1.28,16.65,21.15,17.84,8.72,11.73,113.91,8.72,24.19,16.16,9.37,28.95,16.75,17.95,16.11,27.87,15.13,17.67,18.97,12.79,7.74,17.03,13.32,21.75,16.88,14.15,7.78,20.08,25.63,17.6,16.4,7.78,15.8,42.95,17.9,23.46,63.33,43.45,16.24,71.9,16.67,17.72,17.2,18.73,50.57,15.1,16.98,12.69,34.42,18.23,14.66,14.51,17.95,14.1,14.1,14.1,14.1,14.52,18.69,29.3,14.1,58.54,18.21,15.11,12.27,17.92,7.39,17.92,19.98,16.95,69.96,21.03,32.08,15.1,17.88,16.86,12.74,15.24,67.82,16.79,13.32,15.43,18.09,7.86,8.88,16.79,11.85,15.1,36.42,19.66,20.04,17.98,16.64,11.73,70.72,8.27,35.2,27.68,18.26,28.95,15.1,21.39,17.67,15.1,20.72,25.62,101.17,15.1,11.85,26.74,16.29,9.51,33.09,7.78,12.54,8.27,13.81,33.36,14.05,33.12,17.86,2.63,33.68,15.73,16.39,16.81,11.9,16.16,16.25,11.85,15.15,16.79,12.88,48.63,14.77,12.76,7.78,16.79,37.97,14.1,15.38,22.7,20.0,17.72,14.1,12.72,20.91,11.85,2.82,25.95,37.37,27.13,8.88,16.16,34.99,42.16,16.03,17.88,12.24,21.15,22.27,7.78,12.61,63.52,14.6,19.46,16.29,21.43,97.14,15.1,19.03,17.95,16.47,15.1,11.83,16.54,14.13,14.09,9.37,17.13,25.38,32.15,19.52,16.52,15.11,34.85,18.16,30.11,26.31,17.07,17.88,9.32,25.21,38.68,11.85,10.78,18.26,18.69,12.75,13.25,30.2,37.97,15.82,19.07,17.12,26.68,19.91,12.26,79.01,17.63,19.92,19.39,25.63,17.13,15.8,10.35,9.74,22.17,15.21,7.78,47.98,12.22,33.9,12.48,27.28,14.1,17.67,18.8,13.31,112.43,15.1,6.67,50.76,15.79,51.91,19.92,15.49,19.91,71.74,19.22,12.21,18.93,19.98,15.8,21.3,14.1,15.1,37.06,20.94,24.84,27.03,17.78,11.85,34.15,15.1,13.61,15.1,18.06,25.63,7.78,15.11,9.79,8.27,24.27,14.1,15.19,34.99,16.23,17.18,21.92,18.19,16.11,13.83,15.98,16.14,15.04,26.27,16.97,18.13,131.82,8.91,17.87,15.8,18.26,15.65,16.16,13.72,15.1,53.72,16.63,11.85,26.46,73.45,79.39,26.92,16.11,8.11,43.47,34.19,28.75,18.79,13.93,26.55,8.72,11.85,15.1,28.75,16.6,28.0,15.1,11.19,35.86,8.69,15.37,14.07,8.43,42.76,15.41,18.16,13.61,32.85,15.23,0.01,13.51,16.95,16.79,15.66,30.2,17.3,12.48,14.52,13.42,30.2,57.1,14.25,14.1,38.04,21.79,16.79,15.79,13.71,17.6,0.8,14.47,15.38,18.23,16.11,16.89,16.95,26.16,21.24,15.15,25.38,15.1,14.51,17.62,15.1,19.51,8.72,7.29,8.11,19.15,17.76,29.27,10.08,10.37,42.36,15.11,25.63,30.68,25.67,50.86,16.79,15.11,17.73,25.73,11.1,16.21,11.85,8.27,21.91,15.01,13.18,17.67,25.63,18.1,32.5,38.36,25.91,24.9,15.61,9.13,18.24,2.16,42.76,16.54,12.69,12.54,18.14,13.52,15.1,32.22,16.95,15.17,11.73,22.59,15.21,13.71,29.03,27.48,14.38,11.99,12.7,26.11,7.78,16.11,18.37,18.68,15.1,7.78,14.31,12.69,11.85,7.88,58.77,28.2,24.77,18.0,16.11,32.5,18.23,38.98,25.52,31.4,25.59,125.97,14.8,35.34,88.24,98.48,33.61,7.9,42.3,14.35,38.88,16.74,27.72,7.61,18.32,12.46,25.63,16.14,38.53,17.67,30.62,7.15,5.37,12.76,15.1,16.24,14.72,36.07,25.97,40.38,3.41,13.93,4.22,18.69,30.75,57.96,17.74,9.87,37.97,15.1,14.5,11.17,1.93,25.97,17.67,7.11,12.2,38.38,13.9,3.23,39.14,21.44,8.75,18.23,17.87,22.88,7.78,15.73,12.18,17.9,7.78,24.29,13.92,37.73,28.12,17.6,17.47,11.83,18.73,28.21,54.8,13.37,11.85,16.25,17.6,18.72,16.95,7.81,20.78,38.08,21.68,35.2,28.75,21.33,25.63,9.34,69.46,9.27,13.08,15.39,21.15,13.55,14.45,25.63,16.7,14.11,11.85,22.1,21.43,8.72,17.77,30.78,12.87,28.5,15.1,13.18,7.78,18.31,23.6,12.79,18.06,28.28,17.97,16.4,17.63,53.48,15.15,44.8,94.77,17.2,15.64,8.81,8.27,37.97,21.15,26.29,16.79,14.1,19.38,7.78,17.67,11.85,79.86,6.67,35.45,23.87,17.48,52.71,21.26,8.72,18.2,18.57,12.93,16.19,16.64,18.1,17.6,14.28,17.27,8.11,7.78,73.96,15.1,20.8,17.16,16.11,23.7,17.18,25.9,36.61,8.27,34.04,35.38,13.65,14.95,15.52,25.52,15.1,16.67,11.85,15.38,26.58,13.64,17.39,15.24,30.2,22.96,14.52,15.44,18.02,17.73,8.75,9.1,9.94,8.11,18.82,34.82,8.4,16.35,16.5,20.71,16.24,29.02,20.06,15.49,15.99,16.26,119.84,16.86,15.1,60.82,27.72,12.9,17.66,17.02,15.38,17.67,19.0,30.1,16.38,18.69,9.73,18.07,15.31,27.39,17.95,9.63,15.8,24.81,14.1,16.14,15.32,16.58,15.14,15.27,32.93,19.8,18.08,59.88,12.05,17.61,29.3,108.56,21.15,12.55,20.93,14.1,26.89,11.4,20.78,22.31,9.45,14.11,12.65,50.37,17.63,61.06,28.92,18.26,23.52,12.79,8.37,18.86,16.28,167.05,19.84,16.12,27.15,17.94,11.74,21.54,18.1,12.79,14.5,15.39,25.63,15.11,42.41,11.15,16.11,12.48,13.51,16.14,13.55,33.62,20.2,20.21,34.86,47.37,15.42,5.0,26.88,16.12,15.1,11.85,36.35,15.1,23.17,17.99,16.79,12.9,17.82,41.26,36.26,22.59,2.81,15.76,35.91,15.55,13.26,15.59,20.74,16.79,25.47,17.24,136.02,46.11,17.08,14.76,16.07,19.94,25.63,16.01,8.23,15.1,15.1,1.44,15.79,12.57,16.97,11.85,15.1,11.95,18.09,8.11,53.76,16.28,7.88,22.36,7.78,27.81,23.03,17.95,0.02,16.79,17.42,17.46,18.7,17.89,8.72,22.24,17.67,18.1,20.16,18.94,25.63,34.05,28.23,8.72,16.95,13.63,8.11,16.16,21.6,36.46,16.01,26.16,13.93,14.1,8.27,13.57,34.98,30.88,15.66,12.69,8.37,14.17,61.3,35.12,18.18,5.05,27.98,14.91,22.87,30.17,19.7,8.72,14.41,16.53,16.11,14.1,17.6,17.64,16.82,11.28,24.66,9.04,15.1,17.88,16.59,16.24,55.11,15.23,17.8,61.63,52.8,22.71,15.1,22.55,8.72,16.11,12.88,7.78,75.76,17.95,41.94,7.81,34.7,15.19,9.1,15.1,19.96,46.23,17.63,26.25,16.79,21.17,11.99,15.94,12.25,16.42,29.31,12.65,16.36,26.68,19.66,15.97,16.39,14.1,17.7,19.14,27.16,12.89,7.78,2.31,41.94,20.45,15.1,25.25,21.45,8.11,28.09,16.12,15.56,17.03,30.2,15.2,8.72,12.69,21.53,21.22,27.14,16.11,8.11,15.6,7.22,8.72,15.38,10.04,1.18,13.25,17.48,12.48,20.55,185.48,18.69,12.48,15.93,17.63,16.79,7.78,42.23,13.18,12.61,27.35,20.9,9.27,11.83,15.1,27.33,11.85,30.12,11.73,12.82,34.41,59.17,15.1,32.13,15.36,20.02,15.17,16.99,11.73,2.91,43.22,15.11,20.77,31.52,16.6,11.85,27.5,14.43,17.6,15.97,40.41,19.74,8.72,19.41,12.48,11.81,0.08,17.67,7.78,11.85,0.85,15.06,12.69,43.32,31.68,16.39,7.81,18.31,41.83,16.79,17.63,16.6,11.27,15.19,55.62,16.12,15.08,13.93,21.1,31.02,24.67,15.1,14.1,12.76,14.23,37.42,15.1,41.05,15.1,11.51,16.35,32.48,7.78,13.43,1.74,48.38,21.15,16.75,27.79,8.27,17.92,106.63,16.58,11.73,15.1,35.95,15.1,21.53,7.78,17.45,16.89,14.41,16.99,167.05,18.33,16.11,15.11,15.66,15.83,18.04,16.11,14.58,18.37,15.1,20.8,15.11,82.04,26.39,15.1,18.04,7.78,16.79,18.19,51.48,16.32,22.92,14.1,15.56,12.82,47.23,20.18,7.35,7.78,17.88,14.51,13.44,14.23,11.95,64.3,118.84,16.25,7.78,23.61,15.23,25.63,18.47,8.72,17.78,20.91,15.1,21.5,13.79,15.62,21.54,15.34,46.18,14.14,16.98,27.49,12.11,29.1,15.21,16.29,15.38,37.42,14.1,17.6,4.28,21.75,53.67,75.91,16.29,14.43,19.66,12.41,14.47,11.77,26.94,12.64,11.85,11.73,16.11,11.73,17.65,18.68,17.24,15.1,13.52,35.9,15.1,58.82,29.04,7.78,42.45,0.99,36.86,12.69,16.96,14.1,56.7,19.66,17.6,10.7,21.93,16.11,14.1,16.3,17.23,58.76,15.11,13.95,17.62,11.85,17.6,11.75,15.1,21.8,19.0,48.84,26.64,15.11,16.07,17.7,33.08,16.11,24.11,20.64,14.1,12.69,17.67,15.94,18.32,13.37,20.99,18.26,10.11,18.55,13.98,36.46,113.38,16.71,8.27,35.95,13.96,7.91,52.8,31.0,26.27,14.1,18.4,60.4,15.1,13.08,12.46,19.82,17.27,20.32,13.41,5.0,11.73,25.81,15.13,60.56,16.52,16.16,7.42,16.95,19.8,17.67,57.44,21.89,15.1,26.38,16.16,14.37,13.37,17.67,13.08,180.08,15.1,1.75,27.06,14.62,38.35,14.5,20.18,11.85,20.96,14.35,17.49,17.22,18.62,54.3,12.52,11.9,84.04,9.75,40.92,14.51,17.11,14.1,17.84,12.76,11.85,18.69,9.51,86.63,38.08,30.56,10.47,21.64,18.26,17.82,34.86,7.78,15.1,17.6,12.48,12.18,28.2,14.1,23.5,7.78,45.66,7.88,60.76,57.76,86.7,23.49,10.58,12.7,18.54,14.5,26.37,15.2,26.82,43.78,26.88,15.66,7.78,21.26,12.85,28.28,35.23,16.79,16.56,16.15,12.48,17.74,32.22,15.72,45.66,21.15,34.15,15.1,26.88,144.38,13.64,8.9,20.04,9.65,34.39,11.85,15.51,31.14,20.08,16.7,11.85,16.67,29.3,16.11,13.69,58.2,17.39,11.85,53.01,11.85,53.9,28.2,16.79,4.82,44.16,17.67,17.69,15.1,1.7,7.78,27.38,3.69,15.1,12.6,38.79,17.31,17.78,24.8,63.69,20.0,45.3,30.2,25.02,28.81,17.67,25.02,8.72,21.15,31.25,7.95,24.16,15.11,41.29,11.12,16.11,15.0,16.16,24.61,15.11,17.63,16.79,26.24,14.52,9.94,17.66,10.96,16.79,15.91,12.44,14.16,20.2,13.11,18.62,15.33,29.03,11.85,15.75,13.32,25.69,22.67,18.59,24.76,17.67,15.31,25.61,15.15,16.79,25.47,12.48,21.28,7.78,17.73,88.89,26.89,3.52,30.2,47.36,21.15,12.11,25.63,38.67,8.72,13.57,12.37,14.1,10.76,15.88,25.4,16.07,10.96,16.96,15.1,17.92,7.39,8.72,8.43,14.13,20.63,19.06,29.86,9.34,21.08,7.78,13.38,45.51,21.15,17.95,14.1,12.89,15.28,17.63,35.81,14.1,10.14,16.27,17.6,23.69,17.81,27.83,25.38,114.42,12.83,13.65,16.32,15.11,17.04,15.1,17.1,12.69,9.27,15.1,18.31,14.05,17.95,17.55,9.26,46.68,32.64,7.78,14.1,11.77,13.38,117.99,15.85,11.64,15.56,16.79,52.71,17.17,20.47,10.46,15.11,18.43,21.15,14.1,22.2,7.95,14.1,30.76,30.2,15.73,16.63,12.6,8.27,12.69,14.38,7.78,5.18,13.69,83.32,15.44,12.8,8.11,9.34,13.08,61.24,14.17,17.1,30.2,14.61,6.67,15.1,16.89,14.1,12.79,16.79,27.86,19.94,9.37,17.95,14.44,11.85,12.69,15.57,8.88,17.63,13.52,38.95,12.75,16.11,8.82,46.78,8.72,17.44,12.06,36.79,18.23,19.32,25.75,16.79,34.52,11.85,17.74,12.34,23.77,42.38,15.5,17.9,9.79,7.78,23.49,34.15,60.44,62.93,15.8,59.02,31.64,7.39,47.86,21.15,30.2,17.06,14.61,13.93,42.5,14.45,8.72,33.24,8.27,14.29,6.67,12.11,11.85,16.32,17.44,17.9,26.68,38.67,21.25,18.16,14.46,17.95,16.53,17.6,26.95,15.28,22.36,15.56,19.92,23.9,11.83,13.18,13.61,11.32,25.16,79.16,9.34,18.2,15.3,12.47,12.13,14.13,62.42,17.21,17.63,21.43,61.42,3.33,20.64,21.63,76.08,15.35,12.62,13.71,17.07,10.38,33.79,14.14,35.76,16.79,52.89,69.91,3.32,143.8,116.7,35.54,15.1,14.13,49.11,19.15,9.34,33.35,9.27,32.42,13.18,7.78,30.22,34.5,13.65,8.72,14.54,15.2,15.1,16.92,11.85,40.37,11.85,11.85,11.73,13.37,86.83,17.97,15.03,34.5,16.82,14.1,14.93,15.1,18.25,15.16,13.52,26.88,13.61,13.68,56.4,10.67,14.53,14.52,12.53,14.28,22.28,14.43,9.73,49.87,8.06,14.35,11.75,21.22,14.44,18.26,14.08,8.82,12.51,11.9,17.67,14.15,21.16,14.64,26.52,9.34,12.91,25.53,16.16,41.57,18.0,14.1,11.76,11.65,38.64,17.88,15.1,10.65,12.48,15.32,15.1,32.62,16.35,15.1,18.09,9.34,14.8,16.82,14.1,53.76,8.82,16.45,17.6,21.22,28.32,57.65,8.88,18.58,17.17,17.63,15.43,13.61,8.93,16.79,8.72,16.48,15.1,16.73,16.94,19.51,35.73,96.44,25.71,17.78,50.01,22.71,167.05,15.1,81.85,17.64,13.72,9.34,11.87,27.5,19.31,34.5,27.16,15.1,37.97,27.52,15.17,18.64,17.34,22.58,35.2,1.94,47.13,112.44,64.05,13.28,8.72,15.86,12.2,16.32,34.44,10.14,15.66,27.14,26.95,25.15,8.11,38.96,5.77,29.58,7.78,8.9,15.1,21.33,35.83,7.78],\"y\":[89.99,69.0,99.8,87.0,99.9,39.99,229.9,164.9,89.9,99.9,99.99,65.9,137.4,69.99,59.9,66.0,23.7,59.99,97.9,195.99,44.9,89.9,89.9,56.99,53.99,41.3,225.0,89.0,132.97,104.9,39.98,99.99,1399.99,470.0,149.99,86.0,119.99,143.8,105.0,16.9,199.9,17.85,53.99,118.0,118.0,18.9,19.9,59.9,86.99,29.0,155.0,349.99,140.0,172.33,204.0,222.0,69.9,39.9,246.62,49.0,24.9,99.8,55.5,69.9,113.0,233.0,135.9,59.9,69.9,34.2,27.9,89.99,84.99,89.9,56.99,248.99,29.4,279.9,38.4,233.91,16.9,143.0,98.0,27.19,18.99,63.0,39.9,144.94,34.9,19.47,239.9,439.9,120.0,572.0,34.2,99.9,179.99,169.0,144.41,165.0,79.99,58.99,139.9,51.98,59.9,99.9,99.9,12.97,69.9,45.9,29.9,25.9,22.0,29.0,99.99,148.6,99.0,56.99,79.99,170.0,1459.0,112.99,189.99,89.9,34.9,219.0,69.9,35.96,99.99,59.9,38.9,134.0,69.0,79.9,46.99,419.0,1999.9,26.7,39.9,74.8,59.9,56.97,32.64,130.0,139.99,75.0,43.99,110.9,70.0,179.0,25.0,89.5,215.0,79.0,229.99,37.49,120.0,59.9,69.99,89.85,1620.0,89.9,399.0,28.56,119.5,151.8,146.99,79.9,69.9,69.9,37.8,39.99,79.99,50.0,98.9,9.9,67.9,59.9,289.0,133.9,39.0,29.9,189.99,449.99,89.0,49.9,59.9,149.9,59.9,121.35,799.0,48.3,23.8,89.99,258.99,69.9,399.0,99.0,17.89,229.04,72.99,68.9,56.99,219.9,370.47,82.62,40.5,87.85,527.92,69.9,285.9,39.99,86.9,349.0,114.94,60.0,20.9,569.0,49.99,169.9,79.0,82.99,229.9,194.65,35.9,119.8,49.9,120.0,89.9,34.99,49.9,34.99,35.9,179.0,24.75,45.0,54.9,49.9,89.9,79.0,50.0,36.9,157.0,249.0,205.0,215.0,64.9,124.99,32.99,205.8,128.9,119.9,76.9,124.0,33.9,149.9,339.0,299.0,233.8,209.4,199.9,25.0,69.0,189.0,48.9,69.9,109.9,6.3,89.9,65.98,447.0,142.0,110.8,248.99,64.99,49.0,79.98,24.9,69.9,270.0,29.9,347.91,18.9,115.0,388.0,136.9,34.3,28.9,199.99,120.0,84.99,690.0,146.0,69.9,56.0,79.0,26.9,106.72,69.88,24.99,59.9,49.9,65.9,44.9,19.9,49.0,189.0,39.9,1099.0,92.9,12.0,48.1,24.5,42.99,45.95,118.9,89.18,248.99,44.9,99.9,79.7,42.99,179.99,19.9,34.9,159.94,99.0,40.0,56.99,51.92,169.99,54.99,36.0,69.9,72.0,249.9,189.99,49.0,299.99,94.0,159.0,699.99,14.0,16.9,139.9,44.55,67.9,53.99,65.0,69.9,120.0,20.0,273.0,90.0,15.9,39.9,19.99,23.9,32.9,23.0,799.99,92.9,179.0,50.0,69.0,179.99,295.0,169.99,295.8,47.99,69.9,89.9,21.2,115.0,59.9,59.99,69.9,49.99,21.0,145.99,44.9,473.7,82.9,64.9,74.8,399.94,59.9,79.99,79.0,44.99,87.0,19.0,469.99,146.99,84.99,89.9,159.0,179.0,49.0,80.0,79.0,199.0,29.0,699.0,139.99,1186.0,39.0,115.0,299.0,49.99,18.99,50.0,200.0,49.0,27.9,116.94,20.3,49.0,120.0,73.35,39.0,199.8,59.9,69.9,139.9,144.99,29.0,89.99,35.9,37.99,68.9,18.9,68.9,92.0,56.99,119.8,18.9,169.0,47.88,22.0,179.98,159.9,45.0,20.9,179.7,169.9,79.99,45.99,38.9,236.0,92.0,139.9,24.9,27.5,89.99,47.9,19.9,399.0,68.9,23.8,85.9,130.0,19.9,238.0,79.05,239.0,53.9,119.8,199.99,16.9,334.89,21.99,37.99,54.9,25.5,149.0,79.0,149.9,139.8,39.99,899.94,49.0,84.9,20.3,14.0,46.9,49.9,69.9,166.99,191.25,422.0,58.9,59.9,59.9,119.9,849.5,45.0,249.99,200.0,18.9,49.9,54.9,69.9,69.0,109.99,187.2,48.9,12.0,64.0,89.99,58.0,19.9,19.99,129.99,59.9,179.0,22.0,680.0,52.64,38.9,74.8,260.0,45.9,250.0,13.98,975.0,149.9,299.8,279.0,89.9,72.9,109.99,59.99,109.9,89.9,394.0,29.0,98.0,109.9,54.49,45.9,209.99,69.0,14.0,149.0,87.85,50.0,229.9,59.9,15.0,33.0,259.9,19.6,365.94,27.9,49.9,179.8,229.0,17.0,308.0,766.9,39.99,59.9,129.49,14.0,43.0,113.0,166.99,113.99,79.9,340.0,29.0,279.0,114.9,79.9,49.0,299.8,59.0,53.99,95.03,69.9,59.9,19.9,69.9,24.9,49.9,45.9,139.99,26.18,29.9,128.0,340.0,89.49,298.0,149.99,99.0,65.9,82.99,30.1,189.9,84.9,69.0,44.99,69.9,80.0,99.0,39.9,467.0,99.9,40.99,18.99,135.0,580.27,79.0,239.6,199.7,119.99,449.0,159.9,72.0,89.9,120.0,169.99,233.35,43.5,119.8,20.3,458.0,113.0,52.9,329.9,65.0,435.0,24.9,119.8,449.99,24.9,159.0,399.99,119.8,59.9,40.5,159.99,49.9,109.9,29.0,645.0,199.99,59.9,109.0,53.99,35.0,74.9,69.9,186.98,59.99,49.99,58.9,37.2,19.99,125.9,1352.0,67.9,199.98,45.9,109.9,47.9,1999.9,63.33,249.0,28.18,248.99,109.0,50.0,56.99,139.94,2999.89,339.99,225.15,119.99,69.9,72.62,29.9,149.9,144.99,277.0,117.0,49.0,58.0,199.0,60.99,21.8,180.0,48.9,89.0,18.99,99.99,59.9,50.0,50.0,47.99,37.99,18.0,83.9,109.9,129.9,225.91,54.9,124.9,89.0,109.9,45.9,34.2,49.9,59.9,241.1,44.0,38.3,105.9,149.99,79.0,54.99,49.9,56.99,109.89,59.9,89.0,159.99,84.9,148.0,107.9,98.99,49.9,12.5,49.0,49.9,89.18,44.99,44.95,49.95,28.99,47.9,24.97,129.0,12.9,77.68,86.4,28.99,100.0,111.66,49.9,79.99,39.9,17.9,79.8,29.0,84.9,79.9,45.0,79.8,49.9,52.9,269.0,148.9,199.9,169.9,22.9,236.9,97.0,199.7,174.0,99.0,38.0,58.2,179.91,99.9,75.0,109.0,299.9,84.9,66.99,58.99,59.9,59.9,45.9,113.0,219.9,49.9,90.0,99.9,109.99,79.9,58.67,79.08,16.9,59.99,99.8,379.0,13.99,89.9,159.9,156.0,49.9,49.0,46.56,120.0,129.99,189.9,229.99,27.3,139.0,29.0,169.99,143.8,79.9,119.8,69.9,65.98,59.9,56.99,56.7,179.99,255.0,447.0,89.7,199.0,219.9,29.0,210.0,189.9,64.99,130.0,519.99,144.99,19.6,192.99,39.99,219.0,129.0,179.99,169.9,59.9,108.99,59.9,89.0,40.0,99.0,104.0,55.65,49.9,49.0,48.9,43.9,99.8,59.9,109.9,229.04,57.6,109.0,148.0,109.9,29.5,79.99,85.0,160.55,85.8,67.0,179.0,72.9,59.33,29.9,190.0,53.9,105.9,1098.0,21.9,52.9,99.0,69.9,29.45,24.9,119.84,69.9,48.9,89.99,26.9,30.5,149.9,69.0,219.99,22.85,18.99,29.8,49.0,120.0,76.9,399.9,899.0,35.06,47.9,59.9,129.9,18.99,39.9,250.0,341.9,19.9,150.0,165.0,129.9,319.9,29.9,99.0,26.0,99.9,51.99,99.9,49.0,79.0,199.9,69.0,84.26,36.75,1098.0,34.9,59.8,360.0,34.9,91.0,99.8,59.9,166.99,13.98,129.2,225.0,149.87,13.98,98.0,15.9,45.0,89.99,155.55,17.99,127.9,32.97,599.64,59.9,12.26,129.0,81.25,21.65,210.9,27.3,69.9,64.9,120.0,164.9,97.49,24.9,23.48,219.99,175.8,81.9,99.9,149.9,39.8,67.7,264.99,120.0,259.98,59.9,70.0,248.0,56.99,14.46,32.0,29.9,39.99,119.99,93.5,119.8,83.97,56.99,69.9,127.0,49.99,119.9,31.9,25.99,49.0,64.9,59.0,37.9,58.9,39.49,38.9,109.4,117.7,112.0,119.4,129.9,78.9,249.9,50.0,129.0,34.9,99.8,39.9,143.0,599.8,139.99,60.0,45.33,71.98,84.99,11.99,329.9,23.99,74.6,116.99,537.99,46.9,69.9,59.9,147.9,144.41,19.9,9.56,199.0,23.99,57.9,127.9,89.99,67.9,49.9,37.9,209.99,209.99,99.0,10.99,19.9,52.39,69.9,89.0,44.35,59.99,55.8,24.9,109.0,49.9,99.9,15.9,59.0,116.6,90.0,99.9,64.9,29.9,118.9,52.9,499.9,20.9,24.5,146.99,59.9,240.99,158.0,99.99,64.02,599.9,34.9,99.99,56.99,49.9,246.62,887.0,130.0,46.9,69.9,22.9,65.0,46.6,29.9,75.0,189.99,22.9,83.36,17.99,39.9,59.9,145.9,45.0,54.9,389.0,159.98,29.5,46.99,109.98,109.0,149.99,72.0,630.0,132.9,59.0,89.9,137.7,55.9,54.9,13.9,669.99,24.9,27.55,89.9,35.99,79.0,39.9,54.99,51.9,19.9,29.0,52.11,19.99,109.7,34.99,238.9,19.9,29.9,109.9,59.9,65.99,79.95,98.0,34.9,69.9,59.99,119.8,29.9,629.9,59.99,54.9,124.99,52.64,25.99,59.9,32.99,98.0,106.99,89.99,99.8,349.99,12.9,146.92,23.99,49.9,49.0,59.9,89.0,59.9,347.91,189.5,155.5,59.9,208.0,59.9,99.99,49.0,114.9,99.9,422.0,29.0,58.9,133.0,493.9,49.0,219.98,84.99,65.0,30.7,35.99,49.99,139.0,198.0,159.0,32.99,35.99,58.99,41.65,45.0,49.9,29.9,69.0,378.8,29.9,146.0,339.8,215.9,46.99,56.99,194.99,49.9,45.98,59.7,97.8,89.99,56.0,129.99,435.0,179.0,106.94,19.99,179.9,79.99,73.35,19.9,230.98,74.5,54.99,219.0,169.9,159.0,99.99,119.9,19.9,19.9,503.34,78.99,126.69,119.9,49.0,115.0,148.9,97.0,29.9,64.9,270.0,29.9,109.9,161.7,99.0,143.8,19.9,22.7,49.0,58.99,49.9,29.9,86.99,479.94,127.8,146.99,145.0,189.99,169.76,79.0,49.9,319.98,19.99,129.9,94.99,53.9,999.99,139.99,239.9,326.16,39.9,97.5,27.9,16.5,95.0,18.99,229.98,65.0,49.99,62.99,56.99,21.99,101.7,99.0,149.94,88.9,299.0,104.9,59.9,54.6,75.9,598.5,89.9,169.9,175.91,144.0,89.9,99.9,259.9,25.5,66.9,92.0,305.28,149.9,17.0,129.99,189.48,180.0,68.99,329.9,59.99,67.9,205.0,89.9,34.9,48.9,109.99,315.0,229.99,49.0,45.0,44.9,89.9,38.9,95.0,29.5,128.0,52.64,124.9,195.9,63.98,23.8,155.0,74.99,51.9,49.0,89.9,19.99,18.9,102.9,49.9,62.7,104.0,68.9,88.95,29.9,50.0,233.98,28.6,182.0,24.6,119.9,69.9,56.99,34.9,19.9,27.9,549.9,79.9,574.9,89.9,69.9,259.0,20.89,69.0,54.9,85.9,49.9,99.0,249.9,115.2,139.0,109.9,35.0,59.99,229.9,199.99,434.99,219.9,84.0,204.0,535.0,503.34,84.99,79.9,114.94,89.9,136.99,98.0,200.0,119.97,129.0,49.0,49.99,89.9,94.9,104.9,27.9,23.8,79.99,25.0,98.0,38.0,155.0,61.8,62.9,54.9,29.45,279.99,169.9,34.99,59.9,153.0,153.0,74.7,56.99,43.0,199.0,149.0,69.99,45.98,138.0,23.5,13.99,89.7,26.0,224.0,85.0,116.9,143.99,182.0,127.42,56.99,67.7,143.54,29.9,21.99,89.9,130.0,129.9,899.95,29.9,54.99,88.34,70.0,20.9,89.18,109.8,49.95,118.0,194.99,42.0,117.3,35.9,175.0,35.9,250.0,89.9,179.7,270.0,187.0,110.0,109.9,157.0,119.99,299.99,89.99,47.99,10.99,174.9,119.99,72.0,238.0,115.0,16.6,39.9,69.0,26.0,16.9,112.33,37.5,18.98,25.98,157.9,265.0,39.99,94.99,37.9,59.9,109.9,645.0,135.8,41.5,164.98,30.0,149.9,74.8,49.0,54.99,74.5,44.99,13.98,120.0,66.49,89.8,144.9,105.6,146.99,205.0,19.9,49.9,349.99,127.0,59.99,238.9,46.99,56.99,128.8,79.9,289.9,159.9,169.9,59.9,135.0,47.99,49.0,92.34,144.99,74.9,59.99,31.9,239.0,129.0,117.0,109.9,29.9,80.0,99.0,89.0,315.0,399.0,35.9,19.9,84.99,19.9,49.99,59.9,16.8,45.0,87.0,578.0,99.9,599.0,20.3,59.99,265.9,1098.0,179.9,87.0,34.45,15.99,1219.0,59.9,47.99,69.9,59.9,66.29,75.78,114.9,220.89,17.99,295.0,126.99,969.99,39.99,36.0,194.0,146.99,48.9,26.5,44.35,52.64,349.99,95.0,129.0,89.99,20.0,189.9,92.9,68.9,118.0,39.0,99.0,229.99,59.9,52.9,94.5,253.6,41.0,159.99,74.9,89.9,70.0,52.64,199.0,19.9,299.0,241.1,54.9,219.99,133.6,19.9,99.99,79.9,799.0,2281.8,23.99,79.99,522.5,29.9,22.9,44.0,69.9,49.0,90.0,84.5,19.9,39.6,259.9,32.9,145.35,32.0,29.9,205.0,79.0,79.99,42.99,299.0,49.9,103.97,220.0,24.9,99.9,115.0,86.9,69.9,67.5,59.9,329.9,84.99,33.0,57.11,99.99,129.0,106.0,33.0,25.99,105.9,163.99,49.9,110.0,29.99,129.0,19.99,897.0,29.99,49.0,98.0,79.99,349.9,45.9,999.99,99.0,279.0,110.0,23.4,86.99,129.9,180.0,45.0,259.0,45.9,99.99,119.99,31.0,550.0,289.8,98.9,67.9,70.97,99.0,24.9,1050.0,139.9,39.0,25.0,49.0,179.99,94.5,51.99,28.4,159.0,229.99,62.9,18.99,144.99,84.26,119.9,589.0,99.8,245.9,67.9,96.0,9.99,69.0,279.0,69.9,59.9,56.99,59.99,64.0,23.99,143.54,149.7,54.0,60.0,140.9,38.8,239.99,89.58,110.0,179.9,94.9,69.9,51.92,67.9,59.55,269.9,49.0,89.9,35.5,205.0,59.9,7.0,119.9,114.99,465.98,99.9,49.89,14.9,113.9,49.95,20.3,184.9,35.39,62.9,146.99,34.3,96.0,149.9,189.48,42.9,79.7,79.99,35.0,349.9,55.9,49.95,136.9,93.24,139.9,98.0,59.9,69.0,25.0,56.99,22.9,129.9,249.99,13.99,64.89,29.0,32.9,52.64,59.9,16.9,119.99,19.9,21.99,89.9,48.0,49.9,49.9,84.0,99.9,99.9,349.9,79.0,132.5,99.99,236.97,269.99,116.6,79.9,24.5,117.99,53.99,49.89,13.99,52.99,17.0,49.9,113.0,89.9,47.99,238.1,104.0,25.6,89.9,58.99,169.9,450.0,78.0,199.99,13.99,75.99,309.82,19.99,49.9,27.0,38.4,127.9,89.9,24.9,49.5,59.9,49.98,70.0,19.9,49.9,24.5,93.33,49.0,135.82,85.0,125.0,72.9,275.9,39.9,54.99,166.89,23.48,1299.9,815.0,45.9,57.9,65.0,98.9,65.0,259.0,220.0,11.63,269.99,169.0,84.9,34.9,49.99,179.7,56.99,99.0,56.99,109.9,78.0,72.0,99.9,48.9,159.0,54.99,59.9,156.0,16.9,19.9,181.42,109.9,999.9,89.9,56.99,49.0,84.99,159.94,27.53,109.9,19.9,149.9,31.98,89.0,71.98,699.0,148.9,69.0,179.8,149.0,425.0,89.9,69.99,998.0,45.95,85.0,79.9,89.0,139.9,129.9,108.99,99.9,25.9,32.9,24.9,31.9,23.9,74.9,128.56,49.9,107.0,252.43,39.9,109.9,95.0,13.99,30.8,299.9,99.99,599.6,89.9,189.9,19.9,89.9,59.8,56.97,67.9,157.98,18.9,259.9,33.6,119.99,83.36,55.0,36.9,45.95,41.3,436.6,59.9,114.9,220.0,269.0,69.9,247.6,34.0,25.98,194.9,139.9,79.0,23.99,129.0,59.99,22.68,106.99,195.12,799.99,39.99,49.9,153.96,75.0,99.9,113.0,49.9,59.99,34.0,113.0,107.99,98.0,2999.0,447.99,36.9,699.0,140.0,89.99,79.9,99.99,135.0,69.9,22.0,56.99,49.0,134.55,119.0,149.0,59.99,49.0,49.9,49.0,29.99,89.99,329.0,99.5,62.8,24.62,54.9,59.99,16.9,89.9,158.0,292.5,115.0,59.99,56.97,89.0,129.99,84.99,89.9,69.9,29.0,205.0,20.0,67.9,287.8,34.9,38.0,75.02,134.9,365.94,9.32,70.0,99.9,179.99,40.0,89.9,59.8,54.9,369.9,79.0,339.9,39.5,159.99,78.9,154.99,42.9,150.0,129.99,50.0,209.9,93.0,89.9,21.5,128.99,220.0,12.67,369.0,139.9,74.9,149.9,149.0,29.8,59.9,299.0,117.9,339.0,200.0,95.0,108.5,898.0,41.31,97.75,216.0,45.0,79.99,150.0,24.97,34.9,189.9,66.0,44.99,503.34,144.99,145.8,19.9,136.5,35.0,55.0,364.99,349.99,240.0,12.9,69.9,51.96,15.9,112.0,97.75,249.0,95.03,158.0,139.9,125.02,149.9,69.9,29.0,115.0,40.0,13.9,199.99,243.0,18.99,69.9,11.99,44.95,36.8,45.95,84.0,39.9,189.0,19.9,5.9,29.99,289.9,20.9,199.9,49.9,61.0,89.0,66.89,199.7,159.9,250.0,47.0,115.0,29.9,54.9,205.0,204.9,49.0,79.99,235.6,79.99,537.99,52.0,139.9,129.0,56.99,99.9,39.99,194.99,54.99,31.9,69.8,259.9,338.5,869.0,41.99,29.9,640.0,55.0,49.9,79.0,129.99,1999.99,56.99,24.0,22.9,69.9,34.99,2799.0,19.99,339.0,71.28,135.49,29.75,102.0,97.79,104.0,79.99,129.9,84.9,1200.0,35.9,55.0,88.0,99.9,31.9,130.0,24.98,149.9,18.9,18.99,56.99,31.8,119.94,70.9,49.9,89.8,260.0,31.9,24.89,28.69,40.0,60.0,198.99,89.49,22.95,38.97,71.0,99.99,119.8,189.9,56.85,91.8,49.9,159.9,102.0,45.95,439.0,49.99,20.0,29.9,129.99,189.0,389.89,270.0,12.99,98.0,19.9,44.99,167.98,55.0,592.8,29.9,37.9,68.9,126.99,279.0,64.8,49.0,18.0,54.99,180.0,89.9,49.0,34.99,72.9,241.1,651.55,89.9,629.9,19.9,109.89,50.99,24.5,45.9,79.8,46.99,119.9,205.0,169.0,39.9,59.98,49.99,59.7,58.99,299.99,64.9,99.0,49.9,89.99,89.9,454.0,50.9,69.9,29.0,21.9,113.8,96.0,44.32,35.0,80.0,89.7,19.83,89.99,149.7,27.98,686.21,389.9,22.0,99.98,24.9,204.0,119.98,76.99,169.0,610.0,89.9,119.1,259.0,245.9,196.99,19.0,55.8,24.9,139.98,69.9,412.0,25.99,226.95,27.9,49.0,54.99,99.0,59.9,109.0,175.9,35.0,180.0,29.99,68.9,159.0,325.0,59.9,149.99,49.9,129.99,38.9,68.0,139.9,105.0,361.99,35.9,59.9,24.9,109.9,17.99,95.0,98.0,49.0,15.0,99.49,270.0,358.0,45.0,99.8,597.9,74.8,19.9,39.99,79.99,29.0,139.0,139.9,92.99,49.0,129.8,129.0,1599.0,295.92,49.9,79.9,69.9,144.94,278.77,349.0,39.9,20.9,69.9,13.99,210.0,99.99,79.9,105.0,79.99,169.99,19.98,69.9,119.9,14.99,69.9,173.8,24.9,46.98,91.9,44.0,158.0,99.9,20.9,133.6,155.0,19.49,229.99,134.9,56.99,74.9,174.9,195.9,159.9,21.49,120.0,60.0,99.0,104.98,49.9,115.0,129.0,56.99,109.9,32.9,51.96,56.99,99.99,210.0,349.99,85.0,89.9,49.9,49.0,49.0,180.0,24.89,39.9,299.9,29.0,59.9,19.9,155.0,39.9,235.0,185.0,149.0,37.9,59.9,3.5,493.0,45.8,84.99,348.8,270.0,72.9,44.9,75.9,215.0,69.0,12.97,548.0,29.9,19.99,129.99,37.99,27.8,99.9,89.0,48.98,27.9,359.8,269.0,89.9,89.9,109.9,179.8,49.95,59.99,49.99,89.9,294.99,88.9,21.99,69.9,37.98,53.9,149.9,29.99,109.9,69.0,79.0,129.9,30.0,69.0,829.0,146.0,42.9,84.99,105.6,494.99,86.9,143.8,69.9,249.0,79.0,89.9,359.8,59.99,9.9,378.0,199.9,80.0,59.0,210.0,89.49,59.9,109.0,99.9,59.99,29.9,28.0,329.9,79.9,119.99,99.9,339.9,150.0,205.0,29.9,54.9,81.25,25.98,55.0,168.9,67.9,79.9,118.9,207.0,78.45,109.9,129.0,139.9,16.9,59.9,599.0,49.0,44.9,369.0,19.99,359.2,23.48,37.99,74.9,127.5,19.9,198.0,74.8,139.9,159.8,19.99,149.9,139.9,74.9,69.9,49.99,50.9,118.5,99.0,29.9,612.91,72.9,39.99,107.0,90.9,14.99,21.65,499.0,58.99,34.9,19.9,69.9,54.99,75.9,300.0,149.9,139.0,151.2,45.0,95.0,59.0,179.99,50.9,19.9,49.0,147.5,29.99,299.0,105.9,50.0,45.5,129.34,75.0,160.2,578.9,25.0,144.41,248.99,149.9,64.9,299.0,50.0,21.99,89.9,229.99,155.94,267.0,89.9,144.9,189.0,99.89,12.97,180.0,139.9,29.9,28.9,12.0,149.0,270.0,75.9,19.9,29.99,78.25,119.4,29.9,74.25,74.8,89.0,409.9,16.9,415.0,64.0,99.9,499.9,35.0,120.9,146.0,349.99,92.0,34.4,250.0,59.55,72.9,139.8,195.0,25.0,349.9,124.99,24.9,170.5,184.99,29.9,56.99,159.0,93.8,179.9,189.15,130.0,34.99,59.9,79.0,168.0,799.9,129.99,49.9,179.0,164.9,196.99,189.0,46.86,225.98,59.9,169.0,53.49,549.9,105.0,54.9,199.0,109.9,28.82,19.9,40.0,176.9,169.9,130.0,38.0,254.9,39.0,89.9,119.0,86.9,119.94,49.9,79.0,424.0,230.0,120.0,24.5,249.9,59.9,43.9,89.9,37.0,783.6,99.9,237.16,79.0,147.9,67.9,129.9,6.9,458.0,278.7,40.0,89.99,25.9,239.99,69.9,150.0,107.6,139.9,129.99,74.9,103.83,199.9,49.0,75.0,90.3,19.9,180.0,180.0,119.8,198.0,39.99,45.0,138.0,669.99,18.9,339.99,149.9,31.9,220.99,69.9,59.98,199.9,48.0,64.99,25.0,49.9,148.9,129.96,151.9,42.9,29.9,19.9,203.99,74.9,89.9,174.9,89.9,129.9,109.66,25.9,684.9,4850.0,74.9,16.99,168.05,53.9,19.9,49.0,319.9,88.9,67.91,89.0,64.99,50.9,89.9,49.5,143.8,13.99,250.0,35.99,99.0,279.9,179.99,47.99,156.99,72.4,75.0,59.9,59.9,72.99,19.74,169.9,35.9,619.0,240.0,35.4,29.9,169.0,99.99,38.99,174.0,139.9,71.9,49.9,29.9,12.9,69.9,39.99,59.9,16.9,13.9,17.99,199.0,39.49,129.99,210.99,89.99,79.9,59.9,1340.0,19.9,49.9,32.99,130.0,208.9,282.0,50.9,189.99,129.98,157.0,229.99,399.9,22.0,28.9,179.9,69.0,272.9,26.0,139.9,19.99,129.0,84.99,129.99,22.5,59.0,86.9,399.0,31.9,599.99,177.99,29.9,16.9,109.99,135.0,36.9,19.0,89.99,18.99,148.9,49.9,24.9,65.0,799.99,319.9,69.9,154.9,49.9,15.55,99.99,55.0,72.9,34.9,69.9,69.9,28.98,57.0,39.9,431.1,159.0,40.0,72.9,59.99,29.9,89.0,139.99,79.99,422.0,34.49,119.8,68.9,99.99,64.9,34.9,90.0,89.9,199.9,49.0,239.99,27.99,126.0,279.8,69.99,49.0,89.7,69.0,49.0,169.99,49.9,27.9,60.0,19.9,59.9,110.25,589.0,149.9,84.9,50.0,15.99,76.89,166.99,129.99,99.9,159.9,219.99,89.7,327.49,13.99,26.99,21.99,129.99,152.9,999.8,75.0,117.3,49.0,69.9,53.9,45.0,149.9,163.0,29.9,58.99,44.9,74.99,199.9,76.8,229.99,16.99,154.0,299.99,32.9,388.0,79.8,49.99,59.9,61.9,219.9,34.9,74.9,49.0,109.9,49.0,40.0,269.0,79.0,35.9,32.99,219.94,139.99,129.0,16.9,89.9,150.0,48.0,49.9,229.99,38.9,142.5,129.94,224.7,79.9,39.9,34.9,277.0,99.0,47.9,105.0,79.9,23.8,169.9,49.0,190.0,269.0,49.7,249.9,139.9,49.9,399.0,44.9,279.8,399.99,229.0,33.9,89.99,179.9,59.99,149.7,34.9,205.0,39.9,521.89,43.6,45.0,46.9,609.99,219.99,99.9,249.9,314.97,59.0,34.99,59.1,53.99,199.0,499.9,199.9,23.48,99.9,89.98,55.0,127.0,199.99,29.99,219.99,56.99,89.0,49.9,59.9,69.9,319.96,35.0,16.9,69.99,126.9,114.0,59.0,64.9,19.9,325.0,45.0,149.9,138.0,149.87,89.9,55.9,99.99,422.0,199.9,139.8,159.9,140.9,11.99,79.99,59.99,29.9,64.9,299.9,2690.0,75.99,216.76,325.0,119.9,144.99,129.34,99.8,49.9,45.49,48.9,140.0,139.0,79.8,18.8,89.9,29.0,139.9,77.68,425.0,599.0,129.0,166.99,29.9,51.92,131.9,109.9,155.44,35.0,70.9,195.5,119.8,273.0,39.9,109.9,58.5,79.98,179.8,12.9,132.76,74.0,18.9,69.9,76.8,139.0,202.47,94.9,35.99,22.99,119.98,1050.0,89.18,41.58,399.0,99.0,84.99,43.5,109.0,230.0,85.0,180.0,38.0,59.9,349.9,26.0,95.0,679.99,310.99,42.99,179.7,22.9,179.98,57.4,29.45,29.9,93.98,59.49,59.0,49.9,88.0,7.0,119.9,59.99,17.33,34.99,1340.0,221.5,138.0,40.0,318.0,299.99,71.97,33.8,78.9,58.99,55.0,229.8,49.9,16.17,1340.0,99.9,34.9,134.9,134.7,329.99,29.9,129.9,75.99,49.9,34.9,19.9,14.9,199.9,39.99,49.0,59.0,13.98,22.9,165.0,25.9,59.0,168.0,139.99,149.99,83.48,89.9,38.97,142.27,139.99,58.8,44.99,143.0,270.0,59.9,79.9,109.9,56.99,19.9,105.0,18.9,112.9,49.0,65.0,257.6,49.9,119.0,52.0,269.99,31.9,129.99,39.9,160.0,45.9,79.0,48.0,23.9,28.69,62.4,129.6,49.9,24.9,74.9,39.99,38.5,13.99,45.9,59.99,59.9,199.0,169.0,208.0,39.0,85.0,12.5,269.0,179.7,17.89,100.0,49.9,79.0,75.78,49.0,69.99,31.9,189.99,72.9,45.0,92.9,80.0,99.9,24.87,700.0,69.9,89.97,80.0,69.9,227.9,29.0,94.0,41.9,44.99,27.99,229.0,93.49,99.9,159.0,34.99,217.98,149.0,28.99,20.0,53.9,51.9,550.0,299.9,89.9,46.2,49.9,359.82,219.9,241.1,234.9,12.99,49.99,39.9,18.99,199.9,98.9,40.0,179.8,44.66,140.0,54.9,99.0,26.0,34.9,89.9,59.9,69.0,312.84,319.0,99.0,65.9,31.9,32.99,45.9,2690.0,59.99,94.0,32.0,29.9,69.9,27.9,63.9,13.99,32.9,39.9,189.0,99.99,79.9,99.99,97.0,33.49,44.9,259.99,49.9,49.0,72.0,199.89,57.99,49.99,35.9,169.9,38.99,99.98,79.9,209.99,32.5,50.0,129.9,44.9,233.98,49.9,69.9,120.0,129.0,19.9,249.99,209.0,127.9,49.0,130.0,19.9,153.6,19.99,150.0,120.9,30.0,13.99,59.9,26.99,15.92,19.99,119.9,74.9,998.9,204.0,56.99,299.0,24.9,76.99,39.9,129.99,21.0,98.72,239.9,89.0,199.98,159.9,58.9,129.99,105.0,99.9,109.9,50.0,89.7,149.9,143.8,115.0,96.9,149.9,89.9,149.9,84.9,18.99,15.9,142.0,39.9,131.35,99.0,27.9,89.9,159.0,279.9,109.9,49.0,134.9,229.0,13.0,84.99,139.99,139.76,84.9,69.9,98.99,89.3,399.99,89.0,59.0,399.98,15.9,161.7,139.99,45.0,220.0,1300.0,760.0,29.95,58.9,56.99,449.5,44.99,1004.99,47.9,199.0,239.9,13.98,71.8,99.7,89.9,58.67,300.0,65.0,39.99,50.0,36.26,149.0,24.5,19.9,58.99,49.9,278.99,188.0,37.5,100.0,53.7,34.99,119.9,12.9,229.0,219.0,659.0,119.8,84.9,783.14,28.72,179.9,112.0,109.9,59.0,72.9,49.9,99.99,219.99,191.4,59.0,35.0,34.45,103.94,44.9,99.0,14.99,39.4,114.9,99.9,59.9,56.99,52.0,67.12,52.99,50.9,48.0,99.0,56.97,109.4,179.0,24.99,79.9,145.95,70.0,166.89,41.9,204.9,19.9,79.9,35.9,158.0,129.9,49.9,235.0,20.0,89.99,439.0,49.0,74.25,39.4,69.9,4.52,59.99,134.9,70.74,24.9,189.99,219.9,32.9,29.99,84.9,239.9,27.9,32.99,149.0,29.9,67.9,94.0,319.0,58.9,406.99,61.5,75.0,117.0,169.9,69.9,49.95,109.0,49.0,99.99,46.9,94.98,136.8,109.9,230.0,119.9,43.5,49.0,139.9,60.0,199.0,238.9,299.0,99.8,29.0,52.99,99.9,89.99,254.0,19.99,159.0,99.49,79.9,276.0,104.0,149.99,36.0,249.9,899.0,19.9,159.94,35.9,298.0,35.0,69.99,39.9,795.0,72.9,38.0],\"type\":\"scatter\"}],                        {\"template\":{\"data\":{\"barpolar\":[{\"marker\":{\"line\":{\"color\":\"#E5ECF6\",\"width\":0.5},\"pattern\":{\"fillmode\":\"overlay\",\"size\":10,\"solidity\":0.2}},\"type\":\"barpolar\"}],\"bar\":[{\"error_x\":{\"color\":\"#2a3f5f\"},\"error_y\":{\"color\":\"#2a3f5f\"},\"marker\":{\"line\":{\"color\":\"#E5ECF6\",\"width\":0.5},\"pattern\":{\"fillmode\":\"overlay\",\"size\":10,\"solidity\":0.2}},\"type\":\"bar\"}],\"carpet\":[{\"aaxis\":{\"endlinecolor\":\"#2a3f5f\",\"gridcolor\":\"white\",\"linecolor\":\"white\",\"minorgridcolor\":\"white\",\"startlinecolor\":\"#2a3f5f\"},\"baxis\":{\"endlinecolor\":\"#2a3f5f\",\"gridcolor\":\"white\",\"linecolor\":\"white\",\"minorgridcolor\":\"white\",\"startlinecolor\":\"#2a3f5f\"},\"type\":\"carpet\"}],\"choropleth\":[{\"colorbar\":{\"outlinewidth\":0,\"ticks\":\"\"},\"type\":\"choropleth\"}],\"contourcarpet\":[{\"colorbar\":{\"outlinewidth\":0,\"ticks\":\"\"},\"type\":\"contourcarpet\"}],\"contour\":[{\"colorbar\":{\"outlinewidth\":0,\"ticks\":\"\"},\"colorscale\":[[0.0,\"#0d0887\"],[0.1111111111111111,\"#46039f\"],[0.2222222222222222,\"#7201a8\"],[0.3333333333333333,\"#9c179e\"],[0.4444444444444444,\"#bd3786\"],[0.5555555555555556,\"#d8576b\"],[0.6666666666666666,\"#ed7953\"],[0.7777777777777778,\"#fb9f3a\"],[0.8888888888888888,\"#fdca26\"],[1.0,\"#f0f921\"]],\"type\":\"contour\"}],\"heatmapgl\":[{\"colorbar\":{\"outlinewidth\":0,\"ticks\":\"\"},\"colorscale\":[[0.0,\"#0d0887\"],[0.1111111111111111,\"#46039f\"],[0.2222222222222222,\"#7201a8\"],[0.3333333333333333,\"#9c179e\"],[0.4444444444444444,\"#bd3786\"],[0.5555555555555556,\"#d8576b\"],[0.6666666666666666,\"#ed7953\"],[0.7777777777777778,\"#fb9f3a\"],[0.8888888888888888,\"#fdca26\"],[1.0,\"#f0f921\"]],\"type\":\"heatmapgl\"}],\"heatmap\":[{\"colorbar\":{\"outlinewidth\":0,\"ticks\":\"\"},\"colorscale\":[[0.0,\"#0d0887\"],[0.1111111111111111,\"#46039f\"],[0.2222222222222222,\"#7201a8\"],[0.3333333333333333,\"#9c179e\"],[0.4444444444444444,\"#bd3786\"],[0.5555555555555556,\"#d8576b\"],[0.6666666666666666,\"#ed7953\"],[0.7777777777777778,\"#fb9f3a\"],[0.8888888888888888,\"#fdca26\"],[1.0,\"#f0f921\"]],\"type\":\"heatmap\"}],\"histogram2dcontour\":[{\"colorbar\":{\"outlinewidth\":0,\"ticks\":\"\"},\"colorscale\":[[0.0,\"#0d0887\"],[0.1111111111111111,\"#46039f\"],[0.2222222222222222,\"#7201a8\"],[0.3333333333333333,\"#9c179e\"],[0.4444444444444444,\"#bd3786\"],[0.5555555555555556,\"#d8576b\"],[0.6666666666666666,\"#ed7953\"],[0.7777777777777778,\"#fb9f3a\"],[0.8888888888888888,\"#fdca26\"],[1.0,\"#f0f921\"]],\"type\":\"histogram2dcontour\"}],\"histogram2d\":[{\"colorbar\":{\"outlinewidth\":0,\"ticks\":\"\"},\"colorscale\":[[0.0,\"#0d0887\"],[0.1111111111111111,\"#46039f\"],[0.2222222222222222,\"#7201a8\"],[0.3333333333333333,\"#9c179e\"],[0.4444444444444444,\"#bd3786\"],[0.5555555555555556,\"#d8576b\"],[0.6666666666666666,\"#ed7953\"],[0.7777777777777778,\"#fb9f3a\"],[0.8888888888888888,\"#fdca26\"],[1.0,\"#f0f921\"]],\"type\":\"histogram2d\"}],\"histogram\":[{\"marker\":{\"pattern\":{\"fillmode\":\"overlay\",\"size\":10,\"solidity\":0.2}},\"type\":\"histogram\"}],\"mesh3d\":[{\"colorbar\":{\"outlinewidth\":0,\"ticks\":\"\"},\"type\":\"mesh3d\"}],\"parcoords\":[{\"line\":{\"colorbar\":{\"outlinewidth\":0,\"ticks\":\"\"}},\"type\":\"parcoords\"}],\"pie\":[{\"automargin\":true,\"type\":\"pie\"}],\"scatter3d\":[{\"line\":{\"colorbar\":{\"outlinewidth\":0,\"ticks\":\"\"}},\"marker\":{\"colorbar\":{\"outlinewidth\":0,\"ticks\":\"\"}},\"type\":\"scatter3d\"}],\"scattercarpet\":[{\"marker\":{\"colorbar\":{\"outlinewidth\":0,\"ticks\":\"\"}},\"type\":\"scattercarpet\"}],\"scattergeo\":[{\"marker\":{\"colorbar\":{\"outlinewidth\":0,\"ticks\":\"\"}},\"type\":\"scattergeo\"}],\"scattergl\":[{\"marker\":{\"colorbar\":{\"outlinewidth\":0,\"ticks\":\"\"}},\"type\":\"scattergl\"}],\"scattermapbox\":[{\"marker\":{\"colorbar\":{\"outlinewidth\":0,\"ticks\":\"\"}},\"type\":\"scattermapbox\"}],\"scatterpolargl\":[{\"marker\":{\"colorbar\":{\"outlinewidth\":0,\"ticks\":\"\"}},\"type\":\"scatterpolargl\"}],\"scatterpolar\":[{\"marker\":{\"colorbar\":{\"outlinewidth\":0,\"ticks\":\"\"}},\"type\":\"scatterpolar\"}],\"scatter\":[{\"fillpattern\":{\"fillmode\":\"overlay\",\"size\":10,\"solidity\":0.2},\"type\":\"scatter\"}],\"scatterternary\":[{\"marker\":{\"colorbar\":{\"outlinewidth\":0,\"ticks\":\"\"}},\"type\":\"scatterternary\"}],\"surface\":[{\"colorbar\":{\"outlinewidth\":0,\"ticks\":\"\"},\"colorscale\":[[0.0,\"#0d0887\"],[0.1111111111111111,\"#46039f\"],[0.2222222222222222,\"#7201a8\"],[0.3333333333333333,\"#9c179e\"],[0.4444444444444444,\"#bd3786\"],[0.5555555555555556,\"#d8576b\"],[0.6666666666666666,\"#ed7953\"],[0.7777777777777778,\"#fb9f3a\"],[0.8888888888888888,\"#fdca26\"],[1.0,\"#f0f921\"]],\"type\":\"surface\"}],\"table\":[{\"cells\":{\"fill\":{\"color\":\"#EBF0F8\"},\"line\":{\"color\":\"white\"}},\"header\":{\"fill\":{\"color\":\"#C8D4E3\"},\"line\":{\"color\":\"white\"}},\"type\":\"table\"}]},\"layout\":{\"annotationdefaults\":{\"arrowcolor\":\"#2a3f5f\",\"arrowhead\":0,\"arrowwidth\":1},\"autotypenumbers\":\"strict\",\"coloraxis\":{\"colorbar\":{\"outlinewidth\":0,\"ticks\":\"\"}},\"colorscale\":{\"diverging\":[[0,\"#8e0152\"],[0.1,\"#c51b7d\"],[0.2,\"#de77ae\"],[0.3,\"#f1b6da\"],[0.4,\"#fde0ef\"],[0.5,\"#f7f7f7\"],[0.6,\"#e6f5d0\"],[0.7,\"#b8e186\"],[0.8,\"#7fbc41\"],[0.9,\"#4d9221\"],[1,\"#276419\"]],\"sequential\":[[0.0,\"#0d0887\"],[0.1111111111111111,\"#46039f\"],[0.2222222222222222,\"#7201a8\"],[0.3333333333333333,\"#9c179e\"],[0.4444444444444444,\"#bd3786\"],[0.5555555555555556,\"#d8576b\"],[0.6666666666666666,\"#ed7953\"],[0.7777777777777778,\"#fb9f3a\"],[0.8888888888888888,\"#fdca26\"],[1.0,\"#f0f921\"]],\"sequentialminus\":[[0.0,\"#0d0887\"],[0.1111111111111111,\"#46039f\"],[0.2222222222222222,\"#7201a8\"],[0.3333333333333333,\"#9c179e\"],[0.4444444444444444,\"#bd3786\"],[0.5555555555555556,\"#d8576b\"],[0.6666666666666666,\"#ed7953\"],[0.7777777777777778,\"#fb9f3a\"],[0.8888888888888888,\"#fdca26\"],[1.0,\"#f0f921\"]]},\"colorway\":[\"#636efa\",\"#EF553B\",\"#00cc96\",\"#ab63fa\",\"#FFA15A\",\"#19d3f3\",\"#FF6692\",\"#B6E880\",\"#FF97FF\",\"#FECB52\"],\"font\":{\"color\":\"#2a3f5f\"},\"geo\":{\"bgcolor\":\"white\",\"lakecolor\":\"white\",\"landcolor\":\"#E5ECF6\",\"showlakes\":true,\"showland\":true,\"subunitcolor\":\"white\"},\"hoverlabel\":{\"align\":\"left\"},\"hovermode\":\"closest\",\"mapbox\":{\"style\":\"light\"},\"paper_bgcolor\":\"white\",\"plot_bgcolor\":\"#E5ECF6\",\"polar\":{\"angularaxis\":{\"gridcolor\":\"white\",\"linecolor\":\"white\",\"ticks\":\"\"},\"bgcolor\":\"#E5ECF6\",\"radialaxis\":{\"gridcolor\":\"white\",\"linecolor\":\"white\",\"ticks\":\"\"}},\"scene\":{\"xaxis\":{\"backgroundcolor\":\"#E5ECF6\",\"gridcolor\":\"white\",\"gridwidth\":2,\"linecolor\":\"white\",\"showbackground\":true,\"ticks\":\"\",\"zerolinecolor\":\"white\"},\"yaxis\":{\"backgroundcolor\":\"#E5ECF6\",\"gridcolor\":\"white\",\"gridwidth\":2,\"linecolor\":\"white\",\"showbackground\":true,\"ticks\":\"\",\"zerolinecolor\":\"white\"},\"zaxis\":{\"backgroundcolor\":\"#E5ECF6\",\"gridcolor\":\"white\",\"gridwidth\":2,\"linecolor\":\"white\",\"showbackground\":true,\"ticks\":\"\",\"zerolinecolor\":\"white\"}},\"shapedefaults\":{\"line\":{\"color\":\"#2a3f5f\"}},\"ternary\":{\"aaxis\":{\"gridcolor\":\"white\",\"linecolor\":\"white\",\"ticks\":\"\"},\"baxis\":{\"gridcolor\":\"white\",\"linecolor\":\"white\",\"ticks\":\"\"},\"bgcolor\":\"#E5ECF6\",\"caxis\":{\"gridcolor\":\"white\",\"linecolor\":\"white\",\"ticks\":\"\"}},\"title\":{\"x\":0.05},\"xaxis\":{\"automargin\":true,\"gridcolor\":\"white\",\"linecolor\":\"white\",\"ticks\":\"\",\"title\":{\"standoff\":15},\"zerolinecolor\":\"white\",\"zerolinewidth\":2},\"yaxis\":{\"automargin\":true,\"gridcolor\":\"white\",\"linecolor\":\"white\",\"ticks\":\"\",\"title\":{\"standoff\":15},\"zerolinecolor\":\"white\",\"zerolinewidth\":2}}},\"title\":{\"text\":\"Valor de Frete x Valor de Produto\"},\"xaxis\":{\"title\":{\"text\":\"Valor do Frete\"}},\"yaxis\":{\"title\":{\"text\":\"Valor do Produto\"}}},                        {\"responsive\": true}                    ).then(function(){\n",
              "                            \n",
              "var gd = document.getElementById('b1fee705-d2e4-47df-8217-a5bfaa0de235');\n",
              "var x = new MutationObserver(function (mutations, observer) {{\n",
              "        var display = window.getComputedStyle(gd).display;\n",
              "        if (!display || display === 'none') {{\n",
              "            console.log([gd, 'removed!']);\n",
              "            Plotly.purge(gd);\n",
              "            observer.disconnect();\n",
              "        }}\n",
              "}});\n",
              "\n",
              "// Listen for the removal of the full notebook cells\n",
              "var notebookContainer = gd.closest('#notebook-container');\n",
              "if (notebookContainer) {{\n",
              "    x.observe(notebookContainer, {childList: true});\n",
              "}}\n",
              "\n",
              "// Listen for the clearing of the current output cell\n",
              "var outputEl = gd.closest('.output');\n",
              "if (outputEl) {{\n",
              "    x.observe(outputEl, {childList: true});\n",
              "}}\n",
              "\n",
              "                        })                };                            </script>        </div>\n",
              "</body>\n",
              "</html>"
            ]
          },
          "metadata": {}
        }
      ]
    },
    {
      "cell_type": "code",
      "source": [
        "trace = go.Scatter(x = df[\"order_freight_value\"],\n",
        "                   y = df [\"order_products_value\"],\n",
        "                   mode = \"markers\",\n",
        "                   text = \"Status do Pedido:\" + df[\"order_status\"] +\n",
        "                   \"<br>\" + \"Classe: \" + df[\"most_voted_class\"],\n",
        "                   hoverinfo = \"text +x+y\",\n",
        "                   marker = {\"color\": \"#941229\",\n",
        "                             \"size\" : df[\"order_sellers_qty\"] * 10,\n",
        "                             \"sizemode\" : \"area\"})"
      ],
      "metadata": {
        "id": "AgMPFSf0eGcK"
      },
      "execution_count": 404,
      "outputs": []
    },
    {
      "cell_type": "code",
      "source": [
        "data = [trace]"
      ],
      "metadata": {
        "id": "17hN6rSwfaiv"
      },
      "execution_count": 405,
      "outputs": []
    },
    {
      "cell_type": "code",
      "source": [
        "layout = go.Layout(title = \"Valor de Frete x Valor do Produto\",\n",
        "                   yaxis = {\"title\": \"Valor do Produto\",\n",
        "                            \"tickformat\" : \".\",\n",
        "                            \"tickprefix\" : \"R$\" },\n",
        "                   xaxis = {\"title\": \"Valor do Produto\",\n",
        "                            \"tickformat\" : \".\",\n",
        "                            \"tickprefix\" : \"R$\" })"
      ],
      "metadata": {
        "id": "EKML3V3rfgLK"
      },
      "execution_count": 406,
      "outputs": []
    },
    {
      "cell_type": "code",
      "source": [
        "fig = go.Figure(data = data, layout = layout)"
      ],
      "metadata": {
        "id": "BoyX1Od8gO3l"
      },
      "execution_count": 407,
      "outputs": []
    },
    {
      "cell_type": "code",
      "source": [
        "py.iplot(fig)"
      ],
      "metadata": {
        "colab": {
          "base_uri": "https://localhost:8080/",
          "height": 542
        },
        "id": "Y6RxRuHMg6JL",
        "outputId": "421e765b-f2bf-41c7-e44c-d3ec2b696e24"
      },
      "execution_count": 408,
      "outputs": [
        {
          "output_type": "display_data",
          "data": {
            "text/html": [
              "<html>\n",
              "<head><meta charset=\"utf-8\" /></head>\n",
              "<body>\n",
              "    <div>            <script src=\"https://cdnjs.cloudflare.com/ajax/libs/mathjax/2.7.5/MathJax.js?config=TeX-AMS-MML_SVG\"></script><script type=\"text/javascript\">if (window.MathJax && window.MathJax.Hub && window.MathJax.Hub.Config) {window.MathJax.Hub.Config({SVG: {font: \"STIX-Web\"}});}</script>                <script type=\"text/javascript\">window.PlotlyConfig = {MathJaxConfig: 'local'};</script>\n",
              "        <script charset=\"utf-8\" src=\"https://cdn.plot.ly/plotly-2.24.1.min.js\"></script>                <div id=\"677bd20e-1f04-4d05-991a-7704aede814c\" class=\"plotly-graph-div\" style=\"height:525px; width:100%;\"></div>            <script type=\"text/javascript\">                                    window.PLOTLYENV=window.PLOTLYENV || {};                                    if (document.getElementById(\"677bd20e-1f04-4d05-991a-7704aede814c\")) {                    Plotly.newPlot(                        \"677bd20e-1f04-4d05-991a-7704aede814c\",                        [{\"hoverinfo\":\"text+x+y\",\"marker\":{\"color\":\"#941229\",\"size\":[10,10,40,10,20,60,10,10,10,10,10,10,10,10,40,10,10,10,10,40,10,10,10,60,10,40,10,10,10,10,10,40,10,20,10,20,10,20,40,20,10,10,10,10,10,10,10,10,10,20,10,10,40,10,10,10,10,10,10,10,10,10,20,10,40,10,10,10,20,10,10,10,10,10,10,10,10,10,10,10,20,10,10,10,10,10,10,10,10,10,10,10,10,10,10,10,10,10,10,10,10,10,10,20,10,10,10,10,30,10,120,10,10,60,10,10,20,10,10,10,10,10,40,20,10,10,10,10,10,10,120,10,10,10,60,10,10,10,10,10,10,10,10,20,10,10,10,10,10,10,10,10,10,10,10,10,10,10,10,20,10,10,10,20,10,10,10,10,10,60,10,10,40,10,10,10,20,10,10,10,20,30,10,10,10,10,10,30,10,10,10,10,10,10,10,20,10,10,10,20,10,10,10,10,40,10,10,10,10,10,10,10,10,10,10,10,10,20,10,10,10,10,10,10,20,10,10,10,20,10,10,10,10,10,10,10,10,20,10,10,40,10,40,10,10,10,10,10,10,10,20,20,10,10,10,10,10,10,10,10,10,10,10,10,10,60,10,10,10,10,10,10,10,10,10,10,10,10,10,10,10,60,10,10,10,10,10,20,10,10,10,10,10,10,10,10,10,10,60,10,10,10,10,10,10,20,10,20,10,10,10,30,10,10,10,10,10,10,60,10,40,10,10,10,80,10,10,40,10,10,10,10,10,10,10,10,10,10,10,10,10,10,90,120,10,40,10,10,10,10,20,10,10,20,10,10,10,10,10,90,40,10,10,10,20,10,10,10,10,10,10,20,10,10,20,10,40,10,10,20,10,10,10,60,10,10,10,10,10,40,10,40,10,20,10,10,10,10,10,10,20,10,10,10,10,10,10,10,10,10,40,10,10,10,10,20,80,10,10,40,10,20,10,40,10,10,10,10,10,10,10,10,10,10,10,10,10,10,40,10,10,10,10,10,10,10,20,10,10,10,10,10,10,20,10,10,10,10,10,10,10,10,10,10,20,10,10,10,10,30,10,10,10,40,20,10,10,10,10,60,10,10,30,10,10,10,10,10,10,10,10,10,10,10,10,10,10,10,10,10,10,10,10,10,10,40,10,20,10,10,10,10,10,10,10,10,10,10,10,10,10,30,20,10,10,10,10,10,10,10,20,10,10,10,20,10,30,10,10,10,10,10,40,10,10,120,40,10,20,60,20,10,20,10,40,10,10,10,10,10,10,10,10,10,10,10,40,10,10,10,10,60,10,30,10,10,10,10,10,10,10,10,20,10,10,10,20,10,10,20,10,10,10,10,10,10,10,10,10,10,30,40,10,10,10,10,10,10,10,10,10,20,10,10,10,10,10,10,40,10,20,10,10,40,20,10,80,10,60,10,10,10,10,10,10,10,10,10,10,10,10,10,10,10,10,10,10,10,10,10,10,10,10,60,120,20,10,10,20,10,10,10,20,10,20,10,10,10,20,10,10,10,10,10,10,10,10,10,10,10,10,10,10,10,10,10,10,10,30,10,10,10,10,10,10,10,10,10,20,10,10,10,10,10,10,10,90,10,10,10,10,20,10,20,10,20,10,30,10,10,10,10,20,10,20,10,20,10,10,10,10,10,10,40,10,10,10,10,40,10,10,10,20,10,10,70,10,10,10,40,30,10,60,10,20,10,10,10,10,60,40,20,10,10,10,20,10,10,20,10,10,10,30,10,10,10,10,20,10,10,10,10,10,10,10,10,10,10,10,10,10,10,10,10,10,10,10,10,10,10,40,10,90,30,10,10,10,10,10,10,40,60,10,10,10,20,10,10,10,10,10,10,10,10,10,10,10,20,10,40,10,40,10,10,10,10,10,10,10,20,10,10,10,10,10,40,10,10,10,10,10,60,10,10,10,10,20,10,10,10,10,10,10,10,10,10,10,10,10,10,10,40,10,40,10,10,10,10,10,30,20,10,10,10,10,10,40,10,10,10,60,40,10,20,10,10,10,10,10,10,10,10,10,10,10,10,10,10,10,10,10,10,10,10,10,40,10,10,10,20,10,10,10,10,10,40,10,10,10,40,10,10,10,10,10,10,10,10,10,10,20,10,60,10,10,10,10,20,10,20,10,10,10,10,10,10,10,10,10,20,10,10,10,10,10,10,10,10,10,10,10,10,10,10,10,10,10,10,10,40,10,10,10,10,10,10,10,10,10,10,10,10,10,10,40,10,10,10,10,10,10,10,10,10,10,20,30,10,10,10,10,10,10,10,10,10,10,20,10,10,60,10,10,10,20,10,20,10,10,10,20,10,10,10,20,20,10,10,10,10,10,10,10,10,60,10,40,20,10,20,10,10,10,10,10,10,10,10,10,10,10,10,10,10,20,10,10,10,10,10,20,10,20,10,10,10,10,10,10,10,10,10,10,10,10,20,10,10,10,10,10,10,10,10,10,10,40,10,20,10,10,10,10,40,10,10,10,40,10,10,20,10,10,40,10,10,10,10,10,10,10,10,10,10,10,10,10,10,10,10,10,10,20,10,10,10,10,10,10,10,10,40,10,10,10,10,10,20,10,10,20,10,10,20,20,10,20,10,60,10,10,10,10,10,10,20,70,10,10,20,10,40,10,10,10,10,10,10,10,10,10,10,10,90,90,10,40,10,10,10,10,10,10,10,20,10,60,10,10,20,10,10,10,10,10,10,10,10,20,40,10,10,10,120,10,10,10,10,10,10,10,20,10,10,10,10,10,10,10,20,10,10,10,10,40,10,10,10,10,20,10,60,10,10,20,30,10,10,10,10,10,20,10,20,10,10,10,10,10,40,10,10,20,10,10,10,10,10,40,20,10,10,10,10,10,10,10,10,10,10,20,10,10,40,10,10,20,10,20,10,10,10,10,20,20,10,10,40,10,10,10,10,60,10,10,20,10,10,10,60,10,10,10,20,10,40,10,10,10,10,10,10,10,10,10,10,10,10,10,10,10,10,10,10,20,70,20,10,60,20,10,10,30,10,90,20,10,10,10,30,10,10,10,10,20,10,10,10,10,10,10,10,10,10,10,10,10,10,10,10,10,10,10,10,10,10,10,10,10,10,10,10,10,10,10,10,20,30,20,90,10,10,10,10,10,10,10,10,10,10,10,30,10,40,10,60,10,10,10,10,10,10,10,10,20,10,10,10,10,10,10,10,40,10,10,10,10,10,10,10,10,40,10,10,20,10,40,10,10,20,10,10,10,20,10,40,10,10,10,40,10,10,10,10,10,10,10,10,10,10,10,40,10,10,10,10,10,10,10,90,10,10,30,10,10,10,10,10,10,10,10,10,10,40,10,10,10,10,20,10,40,10,10,10,10,10,10,10,10,10,10,10,10,10,10,10,10,10,10,10,20,10,10,40,20,10,40,40,10,10,10,10,20,10,10,10,10,10,10,10,10,10,10,10,10,10,20,10,30,10,10,10,10,10,10,10,10,40,10,10,10,10,20,20,20,10,20,10,10,10,10,10,10,10,10,10,20,10,10,40,10,10,20,20,20,10,10,20,10,10,10,10,10,40,10,10,10,40,10,20,10,10,10,10,10,10,10,20,10,20,20,10,10,10,20,10,40,10,10,10,20,10,10,10,20,10,20,10,10,10,10,10,10,20,10,10,10,10,10,20,10,20,40,10,10,20,10,20,10,10,10,10,10,10,60,10,20,10,10,60,10,10,10,10,10,10,10,10,10,10,10,10,10,10,10,10,20,10,10,10,10,10,10,10,40,10,10,10,10,10,10,10,20,10,10,10,10,60,40,30,10,10,20,40,20,10,10,10,20,10,60,10,10,40,40,10,10,10,20,10,10,10,10,10,120,10,10,40,20,40,10,60,10,10,10,10,10,40,20,10,10,10,10,10,10,10,10,20,20,10,10,10,10,10,10,20,40,10,10,10,10,40,10,10,10,10,10,10,40,10,10,10,10,20,10,10,10,10,10,20,20,10,10,10,10,60,10,10,10,120,10,10,10,10,10,10,20,10,10,10,10,20,10,10,10,10,10,10,40,10,10,10,10,10,10,20,10,40,20,10,10,20,10,10,10,10,20,10,10,40,10,10,10,10,10,10,10,10,20,10,10,40,20,20,10,20,10,10,10,10,10,10,10,10,10,20,10,20,10,10,10,10,10,10,10,40,10,10,10,10,10,10,10,10,10,90,10,10,10,10,10,10,10,10,10,40,10,10,10,10,10,20,10,10,10,10,10,10,40,10,10,10,10,10,10,10,10,10,10,10,10,20,10,10,10,10,10,10,10,10,10,10,10,20,10,20,10,10,10,10,10,20,10,10,10,10,10,10,30,10,10,10,10,10,10,10,30,10,70,10,10,10,10,10,10,10,10,10,10,10,10,10,10,60,10,10,10,10,10,10,10,10,10,10,10,10,10,10,10,20,10,10,40,10,10,60,60,10,10,10,10,10,10,10,10,20,10,20,40,10,10,10,10,10,10,10,10,10,10,10,10,10,10,40,10,10,10,10,10,10,40,10,10,120,10,10,10,10,10,40,30,10,10,10,10,10,10,10,10,10,10,10,10,10,10,10,10,10,10,20,10,10,20,10,40,10,40,10,10,10,10,60,20,10,10,10,20,10,10,10,10,10,10,10,10,10,10,10,10,10,20,10,10,10,10,10,10,10,10,10,10,10,10,10,10,10,100,10,10,10,10,10,10,10,10,10,10,10,40,10,10,10,10,10,20,10,10,10,10,10,10,10,10,10,10,10,10,10,10,10,10,10,10,40,10,10,10,10,10,20,10,10,20,10,10,10,60,40,60,10,10,10,10,10,10,10,10,10,10,10,10,10,10,10,10,10,10,10,10,10,20,30,10,10,10,10,10,10,20,10,10,10,10,10,10,10,10,40,20,10,10,10,10,10,10,10,20,10,10,10,10,40,10,10,10,10,40,40,40,10,10,10,40,10,10,10,10,10,10,10,10,10,10,10,40,10,10,10,10,10,10,20,20,10,10,10,10,10,10,10,10,20,10,10,10,20,10,10,10,10,30,20,10,10,10,20,20,10,40,10,10,10,10,10,10,10,10,20,10,10,10,10,10,90,10,10,10,10,10,10,10,10,10,10,10,10,10,10,10,10,10,10,10,10,10,10,10,10,20,20,40,10,10,10,40,10,40,10,20,20,10,10,20,10,40,10,40,10,20,10,20,40,10,10,10,10,10,40,10,20,10,120,40,40,10,10,90,20,10,10,40,40,10,10,60,20,10,10,40,30,10,40,10,40,10,10,10,10,10,10,10,10,10,10,10,10,40,10,10,10,10,10,10,10,10,10,10,10,10,10,10,30,10,20,10,20,10,10,10,10,10,10,10,20,10,10,10,10,10,10,40,10,10,10,20,10,10,10,10,10,10,10,10,10,10,10,10,10,10,40,30,10,20,20,10,10,10,10,10,10,10,10,100,10,10,10,10,10,10,10,20,10,10,10,30,10,10,10,10,10,10,10,10,10,10,10,10,20,40,10,10,60,10,20,10,10,10,10,10,10,10,10,40,10,10,10,10,20,10,10,10,10,20,10,10,10,10,10,10,10,10,20,10,10,10,10,10,10,10,10,10,10,10,10,10,10,10,20,20,40,20,10,10,10,20,10,10,10,10,10,20,10,10,10,10,10,10,40,10,30,10,10,10,10,10,10,10,10,20,20,20,10,10,10,10,10,10,60,10,10,20,10,10,60,10,10,10,10,10,10,30,10,10,10,20,10,10,10,10,10,10,10,10,10,30,10,10,10,10,40,10,10,10,10,10,20,10,10,20,30,20,20,10,10,20,10,10,10,30,20,30,10,10,10,10,10,20,10,10,10,10,10,10,10,10,20,10,60,10,20,20,20,10,20,10,10,10,10,10,10,10,10,20,10,10,10,10,10,10,10,10,30,40,10,10,10,10,20,10,10,20,20,10,10,10,10,10,10,10,10,10,10,10,10,40,10,10,10,10,20,60,10,10,10,10,10,10,10,10,10,40,10,10,30,10,10,10,10,10,10,10,10,10,10,10,10,10,10,10,10,10,10,10,10,70,10,10,20,10,10,10,10,10,10,10,10,10,20,10,10,10,10,10,10,20,10,10,10,10,10,10,10,10,20,10,10,10,10,10,10,10,10,10,10,10,10,10,10,10,10,10,10,20,20,40,10,10,10,40,10,10,10,10,10,20,10,10,10,10,10,10,60,10,10,10,20,10,20,10,10,10,10,10,10,10,10,10,10,10,10,10,10,20,10,10,10,10,10,10,10,10,10,10,10,10,10,10,10,20,20,20,10,10,60,90,10,10,10,10,10,10,10,10,10,10,30,10,10,10,10,10,40,10,10,10,10,10,10,10,10,10,10,10,10,20,10,10,20,10,10,10,10,10,30,10,20,10,10,10,10,10,10,20,10,10,10,60,10,10,10,40,10,30,10,10,10,10,10,10,10,10,10,30,10,10,10,10,10,10,10,10,10,10,10,20,10,10,10,10,10,20,10,10,10,10,40,10,10,40,10,10,10,10,10,10,10,10,10,40,20,10,10,10,10,10,10,10,10,10,10,60,10,10,20,10,10,20,20,10,20,20,10,10,10,10,10,10,10,10,10,10,10,10,10,10,10,10,20,10,10,10,10,40,10,40,10,20,10,10,10,10,10,20,40,10,10,10,40,10,10,10,10,10,20,30,10,10,10,10,10,10,10,10,20,10,10,10,60,40,10,60,10,10,10,10,10,10,40,10,10,10,10,10,10,10,10,10,10,10,20,10,40,10,30,10,10,10,10,20,10,10,10,10,10,10,10,10,10,10,10,10,10,10,20,10,10,10,10,40,10,10,120,10,10,10,10,10,10,10,10,40,10,20,10,10,10,30,10,10,10,10,10,10,10,10,20,20,10,10,10,10,10,10,10,10,10,10,70,10,10,40,10,80,10,10,10,10,20,10,10,10,10,10,10,10,20,30,10,10,10,10,10,10,10,10,10,10,10,10,10,10,10,10,20,10,10,10,10,10,10,10,10,10,10,10,10,10,10,10,20,10,10,30,20,10,10,10,10,20,10,10,20,10,10,10,10,20,10,10,10,10,10,40,10,10,10,10,10,10,10,20,10,70,10,10,10,10,20,10,10,10,10,10,10,10,10,10,10,20,10,20,10,10,10,10,10,10,10,10,10,20,10,10,10,10,10,10,10,10,10,10,10,40,10,40,10,10,10,10,10,10,10,10,20,10,40,10,10,30,10,10,10,10,20,10,40,10,10,10,10,10,10,10,10,10,10,10,10,10,10,10,10,10,10,10,10,90,10,20,10,10,10,10,10,60,10,20,10,10,10,10,10,10,10,10,20,10,10,10,10,10,10,10,10,20,10,10,10,10,20,10,10,10,10,10,10,10,10,10,10,10,10,10,10,10,10,10,40,10,10,10,10,10,10,10,10,10,10,10,20,100,10,10,10,10,10,10,10,10,10,10,10,10,10,40,10,10,10,10,10,10,10,10,10,10,10,10,10,10,10,10,10,10,10,10,10,10,10,10,10,10,20,10,10,10,10,40,10,10,10,10,10,10,20,10,10,10,20,10,10,100,10,10,10,10,10,10,10,10,10,10,10,10,10,10,20,20,10,10,10,10,10,10,20,40,10,10,10,20,40,10,10,10,10,10,10,10,40,10,10,10,10,10,10,10,10,40,10,10,10,10,20,100,10,10,10,10,10,60,40,10,10,10,10,10,10,10,10,20,10,10,10,10,10,10,10,10,10,10,10,20,10,20,10,10,10,10,10,10,90,20,10,30,10,10,10,10,10,40,10,10,10,10,10,20,120,20,10,10,10,10,10,10,10,10,10,10,10,40,10,40,10,10,10,10,10,10,10,10,20,10,10,10,10,10,10,10,10,10,10,10,10,10,10,10,20,10,10,10,40,10,10,10,20,20,10,10,10,10,10,10,10,20,10,10,10,10,10,10,90,60,20,10,10,10,10,10,10,10,10,10,10,20,10,10,10,20,20,10,30,10,90,10,10,10,10,20,10,10,10,10,40,40,10,10,10,40,10,10,10,10,10,10,10],\"sizemode\":\"area\"},\"mode\":\"markers\",\"text\":[\"Status do Pedido:delivered\\u003cbr\\u003eClasse: satisfeito_com_pedido\",\"Status do Pedido:delivered\\u003cbr\\u003eClasse: satisfeito_com_pedido\",\"Status do Pedido:delivered\\u003cbr\\u003eClasse: problemas_de_entrega\",\"Status do Pedido:delivered\\u003cbr\\u003eClasse: problemas_de_entrega\",\"Status do Pedido:delivered\\u003cbr\\u003eClasse: problemas_de_entrega\",null,\"Status do Pedido:delivered\\u003cbr\\u003eClasse: problemas_de_entrega\",\"Status do Pedido:delivered\\u003cbr\\u003eClasse: satisfeito_com_pedido\",\"Status do Pedido:delivered\\u003cbr\\u003eClasse: satisfeito_com_pedido\",\"Status do Pedido:delivered\\u003cbr\\u003eClasse: satisfeito_com_pedido\",\"Status do Pedido:delivered\\u003cbr\\u003eClasse: problemas_de_qualidade\",\"Status do Pedido:delivered\\u003cbr\\u003eClasse: satisfeito_com_pedido\",\"Status do Pedido:delivered\\u003cbr\\u003eClasse: problemas_de_entrega\",\"Status do Pedido:shipped\\u003cbr\\u003eClasse: problemas_de_entrega\",\"Status do Pedido:delivered\\u003cbr\\u003eClasse: problemas_de_entrega\",\"Status do Pedido:delivered\\u003cbr\\u003eClasse: satisfeito_com_pedido\",\"Status do Pedido:delivered\\u003cbr\\u003eClasse: satisfeito_com_pedido\",\"Status do Pedido:delivered\\u003cbr\\u003eClasse: satisfeito_com_pedido\",\"Status do Pedido:delivered\\u003cbr\\u003eClasse: satisfeito_com_pedido\",\"Status do Pedido:delivered\\u003cbr\\u003eClasse: problemas_de_entrega\",\"Status do Pedido:delivered\\u003cbr\\u003eClasse: problemas_de_entrega\",\"Status do Pedido:delivered\\u003cbr\\u003eClasse: satisfeito_com_pedido\",\"Status do Pedido:delivered\\u003cbr\\u003eClasse: satisfeito_com_pedido\",\"Status do Pedido:delivered\\u003cbr\\u003eClasse: problemas_de_entrega\",\"Status do Pedido:delivered\\u003cbr\\u003eClasse: satisfeito_com_pedido\",\"Status do Pedido:delivered\\u003cbr\\u003eClasse: problemas_de_entrega\",\"Status do Pedido:delivered\\u003cbr\\u003eClasse: satisfeito_com_pedido\",\"Status do Pedido:delivered\\u003cbr\\u003eClasse: satisfeito_com_pedido\",\"Status do Pedido:delivered\\u003cbr\\u003eClasse: satisfeito_com_pedido\",\"Status do Pedido:delivered\\u003cbr\\u003eClasse: satisfeito_com_pedido\",null,\"Status do Pedido:delivered\\u003cbr\\u003eClasse: problemas_de_entrega\",null,\"Status do Pedido:delivered\\u003cbr\\u003eClasse: satisfeito_com_pedido\",\"Status do Pedido:delivered\\u003cbr\\u003eClasse: satisfeito_com_pedido\",\"Status do Pedido:delivered\\u003cbr\\u003eClasse: satisfeito_com_pedido\",\"Status do Pedido:delivered\\u003cbr\\u003eClasse: problemas_de_qualidade\",\"Status do Pedido:delivered\\u003cbr\\u003eClasse: satisfeito_com_pedido\",\"Status do Pedido:delivered\\u003cbr\\u003eClasse: satisfeito_com_pedido\",null,\"Status do Pedido:delivered\\u003cbr\\u003eClasse: problemas_de_entrega\",\"Status do Pedido:delivered\\u003cbr\\u003eClasse: satisfeito_com_pedido\",\"Status do Pedido:delivered\\u003cbr\\u003eClasse: problemas_de_entrega\",\"Status do Pedido:delivered\\u003cbr\\u003eClasse: satisfeito_com_pedido\",\"Status do Pedido:delivered\\u003cbr\\u003eClasse: satisfeito_com_pedido\",\"Status do Pedido:delivered\\u003cbr\\u003eClasse: satisfeito_com_pedido\",\"Status do Pedido:delivered\\u003cbr\\u003eClasse: problemas_de_qualidade\",\"Status do Pedido:delivered\\u003cbr\\u003eClasse: satisfeito_com_pedido\",null,null,\"Status do Pedido:delivered\\u003cbr\\u003eClasse: satisfeito_com_pedido\",\"Status do Pedido:delivered\\u003cbr\\u003eClasse: satisfeito_com_pedido\",\"Status do Pedido:delivered\\u003cbr\\u003eClasse: satisfeito_com_pedido\",\"Status do Pedido:delivered\\u003cbr\\u003eClasse: satisfeito_com_pedido\",\"Status do Pedido:delivered\\u003cbr\\u003eClasse: problemas_de_qualidade\",\"Status do Pedido:delivered\\u003cbr\\u003eClasse: satisfeito_com_pedido\",null,null,\"Status do Pedido:delivered\\u003cbr\\u003eClasse: satisfeito_com_pedido\",\"Status do Pedido:shipped\\u003cbr\\u003eClasse: problemas_de_entrega\",\"Status do Pedido:delivered\\u003cbr\\u003eClasse: problemas_de_entrega\",\"Status do Pedido:delivered\\u003cbr\\u003eClasse: problemas_de_qualidade\",\"Status do Pedido:delivered\\u003cbr\\u003eClasse: satisfeito_com_pedido\",\"Status do Pedido:delivered\\u003cbr\\u003eClasse: satisfeito_com_pedido\",\"Status do Pedido:delivered\\u003cbr\\u003eClasse: problemas_de_entrega\",\"Status do Pedido:delivered\\u003cbr\\u003eClasse: satisfeito_com_pedido\",\"Status do Pedido:delivered\\u003cbr\\u003eClasse: problemas_de_entrega\",\"Status do Pedido:delivered\\u003cbr\\u003eClasse: satisfeito_com_pedido\",\"Status do Pedido:delivered\\u003cbr\\u003eClasse: satisfeito_com_pedido\",\"Status do Pedido:delivered\\u003cbr\\u003eClasse: satisfeito_com_pedido\",\"Status do Pedido:delivered\\u003cbr\\u003eClasse: problemas_de_entrega\",\"Status do Pedido:delivered\\u003cbr\\u003eClasse: satisfeito_com_pedido\",\"Status do Pedido:delivered\\u003cbr\\u003eClasse: problemas_de_entrega\",\"Status do Pedido:delivered\\u003cbr\\u003eClasse: problemas_de_entrega\",\"Status do Pedido:delivered\\u003cbr\\u003eClasse: satisfeito_com_pedido\",\"Status do Pedido:delivered\\u003cbr\\u003eClasse: satisfeito_com_pedido\",\"Status do Pedido:delivered\\u003cbr\\u003eClasse: satisfeito_com_pedido\",\"Status do Pedido:delivered\\u003cbr\\u003eClasse: satisfeito_com_pedido\",\"Status do Pedido:delivered\\u003cbr\\u003eClasse: satisfeito_com_pedido\",\"Status do Pedido:delivered\\u003cbr\\u003eClasse: satisfeito_com_pedido\",\"Status do Pedido:delivered\\u003cbr\\u003eClasse: satisfeito_com_pedido\",\"Status do Pedido:delivered\\u003cbr\\u003eClasse: satisfeito_com_pedido\",\"Status do Pedido:delivered\\u003cbr\\u003eClasse: problemas_de_entrega\",\"Status do Pedido:delivered\\u003cbr\\u003eClasse: satisfeito_com_pedido\",\"Status do Pedido:delivered\\u003cbr\\u003eClasse: satisfeito_com_pedido\",\"Status do Pedido:delivered\\u003cbr\\u003eClasse: satisfeito_com_pedido\",\"Status do Pedido:delivered\\u003cbr\\u003eClasse: satisfeito_com_pedido\",\"Status do Pedido:delivered\\u003cbr\\u003eClasse: satisfeito_com_pedido\",\"Status do Pedido:delivered\\u003cbr\\u003eClasse: problemas_de_entrega\",\"Status do Pedido:delivered\\u003cbr\\u003eClasse: satisfeito_com_pedido\",\"Status do Pedido:delivered\\u003cbr\\u003eClasse: problemas_de_entrega\",\"Status do Pedido:delivered\\u003cbr\\u003eClasse: problemas_de_qualidade\",\"Status do Pedido:delivered\\u003cbr\\u003eClasse: problemas_de_entrega\",\"Status do Pedido:shipped\\u003cbr\\u003eClasse: problemas_de_entrega\",\"Status do Pedido:delivered\\u003cbr\\u003eClasse: satisfeito_com_pedido\",\"Status do Pedido:delivered\\u003cbr\\u003eClasse: satisfeito_com_pedido\",\"Status do Pedido:delivered\\u003cbr\\u003eClasse: problemas_de_entrega\",\"Status do Pedido:delivered\\u003cbr\\u003eClasse: satisfeito_com_pedido\",\"Status do Pedido:delivered\\u003cbr\\u003eClasse: satisfeito_com_pedido\",\"Status do Pedido:delivered\\u003cbr\\u003eClasse: problemas_de_entrega\",\"Status do Pedido:delivered\\u003cbr\\u003eClasse: satisfeito_com_pedido\",\"Status do Pedido:delivered\\u003cbr\\u003eClasse: problemas_de_qualidade\",\"Status do Pedido:delivered\\u003cbr\\u003eClasse: problemas_de_qualidade\",\"Status do Pedido:delivered\\u003cbr\\u003eClasse: satisfeito_com_pedido\",\"Status do Pedido:delivered\\u003cbr\\u003eClasse: satisfeito_com_pedido\",\"Status do Pedido:delivered\\u003cbr\\u003eClasse: satisfeito_com_pedido\",\"Status do Pedido:delivered\\u003cbr\\u003eClasse: satisfeito_com_pedido\",\"Status do Pedido:delivered\\u003cbr\\u003eClasse: satisfeito_com_pedido\",\"Status do Pedido:delivered\\u003cbr\\u003eClasse: problemas_de_entrega\",null,\"Status do Pedido:delivered\\u003cbr\\u003eClasse: problemas_de_entrega\",\"Status do Pedido:delivered\\u003cbr\\u003eClasse: satisfeito_com_pedido\",\"Status do Pedido:delivered\\u003cbr\\u003eClasse: problemas_de_entrega\",\"Status do Pedido:delivered\\u003cbr\\u003eClasse: problemas_de_entrega\",\"Status do Pedido:delivered\\u003cbr\\u003eClasse: satisfeito_com_pedido\",\"Status do Pedido:delivered\\u003cbr\\u003eClasse: satisfeito_com_pedido\",\"Status do Pedido:delivered\\u003cbr\\u003eClasse: problemas_de_entrega\",\"Status do Pedido:delivered\\u003cbr\\u003eClasse: problemas_de_entrega\",\"Status do Pedido:delivered\\u003cbr\\u003eClasse: satisfeito_com_pedido\",\"Status do Pedido:delivered\\u003cbr\\u003eClasse: satisfeito_com_pedido\",\"Status do Pedido:delivered\\u003cbr\\u003eClasse: problemas_de_qualidade\",\"Status do Pedido:delivered\\u003cbr\\u003eClasse: problemas_de_entrega\",\"Status do Pedido:delivered\\u003cbr\\u003eClasse: problemas_de_entrega\",\"Status do Pedido:delivered\\u003cbr\\u003eClasse: problemas_de_qualidade\",\"Status do Pedido:delivered\\u003cbr\\u003eClasse: satisfeito_com_pedido\",\"Status do Pedido:delivered\\u003cbr\\u003eClasse: satisfeito_com_pedido\",\"Status do Pedido:delivered\\u003cbr\\u003eClasse: problemas_de_entrega\",\"Status do Pedido:delivered\\u003cbr\\u003eClasse: satisfeito_com_pedido\",\"Status do Pedido:delivered\\u003cbr\\u003eClasse: satisfeito_com_pedido\",\"Status do Pedido:delivered\\u003cbr\\u003eClasse: satisfeito_com_pedido\",\"Status do Pedido:delivered\\u003cbr\\u003eClasse: problemas_de_entrega\",\"Status do Pedido:delivered\\u003cbr\\u003eClasse: satisfeito_com_pedido\",\"Status do Pedido:delivered\\u003cbr\\u003eClasse: problemas_de_entrega\",\"Status do Pedido:delivered\\u003cbr\\u003eClasse: satisfeito_com_pedido\",\"Status do Pedido:delivered\\u003cbr\\u003eClasse: problemas_de_entrega\",\"Status do Pedido:delivered\\u003cbr\\u003eClasse: problemas_de_entrega\",\"Status do Pedido:delivered\\u003cbr\\u003eClasse: problemas_de_entrega\",\"Status do Pedido:delivered\\u003cbr\\u003eClasse: satisfeito_com_pedido\",\"Status do Pedido:shipped\\u003cbr\\u003eClasse: problemas_de_entrega\",\"Status do Pedido:delivered\\u003cbr\\u003eClasse: problemas_de_entrega\",\"Status do Pedido:delivered\\u003cbr\\u003eClasse: problemas_de_entrega\",\"Status do Pedido:delivered\\u003cbr\\u003eClasse: satisfeito_com_pedido\",\"Status do Pedido:delivered\\u003cbr\\u003eClasse: satisfeito_com_pedido\",\"Status do Pedido:delivered\\u003cbr\\u003eClasse: problemas_de_entrega\",\"Status do Pedido:delivered\\u003cbr\\u003eClasse: satisfeito_com_pedido\",\"Status do Pedido:delivered\\u003cbr\\u003eClasse: satisfeito_com_pedido\",\"Status do Pedido:delivered\\u003cbr\\u003eClasse: problemas_de_entrega\",\"Status do Pedido:delivered\\u003cbr\\u003eClasse: satisfeito_com_pedido\",\"Status do Pedido:delivered\\u003cbr\\u003eClasse: satisfeito_com_pedido\",\"Status do Pedido:shipped\\u003cbr\\u003eClasse: problemas_de_entrega\",\"Status do Pedido:delivered\\u003cbr\\u003eClasse: satisfeito_com_pedido\",\"Status do Pedido:delivered\\u003cbr\\u003eClasse: satisfeito_com_pedido\",\"Status do Pedido:delivered\\u003cbr\\u003eClasse: satisfeito_com_pedido\",\"Status do Pedido:delivered\\u003cbr\\u003eClasse: satisfeito_com_pedido\",\"Status do Pedido:delivered\\u003cbr\\u003eClasse: satisfeito_com_pedido\",null,\"Status do Pedido:delivered\\u003cbr\\u003eClasse: problemas_de_qualidade\",\"Status do Pedido:delivered\\u003cbr\\u003eClasse: satisfeito_com_pedido\",\"Status do Pedido:delivered\\u003cbr\\u003eClasse: satisfeito_com_pedido\",\"Status do Pedido:delivered\\u003cbr\\u003eClasse: problemas_de_qualidade\",\"Status do Pedido:delivered\\u003cbr\\u003eClasse: problemas_de_qualidade\",\"Status do Pedido:delivered\\u003cbr\\u003eClasse: problemas_de_entrega\",\"Status do Pedido:delivered\\u003cbr\\u003eClasse: satisfeito_com_pedido\",\"Status do Pedido:delivered\\u003cbr\\u003eClasse: satisfeito_com_pedido\",\"Status do Pedido:delivered\\u003cbr\\u003eClasse: problemas_de_qualidade\",\"Status do Pedido:delivered\\u003cbr\\u003eClasse: problemas_de_entrega\",\"Status do Pedido:delivered\\u003cbr\\u003eClasse: satisfeito_com_pedido\",\"Status do Pedido:delivered\\u003cbr\\u003eClasse: problemas_de_entrega\",\"Status do Pedido:delivered\\u003cbr\\u003eClasse: satisfeito_com_pedido\",\"Status do Pedido:delivered\\u003cbr\\u003eClasse: problemas_de_qualidade\",\"Status do Pedido:delivered\\u003cbr\\u003eClasse: problemas_de_entrega\",\"Status do Pedido:delivered\\u003cbr\\u003eClasse: satisfeito_com_pedido\",\"Status do Pedido:delivered\\u003cbr\\u003eClasse: problemas_de_qualidade\",\"Status do Pedido:delivered\\u003cbr\\u003eClasse: satisfeito_com_pedido\",\"Status do Pedido:delivered\\u003cbr\\u003eClasse: satisfeito_com_pedido\",\"Status do Pedido:delivered\\u003cbr\\u003eClasse: satisfeito_com_pedido\",\"Status do Pedido:delivered\\u003cbr\\u003eClasse: problemas_de_entrega\",\"Status do Pedido:delivered\\u003cbr\\u003eClasse: satisfeito_com_pedido\",\"Status do Pedido:delivered\\u003cbr\\u003eClasse: problemas_de_qualidade\",\"Status do Pedido:delivered\\u003cbr\\u003eClasse: satisfeito_com_pedido\",null,\"Status do Pedido:delivered\\u003cbr\\u003eClasse: satisfeito_com_pedido\",\"Status do Pedido:delivered\\u003cbr\\u003eClasse: satisfeito_com_pedido\",\"Status do Pedido:delivered\\u003cbr\\u003eClasse: satisfeito_com_pedido\",null,\"Status do Pedido:delivered\\u003cbr\\u003eClasse: problemas_de_entrega\",\"Status do Pedido:delivered\\u003cbr\\u003eClasse: satisfeito_com_pedido\",\"Status do Pedido:delivered\\u003cbr\\u003eClasse: problemas_de_entrega\",\"Status do Pedido:delivered\\u003cbr\\u003eClasse: satisfeito_com_pedido\",\"Status do Pedido:delivered\\u003cbr\\u003eClasse: satisfeito_com_pedido\",\"Status do Pedido:delivered\\u003cbr\\u003eClasse: satisfeito_com_pedido\",\"Status do Pedido:delivered\\u003cbr\\u003eClasse: satisfeito_com_pedido\",\"Status do Pedido:delivered\\u003cbr\\u003eClasse: satisfeito_com_pedido\",\"Status do Pedido:delivered\\u003cbr\\u003eClasse: satisfeito_com_pedido\",\"Status do Pedido:delivered\\u003cbr\\u003eClasse: satisfeito_com_pedido\",\"Status do Pedido:delivered\\u003cbr\\u003eClasse: problemas_de_entrega\",\"Status do Pedido:processing\\u003cbr\\u003eClasse: problemas_de_entrega\",\"Status do Pedido:delivered\\u003cbr\\u003eClasse: problemas_de_entrega\",\"Status do Pedido:delivered\\u003cbr\\u003eClasse: satisfeito_com_pedido\",\"Status do Pedido:delivered\\u003cbr\\u003eClasse: satisfeito_com_pedido\",\"Status do Pedido:delivered\\u003cbr\\u003eClasse: satisfeito_com_pedido\",\"Status do Pedido:delivered\\u003cbr\\u003eClasse: satisfeito_com_pedido\",null,\"Status do Pedido:delivered\\u003cbr\\u003eClasse: satisfeito_com_pedido\",\"Status do Pedido:delivered\\u003cbr\\u003eClasse: problemas_de_entrega\",\"Status do Pedido:processing\\u003cbr\\u003eClasse: problemas_de_entrega\",\"Status do Pedido:delivered\\u003cbr\\u003eClasse: satisfeito_com_pedido\",\"Status do Pedido:delivered\\u003cbr\\u003eClasse: satisfeito_com_pedido\",\"Status do Pedido:delivered\\u003cbr\\u003eClasse: satisfeito_com_pedido\",\"Status do Pedido:delivered\\u003cbr\\u003eClasse: satisfeito_com_pedido\",\"Status do Pedido:delivered\\u003cbr\\u003eClasse: satisfeito_com_pedido\",\"Status do Pedido:delivered\\u003cbr\\u003eClasse: satisfeito_com_pedido\",\"Status do Pedido:delivered\\u003cbr\\u003eClasse: satisfeito_com_pedido\",\"Status do Pedido:delivered\\u003cbr\\u003eClasse: problemas_de_entrega\",\"Status do Pedido:delivered\\u003cbr\\u003eClasse: satisfeito_com_pedido\",\"Status do Pedido:delivered\\u003cbr\\u003eClasse: problemas_de_qualidade\",\"Status do Pedido:delivered\\u003cbr\\u003eClasse: satisfeito_com_pedido\",\"Status do Pedido:delivered\\u003cbr\\u003eClasse: problemas_de_entrega\",\"Status do Pedido:delivered\\u003cbr\\u003eClasse: satisfeito_com_pedido\",\"Status do Pedido:delivered\\u003cbr\\u003eClasse: satisfeito_com_pedido\",\"Status do Pedido:delivered\\u003cbr\\u003eClasse: satisfeito_com_pedido\",null,\"Status do Pedido:delivered\\u003cbr\\u003eClasse: satisfeito_com_pedido\",\"Status do Pedido:delivered\\u003cbr\\u003eClasse: satisfeito_com_pedido\",\"Status do Pedido:delivered\\u003cbr\\u003eClasse: satisfeito_com_pedido\",\"Status do Pedido:delivered\\u003cbr\\u003eClasse: problemas_de_entrega\",\"Status do Pedido:delivered\\u003cbr\\u003eClasse: satisfeito_com_pedido\",\"Status do Pedido:delivered\\u003cbr\\u003eClasse: satisfeito_com_pedido\",\"Status do Pedido:delivered\\u003cbr\\u003eClasse: satisfeito_com_pedido\",\"Status do Pedido:delivered\\u003cbr\\u003eClasse: satisfeito_com_pedido\",\"Status do Pedido:delivered\\u003cbr\\u003eClasse: satisfeito_com_pedido\",\"Status do Pedido:delivered\\u003cbr\\u003eClasse: problemas_de_qualidade\",\"Status do Pedido:delivered\\u003cbr\\u003eClasse: satisfeito_com_pedido\",\"Status do Pedido:delivered\\u003cbr\\u003eClasse: satisfeito_com_pedido\",\"Status do Pedido:delivered\\u003cbr\\u003eClasse: problemas_de_qualidade\",\"Status do Pedido:delivered\\u003cbr\\u003eClasse: satisfeito_com_pedido\",null,\"Status do Pedido:delivered\\u003cbr\\u003eClasse: problemas_de_entrega\",\"Status do Pedido:delivered\\u003cbr\\u003eClasse: problemas_de_entrega\",\"Status do Pedido:delivered\\u003cbr\\u003eClasse: satisfeito_com_pedido\",\"Status do Pedido:delivered\\u003cbr\\u003eClasse: problemas_de_entrega\",\"Status do Pedido:delivered\\u003cbr\\u003eClasse: satisfeito_com_pedido\",\"Status do Pedido:delivered\\u003cbr\\u003eClasse: problemas_de_entrega\",\"Status do Pedido:delivered\\u003cbr\\u003eClasse: problemas_de_qualidade\",\"Status do Pedido:delivered\\u003cbr\\u003eClasse: satisfeito_com_pedido\",\"Status do Pedido:delivered\\u003cbr\\u003eClasse: satisfeito_com_pedido\",\"Status do Pedido:delivered\\u003cbr\\u003eClasse: problemas_de_entrega\",\"Status do Pedido:delivered\\u003cbr\\u003eClasse: problemas_de_qualidade\",\"Status do Pedido:delivered\\u003cbr\\u003eClasse: satisfeito_com_pedido\",\"Status do Pedido:delivered\\u003cbr\\u003eClasse: problemas_de_entrega\",\"Status do Pedido:delivered\\u003cbr\\u003eClasse: problemas_de_qualidade\",\"Status do Pedido:delivered\\u003cbr\\u003eClasse: satisfeito_com_pedido\",\"Status do Pedido:delivered\\u003cbr\\u003eClasse: satisfeito_com_pedido\",\"Status do Pedido:delivered\\u003cbr\\u003eClasse: problemas_de_entrega\",null,\"Status do Pedido:delivered\\u003cbr\\u003eClasse: problemas_de_entrega\",\"Status do Pedido:delivered\\u003cbr\\u003eClasse: satisfeito_com_pedido\",\"Status do Pedido:delivered\\u003cbr\\u003eClasse: problemas_de_entrega\",\"Status do Pedido:delivered\\u003cbr\\u003eClasse: satisfeito_com_pedido\",null,\"Status do Pedido:delivered\\u003cbr\\u003eClasse: problemas_de_entrega\",\"Status do Pedido:delivered\\u003cbr\\u003eClasse: problemas_de_entrega\",\"Status do Pedido:delivered\\u003cbr\\u003eClasse: problemas_de_qualidade\",\"Status do Pedido:delivered\\u003cbr\\u003eClasse: satisfeito_com_pedido\",\"Status do Pedido:delivered\\u003cbr\\u003eClasse: satisfeito_com_pedido\",\"Status do Pedido:delivered\\u003cbr\\u003eClasse: problemas_de_qualidade\",null,\"Status do Pedido:delivered\\u003cbr\\u003eClasse: problemas_de_entrega\",\"Status do Pedido:delivered\\u003cbr\\u003eClasse: satisfeito_com_pedido\",\"Status do Pedido:delivered\\u003cbr\\u003eClasse: problemas_de_entrega\",\"Status do Pedido:delivered\\u003cbr\\u003eClasse: problemas_de_qualidade\",\"Status do Pedido:delivered\\u003cbr\\u003eClasse: satisfeito_com_pedido\",\"Status do Pedido:delivered\\u003cbr\\u003eClasse: satisfeito_com_pedido\",\"Status do Pedido:delivered\\u003cbr\\u003eClasse: satisfeito_com_pedido\",\"Status do Pedido:delivered\\u003cbr\\u003eClasse: satisfeito_com_pedido\",\"Status do Pedido:delivered\\u003cbr\\u003eClasse: satisfeito_com_pedido\",\"Status do Pedido:delivered\\u003cbr\\u003eClasse: satisfeito_com_pedido\",\"Status do Pedido:delivered\\u003cbr\\u003eClasse: satisfeito_com_pedido\",\"Status do Pedido:delivered\\u003cbr\\u003eClasse: problemas_de_entrega\",\"Status do Pedido:delivered\\u003cbr\\u003eClasse: problemas_de_entrega\",\"Status do Pedido:delivered\\u003cbr\\u003eClasse: satisfeito_com_pedido\",\"Status do Pedido:delivered\\u003cbr\\u003eClasse: satisfeito_com_pedido\",\"Status do Pedido:delivered\\u003cbr\\u003eClasse: satisfeito_com_pedido\",\"Status do Pedido:delivered\\u003cbr\\u003eClasse: satisfeito_com_pedido\",\"Status do Pedido:delivered\\u003cbr\\u003eClasse: satisfeito_com_pedido\",\"Status do Pedido:delivered\\u003cbr\\u003eClasse: satisfeito_com_pedido\",\"Status do Pedido:delivered\\u003cbr\\u003eClasse: satisfeito_com_pedido\",\"Status do Pedido:delivered\\u003cbr\\u003eClasse: satisfeito_com_pedido\",\"Status do Pedido:delivered\\u003cbr\\u003eClasse: satisfeito_com_pedido\",\"Status do Pedido:delivered\\u003cbr\\u003eClasse: satisfeito_com_pedido\",\"Status do Pedido:delivered\\u003cbr\\u003eClasse: problemas_de_qualidade\",\"Status do Pedido:delivered\\u003cbr\\u003eClasse: satisfeito_com_pedido\",\"Status do Pedido:shipped\\u003cbr\\u003eClasse: problemas_de_entrega\",\"Status do Pedido:delivered\\u003cbr\\u003eClasse: satisfeito_com_pedido\",\"Status do Pedido:delivered\\u003cbr\\u003eClasse: problemas_de_entrega\",\"Status do Pedido:delivered\\u003cbr\\u003eClasse: satisfeito_com_pedido\",\"Status do Pedido:delivered\\u003cbr\\u003eClasse: satisfeito_com_pedido\",\"Status do Pedido:delivered\\u003cbr\\u003eClasse: satisfeito_com_pedido\",\"Status do Pedido:delivered\\u003cbr\\u003eClasse: satisfeito_com_pedido\",\"Status do Pedido:delivered\\u003cbr\\u003eClasse: satisfeito_com_pedido\",\"Status do Pedido:delivered\\u003cbr\\u003eClasse: satisfeito_com_pedido\",null,null,\"Status do Pedido:delivered\\u003cbr\\u003eClasse: satisfeito_com_pedido\",\"Status do Pedido:delivered\\u003cbr\\u003eClasse: satisfeito_com_pedido\",\"Status do Pedido:delivered\\u003cbr\\u003eClasse: satisfeito_com_pedido\",\"Status do Pedido:delivered\\u003cbr\\u003eClasse: satisfeito_com_pedido\",\"Status do Pedido:delivered\\u003cbr\\u003eClasse: problemas_de_entrega\",\"Status do Pedido:delivered\\u003cbr\\u003eClasse: satisfeito_com_pedido\",\"Status do Pedido:delivered\\u003cbr\\u003eClasse: satisfeito_com_pedido\",\"Status do Pedido:delivered\\u003cbr\\u003eClasse: satisfeito_com_pedido\",\"Status do Pedido:delivered\\u003cbr\\u003eClasse: satisfeito_com_pedido\",\"Status do Pedido:delivered\\u003cbr\\u003eClasse: satisfeito_com_pedido\",\"Status do Pedido:delivered\\u003cbr\\u003eClasse: satisfeito_com_pedido\",\"Status do Pedido:delivered\\u003cbr\\u003eClasse: satisfeito_com_pedido\",\"Status do Pedido:delivered\\u003cbr\\u003eClasse: satisfeito_com_pedido\",\"Status do Pedido:delivered\\u003cbr\\u003eClasse: problemas_de_entrega\",\"Status do Pedido:delivered\\u003cbr\\u003eClasse: problemas_de_entrega\",\"Status do Pedido:delivered\\u003cbr\\u003eClasse: problemas_de_qualidade\",\"Status do Pedido:delivered\\u003cbr\\u003eClasse: satisfeito_com_pedido\",\"Status do Pedido:delivered\\u003cbr\\u003eClasse: problemas_de_qualidade\",\"Status do Pedido:processing\\u003cbr\\u003eClasse: problemas_de_entrega\",\"Status do Pedido:delivered\\u003cbr\\u003eClasse: problemas_de_qualidade\",null,\"Status do Pedido:delivered\\u003cbr\\u003eClasse: problemas_de_entrega\",\"Status do Pedido:delivered\\u003cbr\\u003eClasse: problemas_de_qualidade\",\"Status do Pedido:delivered\\u003cbr\\u003eClasse: satisfeito_com_pedido\",\"Status do Pedido:delivered\\u003cbr\\u003eClasse: satisfeito_com_pedido\",\"Status do Pedido:delivered\\u003cbr\\u003eClasse: satisfeito_com_pedido\",\"Status do Pedido:delivered\\u003cbr\\u003eClasse: satisfeito_com_pedido\",\"Status do Pedido:delivered\\u003cbr\\u003eClasse: satisfeito_com_pedido\",\"Status do Pedido:delivered\\u003cbr\\u003eClasse: satisfeito_com_pedido\",\"Status do Pedido:delivered\\u003cbr\\u003eClasse: satisfeito_com_pedido\",\"Status do Pedido:delivered\\u003cbr\\u003eClasse: problemas_de_qualidade\",\"Status do Pedido:delivered\\u003cbr\\u003eClasse: satisfeito_com_pedido\",\"Status do Pedido:delivered\\u003cbr\\u003eClasse: satisfeito_com_pedido\",\"Status do Pedido:delivered\\u003cbr\\u003eClasse: satisfeito_com_pedido\",null,\"Status do Pedido:delivered\\u003cbr\\u003eClasse: satisfeito_com_pedido\",\"Status do Pedido:delivered\\u003cbr\\u003eClasse: problemas_de_entrega\",\"Status do Pedido:delivered\\u003cbr\\u003eClasse: satisfeito_com_pedido\",\"Status do Pedido:invoiced\\u003cbr\\u003eClasse: satisfeito_com_pedido\",\"Status do Pedido:delivered\\u003cbr\\u003eClasse: problemas_de_entrega\",\"Status do Pedido:delivered\\u003cbr\\u003eClasse: problemas_de_entrega\",\"Status do Pedido:delivered\\u003cbr\\u003eClasse: satisfeito_com_pedido\",\"Status do Pedido:delivered\\u003cbr\\u003eClasse: problemas_de_entrega\",\"Status do Pedido:delivered\\u003cbr\\u003eClasse: satisfeito_com_pedido\",\"Status do Pedido:delivered\\u003cbr\\u003eClasse: satisfeito_com_pedido\",\"Status do Pedido:delivered\\u003cbr\\u003eClasse: problemas_de_entrega\",\"Status do Pedido:delivered\\u003cbr\\u003eClasse: satisfeito_com_pedido\",null,\"Status do Pedido:delivered\\u003cbr\\u003eClasse: satisfeito_com_pedido\",\"Status do Pedido:delivered\\u003cbr\\u003eClasse: satisfeito_com_pedido\",\"Status do Pedido:delivered\\u003cbr\\u003eClasse: problemas_de_qualidade\",\"Status do Pedido:delivered\\u003cbr\\u003eClasse: satisfeito_com_pedido\",\"Status do Pedido:delivered\\u003cbr\\u003eClasse: satisfeito_com_pedido\",\"Status do Pedido:shipped\\u003cbr\\u003eClasse: problemas_de_entrega\",\"Status do Pedido:delivered\\u003cbr\\u003eClasse: satisfeito_com_pedido\",\"Status do Pedido:delivered\\u003cbr\\u003eClasse: problemas_de_qualidade\",\"Status do Pedido:delivered\\u003cbr\\u003eClasse: problemas_de_entrega\",\"Status do Pedido:delivered\\u003cbr\\u003eClasse: problemas_de_qualidade\",\"Status do Pedido:delivered\\u003cbr\\u003eClasse: problemas_de_qualidade\",\"Status do Pedido:delivered\\u003cbr\\u003eClasse: problemas_de_qualidade\",\"Status do Pedido:shipped\\u003cbr\\u003eClasse: problemas_de_entrega\",\"Status do Pedido:delivered\\u003cbr\\u003eClasse: satisfeito_com_pedido\",\"Status do Pedido:delivered\\u003cbr\\u003eClasse: satisfeito_com_pedido\",\"Status do Pedido:delivered\\u003cbr\\u003eClasse: satisfeito_com_pedido\",\"Status do Pedido:delivered\\u003cbr\\u003eClasse: satisfeito_com_pedido\",\"Status do Pedido:delivered\\u003cbr\\u003eClasse: satisfeito_com_pedido\",\"Status do Pedido:delivered\\u003cbr\\u003eClasse: satisfeito_com_pedido\",\"Status do Pedido:delivered\\u003cbr\\u003eClasse: satisfeito_com_pedido\",\"Status do Pedido:delivered\\u003cbr\\u003eClasse: satisfeito_com_pedido\",null,\"Status do Pedido:delivered\\u003cbr\\u003eClasse: problemas_de_qualidade\",\"Status do Pedido:delivered\\u003cbr\\u003eClasse: problemas_de_entrega\",\"Status do Pedido:delivered\\u003cbr\\u003eClasse: problemas_de_entrega\",\"Status do Pedido:delivered\\u003cbr\\u003eClasse: satisfeito_com_pedido\",\"Status do Pedido:delivered\\u003cbr\\u003eClasse: problemas_de_entrega\",\"Status do Pedido:delivered\\u003cbr\\u003eClasse: problemas_de_qualidade\",\"Status do Pedido:delivered\\u003cbr\\u003eClasse: satisfeito_com_pedido\",\"Status do Pedido:delivered\\u003cbr\\u003eClasse: satisfeito_com_pedido\",\"Status do Pedido:delivered\\u003cbr\\u003eClasse: problemas_de_entrega\",\"Status do Pedido:delivered\\u003cbr\\u003eClasse: problemas_de_qualidade\",\"Status do Pedido:delivered\\u003cbr\\u003eClasse: satisfeito_com_pedido\",\"Status do Pedido:delivered\\u003cbr\\u003eClasse: problemas_de_entrega\",\"Status do Pedido:delivered\\u003cbr\\u003eClasse: problemas_de_entrega\",\"Status do Pedido:delivered\\u003cbr\\u003eClasse: problemas_de_entrega\",\"Status do Pedido:shipped\\u003cbr\\u003eClasse: problemas_de_entrega\",\"Status do Pedido:delivered\\u003cbr\\u003eClasse: problemas_de_entrega\",\"Status do Pedido:delivered\\u003cbr\\u003eClasse: problemas_de_qualidade\",\"Status do Pedido:delivered\\u003cbr\\u003eClasse: satisfeito_com_pedido\",\"Status do Pedido:delivered\\u003cbr\\u003eClasse: problemas_de_entrega\",null,\"Status do Pedido:delivered\\u003cbr\\u003eClasse: problemas_de_entrega\",\"Status do Pedido:delivered\\u003cbr\\u003eClasse: satisfeito_com_pedido\",\"Status do Pedido:delivered\\u003cbr\\u003eClasse: problemas_de_qualidade\",\"Status do Pedido:delivered\\u003cbr\\u003eClasse: satisfeito_com_pedido\",\"Status do Pedido:delivered\\u003cbr\\u003eClasse: satisfeito_com_pedido\",\"Status do Pedido:delivered\\u003cbr\\u003eClasse: satisfeito_com_pedido\",\"Status do Pedido:delivered\\u003cbr\\u003eClasse: problemas_de_qualidade\",\"Status do Pedido:delivered\\u003cbr\\u003eClasse: problemas_de_entrega\",\"Status do Pedido:delivered\\u003cbr\\u003eClasse: satisfeito_com_pedido\",\"Status do Pedido:delivered\\u003cbr\\u003eClasse: satisfeito_com_pedido\",\"Status do Pedido:delivered\\u003cbr\\u003eClasse: satisfeito_com_pedido\",null,\"Status do Pedido:delivered\\u003cbr\\u003eClasse: satisfeito_com_pedido\",null,\"Status do Pedido:delivered\\u003cbr\\u003eClasse: problemas_de_entrega\",\"Status do Pedido:delivered\\u003cbr\\u003eClasse: problemas_de_entrega\",\"Status do Pedido:delivered\\u003cbr\\u003eClasse: satisfeito_com_pedido\",\"Status do Pedido:delivered\\u003cbr\\u003eClasse: problemas_de_entrega\",\"Status do Pedido:delivered\\u003cbr\\u003eClasse: problemas_de_entrega\",\"Status do Pedido:delivered\\u003cbr\\u003eClasse: problemas_de_qualidade\",\"Status do Pedido:delivered\\u003cbr\\u003eClasse: satisfeito_com_pedido\",\"Status do Pedido:delivered\\u003cbr\\u003eClasse: satisfeito_com_pedido\",\"Status do Pedido:delivered\\u003cbr\\u003eClasse: problemas_de_entrega\",\"Status do Pedido:delivered\\u003cbr\\u003eClasse: problemas_de_entrega\",\"Status do Pedido:delivered\\u003cbr\\u003eClasse: satisfeito_com_pedido\",\"Status do Pedido:delivered\\u003cbr\\u003eClasse: problemas_de_qualidade\",\"Status do Pedido:delivered\\u003cbr\\u003eClasse: problemas_de_entrega\",\"Status do Pedido:delivered\\u003cbr\\u003eClasse: satisfeito_com_pedido\",\"Status do Pedido:delivered\\u003cbr\\u003eClasse: satisfeito_com_pedido\",\"Status do Pedido:delivered\\u003cbr\\u003eClasse: satisfeito_com_pedido\",\"Status do Pedido:delivered\\u003cbr\\u003eClasse: problemas_de_entrega\",\"Status do Pedido:delivered\\u003cbr\\u003eClasse: problemas_de_qualidade\",\"Status do Pedido:delivered\\u003cbr\\u003eClasse: problemas_de_qualidade\",\"Status do Pedido:delivered\\u003cbr\\u003eClasse: satisfeito_com_pedido\",\"Status do Pedido:delivered\\u003cbr\\u003eClasse: satisfeito_com_pedido\",\"Status do Pedido:delivered\\u003cbr\\u003eClasse: satisfeito_com_pedido\",\"Status do Pedido:delivered\\u003cbr\\u003eClasse: satisfeito_com_pedido\",\"Status do Pedido:delivered\\u003cbr\\u003eClasse: satisfeito_com_pedido\",\"Status do Pedido:delivered\\u003cbr\\u003eClasse: satisfeito_com_pedido\",\"Status do Pedido:canceled\\u003cbr\\u003eClasse: problemas_de_entrega\",\"Status do Pedido:delivered\\u003cbr\\u003eClasse: problemas_de_entrega\",\"Status do Pedido:delivered\\u003cbr\\u003eClasse: satisfeito_com_pedido\",\"Status do Pedido:delivered\\u003cbr\\u003eClasse: satisfeito_com_pedido\",\"Status do Pedido:delivered\\u003cbr\\u003eClasse: problemas_de_qualidade\",\"Status do Pedido:delivered\\u003cbr\\u003eClasse: problemas_de_entrega\",\"Status do Pedido:delivered\\u003cbr\\u003eClasse: problemas_de_entrega\",\"Status do Pedido:delivered\\u003cbr\\u003eClasse: satisfeito_com_pedido\",null,\"Status do Pedido:delivered\\u003cbr\\u003eClasse: satisfeito_com_pedido\",\"Status do Pedido:delivered\\u003cbr\\u003eClasse: problemas_de_qualidade\",\"Status do Pedido:delivered\\u003cbr\\u003eClasse: satisfeito_com_pedido\",\"Status do Pedido:delivered\\u003cbr\\u003eClasse: satisfeito_com_pedido\",\"Status do Pedido:delivered\\u003cbr\\u003eClasse: satisfeito_com_pedido\",\"Status do Pedido:delivered\\u003cbr\\u003eClasse: satisfeito_com_pedido\",null,\"Status do Pedido:delivered\\u003cbr\\u003eClasse: problemas_de_entrega\",\"Status do Pedido:delivered\\u003cbr\\u003eClasse: problemas_de_entrega\",\"Status do Pedido:delivered\\u003cbr\\u003eClasse: problemas_de_qualidade\",\"Status do Pedido:delivered\\u003cbr\\u003eClasse: satisfeito_com_pedido\",\"Status do Pedido:delivered\\u003cbr\\u003eClasse: satisfeito_com_pedido\",\"Status do Pedido:delivered\\u003cbr\\u003eClasse: problemas_de_entrega\",\"Status do Pedido:delivered\\u003cbr\\u003eClasse: problemas_de_entrega\",\"Status do Pedido:delivered\\u003cbr\\u003eClasse: problemas_de_qualidade\",\"Status do Pedido:delivered\\u003cbr\\u003eClasse: satisfeito_com_pedido\",\"Status do Pedido:delivered\\u003cbr\\u003eClasse: problemas_de_entrega\",\"Status do Pedido:delivered\\u003cbr\\u003eClasse: satisfeito_com_pedido\",\"Status do Pedido:delivered\\u003cbr\\u003eClasse: satisfeito_com_pedido\",\"Status do Pedido:delivered\\u003cbr\\u003eClasse: satisfeito_com_pedido\",\"Status do Pedido:processing\\u003cbr\\u003eClasse: problemas_de_entrega\",\"Status do Pedido:delivered\\u003cbr\\u003eClasse: satisfeito_com_pedido\",\"Status do Pedido:delivered\\u003cbr\\u003eClasse: satisfeito_com_pedido\",\"Status do Pedido:delivered\\u003cbr\\u003eClasse: problemas_de_entrega\",\"Status do Pedido:delivered\\u003cbr\\u003eClasse: satisfeito_com_pedido\",\"Status do Pedido:delivered\\u003cbr\\u003eClasse: satisfeito_com_pedido\",\"Status do Pedido:delivered\\u003cbr\\u003eClasse: problemas_de_entrega\",\"Status do Pedido:delivered\\u003cbr\\u003eClasse: satisfeito_com_pedido\",\"Status do Pedido:delivered\\u003cbr\\u003eClasse: satisfeito_com_pedido\",\"Status do Pedido:delivered\\u003cbr\\u003eClasse: problemas_de_entrega\",\"Status do Pedido:delivered\\u003cbr\\u003eClasse: problemas_de_qualidade\",\"Status do Pedido:delivered\\u003cbr\\u003eClasse: problemas_de_entrega\",\"Status do Pedido:delivered\\u003cbr\\u003eClasse: problemas_de_entrega\",\"Status do Pedido:delivered\\u003cbr\\u003eClasse: satisfeito_com_pedido\",\"Status do Pedido:delivered\\u003cbr\\u003eClasse: satisfeito_com_pedido\",\"Status do Pedido:delivered\\u003cbr\\u003eClasse: satisfeito_com_pedido\",\"Status do Pedido:delivered\\u003cbr\\u003eClasse: satisfeito_com_pedido\",\"Status do Pedido:delivered\\u003cbr\\u003eClasse: satisfeito_com_pedido\",null,\"Status do Pedido:delivered\\u003cbr\\u003eClasse: problemas_de_qualidade\",\"Status do Pedido:delivered\\u003cbr\\u003eClasse: problemas_de_qualidade\",\"Status do Pedido:delivered\\u003cbr\\u003eClasse: problemas_de_entrega\",\"Status do Pedido:delivered\\u003cbr\\u003eClasse: problemas_de_entrega\",\"Status do Pedido:delivered\\u003cbr\\u003eClasse: satisfeito_com_pedido\",\"Status do Pedido:delivered\\u003cbr\\u003eClasse: satisfeito_com_pedido\",\"Status do Pedido:delivered\\u003cbr\\u003eClasse: satisfeito_com_pedido\",\"Status do Pedido:delivered\\u003cbr\\u003eClasse: problemas_de_qualidade\",\"Status do Pedido:delivered\\u003cbr\\u003eClasse: problemas_de_qualidade\",\"Status do Pedido:delivered\\u003cbr\\u003eClasse: satisfeito_com_pedido\",\"Status do Pedido:delivered\\u003cbr\\u003eClasse: problemas_de_qualidade\",\"Status do Pedido:delivered\\u003cbr\\u003eClasse: satisfeito_com_pedido\",\"Status do Pedido:delivered\\u003cbr\\u003eClasse: problemas_de_qualidade\",\"Status do Pedido:shipped\\u003cbr\\u003eClasse: satisfeito_com_pedido\",\"Status do Pedido:delivered\\u003cbr\\u003eClasse: satisfeito_com_pedido\",\"Status do Pedido:delivered\\u003cbr\\u003eClasse: satisfeito_com_pedido\",\"Status do Pedido:delivered\\u003cbr\\u003eClasse: satisfeito_com_pedido\",\"Status do Pedido:delivered\\u003cbr\\u003eClasse: problemas_de_entrega\",\"Status do Pedido:delivered\\u003cbr\\u003eClasse: satisfeito_com_pedido\",\"Status do Pedido:delivered\\u003cbr\\u003eClasse: problemas_de_qualidade\",\"Status do Pedido:delivered\\u003cbr\\u003eClasse: problemas_de_entrega\",\"Status do Pedido:delivered\\u003cbr\\u003eClasse: satisfeito_com_pedido\",\"Status do Pedido:delivered\\u003cbr\\u003eClasse: satisfeito_com_pedido\",\"Status do Pedido:delivered\\u003cbr\\u003eClasse: satisfeito_com_pedido\",\"Status do Pedido:shipped\\u003cbr\\u003eClasse: problemas_de_entrega\",\"Status do Pedido:delivered\\u003cbr\\u003eClasse: satisfeito_com_pedido\",\"Status do Pedido:delivered\\u003cbr\\u003eClasse: satisfeito_com_pedido\",\"Status do Pedido:delivered\\u003cbr\\u003eClasse: satisfeito_com_pedido\",\"Status do Pedido:delivered\\u003cbr\\u003eClasse: satisfeito_com_pedido\",\"Status do Pedido:delivered\\u003cbr\\u003eClasse: satisfeito_com_pedido\",\"Status do Pedido:delivered\\u003cbr\\u003eClasse: satisfeito_com_pedido\",\"Status do Pedido:delivered\\u003cbr\\u003eClasse: satisfeito_com_pedido\",\"Status do Pedido:delivered\\u003cbr\\u003eClasse: problemas_de_entrega\",\"Status do Pedido:delivered\\u003cbr\\u003eClasse: satisfeito_com_pedido\",\"Status do Pedido:delivered\\u003cbr\\u003eClasse: problemas_de_entrega\",\"Status do Pedido:delivered\\u003cbr\\u003eClasse: problemas_de_qualidade\",\"Status do Pedido:delivered\\u003cbr\\u003eClasse: problemas_de_qualidade\",\"Status do Pedido:delivered\\u003cbr\\u003eClasse: satisfeito_com_pedido\",\"Status do Pedido:delivered\\u003cbr\\u003eClasse: problemas_de_entrega\",\"Status do Pedido:delivered\\u003cbr\\u003eClasse: problemas_de_entrega\",\"Status do Pedido:delivered\\u003cbr\\u003eClasse: satisfeito_com_pedido\",null,\"Status do Pedido:delivered\\u003cbr\\u003eClasse: satisfeito_com_pedido\",\"Status do Pedido:delivered\\u003cbr\\u003eClasse: satisfeito_com_pedido\",\"Status do Pedido:delivered\\u003cbr\\u003eClasse: satisfeito_com_pedido\",\"Status do Pedido:delivered\\u003cbr\\u003eClasse: problemas_de_entrega\",\"Status do Pedido:delivered\\u003cbr\\u003eClasse: satisfeito_com_pedido\",\"Status do Pedido:delivered\\u003cbr\\u003eClasse: problemas_de_entrega\",\"Status do Pedido:delivered\\u003cbr\\u003eClasse: satisfeito_com_pedido\",\"Status do Pedido:delivered\\u003cbr\\u003eClasse: satisfeito_com_pedido\",\"Status do Pedido:delivered\\u003cbr\\u003eClasse: problemas_de_qualidade\",\"Status do Pedido:delivered\\u003cbr\\u003eClasse: satisfeito_com_pedido\",\"Status do Pedido:delivered\\u003cbr\\u003eClasse: satisfeito_com_pedido\",\"Status do Pedido:delivered\\u003cbr\\u003eClasse: satisfeito_com_pedido\",\"Status do Pedido:delivered\\u003cbr\\u003eClasse: problemas_de_entrega\",\"Status do Pedido:delivered\\u003cbr\\u003eClasse: problemas_de_entrega\",\"Status do Pedido:delivered\\u003cbr\\u003eClasse: problemas_de_entrega\",\"Status do Pedido:delivered\\u003cbr\\u003eClasse: satisfeito_com_pedido\",\"Status do Pedido:delivered\\u003cbr\\u003eClasse: satisfeito_com_pedido\",\"Status do Pedido:delivered\\u003cbr\\u003eClasse: satisfeito_com_pedido\",\"Status do Pedido:delivered\\u003cbr\\u003eClasse: satisfeito_com_pedido\",\"Status do Pedido:delivered\\u003cbr\\u003eClasse: satisfeito_com_pedido\",\"Status do Pedido:delivered\\u003cbr\\u003eClasse: problemas_de_entrega\",\"Status do Pedido:delivered\\u003cbr\\u003eClasse: satisfeito_com_pedido\",\"Status do Pedido:delivered\\u003cbr\\u003eClasse: problemas_de_qualidade\",\"Status do Pedido:delivered\\u003cbr\\u003eClasse: problemas_de_entrega\",\"Status do Pedido:delivered\\u003cbr\\u003eClasse: problemas_de_entrega\",\"Status do Pedido:delivered\\u003cbr\\u003eClasse: satisfeito_com_pedido\",\"Status do Pedido:delivered\\u003cbr\\u003eClasse: satisfeito_com_pedido\",\"Status do Pedido:delivered\\u003cbr\\u003eClasse: problemas_de_entrega\",\"Status do Pedido:delivered\\u003cbr\\u003eClasse: problemas_de_entrega\",\"Status do Pedido:delivered\\u003cbr\\u003eClasse: satisfeito_com_pedido\",\"Status do Pedido:delivered\\u003cbr\\u003eClasse: problemas_de_entrega\",\"Status do Pedido:delivered\\u003cbr\\u003eClasse: satisfeito_com_pedido\",\"Status do Pedido:delivered\\u003cbr\\u003eClasse: satisfeito_com_pedido\",\"Status do Pedido:delivered\\u003cbr\\u003eClasse: satisfeito_com_pedido\",\"Status do Pedido:delivered\\u003cbr\\u003eClasse: problemas_de_qualidade\",\"Status do Pedido:delivered\\u003cbr\\u003eClasse: problemas_de_entrega\",\"Status do Pedido:delivered\\u003cbr\\u003eClasse: satisfeito_com_pedido\",\"Status do Pedido:invoiced\\u003cbr\\u003eClasse: problemas_de_entrega\",\"Status do Pedido:delivered\\u003cbr\\u003eClasse: satisfeito_com_pedido\",\"Status do Pedido:delivered\\u003cbr\\u003eClasse: satisfeito_com_pedido\",\"Status do Pedido:delivered\\u003cbr\\u003eClasse: satisfeito_com_pedido\",null,\"Status do Pedido:delivered\\u003cbr\\u003eClasse: satisfeito_com_pedido\",\"Status do Pedido:delivered\\u003cbr\\u003eClasse: satisfeito_com_pedido\",\"Status do Pedido:delivered\\u003cbr\\u003eClasse: problemas_de_entrega\",\"Status do Pedido:delivered\\u003cbr\\u003eClasse: problemas_de_entrega\",\"Status do Pedido:delivered\\u003cbr\\u003eClasse: satisfeito_com_pedido\",\"Status do Pedido:delivered\\u003cbr\\u003eClasse: satisfeito_com_pedido\",\"Status do Pedido:delivered\\u003cbr\\u003eClasse: problemas_de_qualidade\",\"Status do Pedido:delivered\\u003cbr\\u003eClasse: problemas_de_entrega\",\"Status do Pedido:delivered\\u003cbr\\u003eClasse: satisfeito_com_pedido\",\"Status do Pedido:delivered\\u003cbr\\u003eClasse: problemas_de_entrega\",\"Status do Pedido:delivered\\u003cbr\\u003eClasse: satisfeito_com_pedido\",\"Status do Pedido:delivered\\u003cbr\\u003eClasse: problemas_de_entrega\",\"Status do Pedido:delivered\\u003cbr\\u003eClasse: problemas_de_entrega\",\"Status do Pedido:delivered\\u003cbr\\u003eClasse: satisfeito_com_pedido\",\"Status do Pedido:delivered\\u003cbr\\u003eClasse: satisfeito_com_pedido\",\"Status do Pedido:delivered\\u003cbr\\u003eClasse: satisfeito_com_pedido\",\"Status do Pedido:delivered\\u003cbr\\u003eClasse: satisfeito_com_pedido\",\"Status do Pedido:delivered\\u003cbr\\u003eClasse: problemas_de_entrega\",\"Status do Pedido:delivered\\u003cbr\\u003eClasse: satisfeito_com_pedido\",\"Status do Pedido:delivered\\u003cbr\\u003eClasse: problemas_de_entrega\",\"Status do Pedido:delivered\\u003cbr\\u003eClasse: satisfeito_com_pedido\",\"Status do Pedido:delivered\\u003cbr\\u003eClasse: problemas_de_qualidade\",\"Status do Pedido:delivered\\u003cbr\\u003eClasse: problemas_de_qualidade\",\"Status do Pedido:delivered\\u003cbr\\u003eClasse: satisfeito_com_pedido\",\"Status do Pedido:delivered\\u003cbr\\u003eClasse: problemas_de_entrega\",\"Status do Pedido:delivered\\u003cbr\\u003eClasse: problemas_de_qualidade\",\"Status do Pedido:delivered\\u003cbr\\u003eClasse: satisfeito_com_pedido\",\"Status do Pedido:delivered\\u003cbr\\u003eClasse: satisfeito_com_pedido\",\"Status do Pedido:delivered\\u003cbr\\u003eClasse: problemas_de_qualidade\",\"Status do Pedido:delivered\\u003cbr\\u003eClasse: problemas_de_entrega\",\"Status do Pedido:delivered\\u003cbr\\u003eClasse: satisfeito_com_pedido\",\"Status do Pedido:delivered\\u003cbr\\u003eClasse: problemas_de_qualidade\",\"Status do Pedido:delivered\\u003cbr\\u003eClasse: problemas_de_qualidade\",\"Status do Pedido:delivered\\u003cbr\\u003eClasse: satisfeito_com_pedido\",\"Status do Pedido:delivered\\u003cbr\\u003eClasse: satisfeito_com_pedido\",\"Status do Pedido:delivered\\u003cbr\\u003eClasse: problemas_de_qualidade\",\"Status do Pedido:delivered\\u003cbr\\u003eClasse: problemas_de_entrega\",\"Status do Pedido:delivered\\u003cbr\\u003eClasse: satisfeito_com_pedido\",\"Status do Pedido:delivered\\u003cbr\\u003eClasse: satisfeito_com_pedido\",\"Status do Pedido:delivered\\u003cbr\\u003eClasse: problemas_de_qualidade\",\"Status do Pedido:delivered\\u003cbr\\u003eClasse: satisfeito_com_pedido\",\"Status do Pedido:delivered\\u003cbr\\u003eClasse: satisfeito_com_pedido\",\"Status do Pedido:delivered\\u003cbr\\u003eClasse: satisfeito_com_pedido\",\"Status do Pedido:delivered\\u003cbr\\u003eClasse: problemas_de_qualidade\",\"Status do Pedido:delivered\\u003cbr\\u003eClasse: satisfeito_com_pedido\",\"Status do Pedido:delivered\\u003cbr\\u003eClasse: satisfeito_com_pedido\",\"Status do Pedido:delivered\\u003cbr\\u003eClasse: satisfeito_com_pedido\",\"Status do Pedido:delivered\\u003cbr\\u003eClasse: problemas_de_entrega\",\"Status do Pedido:delivered\\u003cbr\\u003eClasse: satisfeito_com_pedido\",\"Status do Pedido:delivered\\u003cbr\\u003eClasse: satisfeito_com_pedido\",\"Status do Pedido:delivered\\u003cbr\\u003eClasse: problemas_de_entrega\",\"Status do Pedido:delivered\\u003cbr\\u003eClasse: satisfeito_com_pedido\",\"Status do Pedido:delivered\\u003cbr\\u003eClasse: satisfeito_com_pedido\",\"Status do Pedido:delivered\\u003cbr\\u003eClasse: problemas_de_entrega\",\"Status do Pedido:delivered\\u003cbr\\u003eClasse: problemas_de_entrega\",\"Status do Pedido:delivered\\u003cbr\\u003eClasse: satisfeito_com_pedido\",\"Status do Pedido:delivered\\u003cbr\\u003eClasse: problemas_de_entrega\",\"Status do Pedido:delivered\\u003cbr\\u003eClasse: satisfeito_com_pedido\",\"Status do Pedido:delivered\\u003cbr\\u003eClasse: satisfeito_com_pedido\",\"Status do Pedido:delivered\\u003cbr\\u003eClasse: problemas_de_entrega\",\"Status do Pedido:delivered\\u003cbr\\u003eClasse: problemas_de_entrega\",\"Status do Pedido:delivered\\u003cbr\\u003eClasse: problemas_de_entrega\",\"Status do Pedido:delivered\\u003cbr\\u003eClasse: problemas_de_entrega\",\"Status do Pedido:delivered\\u003cbr\\u003eClasse: satisfeito_com_pedido\",\"Status do Pedido:delivered\\u003cbr\\u003eClasse: satisfeito_com_pedido\",\"Status do Pedido:delivered\\u003cbr\\u003eClasse: satisfeito_com_pedido\",\"Status do Pedido:delivered\\u003cbr\\u003eClasse: satisfeito_com_pedido\",\"Status do Pedido:delivered\\u003cbr\\u003eClasse: problemas_de_qualidade\",\"Status do Pedido:delivered\\u003cbr\\u003eClasse: problemas_de_qualidade\",\"Status do Pedido:delivered\\u003cbr\\u003eClasse: satisfeito_com_pedido\",\"Status do Pedido:delivered\\u003cbr\\u003eClasse: problemas_de_entrega\",\"Status do Pedido:canceled\\u003cbr\\u003eClasse: problemas_de_qualidade\",\"Status do Pedido:delivered\\u003cbr\\u003eClasse: problemas_de_qualidade\",\"Status do Pedido:delivered\\u003cbr\\u003eClasse: satisfeito_com_pedido\",\"Status do Pedido:delivered\\u003cbr\\u003eClasse: satisfeito_com_pedido\",\"Status do Pedido:delivered\\u003cbr\\u003eClasse: problemas_de_entrega\",\"Status do Pedido:delivered\\u003cbr\\u003eClasse: satisfeito_com_pedido\",\"Status do Pedido:delivered\\u003cbr\\u003eClasse: problemas_de_qualidade\",\"Status do Pedido:shipped\\u003cbr\\u003eClasse: problemas_de_entrega\",\"Status do Pedido:canceled\\u003cbr\\u003eClasse: problemas_de_qualidade\",\"Status do Pedido:delivered\\u003cbr\\u003eClasse: satisfeito_com_pedido\",\"Status do Pedido:delivered\\u003cbr\\u003eClasse: satisfeito_com_pedido\",\"Status do Pedido:delivered\\u003cbr\\u003eClasse: satisfeito_com_pedido\",null,\"Status do Pedido:delivered\\u003cbr\\u003eClasse: problemas_de_qualidade\",\"Status do Pedido:delivered\\u003cbr\\u003eClasse: satisfeito_com_pedido\",\"Status do Pedido:delivered\\u003cbr\\u003eClasse: problemas_de_entrega\",\"Status do Pedido:delivered\\u003cbr\\u003eClasse: satisfeito_com_pedido\",\"Status do Pedido:delivered\\u003cbr\\u003eClasse: satisfeito_com_pedido\",\"Status do Pedido:delivered\\u003cbr\\u003eClasse: problemas_de_qualidade\",\"Status do Pedido:delivered\\u003cbr\\u003eClasse: problemas_de_entrega\",\"Status do Pedido:delivered\\u003cbr\\u003eClasse: problemas_de_entrega\",\"Status do Pedido:delivered\\u003cbr\\u003eClasse: satisfeito_com_pedido\",\"Status do Pedido:delivered\\u003cbr\\u003eClasse: problemas_de_entrega\",\"Status do Pedido:delivered\\u003cbr\\u003eClasse: problemas_de_entrega\",\"Status do Pedido:delivered\\u003cbr\\u003eClasse: satisfeito_com_pedido\",\"Status do Pedido:delivered\\u003cbr\\u003eClasse: problemas_de_entrega\",\"Status do Pedido:delivered\\u003cbr\\u003eClasse: problemas_de_entrega\",\"Status do Pedido:delivered\\u003cbr\\u003eClasse: problemas_de_qualidade\",\"Status do Pedido:delivered\\u003cbr\\u003eClasse: problemas_de_entrega\",\"Status do Pedido:delivered\\u003cbr\\u003eClasse: satisfeito_com_pedido\",\"Status do Pedido:delivered\\u003cbr\\u003eClasse: satisfeito_com_pedido\",\"Status do Pedido:delivered\\u003cbr\\u003eClasse: satisfeito_com_pedido\",\"Status do Pedido:delivered\\u003cbr\\u003eClasse: satisfeito_com_pedido\",\"Status do Pedido:delivered\\u003cbr\\u003eClasse: problemas_de_entrega\",\"Status do Pedido:delivered\\u003cbr\\u003eClasse: satisfeito_com_pedido\",\"Status do Pedido:delivered\\u003cbr\\u003eClasse: problemas_de_entrega\",null,\"Status do Pedido:delivered\\u003cbr\\u003eClasse: satisfeito_com_pedido\",\"Status do Pedido:delivered\\u003cbr\\u003eClasse: problemas_de_qualidade\",\"Status do Pedido:invoiced\\u003cbr\\u003eClasse: problemas_de_entrega\",\"Status do Pedido:delivered\\u003cbr\\u003eClasse: problemas_de_entrega\",\"Status do Pedido:delivered\\u003cbr\\u003eClasse: satisfeito_com_pedido\",\"Status do Pedido:delivered\\u003cbr\\u003eClasse: satisfeito_com_pedido\",\"Status do Pedido:delivered\\u003cbr\\u003eClasse: satisfeito_com_pedido\",\"Status do Pedido:delivered\\u003cbr\\u003eClasse: problemas_de_qualidade\",\"Status do Pedido:delivered\\u003cbr\\u003eClasse: problemas_de_entrega\",\"Status do Pedido:delivered\\u003cbr\\u003eClasse: satisfeito_com_pedido\",\"Status do Pedido:delivered\\u003cbr\\u003eClasse: satisfeito_com_pedido\",\"Status do Pedido:delivered\\u003cbr\\u003eClasse: satisfeito_com_pedido\",\"Status do Pedido:delivered\\u003cbr\\u003eClasse: satisfeito_com_pedido\",\"Status do Pedido:delivered\\u003cbr\\u003eClasse: problemas_de_qualidade\",\"Status do Pedido:delivered\\u003cbr\\u003eClasse: satisfeito_com_pedido\",\"Status do Pedido:delivered\\u003cbr\\u003eClasse: satisfeito_com_pedido\",\"Status do Pedido:delivered\\u003cbr\\u003eClasse: satisfeito_com_pedido\",\"Status do Pedido:delivered\\u003cbr\\u003eClasse: satisfeito_com_pedido\",\"Status do Pedido:delivered\\u003cbr\\u003eClasse: satisfeito_com_pedido\",\"Status do Pedido:delivered\\u003cbr\\u003eClasse: satisfeito_com_pedido\",\"Status do Pedido:delivered\\u003cbr\\u003eClasse: satisfeito_com_pedido\",\"Status do Pedido:delivered\\u003cbr\\u003eClasse: satisfeito_com_pedido\",\"Status do Pedido:delivered\\u003cbr\\u003eClasse: satisfeito_com_pedido\",\"Status do Pedido:delivered\\u003cbr\\u003eClasse: satisfeito_com_pedido\",\"Status do Pedido:delivered\\u003cbr\\u003eClasse: satisfeito_com_pedido\",\"Status do Pedido:delivered\\u003cbr\\u003eClasse: satisfeito_com_pedido\",\"Status do Pedido:delivered\\u003cbr\\u003eClasse: problemas_de_entrega\",\"Status do Pedido:delivered\\u003cbr\\u003eClasse: satisfeito_com_pedido\",\"Status do Pedido:delivered\\u003cbr\\u003eClasse: problemas_de_entrega\",\"Status do Pedido:delivered\\u003cbr\\u003eClasse: problemas_de_entrega\",\"Status do Pedido:delivered\\u003cbr\\u003eClasse: satisfeito_com_pedido\",\"Status do Pedido:delivered\\u003cbr\\u003eClasse: satisfeito_com_pedido\",\"Status do Pedido:delivered\\u003cbr\\u003eClasse: problemas_de_qualidade\",null,\"Status do Pedido:delivered\\u003cbr\\u003eClasse: problemas_de_entrega\",\"Status do Pedido:delivered\\u003cbr\\u003eClasse: satisfeito_com_pedido\",\"Status do Pedido:delivered\\u003cbr\\u003eClasse: satisfeito_com_pedido\",\"Status do Pedido:delivered\\u003cbr\\u003eClasse: satisfeito_com_pedido\",\"Status do Pedido:delivered\\u003cbr\\u003eClasse: satisfeito_com_pedido\",\"Status do Pedido:delivered\\u003cbr\\u003eClasse: problemas_de_entrega\",\"Status do Pedido:delivered\\u003cbr\\u003eClasse: satisfeito_com_pedido\",\"Status do Pedido:delivered\\u003cbr\\u003eClasse: satisfeito_com_pedido\",\"Status do Pedido:delivered\\u003cbr\\u003eClasse: problemas_de_entrega\",\"Status do Pedido:delivered\\u003cbr\\u003eClasse: satisfeito_com_pedido\",\"Status do Pedido:delivered\\u003cbr\\u003eClasse: satisfeito_com_pedido\",\"Status do Pedido:delivered\\u003cbr\\u003eClasse: satisfeito_com_pedido\",\"Status do Pedido:delivered\\u003cbr\\u003eClasse: problemas_de_qualidade\",\"Status do Pedido:shipped\\u003cbr\\u003eClasse: problemas_de_entrega\",\"Status do Pedido:delivered\\u003cbr\\u003eClasse: satisfeito_com_pedido\",\"Status do Pedido:delivered\\u003cbr\\u003eClasse: problemas_de_qualidade\",\"Status do Pedido:delivered\\u003cbr\\u003eClasse: satisfeito_com_pedido\",\"Status do Pedido:delivered\\u003cbr\\u003eClasse: satisfeito_com_pedido\",\"Status do Pedido:delivered\\u003cbr\\u003eClasse: problemas_de_entrega\",\"Status do Pedido:delivered\\u003cbr\\u003eClasse: problemas_de_qualidade\",null,\"Status do Pedido:delivered\\u003cbr\\u003eClasse: problemas_de_entrega\",\"Status do Pedido:delivered\\u003cbr\\u003eClasse: satisfeito_com_pedido\",\"Status do Pedido:delivered\\u003cbr\\u003eClasse: satisfeito_com_pedido\",\"Status do Pedido:delivered\\u003cbr\\u003eClasse: satisfeito_com_pedido\",\"Status do Pedido:delivered\\u003cbr\\u003eClasse: satisfeito_com_pedido\",\"Status do Pedido:delivered\\u003cbr\\u003eClasse: satisfeito_com_pedido\",\"Status do Pedido:delivered\\u003cbr\\u003eClasse: problemas_de_entrega\",\"Status do Pedido:delivered\\u003cbr\\u003eClasse: problemas_de_qualidade\",\"Status do Pedido:delivered\\u003cbr\\u003eClasse: problemas_de_entrega\",\"Status do Pedido:delivered\\u003cbr\\u003eClasse: problemas_de_entrega\",\"Status do Pedido:delivered\\u003cbr\\u003eClasse: satisfeito_com_pedido\",\"Status do Pedido:delivered\\u003cbr\\u003eClasse: satisfeito_com_pedido\",\"Status do Pedido:delivered\\u003cbr\\u003eClasse: satisfeito_com_pedido\",\"Status do Pedido:delivered\\u003cbr\\u003eClasse: satisfeito_com_pedido\",\"Status do Pedido:delivered\\u003cbr\\u003eClasse: satisfeito_com_pedido\",\"Status do Pedido:delivered\\u003cbr\\u003eClasse: problemas_de_entrega\",\"Status do Pedido:delivered\\u003cbr\\u003eClasse: satisfeito_com_pedido\",\"Status do Pedido:delivered\\u003cbr\\u003eClasse: satisfeito_com_pedido\",\"Status do Pedido:delivered\\u003cbr\\u003eClasse: problemas_de_entrega\",null,\"Status do Pedido:delivered\\u003cbr\\u003eClasse: satisfeito_com_pedido\",\"Status do Pedido:delivered\\u003cbr\\u003eClasse: satisfeito_com_pedido\",\"Status do Pedido:delivered\\u003cbr\\u003eClasse: problemas_de_qualidade\",\"Status do Pedido:delivered\\u003cbr\\u003eClasse: satisfeito_com_pedido\",\"Status do Pedido:delivered\\u003cbr\\u003eClasse: problemas_de_qualidade\",\"Status do Pedido:delivered\\u003cbr\\u003eClasse: satisfeito_com_pedido\",\"Status do Pedido:delivered\\u003cbr\\u003eClasse: satisfeito_com_pedido\",\"Status do Pedido:delivered\\u003cbr\\u003eClasse: problemas_de_entrega\",\"Status do Pedido:delivered\\u003cbr\\u003eClasse: satisfeito_com_pedido\",\"Status do Pedido:delivered\\u003cbr\\u003eClasse: satisfeito_com_pedido\",\"Status do Pedido:delivered\\u003cbr\\u003eClasse: problemas_de_entrega\",\"Status do Pedido:delivered\\u003cbr\\u003eClasse: problemas_de_qualidade\",\"Status do Pedido:delivered\\u003cbr\\u003eClasse: satisfeito_com_pedido\",\"Status do Pedido:delivered\\u003cbr\\u003eClasse: problemas_de_entrega\",\"Status do Pedido:delivered\\u003cbr\\u003eClasse: problemas_de_entrega\",\"Status do Pedido:processing\\u003cbr\\u003eClasse: problemas_de_entrega\",\"Status do Pedido:delivered\\u003cbr\\u003eClasse: satisfeito_com_pedido\",\"Status do Pedido:delivered\\u003cbr\\u003eClasse: problemas_de_qualidade\",\"Status do Pedido:delivered\\u003cbr\\u003eClasse: satisfeito_com_pedido\",\"Status do Pedido:delivered\\u003cbr\\u003eClasse: satisfeito_com_pedido\",\"Status do Pedido:delivered\\u003cbr\\u003eClasse: satisfeito_com_pedido\",null,\"Status do Pedido:delivered\\u003cbr\\u003eClasse: problemas_de_entrega\",\"Status do Pedido:delivered\\u003cbr\\u003eClasse: problemas_de_qualidade\",\"Status do Pedido:delivered\\u003cbr\\u003eClasse: satisfeito_com_pedido\",\"Status do Pedido:delivered\\u003cbr\\u003eClasse: satisfeito_com_pedido\",\"Status do Pedido:delivered\\u003cbr\\u003eClasse: satisfeito_com_pedido\",\"Status do Pedido:delivered\\u003cbr\\u003eClasse: satisfeito_com_pedido\",\"Status do Pedido:delivered\\u003cbr\\u003eClasse: satisfeito_com_pedido\",\"Status do Pedido:delivered\\u003cbr\\u003eClasse: satisfeito_com_pedido\",\"Status do Pedido:delivered\\u003cbr\\u003eClasse: problemas_de_entrega\",\"Status do Pedido:delivered\\u003cbr\\u003eClasse: satisfeito_com_pedido\",\"Status do Pedido:delivered\\u003cbr\\u003eClasse: satisfeito_com_pedido\",\"Status do Pedido:delivered\\u003cbr\\u003eClasse: satisfeito_com_pedido\",\"Status do Pedido:delivered\\u003cbr\\u003eClasse: satisfeito_com_pedido\",\"Status do Pedido:delivered\\u003cbr\\u003eClasse: satisfeito_com_pedido\",\"Status do Pedido:delivered\\u003cbr\\u003eClasse: satisfeito_com_pedido\",\"Status do Pedido:delivered\\u003cbr\\u003eClasse: satisfeito_com_pedido\",\"Status do Pedido:delivered\\u003cbr\\u003eClasse: satisfeito_com_pedido\",\"Status do Pedido:delivered\\u003cbr\\u003eClasse: satisfeito_com_pedido\",\"Status do Pedido:delivered\\u003cbr\\u003eClasse: satisfeito_com_pedido\",\"Status do Pedido:delivered\\u003cbr\\u003eClasse: problemas_de_qualidade\",\"Status do Pedido:delivered\\u003cbr\\u003eClasse: satisfeito_com_pedido\",\"Status do Pedido:delivered\\u003cbr\\u003eClasse: satisfeito_com_pedido\",\"Status do Pedido:delivered\\u003cbr\\u003eClasse: satisfeito_com_pedido\",\"Status do Pedido:delivered\\u003cbr\\u003eClasse: problemas_de_entrega\",\"Status do Pedido:delivered\\u003cbr\\u003eClasse: satisfeito_com_pedido\",\"Status do Pedido:delivered\\u003cbr\\u003eClasse: satisfeito_com_pedido\",\"Status do Pedido:delivered\\u003cbr\\u003eClasse: satisfeito_com_pedido\",null,\"Status do Pedido:delivered\\u003cbr\\u003eClasse: problemas_de_qualidade\",\"Status do Pedido:delivered\\u003cbr\\u003eClasse: satisfeito_com_pedido\",\"Status do Pedido:delivered\\u003cbr\\u003eClasse: satisfeito_com_pedido\",\"Status do Pedido:delivered\\u003cbr\\u003eClasse: problemas_de_entrega\",\"Status do Pedido:delivered\\u003cbr\\u003eClasse: satisfeito_com_pedido\",\"Status do Pedido:delivered\\u003cbr\\u003eClasse: problemas_de_entrega\",\"Status do Pedido:delivered\\u003cbr\\u003eClasse: satisfeito_com_pedido\",\"Status do Pedido:delivered\\u003cbr\\u003eClasse: problemas_de_entrega\",\"Status do Pedido:delivered\\u003cbr\\u003eClasse: satisfeito_com_pedido\",\"Status do Pedido:delivered\\u003cbr\\u003eClasse: problemas_de_qualidade\",\"Status do Pedido:delivered\\u003cbr\\u003eClasse: satisfeito_com_pedido\",\"Status do Pedido:delivered\\u003cbr\\u003eClasse: satisfeito_com_pedido\",\"Status do Pedido:shipped\\u003cbr\\u003eClasse: problemas_de_entrega\",\"Status do Pedido:delivered\\u003cbr\\u003eClasse: problemas_de_entrega\",\"Status do Pedido:delivered\\u003cbr\\u003eClasse: problemas_de_entrega\",\"Status do Pedido:delivered\\u003cbr\\u003eClasse: satisfeito_com_pedido\",\"Status do Pedido:delivered\\u003cbr\\u003eClasse: satisfeito_com_pedido\",\"Status do Pedido:delivered\\u003cbr\\u003eClasse: problemas_de_entrega\",\"Status do Pedido:delivered\\u003cbr\\u003eClasse: satisfeito_com_pedido\",\"Status do Pedido:delivered\\u003cbr\\u003eClasse: problemas_de_qualidade\",\"Status do Pedido:delivered\\u003cbr\\u003eClasse: problemas_de_entrega\",\"Status do Pedido:delivered\\u003cbr\\u003eClasse: satisfeito_com_pedido\",\"Status do Pedido:delivered\\u003cbr\\u003eClasse: satisfeito_com_pedido\",\"Status do Pedido:delivered\\u003cbr\\u003eClasse: problemas_de_qualidade\",\"Status do Pedido:delivered\\u003cbr\\u003eClasse: problemas_de_qualidade\",null,\"Status do Pedido:delivered\\u003cbr\\u003eClasse: problemas_de_qualidade\",\"Status do Pedido:delivered\\u003cbr\\u003eClasse: problemas_de_entrega\",\"Status do Pedido:delivered\\u003cbr\\u003eClasse: satisfeito_com_pedido\",\"Status do Pedido:delivered\\u003cbr\\u003eClasse: satisfeito_com_pedido\",\"Status do Pedido:delivered\\u003cbr\\u003eClasse: problemas_de_entrega\",\"Status do Pedido:delivered\\u003cbr\\u003eClasse: satisfeito_com_pedido\",\"Status do Pedido:delivered\\u003cbr\\u003eClasse: problemas_de_entrega\",\"Status do Pedido:delivered\\u003cbr\\u003eClasse: satisfeito_com_pedido\",\"Status do Pedido:delivered\\u003cbr\\u003eClasse: problemas_de_entrega\",\"Status do Pedido:delivered\\u003cbr\\u003eClasse: satisfeito_com_pedido\",\"Status do Pedido:delivered\\u003cbr\\u003eClasse: satisfeito_com_pedido\",\"Status do Pedido:delivered\\u003cbr\\u003eClasse: problemas_de_qualidade\",\"Status do Pedido:delivered\\u003cbr\\u003eClasse: problemas_de_entrega\",\"Status do Pedido:delivered\\u003cbr\\u003eClasse: problemas_de_qualidade\",\"Status do Pedido:delivered\\u003cbr\\u003eClasse: satisfeito_com_pedido\",\"Status do Pedido:delivered\\u003cbr\\u003eClasse: problemas_de_qualidade\",\"Status do Pedido:delivered\\u003cbr\\u003eClasse: satisfeito_com_pedido\",\"Status do Pedido:delivered\\u003cbr\\u003eClasse: satisfeito_com_pedido\",\"Status do Pedido:delivered\\u003cbr\\u003eClasse: problemas_de_entrega\",\"Status do Pedido:delivered\\u003cbr\\u003eClasse: problemas_de_entrega\",\"Status do Pedido:delivered\\u003cbr\\u003eClasse: satisfeito_com_pedido\",\"Status do Pedido:delivered\\u003cbr\\u003eClasse: satisfeito_com_pedido\",\"Status do Pedido:delivered\\u003cbr\\u003eClasse: satisfeito_com_pedido\",\"Status do Pedido:delivered\\u003cbr\\u003eClasse: problemas_de_qualidade\",\"Status do Pedido:delivered\\u003cbr\\u003eClasse: satisfeito_com_pedido\",\"Status do Pedido:delivered\\u003cbr\\u003eClasse: problemas_de_entrega\",\"Status do Pedido:delivered\\u003cbr\\u003eClasse: satisfeito_com_pedido\",\"Status do Pedido:delivered\\u003cbr\\u003eClasse: problemas_de_qualidade\",\"Status do Pedido:delivered\\u003cbr\\u003eClasse: satisfeito_com_pedido\",\"Status do Pedido:delivered\\u003cbr\\u003eClasse: satisfeito_com_pedido\",\"Status do Pedido:delivered\\u003cbr\\u003eClasse: problemas_de_entrega\",\"Status do Pedido:delivered\\u003cbr\\u003eClasse: satisfeito_com_pedido\",\"Status do Pedido:delivered\\u003cbr\\u003eClasse: satisfeito_com_pedido\",\"Status do Pedido:delivered\\u003cbr\\u003eClasse: problemas_de_entrega\",\"Status do Pedido:delivered\\u003cbr\\u003eClasse: problemas_de_entrega\",\"Status do Pedido:delivered\\u003cbr\\u003eClasse: satisfeito_com_pedido\",\"Status do Pedido:delivered\\u003cbr\\u003eClasse: satisfeito_com_pedido\",\"Status do Pedido:delivered\\u003cbr\\u003eClasse: problemas_de_entrega\",\"Status do Pedido:delivered\\u003cbr\\u003eClasse: problemas_de_entrega\",\"Status do Pedido:delivered\\u003cbr\\u003eClasse: satisfeito_com_pedido\",\"Status do Pedido:delivered\\u003cbr\\u003eClasse: satisfeito_com_pedido\",\"Status do Pedido:delivered\\u003cbr\\u003eClasse: satisfeito_com_pedido\",\"Status do Pedido:delivered\\u003cbr\\u003eClasse: problemas_de_entrega\",\"Status do Pedido:delivered\\u003cbr\\u003eClasse: satisfeito_com_pedido\",\"Status do Pedido:delivered\\u003cbr\\u003eClasse: problemas_de_entrega\",\"Status do Pedido:delivered\\u003cbr\\u003eClasse: problemas_de_qualidade\",\"Status do Pedido:delivered\\u003cbr\\u003eClasse: satisfeito_com_pedido\",\"Status do Pedido:delivered\\u003cbr\\u003eClasse: satisfeito_com_pedido\",\"Status do Pedido:delivered\\u003cbr\\u003eClasse: satisfeito_com_pedido\",\"Status do Pedido:delivered\\u003cbr\\u003eClasse: satisfeito_com_pedido\",\"Status do Pedido:delivered\\u003cbr\\u003eClasse: problemas_de_entrega\",\"Status do Pedido:delivered\\u003cbr\\u003eClasse: problemas_de_qualidade\",\"Status do Pedido:delivered\\u003cbr\\u003eClasse: problemas_de_qualidade\",\"Status do Pedido:delivered\\u003cbr\\u003eClasse: problemas_de_entrega\",\"Status do Pedido:delivered\\u003cbr\\u003eClasse: problemas_de_qualidade\",\"Status do Pedido:delivered\\u003cbr\\u003eClasse: satisfeito_com_pedido\",\"Status do Pedido:delivered\\u003cbr\\u003eClasse: satisfeito_com_pedido\",\"Status do Pedido:delivered\\u003cbr\\u003eClasse: satisfeito_com_pedido\",\"Status do Pedido:delivered\\u003cbr\\u003eClasse: satisfeito_com_pedido\",\"Status do Pedido:delivered\\u003cbr\\u003eClasse: problemas_de_entrega\",\"Status do Pedido:delivered\\u003cbr\\u003eClasse: satisfeito_com_pedido\",\"Status do Pedido:delivered\\u003cbr\\u003eClasse: satisfeito_com_pedido\",\"Status do Pedido:delivered\\u003cbr\\u003eClasse: satisfeito_com_pedido\",\"Status do Pedido:delivered\\u003cbr\\u003eClasse: satisfeito_com_pedido\",\"Status do Pedido:delivered\\u003cbr\\u003eClasse: problemas_de_entrega\",\"Status do Pedido:delivered\\u003cbr\\u003eClasse: satisfeito_com_pedido\",\"Status do Pedido:delivered\\u003cbr\\u003eClasse: problemas_de_entrega\",\"Status do Pedido:delivered\\u003cbr\\u003eClasse: problemas_de_entrega\",\"Status do Pedido:delivered\\u003cbr\\u003eClasse: problemas_de_entrega\",\"Status do Pedido:delivered\\u003cbr\\u003eClasse: satisfeito_com_pedido\",\"Status do Pedido:delivered\\u003cbr\\u003eClasse: satisfeito_com_pedido\",\"Status do Pedido:delivered\\u003cbr\\u003eClasse: satisfeito_com_pedido\",\"Status do Pedido:delivered\\u003cbr\\u003eClasse: problemas_de_entrega\",\"Status do Pedido:delivered\\u003cbr\\u003eClasse: satisfeito_com_pedido\",\"Status do Pedido:delivered\\u003cbr\\u003eClasse: problemas_de_entrega\",\"Status do Pedido:delivered\\u003cbr\\u003eClasse: satisfeito_com_pedido\",\"Status do Pedido:delivered\\u003cbr\\u003eClasse: satisfeito_com_pedido\",\"Status do Pedido:delivered\\u003cbr\\u003eClasse: satisfeito_com_pedido\",\"Status do Pedido:delivered\\u003cbr\\u003eClasse: satisfeito_com_pedido\",\"Status do Pedido:delivered\\u003cbr\\u003eClasse: problemas_de_entrega\",\"Status do Pedido:delivered\\u003cbr\\u003eClasse: problemas_de_entrega\",\"Status do Pedido:delivered\\u003cbr\\u003eClasse: problemas_de_entrega\",\"Status do Pedido:delivered\\u003cbr\\u003eClasse: problemas_de_entrega\",\"Status do Pedido:delivered\\u003cbr\\u003eClasse: problemas_de_qualidade\",\"Status do Pedido:delivered\\u003cbr\\u003eClasse: satisfeito_com_pedido\",\"Status do Pedido:delivered\\u003cbr\\u003eClasse: satisfeito_com_pedido\",\"Status do Pedido:delivered\\u003cbr\\u003eClasse: satisfeito_com_pedido\",\"Status do Pedido:processing\\u003cbr\\u003eClasse: problemas_de_entrega\",\"Status do Pedido:delivered\\u003cbr\\u003eClasse: satisfeito_com_pedido\",\"Status do Pedido:delivered\\u003cbr\\u003eClasse: problemas_de_qualidade\",\"Status do Pedido:delivered\\u003cbr\\u003eClasse: problemas_de_entrega\",\"Status do Pedido:delivered\\u003cbr\\u003eClasse: problemas_de_entrega\",\"Status do Pedido:delivered\\u003cbr\\u003eClasse: problemas_de_entrega\",\"Status do Pedido:delivered\\u003cbr\\u003eClasse: problemas_de_qualidade\",\"Status do Pedido:delivered\\u003cbr\\u003eClasse: problemas_de_entrega\",\"Status do Pedido:delivered\\u003cbr\\u003eClasse: satisfeito_com_pedido\",\"Status do Pedido:delivered\\u003cbr\\u003eClasse: satisfeito_com_pedido\",\"Status do Pedido:delivered\\u003cbr\\u003eClasse: problemas_de_qualidade\",\"Status do Pedido:delivered\\u003cbr\\u003eClasse: problemas_de_entrega\",\"Status do Pedido:delivered\\u003cbr\\u003eClasse: satisfeito_com_pedido\",\"Status do Pedido:delivered\\u003cbr\\u003eClasse: problemas_de_entrega\",\"Status do Pedido:delivered\\u003cbr\\u003eClasse: satisfeito_com_pedido\",\"Status do Pedido:delivered\\u003cbr\\u003eClasse: satisfeito_com_pedido\",\"Status do Pedido:delivered\\u003cbr\\u003eClasse: satisfeito_com_pedido\",\"Status do Pedido:delivered\\u003cbr\\u003eClasse: satisfeito_com_pedido\",\"Status do Pedido:delivered\\u003cbr\\u003eClasse: satisfeito_com_pedido\",\"Status do Pedido:delivered\\u003cbr\\u003eClasse: problemas_de_entrega\",\"Status do Pedido:delivered\\u003cbr\\u003eClasse: satisfeito_com_pedido\",null,\"Status do Pedido:delivered\\u003cbr\\u003eClasse: satisfeito_com_pedido\",\"Status do Pedido:delivered\\u003cbr\\u003eClasse: satisfeito_com_pedido\",\"Status do Pedido:delivered\\u003cbr\\u003eClasse: problemas_de_qualidade\",\"Status do Pedido:delivered\\u003cbr\\u003eClasse: problemas_de_qualidade\",\"Status do Pedido:delivered\\u003cbr\\u003eClasse: satisfeito_com_pedido\",\"Status do Pedido:delivered\\u003cbr\\u003eClasse: satisfeito_com_pedido\",\"Status do Pedido:delivered\\u003cbr\\u003eClasse: satisfeito_com_pedido\",\"Status do Pedido:delivered\\u003cbr\\u003eClasse: satisfeito_com_pedido\",\"Status do Pedido:delivered\\u003cbr\\u003eClasse: satisfeito_com_pedido\",\"Status do Pedido:delivered\\u003cbr\\u003eClasse: satisfeito_com_pedido\",null,\"Status do Pedido:delivered\\u003cbr\\u003eClasse: satisfeito_com_pedido\",null,\"Status do Pedido:delivered\\u003cbr\\u003eClasse: problemas_de_entrega\",\"Status do Pedido:delivered\\u003cbr\\u003eClasse: satisfeito_com_pedido\",\"Status do Pedido:delivered\\u003cbr\\u003eClasse: satisfeito_com_pedido\",\"Status do Pedido:delivered\\u003cbr\\u003eClasse: satisfeito_com_pedido\",\"Status do Pedido:delivered\\u003cbr\\u003eClasse: satisfeito_com_pedido\",\"Status do Pedido:delivered\\u003cbr\\u003eClasse: problemas_de_entrega\",\"Status do Pedido:delivered\\u003cbr\\u003eClasse: satisfeito_com_pedido\",\"Status do Pedido:delivered\\u003cbr\\u003eClasse: satisfeito_com_pedido\",\"Status do Pedido:delivered\\u003cbr\\u003eClasse: satisfeito_com_pedido\",\"Status do Pedido:delivered\\u003cbr\\u003eClasse: satisfeito_com_pedido\",\"Status do Pedido:delivered\\u003cbr\\u003eClasse: problemas_de_entrega\",\"Status do Pedido:delivered\\u003cbr\\u003eClasse: problemas_de_entrega\",\"Status do Pedido:delivered\\u003cbr\\u003eClasse: satisfeito_com_pedido\",\"Status do Pedido:delivered\\u003cbr\\u003eClasse: problemas_de_qualidade\",\"Status do Pedido:delivered\\u003cbr\\u003eClasse: problemas_de_qualidade\",\"Status do Pedido:delivered\\u003cbr\\u003eClasse: satisfeito_com_pedido\",\"Status do Pedido:delivered\\u003cbr\\u003eClasse: satisfeito_com_pedido\",\"Status do Pedido:delivered\\u003cbr\\u003eClasse: satisfeito_com_pedido\",\"Status do Pedido:delivered\\u003cbr\\u003eClasse: problemas_de_qualidade\",\"Status do Pedido:delivered\\u003cbr\\u003eClasse: satisfeito_com_pedido\",\"Status do Pedido:delivered\\u003cbr\\u003eClasse: problemas_de_qualidade\",\"Status do Pedido:delivered\\u003cbr\\u003eClasse: satisfeito_com_pedido\",\"Status do Pedido:delivered\\u003cbr\\u003eClasse: satisfeito_com_pedido\",\"Status do Pedido:delivered\\u003cbr\\u003eClasse: problemas_de_qualidade\",\"Status do Pedido:delivered\\u003cbr\\u003eClasse: satisfeito_com_pedido\",\"Status do Pedido:delivered\\u003cbr\\u003eClasse: problemas_de_entrega\",\"Status do Pedido:delivered\\u003cbr\\u003eClasse: problemas_de_entrega\",\"Status do Pedido:delivered\\u003cbr\\u003eClasse: problemas_de_qualidade\",\"Status do Pedido:delivered\\u003cbr\\u003eClasse: satisfeito_com_pedido\",\"Status do Pedido:delivered\\u003cbr\\u003eClasse: satisfeito_com_pedido\",\"Status do Pedido:delivered\\u003cbr\\u003eClasse: satisfeito_com_pedido\",\"Status do Pedido:delivered\\u003cbr\\u003eClasse: satisfeito_com_pedido\",\"Status do Pedido:delivered\\u003cbr\\u003eClasse: satisfeito_com_pedido\",\"Status do Pedido:delivered\\u003cbr\\u003eClasse: satisfeito_com_pedido\",\"Status do Pedido:delivered\\u003cbr\\u003eClasse: satisfeito_com_pedido\",\"Status do Pedido:delivered\\u003cbr\\u003eClasse: problemas_de_entrega\",\"Status do Pedido:delivered\\u003cbr\\u003eClasse: problemas_de_entrega\",\"Status do Pedido:delivered\\u003cbr\\u003eClasse: satisfeito_com_pedido\",\"Status do Pedido:delivered\\u003cbr\\u003eClasse: satisfeito_com_pedido\",\"Status do Pedido:delivered\\u003cbr\\u003eClasse: satisfeito_com_pedido\",null,\"Status do Pedido:delivered\\u003cbr\\u003eClasse: satisfeito_com_pedido\",\"Status do Pedido:delivered\\u003cbr\\u003eClasse: satisfeito_com_pedido\",\"Status do Pedido:delivered\\u003cbr\\u003eClasse: satisfeito_com_pedido\",\"Status do Pedido:delivered\\u003cbr\\u003eClasse: problemas_de_qualidade\",\"Status do Pedido:delivered\\u003cbr\\u003eClasse: satisfeito_com_pedido\",\"Status do Pedido:delivered\\u003cbr\\u003eClasse: satisfeito_com_pedido\",\"Status do Pedido:delivered\\u003cbr\\u003eClasse: satisfeito_com_pedido\",\"Status do Pedido:delivered\\u003cbr\\u003eClasse: satisfeito_com_pedido\",\"Status do Pedido:delivered\\u003cbr\\u003eClasse: problemas_de_entrega\",\"Status do Pedido:delivered\\u003cbr\\u003eClasse: satisfeito_com_pedido\",\"Status do Pedido:delivered\\u003cbr\\u003eClasse: satisfeito_com_pedido\",\"Status do Pedido:delivered\\u003cbr\\u003eClasse: satisfeito_com_pedido\",\"Status do Pedido:delivered\\u003cbr\\u003eClasse: satisfeito_com_pedido\",\"Status do Pedido:delivered\\u003cbr\\u003eClasse: satisfeito_com_pedido\",\"Status do Pedido:delivered\\u003cbr\\u003eClasse: satisfeito_com_pedido\",\"Status do Pedido:shipped\\u003cbr\\u003eClasse: problemas_de_qualidade\",\"Status do Pedido:delivered\\u003cbr\\u003eClasse: satisfeito_com_pedido\",null,\"Status do Pedido:delivered\\u003cbr\\u003eClasse: problemas_de_qualidade\",\"Status do Pedido:delivered\\u003cbr\\u003eClasse: satisfeito_com_pedido\",\"Status do Pedido:delivered\\u003cbr\\u003eClasse: satisfeito_com_pedido\",\"Status do Pedido:delivered\\u003cbr\\u003eClasse: satisfeito_com_pedido\",\"Status do Pedido:delivered\\u003cbr\\u003eClasse: satisfeito_com_pedido\",\"Status do Pedido:delivered\\u003cbr\\u003eClasse: problemas_de_entrega\",\"Status do Pedido:delivered\\u003cbr\\u003eClasse: problemas_de_entrega\",\"Status do Pedido:delivered\\u003cbr\\u003eClasse: satisfeito_com_pedido\",\"Status do Pedido:delivered\\u003cbr\\u003eClasse: satisfeito_com_pedido\",\"Status do Pedido:delivered\\u003cbr\\u003eClasse: problemas_de_entrega\",\"Status do Pedido:delivered\\u003cbr\\u003eClasse: problemas_de_qualidade\",\"Status do Pedido:delivered\\u003cbr\\u003eClasse: problemas_de_entrega\",\"Status do Pedido:delivered\\u003cbr\\u003eClasse: problemas_de_entrega\",\"Status do Pedido:delivered\\u003cbr\\u003eClasse: satisfeito_com_pedido\",\"Status do Pedido:delivered\\u003cbr\\u003eClasse: satisfeito_com_pedido\",\"Status do Pedido:delivered\\u003cbr\\u003eClasse: satisfeito_com_pedido\",\"Status do Pedido:delivered\\u003cbr\\u003eClasse: problemas_de_entrega\",\"Status do Pedido:delivered\\u003cbr\\u003eClasse: satisfeito_com_pedido\",\"Status do Pedido:delivered\\u003cbr\\u003eClasse: satisfeito_com_pedido\",\"Status do Pedido:delivered\\u003cbr\\u003eClasse: satisfeito_com_pedido\",\"Status do Pedido:delivered\\u003cbr\\u003eClasse: problemas_de_entrega\",\"Status do Pedido:delivered\\u003cbr\\u003eClasse: problemas_de_entrega\",\"Status do Pedido:delivered\\u003cbr\\u003eClasse: satisfeito_com_pedido\",\"Status do Pedido:delivered\\u003cbr\\u003eClasse: satisfeito_com_pedido\",\"Status do Pedido:delivered\\u003cbr\\u003eClasse: satisfeito_com_pedido\",\"Status do Pedido:delivered\\u003cbr\\u003eClasse: satisfeito_com_pedido\",\"Status do Pedido:delivered\\u003cbr\\u003eClasse: problemas_de_entrega\",\"Status do Pedido:delivered\\u003cbr\\u003eClasse: satisfeito_com_pedido\",null,\"Status do Pedido:delivered\\u003cbr\\u003eClasse: satisfeito_com_pedido\",\"Status do Pedido:delivered\\u003cbr\\u003eClasse: problemas_de_entrega\",\"Status do Pedido:delivered\\u003cbr\\u003eClasse: problemas_de_entrega\",\"Status do Pedido:delivered\\u003cbr\\u003eClasse: satisfeito_com_pedido\",\"Status do Pedido:delivered\\u003cbr\\u003eClasse: satisfeito_com_pedido\",\"Status do Pedido:delivered\\u003cbr\\u003eClasse: satisfeito_com_pedido\",\"Status do Pedido:delivered\\u003cbr\\u003eClasse: problemas_de_qualidade\",\"Status do Pedido:delivered\\u003cbr\\u003eClasse: problemas_de_entrega\",\"Status do Pedido:delivered\\u003cbr\\u003eClasse: problemas_de_entrega\",\"Status do Pedido:delivered\\u003cbr\\u003eClasse: problemas_de_entrega\",\"Status do Pedido:delivered\\u003cbr\\u003eClasse: satisfeito_com_pedido\",\"Status do Pedido:delivered\\u003cbr\\u003eClasse: satisfeito_com_pedido\",\"Status do Pedido:delivered\\u003cbr\\u003eClasse: problemas_de_entrega\",\"Status do Pedido:delivered\\u003cbr\\u003eClasse: problemas_de_entrega\",\"Status do Pedido:delivered\\u003cbr\\u003eClasse: satisfeito_com_pedido\",\"Status do Pedido:delivered\\u003cbr\\u003eClasse: problemas_de_qualidade\",\"Status do Pedido:delivered\\u003cbr\\u003eClasse: satisfeito_com_pedido\",\"Status do Pedido:delivered\\u003cbr\\u003eClasse: satisfeito_com_pedido\",\"Status do Pedido:delivered\\u003cbr\\u003eClasse: satisfeito_com_pedido\",\"Status do Pedido:delivered\\u003cbr\\u003eClasse: satisfeito_com_pedido\",\"Status do Pedido:delivered\\u003cbr\\u003eClasse: satisfeito_com_pedido\",\"Status do Pedido:delivered\\u003cbr\\u003eClasse: problemas_de_qualidade\",\"Status do Pedido:delivered\\u003cbr\\u003eClasse: satisfeito_com_pedido\",\"Status do Pedido:delivered\\u003cbr\\u003eClasse: satisfeito_com_pedido\",\"Status do Pedido:delivered\\u003cbr\\u003eClasse: satisfeito_com_pedido\",\"Status do Pedido:delivered\\u003cbr\\u003eClasse: satisfeito_com_pedido\",null,\"Status do Pedido:processing\\u003cbr\\u003eClasse: problemas_de_qualidade\",\"Status do Pedido:delivered\\u003cbr\\u003eClasse: satisfeito_com_pedido\",\"Status do Pedido:delivered\\u003cbr\\u003eClasse: problemas_de_qualidade\",\"Status do Pedido:delivered\\u003cbr\\u003eClasse: satisfeito_com_pedido\",\"Status do Pedido:delivered\\u003cbr\\u003eClasse: satisfeito_com_pedido\",\"Status do Pedido:delivered\\u003cbr\\u003eClasse: satisfeito_com_pedido\",\"Status do Pedido:delivered\\u003cbr\\u003eClasse: satisfeito_com_pedido\",\"Status do Pedido:delivered\\u003cbr\\u003eClasse: satisfeito_com_pedido\",\"Status do Pedido:delivered\\u003cbr\\u003eClasse: satisfeito_com_pedido\",\"Status do Pedido:delivered\\u003cbr\\u003eClasse: satisfeito_com_pedido\",\"Status do Pedido:delivered\\u003cbr\\u003eClasse: satisfeito_com_pedido\",\"Status do Pedido:delivered\\u003cbr\\u003eClasse: satisfeito_com_pedido\",null,\"Status do Pedido:delivered\\u003cbr\\u003eClasse: satisfeito_com_pedido\",\"Status do Pedido:delivered\\u003cbr\\u003eClasse: problemas_de_qualidade\",\"Status do Pedido:delivered\\u003cbr\\u003eClasse: problemas_de_entrega\",\"Status do Pedido:delivered\\u003cbr\\u003eClasse: satisfeito_com_pedido\",\"Status do Pedido:delivered\\u003cbr\\u003eClasse: satisfeito_com_pedido\",\"Status do Pedido:delivered\\u003cbr\\u003eClasse: problemas_de_qualidade\",\"Status do Pedido:delivered\\u003cbr\\u003eClasse: satisfeito_com_pedido\",\"Status do Pedido:delivered\\u003cbr\\u003eClasse: satisfeito_com_pedido\",\"Status do Pedido:canceled\\u003cbr\\u003eClasse: problemas_de_entrega\",\"Status do Pedido:delivered\\u003cbr\\u003eClasse: problemas_de_entrega\",\"Status do Pedido:delivered\\u003cbr\\u003eClasse: satisfeito_com_pedido\",\"Status do Pedido:delivered\\u003cbr\\u003eClasse: problemas_de_qualidade\",\"Status do Pedido:delivered\\u003cbr\\u003eClasse: satisfeito_com_pedido\",\"Status do Pedido:delivered\\u003cbr\\u003eClasse: problemas_de_qualidade\",\"Status do Pedido:delivered\\u003cbr\\u003eClasse: problemas_de_qualidade\",\"Status do Pedido:delivered\\u003cbr\\u003eClasse: problemas_de_qualidade\",\"Status do Pedido:delivered\\u003cbr\\u003eClasse: problemas_de_qualidade\",\"Status do Pedido:delivered\\u003cbr\\u003eClasse: satisfeito_com_pedido\",\"Status do Pedido:delivered\\u003cbr\\u003eClasse: satisfeito_com_pedido\",\"Status do Pedido:delivered\\u003cbr\\u003eClasse: problemas_de_qualidade\",\"Status do Pedido:delivered\\u003cbr\\u003eClasse: satisfeito_com_pedido\",\"Status do Pedido:delivered\\u003cbr\\u003eClasse: satisfeito_com_pedido\",\"Status do Pedido:delivered\\u003cbr\\u003eClasse: satisfeito_com_pedido\",null,\"Status do Pedido:delivered\\u003cbr\\u003eClasse: problemas_de_entrega\",\"Status do Pedido:delivered\\u003cbr\\u003eClasse: problemas_de_entrega\",\"Status do Pedido:delivered\\u003cbr\\u003eClasse: satisfeito_com_pedido\",\"Status do Pedido:delivered\\u003cbr\\u003eClasse: satisfeito_com_pedido\",\"Status do Pedido:delivered\\u003cbr\\u003eClasse: satisfeito_com_pedido\",null,\"Status do Pedido:delivered\\u003cbr\\u003eClasse: satisfeito_com_pedido\",\"Status do Pedido:delivered\\u003cbr\\u003eClasse: satisfeito_com_pedido\",\"Status do Pedido:delivered\\u003cbr\\u003eClasse: problemas_de_entrega\",\"Status do Pedido:delivered\\u003cbr\\u003eClasse: satisfeito_com_pedido\",\"Status do Pedido:delivered\\u003cbr\\u003eClasse: satisfeito_com_pedido\",\"Status do Pedido:delivered\\u003cbr\\u003eClasse: satisfeito_com_pedido\",\"Status do Pedido:delivered\\u003cbr\\u003eClasse: satisfeito_com_pedido\",\"Status do Pedido:delivered\\u003cbr\\u003eClasse: satisfeito_com_pedido\",\"Status do Pedido:delivered\\u003cbr\\u003eClasse: problemas_de_qualidade\",\"Status do Pedido:delivered\\u003cbr\\u003eClasse: satisfeito_com_pedido\",\"Status do Pedido:delivered\\u003cbr\\u003eClasse: satisfeito_com_pedido\",\"Status do Pedido:delivered\\u003cbr\\u003eClasse: problemas_de_qualidade\",\"Status do Pedido:delivered\\u003cbr\\u003eClasse: satisfeito_com_pedido\",\"Status do Pedido:delivered\\u003cbr\\u003eClasse: problemas_de_entrega\",\"Status do Pedido:delivered\\u003cbr\\u003eClasse: satisfeito_com_pedido\",\"Status do Pedido:delivered\\u003cbr\\u003eClasse: satisfeito_com_pedido\",\"Status do Pedido:delivered\\u003cbr\\u003eClasse: satisfeito_com_pedido\",\"Status do Pedido:delivered\\u003cbr\\u003eClasse: satisfeito_com_pedido\",\"Status do Pedido:delivered\\u003cbr\\u003eClasse: satisfeito_com_pedido\",\"Status do Pedido:delivered\\u003cbr\\u003eClasse: problemas_de_entrega\",\"Status do Pedido:delivered\\u003cbr\\u003eClasse: satisfeito_com_pedido\",\"Status do Pedido:delivered\\u003cbr\\u003eClasse: satisfeito_com_pedido\",\"Status do Pedido:delivered\\u003cbr\\u003eClasse: satisfeito_com_pedido\",\"Status do Pedido:delivered\\u003cbr\\u003eClasse: satisfeito_com_pedido\",\"Status do Pedido:delivered\\u003cbr\\u003eClasse: satisfeito_com_pedido\",\"Status do Pedido:delivered\\u003cbr\\u003eClasse: satisfeito_com_pedido\",\"Status do Pedido:delivered\\u003cbr\\u003eClasse: satisfeito_com_pedido\",\"Status do Pedido:delivered\\u003cbr\\u003eClasse: satisfeito_com_pedido\",\"Status do Pedido:delivered\\u003cbr\\u003eClasse: satisfeito_com_pedido\",\"Status do Pedido:delivered\\u003cbr\\u003eClasse: problemas_de_entrega\",\"Status do Pedido:canceled\\u003cbr\\u003eClasse: problemas_de_entrega\",\"Status do Pedido:shipped\\u003cbr\\u003eClasse: problemas_de_qualidade\",\"Status do Pedido:delivered\\u003cbr\\u003eClasse: satisfeito_com_pedido\",\"Status do Pedido:delivered\\u003cbr\\u003eClasse: satisfeito_com_pedido\",\"Status do Pedido:delivered\\u003cbr\\u003eClasse: satisfeito_com_pedido\",\"Status do Pedido:delivered\\u003cbr\\u003eClasse: satisfeito_com_pedido\",\"Status do Pedido:shipped\\u003cbr\\u003eClasse: problemas_de_entrega\",\"Status do Pedido:delivered\\u003cbr\\u003eClasse: satisfeito_com_pedido\",\"Status do Pedido:delivered\\u003cbr\\u003eClasse: problemas_de_entrega\",\"Status do Pedido:delivered\\u003cbr\\u003eClasse: problemas_de_qualidade\",\"Status do Pedido:shipped\\u003cbr\\u003eClasse: problemas_de_entrega\",\"Status do Pedido:delivered\\u003cbr\\u003eClasse: problemas_de_qualidade\",\"Status do Pedido:delivered\\u003cbr\\u003eClasse: satisfeito_com_pedido\",\"Status do Pedido:delivered\\u003cbr\\u003eClasse: problemas_de_entrega\",\"Status do Pedido:invoiced\\u003cbr\\u003eClasse: problemas_de_entrega\",\"Status do Pedido:delivered\\u003cbr\\u003eClasse: problemas_de_entrega\",\"Status do Pedido:delivered\\u003cbr\\u003eClasse: satisfeito_com_pedido\",\"Status do Pedido:delivered\\u003cbr\\u003eClasse: problemas_de_entrega\",\"Status do Pedido:delivered\\u003cbr\\u003eClasse: satisfeito_com_pedido\",\"Status do Pedido:delivered\\u003cbr\\u003eClasse: satisfeito_com_pedido\",\"Status do Pedido:delivered\\u003cbr\\u003eClasse: problemas_de_entrega\",\"Status do Pedido:delivered\\u003cbr\\u003eClasse: satisfeito_com_pedido\",\"Status do Pedido:delivered\\u003cbr\\u003eClasse: problemas_de_entrega\",\"Status do Pedido:delivered\\u003cbr\\u003eClasse: satisfeito_com_pedido\",null,\"Status do Pedido:delivered\\u003cbr\\u003eClasse: satisfeito_com_pedido\",\"Status do Pedido:delivered\\u003cbr\\u003eClasse: satisfeito_com_pedido\",\"Status do Pedido:delivered\\u003cbr\\u003eClasse: satisfeito_com_pedido\",\"Status do Pedido:delivered\\u003cbr\\u003eClasse: satisfeito_com_pedido\",\"Status do Pedido:canceled\\u003cbr\\u003eClasse: problemas_de_entrega\",\"Status do Pedido:delivered\\u003cbr\\u003eClasse: satisfeito_com_pedido\",\"Status do Pedido:delivered\\u003cbr\\u003eClasse: satisfeito_com_pedido\",\"Status do Pedido:delivered\\u003cbr\\u003eClasse: problemas_de_entrega\",\"Status do Pedido:delivered\\u003cbr\\u003eClasse: problemas_de_entrega\",\"Status do Pedido:delivered\\u003cbr\\u003eClasse: satisfeito_com_pedido\",\"Status do Pedido:delivered\\u003cbr\\u003eClasse: problemas_de_qualidade\",\"Status do Pedido:delivered\\u003cbr\\u003eClasse: problemas_de_entrega\",\"Status do Pedido:delivered\\u003cbr\\u003eClasse: satisfeito_com_pedido\",\"Status do Pedido:delivered\\u003cbr\\u003eClasse: problemas_de_entrega\",\"Status do Pedido:delivered\\u003cbr\\u003eClasse: problemas_de_entrega\",\"Status do Pedido:delivered\\u003cbr\\u003eClasse: problemas_de_entrega\",\"Status do Pedido:delivered\\u003cbr\\u003eClasse: problemas_de_entrega\",\"Status do Pedido:delivered\\u003cbr\\u003eClasse: satisfeito_com_pedido\",\"Status do Pedido:delivered\\u003cbr\\u003eClasse: problemas_de_qualidade\",\"Status do Pedido:delivered\\u003cbr\\u003eClasse: satisfeito_com_pedido\",\"Status do Pedido:delivered\\u003cbr\\u003eClasse: satisfeito_com_pedido\",\"Status do Pedido:delivered\\u003cbr\\u003eClasse: problemas_de_entrega\",\"Status do Pedido:delivered\\u003cbr\\u003eClasse: satisfeito_com_pedido\",\"Status do Pedido:processing\\u003cbr\\u003eClasse: problemas_de_qualidade\",\"Status do Pedido:delivered\\u003cbr\\u003eClasse: problemas_de_entrega\",\"Status do Pedido:delivered\\u003cbr\\u003eClasse: problemas_de_entrega\",\"Status do Pedido:delivered\\u003cbr\\u003eClasse: problemas_de_entrega\",\"Status do Pedido:delivered\\u003cbr\\u003eClasse: satisfeito_com_pedido\",\"Status do Pedido:delivered\\u003cbr\\u003eClasse: problemas_de_entrega\",\"Status do Pedido:delivered\\u003cbr\\u003eClasse: satisfeito_com_pedido\",\"Status do Pedido:delivered\\u003cbr\\u003eClasse: problemas_de_entrega\",\"Status do Pedido:delivered\\u003cbr\\u003eClasse: satisfeito_com_pedido\",\"Status do Pedido:delivered\\u003cbr\\u003eClasse: satisfeito_com_pedido\",\"Status do Pedido:delivered\\u003cbr\\u003eClasse: problemas_de_entrega\",\"Status do Pedido:delivered\\u003cbr\\u003eClasse: satisfeito_com_pedido\",\"Status do Pedido:delivered\\u003cbr\\u003eClasse: problemas_de_entrega\",\"Status do Pedido:delivered\\u003cbr\\u003eClasse: problemas_de_entrega\",\"Status do Pedido:delivered\\u003cbr\\u003eClasse: problemas_de_entrega\",\"Status do Pedido:delivered\\u003cbr\\u003eClasse: problemas_de_entrega\",\"Status do Pedido:delivered\\u003cbr\\u003eClasse: problemas_de_qualidade\",\"Status do Pedido:delivered\\u003cbr\\u003eClasse: satisfeito_com_pedido\",\"Status do Pedido:delivered\\u003cbr\\u003eClasse: satisfeito_com_pedido\",\"Status do Pedido:shipped\\u003cbr\\u003eClasse: satisfeito_com_pedido\",\"Status do Pedido:delivered\\u003cbr\\u003eClasse: satisfeito_com_pedido\",\"Status do Pedido:delivered\\u003cbr\\u003eClasse: satisfeito_com_pedido\",\"Status do Pedido:delivered\\u003cbr\\u003eClasse: satisfeito_com_pedido\",\"Status do Pedido:delivered\\u003cbr\\u003eClasse: problemas_de_qualidade\",\"Status do Pedido:delivered\\u003cbr\\u003eClasse: satisfeito_com_pedido\",\"Status do Pedido:delivered\\u003cbr\\u003eClasse: satisfeito_com_pedido\",\"Status do Pedido:delivered\\u003cbr\\u003eClasse: satisfeito_com_pedido\",\"Status do Pedido:delivered\\u003cbr\\u003eClasse: problemas_de_entrega\",\"Status do Pedido:delivered\\u003cbr\\u003eClasse: problemas_de_qualidade\",\"Status do Pedido:delivered\\u003cbr\\u003eClasse: problemas_de_qualidade\",\"Status do Pedido:delivered\\u003cbr\\u003eClasse: satisfeito_com_pedido\",\"Status do Pedido:delivered\\u003cbr\\u003eClasse: problemas_de_entrega\",\"Status do Pedido:delivered\\u003cbr\\u003eClasse: problemas_de_entrega\",\"Status do Pedido:delivered\\u003cbr\\u003eClasse: satisfeito_com_pedido\",\"Status do Pedido:delivered\\u003cbr\\u003eClasse: satisfeito_com_pedido\",\"Status do Pedido:delivered\\u003cbr\\u003eClasse: satisfeito_com_pedido\",\"Status do Pedido:delivered\\u003cbr\\u003eClasse: satisfeito_com_pedido\",\"Status do Pedido:canceled\\u003cbr\\u003eClasse: problemas_de_entrega\",\"Status do Pedido:delivered\\u003cbr\\u003eClasse: satisfeito_com_pedido\",\"Status do Pedido:delivered\\u003cbr\\u003eClasse: problemas_de_entrega\",\"Status do Pedido:delivered\\u003cbr\\u003eClasse: problemas_de_entrega\",\"Status do Pedido:delivered\\u003cbr\\u003eClasse: satisfeito_com_pedido\",\"Status do Pedido:delivered\\u003cbr\\u003eClasse: satisfeito_com_pedido\",\"Status do Pedido:delivered\\u003cbr\\u003eClasse: problemas_de_entrega\",\"Status do Pedido:delivered\\u003cbr\\u003eClasse: problemas_de_entrega\",\"Status do Pedido:delivered\\u003cbr\\u003eClasse: problemas_de_qualidade\",\"Status do Pedido:delivered\\u003cbr\\u003eClasse: problemas_de_entrega\",\"Status do Pedido:delivered\\u003cbr\\u003eClasse: satisfeito_com_pedido\",\"Status do Pedido:delivered\\u003cbr\\u003eClasse: satisfeito_com_pedido\",\"Status do Pedido:delivered\\u003cbr\\u003eClasse: satisfeito_com_pedido\",null,\"Status do Pedido:delivered\\u003cbr\\u003eClasse: satisfeito_com_pedido\",\"Status do Pedido:delivered\\u003cbr\\u003eClasse: satisfeito_com_pedido\",\"Status do Pedido:delivered\\u003cbr\\u003eClasse: problemas_de_entrega\",\"Status do Pedido:delivered\\u003cbr\\u003eClasse: satisfeito_com_pedido\",\"Status do Pedido:invoiced\\u003cbr\\u003eClasse: problemas_de_qualidade\",null,\"Status do Pedido:delivered\\u003cbr\\u003eClasse: satisfeito_com_pedido\",\"Status do Pedido:delivered\\u003cbr\\u003eClasse: satisfeito_com_pedido\",\"Status do Pedido:delivered\\u003cbr\\u003eClasse: satisfeito_com_pedido\",\"Status do Pedido:delivered\\u003cbr\\u003eClasse: problemas_de_entrega\",null,\"Status do Pedido:delivered\\u003cbr\\u003eClasse: satisfeito_com_pedido\",\"Status do Pedido:delivered\\u003cbr\\u003eClasse: satisfeito_com_pedido\",\"Status do Pedido:delivered\\u003cbr\\u003eClasse: satisfeito_com_pedido\",\"Status do Pedido:delivered\\u003cbr\\u003eClasse: problemas_de_entrega\",\"Status do Pedido:delivered\\u003cbr\\u003eClasse: problemas_de_entrega\",\"Status do Pedido:delivered\\u003cbr\\u003eClasse: problemas_de_entrega\",\"Status do Pedido:delivered\\u003cbr\\u003eClasse: satisfeito_com_pedido\",\"Status do Pedido:delivered\\u003cbr\\u003eClasse: problemas_de_entrega\",\"Status do Pedido:delivered\\u003cbr\\u003eClasse: satisfeito_com_pedido\",\"Status do Pedido:delivered\\u003cbr\\u003eClasse: satisfeito_com_pedido\",\"Status do Pedido:delivered\\u003cbr\\u003eClasse: problemas_de_qualidade\",\"Status do Pedido:delivered\\u003cbr\\u003eClasse: problemas_de_qualidade\",\"Status do Pedido:delivered\\u003cbr\\u003eClasse: problemas_de_entrega\",\"Status do Pedido:delivered\\u003cbr\\u003eClasse: satisfeito_com_pedido\",null,\"Status do Pedido:delivered\\u003cbr\\u003eClasse: satisfeito_com_pedido\",\"Status do Pedido:delivered\\u003cbr\\u003eClasse: satisfeito_com_pedido\",\"Status do Pedido:delivered\\u003cbr\\u003eClasse: satisfeito_com_pedido\",\"Status do Pedido:delivered\\u003cbr\\u003eClasse: satisfeito_com_pedido\",\"Status do Pedido:delivered\\u003cbr\\u003eClasse: problemas_de_entrega\",null,\"Status do Pedido:delivered\\u003cbr\\u003eClasse: satisfeito_com_pedido\",\"Status do Pedido:delivered\\u003cbr\\u003eClasse: satisfeito_com_pedido\",\"Status do Pedido:delivered\\u003cbr\\u003eClasse: satisfeito_com_pedido\",\"Status do Pedido:delivered\\u003cbr\\u003eClasse: problemas_de_qualidade\",\"Status do Pedido:delivered\\u003cbr\\u003eClasse: problemas_de_qualidade\",\"Status do Pedido:delivered\\u003cbr\\u003eClasse: satisfeito_com_pedido\",\"Status do Pedido:delivered\\u003cbr\\u003eClasse: problemas_de_entrega\",\"Status do Pedido:delivered\\u003cbr\\u003eClasse: problemas_de_entrega\",\"Status do Pedido:delivered\\u003cbr\\u003eClasse: satisfeito_com_pedido\",\"Status do Pedido:delivered\\u003cbr\\u003eClasse: satisfeito_com_pedido\",\"Status do Pedido:delivered\\u003cbr\\u003eClasse: satisfeito_com_pedido\",\"Status do Pedido:delivered\\u003cbr\\u003eClasse: problemas_de_entrega\",\"Status do Pedido:delivered\\u003cbr\\u003eClasse: problemas_de_entrega\",\"Status do Pedido:delivered\\u003cbr\\u003eClasse: problemas_de_entrega\",\"Status do Pedido:delivered\\u003cbr\\u003eClasse: satisfeito_com_pedido\",\"Status do Pedido:delivered\\u003cbr\\u003eClasse: satisfeito_com_pedido\",\"Status do Pedido:delivered\\u003cbr\\u003eClasse: problemas_de_qualidade\",null,\"Status do Pedido:delivered\\u003cbr\\u003eClasse: satisfeito_com_pedido\",\"Status do Pedido:delivered\\u003cbr\\u003eClasse: problemas_de_entrega\",\"Status do Pedido:delivered\\u003cbr\\u003eClasse: satisfeito_com_pedido\",\"Status do Pedido:delivered\\u003cbr\\u003eClasse: satisfeito_com_pedido\",\"Status do Pedido:delivered\\u003cbr\\u003eClasse: satisfeito_com_pedido\",\"Status do Pedido:delivered\\u003cbr\\u003eClasse: problemas_de_qualidade\",\"Status do Pedido:delivered\\u003cbr\\u003eClasse: problemas_de_qualidade\",\"Status do Pedido:delivered\\u003cbr\\u003eClasse: problemas_de_entrega\",\"Status do Pedido:delivered\\u003cbr\\u003eClasse: problemas_de_qualidade\",\"Status do Pedido:delivered\\u003cbr\\u003eClasse: problemas_de_qualidade\",\"Status do Pedido:delivered\\u003cbr\\u003eClasse: satisfeito_com_pedido\",\"Status do Pedido:delivered\\u003cbr\\u003eClasse: satisfeito_com_pedido\",\"Status do Pedido:delivered\\u003cbr\\u003eClasse: satisfeito_com_pedido\",\"Status do Pedido:delivered\\u003cbr\\u003eClasse: satisfeito_com_pedido\",\"Status do Pedido:delivered\\u003cbr\\u003eClasse: satisfeito_com_pedido\",\"Status do Pedido:delivered\\u003cbr\\u003eClasse: problemas_de_entrega\",\"Status do Pedido:delivered\\u003cbr\\u003eClasse: satisfeito_com_pedido\",\"Status do Pedido:delivered\\u003cbr\\u003eClasse: satisfeito_com_pedido\",\"Status do Pedido:delivered\\u003cbr\\u003eClasse: satisfeito_com_pedido\",\"Status do Pedido:delivered\\u003cbr\\u003eClasse: satisfeito_com_pedido\",null,\"Status do Pedido:delivered\\u003cbr\\u003eClasse: satisfeito_com_pedido\",\"Status do Pedido:delivered\\u003cbr\\u003eClasse: satisfeito_com_pedido\",\"Status do Pedido:delivered\\u003cbr\\u003eClasse: problemas_de_entrega\",\"Status do Pedido:delivered\\u003cbr\\u003eClasse: satisfeito_com_pedido\",\"Status do Pedido:delivered\\u003cbr\\u003eClasse: satisfeito_com_pedido\",\"Status do Pedido:delivered\\u003cbr\\u003eClasse: satisfeito_com_pedido\",\"Status do Pedido:delivered\\u003cbr\\u003eClasse: satisfeito_com_pedido\",\"Status do Pedido:delivered\\u003cbr\\u003eClasse: satisfeito_com_pedido\",\"Status do Pedido:delivered\\u003cbr\\u003eClasse: problemas_de_entrega\",\"Status do Pedido:delivered\\u003cbr\\u003eClasse: satisfeito_com_pedido\",\"Status do Pedido:delivered\\u003cbr\\u003eClasse: problemas_de_entrega\",\"Status do Pedido:delivered\\u003cbr\\u003eClasse: satisfeito_com_pedido\",\"Status do Pedido:delivered\\u003cbr\\u003eClasse: problemas_de_entrega\",\"Status do Pedido:delivered\\u003cbr\\u003eClasse: satisfeito_com_pedido\",\"Status do Pedido:delivered\\u003cbr\\u003eClasse: problemas_de_qualidade\",\"Status do Pedido:delivered\\u003cbr\\u003eClasse: satisfeito_com_pedido\",\"Status do Pedido:delivered\\u003cbr\\u003eClasse: satisfeito_com_pedido\",\"Status do Pedido:delivered\\u003cbr\\u003eClasse: satisfeito_com_pedido\",null,\"Status do Pedido:delivered\\u003cbr\\u003eClasse: satisfeito_com_pedido\",\"Status do Pedido:delivered\\u003cbr\\u003eClasse: satisfeito_com_pedido\",\"Status do Pedido:delivered\\u003cbr\\u003eClasse: satisfeito_com_pedido\",\"Status do Pedido:delivered\\u003cbr\\u003eClasse: satisfeito_com_pedido\",\"Status do Pedido:delivered\\u003cbr\\u003eClasse: problemas_de_entrega\",\"Status do Pedido:delivered\\u003cbr\\u003eClasse: problemas_de_qualidade\",\"Status do Pedido:delivered\\u003cbr\\u003eClasse: problemas_de_qualidade\",\"Status do Pedido:delivered\\u003cbr\\u003eClasse: problemas_de_entrega\",\"Status do Pedido:delivered\\u003cbr\\u003eClasse: satisfeito_com_pedido\",\"Status do Pedido:delivered\\u003cbr\\u003eClasse: problemas_de_qualidade\",null,\"Status do Pedido:delivered\\u003cbr\\u003eClasse: satisfeito_com_pedido\",\"Status do Pedido:delivered\\u003cbr\\u003eClasse: satisfeito_com_pedido\",\"Status do Pedido:delivered\\u003cbr\\u003eClasse: problemas_de_entrega\",\"Status do Pedido:delivered\\u003cbr\\u003eClasse: problemas_de_entrega\",\"Status do Pedido:delivered\\u003cbr\\u003eClasse: problemas_de_entrega\",\"Status do Pedido:delivered\\u003cbr\\u003eClasse: problemas_de_entrega\",\"Status do Pedido:delivered\\u003cbr\\u003eClasse: problemas_de_qualidade\",\"Status do Pedido:delivered\\u003cbr\\u003eClasse: problemas_de_entrega\",\"Status do Pedido:delivered\\u003cbr\\u003eClasse: problemas_de_entrega\",\"Status do Pedido:delivered\\u003cbr\\u003eClasse: satisfeito_com_pedido\",\"Status do Pedido:delivered\\u003cbr\\u003eClasse: satisfeito_com_pedido\",\"Status do Pedido:delivered\\u003cbr\\u003eClasse: problemas_de_entrega\",\"Status do Pedido:delivered\\u003cbr\\u003eClasse: problemas_de_entrega\",\"Status do Pedido:delivered\\u003cbr\\u003eClasse: problemas_de_entrega\",\"Status do Pedido:delivered\\u003cbr\\u003eClasse: satisfeito_com_pedido\",\"Status do Pedido:delivered\\u003cbr\\u003eClasse: problemas_de_qualidade\",\"Status do Pedido:delivered\\u003cbr\\u003eClasse: satisfeito_com_pedido\",\"Status do Pedido:delivered\\u003cbr\\u003eClasse: satisfeito_com_pedido\",\"Status do Pedido:delivered\\u003cbr\\u003eClasse: satisfeito_com_pedido\",\"Status do Pedido:delivered\\u003cbr\\u003eClasse: satisfeito_com_pedido\",\"Status do Pedido:delivered\\u003cbr\\u003eClasse: problemas_de_entrega\",\"Status do Pedido:delivered\\u003cbr\\u003eClasse: problemas_de_entrega\",\"Status do Pedido:delivered\\u003cbr\\u003eClasse: satisfeito_com_pedido\",\"Status do Pedido:delivered\\u003cbr\\u003eClasse: satisfeito_com_pedido\",\"Status do Pedido:delivered\\u003cbr\\u003eClasse: problemas_de_qualidade\",\"Status do Pedido:delivered\\u003cbr\\u003eClasse: satisfeito_com_pedido\",\"Status do Pedido:delivered\\u003cbr\\u003eClasse: satisfeito_com_pedido\",\"Status do Pedido:delivered\\u003cbr\\u003eClasse: satisfeito_com_pedido\",\"Status do Pedido:delivered\\u003cbr\\u003eClasse: satisfeito_com_pedido\",\"Status do Pedido:delivered\\u003cbr\\u003eClasse: satisfeito_com_pedido\",\"Status do Pedido:delivered\\u003cbr\\u003eClasse: problemas_de_qualidade\",\"Status do Pedido:shipped\\u003cbr\\u003eClasse: problemas_de_qualidade\",\"Status do Pedido:delivered\\u003cbr\\u003eClasse: satisfeito_com_pedido\",\"Status do Pedido:delivered\\u003cbr\\u003eClasse: satisfeito_com_pedido\",\"Status do Pedido:delivered\\u003cbr\\u003eClasse: problemas_de_qualidade\",null,\"Status do Pedido:delivered\\u003cbr\\u003eClasse: satisfeito_com_pedido\",\"Status do Pedido:delivered\\u003cbr\\u003eClasse: problemas_de_entrega\",\"Status do Pedido:delivered\\u003cbr\\u003eClasse: satisfeito_com_pedido\",\"Status do Pedido:delivered\\u003cbr\\u003eClasse: problemas_de_qualidade\",\"Status do Pedido:delivered\\u003cbr\\u003eClasse: satisfeito_com_pedido\",\"Status do Pedido:delivered\\u003cbr\\u003eClasse: satisfeito_com_pedido\",\"Status do Pedido:delivered\\u003cbr\\u003eClasse: satisfeito_com_pedido\",\"Status do Pedido:delivered\\u003cbr\\u003eClasse: satisfeito_com_pedido\",\"Status do Pedido:delivered\\u003cbr\\u003eClasse: satisfeito_com_pedido\",\"Status do Pedido:delivered\\u003cbr\\u003eClasse: satisfeito_com_pedido\",\"Status do Pedido:delivered\\u003cbr\\u003eClasse: problemas_de_qualidade\",\"Status do Pedido:delivered\\u003cbr\\u003eClasse: problemas_de_qualidade\",\"Status do Pedido:delivered\\u003cbr\\u003eClasse: satisfeito_com_pedido\",\"Status do Pedido:delivered\\u003cbr\\u003eClasse: satisfeito_com_pedido\",\"Status do Pedido:delivered\\u003cbr\\u003eClasse: satisfeito_com_pedido\",\"Status do Pedido:delivered\\u003cbr\\u003eClasse: problemas_de_entrega\",\"Status do Pedido:delivered\\u003cbr\\u003eClasse: satisfeito_com_pedido\",\"Status do Pedido:delivered\\u003cbr\\u003eClasse: problemas_de_entrega\",\"Status do Pedido:delivered\\u003cbr\\u003eClasse: satisfeito_com_pedido\",\"Status do Pedido:delivered\\u003cbr\\u003eClasse: problemas_de_entrega\",\"Status do Pedido:delivered\\u003cbr\\u003eClasse: problemas_de_entrega\",\"Status do Pedido:delivered\\u003cbr\\u003eClasse: satisfeito_com_pedido\",\"Status do Pedido:canceled\\u003cbr\\u003eClasse: problemas_de_qualidade\",\"Status do Pedido:delivered\\u003cbr\\u003eClasse: satisfeito_com_pedido\",\"Status do Pedido:delivered\\u003cbr\\u003eClasse: satisfeito_com_pedido\",\"Status do Pedido:delivered\\u003cbr\\u003eClasse: problemas_de_qualidade\",\"Status do Pedido:delivered\\u003cbr\\u003eClasse: satisfeito_com_pedido\",\"Status do Pedido:delivered\\u003cbr\\u003eClasse: problemas_de_entrega\",\"Status do Pedido:delivered\\u003cbr\\u003eClasse: problemas_de_entrega\",\"Status do Pedido:delivered\\u003cbr\\u003eClasse: satisfeito_com_pedido\",\"Status do Pedido:delivered\\u003cbr\\u003eClasse: problemas_de_entrega\",\"Status do Pedido:delivered\\u003cbr\\u003eClasse: satisfeito_com_pedido\",\"Status do Pedido:delivered\\u003cbr\\u003eClasse: satisfeito_com_pedido\",\"Status do Pedido:processing\\u003cbr\\u003eClasse: problemas_de_entrega\",\"Status do Pedido:delivered\\u003cbr\\u003eClasse: problemas_de_entrega\",\"Status do Pedido:delivered\\u003cbr\\u003eClasse: satisfeito_com_pedido\",\"Status do Pedido:delivered\\u003cbr\\u003eClasse: problemas_de_entrega\",null,\"Status do Pedido:delivered\\u003cbr\\u003eClasse: problemas_de_entrega\",null,\"Status do Pedido:delivered\\u003cbr\\u003eClasse: problemas_de_qualidade\",\"Status do Pedido:delivered\\u003cbr\\u003eClasse: problemas_de_entrega\",\"Status do Pedido:delivered\\u003cbr\\u003eClasse: satisfeito_com_pedido\",\"Status do Pedido:delivered\\u003cbr\\u003eClasse: satisfeito_com_pedido\",\"Status do Pedido:delivered\\u003cbr\\u003eClasse: satisfeito_com_pedido\",\"Status do Pedido:delivered\\u003cbr\\u003eClasse: problemas_de_entrega\",null,\"Status do Pedido:canceled\\u003cbr\\u003eClasse: problemas_de_entrega\",\"Status do Pedido:delivered\\u003cbr\\u003eClasse: problemas_de_qualidade\",\"Status do Pedido:delivered\\u003cbr\\u003eClasse: satisfeito_com_pedido\",\"Status do Pedido:delivered\\u003cbr\\u003eClasse: problemas_de_entrega\",\"Status do Pedido:delivered\\u003cbr\\u003eClasse: satisfeito_com_pedido\",\"Status do Pedido:delivered\\u003cbr\\u003eClasse: satisfeito_com_pedido\",\"Status do Pedido:delivered\\u003cbr\\u003eClasse: problemas_de_entrega\",\"Status do Pedido:delivered\\u003cbr\\u003eClasse: satisfeito_com_pedido\",\"Status do Pedido:delivered\\u003cbr\\u003eClasse: satisfeito_com_pedido\",\"Status do Pedido:delivered\\u003cbr\\u003eClasse: problemas_de_qualidade\",\"Status do Pedido:delivered\\u003cbr\\u003eClasse: problemas_de_qualidade\",null,\"Status do Pedido:delivered\\u003cbr\\u003eClasse: problemas_de_qualidade\",\"Status do Pedido:delivered\\u003cbr\\u003eClasse: satisfeito_com_pedido\",\"Status do Pedido:delivered\\u003cbr\\u003eClasse: problemas_de_entrega\",\"Status do Pedido:delivered\\u003cbr\\u003eClasse: problemas_de_entrega\",\"Status do Pedido:delivered\\u003cbr\\u003eClasse: problemas_de_entrega\",\"Status do Pedido:delivered\\u003cbr\\u003eClasse: satisfeito_com_pedido\",\"Status do Pedido:delivered\\u003cbr\\u003eClasse: problemas_de_qualidade\",null,\"Status do Pedido:delivered\\u003cbr\\u003eClasse: problemas_de_entrega\",\"Status do Pedido:delivered\\u003cbr\\u003eClasse: satisfeito_com_pedido\",\"Status do Pedido:delivered\\u003cbr\\u003eClasse: problemas_de_entrega\",\"Status do Pedido:delivered\\u003cbr\\u003eClasse: problemas_de_entrega\",\"Status do Pedido:delivered\\u003cbr\\u003eClasse: satisfeito_com_pedido\",\"Status do Pedido:delivered\\u003cbr\\u003eClasse: satisfeito_com_pedido\",\"Status do Pedido:delivered\\u003cbr\\u003eClasse: satisfeito_com_pedido\",\"Status do Pedido:delivered\\u003cbr\\u003eClasse: problemas_de_entrega\",\"Status do Pedido:delivered\\u003cbr\\u003eClasse: satisfeito_com_pedido\",\"Status do Pedido:delivered\\u003cbr\\u003eClasse: problemas_de_entrega\",null,\"Status do Pedido:delivered\\u003cbr\\u003eClasse: problemas_de_entrega\",\"Status do Pedido:delivered\\u003cbr\\u003eClasse: problemas_de_entrega\",\"Status do Pedido:delivered\\u003cbr\\u003eClasse: problemas_de_entrega\",\"Status do Pedido:delivered\\u003cbr\\u003eClasse: satisfeito_com_pedido\",\"Status do Pedido:delivered\\u003cbr\\u003eClasse: satisfeito_com_pedido\",\"Status do Pedido:delivered\\u003cbr\\u003eClasse: problemas_de_entrega\",\"Status do Pedido:delivered\\u003cbr\\u003eClasse: satisfeito_com_pedido\",\"Status do Pedido:delivered\\u003cbr\\u003eClasse: satisfeito_com_pedido\",\"Status do Pedido:delivered\\u003cbr\\u003eClasse: satisfeito_com_pedido\",\"Status do Pedido:delivered\\u003cbr\\u003eClasse: satisfeito_com_pedido\",\"Status do Pedido:delivered\\u003cbr\\u003eClasse: satisfeito_com_pedido\",\"Status do Pedido:delivered\\u003cbr\\u003eClasse: problemas_de_entrega\",\"Status do Pedido:delivered\\u003cbr\\u003eClasse: satisfeito_com_pedido\",\"Status do Pedido:delivered\\u003cbr\\u003eClasse: problemas_de_entrega\",\"Status do Pedido:delivered\\u003cbr\\u003eClasse: problemas_de_entrega\",\"Status do Pedido:delivered\\u003cbr\\u003eClasse: problemas_de_qualidade\",\"Status do Pedido:delivered\\u003cbr\\u003eClasse: satisfeito_com_pedido\",\"Status do Pedido:delivered\\u003cbr\\u003eClasse: satisfeito_com_pedido\",\"Status do Pedido:delivered\\u003cbr\\u003eClasse: satisfeito_com_pedido\",\"Status do Pedido:delivered\\u003cbr\\u003eClasse: satisfeito_com_pedido\",\"Status do Pedido:delivered\\u003cbr\\u003eClasse: satisfeito_com_pedido\",\"Status do Pedido:delivered\\u003cbr\\u003eClasse: satisfeito_com_pedido\",\"Status do Pedido:delivered\\u003cbr\\u003eClasse: problemas_de_entrega\",\"Status do Pedido:delivered\\u003cbr\\u003eClasse: satisfeito_com_pedido\",\"Status do Pedido:delivered\\u003cbr\\u003eClasse: satisfeito_com_pedido\",\"Status do Pedido:delivered\\u003cbr\\u003eClasse: satisfeito_com_pedido\",\"Status do Pedido:delivered\\u003cbr\\u003eClasse: satisfeito_com_pedido\",\"Status do Pedido:delivered\\u003cbr\\u003eClasse: satisfeito_com_pedido\",\"Status do Pedido:delivered\\u003cbr\\u003eClasse: problemas_de_entrega\",\"Status do Pedido:delivered\\u003cbr\\u003eClasse: problemas_de_qualidade\",\"Status do Pedido:delivered\\u003cbr\\u003eClasse: satisfeito_com_pedido\",\"Status do Pedido:delivered\\u003cbr\\u003eClasse: problemas_de_entrega\",\"Status do Pedido:delivered\\u003cbr\\u003eClasse: satisfeito_com_pedido\",\"Status do Pedido:delivered\\u003cbr\\u003eClasse: satisfeito_com_pedido\",\"Status do Pedido:delivered\\u003cbr\\u003eClasse: satisfeito_com_pedido\",\"Status do Pedido:delivered\\u003cbr\\u003eClasse: satisfeito_com_pedido\",\"Status do Pedido:delivered\\u003cbr\\u003eClasse: problemas_de_entrega\",\"Status do Pedido:delivered\\u003cbr\\u003eClasse: satisfeito_com_pedido\",\"Status do Pedido:delivered\\u003cbr\\u003eClasse: problemas_de_entrega\",\"Status do Pedido:delivered\\u003cbr\\u003eClasse: satisfeito_com_pedido\",\"Status do Pedido:delivered\\u003cbr\\u003eClasse: satisfeito_com_pedido\",\"Status do Pedido:delivered\\u003cbr\\u003eClasse: satisfeito_com_pedido\",\"Status do Pedido:delivered\\u003cbr\\u003eClasse: problemas_de_entrega\",\"Status do Pedido:delivered\\u003cbr\\u003eClasse: satisfeito_com_pedido\",\"Status do Pedido:delivered\\u003cbr\\u003eClasse: satisfeito_com_pedido\",\"Status do Pedido:delivered\\u003cbr\\u003eClasse: satisfeito_com_pedido\",\"Status do Pedido:delivered\\u003cbr\\u003eClasse: problemas_de_entrega\",\"Status do Pedido:delivered\\u003cbr\\u003eClasse: satisfeito_com_pedido\",\"Status do Pedido:delivered\\u003cbr\\u003eClasse: satisfeito_com_pedido\",\"Status do Pedido:delivered\\u003cbr\\u003eClasse: satisfeito_com_pedido\",\"Status do Pedido:delivered\\u003cbr\\u003eClasse: problemas_de_entrega\",\"Status do Pedido:delivered\\u003cbr\\u003eClasse: satisfeito_com_pedido\",null,\"Status do Pedido:delivered\\u003cbr\\u003eClasse: satisfeito_com_pedido\",\"Status do Pedido:delivered\\u003cbr\\u003eClasse: problemas_de_qualidade\",\"Status do Pedido:delivered\\u003cbr\\u003eClasse: satisfeito_com_pedido\",\"Status do Pedido:delivered\\u003cbr\\u003eClasse: satisfeito_com_pedido\",\"Status do Pedido:delivered\\u003cbr\\u003eClasse: satisfeito_com_pedido\",\"Status do Pedido:delivered\\u003cbr\\u003eClasse: satisfeito_com_pedido\",\"Status do Pedido:delivered\\u003cbr\\u003eClasse: problemas_de_entrega\",\"Status do Pedido:delivered\\u003cbr\\u003eClasse: satisfeito_com_pedido\",\"Status do Pedido:delivered\\u003cbr\\u003eClasse: satisfeito_com_pedido\",\"Status do Pedido:delivered\\u003cbr\\u003eClasse: problemas_de_qualidade\",\"Status do Pedido:delivered\\u003cbr\\u003eClasse: satisfeito_com_pedido\",\"Status do Pedido:delivered\\u003cbr\\u003eClasse: satisfeito_com_pedido\",\"Status do Pedido:delivered\\u003cbr\\u003eClasse: satisfeito_com_pedido\",\"Status do Pedido:delivered\\u003cbr\\u003eClasse: problemas_de_qualidade\",\"Status do Pedido:delivered\\u003cbr\\u003eClasse: satisfeito_com_pedido\",\"Status do Pedido:delivered\\u003cbr\\u003eClasse: problemas_de_entrega\",\"Status do Pedido:delivered\\u003cbr\\u003eClasse: problemas_de_entrega\",\"Status do Pedido:delivered\\u003cbr\\u003eClasse: problemas_de_entrega\",\"Status do Pedido:delivered\\u003cbr\\u003eClasse: satisfeito_com_pedido\",\"Status do Pedido:delivered\\u003cbr\\u003eClasse: satisfeito_com_pedido\",\"Status do Pedido:delivered\\u003cbr\\u003eClasse: problemas_de_entrega\",\"Status do Pedido:delivered\\u003cbr\\u003eClasse: problemas_de_qualidade\",\"Status do Pedido:delivered\\u003cbr\\u003eClasse: satisfeito_com_pedido\",\"Status do Pedido:delivered\\u003cbr\\u003eClasse: satisfeito_com_pedido\",\"Status do Pedido:delivered\\u003cbr\\u003eClasse: problemas_de_entrega\",\"Status do Pedido:delivered\\u003cbr\\u003eClasse: problemas_de_qualidade\",\"Status do Pedido:delivered\\u003cbr\\u003eClasse: problemas_de_qualidade\",\"Status do Pedido:delivered\\u003cbr\\u003eClasse: satisfeito_com_pedido\",null,\"Status do Pedido:delivered\\u003cbr\\u003eClasse: problemas_de_entrega\",\"Status do Pedido:delivered\\u003cbr\\u003eClasse: satisfeito_com_pedido\",\"Status do Pedido:delivered\\u003cbr\\u003eClasse: problemas_de_qualidade\",\"Status do Pedido:delivered\\u003cbr\\u003eClasse: satisfeito_com_pedido\",\"Status do Pedido:delivered\\u003cbr\\u003eClasse: satisfeito_com_pedido\",\"Status do Pedido:shipped\\u003cbr\\u003eClasse: problemas_de_qualidade\",\"Status do Pedido:delivered\\u003cbr\\u003eClasse: problemas_de_entrega\",\"Status do Pedido:delivered\\u003cbr\\u003eClasse: satisfeito_com_pedido\",\"Status do Pedido:delivered\\u003cbr\\u003eClasse: satisfeito_com_pedido\",\"Status do Pedido:delivered\\u003cbr\\u003eClasse: satisfeito_com_pedido\",\"Status do Pedido:delivered\\u003cbr\\u003eClasse: problemas_de_qualidade\",\"Status do Pedido:delivered\\u003cbr\\u003eClasse: satisfeito_com_pedido\",\"Status do Pedido:delivered\\u003cbr\\u003eClasse: problemas_de_qualidade\",\"Status do Pedido:delivered\\u003cbr\\u003eClasse: problemas_de_qualidade\",\"Status do Pedido:delivered\\u003cbr\\u003eClasse: problemas_de_entrega\",\"Status do Pedido:delivered\\u003cbr\\u003eClasse: satisfeito_com_pedido\",null,\"Status do Pedido:delivered\\u003cbr\\u003eClasse: satisfeito_com_pedido\",\"Status do Pedido:delivered\\u003cbr\\u003eClasse: problemas_de_entrega\",\"Status do Pedido:delivered\\u003cbr\\u003eClasse: problemas_de_entrega\",\"Status do Pedido:delivered\\u003cbr\\u003eClasse: problemas_de_qualidade\",null,\"Status do Pedido:delivered\\u003cbr\\u003eClasse: problemas_de_qualidade\",\"Status do Pedido:delivered\\u003cbr\\u003eClasse: satisfeito_com_pedido\",\"Status do Pedido:delivered\\u003cbr\\u003eClasse: satisfeito_com_pedido\",\"Status do Pedido:delivered\\u003cbr\\u003eClasse: satisfeito_com_pedido\",\"Status do Pedido:delivered\\u003cbr\\u003eClasse: satisfeito_com_pedido\",\"Status do Pedido:delivered\\u003cbr\\u003eClasse: satisfeito_com_pedido\",\"Status do Pedido:delivered\\u003cbr\\u003eClasse: problemas_de_entrega\",\"Status do Pedido:delivered\\u003cbr\\u003eClasse: satisfeito_com_pedido\",\"Status do Pedido:delivered\\u003cbr\\u003eClasse: satisfeito_com_pedido\",\"Status do Pedido:delivered\\u003cbr\\u003eClasse: problemas_de_qualidade\",\"Status do Pedido:delivered\\u003cbr\\u003eClasse: satisfeito_com_pedido\",\"Status do Pedido:delivered\\u003cbr\\u003eClasse: satisfeito_com_pedido\",\"Status do Pedido:delivered\\u003cbr\\u003eClasse: problemas_de_qualidade\",\"Status do Pedido:delivered\\u003cbr\\u003eClasse: satisfeito_com_pedido\",\"Status do Pedido:delivered\\u003cbr\\u003eClasse: satisfeito_com_pedido\",\"Status do Pedido:delivered\\u003cbr\\u003eClasse: satisfeito_com_pedido\",\"Status do Pedido:delivered\\u003cbr\\u003eClasse: satisfeito_com_pedido\",\"Status do Pedido:delivered\\u003cbr\\u003eClasse: problemas_de_qualidade\",\"Status do Pedido:delivered\\u003cbr\\u003eClasse: satisfeito_com_pedido\",\"Status do Pedido:invoiced\\u003cbr\\u003eClasse: problemas_de_entrega\",null,\"Status do Pedido:delivered\\u003cbr\\u003eClasse: satisfeito_com_pedido\",\"Status do Pedido:delivered\\u003cbr\\u003eClasse: satisfeito_com_pedido\",\"Status do Pedido:delivered\\u003cbr\\u003eClasse: problemas_de_entrega\",\"Status do Pedido:delivered\\u003cbr\\u003eClasse: satisfeito_com_pedido\",\"Status do Pedido:delivered\\u003cbr\\u003eClasse: satisfeito_com_pedido\",\"Status do Pedido:delivered\\u003cbr\\u003eClasse: problemas_de_entrega\",\"Status do Pedido:delivered\\u003cbr\\u003eClasse: problemas_de_entrega\",\"Status do Pedido:delivered\\u003cbr\\u003eClasse: problemas_de_qualidade\",null,\"Status do Pedido:delivered\\u003cbr\\u003eClasse: satisfeito_com_pedido\",\"Status do Pedido:delivered\\u003cbr\\u003eClasse: problemas_de_qualidade\",\"Status do Pedido:delivered\\u003cbr\\u003eClasse: problemas_de_entrega\",\"Status do Pedido:delivered\\u003cbr\\u003eClasse: problemas_de_entrega\",\"Status do Pedido:delivered\\u003cbr\\u003eClasse: satisfeito_com_pedido\",\"Status do Pedido:delivered\\u003cbr\\u003eClasse: problemas_de_entrega\",\"Status do Pedido:delivered\\u003cbr\\u003eClasse: problemas_de_entrega\",\"Status do Pedido:delivered\\u003cbr\\u003eClasse: problemas_de_entrega\",\"Status do Pedido:delivered\\u003cbr\\u003eClasse: problemas_de_qualidade\",\"Status do Pedido:delivered\\u003cbr\\u003eClasse: satisfeito_com_pedido\",\"Status do Pedido:delivered\\u003cbr\\u003eClasse: satisfeito_com_pedido\",\"Status do Pedido:delivered\\u003cbr\\u003eClasse: problemas_de_entrega\",\"Status do Pedido:delivered\\u003cbr\\u003eClasse: satisfeito_com_pedido\",\"Status do Pedido:delivered\\u003cbr\\u003eClasse: satisfeito_com_pedido\",\"Status do Pedido:delivered\\u003cbr\\u003eClasse: satisfeito_com_pedido\",\"Status do Pedido:delivered\\u003cbr\\u003eClasse: satisfeito_com_pedido\",\"Status do Pedido:delivered\\u003cbr\\u003eClasse: problemas_de_entrega\",\"Status do Pedido:delivered\\u003cbr\\u003eClasse: satisfeito_com_pedido\",\"Status do Pedido:delivered\\u003cbr\\u003eClasse: problemas_de_qualidade\",\"Status do Pedido:delivered\\u003cbr\\u003eClasse: satisfeito_com_pedido\",\"Status do Pedido:delivered\\u003cbr\\u003eClasse: satisfeito_com_pedido\",\"Status do Pedido:delivered\\u003cbr\\u003eClasse: satisfeito_com_pedido\",\"Status do Pedido:delivered\\u003cbr\\u003eClasse: problemas_de_qualidade\",\"Status do Pedido:delivered\\u003cbr\\u003eClasse: problemas_de_qualidade\",\"Status do Pedido:delivered\\u003cbr\\u003eClasse: satisfeito_com_pedido\",\"Status do Pedido:delivered\\u003cbr\\u003eClasse: satisfeito_com_pedido\",\"Status do Pedido:delivered\\u003cbr\\u003eClasse: satisfeito_com_pedido\",\"Status do Pedido:delivered\\u003cbr\\u003eClasse: problemas_de_qualidade\",\"Status do Pedido:canceled\\u003cbr\\u003eClasse: problemas_de_qualidade\",\"Status do Pedido:delivered\\u003cbr\\u003eClasse: satisfeito_com_pedido\",\"Status do Pedido:delivered\\u003cbr\\u003eClasse: satisfeito_com_pedido\",\"Status do Pedido:delivered\\u003cbr\\u003eClasse: problemas_de_qualidade\",\"Status do Pedido:delivered\\u003cbr\\u003eClasse: problemas_de_qualidade\",\"Status do Pedido:delivered\\u003cbr\\u003eClasse: problemas_de_qualidade\",\"Status do Pedido:delivered\\u003cbr\\u003eClasse: problemas_de_qualidade\",null,\"Status do Pedido:delivered\\u003cbr\\u003eClasse: satisfeito_com_pedido\",\"Status do Pedido:delivered\\u003cbr\\u003eClasse: satisfeito_com_pedido\",\"Status do Pedido:delivered\\u003cbr\\u003eClasse: satisfeito_com_pedido\",\"Status do Pedido:delivered\\u003cbr\\u003eClasse: satisfeito_com_pedido\",\"Status do Pedido:delivered\\u003cbr\\u003eClasse: satisfeito_com_pedido\",\"Status do Pedido:delivered\\u003cbr\\u003eClasse: problemas_de_qualidade\",\"Status do Pedido:delivered\\u003cbr\\u003eClasse: satisfeito_com_pedido\",\"Status do Pedido:delivered\\u003cbr\\u003eClasse: satisfeito_com_pedido\",\"Status do Pedido:delivered\\u003cbr\\u003eClasse: problemas_de_qualidade\",\"Status do Pedido:delivered\\u003cbr\\u003eClasse: satisfeito_com_pedido\",\"Status do Pedido:delivered\\u003cbr\\u003eClasse: satisfeito_com_pedido\",\"Status do Pedido:delivered\\u003cbr\\u003eClasse: problemas_de_qualidade\",\"Status do Pedido:delivered\\u003cbr\\u003eClasse: satisfeito_com_pedido\",\"Status do Pedido:delivered\\u003cbr\\u003eClasse: satisfeito_com_pedido\",\"Status do Pedido:delivered\\u003cbr\\u003eClasse: satisfeito_com_pedido\",\"Status do Pedido:delivered\\u003cbr\\u003eClasse: problemas_de_entrega\",\"Status do Pedido:delivered\\u003cbr\\u003eClasse: satisfeito_com_pedido\",\"Status do Pedido:delivered\\u003cbr\\u003eClasse: satisfeito_com_pedido\",\"Status do Pedido:shipped\\u003cbr\\u003eClasse: problemas_de_qualidade\",\"Status do Pedido:delivered\\u003cbr\\u003eClasse: satisfeito_com_pedido\",\"Status do Pedido:delivered\\u003cbr\\u003eClasse: problemas_de_entrega\",null,\"Status do Pedido:delivered\\u003cbr\\u003eClasse: problemas_de_qualidade\",\"Status do Pedido:processing\\u003cbr\\u003eClasse: problemas_de_entrega\",\"Status do Pedido:delivered\\u003cbr\\u003eClasse: satisfeito_com_pedido\",\"Status do Pedido:delivered\\u003cbr\\u003eClasse: satisfeito_com_pedido\",\"Status do Pedido:delivered\\u003cbr\\u003eClasse: satisfeito_com_pedido\",\"Status do Pedido:delivered\\u003cbr\\u003eClasse: satisfeito_com_pedido\",\"Status do Pedido:delivered\\u003cbr\\u003eClasse: problemas_de_qualidade\",\"Status do Pedido:delivered\\u003cbr\\u003eClasse: satisfeito_com_pedido\",\"Status do Pedido:delivered\\u003cbr\\u003eClasse: satisfeito_com_pedido\",\"Status do Pedido:delivered\\u003cbr\\u003eClasse: problemas_de_entrega\",\"Status do Pedido:delivered\\u003cbr\\u003eClasse: satisfeito_com_pedido\",\"Status do Pedido:delivered\\u003cbr\\u003eClasse: satisfeito_com_pedido\",\"Status do Pedido:delivered\\u003cbr\\u003eClasse: satisfeito_com_pedido\",\"Status do Pedido:delivered\\u003cbr\\u003eClasse: problemas_de_qualidade\",\"Status do Pedido:delivered\\u003cbr\\u003eClasse: problemas_de_entrega\",\"Status do Pedido:delivered\\u003cbr\\u003eClasse: satisfeito_com_pedido\",\"Status do Pedido:delivered\\u003cbr\\u003eClasse: problemas_de_entrega\",\"Status do Pedido:delivered\\u003cbr\\u003eClasse: satisfeito_com_pedido\",\"Status do Pedido:delivered\\u003cbr\\u003eClasse: satisfeito_com_pedido\",\"Status do Pedido:delivered\\u003cbr\\u003eClasse: problemas_de_entrega\",\"Status do Pedido:delivered\\u003cbr\\u003eClasse: satisfeito_com_pedido\",\"Status do Pedido:delivered\\u003cbr\\u003eClasse: satisfeito_com_pedido\",\"Status do Pedido:delivered\\u003cbr\\u003eClasse: satisfeito_com_pedido\",\"Status do Pedido:delivered\\u003cbr\\u003eClasse: satisfeito_com_pedido\",\"Status do Pedido:delivered\\u003cbr\\u003eClasse: problemas_de_entrega\",\"Status do Pedido:delivered\\u003cbr\\u003eClasse: satisfeito_com_pedido\",\"Status do Pedido:delivered\\u003cbr\\u003eClasse: problemas_de_qualidade\",\"Status do Pedido:delivered\\u003cbr\\u003eClasse: problemas_de_entrega\",\"Status do Pedido:delivered\\u003cbr\\u003eClasse: problemas_de_qualidade\",\"Status do Pedido:delivered\\u003cbr\\u003eClasse: problemas_de_qualidade\",\"Status do Pedido:delivered\\u003cbr\\u003eClasse: satisfeito_com_pedido\",\"Status do Pedido:delivered\\u003cbr\\u003eClasse: problemas_de_entrega\",\"Status do Pedido:delivered\\u003cbr\\u003eClasse: satisfeito_com_pedido\",\"Status do Pedido:delivered\\u003cbr\\u003eClasse: satisfeito_com_pedido\",\"Status do Pedido:delivered\\u003cbr\\u003eClasse: satisfeito_com_pedido\",\"Status do Pedido:delivered\\u003cbr\\u003eClasse: satisfeito_com_pedido\",\"Status do Pedido:delivered\\u003cbr\\u003eClasse: satisfeito_com_pedido\",\"Status do Pedido:delivered\\u003cbr\\u003eClasse: satisfeito_com_pedido\",\"Status do Pedido:delivered\\u003cbr\\u003eClasse: satisfeito_com_pedido\",\"Status do Pedido:delivered\\u003cbr\\u003eClasse: satisfeito_com_pedido\",\"Status do Pedido:delivered\\u003cbr\\u003eClasse: satisfeito_com_pedido\",\"Status do Pedido:delivered\\u003cbr\\u003eClasse: satisfeito_com_pedido\",\"Status do Pedido:delivered\\u003cbr\\u003eClasse: satisfeito_com_pedido\",\"Status do Pedido:delivered\\u003cbr\\u003eClasse: problemas_de_entrega\",\"Status do Pedido:delivered\\u003cbr\\u003eClasse: satisfeito_com_pedido\",\"Status do Pedido:delivered\\u003cbr\\u003eClasse: satisfeito_com_pedido\",\"Status do Pedido:delivered\\u003cbr\\u003eClasse: problemas_de_qualidade\",\"Status do Pedido:delivered\\u003cbr\\u003eClasse: problemas_de_entrega\",\"Status do Pedido:delivered\\u003cbr\\u003eClasse: problemas_de_qualidade\",\"Status do Pedido:delivered\\u003cbr\\u003eClasse: problemas_de_entrega\",\"Status do Pedido:delivered\\u003cbr\\u003eClasse: satisfeito_com_pedido\",\"Status do Pedido:delivered\\u003cbr\\u003eClasse: satisfeito_com_pedido\",\"Status do Pedido:delivered\\u003cbr\\u003eClasse: problemas_de_entrega\",\"Status do Pedido:delivered\\u003cbr\\u003eClasse: problemas_de_entrega\",\"Status do Pedido:delivered\\u003cbr\\u003eClasse: problemas_de_entrega\",\"Status do Pedido:delivered\\u003cbr\\u003eClasse: problemas_de_entrega\",\"Status do Pedido:delivered\\u003cbr\\u003eClasse: problemas_de_qualidade\",\"Status do Pedido:delivered\\u003cbr\\u003eClasse: satisfeito_com_pedido\",\"Status do Pedido:delivered\\u003cbr\\u003eClasse: problemas_de_entrega\",\"Status do Pedido:invoiced\\u003cbr\\u003eClasse: problemas_de_entrega\",\"Status do Pedido:delivered\\u003cbr\\u003eClasse: problemas_de_entrega\",\"Status do Pedido:delivered\\u003cbr\\u003eClasse: problemas_de_entrega\",\"Status do Pedido:delivered\\u003cbr\\u003eClasse: satisfeito_com_pedido\",\"Status do Pedido:delivered\\u003cbr\\u003eClasse: problemas_de_qualidade\",\"Status do Pedido:delivered\\u003cbr\\u003eClasse: problemas_de_entrega\",\"Status do Pedido:delivered\\u003cbr\\u003eClasse: satisfeito_com_pedido\",\"Status do Pedido:delivered\\u003cbr\\u003eClasse: problemas_de_entrega\",\"Status do Pedido:delivered\\u003cbr\\u003eClasse: satisfeito_com_pedido\",\"Status do Pedido:delivered\\u003cbr\\u003eClasse: satisfeito_com_pedido\",\"Status do Pedido:delivered\\u003cbr\\u003eClasse: satisfeito_com_pedido\",null,\"Status do Pedido:delivered\\u003cbr\\u003eClasse: problemas_de_entrega\",\"Status do Pedido:delivered\\u003cbr\\u003eClasse: satisfeito_com_pedido\",\"Status do Pedido:delivered\\u003cbr\\u003eClasse: satisfeito_com_pedido\",\"Status do Pedido:delivered\\u003cbr\\u003eClasse: problemas_de_entrega\",\"Status do Pedido:delivered\\u003cbr\\u003eClasse: problemas_de_entrega\",\"Status do Pedido:delivered\\u003cbr\\u003eClasse: satisfeito_com_pedido\",\"Status do Pedido:delivered\\u003cbr\\u003eClasse: satisfeito_com_pedido\",\"Status do Pedido:delivered\\u003cbr\\u003eClasse: problemas_de_entrega\",\"Status do Pedido:delivered\\u003cbr\\u003eClasse: problemas_de_entrega\",\"Status do Pedido:delivered\\u003cbr\\u003eClasse: problemas_de_entrega\",\"Status do Pedido:delivered\\u003cbr\\u003eClasse: satisfeito_com_pedido\",\"Status do Pedido:delivered\\u003cbr\\u003eClasse: problemas_de_entrega\",\"Status do Pedido:delivered\\u003cbr\\u003eClasse: satisfeito_com_pedido\",\"Status do Pedido:delivered\\u003cbr\\u003eClasse: satisfeito_com_pedido\",\"Status do Pedido:delivered\\u003cbr\\u003eClasse: satisfeito_com_pedido\",\"Status do Pedido:delivered\\u003cbr\\u003eClasse: problemas_de_entrega\",\"Status do Pedido:delivered\\u003cbr\\u003eClasse: problemas_de_entrega\",\"Status do Pedido:delivered\\u003cbr\\u003eClasse: problemas_de_entrega\",\"Status do Pedido:delivered\\u003cbr\\u003eClasse: problemas_de_entrega\",\"Status do Pedido:delivered\\u003cbr\\u003eClasse: problemas_de_entrega\",\"Status do Pedido:delivered\\u003cbr\\u003eClasse: problemas_de_entrega\",\"Status do Pedido:delivered\\u003cbr\\u003eClasse: satisfeito_com_pedido\",\"Status do Pedido:delivered\\u003cbr\\u003eClasse: satisfeito_com_pedido\",\"Status do Pedido:delivered\\u003cbr\\u003eClasse: problemas_de_qualidade\",\"Status do Pedido:delivered\\u003cbr\\u003eClasse: problemas_de_entrega\",\"Status do Pedido:delivered\\u003cbr\\u003eClasse: satisfeito_com_pedido\",\"Status do Pedido:delivered\\u003cbr\\u003eClasse: satisfeito_com_pedido\",\"Status do Pedido:delivered\\u003cbr\\u003eClasse: problemas_de_entrega\",\"Status do Pedido:delivered\\u003cbr\\u003eClasse: satisfeito_com_pedido\",null,\"Status do Pedido:delivered\\u003cbr\\u003eClasse: satisfeito_com_pedido\",\"Status do Pedido:delivered\\u003cbr\\u003eClasse: satisfeito_com_pedido\",\"Status do Pedido:invoiced\\u003cbr\\u003eClasse: problemas_de_entrega\",\"Status do Pedido:delivered\\u003cbr\\u003eClasse: satisfeito_com_pedido\",\"Status do Pedido:delivered\\u003cbr\\u003eClasse: satisfeito_com_pedido\",\"Status do Pedido:delivered\\u003cbr\\u003eClasse: satisfeito_com_pedido\",\"Status do Pedido:delivered\\u003cbr\\u003eClasse: problemas_de_entrega\",\"Status do Pedido:delivered\\u003cbr\\u003eClasse: problemas_de_entrega\",\"Status do Pedido:delivered\\u003cbr\\u003eClasse: satisfeito_com_pedido\",\"Status do Pedido:delivered\\u003cbr\\u003eClasse: satisfeito_com_pedido\",\"Status do Pedido:delivered\\u003cbr\\u003eClasse: problemas_de_qualidade\",\"Status do Pedido:delivered\\u003cbr\\u003eClasse: problemas_de_entrega\",\"Status do Pedido:delivered\\u003cbr\\u003eClasse: satisfeito_com_pedido\",\"Status do Pedido:delivered\\u003cbr\\u003eClasse: satisfeito_com_pedido\",\"Status do Pedido:delivered\\u003cbr\\u003eClasse: satisfeito_com_pedido\",\"Status do Pedido:delivered\\u003cbr\\u003eClasse: problemas_de_qualidade\",\"Status do Pedido:delivered\\u003cbr\\u003eClasse: satisfeito_com_pedido\",\"Status do Pedido:delivered\\u003cbr\\u003eClasse: problemas_de_qualidade\",\"Status do Pedido:delivered\\u003cbr\\u003eClasse: problemas_de_qualidade\",\"Status do Pedido:delivered\\u003cbr\\u003eClasse: satisfeito_com_pedido\",\"Status do Pedido:delivered\\u003cbr\\u003eClasse: satisfeito_com_pedido\",null,\"Status do Pedido:delivered\\u003cbr\\u003eClasse: satisfeito_com_pedido\",\"Status do Pedido:delivered\\u003cbr\\u003eClasse: problemas_de_entrega\",\"Status do Pedido:delivered\\u003cbr\\u003eClasse: problemas_de_qualidade\",\"Status do Pedido:delivered\\u003cbr\\u003eClasse: satisfeito_com_pedido\",\"Status do Pedido:delivered\\u003cbr\\u003eClasse: satisfeito_com_pedido\",\"Status do Pedido:delivered\\u003cbr\\u003eClasse: satisfeito_com_pedido\",\"Status do Pedido:delivered\\u003cbr\\u003eClasse: problemas_de_entrega\",\"Status do Pedido:delivered\\u003cbr\\u003eClasse: problemas_de_qualidade\",\"Status do Pedido:delivered\\u003cbr\\u003eClasse: problemas_de_entrega\",\"Status do Pedido:delivered\\u003cbr\\u003eClasse: problemas_de_qualidade\",\"Status do Pedido:delivered\\u003cbr\\u003eClasse: problemas_de_entrega\",\"Status do Pedido:delivered\\u003cbr\\u003eClasse: problemas_de_entrega\",\"Status do Pedido:delivered\\u003cbr\\u003eClasse: satisfeito_com_pedido\",\"Status do Pedido:delivered\\u003cbr\\u003eClasse: problemas_de_entrega\",\"Status do Pedido:delivered\\u003cbr\\u003eClasse: satisfeito_com_pedido\",\"Status do Pedido:delivered\\u003cbr\\u003eClasse: satisfeito_com_pedido\",\"Status do Pedido:delivered\\u003cbr\\u003eClasse: satisfeito_com_pedido\",\"Status do Pedido:delivered\\u003cbr\\u003eClasse: problemas_de_entrega\",\"Status do Pedido:delivered\\u003cbr\\u003eClasse: satisfeito_com_pedido\",\"Status do Pedido:delivered\\u003cbr\\u003eClasse: satisfeito_com_pedido\",\"Status do Pedido:delivered\\u003cbr\\u003eClasse: satisfeito_com_pedido\",\"Status do Pedido:delivered\\u003cbr\\u003eClasse: problemas_de_qualidade\",\"Status do Pedido:invoiced\\u003cbr\\u003eClasse: problemas_de_entrega\",\"Status do Pedido:delivered\\u003cbr\\u003eClasse: satisfeito_com_pedido\",\"Status do Pedido:delivered\\u003cbr\\u003eClasse: satisfeito_com_pedido\",\"Status do Pedido:delivered\\u003cbr\\u003eClasse: satisfeito_com_pedido\",\"Status do Pedido:delivered\\u003cbr\\u003eClasse: problemas_de_qualidade\",\"Status do Pedido:delivered\\u003cbr\\u003eClasse: satisfeito_com_pedido\",\"Status do Pedido:delivered\\u003cbr\\u003eClasse: satisfeito_com_pedido\",\"Status do Pedido:delivered\\u003cbr\\u003eClasse: problemas_de_qualidade\",\"Status do Pedido:delivered\\u003cbr\\u003eClasse: problemas_de_entrega\",\"Status do Pedido:delivered\\u003cbr\\u003eClasse: satisfeito_com_pedido\",\"Status do Pedido:delivered\\u003cbr\\u003eClasse: problemas_de_entrega\",\"Status do Pedido:delivered\\u003cbr\\u003eClasse: satisfeito_com_pedido\",\"Status do Pedido:delivered\\u003cbr\\u003eClasse: satisfeito_com_pedido\",\"Status do Pedido:delivered\\u003cbr\\u003eClasse: satisfeito_com_pedido\",\"Status do Pedido:delivered\\u003cbr\\u003eClasse: problemas_de_entrega\",\"Status do Pedido:delivered\\u003cbr\\u003eClasse: satisfeito_com_pedido\",\"Status do Pedido:delivered\\u003cbr\\u003eClasse: satisfeito_com_pedido\",\"Status do Pedido:delivered\\u003cbr\\u003eClasse: satisfeito_com_pedido\",\"Status do Pedido:delivered\\u003cbr\\u003eClasse: satisfeito_com_pedido\",\"Status do Pedido:delivered\\u003cbr\\u003eClasse: satisfeito_com_pedido\",\"Status do Pedido:delivered\\u003cbr\\u003eClasse: satisfeito_com_pedido\",\"Status do Pedido:delivered\\u003cbr\\u003eClasse: problemas_de_qualidade\",null,\"Status do Pedido:delivered\\u003cbr\\u003eClasse: problemas_de_qualidade\",\"Status do Pedido:delivered\\u003cbr\\u003eClasse: problemas_de_entrega\",\"Status do Pedido:delivered\\u003cbr\\u003eClasse: problemas_de_entrega\",\"Status do Pedido:delivered\\u003cbr\\u003eClasse: satisfeito_com_pedido\",\"Status do Pedido:delivered\\u003cbr\\u003eClasse: satisfeito_com_pedido\",\"Status do Pedido:delivered\\u003cbr\\u003eClasse: satisfeito_com_pedido\",\"Status do Pedido:delivered\\u003cbr\\u003eClasse: satisfeito_com_pedido\",\"Status do Pedido:delivered\\u003cbr\\u003eClasse: satisfeito_com_pedido\",\"Status do Pedido:delivered\\u003cbr\\u003eClasse: satisfeito_com_pedido\",\"Status do Pedido:delivered\\u003cbr\\u003eClasse: satisfeito_com_pedido\",\"Status do Pedido:delivered\\u003cbr\\u003eClasse: satisfeito_com_pedido\",\"Status do Pedido:delivered\\u003cbr\\u003eClasse: problemas_de_qualidade\",\"Status do Pedido:delivered\\u003cbr\\u003eClasse: problemas_de_entrega\",\"Status do Pedido:delivered\\u003cbr\\u003eClasse: satisfeito_com_pedido\",\"Status do Pedido:delivered\\u003cbr\\u003eClasse: satisfeito_com_pedido\",\"Status do Pedido:delivered\\u003cbr\\u003eClasse: satisfeito_com_pedido\",\"Status do Pedido:canceled\\u003cbr\\u003eClasse: problemas_de_qualidade\",\"Status do Pedido:delivered\\u003cbr\\u003eClasse: satisfeito_com_pedido\",\"Status do Pedido:delivered\\u003cbr\\u003eClasse: problemas_de_entrega\",\"Status do Pedido:delivered\\u003cbr\\u003eClasse: satisfeito_com_pedido\",\"Status do Pedido:delivered\\u003cbr\\u003eClasse: problemas_de_qualidade\",\"Status do Pedido:delivered\\u003cbr\\u003eClasse: satisfeito_com_pedido\",\"Status do Pedido:delivered\\u003cbr\\u003eClasse: satisfeito_com_pedido\",\"Status do Pedido:delivered\\u003cbr\\u003eClasse: satisfeito_com_pedido\",\"Status do Pedido:delivered\\u003cbr\\u003eClasse: problemas_de_entrega\",null,\"Status do Pedido:delivered\\u003cbr\\u003eClasse: satisfeito_com_pedido\",\"Status do Pedido:delivered\\u003cbr\\u003eClasse: satisfeito_com_pedido\",\"Status do Pedido:delivered\\u003cbr\\u003eClasse: satisfeito_com_pedido\",\"Status do Pedido:delivered\\u003cbr\\u003eClasse: problemas_de_qualidade\",\"Status do Pedido:delivered\\u003cbr\\u003eClasse: problemas_de_entrega\",\"Status do Pedido:delivered\\u003cbr\\u003eClasse: satisfeito_com_pedido\",\"Status do Pedido:delivered\\u003cbr\\u003eClasse: problemas_de_entrega\",\"Status do Pedido:delivered\\u003cbr\\u003eClasse: satisfeito_com_pedido\",\"Status do Pedido:delivered\\u003cbr\\u003eClasse: problemas_de_qualidade\",\"Status do Pedido:delivered\\u003cbr\\u003eClasse: satisfeito_com_pedido\",null,\"Status do Pedido:delivered\\u003cbr\\u003eClasse: problemas_de_entrega\",\"Status do Pedido:delivered\\u003cbr\\u003eClasse: problemas_de_qualidade\",\"Status do Pedido:delivered\\u003cbr\\u003eClasse: problemas_de_qualidade\",\"Status do Pedido:delivered\\u003cbr\\u003eClasse: problemas_de_entrega\",\"Status do Pedido:shipped\\u003cbr\\u003eClasse: problemas_de_entrega\",\"Status do Pedido:delivered\\u003cbr\\u003eClasse: problemas_de_qualidade\",\"Status do Pedido:processing\\u003cbr\\u003eClasse: problemas_de_qualidade\",\"Status do Pedido:delivered\\u003cbr\\u003eClasse: satisfeito_com_pedido\",\"Status do Pedido:delivered\\u003cbr\\u003eClasse: satisfeito_com_pedido\",\"Status do Pedido:delivered\\u003cbr\\u003eClasse: satisfeito_com_pedido\",\"Status do Pedido:delivered\\u003cbr\\u003eClasse: satisfeito_com_pedido\",\"Status do Pedido:delivered\\u003cbr\\u003eClasse: problemas_de_entrega\",\"Status do Pedido:delivered\\u003cbr\\u003eClasse: satisfeito_com_pedido\",\"Status do Pedido:delivered\\u003cbr\\u003eClasse: problemas_de_qualidade\",\"Status do Pedido:delivered\\u003cbr\\u003eClasse: satisfeito_com_pedido\",\"Status do Pedido:delivered\\u003cbr\\u003eClasse: problemas_de_qualidade\",\"Status do Pedido:delivered\\u003cbr\\u003eClasse: problemas_de_qualidade\",\"Status do Pedido:delivered\\u003cbr\\u003eClasse: problemas_de_entrega\",\"Status do Pedido:delivered\\u003cbr\\u003eClasse: satisfeito_com_pedido\",\"Status do Pedido:delivered\\u003cbr\\u003eClasse: satisfeito_com_pedido\",\"Status do Pedido:delivered\\u003cbr\\u003eClasse: satisfeito_com_pedido\",\"Status do Pedido:delivered\\u003cbr\\u003eClasse: problemas_de_entrega\",\"Status do Pedido:delivered\\u003cbr\\u003eClasse: satisfeito_com_pedido\",\"Status do Pedido:delivered\\u003cbr\\u003eClasse: satisfeito_com_pedido\",\"Status do Pedido:delivered\\u003cbr\\u003eClasse: satisfeito_com_pedido\",\"Status do Pedido:delivered\\u003cbr\\u003eClasse: problemas_de_entrega\",\"Status do Pedido:delivered\\u003cbr\\u003eClasse: satisfeito_com_pedido\",\"Status do Pedido:delivered\\u003cbr\\u003eClasse: satisfeito_com_pedido\",\"Status do Pedido:delivered\\u003cbr\\u003eClasse: satisfeito_com_pedido\",\"Status do Pedido:delivered\\u003cbr\\u003eClasse: satisfeito_com_pedido\",\"Status do Pedido:delivered\\u003cbr\\u003eClasse: satisfeito_com_pedido\",\"Status do Pedido:delivered\\u003cbr\\u003eClasse: problemas_de_entrega\",\"Status do Pedido:delivered\\u003cbr\\u003eClasse: problemas_de_entrega\",\"Status do Pedido:canceled\\u003cbr\\u003eClasse: problemas_de_entrega\",\"Status do Pedido:delivered\\u003cbr\\u003eClasse: problemas_de_entrega\",\"Status do Pedido:delivered\\u003cbr\\u003eClasse: satisfeito_com_pedido\",null,\"Status do Pedido:delivered\\u003cbr\\u003eClasse: satisfeito_com_pedido\",null,\"Status do Pedido:delivered\\u003cbr\\u003eClasse: satisfeito_com_pedido\",\"Status do Pedido:delivered\\u003cbr\\u003eClasse: problemas_de_entrega\",\"Status do Pedido:shipped\\u003cbr\\u003eClasse: satisfeito_com_pedido\",\"Status do Pedido:delivered\\u003cbr\\u003eClasse: satisfeito_com_pedido\",\"Status do Pedido:delivered\\u003cbr\\u003eClasse: problemas_de_entrega\",\"Status do Pedido:delivered\\u003cbr\\u003eClasse: problemas_de_entrega\",\"Status do Pedido:delivered\\u003cbr\\u003eClasse: satisfeito_com_pedido\",\"Status do Pedido:delivered\\u003cbr\\u003eClasse: satisfeito_com_pedido\",\"Status do Pedido:delivered\\u003cbr\\u003eClasse: satisfeito_com_pedido\",\"Status do Pedido:delivered\\u003cbr\\u003eClasse: satisfeito_com_pedido\",\"Status do Pedido:delivered\\u003cbr\\u003eClasse: problemas_de_qualidade\",\"Status do Pedido:delivered\\u003cbr\\u003eClasse: problemas_de_qualidade\",\"Status do Pedido:delivered\\u003cbr\\u003eClasse: satisfeito_com_pedido\",\"Status do Pedido:canceled\\u003cbr\\u003eClasse: problemas_de_qualidade\",\"Status do Pedido:delivered\\u003cbr\\u003eClasse: problemas_de_entrega\",\"Status do Pedido:delivered\\u003cbr\\u003eClasse: satisfeito_com_pedido\",\"Status do Pedido:delivered\\u003cbr\\u003eClasse: satisfeito_com_pedido\",\"Status do Pedido:delivered\\u003cbr\\u003eClasse: satisfeito_com_pedido\",\"Status do Pedido:delivered\\u003cbr\\u003eClasse: problemas_de_qualidade\",\"Status do Pedido:delivered\\u003cbr\\u003eClasse: satisfeito_com_pedido\",\"Status do Pedido:delivered\\u003cbr\\u003eClasse: satisfeito_com_pedido\",\"Status do Pedido:delivered\\u003cbr\\u003eClasse: problemas_de_qualidade\",\"Status do Pedido:processing\\u003cbr\\u003eClasse: problemas_de_entrega\",\"Status do Pedido:delivered\\u003cbr\\u003eClasse: satisfeito_com_pedido\",\"Status do Pedido:delivered\\u003cbr\\u003eClasse: satisfeito_com_pedido\",null,\"Status do Pedido:delivered\\u003cbr\\u003eClasse: satisfeito_com_pedido\",\"Status do Pedido:delivered\\u003cbr\\u003eClasse: satisfeito_com_pedido\",\"Status do Pedido:delivered\\u003cbr\\u003eClasse: problemas_de_entrega\",\"Status do Pedido:delivered\\u003cbr\\u003eClasse: problemas_de_qualidade\",null,\"Status do Pedido:delivered\\u003cbr\\u003eClasse: satisfeito_com_pedido\",\"Status do Pedido:delivered\\u003cbr\\u003eClasse: problemas_de_entrega\",\"Status do Pedido:delivered\\u003cbr\\u003eClasse: satisfeito_com_pedido\",\"Status do Pedido:delivered\\u003cbr\\u003eClasse: satisfeito_com_pedido\",\"Status do Pedido:delivered\\u003cbr\\u003eClasse: satisfeito_com_pedido\",\"Status do Pedido:delivered\\u003cbr\\u003eClasse: satisfeito_com_pedido\",\"Status do Pedido:delivered\\u003cbr\\u003eClasse: problemas_de_entrega\",null,\"Status do Pedido:delivered\\u003cbr\\u003eClasse: satisfeito_com_pedido\",\"Status do Pedido:delivered\\u003cbr\\u003eClasse: problemas_de_entrega\",\"Status do Pedido:delivered\\u003cbr\\u003eClasse: problemas_de_entrega\",\"Status do Pedido:delivered\\u003cbr\\u003eClasse: problemas_de_entrega\",\"Status do Pedido:delivered\\u003cbr\\u003eClasse: satisfeito_com_pedido\",\"Status do Pedido:delivered\\u003cbr\\u003eClasse: satisfeito_com_pedido\",\"Status do Pedido:delivered\\u003cbr\\u003eClasse: satisfeito_com_pedido\",\"Status do Pedido:delivered\\u003cbr\\u003eClasse: satisfeito_com_pedido\",\"Status do Pedido:delivered\\u003cbr\\u003eClasse: satisfeito_com_pedido\",\"Status do Pedido:delivered\\u003cbr\\u003eClasse: satisfeito_com_pedido\",\"Status do Pedido:delivered\\u003cbr\\u003eClasse: satisfeito_com_pedido\",\"Status do Pedido:delivered\\u003cbr\\u003eClasse: problemas_de_entrega\",\"Status do Pedido:delivered\\u003cbr\\u003eClasse: satisfeito_com_pedido\",\"Status do Pedido:delivered\\u003cbr\\u003eClasse: satisfeito_com_pedido\",\"Status do Pedido:delivered\\u003cbr\\u003eClasse: satisfeito_com_pedido\",\"Status do Pedido:delivered\\u003cbr\\u003eClasse: satisfeito_com_pedido\",\"Status do Pedido:delivered\\u003cbr\\u003eClasse: problemas_de_entrega\",\"Status do Pedido:delivered\\u003cbr\\u003eClasse: satisfeito_com_pedido\",\"Status do Pedido:delivered\\u003cbr\\u003eClasse: satisfeito_com_pedido\",\"Status do Pedido:delivered\\u003cbr\\u003eClasse: satisfeito_com_pedido\",\"Status do Pedido:delivered\\u003cbr\\u003eClasse: satisfeito_com_pedido\",\"Status do Pedido:processing\\u003cbr\\u003eClasse: problemas_de_entrega\",\"Status do Pedido:delivered\\u003cbr\\u003eClasse: satisfeito_com_pedido\",\"Status do Pedido:delivered\\u003cbr\\u003eClasse: satisfeito_com_pedido\",\"Status do Pedido:delivered\\u003cbr\\u003eClasse: satisfeito_com_pedido\",\"Status do Pedido:delivered\\u003cbr\\u003eClasse: satisfeito_com_pedido\",\"Status do Pedido:delivered\\u003cbr\\u003eClasse: satisfeito_com_pedido\",\"Status do Pedido:delivered\\u003cbr\\u003eClasse: problemas_de_entrega\",\"Status do Pedido:delivered\\u003cbr\\u003eClasse: satisfeito_com_pedido\",\"Status do Pedido:delivered\\u003cbr\\u003eClasse: problemas_de_entrega\",\"Status do Pedido:delivered\\u003cbr\\u003eClasse: problemas_de_qualidade\",\"Status do Pedido:delivered\\u003cbr\\u003eClasse: problemas_de_qualidade\",\"Status do Pedido:delivered\\u003cbr\\u003eClasse: problemas_de_qualidade\",\"Status do Pedido:delivered\\u003cbr\\u003eClasse: satisfeito_com_pedido\",\"Status do Pedido:delivered\\u003cbr\\u003eClasse: satisfeito_com_pedido\",\"Status do Pedido:shipped\\u003cbr\\u003eClasse: problemas_de_entrega\",\"Status do Pedido:delivered\\u003cbr\\u003eClasse: satisfeito_com_pedido\",\"Status do Pedido:delivered\\u003cbr\\u003eClasse: satisfeito_com_pedido\",\"Status do Pedido:delivered\\u003cbr\\u003eClasse: problemas_de_entrega\",\"Status do Pedido:delivered\\u003cbr\\u003eClasse: satisfeito_com_pedido\",null,\"Status do Pedido:delivered\\u003cbr\\u003eClasse: satisfeito_com_pedido\",\"Status do Pedido:delivered\\u003cbr\\u003eClasse: satisfeito_com_pedido\",\"Status do Pedido:delivered\\u003cbr\\u003eClasse: problemas_de_qualidade\",\"Status do Pedido:delivered\\u003cbr\\u003eClasse: satisfeito_com_pedido\",\"Status do Pedido:delivered\\u003cbr\\u003eClasse: problemas_de_qualidade\",\"Status do Pedido:delivered\\u003cbr\\u003eClasse: satisfeito_com_pedido\",\"Status do Pedido:delivered\\u003cbr\\u003eClasse: problemas_de_entrega\",\"Status do Pedido:delivered\\u003cbr\\u003eClasse: satisfeito_com_pedido\",\"Status do Pedido:delivered\\u003cbr\\u003eClasse: problemas_de_entrega\",\"Status do Pedido:delivered\\u003cbr\\u003eClasse: problemas_de_entrega\",\"Status do Pedido:delivered\\u003cbr\\u003eClasse: problemas_de_qualidade\",\"Status do Pedido:invoiced\\u003cbr\\u003eClasse: problemas_de_entrega\",\"Status do Pedido:delivered\\u003cbr\\u003eClasse: problemas_de_entrega\",\"Status do Pedido:delivered\\u003cbr\\u003eClasse: satisfeito_com_pedido\",\"Status do Pedido:delivered\\u003cbr\\u003eClasse: satisfeito_com_pedido\",\"Status do Pedido:delivered\\u003cbr\\u003eClasse: satisfeito_com_pedido\",\"Status do Pedido:delivered\\u003cbr\\u003eClasse: satisfeito_com_pedido\",\"Status do Pedido:invoiced\\u003cbr\\u003eClasse: problemas_de_entrega\",\"Status do Pedido:delivered\\u003cbr\\u003eClasse: satisfeito_com_pedido\",\"Status do Pedido:delivered\\u003cbr\\u003eClasse: satisfeito_com_pedido\",\"Status do Pedido:delivered\\u003cbr\\u003eClasse: satisfeito_com_pedido\",\"Status do Pedido:delivered\\u003cbr\\u003eClasse: problemas_de_qualidade\",\"Status do Pedido:delivered\\u003cbr\\u003eClasse: satisfeito_com_pedido\",\"Status do Pedido:delivered\\u003cbr\\u003eClasse: satisfeito_com_pedido\",\"Status do Pedido:delivered\\u003cbr\\u003eClasse: problemas_de_qualidade\",\"Status do Pedido:delivered\\u003cbr\\u003eClasse: problemas_de_entrega\",\"Status do Pedido:delivered\\u003cbr\\u003eClasse: problemas_de_qualidade\",\"Status do Pedido:delivered\\u003cbr\\u003eClasse: satisfeito_com_pedido\",\"Status do Pedido:canceled\\u003cbr\\u003eClasse: problemas_de_entrega\",\"Status do Pedido:delivered\\u003cbr\\u003eClasse: problemas_de_entrega\",\"Status do Pedido:delivered\\u003cbr\\u003eClasse: problemas_de_entrega\",\"Status do Pedido:delivered\\u003cbr\\u003eClasse: problemas_de_qualidade\",\"Status do Pedido:delivered\\u003cbr\\u003eClasse: satisfeito_com_pedido\",\"Status do Pedido:delivered\\u003cbr\\u003eClasse: problemas_de_qualidade\",\"Status do Pedido:delivered\\u003cbr\\u003eClasse: satisfeito_com_pedido\",\"Status do Pedido:delivered\\u003cbr\\u003eClasse: problemas_de_qualidade\",\"Status do Pedido:delivered\\u003cbr\\u003eClasse: problemas_de_entrega\",\"Status do Pedido:delivered\\u003cbr\\u003eClasse: problemas_de_qualidade\",\"Status do Pedido:delivered\\u003cbr\\u003eClasse: satisfeito_com_pedido\",\"Status do Pedido:delivered\\u003cbr\\u003eClasse: problemas_de_qualidade\",\"Status do Pedido:delivered\\u003cbr\\u003eClasse: problemas_de_entrega\",\"Status do Pedido:delivered\\u003cbr\\u003eClasse: satisfeito_com_pedido\",\"Status do Pedido:delivered\\u003cbr\\u003eClasse: problemas_de_qualidade\",\"Status do Pedido:delivered\\u003cbr\\u003eClasse: satisfeito_com_pedido\",\"Status do Pedido:delivered\\u003cbr\\u003eClasse: satisfeito_com_pedido\",\"Status do Pedido:delivered\\u003cbr\\u003eClasse: satisfeito_com_pedido\",null,\"Status do Pedido:delivered\\u003cbr\\u003eClasse: problemas_de_entrega\",\"Status do Pedido:delivered\\u003cbr\\u003eClasse: satisfeito_com_pedido\",\"Status do Pedido:delivered\\u003cbr\\u003eClasse: problemas_de_qualidade\",\"Status do Pedido:delivered\\u003cbr\\u003eClasse: problemas_de_entrega\",\"Status do Pedido:delivered\\u003cbr\\u003eClasse: satisfeito_com_pedido\",\"Status do Pedido:delivered\\u003cbr\\u003eClasse: problemas_de_qualidade\",\"Status do Pedido:delivered\\u003cbr\\u003eClasse: satisfeito_com_pedido\",\"Status do Pedido:delivered\\u003cbr\\u003eClasse: satisfeito_com_pedido\",\"Status do Pedido:delivered\\u003cbr\\u003eClasse: problemas_de_entrega\",\"Status do Pedido:delivered\\u003cbr\\u003eClasse: satisfeito_com_pedido\",\"Status do Pedido:delivered\\u003cbr\\u003eClasse: problemas_de_entrega\",\"Status do Pedido:delivered\\u003cbr\\u003eClasse: satisfeito_com_pedido\",\"Status do Pedido:delivered\\u003cbr\\u003eClasse: satisfeito_com_pedido\",\"Status do Pedido:delivered\\u003cbr\\u003eClasse: satisfeito_com_pedido\",\"Status do Pedido:delivered\\u003cbr\\u003eClasse: problemas_de_entrega\",null,\"Status do Pedido:delivered\\u003cbr\\u003eClasse: satisfeito_com_pedido\",\"Status do Pedido:delivered\\u003cbr\\u003eClasse: satisfeito_com_pedido\",\"Status do Pedido:delivered\\u003cbr\\u003eClasse: satisfeito_com_pedido\",\"Status do Pedido:delivered\\u003cbr\\u003eClasse: problemas_de_entrega\",\"Status do Pedido:delivered\\u003cbr\\u003eClasse: satisfeito_com_pedido\",\"Status do Pedido:delivered\\u003cbr\\u003eClasse: problemas_de_entrega\",\"Status do Pedido:delivered\\u003cbr\\u003eClasse: satisfeito_com_pedido\",\"Status do Pedido:delivered\\u003cbr\\u003eClasse: satisfeito_com_pedido\",\"Status do Pedido:delivered\\u003cbr\\u003eClasse: satisfeito_com_pedido\",\"Status do Pedido:delivered\\u003cbr\\u003eClasse: satisfeito_com_pedido\",\"Status do Pedido:delivered\\u003cbr\\u003eClasse: problemas_de_entrega\",\"Status do Pedido:delivered\\u003cbr\\u003eClasse: satisfeito_com_pedido\",\"Status do Pedido:delivered\\u003cbr\\u003eClasse: satisfeito_com_pedido\",\"Status do Pedido:delivered\\u003cbr\\u003eClasse: satisfeito_com_pedido\",\"Status do Pedido:delivered\\u003cbr\\u003eClasse: problemas_de_entrega\",\"Status do Pedido:delivered\\u003cbr\\u003eClasse: satisfeito_com_pedido\",\"Status do Pedido:delivered\\u003cbr\\u003eClasse: problemas_de_entrega\",\"Status do Pedido:delivered\\u003cbr\\u003eClasse: satisfeito_com_pedido\",\"Status do Pedido:delivered\\u003cbr\\u003eClasse: problemas_de_entrega\",\"Status do Pedido:delivered\\u003cbr\\u003eClasse: satisfeito_com_pedido\",\"Status do Pedido:delivered\\u003cbr\\u003eClasse: satisfeito_com_pedido\",\"Status do Pedido:delivered\\u003cbr\\u003eClasse: satisfeito_com_pedido\",null,\"Status do Pedido:delivered\\u003cbr\\u003eClasse: satisfeito_com_pedido\",\"Status do Pedido:delivered\\u003cbr\\u003eClasse: satisfeito_com_pedido\",\"Status do Pedido:delivered\\u003cbr\\u003eClasse: problemas_de_qualidade\",\"Status do Pedido:delivered\\u003cbr\\u003eClasse: problemas_de_entrega\",\"Status do Pedido:delivered\\u003cbr\\u003eClasse: satisfeito_com_pedido\",\"Status do Pedido:delivered\\u003cbr\\u003eClasse: problemas_de_qualidade\",\"Status do Pedido:delivered\\u003cbr\\u003eClasse: satisfeito_com_pedido\",\"Status do Pedido:delivered\\u003cbr\\u003eClasse: satisfeito_com_pedido\",\"Status do Pedido:delivered\\u003cbr\\u003eClasse: satisfeito_com_pedido\",\"Status do Pedido:delivered\\u003cbr\\u003eClasse: satisfeito_com_pedido\",\"Status do Pedido:delivered\\u003cbr\\u003eClasse: satisfeito_com_pedido\",\"Status do Pedido:delivered\\u003cbr\\u003eClasse: satisfeito_com_pedido\",\"Status do Pedido:canceled\\u003cbr\\u003eClasse: problemas_de_entrega\",\"Status do Pedido:delivered\\u003cbr\\u003eClasse: problemas_de_entrega\",\"Status do Pedido:delivered\\u003cbr\\u003eClasse: problemas_de_entrega\",\"Status do Pedido:delivered\\u003cbr\\u003eClasse: satisfeito_com_pedido\",null,\"Status do Pedido:delivered\\u003cbr\\u003eClasse: satisfeito_com_pedido\",\"Status do Pedido:delivered\\u003cbr\\u003eClasse: problemas_de_entrega\",\"Status do Pedido:invoiced\\u003cbr\\u003eClasse: problemas_de_entrega\",\"Status do Pedido:delivered\\u003cbr\\u003eClasse: satisfeito_com_pedido\",\"Status do Pedido:delivered\\u003cbr\\u003eClasse: problemas_de_entrega\",null,\"Status do Pedido:delivered\\u003cbr\\u003eClasse: satisfeito_com_pedido\",\"Status do Pedido:delivered\\u003cbr\\u003eClasse: satisfeito_com_pedido\",\"Status do Pedido:delivered\\u003cbr\\u003eClasse: satisfeito_com_pedido\",\"Status do Pedido:delivered\\u003cbr\\u003eClasse: problemas_de_entrega\",\"Status do Pedido:delivered\\u003cbr\\u003eClasse: satisfeito_com_pedido\",\"Status do Pedido:delivered\\u003cbr\\u003eClasse: problemas_de_entrega\",\"Status do Pedido:delivered\\u003cbr\\u003eClasse: satisfeito_com_pedido\",\"Status do Pedido:delivered\\u003cbr\\u003eClasse: satisfeito_com_pedido\",\"Status do Pedido:delivered\\u003cbr\\u003eClasse: satisfeito_com_pedido\",\"Status do Pedido:canceled\\u003cbr\\u003eClasse: problemas_de_entrega\",\"Status do Pedido:delivered\\u003cbr\\u003eClasse: problemas_de_qualidade\",\"Status do Pedido:delivered\\u003cbr\\u003eClasse: satisfeito_com_pedido\",\"Status do Pedido:delivered\\u003cbr\\u003eClasse: satisfeito_com_pedido\",\"Status do Pedido:delivered\\u003cbr\\u003eClasse: problemas_de_entrega\",\"Status do Pedido:delivered\\u003cbr\\u003eClasse: satisfeito_com_pedido\",\"Status do Pedido:delivered\\u003cbr\\u003eClasse: satisfeito_com_pedido\",\"Status do Pedido:processing\\u003cbr\\u003eClasse: problemas_de_entrega\",\"Status do Pedido:delivered\\u003cbr\\u003eClasse: satisfeito_com_pedido\",\"Status do Pedido:delivered\\u003cbr\\u003eClasse: problemas_de_entrega\",\"Status do Pedido:delivered\\u003cbr\\u003eClasse: problemas_de_qualidade\",\"Status do Pedido:delivered\\u003cbr\\u003eClasse: problemas_de_qualidade\",\"Status do Pedido:delivered\\u003cbr\\u003eClasse: problemas_de_entrega\",\"Status do Pedido:canceled\\u003cbr\\u003eClasse: problemas_de_entrega\",\"Status do Pedido:delivered\\u003cbr\\u003eClasse: satisfeito_com_pedido\",\"Status do Pedido:delivered\\u003cbr\\u003eClasse: satisfeito_com_pedido\",\"Status do Pedido:canceled\\u003cbr\\u003eClasse: problemas_de_entrega\",\"Status do Pedido:delivered\\u003cbr\\u003eClasse: problemas_de_entrega\",\"Status do Pedido:delivered\\u003cbr\\u003eClasse: problemas_de_entrega\",\"Status do Pedido:shipped\\u003cbr\\u003eClasse: problemas_de_entrega\",null,\"Status do Pedido:delivered\\u003cbr\\u003eClasse: satisfeito_com_pedido\",\"Status do Pedido:delivered\\u003cbr\\u003eClasse: satisfeito_com_pedido\",\"Status do Pedido:invoiced\\u003cbr\\u003eClasse: problemas_de_entrega\",\"Status do Pedido:delivered\\u003cbr\\u003eClasse: problemas_de_entrega\",\"Status do Pedido:delivered\\u003cbr\\u003eClasse: problemas_de_entrega\",\"Status do Pedido:delivered\\u003cbr\\u003eClasse: satisfeito_com_pedido\",\"Status do Pedido:delivered\\u003cbr\\u003eClasse: satisfeito_com_pedido\",\"Status do Pedido:delivered\\u003cbr\\u003eClasse: satisfeito_com_pedido\",\"Status do Pedido:delivered\\u003cbr\\u003eClasse: satisfeito_com_pedido\",\"Status do Pedido:delivered\\u003cbr\\u003eClasse: problemas_de_qualidade\",\"Status do Pedido:delivered\\u003cbr\\u003eClasse: satisfeito_com_pedido\",\"Status do Pedido:delivered\\u003cbr\\u003eClasse: satisfeito_com_pedido\",\"Status do Pedido:delivered\\u003cbr\\u003eClasse: satisfeito_com_pedido\",\"Status do Pedido:delivered\\u003cbr\\u003eClasse: problemas_de_qualidade\",\"Status do Pedido:delivered\\u003cbr\\u003eClasse: satisfeito_com_pedido\",\"Status do Pedido:delivered\\u003cbr\\u003eClasse: satisfeito_com_pedido\",\"Status do Pedido:delivered\\u003cbr\\u003eClasse: problemas_de_entrega\",\"Status do Pedido:delivered\\u003cbr\\u003eClasse: satisfeito_com_pedido\",\"Status do Pedido:delivered\\u003cbr\\u003eClasse: satisfeito_com_pedido\",\"Status do Pedido:delivered\\u003cbr\\u003eClasse: problemas_de_qualidade\",\"Status do Pedido:delivered\\u003cbr\\u003eClasse: satisfeito_com_pedido\",\"Status do Pedido:delivered\\u003cbr\\u003eClasse: satisfeito_com_pedido\",\"Status do Pedido:delivered\\u003cbr\\u003eClasse: problemas_de_qualidade\",\"Status do Pedido:delivered\\u003cbr\\u003eClasse: satisfeito_com_pedido\",\"Status do Pedido:delivered\\u003cbr\\u003eClasse: satisfeito_com_pedido\",\"Status do Pedido:delivered\\u003cbr\\u003eClasse: satisfeito_com_pedido\",\"Status do Pedido:delivered\\u003cbr\\u003eClasse: problemas_de_entrega\",\"Status do Pedido:delivered\\u003cbr\\u003eClasse: problemas_de_entrega\",\"Status do Pedido:delivered\\u003cbr\\u003eClasse: problemas_de_qualidade\",\"Status do Pedido:delivered\\u003cbr\\u003eClasse: satisfeito_com_pedido\",\"Status do Pedido:delivered\\u003cbr\\u003eClasse: problemas_de_qualidade\",\"Status do Pedido:delivered\\u003cbr\\u003eClasse: problemas_de_entrega\",\"Status do Pedido:delivered\\u003cbr\\u003eClasse: problemas_de_entrega\",null,\"Status do Pedido:delivered\\u003cbr\\u003eClasse: problemas_de_entrega\",\"Status do Pedido:delivered\\u003cbr\\u003eClasse: problemas_de_entrega\",\"Status do Pedido:delivered\\u003cbr\\u003eClasse: problemas_de_qualidade\",\"Status do Pedido:delivered\\u003cbr\\u003eClasse: satisfeito_com_pedido\",\"Status do Pedido:delivered\\u003cbr\\u003eClasse: problemas_de_qualidade\",\"Status do Pedido:delivered\\u003cbr\\u003eClasse: problemas_de_qualidade\",\"Status do Pedido:delivered\\u003cbr\\u003eClasse: satisfeito_com_pedido\",\"Status do Pedido:delivered\\u003cbr\\u003eClasse: satisfeito_com_pedido\",\"Status do Pedido:delivered\\u003cbr\\u003eClasse: problemas_de_qualidade\",\"Status do Pedido:delivered\\u003cbr\\u003eClasse: problemas_de_qualidade\",\"Status do Pedido:delivered\\u003cbr\\u003eClasse: satisfeito_com_pedido\",\"Status do Pedido:delivered\\u003cbr\\u003eClasse: satisfeito_com_pedido\",\"Status do Pedido:delivered\\u003cbr\\u003eClasse: satisfeito_com_pedido\",\"Status do Pedido:delivered\\u003cbr\\u003eClasse: satisfeito_com_pedido\",\"Status do Pedido:delivered\\u003cbr\\u003eClasse: problemas_de_qualidade\",\"Status do Pedido:delivered\\u003cbr\\u003eClasse: satisfeito_com_pedido\",\"Status do Pedido:delivered\\u003cbr\\u003eClasse: problemas_de_entrega\",\"Status do Pedido:delivered\\u003cbr\\u003eClasse: problemas_de_qualidade\",\"Status do Pedido:delivered\\u003cbr\\u003eClasse: satisfeito_com_pedido\",\"Status do Pedido:delivered\\u003cbr\\u003eClasse: problemas_de_qualidade\",\"Status do Pedido:delivered\\u003cbr\\u003eClasse: satisfeito_com_pedido\",null,\"Status do Pedido:delivered\\u003cbr\\u003eClasse: satisfeito_com_pedido\",\"Status do Pedido:delivered\\u003cbr\\u003eClasse: satisfeito_com_pedido\",\"Status do Pedido:delivered\\u003cbr\\u003eClasse: satisfeito_com_pedido\",\"Status do Pedido:delivered\\u003cbr\\u003eClasse: problemas_de_entrega\",\"Status do Pedido:delivered\\u003cbr\\u003eClasse: satisfeito_com_pedido\",\"Status do Pedido:delivered\\u003cbr\\u003eClasse: problemas_de_qualidade\",null,\"Status do Pedido:delivered\\u003cbr\\u003eClasse: satisfeito_com_pedido\",\"Status do Pedido:delivered\\u003cbr\\u003eClasse: satisfeito_com_pedido\",\"Status do Pedido:delivered\\u003cbr\\u003eClasse: problemas_de_qualidade\",\"Status do Pedido:delivered\\u003cbr\\u003eClasse: satisfeito_com_pedido\",\"Status do Pedido:delivered\\u003cbr\\u003eClasse: satisfeito_com_pedido\",\"Status do Pedido:delivered\\u003cbr\\u003eClasse: satisfeito_com_pedido\",\"Status do Pedido:delivered\\u003cbr\\u003eClasse: satisfeito_com_pedido\",\"Status do Pedido:delivered\\u003cbr\\u003eClasse: problemas_de_entrega\",\"Status do Pedido:delivered\\u003cbr\\u003eClasse: satisfeito_com_pedido\",\"Status do Pedido:delivered\\u003cbr\\u003eClasse: satisfeito_com_pedido\",\"Status do Pedido:delivered\\u003cbr\\u003eClasse: satisfeito_com_pedido\",\"Status do Pedido:delivered\\u003cbr\\u003eClasse: problemas_de_entrega\",\"Status do Pedido:delivered\\u003cbr\\u003eClasse: problemas_de_entrega\",\"Status do Pedido:delivered\\u003cbr\\u003eClasse: satisfeito_com_pedido\",\"Status do Pedido:delivered\\u003cbr\\u003eClasse: problemas_de_qualidade\",\"Status do Pedido:delivered\\u003cbr\\u003eClasse: satisfeito_com_pedido\",\"Status do Pedido:delivered\\u003cbr\\u003eClasse: satisfeito_com_pedido\",\"Status do Pedido:delivered\\u003cbr\\u003eClasse: problemas_de_entrega\",\"Status do Pedido:delivered\\u003cbr\\u003eClasse: satisfeito_com_pedido\",\"Status do Pedido:delivered\\u003cbr\\u003eClasse: satisfeito_com_pedido\",\"Status do Pedido:delivered\\u003cbr\\u003eClasse: problemas_de_entrega\",null,\"Status do Pedido:delivered\\u003cbr\\u003eClasse: problemas_de_entrega\",\"Status do Pedido:delivered\\u003cbr\\u003eClasse: satisfeito_com_pedido\",\"Status do Pedido:delivered\\u003cbr\\u003eClasse: problemas_de_entrega\",\"Status do Pedido:delivered\\u003cbr\\u003eClasse: problemas_de_qualidade\",\"Status do Pedido:delivered\\u003cbr\\u003eClasse: problemas_de_entrega\",\"Status do Pedido:delivered\\u003cbr\\u003eClasse: satisfeito_com_pedido\",\"Status do Pedido:delivered\\u003cbr\\u003eClasse: satisfeito_com_pedido\",\"Status do Pedido:delivered\\u003cbr\\u003eClasse: satisfeito_com_pedido\",\"Status do Pedido:delivered\\u003cbr\\u003eClasse: satisfeito_com_pedido\",\"Status do Pedido:delivered\\u003cbr\\u003eClasse: satisfeito_com_pedido\",\"Status do Pedido:delivered\\u003cbr\\u003eClasse: problemas_de_entrega\",\"Status do Pedido:delivered\\u003cbr\\u003eClasse: problemas_de_entrega\",\"Status do Pedido:shipped\\u003cbr\\u003eClasse: satisfeito_com_pedido\",\"Status do Pedido:shipped\\u003cbr\\u003eClasse: problemas_de_entrega\",\"Status do Pedido:delivered\\u003cbr\\u003eClasse: satisfeito_com_pedido\",\"Status do Pedido:delivered\\u003cbr\\u003eClasse: problemas_de_entrega\",\"Status do Pedido:delivered\\u003cbr\\u003eClasse: satisfeito_com_pedido\",\"Status do Pedido:delivered\\u003cbr\\u003eClasse: problemas_de_entrega\",\"Status do Pedido:delivered\\u003cbr\\u003eClasse: problemas_de_qualidade\",\"Status do Pedido:delivered\\u003cbr\\u003eClasse: satisfeito_com_pedido\",\"Status do Pedido:delivered\\u003cbr\\u003eClasse: problemas_de_qualidade\",\"Status do Pedido:delivered\\u003cbr\\u003eClasse: satisfeito_com_pedido\",\"Status do Pedido:delivered\\u003cbr\\u003eClasse: satisfeito_com_pedido\",\"Status do Pedido:delivered\\u003cbr\\u003eClasse: satisfeito_com_pedido\",\"Status do Pedido:delivered\\u003cbr\\u003eClasse: satisfeito_com_pedido\",\"Status do Pedido:delivered\\u003cbr\\u003eClasse: satisfeito_com_pedido\",\"Status do Pedido:delivered\\u003cbr\\u003eClasse: problemas_de_entrega\",\"Status do Pedido:delivered\\u003cbr\\u003eClasse: problemas_de_entrega\",\"Status do Pedido:delivered\\u003cbr\\u003eClasse: satisfeito_com_pedido\",\"Status do Pedido:delivered\\u003cbr\\u003eClasse: problemas_de_qualidade\",null,\"Status do Pedido:shipped\\u003cbr\\u003eClasse: problemas_de_entrega\",\"Status do Pedido:delivered\\u003cbr\\u003eClasse: problemas_de_entrega\",\"Status do Pedido:delivered\\u003cbr\\u003eClasse: satisfeito_com_pedido\",\"Status do Pedido:delivered\\u003cbr\\u003eClasse: satisfeito_com_pedido\",\"Status do Pedido:delivered\\u003cbr\\u003eClasse: satisfeito_com_pedido\",\"Status do Pedido:delivered\\u003cbr\\u003eClasse: problemas_de_entrega\",\"Status do Pedido:delivered\\u003cbr\\u003eClasse: problemas_de_entrega\",\"Status do Pedido:delivered\\u003cbr\\u003eClasse: problemas_de_entrega\",\"Status do Pedido:delivered\\u003cbr\\u003eClasse: satisfeito_com_pedido\",\"Status do Pedido:delivered\\u003cbr\\u003eClasse: satisfeito_com_pedido\",\"Status do Pedido:delivered\\u003cbr\\u003eClasse: problemas_de_qualidade\",\"Status do Pedido:delivered\\u003cbr\\u003eClasse: satisfeito_com_pedido\",\"Status do Pedido:delivered\\u003cbr\\u003eClasse: satisfeito_com_pedido\",\"Status do Pedido:delivered\\u003cbr\\u003eClasse: problemas_de_entrega\",null,\"Status do Pedido:delivered\\u003cbr\\u003eClasse: problemas_de_entrega\",\"Status do Pedido:delivered\\u003cbr\\u003eClasse: satisfeito_com_pedido\",\"Status do Pedido:delivered\\u003cbr\\u003eClasse: satisfeito_com_pedido\",\"Status do Pedido:delivered\\u003cbr\\u003eClasse: problemas_de_entrega\",\"Status do Pedido:delivered\\u003cbr\\u003eClasse: problemas_de_qualidade\",\"Status do Pedido:delivered\\u003cbr\\u003eClasse: satisfeito_com_pedido\",\"Status do Pedido:delivered\\u003cbr\\u003eClasse: satisfeito_com_pedido\",\"Status do Pedido:delivered\\u003cbr\\u003eClasse: problemas_de_entrega\",\"Status do Pedido:delivered\\u003cbr\\u003eClasse: problemas_de_entrega\",\"Status do Pedido:delivered\\u003cbr\\u003eClasse: satisfeito_com_pedido\",\"Status do Pedido:delivered\\u003cbr\\u003eClasse: satisfeito_com_pedido\",null,\"Status do Pedido:delivered\\u003cbr\\u003eClasse: satisfeito_com_pedido\",\"Status do Pedido:delivered\\u003cbr\\u003eClasse: problemas_de_entrega\",\"Status do Pedido:delivered\\u003cbr\\u003eClasse: satisfeito_com_pedido\",\"Status do Pedido:delivered\\u003cbr\\u003eClasse: satisfeito_com_pedido\",\"Status do Pedido:delivered\\u003cbr\\u003eClasse: satisfeito_com_pedido\",\"Status do Pedido:delivered\\u003cbr\\u003eClasse: satisfeito_com_pedido\",\"Status do Pedido:delivered\\u003cbr\\u003eClasse: satisfeito_com_pedido\",\"Status do Pedido:delivered\\u003cbr\\u003eClasse: satisfeito_com_pedido\",\"Status do Pedido:delivered\\u003cbr\\u003eClasse: problemas_de_qualidade\",\"Status do Pedido:delivered\\u003cbr\\u003eClasse: satisfeito_com_pedido\",\"Status do Pedido:shipped\\u003cbr\\u003eClasse: problemas_de_entrega\",\"Status do Pedido:delivered\\u003cbr\\u003eClasse: problemas_de_entrega\",\"Status do Pedido:delivered\\u003cbr\\u003eClasse: problemas_de_entrega\",\"Status do Pedido:shipped\\u003cbr\\u003eClasse: problemas_de_entrega\",\"Status do Pedido:delivered\\u003cbr\\u003eClasse: satisfeito_com_pedido\",\"Status do Pedido:delivered\\u003cbr\\u003eClasse: problemas_de_entrega\",\"Status do Pedido:delivered\\u003cbr\\u003eClasse: problemas_de_qualidade\",\"Status do Pedido:delivered\\u003cbr\\u003eClasse: satisfeito_com_pedido\",\"Status do Pedido:delivered\\u003cbr\\u003eClasse: problemas_de_entrega\",\"Status do Pedido:delivered\\u003cbr\\u003eClasse: satisfeito_com_pedido\",\"Status do Pedido:delivered\\u003cbr\\u003eClasse: satisfeito_com_pedido\",\"Status do Pedido:delivered\\u003cbr\\u003eClasse: satisfeito_com_pedido\",\"Status do Pedido:delivered\\u003cbr\\u003eClasse: problemas_de_entrega\",\"Status do Pedido:delivered\\u003cbr\\u003eClasse: satisfeito_com_pedido\",\"Status do Pedido:delivered\\u003cbr\\u003eClasse: problemas_de_qualidade\",\"Status do Pedido:delivered\\u003cbr\\u003eClasse: satisfeito_com_pedido\",\"Status do Pedido:delivered\\u003cbr\\u003eClasse: problemas_de_entrega\",\"Status do Pedido:invoiced\\u003cbr\\u003eClasse: problemas_de_entrega\",\"Status do Pedido:delivered\\u003cbr\\u003eClasse: problemas_de_entrega\",\"Status do Pedido:delivered\\u003cbr\\u003eClasse: satisfeito_com_pedido\",\"Status do Pedido:delivered\\u003cbr\\u003eClasse: satisfeito_com_pedido\",\"Status do Pedido:delivered\\u003cbr\\u003eClasse: problemas_de_entrega\",null,\"Status do Pedido:delivered\\u003cbr\\u003eClasse: satisfeito_com_pedido\",\"Status do Pedido:delivered\\u003cbr\\u003eClasse: problemas_de_entrega\",\"Status do Pedido:delivered\\u003cbr\\u003eClasse: satisfeito_com_pedido\",\"Status do Pedido:delivered\\u003cbr\\u003eClasse: problemas_de_entrega\",\"Status do Pedido:delivered\\u003cbr\\u003eClasse: problemas_de_entrega\",\"Status do Pedido:delivered\\u003cbr\\u003eClasse: satisfeito_com_pedido\",\"Status do Pedido:delivered\\u003cbr\\u003eClasse: problemas_de_entrega\",\"Status do Pedido:delivered\\u003cbr\\u003eClasse: problemas_de_entrega\",\"Status do Pedido:delivered\\u003cbr\\u003eClasse: satisfeito_com_pedido\",\"Status do Pedido:delivered\\u003cbr\\u003eClasse: problemas_de_entrega\",\"Status do Pedido:delivered\\u003cbr\\u003eClasse: problemas_de_entrega\",\"Status do Pedido:delivered\\u003cbr\\u003eClasse: problemas_de_entrega\",\"Status do Pedido:delivered\\u003cbr\\u003eClasse: satisfeito_com_pedido\",\"Status do Pedido:delivered\\u003cbr\\u003eClasse: satisfeito_com_pedido\",\"Status do Pedido:delivered\\u003cbr\\u003eClasse: problemas_de_entrega\",\"Status do Pedido:delivered\\u003cbr\\u003eClasse: satisfeito_com_pedido\",\"Status do Pedido:delivered\\u003cbr\\u003eClasse: satisfeito_com_pedido\",\"Status do Pedido:delivered\\u003cbr\\u003eClasse: problemas_de_entrega\",\"Status do Pedido:delivered\\u003cbr\\u003eClasse: problemas_de_entrega\",\"Status do Pedido:delivered\\u003cbr\\u003eClasse: satisfeito_com_pedido\",\"Status do Pedido:delivered\\u003cbr\\u003eClasse: problemas_de_entrega\",\"Status do Pedido:delivered\\u003cbr\\u003eClasse: problemas_de_entrega\",\"Status do Pedido:delivered\\u003cbr\\u003eClasse: problemas_de_entrega\",\"Status do Pedido:delivered\\u003cbr\\u003eClasse: satisfeito_com_pedido\",\"Status do Pedido:delivered\\u003cbr\\u003eClasse: satisfeito_com_pedido\",\"Status do Pedido:delivered\\u003cbr\\u003eClasse: satisfeito_com_pedido\",\"Status do Pedido:delivered\\u003cbr\\u003eClasse: satisfeito_com_pedido\",\"Status do Pedido:delivered\\u003cbr\\u003eClasse: satisfeito_com_pedido\",\"Status do Pedido:delivered\\u003cbr\\u003eClasse: satisfeito_com_pedido\",\"Status do Pedido:delivered\\u003cbr\\u003eClasse: satisfeito_com_pedido\",\"Status do Pedido:delivered\\u003cbr\\u003eClasse: problemas_de_entrega\",\"Status do Pedido:delivered\\u003cbr\\u003eClasse: problemas_de_entrega\",\"Status do Pedido:delivered\\u003cbr\\u003eClasse: problemas_de_qualidade\",\"Status do Pedido:delivered\\u003cbr\\u003eClasse: problemas_de_entrega\",\"Status do Pedido:delivered\\u003cbr\\u003eClasse: problemas_de_entrega\",\"Status do Pedido:delivered\\u003cbr\\u003eClasse: satisfeito_com_pedido\",null,\"Status do Pedido:delivered\\u003cbr\\u003eClasse: satisfeito_com_pedido\",\"Status do Pedido:delivered\\u003cbr\\u003eClasse: satisfeito_com_pedido\",\"Status do Pedido:delivered\\u003cbr\\u003eClasse: problemas_de_entrega\",\"Status do Pedido:shipped\\u003cbr\\u003eClasse: problemas_de_entrega\",null,null,\"Status do Pedido:delivered\\u003cbr\\u003eClasse: problemas_de_entrega\",\"Status do Pedido:delivered\\u003cbr\\u003eClasse: problemas_de_entrega\",\"Status do Pedido:delivered\\u003cbr\\u003eClasse: problemas_de_entrega\",\"Status do Pedido:delivered\\u003cbr\\u003eClasse: problemas_de_entrega\",\"Status do Pedido:shipped\\u003cbr\\u003eClasse: satisfeito_com_pedido\",\"Status do Pedido:delivered\\u003cbr\\u003eClasse: problemas_de_entrega\",\"Status do Pedido:delivered\\u003cbr\\u003eClasse: satisfeito_com_pedido\",\"Status do Pedido:delivered\\u003cbr\\u003eClasse: satisfeito_com_pedido\",\"Status do Pedido:delivered\\u003cbr\\u003eClasse: satisfeito_com_pedido\",\"Status do Pedido:delivered\\u003cbr\\u003eClasse: problemas_de_entrega\",\"Status do Pedido:delivered\\u003cbr\\u003eClasse: problemas_de_entrega\",\"Status do Pedido:delivered\\u003cbr\\u003eClasse: satisfeito_com_pedido\",\"Status do Pedido:delivered\\u003cbr\\u003eClasse: problemas_de_entrega\",\"Status do Pedido:delivered\\u003cbr\\u003eClasse: problemas_de_entrega\",\"Status do Pedido:delivered\\u003cbr\\u003eClasse: satisfeito_com_pedido\",\"Status do Pedido:delivered\\u003cbr\\u003eClasse: problemas_de_qualidade\",\"Status do Pedido:delivered\\u003cbr\\u003eClasse: satisfeito_com_pedido\",\"Status do Pedido:delivered\\u003cbr\\u003eClasse: problemas_de_entrega\",\"Status do Pedido:delivered\\u003cbr\\u003eClasse: satisfeito_com_pedido\",\"Status do Pedido:delivered\\u003cbr\\u003eClasse: problemas_de_entrega\",\"Status do Pedido:delivered\\u003cbr\\u003eClasse: satisfeito_com_pedido\",\"Status do Pedido:delivered\\u003cbr\\u003eClasse: satisfeito_com_pedido\",\"Status do Pedido:delivered\\u003cbr\\u003eClasse: problemas_de_entrega\",\"Status do Pedido:delivered\\u003cbr\\u003eClasse: satisfeito_com_pedido\",\"Status do Pedido:delivered\\u003cbr\\u003eClasse: satisfeito_com_pedido\",\"Status do Pedido:delivered\\u003cbr\\u003eClasse: satisfeito_com_pedido\",\"Status do Pedido:delivered\\u003cbr\\u003eClasse: problemas_de_entrega\",\"Status do Pedido:delivered\\u003cbr\\u003eClasse: satisfeito_com_pedido\",\"Status do Pedido:delivered\\u003cbr\\u003eClasse: problemas_de_qualidade\",\"Status do Pedido:delivered\\u003cbr\\u003eClasse: satisfeito_com_pedido\",\"Status do Pedido:delivered\\u003cbr\\u003eClasse: satisfeito_com_pedido\",\"Status do Pedido:shipped\\u003cbr\\u003eClasse: problemas_de_entrega\",\"Status do Pedido:delivered\\u003cbr\\u003eClasse: satisfeito_com_pedido\",null,\"Status do Pedido:delivered\\u003cbr\\u003eClasse: satisfeito_com_pedido\",\"Status do Pedido:delivered\\u003cbr\\u003eClasse: problemas_de_entrega\",\"Status do Pedido:delivered\\u003cbr\\u003eClasse: satisfeito_com_pedido\",\"Status do Pedido:delivered\\u003cbr\\u003eClasse: satisfeito_com_pedido\",\"Status do Pedido:delivered\\u003cbr\\u003eClasse: satisfeito_com_pedido\",\"Status do Pedido:delivered\\u003cbr\\u003eClasse: satisfeito_com_pedido\",\"Status do Pedido:delivered\\u003cbr\\u003eClasse: satisfeito_com_pedido\",\"Status do Pedido:delivered\\u003cbr\\u003eClasse: satisfeito_com_pedido\",\"Status do Pedido:delivered\\u003cbr\\u003eClasse: satisfeito_com_pedido\",null,\"Status do Pedido:delivered\\u003cbr\\u003eClasse: problemas_de_entrega\",\"Status do Pedido:delivered\\u003cbr\\u003eClasse: satisfeito_com_pedido\",\"Status do Pedido:delivered\\u003cbr\\u003eClasse: problemas_de_entrega\",\"Status do Pedido:delivered\\u003cbr\\u003eClasse: problemas_de_qualidade\",\"Status do Pedido:delivered\\u003cbr\\u003eClasse: problemas_de_entrega\",\"Status do Pedido:delivered\\u003cbr\\u003eClasse: problemas_de_entrega\",\"Status do Pedido:delivered\\u003cbr\\u003eClasse: problemas_de_entrega\",\"Status do Pedido:delivered\\u003cbr\\u003eClasse: satisfeito_com_pedido\",\"Status do Pedido:delivered\\u003cbr\\u003eClasse: satisfeito_com_pedido\",\"Status do Pedido:delivered\\u003cbr\\u003eClasse: problemas_de_qualidade\",\"Status do Pedido:delivered\\u003cbr\\u003eClasse: problemas_de_entrega\",\"Status do Pedido:shipped\\u003cbr\\u003eClasse: problemas_de_entrega\",\"Status do Pedido:delivered\\u003cbr\\u003eClasse: satisfeito_com_pedido\",\"Status do Pedido:delivered\\u003cbr\\u003eClasse: satisfeito_com_pedido\",\"Status do Pedido:delivered\\u003cbr\\u003eClasse: problemas_de_entrega\",\"Status do Pedido:delivered\\u003cbr\\u003eClasse: problemas_de_entrega\",\"Status do Pedido:delivered\\u003cbr\\u003eClasse: problemas_de_qualidade\",\"Status do Pedido:delivered\\u003cbr\\u003eClasse: problemas_de_entrega\",\"Status do Pedido:delivered\\u003cbr\\u003eClasse: problemas_de_qualidade\",\"Status do Pedido:delivered\\u003cbr\\u003eClasse: satisfeito_com_pedido\",\"Status do Pedido:delivered\\u003cbr\\u003eClasse: problemas_de_entrega\",\"Status do Pedido:delivered\\u003cbr\\u003eClasse: satisfeito_com_pedido\",\"Status do Pedido:delivered\\u003cbr\\u003eClasse: satisfeito_com_pedido\",\"Status do Pedido:delivered\\u003cbr\\u003eClasse: satisfeito_com_pedido\",\"Status do Pedido:delivered\\u003cbr\\u003eClasse: satisfeito_com_pedido\",\"Status do Pedido:delivered\\u003cbr\\u003eClasse: problemas_de_entrega\",\"Status do Pedido:delivered\\u003cbr\\u003eClasse: satisfeito_com_pedido\",\"Status do Pedido:delivered\\u003cbr\\u003eClasse: satisfeito_com_pedido\",\"Status do Pedido:delivered\\u003cbr\\u003eClasse: problemas_de_qualidade\",null,\"Status do Pedido:delivered\\u003cbr\\u003eClasse: satisfeito_com_pedido\",\"Status do Pedido:delivered\\u003cbr\\u003eClasse: satisfeito_com_pedido\",\"Status do Pedido:delivered\\u003cbr\\u003eClasse: satisfeito_com_pedido\",\"Status do Pedido:delivered\\u003cbr\\u003eClasse: satisfeito_com_pedido\",null,\"Status do Pedido:delivered\\u003cbr\\u003eClasse: satisfeito_com_pedido\",\"Status do Pedido:delivered\\u003cbr\\u003eClasse: problemas_de_qualidade\",\"Status do Pedido:delivered\\u003cbr\\u003eClasse: satisfeito_com_pedido\",\"Status do Pedido:delivered\\u003cbr\\u003eClasse: problemas_de_entrega\",\"Status do Pedido:delivered\\u003cbr\\u003eClasse: satisfeito_com_pedido\",\"Status do Pedido:invoiced\\u003cbr\\u003eClasse: problemas_de_entrega\",\"Status do Pedido:delivered\\u003cbr\\u003eClasse: problemas_de_entrega\",\"Status do Pedido:delivered\\u003cbr\\u003eClasse: problemas_de_entrega\",\"Status do Pedido:delivered\\u003cbr\\u003eClasse: satisfeito_com_pedido\",\"Status do Pedido:delivered\\u003cbr\\u003eClasse: problemas_de_entrega\",\"Status do Pedido:delivered\\u003cbr\\u003eClasse: satisfeito_com_pedido\",\"Status do Pedido:delivered\\u003cbr\\u003eClasse: satisfeito_com_pedido\",\"Status do Pedido:delivered\\u003cbr\\u003eClasse: problemas_de_entrega\",\"Status do Pedido:delivered\\u003cbr\\u003eClasse: satisfeito_com_pedido\",\"Status do Pedido:delivered\\u003cbr\\u003eClasse: satisfeito_com_pedido\",\"Status do Pedido:delivered\\u003cbr\\u003eClasse: problemas_de_entrega\",\"Status do Pedido:delivered\\u003cbr\\u003eClasse: satisfeito_com_pedido\",\"Status do Pedido:delivered\\u003cbr\\u003eClasse: satisfeito_com_pedido\",\"Status do Pedido:delivered\\u003cbr\\u003eClasse: satisfeito_com_pedido\",\"Status do Pedido:delivered\\u003cbr\\u003eClasse: problemas_de_qualidade\",\"Status do Pedido:delivered\\u003cbr\\u003eClasse: problemas_de_entrega\",\"Status do Pedido:delivered\\u003cbr\\u003eClasse: problemas_de_qualidade\",\"Status do Pedido:delivered\\u003cbr\\u003eClasse: satisfeito_com_pedido\",\"Status do Pedido:delivered\\u003cbr\\u003eClasse: satisfeito_com_pedido\",\"Status do Pedido:delivered\\u003cbr\\u003eClasse: satisfeito_com_pedido\",\"Status do Pedido:delivered\\u003cbr\\u003eClasse: satisfeito_com_pedido\",\"Status do Pedido:delivered\\u003cbr\\u003eClasse: satisfeito_com_pedido\",\"Status do Pedido:delivered\\u003cbr\\u003eClasse: problemas_de_qualidade\",\"Status do Pedido:processing\\u003cbr\\u003eClasse: problemas_de_entrega\",\"Status do Pedido:delivered\\u003cbr\\u003eClasse: satisfeito_com_pedido\",\"Status do Pedido:delivered\\u003cbr\\u003eClasse: problemas_de_entrega\",null,\"Status do Pedido:delivered\\u003cbr\\u003eClasse: satisfeito_com_pedido\",\"Status do Pedido:delivered\\u003cbr\\u003eClasse: satisfeito_com_pedido\",null,\"Status do Pedido:delivered\\u003cbr\\u003eClasse: problemas_de_qualidade\",\"Status do Pedido:delivered\\u003cbr\\u003eClasse: satisfeito_com_pedido\",\"Status do Pedido:delivered\\u003cbr\\u003eClasse: satisfeito_com_pedido\",\"Status do Pedido:delivered\\u003cbr\\u003eClasse: satisfeito_com_pedido\",\"Status do Pedido:delivered\\u003cbr\\u003eClasse: satisfeito_com_pedido\",\"Status do Pedido:delivered\\u003cbr\\u003eClasse: satisfeito_com_pedido\",\"Status do Pedido:delivered\\u003cbr\\u003eClasse: satisfeito_com_pedido\",\"Status do Pedido:delivered\\u003cbr\\u003eClasse: satisfeito_com_pedido\",\"Status do Pedido:delivered\\u003cbr\\u003eClasse: satisfeito_com_pedido\",\"Status do Pedido:delivered\\u003cbr\\u003eClasse: problemas_de_qualidade\",null,\"Status do Pedido:delivered\\u003cbr\\u003eClasse: satisfeito_com_pedido\",\"Status do Pedido:delivered\\u003cbr\\u003eClasse: satisfeito_com_pedido\",\"Status do Pedido:delivered\\u003cbr\\u003eClasse: problemas_de_entrega\",\"Status do Pedido:delivered\\u003cbr\\u003eClasse: problemas_de_qualidade\",null,\"Status do Pedido:delivered\\u003cbr\\u003eClasse: satisfeito_com_pedido\",\"Status do Pedido:delivered\\u003cbr\\u003eClasse: satisfeito_com_pedido\",\"Status do Pedido:delivered\\u003cbr\\u003eClasse: satisfeito_com_pedido\",\"Status do Pedido:delivered\\u003cbr\\u003eClasse: problemas_de_entrega\",\"Status do Pedido:delivered\\u003cbr\\u003eClasse: problemas_de_entrega\",\"Status do Pedido:delivered\\u003cbr\\u003eClasse: problemas_de_qualidade\",\"Status do Pedido:delivered\\u003cbr\\u003eClasse: satisfeito_com_pedido\",\"Status do Pedido:delivered\\u003cbr\\u003eClasse: problemas_de_qualidade\",\"Status do Pedido:delivered\\u003cbr\\u003eClasse: satisfeito_com_pedido\",\"Status do Pedido:delivered\\u003cbr\\u003eClasse: satisfeito_com_pedido\",\"Status do Pedido:delivered\\u003cbr\\u003eClasse: satisfeito_com_pedido\",\"Status do Pedido:delivered\\u003cbr\\u003eClasse: problemas_de_entrega\",\"Status do Pedido:delivered\\u003cbr\\u003eClasse: problemas_de_qualidade\",\"Status do Pedido:delivered\\u003cbr\\u003eClasse: problemas_de_entrega\",\"Status do Pedido:delivered\\u003cbr\\u003eClasse: problemas_de_entrega\",\"Status do Pedido:delivered\\u003cbr\\u003eClasse: satisfeito_com_pedido\",\"Status do Pedido:delivered\\u003cbr\\u003eClasse: satisfeito_com_pedido\",\"Status do Pedido:delivered\\u003cbr\\u003eClasse: satisfeito_com_pedido\",\"Status do Pedido:delivered\\u003cbr\\u003eClasse: satisfeito_com_pedido\",\"Status do Pedido:delivered\\u003cbr\\u003eClasse: satisfeito_com_pedido\",\"Status do Pedido:delivered\\u003cbr\\u003eClasse: satisfeito_com_pedido\",\"Status do Pedido:delivered\\u003cbr\\u003eClasse: satisfeito_com_pedido\",\"Status do Pedido:delivered\\u003cbr\\u003eClasse: problemas_de_qualidade\",\"Status do Pedido:delivered\\u003cbr\\u003eClasse: problemas_de_qualidade\",\"Status do Pedido:delivered\\u003cbr\\u003eClasse: satisfeito_com_pedido\",\"Status do Pedido:delivered\\u003cbr\\u003eClasse: satisfeito_com_pedido\",\"Status do Pedido:delivered\\u003cbr\\u003eClasse: satisfeito_com_pedido\",\"Status do Pedido:delivered\\u003cbr\\u003eClasse: satisfeito_com_pedido\",\"Status do Pedido:delivered\\u003cbr\\u003eClasse: satisfeito_com_pedido\",\"Status do Pedido:delivered\\u003cbr\\u003eClasse: problemas_de_entrega\",\"Status do Pedido:delivered\\u003cbr\\u003eClasse: problemas_de_entrega\",\"Status do Pedido:delivered\\u003cbr\\u003eClasse: problemas_de_entrega\",\"Status do Pedido:delivered\\u003cbr\\u003eClasse: satisfeito_com_pedido\",\"Status do Pedido:delivered\\u003cbr\\u003eClasse: satisfeito_com_pedido\",\"Status do Pedido:delivered\\u003cbr\\u003eClasse: satisfeito_com_pedido\",\"Status do Pedido:delivered\\u003cbr\\u003eClasse: problemas_de_qualidade\",\"Status do Pedido:delivered\\u003cbr\\u003eClasse: satisfeito_com_pedido\",\"Status do Pedido:delivered\\u003cbr\\u003eClasse: satisfeito_com_pedido\",\"Status do Pedido:delivered\\u003cbr\\u003eClasse: satisfeito_com_pedido\",\"Status do Pedido:delivered\\u003cbr\\u003eClasse: satisfeito_com_pedido\",\"Status do Pedido:delivered\\u003cbr\\u003eClasse: problemas_de_qualidade\",\"Status do Pedido:delivered\\u003cbr\\u003eClasse: problemas_de_qualidade\",\"Status do Pedido:delivered\\u003cbr\\u003eClasse: problemas_de_qualidade\",\"Status do Pedido:delivered\\u003cbr\\u003eClasse: satisfeito_com_pedido\",\"Status do Pedido:delivered\\u003cbr\\u003eClasse: satisfeito_com_pedido\",\"Status do Pedido:delivered\\u003cbr\\u003eClasse: satisfeito_com_pedido\",\"Status do Pedido:delivered\\u003cbr\\u003eClasse: problemas_de_entrega\",\"Status do Pedido:delivered\\u003cbr\\u003eClasse: problemas_de_entrega\",\"Status do Pedido:delivered\\u003cbr\\u003eClasse: problemas_de_entrega\",\"Status do Pedido:delivered\\u003cbr\\u003eClasse: problemas_de_entrega\",\"Status do Pedido:delivered\\u003cbr\\u003eClasse: satisfeito_com_pedido\",\"Status do Pedido:delivered\\u003cbr\\u003eClasse: satisfeito_com_pedido\",\"Status do Pedido:delivered\\u003cbr\\u003eClasse: problemas_de_entrega\",\"Status do Pedido:delivered\\u003cbr\\u003eClasse: problemas_de_entrega\",\"Status do Pedido:delivered\\u003cbr\\u003eClasse: satisfeito_com_pedido\",\"Status do Pedido:delivered\\u003cbr\\u003eClasse: satisfeito_com_pedido\",\"Status do Pedido:delivered\\u003cbr\\u003eClasse: satisfeito_com_pedido\",\"Status do Pedido:delivered\\u003cbr\\u003eClasse: problemas_de_qualidade\",\"Status do Pedido:delivered\\u003cbr\\u003eClasse: satisfeito_com_pedido\",\"Status do Pedido:delivered\\u003cbr\\u003eClasse: satisfeito_com_pedido\",\"Status do Pedido:delivered\\u003cbr\\u003eClasse: problemas_de_entrega\",\"Status do Pedido:delivered\\u003cbr\\u003eClasse: satisfeito_com_pedido\",\"Status do Pedido:delivered\\u003cbr\\u003eClasse: satisfeito_com_pedido\",\"Status do Pedido:delivered\\u003cbr\\u003eClasse: problemas_de_entrega\",\"Status do Pedido:delivered\\u003cbr\\u003eClasse: satisfeito_com_pedido\",\"Status do Pedido:delivered\\u003cbr\\u003eClasse: satisfeito_com_pedido\",\"Status do Pedido:delivered\\u003cbr\\u003eClasse: problemas_de_entrega\",\"Status do Pedido:delivered\\u003cbr\\u003eClasse: problemas_de_qualidade\",\"Status do Pedido:delivered\\u003cbr\\u003eClasse: satisfeito_com_pedido\",\"Status do Pedido:delivered\\u003cbr\\u003eClasse: satisfeito_com_pedido\",\"Status do Pedido:delivered\\u003cbr\\u003eClasse: problemas_de_entrega\",\"Status do Pedido:delivered\\u003cbr\\u003eClasse: problemas_de_qualidade\",\"Status do Pedido:delivered\\u003cbr\\u003eClasse: satisfeito_com_pedido\",\"Status do Pedido:delivered\\u003cbr\\u003eClasse: problemas_de_qualidade\",\"Status do Pedido:delivered\\u003cbr\\u003eClasse: satisfeito_com_pedido\",\"Status do Pedido:delivered\\u003cbr\\u003eClasse: satisfeito_com_pedido\",\"Status do Pedido:delivered\\u003cbr\\u003eClasse: problemas_de_qualidade\",\"Status do Pedido:delivered\\u003cbr\\u003eClasse: problemas_de_qualidade\",\"Status do Pedido:delivered\\u003cbr\\u003eClasse: problemas_de_entrega\",\"Status do Pedido:delivered\\u003cbr\\u003eClasse: problemas_de_qualidade\",\"Status do Pedido:delivered\\u003cbr\\u003eClasse: problemas_de_entrega\",\"Status do Pedido:delivered\\u003cbr\\u003eClasse: satisfeito_com_pedido\",\"Status do Pedido:delivered\\u003cbr\\u003eClasse: problemas_de_qualidade\",\"Status do Pedido:delivered\\u003cbr\\u003eClasse: satisfeito_com_pedido\",\"Status do Pedido:delivered\\u003cbr\\u003eClasse: problemas_de_entrega\",\"Status do Pedido:delivered\\u003cbr\\u003eClasse: problemas_de_entrega\",\"Status do Pedido:delivered\\u003cbr\\u003eClasse: problemas_de_qualidade\",\"Status do Pedido:invoiced\\u003cbr\\u003eClasse: problemas_de_entrega\",\"Status do Pedido:delivered\\u003cbr\\u003eClasse: satisfeito_com_pedido\",\"Status do Pedido:delivered\\u003cbr\\u003eClasse: satisfeito_com_pedido\",\"Status do Pedido:delivered\\u003cbr\\u003eClasse: satisfeito_com_pedido\",\"Status do Pedido:delivered\\u003cbr\\u003eClasse: problemas_de_entrega\",\"Status do Pedido:delivered\\u003cbr\\u003eClasse: problemas_de_qualidade\",\"Status do Pedido:delivered\\u003cbr\\u003eClasse: satisfeito_com_pedido\",\"Status do Pedido:delivered\\u003cbr\\u003eClasse: problemas_de_qualidade\",\"Status do Pedido:delivered\\u003cbr\\u003eClasse: satisfeito_com_pedido\",\"Status do Pedido:delivered\\u003cbr\\u003eClasse: satisfeito_com_pedido\",\"Status do Pedido:delivered\\u003cbr\\u003eClasse: satisfeito_com_pedido\",\"Status do Pedido:delivered\\u003cbr\\u003eClasse: problemas_de_qualidade\",null,\"Status do Pedido:delivered\\u003cbr\\u003eClasse: problemas_de_qualidade\",\"Status do Pedido:delivered\\u003cbr\\u003eClasse: satisfeito_com_pedido\",\"Status do Pedido:delivered\\u003cbr\\u003eClasse: satisfeito_com_pedido\",\"Status do Pedido:delivered\\u003cbr\\u003eClasse: satisfeito_com_pedido\",null,\"Status do Pedido:delivered\\u003cbr\\u003eClasse: satisfeito_com_pedido\",\"Status do Pedido:delivered\\u003cbr\\u003eClasse: satisfeito_com_pedido\",\"Status do Pedido:delivered\\u003cbr\\u003eClasse: satisfeito_com_pedido\",\"Status do Pedido:delivered\\u003cbr\\u003eClasse: satisfeito_com_pedido\",\"Status do Pedido:delivered\\u003cbr\\u003eClasse: satisfeito_com_pedido\",\"Status do Pedido:delivered\\u003cbr\\u003eClasse: satisfeito_com_pedido\",\"Status do Pedido:delivered\\u003cbr\\u003eClasse: satisfeito_com_pedido\",\"Status do Pedido:canceled\\u003cbr\\u003eClasse: problemas_de_qualidade\",\"Status do Pedido:delivered\\u003cbr\\u003eClasse: problemas_de_entrega\",\"Status do Pedido:delivered\\u003cbr\\u003eClasse: satisfeito_com_pedido\",\"Status do Pedido:delivered\\u003cbr\\u003eClasse: satisfeito_com_pedido\",\"Status do Pedido:delivered\\u003cbr\\u003eClasse: problemas_de_entrega\",\"Status do Pedido:delivered\\u003cbr\\u003eClasse: problemas_de_entrega\",\"Status do Pedido:delivered\\u003cbr\\u003eClasse: satisfeito_com_pedido\",\"Status do Pedido:delivered\\u003cbr\\u003eClasse: satisfeito_com_pedido\",\"Status do Pedido:delivered\\u003cbr\\u003eClasse: satisfeito_com_pedido\",\"Status do Pedido:delivered\\u003cbr\\u003eClasse: problemas_de_entrega\",\"Status do Pedido:delivered\\u003cbr\\u003eClasse: problemas_de_entrega\",\"Status do Pedido:delivered\\u003cbr\\u003eClasse: problemas_de_entrega\",\"Status do Pedido:delivered\\u003cbr\\u003eClasse: problemas_de_entrega\",\"Status do Pedido:delivered\\u003cbr\\u003eClasse: problemas_de_entrega\",\"Status do Pedido:delivered\\u003cbr\\u003eClasse: satisfeito_com_pedido\",\"Status do Pedido:delivered\\u003cbr\\u003eClasse: problemas_de_entrega\",\"Status do Pedido:delivered\\u003cbr\\u003eClasse: satisfeito_com_pedido\",\"Status do Pedido:delivered\\u003cbr\\u003eClasse: problemas_de_qualidade\",\"Status do Pedido:delivered\\u003cbr\\u003eClasse: problemas_de_entrega\",\"Status do Pedido:delivered\\u003cbr\\u003eClasse: problemas_de_entrega\",\"Status do Pedido:delivered\\u003cbr\\u003eClasse: satisfeito_com_pedido\",\"Status do Pedido:delivered\\u003cbr\\u003eClasse: problemas_de_entrega\",\"Status do Pedido:delivered\\u003cbr\\u003eClasse: satisfeito_com_pedido\",\"Status do Pedido:delivered\\u003cbr\\u003eClasse: satisfeito_com_pedido\",\"Status do Pedido:delivered\\u003cbr\\u003eClasse: satisfeito_com_pedido\",\"Status do Pedido:delivered\\u003cbr\\u003eClasse: satisfeito_com_pedido\",\"Status do Pedido:delivered\\u003cbr\\u003eClasse: problemas_de_entrega\",\"Status do Pedido:delivered\\u003cbr\\u003eClasse: satisfeito_com_pedido\",\"Status do Pedido:delivered\\u003cbr\\u003eClasse: satisfeito_com_pedido\",\"Status do Pedido:delivered\\u003cbr\\u003eClasse: problemas_de_entrega\",\"Status do Pedido:delivered\\u003cbr\\u003eClasse: problemas_de_qualidade\",\"Status do Pedido:delivered\\u003cbr\\u003eClasse: problemas_de_entrega\",\"Status do Pedido:delivered\\u003cbr\\u003eClasse: satisfeito_com_pedido\",\"Status do Pedido:delivered\\u003cbr\\u003eClasse: problemas_de_entrega\",\"Status do Pedido:delivered\\u003cbr\\u003eClasse: satisfeito_com_pedido\",\"Status do Pedido:delivered\\u003cbr\\u003eClasse: satisfeito_com_pedido\",\"Status do Pedido:canceled\\u003cbr\\u003eClasse: problemas_de_entrega\",\"Status do Pedido:delivered\\u003cbr\\u003eClasse: satisfeito_com_pedido\",\"Status do Pedido:delivered\\u003cbr\\u003eClasse: problemas_de_qualidade\",\"Status do Pedido:delivered\\u003cbr\\u003eClasse: problemas_de_qualidade\",\"Status do Pedido:delivered\\u003cbr\\u003eClasse: satisfeito_com_pedido\",\"Status do Pedido:delivered\\u003cbr\\u003eClasse: satisfeito_com_pedido\",\"Status do Pedido:delivered\\u003cbr\\u003eClasse: problemas_de_qualidade\",\"Status do Pedido:delivered\\u003cbr\\u003eClasse: satisfeito_com_pedido\",\"Status do Pedido:delivered\\u003cbr\\u003eClasse: satisfeito_com_pedido\",\"Status do Pedido:delivered\\u003cbr\\u003eClasse: satisfeito_com_pedido\",\"Status do Pedido:delivered\\u003cbr\\u003eClasse: problemas_de_qualidade\",\"Status do Pedido:delivered\\u003cbr\\u003eClasse: problemas_de_entrega\",\"Status do Pedido:delivered\\u003cbr\\u003eClasse: problemas_de_entrega\",\"Status do Pedido:delivered\\u003cbr\\u003eClasse: satisfeito_com_pedido\",\"Status do Pedido:delivered\\u003cbr\\u003eClasse: satisfeito_com_pedido\",null,\"Status do Pedido:delivered\\u003cbr\\u003eClasse: satisfeito_com_pedido\",null,\"Status do Pedido:delivered\\u003cbr\\u003eClasse: satisfeito_com_pedido\",\"Status do Pedido:delivered\\u003cbr\\u003eClasse: satisfeito_com_pedido\",\"Status do Pedido:delivered\\u003cbr\\u003eClasse: problemas_de_qualidade\",\"Status do Pedido:delivered\\u003cbr\\u003eClasse: problemas_de_qualidade\",\"Status do Pedido:delivered\\u003cbr\\u003eClasse: satisfeito_com_pedido\",\"Status do Pedido:delivered\\u003cbr\\u003eClasse: problemas_de_entrega\",\"Status do Pedido:delivered\\u003cbr\\u003eClasse: satisfeito_com_pedido\",\"Status do Pedido:delivered\\u003cbr\\u003eClasse: satisfeito_com_pedido\",\"Status do Pedido:delivered\\u003cbr\\u003eClasse: problemas_de_entrega\",\"Status do Pedido:delivered\\u003cbr\\u003eClasse: satisfeito_com_pedido\",\"Status do Pedido:delivered\\u003cbr\\u003eClasse: problemas_de_qualidade\",\"Status do Pedido:delivered\\u003cbr\\u003eClasse: satisfeito_com_pedido\",\"Status do Pedido:delivered\\u003cbr\\u003eClasse: satisfeito_com_pedido\",\"Status do Pedido:delivered\\u003cbr\\u003eClasse: satisfeito_com_pedido\",\"Status do Pedido:delivered\\u003cbr\\u003eClasse: problemas_de_entrega\",\"Status do Pedido:delivered\\u003cbr\\u003eClasse: satisfeito_com_pedido\",\"Status do Pedido:delivered\\u003cbr\\u003eClasse: problemas_de_entrega\",\"Status do Pedido:delivered\\u003cbr\\u003eClasse: satisfeito_com_pedido\",\"Status do Pedido:delivered\\u003cbr\\u003eClasse: problemas_de_qualidade\",null,\"Status do Pedido:shipped\\u003cbr\\u003eClasse: problemas_de_qualidade\",\"Status do Pedido:invoiced\\u003cbr\\u003eClasse: problemas_de_entrega\",\"Status do Pedido:delivered\\u003cbr\\u003eClasse: satisfeito_com_pedido\",\"Status do Pedido:delivered\\u003cbr\\u003eClasse: problemas_de_qualidade\",\"Status do Pedido:delivered\\u003cbr\\u003eClasse: problemas_de_qualidade\",\"Status do Pedido:delivered\\u003cbr\\u003eClasse: satisfeito_com_pedido\",null,\"Status do Pedido:delivered\\u003cbr\\u003eClasse: satisfeito_com_pedido\",\"Status do Pedido:delivered\\u003cbr\\u003eClasse: satisfeito_com_pedido\",\"Status do Pedido:delivered\\u003cbr\\u003eClasse: satisfeito_com_pedido\",\"Status do Pedido:delivered\\u003cbr\\u003eClasse: problemas_de_entrega\",\"Status do Pedido:delivered\\u003cbr\\u003eClasse: satisfeito_com_pedido\",\"Status do Pedido:delivered\\u003cbr\\u003eClasse: satisfeito_com_pedido\",\"Status do Pedido:delivered\\u003cbr\\u003eClasse: satisfeito_com_pedido\",\"Status do Pedido:delivered\\u003cbr\\u003eClasse: problemas_de_entrega\",\"Status do Pedido:delivered\\u003cbr\\u003eClasse: satisfeito_com_pedido\",\"Status do Pedido:delivered\\u003cbr\\u003eClasse: satisfeito_com_pedido\",\"Status do Pedido:delivered\\u003cbr\\u003eClasse: problemas_de_entrega\",\"Status do Pedido:delivered\\u003cbr\\u003eClasse: problemas_de_qualidade\",\"Status do Pedido:delivered\\u003cbr\\u003eClasse: satisfeito_com_pedido\",\"Status do Pedido:delivered\\u003cbr\\u003eClasse: satisfeito_com_pedido\",null,\"Status do Pedido:delivered\\u003cbr\\u003eClasse: problemas_de_qualidade\",\"Status do Pedido:delivered\\u003cbr\\u003eClasse: problemas_de_qualidade\",\"Status do Pedido:delivered\\u003cbr\\u003eClasse: problemas_de_qualidade\",\"Status do Pedido:delivered\\u003cbr\\u003eClasse: satisfeito_com_pedido\",\"Status do Pedido:delivered\\u003cbr\\u003eClasse: satisfeito_com_pedido\",\"Status do Pedido:delivered\\u003cbr\\u003eClasse: satisfeito_com_pedido\",\"Status do Pedido:delivered\\u003cbr\\u003eClasse: satisfeito_com_pedido\",\"Status do Pedido:delivered\\u003cbr\\u003eClasse: satisfeito_com_pedido\",null,\"Status do Pedido:delivered\\u003cbr\\u003eClasse: problemas_de_entrega\",\"Status do Pedido:delivered\\u003cbr\\u003eClasse: satisfeito_com_pedido\",\"Status do Pedido:delivered\\u003cbr\\u003eClasse: satisfeito_com_pedido\",\"Status do Pedido:delivered\\u003cbr\\u003eClasse: satisfeito_com_pedido\",\"Status do Pedido:delivered\\u003cbr\\u003eClasse: satisfeito_com_pedido\",null,\"Status do Pedido:delivered\\u003cbr\\u003eClasse: satisfeito_com_pedido\",\"Status do Pedido:delivered\\u003cbr\\u003eClasse: satisfeito_com_pedido\",\"Status do Pedido:delivered\\u003cbr\\u003eClasse: satisfeito_com_pedido\",\"Status do Pedido:delivered\\u003cbr\\u003eClasse: problemas_de_entrega\",\"Status do Pedido:delivered\\u003cbr\\u003eClasse: satisfeito_com_pedido\",\"Status do Pedido:delivered\\u003cbr\\u003eClasse: satisfeito_com_pedido\",\"Status do Pedido:delivered\\u003cbr\\u003eClasse: problemas_de_entrega\",\"Status do Pedido:delivered\\u003cbr\\u003eClasse: satisfeito_com_pedido\",\"Status do Pedido:delivered\\u003cbr\\u003eClasse: problemas_de_entrega\",\"Status do Pedido:delivered\\u003cbr\\u003eClasse: satisfeito_com_pedido\",null,\"Status do Pedido:delivered\\u003cbr\\u003eClasse: satisfeito_com_pedido\",\"Status do Pedido:delivered\\u003cbr\\u003eClasse: problemas_de_qualidade\",\"Status do Pedido:delivered\\u003cbr\\u003eClasse: satisfeito_com_pedido\",\"Status do Pedido:delivered\\u003cbr\\u003eClasse: satisfeito_com_pedido\",\"Status do Pedido:delivered\\u003cbr\\u003eClasse: satisfeito_com_pedido\",\"Status do Pedido:delivered\\u003cbr\\u003eClasse: problemas_de_qualidade\",\"Status do Pedido:delivered\\u003cbr\\u003eClasse: satisfeito_com_pedido\",\"Status do Pedido:delivered\\u003cbr\\u003eClasse: satisfeito_com_pedido\",\"Status do Pedido:delivered\\u003cbr\\u003eClasse: satisfeito_com_pedido\",\"Status do Pedido:delivered\\u003cbr\\u003eClasse: problemas_de_entrega\",\"Status do Pedido:delivered\\u003cbr\\u003eClasse: satisfeito_com_pedido\",\"Status do Pedido:delivered\\u003cbr\\u003eClasse: problemas_de_entrega\",null,\"Status do Pedido:delivered\\u003cbr\\u003eClasse: problemas_de_qualidade\",\"Status do Pedido:delivered\\u003cbr\\u003eClasse: problemas_de_qualidade\",\"Status do Pedido:delivered\\u003cbr\\u003eClasse: satisfeito_com_pedido\",\"Status do Pedido:delivered\\u003cbr\\u003eClasse: satisfeito_com_pedido\",\"Status do Pedido:delivered\\u003cbr\\u003eClasse: problemas_de_qualidade\",\"Status do Pedido:delivered\\u003cbr\\u003eClasse: satisfeito_com_pedido\",\"Status do Pedido:delivered\\u003cbr\\u003eClasse: satisfeito_com_pedido\",\"Status do Pedido:delivered\\u003cbr\\u003eClasse: problemas_de_entrega\",\"Status do Pedido:delivered\\u003cbr\\u003eClasse: satisfeito_com_pedido\",\"Status do Pedido:delivered\\u003cbr\\u003eClasse: problemas_de_entrega\",\"Status do Pedido:delivered\\u003cbr\\u003eClasse: problemas_de_qualidade\",\"Status do Pedido:delivered\\u003cbr\\u003eClasse: problemas_de_qualidade\",\"Status do Pedido:delivered\\u003cbr\\u003eClasse: problemas_de_entrega\",\"Status do Pedido:delivered\\u003cbr\\u003eClasse: satisfeito_com_pedido\",\"Status do Pedido:delivered\\u003cbr\\u003eClasse: problemas_de_qualidade\",\"Status do Pedido:delivered\\u003cbr\\u003eClasse: problemas_de_entrega\",\"Status do Pedido:delivered\\u003cbr\\u003eClasse: problemas_de_entrega\",\"Status do Pedido:delivered\\u003cbr\\u003eClasse: problemas_de_entrega\",\"Status do Pedido:delivered\\u003cbr\\u003eClasse: satisfeito_com_pedido\",\"Status do Pedido:delivered\\u003cbr\\u003eClasse: problemas_de_qualidade\",\"Status do Pedido:delivered\\u003cbr\\u003eClasse: satisfeito_com_pedido\",\"Status do Pedido:delivered\\u003cbr\\u003eClasse: satisfeito_com_pedido\",\"Status do Pedido:delivered\\u003cbr\\u003eClasse: satisfeito_com_pedido\",\"Status do Pedido:delivered\\u003cbr\\u003eClasse: problemas_de_qualidade\",\"Status do Pedido:delivered\\u003cbr\\u003eClasse: problemas_de_entrega\",\"Status do Pedido:delivered\\u003cbr\\u003eClasse: problemas_de_qualidade\",\"Status do Pedido:delivered\\u003cbr\\u003eClasse: problemas_de_entrega\",null,\"Status do Pedido:delivered\\u003cbr\\u003eClasse: problemas_de_qualidade\",\"Status do Pedido:delivered\\u003cbr\\u003eClasse: satisfeito_com_pedido\",\"Status do Pedido:delivered\\u003cbr\\u003eClasse: satisfeito_com_pedido\",\"Status do Pedido:delivered\\u003cbr\\u003eClasse: satisfeito_com_pedido\",\"Status do Pedido:delivered\\u003cbr\\u003eClasse: satisfeito_com_pedido\",\"Status do Pedido:delivered\\u003cbr\\u003eClasse: problemas_de_entrega\",\"Status do Pedido:delivered\\u003cbr\\u003eClasse: problemas_de_qualidade\",\"Status do Pedido:delivered\\u003cbr\\u003eClasse: satisfeito_com_pedido\",\"Status do Pedido:delivered\\u003cbr\\u003eClasse: satisfeito_com_pedido\",\"Status do Pedido:delivered\\u003cbr\\u003eClasse: satisfeito_com_pedido\",\"Status do Pedido:delivered\\u003cbr\\u003eClasse: satisfeito_com_pedido\",\"Status do Pedido:delivered\\u003cbr\\u003eClasse: satisfeito_com_pedido\",null,\"Status do Pedido:delivered\\u003cbr\\u003eClasse: problemas_de_qualidade\",\"Status do Pedido:delivered\\u003cbr\\u003eClasse: satisfeito_com_pedido\",\"Status do Pedido:delivered\\u003cbr\\u003eClasse: problemas_de_entrega\",\"Status do Pedido:delivered\\u003cbr\\u003eClasse: satisfeito_com_pedido\",\"Status do Pedido:delivered\\u003cbr\\u003eClasse: satisfeito_com_pedido\",\"Status do Pedido:delivered\\u003cbr\\u003eClasse: problemas_de_entrega\",\"Status do Pedido:delivered\\u003cbr\\u003eClasse: satisfeito_com_pedido\",\"Status do Pedido:delivered\\u003cbr\\u003eClasse: satisfeito_com_pedido\",\"Status do Pedido:delivered\\u003cbr\\u003eClasse: problemas_de_qualidade\",\"Status do Pedido:delivered\\u003cbr\\u003eClasse: problemas_de_entrega\",\"Status do Pedido:delivered\\u003cbr\\u003eClasse: satisfeito_com_pedido\",\"Status do Pedido:delivered\\u003cbr\\u003eClasse: problemas_de_qualidade\",\"Status do Pedido:delivered\\u003cbr\\u003eClasse: problemas_de_qualidade\",\"Status do Pedido:delivered\\u003cbr\\u003eClasse: satisfeito_com_pedido\",\"Status do Pedido:delivered\\u003cbr\\u003eClasse: problemas_de_entrega\",\"Status do Pedido:delivered\\u003cbr\\u003eClasse: problemas_de_entrega\",\"Status do Pedido:delivered\\u003cbr\\u003eClasse: satisfeito_com_pedido\",\"Status do Pedido:delivered\\u003cbr\\u003eClasse: satisfeito_com_pedido\",\"Status do Pedido:delivered\\u003cbr\\u003eClasse: satisfeito_com_pedido\",\"Status do Pedido:delivered\\u003cbr\\u003eClasse: satisfeito_com_pedido\",\"Status do Pedido:delivered\\u003cbr\\u003eClasse: satisfeito_com_pedido\",\"Status do Pedido:delivered\\u003cbr\\u003eClasse: problemas_de_qualidade\",\"Status do Pedido:delivered\\u003cbr\\u003eClasse: problemas_de_entrega\",\"Status do Pedido:delivered\\u003cbr\\u003eClasse: problemas_de_entrega\",\"Status do Pedido:delivered\\u003cbr\\u003eClasse: satisfeito_com_pedido\",\"Status do Pedido:shipped\\u003cbr\\u003eClasse: problemas_de_entrega\",\"Status do Pedido:delivered\\u003cbr\\u003eClasse: problemas_de_entrega\",\"Status do Pedido:delivered\\u003cbr\\u003eClasse: satisfeito_com_pedido\",\"Status do Pedido:delivered\\u003cbr\\u003eClasse: satisfeito_com_pedido\",\"Status do Pedido:delivered\\u003cbr\\u003eClasse: satisfeito_com_pedido\",\"Status do Pedido:delivered\\u003cbr\\u003eClasse: satisfeito_com_pedido\",\"Status do Pedido:delivered\\u003cbr\\u003eClasse: satisfeito_com_pedido\",\"Status do Pedido:delivered\\u003cbr\\u003eClasse: problemas_de_qualidade\",\"Status do Pedido:delivered\\u003cbr\\u003eClasse: satisfeito_com_pedido\",\"Status do Pedido:shipped\\u003cbr\\u003eClasse: problemas_de_entrega\",\"Status do Pedido:delivered\\u003cbr\\u003eClasse: satisfeito_com_pedido\",\"Status do Pedido:delivered\\u003cbr\\u003eClasse: problemas_de_entrega\",\"Status do Pedido:delivered\\u003cbr\\u003eClasse: satisfeito_com_pedido\",\"Status do Pedido:delivered\\u003cbr\\u003eClasse: satisfeito_com_pedido\",\"Status do Pedido:delivered\\u003cbr\\u003eClasse: satisfeito_com_pedido\",\"Status do Pedido:delivered\\u003cbr\\u003eClasse: satisfeito_com_pedido\",\"Status do Pedido:delivered\\u003cbr\\u003eClasse: satisfeito_com_pedido\",\"Status do Pedido:delivered\\u003cbr\\u003eClasse: satisfeito_com_pedido\",\"Status do Pedido:delivered\\u003cbr\\u003eClasse: problemas_de_qualidade\",\"Status do Pedido:delivered\\u003cbr\\u003eClasse: satisfeito_com_pedido\",\"Status do Pedido:delivered\\u003cbr\\u003eClasse: satisfeito_com_pedido\",\"Status do Pedido:delivered\\u003cbr\\u003eClasse: satisfeito_com_pedido\",\"Status do Pedido:delivered\\u003cbr\\u003eClasse: problemas_de_entrega\",\"Status do Pedido:delivered\\u003cbr\\u003eClasse: satisfeito_com_pedido\",\"Status do Pedido:delivered\\u003cbr\\u003eClasse: satisfeito_com_pedido\",\"Status do Pedido:delivered\\u003cbr\\u003eClasse: satisfeito_com_pedido\",\"Status do Pedido:delivered\\u003cbr\\u003eClasse: problemas_de_qualidade\",\"Status do Pedido:delivered\\u003cbr\\u003eClasse: satisfeito_com_pedido\",\"Status do Pedido:delivered\\u003cbr\\u003eClasse: satisfeito_com_pedido\",null,\"Status do Pedido:delivered\\u003cbr\\u003eClasse: satisfeito_com_pedido\",\"Status do Pedido:delivered\\u003cbr\\u003eClasse: problemas_de_qualidade\",\"Status do Pedido:delivered\\u003cbr\\u003eClasse: satisfeito_com_pedido\",\"Status do Pedido:delivered\\u003cbr\\u003eClasse: problemas_de_qualidade\",\"Status do Pedido:delivered\\u003cbr\\u003eClasse: satisfeito_com_pedido\",\"Status do Pedido:delivered\\u003cbr\\u003eClasse: problemas_de_entrega\",\"Status do Pedido:delivered\\u003cbr\\u003eClasse: satisfeito_com_pedido\",\"Status do Pedido:delivered\\u003cbr\\u003eClasse: satisfeito_com_pedido\",\"Status do Pedido:delivered\\u003cbr\\u003eClasse: satisfeito_com_pedido\",null,\"Status do Pedido:delivered\\u003cbr\\u003eClasse: problemas_de_entrega\",\"Status do Pedido:delivered\\u003cbr\\u003eClasse: satisfeito_com_pedido\",null,\"Status do Pedido:canceled\\u003cbr\\u003eClasse: problemas_de_entrega\",\"Status do Pedido:delivered\\u003cbr\\u003eClasse: problemas_de_entrega\",\"Status do Pedido:delivered\\u003cbr\\u003eClasse: problemas_de_qualidade\",\"Status do Pedido:delivered\\u003cbr\\u003eClasse: problemas_de_entrega\",\"Status do Pedido:delivered\\u003cbr\\u003eClasse: problemas_de_qualidade\",\"Status do Pedido:delivered\\u003cbr\\u003eClasse: satisfeito_com_pedido\",\"Status do Pedido:delivered\\u003cbr\\u003eClasse: satisfeito_com_pedido\",\"Status do Pedido:delivered\\u003cbr\\u003eClasse: satisfeito_com_pedido\",null,\"Status do Pedido:shipped\\u003cbr\\u003eClasse: problemas_de_entrega\",\"Status do Pedido:delivered\\u003cbr\\u003eClasse: satisfeito_com_pedido\",\"Status do Pedido:delivered\\u003cbr\\u003eClasse: problemas_de_qualidade\",\"Status do Pedido:delivered\\u003cbr\\u003eClasse: satisfeito_com_pedido\",\"Status do Pedido:delivered\\u003cbr\\u003eClasse: satisfeito_com_pedido\",\"Status do Pedido:delivered\\u003cbr\\u003eClasse: problemas_de_entrega\",\"Status do Pedido:shipped\\u003cbr\\u003eClasse: problemas_de_entrega\",\"Status do Pedido:delivered\\u003cbr\\u003eClasse: satisfeito_com_pedido\",\"Status do Pedido:delivered\\u003cbr\\u003eClasse: problemas_de_entrega\",\"Status do Pedido:delivered\\u003cbr\\u003eClasse: problemas_de_entrega\",null,\"Status do Pedido:delivered\\u003cbr\\u003eClasse: problemas_de_qualidade\",null,\"Status do Pedido:delivered\\u003cbr\\u003eClasse: satisfeito_com_pedido\",\"Status do Pedido:delivered\\u003cbr\\u003eClasse: problemas_de_entrega\",\"Status do Pedido:delivered\\u003cbr\\u003eClasse: satisfeito_com_pedido\",\"Status do Pedido:delivered\\u003cbr\\u003eClasse: satisfeito_com_pedido\",\"Status do Pedido:delivered\\u003cbr\\u003eClasse: satisfeito_com_pedido\",\"Status do Pedido:delivered\\u003cbr\\u003eClasse: problemas_de_entrega\",\"Status do Pedido:delivered\\u003cbr\\u003eClasse: satisfeito_com_pedido\",\"Status do Pedido:delivered\\u003cbr\\u003eClasse: satisfeito_com_pedido\",\"Status do Pedido:delivered\\u003cbr\\u003eClasse: problemas_de_entrega\",\"Status do Pedido:delivered\\u003cbr\\u003eClasse: satisfeito_com_pedido\",\"Status do Pedido:delivered\\u003cbr\\u003eClasse: satisfeito_com_pedido\",\"Status do Pedido:shipped\\u003cbr\\u003eClasse: problemas_de_qualidade\",\"Status do Pedido:delivered\\u003cbr\\u003eClasse: satisfeito_com_pedido\",\"Status do Pedido:delivered\\u003cbr\\u003eClasse: satisfeito_com_pedido\",\"Status do Pedido:delivered\\u003cbr\\u003eClasse: satisfeito_com_pedido\",\"Status do Pedido:delivered\\u003cbr\\u003eClasse: satisfeito_com_pedido\",\"Status do Pedido:delivered\\u003cbr\\u003eClasse: problemas_de_entrega\",\"Status do Pedido:delivered\\u003cbr\\u003eClasse: satisfeito_com_pedido\",\"Status do Pedido:delivered\\u003cbr\\u003eClasse: problemas_de_qualidade\",\"Status do Pedido:delivered\\u003cbr\\u003eClasse: satisfeito_com_pedido\",\"Status do Pedido:delivered\\u003cbr\\u003eClasse: problemas_de_qualidade\",\"Status do Pedido:delivered\\u003cbr\\u003eClasse: problemas_de_entrega\",\"Status do Pedido:delivered\\u003cbr\\u003eClasse: satisfeito_com_pedido\",\"Status do Pedido:delivered\\u003cbr\\u003eClasse: problemas_de_entrega\",\"Status do Pedido:delivered\\u003cbr\\u003eClasse: satisfeito_com_pedido\",\"Status do Pedido:delivered\\u003cbr\\u003eClasse: satisfeito_com_pedido\",\"Status do Pedido:delivered\\u003cbr\\u003eClasse: problemas_de_qualidade\",\"Status do Pedido:delivered\\u003cbr\\u003eClasse: problemas_de_qualidade\",\"Status do Pedido:delivered\\u003cbr\\u003eClasse: satisfeito_com_pedido\",\"Status do Pedido:delivered\\u003cbr\\u003eClasse: satisfeito_com_pedido\",\"Status do Pedido:delivered\\u003cbr\\u003eClasse: problemas_de_entrega\",\"Status do Pedido:delivered\\u003cbr\\u003eClasse: problemas_de_entrega\",\"Status do Pedido:delivered\\u003cbr\\u003eClasse: satisfeito_com_pedido\",null,\"Status do Pedido:delivered\\u003cbr\\u003eClasse: satisfeito_com_pedido\",\"Status do Pedido:delivered\\u003cbr\\u003eClasse: satisfeito_com_pedido\",\"Status do Pedido:delivered\\u003cbr\\u003eClasse: satisfeito_com_pedido\",\"Status do Pedido:delivered\\u003cbr\\u003eClasse: satisfeito_com_pedido\",\"Status do Pedido:delivered\\u003cbr\\u003eClasse: satisfeito_com_pedido\",\"Status do Pedido:delivered\\u003cbr\\u003eClasse: problemas_de_entrega\",\"Status do Pedido:delivered\\u003cbr\\u003eClasse: satisfeito_com_pedido\",\"Status do Pedido:delivered\\u003cbr\\u003eClasse: satisfeito_com_pedido\",\"Status do Pedido:delivered\\u003cbr\\u003eClasse: satisfeito_com_pedido\",\"Status do Pedido:delivered\\u003cbr\\u003eClasse: problemas_de_entrega\",\"Status do Pedido:delivered\\u003cbr\\u003eClasse: satisfeito_com_pedido\",\"Status do Pedido:delivered\\u003cbr\\u003eClasse: problemas_de_entrega\",\"Status do Pedido:delivered\\u003cbr\\u003eClasse: problemas_de_entrega\",\"Status do Pedido:delivered\\u003cbr\\u003eClasse: problemas_de_entrega\",\"Status do Pedido:delivered\\u003cbr\\u003eClasse: satisfeito_com_pedido\",\"Status do Pedido:delivered\\u003cbr\\u003eClasse: satisfeito_com_pedido\",\"Status do Pedido:shipped\\u003cbr\\u003eClasse: problemas_de_qualidade\",\"Status do Pedido:delivered\\u003cbr\\u003eClasse: satisfeito_com_pedido\",\"Status do Pedido:delivered\\u003cbr\\u003eClasse: problemas_de_entrega\",\"Status do Pedido:delivered\\u003cbr\\u003eClasse: problemas_de_qualidade\",\"Status do Pedido:delivered\\u003cbr\\u003eClasse: satisfeito_com_pedido\",\"Status do Pedido:delivered\\u003cbr\\u003eClasse: satisfeito_com_pedido\",\"Status do Pedido:delivered\\u003cbr\\u003eClasse: problemas_de_qualidade\",\"Status do Pedido:delivered\\u003cbr\\u003eClasse: problemas_de_entrega\",\"Status do Pedido:delivered\\u003cbr\\u003eClasse: satisfeito_com_pedido\",\"Status do Pedido:delivered\\u003cbr\\u003eClasse: satisfeito_com_pedido\",null,\"Status do Pedido:delivered\\u003cbr\\u003eClasse: problemas_de_entrega\",\"Status do Pedido:delivered\\u003cbr\\u003eClasse: satisfeito_com_pedido\",\"Status do Pedido:delivered\\u003cbr\\u003eClasse: problemas_de_entrega\",\"Status do Pedido:delivered\\u003cbr\\u003eClasse: satisfeito_com_pedido\",\"Status do Pedido:delivered\\u003cbr\\u003eClasse: satisfeito_com_pedido\",\"Status do Pedido:delivered\\u003cbr\\u003eClasse: problemas_de_entrega\",\"Status do Pedido:delivered\\u003cbr\\u003eClasse: problemas_de_qualidade\",\"Status do Pedido:delivered\\u003cbr\\u003eClasse: satisfeito_com_pedido\",\"Status do Pedido:delivered\\u003cbr\\u003eClasse: problemas_de_entrega\",\"Status do Pedido:delivered\\u003cbr\\u003eClasse: satisfeito_com_pedido\",\"Status do Pedido:delivered\\u003cbr\\u003eClasse: problemas_de_qualidade\",\"Status do Pedido:delivered\\u003cbr\\u003eClasse: satisfeito_com_pedido\",\"Status do Pedido:delivered\\u003cbr\\u003eClasse: problemas_de_qualidade\",\"Status do Pedido:delivered\\u003cbr\\u003eClasse: satisfeito_com_pedido\",\"Status do Pedido:processing\\u003cbr\\u003eClasse: problemas_de_entrega\",\"Status do Pedido:delivered\\u003cbr\\u003eClasse: satisfeito_com_pedido\",\"Status do Pedido:delivered\\u003cbr\\u003eClasse: satisfeito_com_pedido\",\"Status do Pedido:delivered\\u003cbr\\u003eClasse: problemas_de_qualidade\",null,\"Status do Pedido:delivered\\u003cbr\\u003eClasse: problemas_de_entrega\",\"Status do Pedido:delivered\\u003cbr\\u003eClasse: problemas_de_entrega\",\"Status do Pedido:delivered\\u003cbr\\u003eClasse: satisfeito_com_pedido\",\"Status do Pedido:delivered\\u003cbr\\u003eClasse: satisfeito_com_pedido\",\"Status do Pedido:delivered\\u003cbr\\u003eClasse: satisfeito_com_pedido\",\"Status do Pedido:invoiced\\u003cbr\\u003eClasse: problemas_de_entrega\",\"Status do Pedido:delivered\\u003cbr\\u003eClasse: satisfeito_com_pedido\",\"Status do Pedido:delivered\\u003cbr\\u003eClasse: satisfeito_com_pedido\",null,\"Status do Pedido:delivered\\u003cbr\\u003eClasse: satisfeito_com_pedido\",\"Status do Pedido:delivered\\u003cbr\\u003eClasse: satisfeito_com_pedido\",\"Status do Pedido:delivered\\u003cbr\\u003eClasse: problemas_de_entrega\",\"Status do Pedido:delivered\\u003cbr\\u003eClasse: satisfeito_com_pedido\",\"Status do Pedido:delivered\\u003cbr\\u003eClasse: satisfeito_com_pedido\",\"Status do Pedido:delivered\\u003cbr\\u003eClasse: problemas_de_entrega\",\"Status do Pedido:delivered\\u003cbr\\u003eClasse: satisfeito_com_pedido\",\"Status do Pedido:delivered\\u003cbr\\u003eClasse: problemas_de_entrega\",\"Status do Pedido:delivered\\u003cbr\\u003eClasse: problemas_de_entrega\",\"Status do Pedido:delivered\\u003cbr\\u003eClasse: problemas_de_entrega\",\"Status do Pedido:delivered\\u003cbr\\u003eClasse: satisfeito_com_pedido\",\"Status do Pedido:delivered\\u003cbr\\u003eClasse: satisfeito_com_pedido\",\"Status do Pedido:delivered\\u003cbr\\u003eClasse: problemas_de_entrega\",\"Status do Pedido:delivered\\u003cbr\\u003eClasse: problemas_de_entrega\",\"Status do Pedido:canceled\\u003cbr\\u003eClasse: problemas_de_qualidade\",\"Status do Pedido:delivered\\u003cbr\\u003eClasse: satisfeito_com_pedido\",\"Status do Pedido:delivered\\u003cbr\\u003eClasse: satisfeito_com_pedido\",\"Status do Pedido:delivered\\u003cbr\\u003eClasse: problemas_de_qualidade\",\"Status do Pedido:delivered\\u003cbr\\u003eClasse: satisfeito_com_pedido\",\"Status do Pedido:delivered\\u003cbr\\u003eClasse: problemas_de_entrega\",\"Status do Pedido:delivered\\u003cbr\\u003eClasse: satisfeito_com_pedido\",\"Status do Pedido:delivered\\u003cbr\\u003eClasse: problemas_de_qualidade\",\"Status do Pedido:invoiced\\u003cbr\\u003eClasse: problemas_de_entrega\",\"Status do Pedido:delivered\\u003cbr\\u003eClasse: satisfeito_com_pedido\",\"Status do Pedido:delivered\\u003cbr\\u003eClasse: satisfeito_com_pedido\",\"Status do Pedido:delivered\\u003cbr\\u003eClasse: satisfeito_com_pedido\",\"Status do Pedido:delivered\\u003cbr\\u003eClasse: satisfeito_com_pedido\",\"Status do Pedido:delivered\\u003cbr\\u003eClasse: satisfeito_com_pedido\",\"Status do Pedido:delivered\\u003cbr\\u003eClasse: satisfeito_com_pedido\",\"Status do Pedido:delivered\\u003cbr\\u003eClasse: problemas_de_entrega\",\"Status do Pedido:delivered\\u003cbr\\u003eClasse: satisfeito_com_pedido\",\"Status do Pedido:delivered\\u003cbr\\u003eClasse: satisfeito_com_pedido\",\"Status do Pedido:delivered\\u003cbr\\u003eClasse: problemas_de_entrega\",\"Status do Pedido:delivered\\u003cbr\\u003eClasse: satisfeito_com_pedido\",\"Status do Pedido:delivered\\u003cbr\\u003eClasse: problemas_de_entrega\",\"Status do Pedido:delivered\\u003cbr\\u003eClasse: problemas_de_entrega\",\"Status do Pedido:delivered\\u003cbr\\u003eClasse: satisfeito_com_pedido\",\"Status do Pedido:delivered\\u003cbr\\u003eClasse: satisfeito_com_pedido\",\"Status do Pedido:delivered\\u003cbr\\u003eClasse: satisfeito_com_pedido\",\"Status do Pedido:delivered\\u003cbr\\u003eClasse: satisfeito_com_pedido\",\"Status do Pedido:delivered\\u003cbr\\u003eClasse: satisfeito_com_pedido\",null,\"Status do Pedido:delivered\\u003cbr\\u003eClasse: satisfeito_com_pedido\",null,\"Status do Pedido:delivered\\u003cbr\\u003eClasse: satisfeito_com_pedido\",\"Status do Pedido:delivered\\u003cbr\\u003eClasse: problemas_de_entrega\",\"Status do Pedido:delivered\\u003cbr\\u003eClasse: satisfeito_com_pedido\",\"Status do Pedido:delivered\\u003cbr\\u003eClasse: problemas_de_qualidade\",null,\"Status do Pedido:delivered\\u003cbr\\u003eClasse: problemas_de_qualidade\",\"Status do Pedido:delivered\\u003cbr\\u003eClasse: satisfeito_com_pedido\",\"Status do Pedido:delivered\\u003cbr\\u003eClasse: satisfeito_com_pedido\",\"Status do Pedido:delivered\\u003cbr\\u003eClasse: problemas_de_qualidade\",\"Status do Pedido:delivered\\u003cbr\\u003eClasse: problemas_de_entrega\",\"Status do Pedido:delivered\\u003cbr\\u003eClasse: problemas_de_entrega\",\"Status do Pedido:delivered\\u003cbr\\u003eClasse: satisfeito_com_pedido\",\"Status do Pedido:delivered\\u003cbr\\u003eClasse: satisfeito_com_pedido\",\"Status do Pedido:delivered\\u003cbr\\u003eClasse: problemas_de_entrega\",\"Status do Pedido:delivered\\u003cbr\\u003eClasse: satisfeito_com_pedido\",\"Status do Pedido:canceled\\u003cbr\\u003eClasse: problemas_de_entrega\",\"Status do Pedido:delivered\\u003cbr\\u003eClasse: satisfeito_com_pedido\",\"Status do Pedido:delivered\\u003cbr\\u003eClasse: satisfeito_com_pedido\",\"Status do Pedido:delivered\\u003cbr\\u003eClasse: problemas_de_entrega\",\"Status do Pedido:delivered\\u003cbr\\u003eClasse: problemas_de_qualidade\",\"Status do Pedido:delivered\\u003cbr\\u003eClasse: satisfeito_com_pedido\",\"Status do Pedido:delivered\\u003cbr\\u003eClasse: problemas_de_entrega\",\"Status do Pedido:delivered\\u003cbr\\u003eClasse: satisfeito_com_pedido\",\"Status do Pedido:delivered\\u003cbr\\u003eClasse: problemas_de_entrega\",\"Status do Pedido:delivered\\u003cbr\\u003eClasse: satisfeito_com_pedido\",\"Status do Pedido:delivered\\u003cbr\\u003eClasse: problemas_de_qualidade\",\"Status do Pedido:delivered\\u003cbr\\u003eClasse: problemas_de_entrega\",\"Status do Pedido:delivered\\u003cbr\\u003eClasse: satisfeito_com_pedido\",\"Status do Pedido:delivered\\u003cbr\\u003eClasse: problemas_de_qualidade\",\"Status do Pedido:delivered\\u003cbr\\u003eClasse: problemas_de_qualidade\",\"Status do Pedido:delivered\\u003cbr\\u003eClasse: satisfeito_com_pedido\",\"Status do Pedido:delivered\\u003cbr\\u003eClasse: problemas_de_qualidade\",\"Status do Pedido:delivered\\u003cbr\\u003eClasse: satisfeito_com_pedido\",\"Status do Pedido:delivered\\u003cbr\\u003eClasse: satisfeito_com_pedido\",\"Status do Pedido:delivered\\u003cbr\\u003eClasse: satisfeito_com_pedido\",\"Status do Pedido:delivered\\u003cbr\\u003eClasse: problemas_de_entrega\",\"Status do Pedido:delivered\\u003cbr\\u003eClasse: satisfeito_com_pedido\",\"Status do Pedido:delivered\\u003cbr\\u003eClasse: satisfeito_com_pedido\",\"Status do Pedido:delivered\\u003cbr\\u003eClasse: satisfeito_com_pedido\",\"Status do Pedido:delivered\\u003cbr\\u003eClasse: satisfeito_com_pedido\",\"Status do Pedido:delivered\\u003cbr\\u003eClasse: problemas_de_entrega\",null,\"Status do Pedido:delivered\\u003cbr\\u003eClasse: satisfeito_com_pedido\",\"Status do Pedido:delivered\\u003cbr\\u003eClasse: satisfeito_com_pedido\",\"Status do Pedido:delivered\\u003cbr\\u003eClasse: satisfeito_com_pedido\",\"Status do Pedido:delivered\\u003cbr\\u003eClasse: problemas_de_entrega\",\"Status do Pedido:delivered\\u003cbr\\u003eClasse: problemas_de_entrega\",\"Status do Pedido:delivered\\u003cbr\\u003eClasse: satisfeito_com_pedido\",\"Status do Pedido:delivered\\u003cbr\\u003eClasse: problemas_de_qualidade\",\"Status do Pedido:delivered\\u003cbr\\u003eClasse: satisfeito_com_pedido\",\"Status do Pedido:delivered\\u003cbr\\u003eClasse: satisfeito_com_pedido\",\"Status do Pedido:delivered\\u003cbr\\u003eClasse: satisfeito_com_pedido\",\"Status do Pedido:delivered\\u003cbr\\u003eClasse: satisfeito_com_pedido\",\"Status do Pedido:delivered\\u003cbr\\u003eClasse: problemas_de_entrega\",\"Status do Pedido:delivered\\u003cbr\\u003eClasse: satisfeito_com_pedido\",\"Status do Pedido:delivered\\u003cbr\\u003eClasse: satisfeito_com_pedido\",\"Status do Pedido:delivered\\u003cbr\\u003eClasse: problemas_de_qualidade\",\"Status do Pedido:delivered\\u003cbr\\u003eClasse: satisfeito_com_pedido\",\"Status do Pedido:delivered\\u003cbr\\u003eClasse: problemas_de_qualidade\",null,\"Status do Pedido:delivered\\u003cbr\\u003eClasse: satisfeito_com_pedido\",\"Status do Pedido:delivered\\u003cbr\\u003eClasse: satisfeito_com_pedido\",\"Status do Pedido:delivered\\u003cbr\\u003eClasse: satisfeito_com_pedido\",\"Status do Pedido:delivered\\u003cbr\\u003eClasse: problemas_de_entrega\",null,\"Status do Pedido:delivered\\u003cbr\\u003eClasse: problemas_de_qualidade\",\"Status do Pedido:delivered\\u003cbr\\u003eClasse: satisfeito_com_pedido\",\"Status do Pedido:delivered\\u003cbr\\u003eClasse: problemas_de_qualidade\",\"Status do Pedido:delivered\\u003cbr\\u003eClasse: satisfeito_com_pedido\",\"Status do Pedido:delivered\\u003cbr\\u003eClasse: problemas_de_qualidade\",\"Status do Pedido:delivered\\u003cbr\\u003eClasse: problemas_de_entrega\",null,\"Status do Pedido:delivered\\u003cbr\\u003eClasse: problemas_de_qualidade\",\"Status do Pedido:delivered\\u003cbr\\u003eClasse: satisfeito_com_pedido\",\"Status do Pedido:delivered\\u003cbr\\u003eClasse: satisfeito_com_pedido\",\"Status do Pedido:delivered\\u003cbr\\u003eClasse: satisfeito_com_pedido\",\"Status do Pedido:delivered\\u003cbr\\u003eClasse: satisfeito_com_pedido\",\"Status do Pedido:delivered\\u003cbr\\u003eClasse: satisfeito_com_pedido\",\"Status do Pedido:delivered\\u003cbr\\u003eClasse: problemas_de_entrega\",\"Status do Pedido:delivered\\u003cbr\\u003eClasse: problemas_de_entrega\",\"Status do Pedido:delivered\\u003cbr\\u003eClasse: satisfeito_com_pedido\",\"Status do Pedido:delivered\\u003cbr\\u003eClasse: satisfeito_com_pedido\",\"Status do Pedido:delivered\\u003cbr\\u003eClasse: problemas_de_qualidade\",\"Status do Pedido:delivered\\u003cbr\\u003eClasse: satisfeito_com_pedido\",\"Status do Pedido:delivered\\u003cbr\\u003eClasse: satisfeito_com_pedido\",\"Status do Pedido:delivered\\u003cbr\\u003eClasse: satisfeito_com_pedido\",\"Status do Pedido:delivered\\u003cbr\\u003eClasse: problemas_de_entrega\",\"Status do Pedido:delivered\\u003cbr\\u003eClasse: problemas_de_entrega\",\"Status do Pedido:delivered\\u003cbr\\u003eClasse: problemas_de_entrega\",\"Status do Pedido:delivered\\u003cbr\\u003eClasse: problemas_de_entrega\",\"Status do Pedido:delivered\\u003cbr\\u003eClasse: problemas_de_entrega\",\"Status do Pedido:delivered\\u003cbr\\u003eClasse: satisfeito_com_pedido\",\"Status do Pedido:delivered\\u003cbr\\u003eClasse: problemas_de_entrega\",\"Status do Pedido:delivered\\u003cbr\\u003eClasse: problemas_de_entrega\",\"Status do Pedido:delivered\\u003cbr\\u003eClasse: satisfeito_com_pedido\",\"Status do Pedido:delivered\\u003cbr\\u003eClasse: satisfeito_com_pedido\",null,\"Status do Pedido:delivered\\u003cbr\\u003eClasse: satisfeito_com_pedido\",\"Status do Pedido:delivered\\u003cbr\\u003eClasse: satisfeito_com_pedido\",\"Status do Pedido:delivered\\u003cbr\\u003eClasse: problemas_de_entrega\",\"Status do Pedido:delivered\\u003cbr\\u003eClasse: satisfeito_com_pedido\",null,\"Status do Pedido:delivered\\u003cbr\\u003eClasse: satisfeito_com_pedido\",\"Status do Pedido:delivered\\u003cbr\\u003eClasse: problemas_de_qualidade\",null,\"Status do Pedido:delivered\\u003cbr\\u003eClasse: satisfeito_com_pedido\",\"Status do Pedido:delivered\\u003cbr\\u003eClasse: satisfeito_com_pedido\",null,\"Status do Pedido:delivered\\u003cbr\\u003eClasse: satisfeito_com_pedido\",\"Status do Pedido:delivered\\u003cbr\\u003eClasse: satisfeito_com_pedido\",\"Status do Pedido:delivered\\u003cbr\\u003eClasse: satisfeito_com_pedido\",\"Status do Pedido:delivered\\u003cbr\\u003eClasse: satisfeito_com_pedido\",\"Status do Pedido:delivered\\u003cbr\\u003eClasse: satisfeito_com_pedido\",\"Status do Pedido:delivered\\u003cbr\\u003eClasse: satisfeito_com_pedido\",\"Status do Pedido:delivered\\u003cbr\\u003eClasse: problemas_de_entrega\",\"Status do Pedido:delivered\\u003cbr\\u003eClasse: problemas_de_entrega\",\"Status do Pedido:delivered\\u003cbr\\u003eClasse: satisfeito_com_pedido\",\"Status do Pedido:delivered\\u003cbr\\u003eClasse: satisfeito_com_pedido\",\"Status do Pedido:delivered\\u003cbr\\u003eClasse: problemas_de_entrega\",\"Status do Pedido:delivered\\u003cbr\\u003eClasse: satisfeito_com_pedido\",\"Status do Pedido:delivered\\u003cbr\\u003eClasse: problemas_de_entrega\",\"Status do Pedido:delivered\\u003cbr\\u003eClasse: satisfeito_com_pedido\",\"Status do Pedido:delivered\\u003cbr\\u003eClasse: satisfeito_com_pedido\",\"Status do Pedido:delivered\\u003cbr\\u003eClasse: satisfeito_com_pedido\",\"Status do Pedido:delivered\\u003cbr\\u003eClasse: satisfeito_com_pedido\",\"Status do Pedido:delivered\\u003cbr\\u003eClasse: problemas_de_qualidade\",\"Status do Pedido:delivered\\u003cbr\\u003eClasse: satisfeito_com_pedido\",\"Status do Pedido:delivered\\u003cbr\\u003eClasse: satisfeito_com_pedido\",\"Status do Pedido:delivered\\u003cbr\\u003eClasse: satisfeito_com_pedido\",\"Status do Pedido:delivered\\u003cbr\\u003eClasse: satisfeito_com_pedido\",\"Status do Pedido:delivered\\u003cbr\\u003eClasse: satisfeito_com_pedido\",\"Status do Pedido:delivered\\u003cbr\\u003eClasse: satisfeito_com_pedido\",\"Status do Pedido:delivered\\u003cbr\\u003eClasse: satisfeito_com_pedido\",\"Status do Pedido:delivered\\u003cbr\\u003eClasse: satisfeito_com_pedido\",\"Status do Pedido:delivered\\u003cbr\\u003eClasse: satisfeito_com_pedido\",\"Status do Pedido:delivered\\u003cbr\\u003eClasse: satisfeito_com_pedido\",\"Status do Pedido:delivered\\u003cbr\\u003eClasse: problemas_de_qualidade\",\"Status do Pedido:delivered\\u003cbr\\u003eClasse: satisfeito_com_pedido\",\"Status do Pedido:delivered\\u003cbr\\u003eClasse: problemas_de_entrega\",\"Status do Pedido:delivered\\u003cbr\\u003eClasse: satisfeito_com_pedido\",\"Status do Pedido:delivered\\u003cbr\\u003eClasse: problemas_de_entrega\",\"Status do Pedido:delivered\\u003cbr\\u003eClasse: satisfeito_com_pedido\",\"Status do Pedido:delivered\\u003cbr\\u003eClasse: satisfeito_com_pedido\",\"Status do Pedido:delivered\\u003cbr\\u003eClasse: satisfeito_com_pedido\",\"Status do Pedido:delivered\\u003cbr\\u003eClasse: satisfeito_com_pedido\",\"Status do Pedido:delivered\\u003cbr\\u003eClasse: problemas_de_entrega\",\"Status do Pedido:delivered\\u003cbr\\u003eClasse: satisfeito_com_pedido\",\"Status do Pedido:delivered\\u003cbr\\u003eClasse: problemas_de_entrega\",\"Status do Pedido:delivered\\u003cbr\\u003eClasse: satisfeito_com_pedido\",\"Status do Pedido:delivered\\u003cbr\\u003eClasse: satisfeito_com_pedido\",\"Status do Pedido:delivered\\u003cbr\\u003eClasse: problemas_de_entrega\",\"Status do Pedido:delivered\\u003cbr\\u003eClasse: satisfeito_com_pedido\",null,\"Status do Pedido:delivered\\u003cbr\\u003eClasse: problemas_de_entrega\",\"Status do Pedido:delivered\\u003cbr\\u003eClasse: satisfeito_com_pedido\",null,\"Status do Pedido:delivered\\u003cbr\\u003eClasse: satisfeito_com_pedido\",\"Status do Pedido:delivered\\u003cbr\\u003eClasse: problemas_de_qualidade\",\"Status do Pedido:delivered\\u003cbr\\u003eClasse: problemas_de_qualidade\",\"Status do Pedido:delivered\\u003cbr\\u003eClasse: satisfeito_com_pedido\",\"Status do Pedido:delivered\\u003cbr\\u003eClasse: satisfeito_com_pedido\",\"Status do Pedido:delivered\\u003cbr\\u003eClasse: problemas_de_entrega\",\"Status do Pedido:delivered\\u003cbr\\u003eClasse: problemas_de_entrega\",\"Status do Pedido:delivered\\u003cbr\\u003eClasse: satisfeito_com_pedido\",\"Status do Pedido:delivered\\u003cbr\\u003eClasse: problemas_de_entrega\",\"Status do Pedido:delivered\\u003cbr\\u003eClasse: satisfeito_com_pedido\",\"Status do Pedido:delivered\\u003cbr\\u003eClasse: problemas_de_entrega\",\"Status do Pedido:delivered\\u003cbr\\u003eClasse: problemas_de_qualidade\",\"Status do Pedido:delivered\\u003cbr\\u003eClasse: problemas_de_entrega\",\"Status do Pedido:delivered\\u003cbr\\u003eClasse: problemas_de_entrega\",\"Status do Pedido:delivered\\u003cbr\\u003eClasse: satisfeito_com_pedido\",null,\"Status do Pedido:delivered\\u003cbr\\u003eClasse: problemas_de_entrega\",\"Status do Pedido:delivered\\u003cbr\\u003eClasse: satisfeito_com_pedido\",null,\"Status do Pedido:delivered\\u003cbr\\u003eClasse: problemas_de_entrega\",\"Status do Pedido:delivered\\u003cbr\\u003eClasse: problemas_de_qualidade\",\"Status do Pedido:delivered\\u003cbr\\u003eClasse: satisfeito_com_pedido\",\"Status do Pedido:delivered\\u003cbr\\u003eClasse: satisfeito_com_pedido\",\"Status do Pedido:delivered\\u003cbr\\u003eClasse: problemas_de_entrega\",\"Status do Pedido:delivered\\u003cbr\\u003eClasse: satisfeito_com_pedido\",\"Status do Pedido:delivered\\u003cbr\\u003eClasse: satisfeito_com_pedido\",\"Status do Pedido:delivered\\u003cbr\\u003eClasse: problemas_de_qualidade\",\"Status do Pedido:delivered\\u003cbr\\u003eClasse: problemas_de_entrega\",\"Status do Pedido:delivered\\u003cbr\\u003eClasse: satisfeito_com_pedido\",\"Status do Pedido:delivered\\u003cbr\\u003eClasse: satisfeito_com_pedido\",\"Status do Pedido:delivered\\u003cbr\\u003eClasse: problemas_de_entrega\",\"Status do Pedido:delivered\\u003cbr\\u003eClasse: satisfeito_com_pedido\",\"Status do Pedido:delivered\\u003cbr\\u003eClasse: problemas_de_entrega\",\"Status do Pedido:delivered\\u003cbr\\u003eClasse: problemas_de_entrega\",\"Status do Pedido:delivered\\u003cbr\\u003eClasse: satisfeito_com_pedido\",\"Status do Pedido:delivered\\u003cbr\\u003eClasse: satisfeito_com_pedido\",\"Status do Pedido:delivered\\u003cbr\\u003eClasse: satisfeito_com_pedido\",\"Status do Pedido:delivered\\u003cbr\\u003eClasse: problemas_de_entrega\",\"Status do Pedido:delivered\\u003cbr\\u003eClasse: satisfeito_com_pedido\",\"Status do Pedido:delivered\\u003cbr\\u003eClasse: problemas_de_qualidade\",\"Status do Pedido:delivered\\u003cbr\\u003eClasse: satisfeito_com_pedido\",\"Status do Pedido:delivered\\u003cbr\\u003eClasse: problemas_de_entrega\",\"Status do Pedido:delivered\\u003cbr\\u003eClasse: problemas_de_entrega\",\"Status do Pedido:delivered\\u003cbr\\u003eClasse: satisfeito_com_pedido\",\"Status do Pedido:delivered\\u003cbr\\u003eClasse: problemas_de_entrega\",\"Status do Pedido:delivered\\u003cbr\\u003eClasse: satisfeito_com_pedido\",\"Status do Pedido:shipped\\u003cbr\\u003eClasse: satisfeito_com_pedido\",\"Status do Pedido:delivered\\u003cbr\\u003eClasse: problemas_de_entrega\",\"Status do Pedido:delivered\\u003cbr\\u003eClasse: satisfeito_com_pedido\",\"Status do Pedido:delivered\\u003cbr\\u003eClasse: satisfeito_com_pedido\",\"Status do Pedido:delivered\\u003cbr\\u003eClasse: satisfeito_com_pedido\",\"Status do Pedido:delivered\\u003cbr\\u003eClasse: satisfeito_com_pedido\",\"Status do Pedido:delivered\\u003cbr\\u003eClasse: satisfeito_com_pedido\",\"Status do Pedido:delivered\\u003cbr\\u003eClasse: problemas_de_entrega\",\"Status do Pedido:delivered\\u003cbr\\u003eClasse: problemas_de_qualidade\",\"Status do Pedido:delivered\\u003cbr\\u003eClasse: satisfeito_com_pedido\",\"Status do Pedido:delivered\\u003cbr\\u003eClasse: problemas_de_entrega\",\"Status do Pedido:delivered\\u003cbr\\u003eClasse: satisfeito_com_pedido\",\"Status do Pedido:delivered\\u003cbr\\u003eClasse: problemas_de_entrega\",null,\"Status do Pedido:delivered\\u003cbr\\u003eClasse: problemas_de_entrega\",\"Status do Pedido:delivered\\u003cbr\\u003eClasse: satisfeito_com_pedido\",\"Status do Pedido:delivered\\u003cbr\\u003eClasse: problemas_de_entrega\",\"Status do Pedido:delivered\\u003cbr\\u003eClasse: satisfeito_com_pedido\",\"Status do Pedido:delivered\\u003cbr\\u003eClasse: satisfeito_com_pedido\",\"Status do Pedido:delivered\\u003cbr\\u003eClasse: satisfeito_com_pedido\",\"Status do Pedido:delivered\\u003cbr\\u003eClasse: satisfeito_com_pedido\",\"Status do Pedido:delivered\\u003cbr\\u003eClasse: satisfeito_com_pedido\",\"Status do Pedido:delivered\\u003cbr\\u003eClasse: satisfeito_com_pedido\",\"Status do Pedido:delivered\\u003cbr\\u003eClasse: satisfeito_com_pedido\",\"Status do Pedido:delivered\\u003cbr\\u003eClasse: satisfeito_com_pedido\",\"Status do Pedido:delivered\\u003cbr\\u003eClasse: satisfeito_com_pedido\",\"Status do Pedido:delivered\\u003cbr\\u003eClasse: problemas_de_qualidade\",\"Status do Pedido:delivered\\u003cbr\\u003eClasse: satisfeito_com_pedido\",\"Status do Pedido:delivered\\u003cbr\\u003eClasse: satisfeito_com_pedido\",\"Status do Pedido:delivered\\u003cbr\\u003eClasse: satisfeito_com_pedido\",\"Status do Pedido:delivered\\u003cbr\\u003eClasse: problemas_de_entrega\",\"Status do Pedido:delivered\\u003cbr\\u003eClasse: problemas_de_entrega\",\"Status do Pedido:delivered\\u003cbr\\u003eClasse: problemas_de_entrega\",\"Status do Pedido:delivered\\u003cbr\\u003eClasse: problemas_de_entrega\",\"Status do Pedido:delivered\\u003cbr\\u003eClasse: satisfeito_com_pedido\",\"Status do Pedido:delivered\\u003cbr\\u003eClasse: problemas_de_entrega\",\"Status do Pedido:delivered\\u003cbr\\u003eClasse: satisfeito_com_pedido\",\"Status do Pedido:delivered\\u003cbr\\u003eClasse: problemas_de_entrega\",\"Status do Pedido:delivered\\u003cbr\\u003eClasse: satisfeito_com_pedido\",\"Status do Pedido:delivered\\u003cbr\\u003eClasse: problemas_de_qualidade\",\"Status do Pedido:delivered\\u003cbr\\u003eClasse: problemas_de_entrega\",\"Status do Pedido:delivered\\u003cbr\\u003eClasse: problemas_de_entrega\",\"Status do Pedido:delivered\\u003cbr\\u003eClasse: satisfeito_com_pedido\",\"Status do Pedido:delivered\\u003cbr\\u003eClasse: satisfeito_com_pedido\",\"Status do Pedido:delivered\\u003cbr\\u003eClasse: satisfeito_com_pedido\",\"Status do Pedido:delivered\\u003cbr\\u003eClasse: satisfeito_com_pedido\",\"Status do Pedido:delivered\\u003cbr\\u003eClasse: problemas_de_qualidade\",\"Status do Pedido:delivered\\u003cbr\\u003eClasse: satisfeito_com_pedido\",\"Status do Pedido:delivered\\u003cbr\\u003eClasse: satisfeito_com_pedido\",\"Status do Pedido:delivered\\u003cbr\\u003eClasse: problemas_de_entrega\",\"Status do Pedido:delivered\\u003cbr\\u003eClasse: satisfeito_com_pedido\",\"Status do Pedido:delivered\\u003cbr\\u003eClasse: problemas_de_entrega\",\"Status do Pedido:delivered\\u003cbr\\u003eClasse: satisfeito_com_pedido\",\"Status do Pedido:delivered\\u003cbr\\u003eClasse: satisfeito_com_pedido\",\"Status do Pedido:delivered\\u003cbr\\u003eClasse: satisfeito_com_pedido\",\"Status do Pedido:delivered\\u003cbr\\u003eClasse: satisfeito_com_pedido\",\"Status do Pedido:delivered\\u003cbr\\u003eClasse: problemas_de_entrega\",\"Status do Pedido:delivered\\u003cbr\\u003eClasse: satisfeito_com_pedido\",\"Status do Pedido:delivered\\u003cbr\\u003eClasse: problemas_de_entrega\",null,\"Status do Pedido:delivered\\u003cbr\\u003eClasse: satisfeito_com_pedido\",\"Status do Pedido:delivered\\u003cbr\\u003eClasse: problemas_de_entrega\",\"Status do Pedido:delivered\\u003cbr\\u003eClasse: satisfeito_com_pedido\",\"Status do Pedido:delivered\\u003cbr\\u003eClasse: problemas_de_entrega\",\"Status do Pedido:delivered\\u003cbr\\u003eClasse: satisfeito_com_pedido\",\"Status do Pedido:delivered\\u003cbr\\u003eClasse: problemas_de_qualidade\",\"Status do Pedido:delivered\\u003cbr\\u003eClasse: satisfeito_com_pedido\",\"Status do Pedido:delivered\\u003cbr\\u003eClasse: problemas_de_entrega\",\"Status do Pedido:delivered\\u003cbr\\u003eClasse: satisfeito_com_pedido\",\"Status do Pedido:delivered\\u003cbr\\u003eClasse: problemas_de_entrega\",\"Status do Pedido:delivered\\u003cbr\\u003eClasse: satisfeito_com_pedido\",\"Status do Pedido:delivered\\u003cbr\\u003eClasse: problemas_de_qualidade\",\"Status do Pedido:delivered\\u003cbr\\u003eClasse: satisfeito_com_pedido\",\"Status do Pedido:delivered\\u003cbr\\u003eClasse: problemas_de_qualidade\",\"Status do Pedido:delivered\\u003cbr\\u003eClasse: satisfeito_com_pedido\",\"Status do Pedido:delivered\\u003cbr\\u003eClasse: problemas_de_qualidade\",\"Status do Pedido:delivered\\u003cbr\\u003eClasse: problemas_de_qualidade\",\"Status do Pedido:delivered\\u003cbr\\u003eClasse: satisfeito_com_pedido\",\"Status do Pedido:delivered\\u003cbr\\u003eClasse: satisfeito_com_pedido\",\"Status do Pedido:delivered\\u003cbr\\u003eClasse: satisfeito_com_pedido\",\"Status do Pedido:delivered\\u003cbr\\u003eClasse: satisfeito_com_pedido\",\"Status do Pedido:delivered\\u003cbr\\u003eClasse: satisfeito_com_pedido\",\"Status do Pedido:delivered\\u003cbr\\u003eClasse: problemas_de_entrega\",\"Status do Pedido:delivered\\u003cbr\\u003eClasse: satisfeito_com_pedido\",\"Status do Pedido:delivered\\u003cbr\\u003eClasse: problemas_de_qualidade\",\"Status do Pedido:delivered\\u003cbr\\u003eClasse: problemas_de_entrega\",\"Status do Pedido:delivered\\u003cbr\\u003eClasse: satisfeito_com_pedido\",\"Status do Pedido:delivered\\u003cbr\\u003eClasse: satisfeito_com_pedido\",\"Status do Pedido:delivered\\u003cbr\\u003eClasse: satisfeito_com_pedido\",\"Status do Pedido:delivered\\u003cbr\\u003eClasse: satisfeito_com_pedido\",null,\"Status do Pedido:delivered\\u003cbr\\u003eClasse: satisfeito_com_pedido\",\"Status do Pedido:delivered\\u003cbr\\u003eClasse: problemas_de_entrega\",\"Status do Pedido:delivered\\u003cbr\\u003eClasse: satisfeito_com_pedido\",\"Status do Pedido:delivered\\u003cbr\\u003eClasse: problemas_de_qualidade\",\"Status do Pedido:delivered\\u003cbr\\u003eClasse: satisfeito_com_pedido\",\"Status do Pedido:delivered\\u003cbr\\u003eClasse: satisfeito_com_pedido\",\"Status do Pedido:delivered\\u003cbr\\u003eClasse: problemas_de_qualidade\",\"Status do Pedido:delivered\\u003cbr\\u003eClasse: satisfeito_com_pedido\",\"Status do Pedido:delivered\\u003cbr\\u003eClasse: problemas_de_qualidade\",\"Status do Pedido:delivered\\u003cbr\\u003eClasse: satisfeito_com_pedido\",\"Status do Pedido:invoiced\\u003cbr\\u003eClasse: problemas_de_entrega\",\"Status do Pedido:delivered\\u003cbr\\u003eClasse: problemas_de_entrega\",\"Status do Pedido:delivered\\u003cbr\\u003eClasse: satisfeito_com_pedido\",\"Status do Pedido:delivered\\u003cbr\\u003eClasse: satisfeito_com_pedido\",\"Status do Pedido:delivered\\u003cbr\\u003eClasse: satisfeito_com_pedido\",\"Status do Pedido:invoiced\\u003cbr\\u003eClasse: problemas_de_entrega\",\"Status do Pedido:delivered\\u003cbr\\u003eClasse: satisfeito_com_pedido\",\"Status do Pedido:delivered\\u003cbr\\u003eClasse: satisfeito_com_pedido\",\"Status do Pedido:delivered\\u003cbr\\u003eClasse: problemas_de_entrega\",\"Status do Pedido:delivered\\u003cbr\\u003eClasse: satisfeito_com_pedido\",\"Status do Pedido:delivered\\u003cbr\\u003eClasse: satisfeito_com_pedido\",\"Status do Pedido:delivered\\u003cbr\\u003eClasse: problemas_de_qualidade\",\"Status do Pedido:delivered\\u003cbr\\u003eClasse: satisfeito_com_pedido\",\"Status do Pedido:delivered\\u003cbr\\u003eClasse: satisfeito_com_pedido\",\"Status do Pedido:delivered\\u003cbr\\u003eClasse: satisfeito_com_pedido\",\"Status do Pedido:delivered\\u003cbr\\u003eClasse: problemas_de_qualidade\",\"Status do Pedido:delivered\\u003cbr\\u003eClasse: satisfeito_com_pedido\",null,\"Status do Pedido:delivered\\u003cbr\\u003eClasse: satisfeito_com_pedido\",\"Status do Pedido:delivered\\u003cbr\\u003eClasse: problemas_de_entrega\",\"Status do Pedido:delivered\\u003cbr\\u003eClasse: problemas_de_entrega\",\"Status do Pedido:delivered\\u003cbr\\u003eClasse: problemas_de_qualidade\",\"Status do Pedido:delivered\\u003cbr\\u003eClasse: satisfeito_com_pedido\",\"Status do Pedido:delivered\\u003cbr\\u003eClasse: problemas_de_qualidade\",\"Status do Pedido:delivered\\u003cbr\\u003eClasse: satisfeito_com_pedido\",\"Status do Pedido:delivered\\u003cbr\\u003eClasse: problemas_de_entrega\",\"Status do Pedido:delivered\\u003cbr\\u003eClasse: satisfeito_com_pedido\",\"Status do Pedido:delivered\\u003cbr\\u003eClasse: satisfeito_com_pedido\",\"Status do Pedido:delivered\\u003cbr\\u003eClasse: satisfeito_com_pedido\",\"Status do Pedido:delivered\\u003cbr\\u003eClasse: satisfeito_com_pedido\",\"Status do Pedido:delivered\\u003cbr\\u003eClasse: problemas_de_entrega\",\"Status do Pedido:delivered\\u003cbr\\u003eClasse: satisfeito_com_pedido\",\"Status do Pedido:delivered\\u003cbr\\u003eClasse: problemas_de_entrega\",\"Status do Pedido:delivered\\u003cbr\\u003eClasse: satisfeito_com_pedido\",\"Status do Pedido:delivered\\u003cbr\\u003eClasse: satisfeito_com_pedido\",\"Status do Pedido:delivered\\u003cbr\\u003eClasse: satisfeito_com_pedido\",\"Status do Pedido:delivered\\u003cbr\\u003eClasse: satisfeito_com_pedido\",\"Status do Pedido:delivered\\u003cbr\\u003eClasse: satisfeito_com_pedido\",\"Status do Pedido:delivered\\u003cbr\\u003eClasse: problemas_de_entrega\",\"Status do Pedido:delivered\\u003cbr\\u003eClasse: problemas_de_entrega\",\"Status do Pedido:delivered\\u003cbr\\u003eClasse: problemas_de_entrega\",\"Status do Pedido:delivered\\u003cbr\\u003eClasse: satisfeito_com_pedido\",\"Status do Pedido:delivered\\u003cbr\\u003eClasse: problemas_de_entrega\",\"Status do Pedido:delivered\\u003cbr\\u003eClasse: satisfeito_com_pedido\",\"Status do Pedido:delivered\\u003cbr\\u003eClasse: problemas_de_qualidade\",\"Status do Pedido:delivered\\u003cbr\\u003eClasse: satisfeito_com_pedido\",\"Status do Pedido:delivered\\u003cbr\\u003eClasse: satisfeito_com_pedido\",\"Status do Pedido:delivered\\u003cbr\\u003eClasse: problemas_de_entrega\",\"Status do Pedido:delivered\\u003cbr\\u003eClasse: satisfeito_com_pedido\",\"Status do Pedido:delivered\\u003cbr\\u003eClasse: satisfeito_com_pedido\",\"Status do Pedido:delivered\\u003cbr\\u003eClasse: satisfeito_com_pedido\",\"Status do Pedido:delivered\\u003cbr\\u003eClasse: satisfeito_com_pedido\",\"Status do Pedido:delivered\\u003cbr\\u003eClasse: satisfeito_com_pedido\",\"Status do Pedido:delivered\\u003cbr\\u003eClasse: satisfeito_com_pedido\",\"Status do Pedido:delivered\\u003cbr\\u003eClasse: satisfeito_com_pedido\",\"Status do Pedido:delivered\\u003cbr\\u003eClasse: problemas_de_qualidade\",\"Status do Pedido:delivered\\u003cbr\\u003eClasse: satisfeito_com_pedido\",\"Status do Pedido:delivered\\u003cbr\\u003eClasse: satisfeito_com_pedido\",\"Status do Pedido:delivered\\u003cbr\\u003eClasse: satisfeito_com_pedido\",\"Status do Pedido:delivered\\u003cbr\\u003eClasse: satisfeito_com_pedido\",\"Status do Pedido:delivered\\u003cbr\\u003eClasse: satisfeito_com_pedido\",\"Status do Pedido:delivered\\u003cbr\\u003eClasse: problemas_de_qualidade\",\"Status do Pedido:delivered\\u003cbr\\u003eClasse: problemas_de_qualidade\",\"Status do Pedido:delivered\\u003cbr\\u003eClasse: problemas_de_qualidade\",\"Status do Pedido:delivered\\u003cbr\\u003eClasse: satisfeito_com_pedido\",\"Status do Pedido:delivered\\u003cbr\\u003eClasse: satisfeito_com_pedido\",null,\"Status do Pedido:delivered\\u003cbr\\u003eClasse: satisfeito_com_pedido\",\"Status do Pedido:delivered\\u003cbr\\u003eClasse: problemas_de_entrega\",\"Status do Pedido:delivered\\u003cbr\\u003eClasse: problemas_de_qualidade\",\"Status do Pedido:delivered\\u003cbr\\u003eClasse: satisfeito_com_pedido\",\"Status do Pedido:delivered\\u003cbr\\u003eClasse: satisfeito_com_pedido\",\"Status do Pedido:delivered\\u003cbr\\u003eClasse: satisfeito_com_pedido\",\"Status do Pedido:delivered\\u003cbr\\u003eClasse: satisfeito_com_pedido\",\"Status do Pedido:delivered\\u003cbr\\u003eClasse: problemas_de_entrega\",\"Status do Pedido:delivered\\u003cbr\\u003eClasse: problemas_de_entrega\",\"Status do Pedido:delivered\\u003cbr\\u003eClasse: satisfeito_com_pedido\",\"Status do Pedido:delivered\\u003cbr\\u003eClasse: problemas_de_entrega\",\"Status do Pedido:delivered\\u003cbr\\u003eClasse: problemas_de_entrega\",\"Status do Pedido:delivered\\u003cbr\\u003eClasse: problemas_de_qualidade\",\"Status do Pedido:delivered\\u003cbr\\u003eClasse: satisfeito_com_pedido\",\"Status do Pedido:delivered\\u003cbr\\u003eClasse: satisfeito_com_pedido\",\"Status do Pedido:delivered\\u003cbr\\u003eClasse: satisfeito_com_pedido\",\"Status do Pedido:delivered\\u003cbr\\u003eClasse: problemas_de_entrega\",\"Status do Pedido:delivered\\u003cbr\\u003eClasse: satisfeito_com_pedido\",\"Status do Pedido:delivered\\u003cbr\\u003eClasse: satisfeito_com_pedido\",null,\"Status do Pedido:delivered\\u003cbr\\u003eClasse: problemas_de_entrega\",\"Status do Pedido:delivered\\u003cbr\\u003eClasse: problemas_de_qualidade\",null,null,\"Status do Pedido:delivered\\u003cbr\\u003eClasse: problemas_de_entrega\",\"Status do Pedido:delivered\\u003cbr\\u003eClasse: problemas_de_qualidade\",\"Status do Pedido:delivered\\u003cbr\\u003eClasse: problemas_de_qualidade\",\"Status do Pedido:delivered\\u003cbr\\u003eClasse: problemas_de_entrega\",\"Status do Pedido:canceled\\u003cbr\\u003eClasse: problemas_de_qualidade\",\"Status do Pedido:processing\\u003cbr\\u003eClasse: problemas_de_entrega\",\"Status do Pedido:delivered\\u003cbr\\u003eClasse: problemas_de_entrega\",\"Status do Pedido:delivered\\u003cbr\\u003eClasse: problemas_de_entrega\",\"Status do Pedido:delivered\\u003cbr\\u003eClasse: satisfeito_com_pedido\",\"Status do Pedido:delivered\\u003cbr\\u003eClasse: problemas_de_entrega\",\"Status do Pedido:shipped\\u003cbr\\u003eClasse: problemas_de_entrega\",\"Status do Pedido:delivered\\u003cbr\\u003eClasse: satisfeito_com_pedido\",\"Status do Pedido:delivered\\u003cbr\\u003eClasse: satisfeito_com_pedido\",\"Status do Pedido:delivered\\u003cbr\\u003eClasse: problemas_de_qualidade\",\"Status do Pedido:delivered\\u003cbr\\u003eClasse: satisfeito_com_pedido\",\"Status do Pedido:delivered\\u003cbr\\u003eClasse: satisfeito_com_pedido\",\"Status do Pedido:delivered\\u003cbr\\u003eClasse: satisfeito_com_pedido\",\"Status do Pedido:delivered\\u003cbr\\u003eClasse: problemas_de_qualidade\",\"Status do Pedido:delivered\\u003cbr\\u003eClasse: problemas_de_entrega\",\"Status do Pedido:delivered\\u003cbr\\u003eClasse: problemas_de_entrega\",\"Status do Pedido:delivered\\u003cbr\\u003eClasse: satisfeito_com_pedido\",\"Status do Pedido:delivered\\u003cbr\\u003eClasse: problemas_de_entrega\",\"Status do Pedido:delivered\\u003cbr\\u003eClasse: problemas_de_qualidade\",\"Status do Pedido:delivered\\u003cbr\\u003eClasse: satisfeito_com_pedido\",\"Status do Pedido:delivered\\u003cbr\\u003eClasse: problemas_de_qualidade\",\"Status do Pedido:delivered\\u003cbr\\u003eClasse: satisfeito_com_pedido\",\"Status do Pedido:delivered\\u003cbr\\u003eClasse: satisfeito_com_pedido\",\"Status do Pedido:delivered\\u003cbr\\u003eClasse: satisfeito_com_pedido\",\"Status do Pedido:delivered\\u003cbr\\u003eClasse: problemas_de_entrega\",\"Status do Pedido:delivered\\u003cbr\\u003eClasse: satisfeito_com_pedido\",\"Status do Pedido:delivered\\u003cbr\\u003eClasse: problemas_de_entrega\",\"Status do Pedido:delivered\\u003cbr\\u003eClasse: satisfeito_com_pedido\",\"Status do Pedido:delivered\\u003cbr\\u003eClasse: satisfeito_com_pedido\",\"Status do Pedido:delivered\\u003cbr\\u003eClasse: problemas_de_entrega\",\"Status do Pedido:delivered\\u003cbr\\u003eClasse: satisfeito_com_pedido\",\"Status do Pedido:delivered\\u003cbr\\u003eClasse: problemas_de_qualidade\",\"Status do Pedido:delivered\\u003cbr\\u003eClasse: satisfeito_com_pedido\",\"Status do Pedido:delivered\\u003cbr\\u003eClasse: satisfeito_com_pedido\",\"Status do Pedido:delivered\\u003cbr\\u003eClasse: problemas_de_entrega\",\"Status do Pedido:delivered\\u003cbr\\u003eClasse: satisfeito_com_pedido\",\"Status do Pedido:delivered\\u003cbr\\u003eClasse: satisfeito_com_pedido\",\"Status do Pedido:delivered\\u003cbr\\u003eClasse: problemas_de_entrega\",\"Status do Pedido:delivered\\u003cbr\\u003eClasse: satisfeito_com_pedido\",\"Status do Pedido:delivered\\u003cbr\\u003eClasse: satisfeito_com_pedido\",\"Status do Pedido:delivered\\u003cbr\\u003eClasse: satisfeito_com_pedido\",\"Status do Pedido:delivered\\u003cbr\\u003eClasse: satisfeito_com_pedido\",\"Status do Pedido:delivered\\u003cbr\\u003eClasse: satisfeito_com_pedido\",\"Status do Pedido:delivered\\u003cbr\\u003eClasse: problemas_de_qualidade\",\"Status do Pedido:delivered\\u003cbr\\u003eClasse: satisfeito_com_pedido\",\"Status do Pedido:delivered\\u003cbr\\u003eClasse: satisfeito_com_pedido\",\"Status do Pedido:delivered\\u003cbr\\u003eClasse: satisfeito_com_pedido\",\"Status do Pedido:delivered\\u003cbr\\u003eClasse: problemas_de_entrega\",\"Status do Pedido:delivered\\u003cbr\\u003eClasse: satisfeito_com_pedido\",\"Status do Pedido:delivered\\u003cbr\\u003eClasse: problemas_de_qualidade\",\"Status do Pedido:delivered\\u003cbr\\u003eClasse: satisfeito_com_pedido\",\"Status do Pedido:delivered\\u003cbr\\u003eClasse: problemas_de_entrega\",\"Status do Pedido:delivered\\u003cbr\\u003eClasse: problemas_de_entrega\",\"Status do Pedido:delivered\\u003cbr\\u003eClasse: satisfeito_com_pedido\",\"Status do Pedido:delivered\\u003cbr\\u003eClasse: satisfeito_com_pedido\",\"Status do Pedido:delivered\\u003cbr\\u003eClasse: satisfeito_com_pedido\",\"Status do Pedido:delivered\\u003cbr\\u003eClasse: problemas_de_entrega\",\"Status do Pedido:delivered\\u003cbr\\u003eClasse: satisfeito_com_pedido\",\"Status do Pedido:delivered\\u003cbr\\u003eClasse: problemas_de_entrega\",null,\"Status do Pedido:delivered\\u003cbr\\u003eClasse: problemas_de_entrega\",\"Status do Pedido:delivered\\u003cbr\\u003eClasse: problemas_de_entrega\",\"Status do Pedido:delivered\\u003cbr\\u003eClasse: satisfeito_com_pedido\",\"Status do Pedido:delivered\\u003cbr\\u003eClasse: satisfeito_com_pedido\",\"Status do Pedido:delivered\\u003cbr\\u003eClasse: satisfeito_com_pedido\",\"Status do Pedido:delivered\\u003cbr\\u003eClasse: problemas_de_entrega\",\"Status do Pedido:delivered\\u003cbr\\u003eClasse: satisfeito_com_pedido\",\"Status do Pedido:delivered\\u003cbr\\u003eClasse: satisfeito_com_pedido\",\"Status do Pedido:delivered\\u003cbr\\u003eClasse: problemas_de_entrega\",\"Status do Pedido:delivered\\u003cbr\\u003eClasse: problemas_de_qualidade\",\"Status do Pedido:delivered\\u003cbr\\u003eClasse: satisfeito_com_pedido\",null,\"Status do Pedido:delivered\\u003cbr\\u003eClasse: problemas_de_qualidade\",null,\"Status do Pedido:delivered\\u003cbr\\u003eClasse: problemas_de_qualidade\",\"Status do Pedido:delivered\\u003cbr\\u003eClasse: problemas_de_qualidade\",\"Status do Pedido:delivered\\u003cbr\\u003eClasse: problemas_de_entrega\",\"Status do Pedido:delivered\\u003cbr\\u003eClasse: satisfeito_com_pedido\",\"Status do Pedido:delivered\\u003cbr\\u003eClasse: problemas_de_entrega\",\"Status do Pedido:delivered\\u003cbr\\u003eClasse: satisfeito_com_pedido\",\"Status do Pedido:delivered\\u003cbr\\u003eClasse: satisfeito_com_pedido\",\"Status do Pedido:delivered\\u003cbr\\u003eClasse: problemas_de_entrega\",\"Status do Pedido:delivered\\u003cbr\\u003eClasse: satisfeito_com_pedido\",\"Status do Pedido:delivered\\u003cbr\\u003eClasse: satisfeito_com_pedido\",\"Status do Pedido:delivered\\u003cbr\\u003eClasse: problemas_de_qualidade\",\"Status do Pedido:delivered\\u003cbr\\u003eClasse: problemas_de_entrega\",\"Status do Pedido:delivered\\u003cbr\\u003eClasse: problemas_de_entrega\",null,\"Status do Pedido:delivered\\u003cbr\\u003eClasse: problemas_de_qualidade\",\"Status do Pedido:delivered\\u003cbr\\u003eClasse: satisfeito_com_pedido\",\"Status do Pedido:delivered\\u003cbr\\u003eClasse: satisfeito_com_pedido\",\"Status do Pedido:delivered\\u003cbr\\u003eClasse: satisfeito_com_pedido\",\"Status do Pedido:delivered\\u003cbr\\u003eClasse: satisfeito_com_pedido\",\"Status do Pedido:delivered\\u003cbr\\u003eClasse: satisfeito_com_pedido\",\"Status do Pedido:delivered\\u003cbr\\u003eClasse: satisfeito_com_pedido\",\"Status do Pedido:delivered\\u003cbr\\u003eClasse: problemas_de_qualidade\",\"Status do Pedido:delivered\\u003cbr\\u003eClasse: satisfeito_com_pedido\",\"Status do Pedido:delivered\\u003cbr\\u003eClasse: satisfeito_com_pedido\",\"Status do Pedido:delivered\\u003cbr\\u003eClasse: satisfeito_com_pedido\",\"Status do Pedido:delivered\\u003cbr\\u003eClasse: problemas_de_entrega\",\"Status do Pedido:delivered\\u003cbr\\u003eClasse: satisfeito_com_pedido\",\"Status do Pedido:delivered\\u003cbr\\u003eClasse: satisfeito_com_pedido\",\"Status do Pedido:delivered\\u003cbr\\u003eClasse: problemas_de_entrega\",\"Status do Pedido:canceled\\u003cbr\\u003eClasse: problemas_de_entrega\",\"Status do Pedido:delivered\\u003cbr\\u003eClasse: satisfeito_com_pedido\",\"Status do Pedido:delivered\\u003cbr\\u003eClasse: satisfeito_com_pedido\",\"Status do Pedido:delivered\\u003cbr\\u003eClasse: problemas_de_entrega\",\"Status do Pedido:delivered\\u003cbr\\u003eClasse: problemas_de_entrega\",\"Status do Pedido:delivered\\u003cbr\\u003eClasse: problemas_de_entrega\",\"Status do Pedido:delivered\\u003cbr\\u003eClasse: satisfeito_com_pedido\",null,null,\"Status do Pedido:delivered\\u003cbr\\u003eClasse: problemas_de_entrega\",\"Status do Pedido:delivered\\u003cbr\\u003eClasse: problemas_de_entrega\",\"Status do Pedido:delivered\\u003cbr\\u003eClasse: problemas_de_entrega\",\"Status do Pedido:delivered\\u003cbr\\u003eClasse: problemas_de_entrega\",\"Status do Pedido:delivered\\u003cbr\\u003eClasse: satisfeito_com_pedido\",\"Status do Pedido:delivered\\u003cbr\\u003eClasse: problemas_de_entrega\",\"Status do Pedido:delivered\\u003cbr\\u003eClasse: satisfeito_com_pedido\",\"Status do Pedido:delivered\\u003cbr\\u003eClasse: problemas_de_entrega\",\"Status do Pedido:delivered\\u003cbr\\u003eClasse: satisfeito_com_pedido\",\"Status do Pedido:delivered\\u003cbr\\u003eClasse: problemas_de_entrega\",\"Status do Pedido:delivered\\u003cbr\\u003eClasse: satisfeito_com_pedido\",\"Status do Pedido:delivered\\u003cbr\\u003eClasse: satisfeito_com_pedido\",\"Status do Pedido:delivered\\u003cbr\\u003eClasse: satisfeito_com_pedido\",\"Status do Pedido:delivered\\u003cbr\\u003eClasse: problemas_de_qualidade\",\"Status do Pedido:delivered\\u003cbr\\u003eClasse: satisfeito_com_pedido\",\"Status do Pedido:delivered\\u003cbr\\u003eClasse: satisfeito_com_pedido\",\"Status do Pedido:delivered\\u003cbr\\u003eClasse: satisfeito_com_pedido\",\"Status do Pedido:delivered\\u003cbr\\u003eClasse: satisfeito_com_pedido\",null,\"Status do Pedido:delivered\\u003cbr\\u003eClasse: satisfeito_com_pedido\",\"Status do Pedido:delivered\\u003cbr\\u003eClasse: satisfeito_com_pedido\",\"Status do Pedido:delivered\\u003cbr\\u003eClasse: satisfeito_com_pedido\",\"Status do Pedido:delivered\\u003cbr\\u003eClasse: satisfeito_com_pedido\",\"Status do Pedido:invoiced\\u003cbr\\u003eClasse: problemas_de_entrega\",\"Status do Pedido:delivered\\u003cbr\\u003eClasse: satisfeito_com_pedido\",\"Status do Pedido:delivered\\u003cbr\\u003eClasse: problemas_de_qualidade\",\"Status do Pedido:delivered\\u003cbr\\u003eClasse: problemas_de_entrega\",\"Status do Pedido:delivered\\u003cbr\\u003eClasse: problemas_de_qualidade\",\"Status do Pedido:delivered\\u003cbr\\u003eClasse: satisfeito_com_pedido\",\"Status do Pedido:delivered\\u003cbr\\u003eClasse: satisfeito_com_pedido\",\"Status do Pedido:delivered\\u003cbr\\u003eClasse: satisfeito_com_pedido\",\"Status do Pedido:delivered\\u003cbr\\u003eClasse: satisfeito_com_pedido\",null,\"Status do Pedido:delivered\\u003cbr\\u003eClasse: satisfeito_com_pedido\",\"Status do Pedido:processing\\u003cbr\\u003eClasse: problemas_de_entrega\",\"Status do Pedido:delivered\\u003cbr\\u003eClasse: satisfeito_com_pedido\",\"Status do Pedido:delivered\\u003cbr\\u003eClasse: satisfeito_com_pedido\",\"Status do Pedido:delivered\\u003cbr\\u003eClasse: satisfeito_com_pedido\",null,\"Status do Pedido:delivered\\u003cbr\\u003eClasse: problemas_de_entrega\",\"Status do Pedido:delivered\\u003cbr\\u003eClasse: problemas_de_entrega\",\"Status do Pedido:delivered\\u003cbr\\u003eClasse: problemas_de_entrega\",\"Status do Pedido:delivered\\u003cbr\\u003eClasse: problemas_de_entrega\",\"Status do Pedido:delivered\\u003cbr\\u003eClasse: satisfeito_com_pedido\",\"Status do Pedido:delivered\\u003cbr\\u003eClasse: satisfeito_com_pedido\",\"Status do Pedido:delivered\\u003cbr\\u003eClasse: satisfeito_com_pedido\",\"Status do Pedido:delivered\\u003cbr\\u003eClasse: satisfeito_com_pedido\",\"Status do Pedido:delivered\\u003cbr\\u003eClasse: problemas_de_entrega\",\"Status do Pedido:delivered\\u003cbr\\u003eClasse: satisfeito_com_pedido\",\"Status do Pedido:delivered\\u003cbr\\u003eClasse: satisfeito_com_pedido\",\"Status do Pedido:delivered\\u003cbr\\u003eClasse: satisfeito_com_pedido\",\"Status do Pedido:delivered\\u003cbr\\u003eClasse: satisfeito_com_pedido\",\"Status do Pedido:delivered\\u003cbr\\u003eClasse: satisfeito_com_pedido\",\"Status do Pedido:delivered\\u003cbr\\u003eClasse: satisfeito_com_pedido\",\"Status do Pedido:delivered\\u003cbr\\u003eClasse: satisfeito_com_pedido\",\"Status do Pedido:delivered\\u003cbr\\u003eClasse: problemas_de_entrega\",\"Status do Pedido:delivered\\u003cbr\\u003eClasse: satisfeito_com_pedido\",\"Status do Pedido:delivered\\u003cbr\\u003eClasse: satisfeito_com_pedido\",\"Status do Pedido:delivered\\u003cbr\\u003eClasse: satisfeito_com_pedido\",\"Status do Pedido:delivered\\u003cbr\\u003eClasse: satisfeito_com_pedido\",\"Status do Pedido:delivered\\u003cbr\\u003eClasse: problemas_de_entrega\",\"Status do Pedido:delivered\\u003cbr\\u003eClasse: satisfeito_com_pedido\",\"Status do Pedido:delivered\\u003cbr\\u003eClasse: satisfeito_com_pedido\",\"Status do Pedido:delivered\\u003cbr\\u003eClasse: problemas_de_qualidade\",\"Status do Pedido:delivered\\u003cbr\\u003eClasse: satisfeito_com_pedido\",\"Status do Pedido:delivered\\u003cbr\\u003eClasse: satisfeito_com_pedido\",\"Status do Pedido:delivered\\u003cbr\\u003eClasse: problemas_de_entrega\",\"Status do Pedido:delivered\\u003cbr\\u003eClasse: problemas_de_entrega\",\"Status do Pedido:delivered\\u003cbr\\u003eClasse: problemas_de_qualidade\",\"Status do Pedido:delivered\\u003cbr\\u003eClasse: satisfeito_com_pedido\",\"Status do Pedido:delivered\\u003cbr\\u003eClasse: problemas_de_entrega\",\"Status do Pedido:delivered\\u003cbr\\u003eClasse: problemas_de_entrega\",\"Status do Pedido:delivered\\u003cbr\\u003eClasse: satisfeito_com_pedido\",\"Status do Pedido:delivered\\u003cbr\\u003eClasse: satisfeito_com_pedido\",\"Status do Pedido:delivered\\u003cbr\\u003eClasse: satisfeito_com_pedido\",\"Status do Pedido:delivered\\u003cbr\\u003eClasse: satisfeito_com_pedido\",null,\"Status do Pedido:delivered\\u003cbr\\u003eClasse: satisfeito_com_pedido\",\"Status do Pedido:delivered\\u003cbr\\u003eClasse: problemas_de_entrega\",\"Status do Pedido:delivered\\u003cbr\\u003eClasse: problemas_de_entrega\",\"Status do Pedido:delivered\\u003cbr\\u003eClasse: problemas_de_entrega\",\"Status do Pedido:delivered\\u003cbr\\u003eClasse: satisfeito_com_pedido\",\"Status do Pedido:delivered\\u003cbr\\u003eClasse: satisfeito_com_pedido\",\"Status do Pedido:delivered\\u003cbr\\u003eClasse: satisfeito_com_pedido\",\"Status do Pedido:delivered\\u003cbr\\u003eClasse: satisfeito_com_pedido\",\"Status do Pedido:delivered\\u003cbr\\u003eClasse: satisfeito_com_pedido\",\"Status do Pedido:delivered\\u003cbr\\u003eClasse: problemas_de_entrega\",\"Status do Pedido:delivered\\u003cbr\\u003eClasse: problemas_de_entrega\",\"Status do Pedido:delivered\\u003cbr\\u003eClasse: satisfeito_com_pedido\",\"Status do Pedido:delivered\\u003cbr\\u003eClasse: problemas_de_entrega\",\"Status do Pedido:delivered\\u003cbr\\u003eClasse: problemas_de_entrega\",null,\"Status do Pedido:delivered\\u003cbr\\u003eClasse: satisfeito_com_pedido\",\"Status do Pedido:delivered\\u003cbr\\u003eClasse: problemas_de_qualidade\",\"Status do Pedido:delivered\\u003cbr\\u003eClasse: satisfeito_com_pedido\",\"Status do Pedido:delivered\\u003cbr\\u003eClasse: problemas_de_entrega\",\"Status do Pedido:delivered\\u003cbr\\u003eClasse: problemas_de_entrega\",\"Status do Pedido:delivered\\u003cbr\\u003eClasse: satisfeito_com_pedido\",\"Status do Pedido:delivered\\u003cbr\\u003eClasse: problemas_de_qualidade\",\"Status do Pedido:delivered\\u003cbr\\u003eClasse: problemas_de_entrega\",\"Status do Pedido:delivered\\u003cbr\\u003eClasse: satisfeito_com_pedido\",\"Status do Pedido:delivered\\u003cbr\\u003eClasse: problemas_de_entrega\",\"Status do Pedido:delivered\\u003cbr\\u003eClasse: satisfeito_com_pedido\",\"Status do Pedido:delivered\\u003cbr\\u003eClasse: satisfeito_com_pedido\",null,null,\"Status do Pedido:delivered\\u003cbr\\u003eClasse: satisfeito_com_pedido\",\"Status do Pedido:shipped\\u003cbr\\u003eClasse: problemas_de_entrega\",\"Status do Pedido:delivered\\u003cbr\\u003eClasse: satisfeito_com_pedido\",\"Status do Pedido:delivered\\u003cbr\\u003eClasse: satisfeito_com_pedido\",\"Status do Pedido:delivered\\u003cbr\\u003eClasse: problemas_de_entrega\",\"Status do Pedido:delivered\\u003cbr\\u003eClasse: problemas_de_qualidade\"],\"x\":[14.38,15.23,15.86,12.74,17.95,0.15,30.01,8.41,40.62,19.94,14.43,17.2,12.17,15.24,12.81,25.74,8.82,8.72,11.89,34.14,11.85,14.8,16.26,49.11,7.78,0.69,22.41,7.88,12.43,17.21,28.2,25.11,74.43,38.59,16.68,11.42,13.86,30.2,3.65,1.68,18.65,16.79,17.66,8.08,12.33,11.85,12.48,12.76,17.86,15.1,15.84,18.76,12.61,18.49,14.45,36.06,15.24,16.11,20.27,7.78,15.1,33.58,31.74,12.83,24.39,10.85,18.2,17.67,7.31,11.73,7.78,22.1,35.91,17.88,8.72,60.29,22.28,17.59,11.85,9.83,15.11,38.55,14.1,11.73,12.35,64.02,20.8,18.73,22.4,15.1,15.43,22.57,14.59,64.74,11.89,25.25,46.73,8.05,13.14,13.59,17.81,11.73,28.36,30.46,17.67,17.95,18.94,14.1,71.88,8.27,14.35,16.79,8.72,14.22,17.95,27.58,9.03,16.16,17.0,16.82,233.59,17.53,18.75,20.3,9.34,15.28,17.74,9.94,13.72,11.92,21.11,20.18,11.98,21.05,19.8,48.52,29.76,16.11,22.93,13.54,15.17,12.8,16.6,19.14,21.43,16.16,16.11,14.95,25.77,45.71,21.15,11.83,26.35,45.02,17.22,9.27,21.33,17.67,17.74,14.72,181.97,67.0,42.12,19.83,18.72,51.62,21.52,21.64,35.81,167.05,30.2,25.63,35.82,18.23,15.44,25.63,11.33,14.01,46.48,18.19,15.1,11.84,20.82,14.35,12.75,14.1,17.99,18.84,19.66,13.1,20.35,11.85,12.48,16.39,18.55,12.41,59.46,31.0,14.52,33.89,11.15,19.72,14.15,18.79,47.71,22.05,8.82,13.63,15.83,18.06,66.81,28.75,21.56,27.72,28.16,15.17,14.1,21.28,26.89,21.68,13.57,28.98,16.36,17.12,15.69,23.84,19.59,50.71,14.96,7.78,13.37,7.78,17.92,9.45,12.69,7.78,12.72,14.1,14.8,17.8,23.67,17.92,29.57,18.45,18.14,8.83,22.32,38.71,9.34,28.9,11.18,12.64,16.98,15.62,18.23,20.29,17.12,70.24,94.94,70.38,24.78,11.85,25.76,13.66,15.1,167.05,12.9,15.1,15.38,45.34,32.17,79.16,17.03,60.29,11.95,13.41,19.73,14.1,11.73,14.02,15.11,12.57,12.48,36.13,15.15,8.72,15.1,16.34,59.95,21.64,16.22,65.57,34.82,15.24,11.89,19.79,13.37,13.09,33.89,14.1,14.15,10.96,28.86,17.6,19.95,10.59,16.76,11.72,51.54,15.4,7.39,15.44,15.1,15.1,11.85,25.67,15.38,60.29,13.99,29.1,7.53,11.85,23.84,17.63,26.44,33.51,33.08,17.6,15.15,12.7,60.2,15.13,11.85,11.99,16.75,16.5,9.7,16.92,20.08,17.1,21.6,105.96,8.88,20.94,17.55,6.82,14.23,11.88,34.25,26.11,13.18,12.69,19.16,14.72,12.69,15.79,11.85,42.38,19.59,1.54,30.64,17.39,26.53,17.6,13.54,30.3,88.3,28.57,31.58,15.1,13.08,12.33,30.2,54.48,17.67,22.35,18.65,14.1,9.27,62.03,16.11,52.08,17.02,5.78,38.07,92.03,42.52,22.88,15.3,11.75,15.37,7.9,20.54,38.49,16.35,12.13,28.49,22.96,15.1,19.53,9.17,13.52,15.1,13.25,12.18,60.9,12.79,38.36,31.62,7.78,10.32,8.88,24.78,7.78,11.85,36.38,3.7,11.89,15.59,9.65,15.1,56.29,11.73,28.36,18.55,38.56,14.1,15.38,14.1,25.63,42.51,25.63,11.98,13.66,12.74,30.34,17.63,18.43,29.44,11.85,90.18,12.62,12.69,14.1,53.01,14.3,14.65,15.1,15.79,64.68,13.66,16.61,15.1,23.09,7.88,15.1,11.85,36.15,39.41,21.15,14.33,12.41,15.1,18.92,12.37,12.28,21.35,26.88,63.22,17.92,13.84,15.1,29.55,15.71,15.1,18.29,37.24,21.54,39.46,22.67,37.05,14.1,13.61,15.1,15.56,14.1,34.15,26.11,23.49,13.83,18.71,17.12,8.72,15.17,12.34,108.4,17.06,37.41,17.84,15.1,18.23,17.63,16.93,15.23,14.94,16.11,17.6,1.44,16.21,15.38,46.94,8.72,11.85,25.46,17.67,16.0,9.27,158.38,11.87,16.79,28.92,45.09,16.08,13.25,15.1,108.96,50.71,34.98,16.7,21.12,13.85,29.17,17.67,19.31,19.5,32.28,1.94,26.88,14.5,15.13,16.11,45.93,20.22,15.1,14.79,29.55,38.59,23.16,17.67,7.1,7.01,26.66,16.4,97.14,9.69,17.6,58.06,34.05,7.87,40.84,29.88,16.79,17.67,18.48,10.96,16.11,23.0,23.49,16.43,17.27,17.13,14.22,16.7,15.61,23.43,11.85,28.14,17.66,7.78,13.69,42.52,17.67,7.78,12.62,15.1,9.34,18.55,9.17,16.6,14.6,18.15,68.13,25.91,80.74,16.81,13.71,12.8,17.83,15.11,26.17,13.61,14.09,15.1,11.88,15.32,34.05,11.85,19.3,12.4,12.69,15.1,16.58,39.38,13.57,56.68,29.8,23.42,45.55,25.31,13.08,19.5,26.46,36.85,15.67,13.23,35.97,3.7,15.55,12.34,16.26,17.06,17.7,20.3,16.11,32.36,14.65,9.09,57.78,94.94,39.32,22.29,13.08,22.0,14.1,18.02,7.78,41.47,15.15,37.97,16.52,7.78,26.89,16.28,167.04,22.11,18.81,15.1,23.79,7.18,15.1,18.13,236.64,27.94,40.38,16.14,16.21,15.1,20.86,3.36,13.24,12.69,35.91,21.16,8.27,11.9,59.53,41.84,17.59,22.0,13.86,16.25,15.27,9.09,21.89,20.25,19.19,17.07,13.41,17.65,14.41,21.23,15.1,14.87,15.1,12.96,7.78,19.94,15.86,16.79,13.37,14.1,16.11,7.78,14.32,16.4,9.72,15.39,18.0,17.71,14.37,14.94,13.64,11.73,17.6,16.18,43.91,16.11,9.68,13.76,23.85,13.57,21.18,17.6,14.57,11.22,17.67,15.08,57.79,14.32,12.54,16.52,34.49,13.37,5.29,7.78,15.1,16.59,15.1,28.18,11.85,14.29,12.69,15.22,16.53,15.1,7.86,30.2,7.78,16.46,35.61,9.78,33.92,34.99,16.11,42.24,15.79,18.16,19.8,16.11,49.39,3.96,16.13,18.32,23.91,82.49,20.07,11.85,25.97,15.72,18.65,14.97,52.7,5.19,8.11,15.01,17.95,14.28,28.56,17.31,14.32,21.27,17.66,27.27,13.44,11.85,43.16,18.79,8.72,17.07,21.19,21.82,7.81,14.16,17.8,7.78,16.86,33.97,140.72,7.78,12.13,18.99,8.84,20.69,17.65,7.78,15.59,13.46,26.61,74.56,8.76,23.74,14.22,13.09,16.71,19.53,59.09,15.24,26.74,17.85,12.74,45.3,26.88,26.82,29.45,63.45,16.14,28.92,7.78,13.81,84.06,7.78,7.07,101.86,14.03,15.1,34.62,11.85,24.07,38.45,46.44,31.94,16.99,21.21,17.67,17.53,14.6,12.4,19.61,15.14,7.78,7.78,7.53,13.37,35.2,19.91,18.02,42.18,96.66,13.78,25.88,11.97,16.11,12.06,20.08,31.87,35.94,35.79,15.0,16.27,17.67,26.89,17.57,28.78,12.84,37.89,11.85,17.0,17.94,11.99,16.79,11.85,15.6,17.74,14.1,13.65,16.32,8.07,26.33,17.73,41.05,4.28,0.75,30.2,7.78,26.46,17.79,75.52,147.56,15.1,16.11,7.78,23.78,14.1,15.1,90.2,15.41,13.47,21.54,8.41,15.66,16.99,15.56,25.24,16.11,36.02,33.36,12.2,14.1,30.86,22.62,20.8,14.68,15.1,75.84,15.1,44.32,52.2,14.1,19.88,72.45,11.92,15.92,25.63,17.34,39.24,16.81,17.63,17.94,15.79,11.85,37.74,13.53,0.84,16.66,35.55,127.2,17.67,6.0,20.14,15.32,15.11,13.82,15.1,15.24,19.15,33.34,0.0,13.7,15.1,20.74,37.05,12.73,17.82,17.95,21.54,33.58,37.61,18.1,8.1,117.44,15.18,38.95,9.34,34.2,15.79,17.6,9.34,15.1,18.09,6.25,35.34,45.3,8.72,16.12,21.38,9.34,18.46,8.11,12.69,15.1,12.79,15.17,15.1,14.16,10.76,12.48,21.4,15.7,21.58,17.15,26.19,38.1,26.06,9.34,43.52,17.6,39.14,17.63,38.55,149.64,37.0,9.94,12.69,16.6,35.91,15.79,41.64,11.85,20.97,17.26,21.22,17.6,17.74,13.44,21.27,17.45,18.47,11.85,59.0,15.1,11.88,18.78,12.97,12.61,19.59,11.88,61.39,20.96,24.19,14.1,15.1,13.08,16.25,37.92,12.35,16.18,20.13,11.85,16.52,24.61,14.43,34.15,7.39,34.18,9.44,11.79,20.18,16.79,15.59,15.12,18.94,18.23,11.85,75.16,14.77,9.88,36.43,13.72,7.94,18.95,17.6,19.94,13.42,15.11,24.05,30.66,14.64,7.39,16.93,8.27,16.21,12.6,8.72,16.16,14.35,15.1,16.34,24.84,17.63,13.44,18.27,14.1,14.13,61.89,49.65,16.11,11.62,35.9,52.72,17.78,13.08,43.34,17.37,3.75,14.8,121.22,15.15,8.48,11.85,20.45,7.78,8.27,17.07,16.14,15.3,16.11,34.18,16.06,15.1,7.78,11.86,11.85,16.47,11.85,10.03,16.79,8.27,25.22,8.27,17.71,14.29,17.94,6.04,16.93,8.88,49.24,15.79,117.35,8.29,11.88,12.08,20.38,7.78,17.67,15.1,19.93,45.43,22.22,52.86,20.99,12.58,34.83,34.15,19.59,21.15,37.97,25.9,27.27,12.57,29.73,16.85,26.96,38.9,16.86,13.72,17.65,11.8,12.4,22.92,7.78,21.25,48.71,12.2,16.11,31.76,14.34,14.2,16.11,15.1,15.1,14.97,58.9,14.1,9.37,1.98,16.66,15.19,17.63,12.69,21.15,14.23,26.92,37.49,26.3,38.03,19.79,19.79,14.15,10.38,16.85,53.78,12.48,25.96,43.0,17.67,12.11,40.84,15.0,36.38,11.3,17.7,14.31,12.85,14.35,20.86,25.07,15.13,14.68,14.79,31.86,16.95,61.58,18.23,13.47,47.98,18.27,18.78,15.59,25.63,17.78,12.54,17.93,11.85,18.02,18.46,8.27,13.32,43.41,41.08,23.31,7.78,4.28,16.11,11.73,16.86,11.85,17.86,401.58,30.4,20.52,35.53,40.56,12.69,23.11,25.63,43.22,14.52,15.66,9.68,6.34,131.09,12.18,9.51,60.72,19.95,16.38,14.52,14.1,22.59,4.24,68.32,15.21,8.29,47.73,8.72,21.15,15.92,18.27,25.56,18.86,15.59,7.99,17.67,37.28,7.79,65.67,12.33,46.78,14.15,13.14,15.38,25.54,26.66,15.1,20.07,13.66,15.16,2.79,8.88,18.16,26.17,10.01,28.09,37.37,28.82,15.19,32.87,50.5,16.11,7.53,21.82,16.96,18.52,15.1,7.87,0.02,17.88,13.37,25.95,24.84,13.92,18.25,25.42,15.27,26.74,14.1,10.5,12.86,15.11,25.38,11.83,14.1,12.48,17.97,17.6,7.86,103.37,13.5,13.18,8.11,15.11,29.14,15.44,17.52,3.09,61.58,16.25,15.15,33.24,15.1,15.1,11.1,12.06,98.02,18.63,26.11,17.57,16.79,13.5,44.23,8.35,13.37,55.97,41.53,17.06,12.18,21.26,16.32,28.82,9.19,21.85,20.32,18.79,12.72,18.68,16.3,27.83,21.39,22.85,55.07,15.38,39.16,12.19,15.01,42.3,14.65,17.66,17.65,13.65,17.17,44.58,15.1,12.48,16.53,15.1,38.24,36.46,12.59,13.79,17.69,15.13,16.79,18.21,24.26,14.1,8.8,18.32,18.32,35.55,14.15,37.9,43.62,8.3,17.74,43.04,12.17,14.29,14.1,15.38,16.11,14.01,14.2,7.39,23.88,18.52,13.02,14.15,17.18,23.87,8.72,14.1,28.82,15.66,18.16,44.55,12.69,31.52,21.11,16.25,3.94,15.38,42.36,11.85,32.23,23.68,21.38,24.64,16.11,15.98,21.14,58.42,17.07,53.01,16.64,13.75,12.27,18.02,18.0,11.02,18.35,18.21,15.05,24.84,59.66,21.16,17.78,60.84,34.61,35.67,10.35,13.64,9.34,17.92,14.66,17.6,17.63,23.46,29.51,22.3,15.1,15.41,15.1,12.76,4.6,35.26,25.22,35.67,25.64,9.94,15.8,8.75,19.66,34.18,17.77,15.1,24.84,15.59,15.22,32.22,14.13,16.5,13.58,26.27,17.63,16.11,11.26,18.47,11.92,21.64,17.6,15.15,87.33,9.37,17.91,20.88,21.68,10.37,23.0,25.19,9.27,18.23,12.22,12.55,9.74,21.15,58.21,25.74,8.07,22.64,15.1,16.81,17.94,17.19,116.06,17.54,14.1,10.96,19.13,15.09,16.11,9.94,16.11,16.11,14.36,38.6,16.46,20.93,1.98,16.18,22.35,37.89,12.76,14.04,13.21,15.87,35.91,2.09,8.72,13.07,24.91,12.48,34.33,16.56,17.27,11.85,14.51,32.44,51.25,16.11,9.81,18.27,22.9,11.81,4.8,10.56,15.12,18.7,37.51,36.98,15.38,16.79,17.09,16.28,6.92,33.7,17.78,19.23,13.59,15.63,9.3,34.46,33.04,7.28,9.31,27.06,21.12,13.51,18.19,25.94,11.85,22.58,31.53,14.13,14.09,16.7,15.1,9.26,42.59,30.87,64.38,11.85,14.31,36.11,21.19,11.85,14.1,18.54,17.6,8.82,35.91,7.78,16.6,26.66,17.63,9.83,9.34,16.79,48.87,7.81,14.65,17.63,33.24,3.01,25.04,16.29,8.72,16.33,20.89,21.1,13.51,22.79,13.44,20.19,25.87,3.06,17.65,15.65,21.3,16.37,3.07,9.34,29.14,18.72,34.15,17.02,34.15,38.45,15.1,71.88,7.94,15.1,12.19,12.69,19.7,16.11,131.32,52.71,37.61,29.17,8.27,17.86,23.78,17.7,15.1,14.97,15.98,17.95,36.5,9.34,259.7,9.91,14.42,15.19,13.52,28.68,25.63,21.1,18.26,12.61,5.19,7.78,15.01,98.52,33.36,7.94,15.86,18.86,18.06,24.84,27.74,13.17,18.09,19.88,28.98,98.48,16.73,18.24,24.35,10.6,80.11,19.98,15.17,15.15,15.17,12.57,14.1,21.49,55.86,18.24,10.65,12.69,7.37,10.49,17.34,49.3,26.54,25.15,14.63,10.55,16.92,17.67,18.57,9.27,12.13,11.85,26.27,15.18,0.28,15.87,28.16,124.74,36.02,11.85,14.1,19.77,15.1,3.33,17.26,11.85,13.46,20.52,9.32,9.49,14.8,18.04,7.78,15.31,17.81,4.36,20.99,44.24,15.1,15.71,15.82,15.73,27.23,13.44,7.78,16.11,16.16,17.61,13.93,111.57,9.34,8.27,14.22,12.79,11.87,15.18,2.41,16.6,18.23,17.63,15.39,15.11,25.38,28.76,12.72,13.72,15.45,9.7,15.2,91.93,15.46,64.68,53.08,17.55,23.14,4.07,21.32,15.13,8.27,7.78,17.62,7.87,28.76,13.81,15.24,16.39,29.05,9.29,27.41,16.39,17.99,26.03,17.9,13.53,18.68,7.78,66.71,93.34,11.85,17.6,16.79,35.67,8.66,17.88,19.95,15.1,17.02,13.37,15.43,34.15,17.6,11.85,18.0,15.1,25.22,20.99,26.95,19.75,19.5,35.67,17.63,21.66,16.28,38.51,21.29,16.11,19.38,15.89,13.71,13.47,11.03,13.04,1.28,16.65,21.15,17.84,8.72,11.73,113.91,8.72,24.19,16.16,9.37,28.95,16.75,17.95,16.11,27.87,15.13,17.67,18.97,12.79,7.74,17.03,13.32,21.75,16.88,14.15,7.78,20.08,25.63,17.6,16.4,7.78,15.8,42.95,17.9,23.46,63.33,43.45,16.24,71.9,16.67,17.72,17.2,18.73,50.57,15.1,16.98,12.69,34.42,18.23,14.66,14.51,17.95,14.1,14.1,14.1,14.1,14.52,18.69,29.3,14.1,58.54,18.21,15.11,12.27,17.92,7.39,17.92,19.98,16.95,69.96,21.03,32.08,15.1,17.88,16.86,12.74,15.24,67.82,16.79,13.32,15.43,18.09,7.86,8.88,16.79,11.85,15.1,36.42,19.66,20.04,17.98,16.64,11.73,70.72,8.27,35.2,27.68,18.26,28.95,15.1,21.39,17.67,15.1,20.72,25.62,101.17,15.1,11.85,26.74,16.29,9.51,33.09,7.78,12.54,8.27,13.81,33.36,14.05,33.12,17.86,2.63,33.68,15.73,16.39,16.81,11.9,16.16,16.25,11.85,15.15,16.79,12.88,48.63,14.77,12.76,7.78,16.79,37.97,14.1,15.38,22.7,20.0,17.72,14.1,12.72,20.91,11.85,2.82,25.95,37.37,27.13,8.88,16.16,34.99,42.16,16.03,17.88,12.24,21.15,22.27,7.78,12.61,63.52,14.6,19.46,16.29,21.43,97.14,15.1,19.03,17.95,16.47,15.1,11.83,16.54,14.13,14.09,9.37,17.13,25.38,32.15,19.52,16.52,15.11,34.85,18.16,30.11,26.31,17.07,17.88,9.32,25.21,38.68,11.85,10.78,18.26,18.69,12.75,13.25,30.2,37.97,15.82,19.07,17.12,26.68,19.91,12.26,79.01,17.63,19.92,19.39,25.63,17.13,15.8,10.35,9.74,22.17,15.21,7.78,47.98,12.22,33.9,12.48,27.28,14.1,17.67,18.8,13.31,112.43,15.1,6.67,50.76,15.79,51.91,19.92,15.49,19.91,71.74,19.22,12.21,18.93,19.98,15.8,21.3,14.1,15.1,37.06,20.94,24.84,27.03,17.78,11.85,34.15,15.1,13.61,15.1,18.06,25.63,7.78,15.11,9.79,8.27,24.27,14.1,15.19,34.99,16.23,17.18,21.92,18.19,16.11,13.83,15.98,16.14,15.04,26.27,16.97,18.13,131.82,8.91,17.87,15.8,18.26,15.65,16.16,13.72,15.1,53.72,16.63,11.85,26.46,73.45,79.39,26.92,16.11,8.11,43.47,34.19,28.75,18.79,13.93,26.55,8.72,11.85,15.1,28.75,16.6,28.0,15.1,11.19,35.86,8.69,15.37,14.07,8.43,42.76,15.41,18.16,13.61,32.85,15.23,0.01,13.51,16.95,16.79,15.66,30.2,17.3,12.48,14.52,13.42,30.2,57.1,14.25,14.1,38.04,21.79,16.79,15.79,13.71,17.6,0.8,14.47,15.38,18.23,16.11,16.89,16.95,26.16,21.24,15.15,25.38,15.1,14.51,17.62,15.1,19.51,8.72,7.29,8.11,19.15,17.76,29.27,10.08,10.37,42.36,15.11,25.63,30.68,25.67,50.86,16.79,15.11,17.73,25.73,11.1,16.21,11.85,8.27,21.91,15.01,13.18,17.67,25.63,18.1,32.5,38.36,25.91,24.9,15.61,9.13,18.24,2.16,42.76,16.54,12.69,12.54,18.14,13.52,15.1,32.22,16.95,15.17,11.73,22.59,15.21,13.71,29.03,27.48,14.38,11.99,12.7,26.11,7.78,16.11,18.37,18.68,15.1,7.78,14.31,12.69,11.85,7.88,58.77,28.2,24.77,18.0,16.11,32.5,18.23,38.98,25.52,31.4,25.59,125.97,14.8,35.34,88.24,98.48,33.61,7.9,42.3,14.35,38.88,16.74,27.72,7.61,18.32,12.46,25.63,16.14,38.53,17.67,30.62,7.15,5.37,12.76,15.1,16.24,14.72,36.07,25.97,40.38,3.41,13.93,4.22,18.69,30.75,57.96,17.74,9.87,37.97,15.1,14.5,11.17,1.93,25.97,17.67,7.11,12.2,38.38,13.9,3.23,39.14,21.44,8.75,18.23,17.87,22.88,7.78,15.73,12.18,17.9,7.78,24.29,13.92,37.73,28.12,17.6,17.47,11.83,18.73,28.21,54.8,13.37,11.85,16.25,17.6,18.72,16.95,7.81,20.78,38.08,21.68,35.2,28.75,21.33,25.63,9.34,69.46,9.27,13.08,15.39,21.15,13.55,14.45,25.63,16.7,14.11,11.85,22.1,21.43,8.72,17.77,30.78,12.87,28.5,15.1,13.18,7.78,18.31,23.6,12.79,18.06,28.28,17.97,16.4,17.63,53.48,15.15,44.8,94.77,17.2,15.64,8.81,8.27,37.97,21.15,26.29,16.79,14.1,19.38,7.78,17.67,11.85,79.86,6.67,35.45,23.87,17.48,52.71,21.26,8.72,18.2,18.57,12.93,16.19,16.64,18.1,17.6,14.28,17.27,8.11,7.78,73.96,15.1,20.8,17.16,16.11,23.7,17.18,25.9,36.61,8.27,34.04,35.38,13.65,14.95,15.52,25.52,15.1,16.67,11.85,15.38,26.58,13.64,17.39,15.24,30.2,22.96,14.52,15.44,18.02,17.73,8.75,9.1,9.94,8.11,18.82,34.82,8.4,16.35,16.5,20.71,16.24,29.02,20.06,15.49,15.99,16.26,119.84,16.86,15.1,60.82,27.72,12.9,17.66,17.02,15.38,17.67,19.0,30.1,16.38,18.69,9.73,18.07,15.31,27.39,17.95,9.63,15.8,24.81,14.1,16.14,15.32,16.58,15.14,15.27,32.93,19.8,18.08,59.88,12.05,17.61,29.3,108.56,21.15,12.55,20.93,14.1,26.89,11.4,20.78,22.31,9.45,14.11,12.65,50.37,17.63,61.06,28.92,18.26,23.52,12.79,8.37,18.86,16.28,167.05,19.84,16.12,27.15,17.94,11.74,21.54,18.1,12.79,14.5,15.39,25.63,15.11,42.41,11.15,16.11,12.48,13.51,16.14,13.55,33.62,20.2,20.21,34.86,47.37,15.42,5.0,26.88,16.12,15.1,11.85,36.35,15.1,23.17,17.99,16.79,12.9,17.82,41.26,36.26,22.59,2.81,15.76,35.91,15.55,13.26,15.59,20.74,16.79,25.47,17.24,136.02,46.11,17.08,14.76,16.07,19.94,25.63,16.01,8.23,15.1,15.1,1.44,15.79,12.57,16.97,11.85,15.1,11.95,18.09,8.11,53.76,16.28,7.88,22.36,7.78,27.81,23.03,17.95,0.02,16.79,17.42,17.46,18.7,17.89,8.72,22.24,17.67,18.1,20.16,18.94,25.63,34.05,28.23,8.72,16.95,13.63,8.11,16.16,21.6,36.46,16.01,26.16,13.93,14.1,8.27,13.57,34.98,30.88,15.66,12.69,8.37,14.17,61.3,35.12,18.18,5.05,27.98,14.91,22.87,30.17,19.7,8.72,14.41,16.53,16.11,14.1,17.6,17.64,16.82,11.28,24.66,9.04,15.1,17.88,16.59,16.24,55.11,15.23,17.8,61.63,52.8,22.71,15.1,22.55,8.72,16.11,12.88,7.78,75.76,17.95,41.94,7.81,34.7,15.19,9.1,15.1,19.96,46.23,17.63,26.25,16.79,21.17,11.99,15.94,12.25,16.42,29.31,12.65,16.36,26.68,19.66,15.97,16.39,14.1,17.7,19.14,27.16,12.89,7.78,2.31,41.94,20.45,15.1,25.25,21.45,8.11,28.09,16.12,15.56,17.03,30.2,15.2,8.72,12.69,21.53,21.22,27.14,16.11,8.11,15.6,7.22,8.72,15.38,10.04,1.18,13.25,17.48,12.48,20.55,185.48,18.69,12.48,15.93,17.63,16.79,7.78,42.23,13.18,12.61,27.35,20.9,9.27,11.83,15.1,27.33,11.85,30.12,11.73,12.82,34.41,59.17,15.1,32.13,15.36,20.02,15.17,16.99,11.73,2.91,43.22,15.11,20.77,31.52,16.6,11.85,27.5,14.43,17.6,15.97,40.41,19.74,8.72,19.41,12.48,11.81,0.08,17.67,7.78,11.85,0.85,15.06,12.69,43.32,31.68,16.39,7.81,18.31,41.83,16.79,17.63,16.6,11.27,15.19,55.62,16.12,15.08,13.93,21.1,31.02,24.67,15.1,14.1,12.76,14.23,37.42,15.1,41.05,15.1,11.51,16.35,32.48,7.78,13.43,1.74,48.38,21.15,16.75,27.79,8.27,17.92,106.63,16.58,11.73,15.1,35.95,15.1,21.53,7.78,17.45,16.89,14.41,16.99,167.05,18.33,16.11,15.11,15.66,15.83,18.04,16.11,14.58,18.37,15.1,20.8,15.11,82.04,26.39,15.1,18.04,7.78,16.79,18.19,51.48,16.32,22.92,14.1,15.56,12.82,47.23,20.18,7.35,7.78,17.88,14.51,13.44,14.23,11.95,64.3,118.84,16.25,7.78,23.61,15.23,25.63,18.47,8.72,17.78,20.91,15.1,21.5,13.79,15.62,21.54,15.34,46.18,14.14,16.98,27.49,12.11,29.1,15.21,16.29,15.38,37.42,14.1,17.6,4.28,21.75,53.67,75.91,16.29,14.43,19.66,12.41,14.47,11.77,26.94,12.64,11.85,11.73,16.11,11.73,17.65,18.68,17.24,15.1,13.52,35.9,15.1,58.82,29.04,7.78,42.45,0.99,36.86,12.69,16.96,14.1,56.7,19.66,17.6,10.7,21.93,16.11,14.1,16.3,17.23,58.76,15.11,13.95,17.62,11.85,17.6,11.75,15.1,21.8,19.0,48.84,26.64,15.11,16.07,17.7,33.08,16.11,24.11,20.64,14.1,12.69,17.67,15.94,18.32,13.37,20.99,18.26,10.11,18.55,13.98,36.46,113.38,16.71,8.27,35.95,13.96,7.91,52.8,31.0,26.27,14.1,18.4,60.4,15.1,13.08,12.46,19.82,17.27,20.32,13.41,5.0,11.73,25.81,15.13,60.56,16.52,16.16,7.42,16.95,19.8,17.67,57.44,21.89,15.1,26.38,16.16,14.37,13.37,17.67,13.08,180.08,15.1,1.75,27.06,14.62,38.35,14.5,20.18,11.85,20.96,14.35,17.49,17.22,18.62,54.3,12.52,11.9,84.04,9.75,40.92,14.51,17.11,14.1,17.84,12.76,11.85,18.69,9.51,86.63,38.08,30.56,10.47,21.64,18.26,17.82,34.86,7.78,15.1,17.6,12.48,12.18,28.2,14.1,23.5,7.78,45.66,7.88,60.76,57.76,86.7,23.49,10.58,12.7,18.54,14.5,26.37,15.2,26.82,43.78,26.88,15.66,7.78,21.26,12.85,28.28,35.23,16.79,16.56,16.15,12.48,17.74,32.22,15.72,45.66,21.15,34.15,15.1,26.88,144.38,13.64,8.9,20.04,9.65,34.39,11.85,15.51,31.14,20.08,16.7,11.85,16.67,29.3,16.11,13.69,58.2,17.39,11.85,53.01,11.85,53.9,28.2,16.79,4.82,44.16,17.67,17.69,15.1,1.7,7.78,27.38,3.69,15.1,12.6,38.79,17.31,17.78,24.8,63.69,20.0,45.3,30.2,25.02,28.81,17.67,25.02,8.72,21.15,31.25,7.95,24.16,15.11,41.29,11.12,16.11,15.0,16.16,24.61,15.11,17.63,16.79,26.24,14.52,9.94,17.66,10.96,16.79,15.91,12.44,14.16,20.2,13.11,18.62,15.33,29.03,11.85,15.75,13.32,25.69,22.67,18.59,24.76,17.67,15.31,25.61,15.15,16.79,25.47,12.48,21.28,7.78,17.73,88.89,26.89,3.52,30.2,47.36,21.15,12.11,25.63,38.67,8.72,13.57,12.37,14.1,10.76,15.88,25.4,16.07,10.96,16.96,15.1,17.92,7.39,8.72,8.43,14.13,20.63,19.06,29.86,9.34,21.08,7.78,13.38,45.51,21.15,17.95,14.1,12.89,15.28,17.63,35.81,14.1,10.14,16.27,17.6,23.69,17.81,27.83,25.38,114.42,12.83,13.65,16.32,15.11,17.04,15.1,17.1,12.69,9.27,15.1,18.31,14.05,17.95,17.55,9.26,46.68,32.64,7.78,14.1,11.77,13.38,117.99,15.85,11.64,15.56,16.79,52.71,17.17,20.47,10.46,15.11,18.43,21.15,14.1,22.2,7.95,14.1,30.76,30.2,15.73,16.63,12.6,8.27,12.69,14.38,7.78,5.18,13.69,83.32,15.44,12.8,8.11,9.34,13.08,61.24,14.17,17.1,30.2,14.61,6.67,15.1,16.89,14.1,12.79,16.79,27.86,19.94,9.37,17.95,14.44,11.85,12.69,15.57,8.88,17.63,13.52,38.95,12.75,16.11,8.82,46.78,8.72,17.44,12.06,36.79,18.23,19.32,25.75,16.79,34.52,11.85,17.74,12.34,23.77,42.38,15.5,17.9,9.79,7.78,23.49,34.15,60.44,62.93,15.8,59.02,31.64,7.39,47.86,21.15,30.2,17.06,14.61,13.93,42.5,14.45,8.72,33.24,8.27,14.29,6.67,12.11,11.85,16.32,17.44,17.9,26.68,38.67,21.25,18.16,14.46,17.95,16.53,17.6,26.95,15.28,22.36,15.56,19.92,23.9,11.83,13.18,13.61,11.32,25.16,79.16,9.34,18.2,15.3,12.47,12.13,14.13,62.42,17.21,17.63,21.43,61.42,3.33,20.64,21.63,76.08,15.35,12.62,13.71,17.07,10.38,33.79,14.14,35.76,16.79,52.89,69.91,3.32,143.8,116.7,35.54,15.1,14.13,49.11,19.15,9.34,33.35,9.27,32.42,13.18,7.78,30.22,34.5,13.65,8.72,14.54,15.2,15.1,16.92,11.85,40.37,11.85,11.85,11.73,13.37,86.83,17.97,15.03,34.5,16.82,14.1,14.93,15.1,18.25,15.16,13.52,26.88,13.61,13.68,56.4,10.67,14.53,14.52,12.53,14.28,22.28,14.43,9.73,49.87,8.06,14.35,11.75,21.22,14.44,18.26,14.08,8.82,12.51,11.9,17.67,14.15,21.16,14.64,26.52,9.34,12.91,25.53,16.16,41.57,18.0,14.1,11.76,11.65,38.64,17.88,15.1,10.65,12.48,15.32,15.1,32.62,16.35,15.1,18.09,9.34,14.8,16.82,14.1,53.76,8.82,16.45,17.6,21.22,28.32,57.65,8.88,18.58,17.17,17.63,15.43,13.61,8.93,16.79,8.72,16.48,15.1,16.73,16.94,19.51,35.73,96.44,25.71,17.78,50.01,22.71,167.05,15.1,81.85,17.64,13.72,9.34,11.87,27.5,19.31,34.5,27.16,15.1,37.97,27.52,15.17,18.64,17.34,22.58,35.2,1.94,47.13,112.44,64.05,13.28,8.72,15.86,12.2,16.32,34.44,10.14,15.66,27.14,26.95,25.15,8.11,38.96,5.77,29.58,7.78,8.9,15.1,21.33,35.83,7.78],\"y\":[89.99,69.0,99.8,87.0,99.9,39.99,229.9,164.9,89.9,99.9,99.99,65.9,137.4,69.99,59.9,66.0,23.7,59.99,97.9,195.99,44.9,89.9,89.9,56.99,53.99,41.3,225.0,89.0,132.97,104.9,39.98,99.99,1399.99,470.0,149.99,86.0,119.99,143.8,105.0,16.9,199.9,17.85,53.99,118.0,118.0,18.9,19.9,59.9,86.99,29.0,155.0,349.99,140.0,172.33,204.0,222.0,69.9,39.9,246.62,49.0,24.9,99.8,55.5,69.9,113.0,233.0,135.9,59.9,69.9,34.2,27.9,89.99,84.99,89.9,56.99,248.99,29.4,279.9,38.4,233.91,16.9,143.0,98.0,27.19,18.99,63.0,39.9,144.94,34.9,19.47,239.9,439.9,120.0,572.0,34.2,99.9,179.99,169.0,144.41,165.0,79.99,58.99,139.9,51.98,59.9,99.9,99.9,12.97,69.9,45.9,29.9,25.9,22.0,29.0,99.99,148.6,99.0,56.99,79.99,170.0,1459.0,112.99,189.99,89.9,34.9,219.0,69.9,35.96,99.99,59.9,38.9,134.0,69.0,79.9,46.99,419.0,1999.9,26.7,39.9,74.8,59.9,56.97,32.64,130.0,139.99,75.0,43.99,110.9,70.0,179.0,25.0,89.5,215.0,79.0,229.99,37.49,120.0,59.9,69.99,89.85,1620.0,89.9,399.0,28.56,119.5,151.8,146.99,79.9,69.9,69.9,37.8,39.99,79.99,50.0,98.9,9.9,67.9,59.9,289.0,133.9,39.0,29.9,189.99,449.99,89.0,49.9,59.9,149.9,59.9,121.35,799.0,48.3,23.8,89.99,258.99,69.9,399.0,99.0,17.89,229.04,72.99,68.9,56.99,219.9,370.47,82.62,40.5,87.85,527.92,69.9,285.9,39.99,86.9,349.0,114.94,60.0,20.9,569.0,49.99,169.9,79.0,82.99,229.9,194.65,35.9,119.8,49.9,120.0,89.9,34.99,49.9,34.99,35.9,179.0,24.75,45.0,54.9,49.9,89.9,79.0,50.0,36.9,157.0,249.0,205.0,215.0,64.9,124.99,32.99,205.8,128.9,119.9,76.9,124.0,33.9,149.9,339.0,299.0,233.8,209.4,199.9,25.0,69.0,189.0,48.9,69.9,109.9,6.3,89.9,65.98,447.0,142.0,110.8,248.99,64.99,49.0,79.98,24.9,69.9,270.0,29.9,347.91,18.9,115.0,388.0,136.9,34.3,28.9,199.99,120.0,84.99,690.0,146.0,69.9,56.0,79.0,26.9,106.72,69.88,24.99,59.9,49.9,65.9,44.9,19.9,49.0,189.0,39.9,1099.0,92.9,12.0,48.1,24.5,42.99,45.95,118.9,89.18,248.99,44.9,99.9,79.7,42.99,179.99,19.9,34.9,159.94,99.0,40.0,56.99,51.92,169.99,54.99,36.0,69.9,72.0,249.9,189.99,49.0,299.99,94.0,159.0,699.99,14.0,16.9,139.9,44.55,67.9,53.99,65.0,69.9,120.0,20.0,273.0,90.0,15.9,39.9,19.99,23.9,32.9,23.0,799.99,92.9,179.0,50.0,69.0,179.99,295.0,169.99,295.8,47.99,69.9,89.9,21.2,115.0,59.9,59.99,69.9,49.99,21.0,145.99,44.9,473.7,82.9,64.9,74.8,399.94,59.9,79.99,79.0,44.99,87.0,19.0,469.99,146.99,84.99,89.9,159.0,179.0,49.0,80.0,79.0,199.0,29.0,699.0,139.99,1186.0,39.0,115.0,299.0,49.99,18.99,50.0,200.0,49.0,27.9,116.94,20.3,49.0,120.0,73.35,39.0,199.8,59.9,69.9,139.9,144.99,29.0,89.99,35.9,37.99,68.9,18.9,68.9,92.0,56.99,119.8,18.9,169.0,47.88,22.0,179.98,159.9,45.0,20.9,179.7,169.9,79.99,45.99,38.9,236.0,92.0,139.9,24.9,27.5,89.99,47.9,19.9,399.0,68.9,23.8,85.9,130.0,19.9,238.0,79.05,239.0,53.9,119.8,199.99,16.9,334.89,21.99,37.99,54.9,25.5,149.0,79.0,149.9,139.8,39.99,899.94,49.0,84.9,20.3,14.0,46.9,49.9,69.9,166.99,191.25,422.0,58.9,59.9,59.9,119.9,849.5,45.0,249.99,200.0,18.9,49.9,54.9,69.9,69.0,109.99,187.2,48.9,12.0,64.0,89.99,58.0,19.9,19.99,129.99,59.9,179.0,22.0,680.0,52.64,38.9,74.8,260.0,45.9,250.0,13.98,975.0,149.9,299.8,279.0,89.9,72.9,109.99,59.99,109.9,89.9,394.0,29.0,98.0,109.9,54.49,45.9,209.99,69.0,14.0,149.0,87.85,50.0,229.9,59.9,15.0,33.0,259.9,19.6,365.94,27.9,49.9,179.8,229.0,17.0,308.0,766.9,39.99,59.9,129.49,14.0,43.0,113.0,166.99,113.99,79.9,340.0,29.0,279.0,114.9,79.9,49.0,299.8,59.0,53.99,95.03,69.9,59.9,19.9,69.9,24.9,49.9,45.9,139.99,26.18,29.9,128.0,340.0,89.49,298.0,149.99,99.0,65.9,82.99,30.1,189.9,84.9,69.0,44.99,69.9,80.0,99.0,39.9,467.0,99.9,40.99,18.99,135.0,580.27,79.0,239.6,199.7,119.99,449.0,159.9,72.0,89.9,120.0,169.99,233.35,43.5,119.8,20.3,458.0,113.0,52.9,329.9,65.0,435.0,24.9,119.8,449.99,24.9,159.0,399.99,119.8,59.9,40.5,159.99,49.9,109.9,29.0,645.0,199.99,59.9,109.0,53.99,35.0,74.9,69.9,186.98,59.99,49.99,58.9,37.2,19.99,125.9,1352.0,67.9,199.98,45.9,109.9,47.9,1999.9,63.33,249.0,28.18,248.99,109.0,50.0,56.99,139.94,2999.89,339.99,225.15,119.99,69.9,72.62,29.9,149.9,144.99,277.0,117.0,49.0,58.0,199.0,60.99,21.8,180.0,48.9,89.0,18.99,99.99,59.9,50.0,50.0,47.99,37.99,18.0,83.9,109.9,129.9,225.91,54.9,124.9,89.0,109.9,45.9,34.2,49.9,59.9,241.1,44.0,38.3,105.9,149.99,79.0,54.99,49.9,56.99,109.89,59.9,89.0,159.99,84.9,148.0,107.9,98.99,49.9,12.5,49.0,49.9,89.18,44.99,44.95,49.95,28.99,47.9,24.97,129.0,12.9,77.68,86.4,28.99,100.0,111.66,49.9,79.99,39.9,17.9,79.8,29.0,84.9,79.9,45.0,79.8,49.9,52.9,269.0,148.9,199.9,169.9,22.9,236.9,97.0,199.7,174.0,99.0,38.0,58.2,179.91,99.9,75.0,109.0,299.9,84.9,66.99,58.99,59.9,59.9,45.9,113.0,219.9,49.9,90.0,99.9,109.99,79.9,58.67,79.08,16.9,59.99,99.8,379.0,13.99,89.9,159.9,156.0,49.9,49.0,46.56,120.0,129.99,189.9,229.99,27.3,139.0,29.0,169.99,143.8,79.9,119.8,69.9,65.98,59.9,56.99,56.7,179.99,255.0,447.0,89.7,199.0,219.9,29.0,210.0,189.9,64.99,130.0,519.99,144.99,19.6,192.99,39.99,219.0,129.0,179.99,169.9,59.9,108.99,59.9,89.0,40.0,99.0,104.0,55.65,49.9,49.0,48.9,43.9,99.8,59.9,109.9,229.04,57.6,109.0,148.0,109.9,29.5,79.99,85.0,160.55,85.8,67.0,179.0,72.9,59.33,29.9,190.0,53.9,105.9,1098.0,21.9,52.9,99.0,69.9,29.45,24.9,119.84,69.9,48.9,89.99,26.9,30.5,149.9,69.0,219.99,22.85,18.99,29.8,49.0,120.0,76.9,399.9,899.0,35.06,47.9,59.9,129.9,18.99,39.9,250.0,341.9,19.9,150.0,165.0,129.9,319.9,29.9,99.0,26.0,99.9,51.99,99.9,49.0,79.0,199.9,69.0,84.26,36.75,1098.0,34.9,59.8,360.0,34.9,91.0,99.8,59.9,166.99,13.98,129.2,225.0,149.87,13.98,98.0,15.9,45.0,89.99,155.55,17.99,127.9,32.97,599.64,59.9,12.26,129.0,81.25,21.65,210.9,27.3,69.9,64.9,120.0,164.9,97.49,24.9,23.48,219.99,175.8,81.9,99.9,149.9,39.8,67.7,264.99,120.0,259.98,59.9,70.0,248.0,56.99,14.46,32.0,29.9,39.99,119.99,93.5,119.8,83.97,56.99,69.9,127.0,49.99,119.9,31.9,25.99,49.0,64.9,59.0,37.9,58.9,39.49,38.9,109.4,117.7,112.0,119.4,129.9,78.9,249.9,50.0,129.0,34.9,99.8,39.9,143.0,599.8,139.99,60.0,45.33,71.98,84.99,11.99,329.9,23.99,74.6,116.99,537.99,46.9,69.9,59.9,147.9,144.41,19.9,9.56,199.0,23.99,57.9,127.9,89.99,67.9,49.9,37.9,209.99,209.99,99.0,10.99,19.9,52.39,69.9,89.0,44.35,59.99,55.8,24.9,109.0,49.9,99.9,15.9,59.0,116.6,90.0,99.9,64.9,29.9,118.9,52.9,499.9,20.9,24.5,146.99,59.9,240.99,158.0,99.99,64.02,599.9,34.9,99.99,56.99,49.9,246.62,887.0,130.0,46.9,69.9,22.9,65.0,46.6,29.9,75.0,189.99,22.9,83.36,17.99,39.9,59.9,145.9,45.0,54.9,389.0,159.98,29.5,46.99,109.98,109.0,149.99,72.0,630.0,132.9,59.0,89.9,137.7,55.9,54.9,13.9,669.99,24.9,27.55,89.9,35.99,79.0,39.9,54.99,51.9,19.9,29.0,52.11,19.99,109.7,34.99,238.9,19.9,29.9,109.9,59.9,65.99,79.95,98.0,34.9,69.9,59.99,119.8,29.9,629.9,59.99,54.9,124.99,52.64,25.99,59.9,32.99,98.0,106.99,89.99,99.8,349.99,12.9,146.92,23.99,49.9,49.0,59.9,89.0,59.9,347.91,189.5,155.5,59.9,208.0,59.9,99.99,49.0,114.9,99.9,422.0,29.0,58.9,133.0,493.9,49.0,219.98,84.99,65.0,30.7,35.99,49.99,139.0,198.0,159.0,32.99,35.99,58.99,41.65,45.0,49.9,29.9,69.0,378.8,29.9,146.0,339.8,215.9,46.99,56.99,194.99,49.9,45.98,59.7,97.8,89.99,56.0,129.99,435.0,179.0,106.94,19.99,179.9,79.99,73.35,19.9,230.98,74.5,54.99,219.0,169.9,159.0,99.99,119.9,19.9,19.9,503.34,78.99,126.69,119.9,49.0,115.0,148.9,97.0,29.9,64.9,270.0,29.9,109.9,161.7,99.0,143.8,19.9,22.7,49.0,58.99,49.9,29.9,86.99,479.94,127.8,146.99,145.0,189.99,169.76,79.0,49.9,319.98,19.99,129.9,94.99,53.9,999.99,139.99,239.9,326.16,39.9,97.5,27.9,16.5,95.0,18.99,229.98,65.0,49.99,62.99,56.99,21.99,101.7,99.0,149.94,88.9,299.0,104.9,59.9,54.6,75.9,598.5,89.9,169.9,175.91,144.0,89.9,99.9,259.9,25.5,66.9,92.0,305.28,149.9,17.0,129.99,189.48,180.0,68.99,329.9,59.99,67.9,205.0,89.9,34.9,48.9,109.99,315.0,229.99,49.0,45.0,44.9,89.9,38.9,95.0,29.5,128.0,52.64,124.9,195.9,63.98,23.8,155.0,74.99,51.9,49.0,89.9,19.99,18.9,102.9,49.9,62.7,104.0,68.9,88.95,29.9,50.0,233.98,28.6,182.0,24.6,119.9,69.9,56.99,34.9,19.9,27.9,549.9,79.9,574.9,89.9,69.9,259.0,20.89,69.0,54.9,85.9,49.9,99.0,249.9,115.2,139.0,109.9,35.0,59.99,229.9,199.99,434.99,219.9,84.0,204.0,535.0,503.34,84.99,79.9,114.94,89.9,136.99,98.0,200.0,119.97,129.0,49.0,49.99,89.9,94.9,104.9,27.9,23.8,79.99,25.0,98.0,38.0,155.0,61.8,62.9,54.9,29.45,279.99,169.9,34.99,59.9,153.0,153.0,74.7,56.99,43.0,199.0,149.0,69.99,45.98,138.0,23.5,13.99,89.7,26.0,224.0,85.0,116.9,143.99,182.0,127.42,56.99,67.7,143.54,29.9,21.99,89.9,130.0,129.9,899.95,29.9,54.99,88.34,70.0,20.9,89.18,109.8,49.95,118.0,194.99,42.0,117.3,35.9,175.0,35.9,250.0,89.9,179.7,270.0,187.0,110.0,109.9,157.0,119.99,299.99,89.99,47.99,10.99,174.9,119.99,72.0,238.0,115.0,16.6,39.9,69.0,26.0,16.9,112.33,37.5,18.98,25.98,157.9,265.0,39.99,94.99,37.9,59.9,109.9,645.0,135.8,41.5,164.98,30.0,149.9,74.8,49.0,54.99,74.5,44.99,13.98,120.0,66.49,89.8,144.9,105.6,146.99,205.0,19.9,49.9,349.99,127.0,59.99,238.9,46.99,56.99,128.8,79.9,289.9,159.9,169.9,59.9,135.0,47.99,49.0,92.34,144.99,74.9,59.99,31.9,239.0,129.0,117.0,109.9,29.9,80.0,99.0,89.0,315.0,399.0,35.9,19.9,84.99,19.9,49.99,59.9,16.8,45.0,87.0,578.0,99.9,599.0,20.3,59.99,265.9,1098.0,179.9,87.0,34.45,15.99,1219.0,59.9,47.99,69.9,59.9,66.29,75.78,114.9,220.89,17.99,295.0,126.99,969.99,39.99,36.0,194.0,146.99,48.9,26.5,44.35,52.64,349.99,95.0,129.0,89.99,20.0,189.9,92.9,68.9,118.0,39.0,99.0,229.99,59.9,52.9,94.5,253.6,41.0,159.99,74.9,89.9,70.0,52.64,199.0,19.9,299.0,241.1,54.9,219.99,133.6,19.9,99.99,79.9,799.0,2281.8,23.99,79.99,522.5,29.9,22.9,44.0,69.9,49.0,90.0,84.5,19.9,39.6,259.9,32.9,145.35,32.0,29.9,205.0,79.0,79.99,42.99,299.0,49.9,103.97,220.0,24.9,99.9,115.0,86.9,69.9,67.5,59.9,329.9,84.99,33.0,57.11,99.99,129.0,106.0,33.0,25.99,105.9,163.99,49.9,110.0,29.99,129.0,19.99,897.0,29.99,49.0,98.0,79.99,349.9,45.9,999.99,99.0,279.0,110.0,23.4,86.99,129.9,180.0,45.0,259.0,45.9,99.99,119.99,31.0,550.0,289.8,98.9,67.9,70.97,99.0,24.9,1050.0,139.9,39.0,25.0,49.0,179.99,94.5,51.99,28.4,159.0,229.99,62.9,18.99,144.99,84.26,119.9,589.0,99.8,245.9,67.9,96.0,9.99,69.0,279.0,69.9,59.9,56.99,59.99,64.0,23.99,143.54,149.7,54.0,60.0,140.9,38.8,239.99,89.58,110.0,179.9,94.9,69.9,51.92,67.9,59.55,269.9,49.0,89.9,35.5,205.0,59.9,7.0,119.9,114.99,465.98,99.9,49.89,14.9,113.9,49.95,20.3,184.9,35.39,62.9,146.99,34.3,96.0,149.9,189.48,42.9,79.7,79.99,35.0,349.9,55.9,49.95,136.9,93.24,139.9,98.0,59.9,69.0,25.0,56.99,22.9,129.9,249.99,13.99,64.89,29.0,32.9,52.64,59.9,16.9,119.99,19.9,21.99,89.9,48.0,49.9,49.9,84.0,99.9,99.9,349.9,79.0,132.5,99.99,236.97,269.99,116.6,79.9,24.5,117.99,53.99,49.89,13.99,52.99,17.0,49.9,113.0,89.9,47.99,238.1,104.0,25.6,89.9,58.99,169.9,450.0,78.0,199.99,13.99,75.99,309.82,19.99,49.9,27.0,38.4,127.9,89.9,24.9,49.5,59.9,49.98,70.0,19.9,49.9,24.5,93.33,49.0,135.82,85.0,125.0,72.9,275.9,39.9,54.99,166.89,23.48,1299.9,815.0,45.9,57.9,65.0,98.9,65.0,259.0,220.0,11.63,269.99,169.0,84.9,34.9,49.99,179.7,56.99,99.0,56.99,109.9,78.0,72.0,99.9,48.9,159.0,54.99,59.9,156.0,16.9,19.9,181.42,109.9,999.9,89.9,56.99,49.0,84.99,159.94,27.53,109.9,19.9,149.9,31.98,89.0,71.98,699.0,148.9,69.0,179.8,149.0,425.0,89.9,69.99,998.0,45.95,85.0,79.9,89.0,139.9,129.9,108.99,99.9,25.9,32.9,24.9,31.9,23.9,74.9,128.56,49.9,107.0,252.43,39.9,109.9,95.0,13.99,30.8,299.9,99.99,599.6,89.9,189.9,19.9,89.9,59.8,56.97,67.9,157.98,18.9,259.9,33.6,119.99,83.36,55.0,36.9,45.95,41.3,436.6,59.9,114.9,220.0,269.0,69.9,247.6,34.0,25.98,194.9,139.9,79.0,23.99,129.0,59.99,22.68,106.99,195.12,799.99,39.99,49.9,153.96,75.0,99.9,113.0,49.9,59.99,34.0,113.0,107.99,98.0,2999.0,447.99,36.9,699.0,140.0,89.99,79.9,99.99,135.0,69.9,22.0,56.99,49.0,134.55,119.0,149.0,59.99,49.0,49.9,49.0,29.99,89.99,329.0,99.5,62.8,24.62,54.9,59.99,16.9,89.9,158.0,292.5,115.0,59.99,56.97,89.0,129.99,84.99,89.9,69.9,29.0,205.0,20.0,67.9,287.8,34.9,38.0,75.02,134.9,365.94,9.32,70.0,99.9,179.99,40.0,89.9,59.8,54.9,369.9,79.0,339.9,39.5,159.99,78.9,154.99,42.9,150.0,129.99,50.0,209.9,93.0,89.9,21.5,128.99,220.0,12.67,369.0,139.9,74.9,149.9,149.0,29.8,59.9,299.0,117.9,339.0,200.0,95.0,108.5,898.0,41.31,97.75,216.0,45.0,79.99,150.0,24.97,34.9,189.9,66.0,44.99,503.34,144.99,145.8,19.9,136.5,35.0,55.0,364.99,349.99,240.0,12.9,69.9,51.96,15.9,112.0,97.75,249.0,95.03,158.0,139.9,125.02,149.9,69.9,29.0,115.0,40.0,13.9,199.99,243.0,18.99,69.9,11.99,44.95,36.8,45.95,84.0,39.9,189.0,19.9,5.9,29.99,289.9,20.9,199.9,49.9,61.0,89.0,66.89,199.7,159.9,250.0,47.0,115.0,29.9,54.9,205.0,204.9,49.0,79.99,235.6,79.99,537.99,52.0,139.9,129.0,56.99,99.9,39.99,194.99,54.99,31.9,69.8,259.9,338.5,869.0,41.99,29.9,640.0,55.0,49.9,79.0,129.99,1999.99,56.99,24.0,22.9,69.9,34.99,2799.0,19.99,339.0,71.28,135.49,29.75,102.0,97.79,104.0,79.99,129.9,84.9,1200.0,35.9,55.0,88.0,99.9,31.9,130.0,24.98,149.9,18.9,18.99,56.99,31.8,119.94,70.9,49.9,89.8,260.0,31.9,24.89,28.69,40.0,60.0,198.99,89.49,22.95,38.97,71.0,99.99,119.8,189.9,56.85,91.8,49.9,159.9,102.0,45.95,439.0,49.99,20.0,29.9,129.99,189.0,389.89,270.0,12.99,98.0,19.9,44.99,167.98,55.0,592.8,29.9,37.9,68.9,126.99,279.0,64.8,49.0,18.0,54.99,180.0,89.9,49.0,34.99,72.9,241.1,651.55,89.9,629.9,19.9,109.89,50.99,24.5,45.9,79.8,46.99,119.9,205.0,169.0,39.9,59.98,49.99,59.7,58.99,299.99,64.9,99.0,49.9,89.99,89.9,454.0,50.9,69.9,29.0,21.9,113.8,96.0,44.32,35.0,80.0,89.7,19.83,89.99,149.7,27.98,686.21,389.9,22.0,99.98,24.9,204.0,119.98,76.99,169.0,610.0,89.9,119.1,259.0,245.9,196.99,19.0,55.8,24.9,139.98,69.9,412.0,25.99,226.95,27.9,49.0,54.99,99.0,59.9,109.0,175.9,35.0,180.0,29.99,68.9,159.0,325.0,59.9,149.99,49.9,129.99,38.9,68.0,139.9,105.0,361.99,35.9,59.9,24.9,109.9,17.99,95.0,98.0,49.0,15.0,99.49,270.0,358.0,45.0,99.8,597.9,74.8,19.9,39.99,79.99,29.0,139.0,139.9,92.99,49.0,129.8,129.0,1599.0,295.92,49.9,79.9,69.9,144.94,278.77,349.0,39.9,20.9,69.9,13.99,210.0,99.99,79.9,105.0,79.99,169.99,19.98,69.9,119.9,14.99,69.9,173.8,24.9,46.98,91.9,44.0,158.0,99.9,20.9,133.6,155.0,19.49,229.99,134.9,56.99,74.9,174.9,195.9,159.9,21.49,120.0,60.0,99.0,104.98,49.9,115.0,129.0,56.99,109.9,32.9,51.96,56.99,99.99,210.0,349.99,85.0,89.9,49.9,49.0,49.0,180.0,24.89,39.9,299.9,29.0,59.9,19.9,155.0,39.9,235.0,185.0,149.0,37.9,59.9,3.5,493.0,45.8,84.99,348.8,270.0,72.9,44.9,75.9,215.0,69.0,12.97,548.0,29.9,19.99,129.99,37.99,27.8,99.9,89.0,48.98,27.9,359.8,269.0,89.9,89.9,109.9,179.8,49.95,59.99,49.99,89.9,294.99,88.9,21.99,69.9,37.98,53.9,149.9,29.99,109.9,69.0,79.0,129.9,30.0,69.0,829.0,146.0,42.9,84.99,105.6,494.99,86.9,143.8,69.9,249.0,79.0,89.9,359.8,59.99,9.9,378.0,199.9,80.0,59.0,210.0,89.49,59.9,109.0,99.9,59.99,29.9,28.0,329.9,79.9,119.99,99.9,339.9,150.0,205.0,29.9,54.9,81.25,25.98,55.0,168.9,67.9,79.9,118.9,207.0,78.45,109.9,129.0,139.9,16.9,59.9,599.0,49.0,44.9,369.0,19.99,359.2,23.48,37.99,74.9,127.5,19.9,198.0,74.8,139.9,159.8,19.99,149.9,139.9,74.9,69.9,49.99,50.9,118.5,99.0,29.9,612.91,72.9,39.99,107.0,90.9,14.99,21.65,499.0,58.99,34.9,19.9,69.9,54.99,75.9,300.0,149.9,139.0,151.2,45.0,95.0,59.0,179.99,50.9,19.9,49.0,147.5,29.99,299.0,105.9,50.0,45.5,129.34,75.0,160.2,578.9,25.0,144.41,248.99,149.9,64.9,299.0,50.0,21.99,89.9,229.99,155.94,267.0,89.9,144.9,189.0,99.89,12.97,180.0,139.9,29.9,28.9,12.0,149.0,270.0,75.9,19.9,29.99,78.25,119.4,29.9,74.25,74.8,89.0,409.9,16.9,415.0,64.0,99.9,499.9,35.0,120.9,146.0,349.99,92.0,34.4,250.0,59.55,72.9,139.8,195.0,25.0,349.9,124.99,24.9,170.5,184.99,29.9,56.99,159.0,93.8,179.9,189.15,130.0,34.99,59.9,79.0,168.0,799.9,129.99,49.9,179.0,164.9,196.99,189.0,46.86,225.98,59.9,169.0,53.49,549.9,105.0,54.9,199.0,109.9,28.82,19.9,40.0,176.9,169.9,130.0,38.0,254.9,39.0,89.9,119.0,86.9,119.94,49.9,79.0,424.0,230.0,120.0,24.5,249.9,59.9,43.9,89.9,37.0,783.6,99.9,237.16,79.0,147.9,67.9,129.9,6.9,458.0,278.7,40.0,89.99,25.9,239.99,69.9,150.0,107.6,139.9,129.99,74.9,103.83,199.9,49.0,75.0,90.3,19.9,180.0,180.0,119.8,198.0,39.99,45.0,138.0,669.99,18.9,339.99,149.9,31.9,220.99,69.9,59.98,199.9,48.0,64.99,25.0,49.9,148.9,129.96,151.9,42.9,29.9,19.9,203.99,74.9,89.9,174.9,89.9,129.9,109.66,25.9,684.9,4850.0,74.9,16.99,168.05,53.9,19.9,49.0,319.9,88.9,67.91,89.0,64.99,50.9,89.9,49.5,143.8,13.99,250.0,35.99,99.0,279.9,179.99,47.99,156.99,72.4,75.0,59.9,59.9,72.99,19.74,169.9,35.9,619.0,240.0,35.4,29.9,169.0,99.99,38.99,174.0,139.9,71.9,49.9,29.9,12.9,69.9,39.99,59.9,16.9,13.9,17.99,199.0,39.49,129.99,210.99,89.99,79.9,59.9,1340.0,19.9,49.9,32.99,130.0,208.9,282.0,50.9,189.99,129.98,157.0,229.99,399.9,22.0,28.9,179.9,69.0,272.9,26.0,139.9,19.99,129.0,84.99,129.99,22.5,59.0,86.9,399.0,31.9,599.99,177.99,29.9,16.9,109.99,135.0,36.9,19.0,89.99,18.99,148.9,49.9,24.9,65.0,799.99,319.9,69.9,154.9,49.9,15.55,99.99,55.0,72.9,34.9,69.9,69.9,28.98,57.0,39.9,431.1,159.0,40.0,72.9,59.99,29.9,89.0,139.99,79.99,422.0,34.49,119.8,68.9,99.99,64.9,34.9,90.0,89.9,199.9,49.0,239.99,27.99,126.0,279.8,69.99,49.0,89.7,69.0,49.0,169.99,49.9,27.9,60.0,19.9,59.9,110.25,589.0,149.9,84.9,50.0,15.99,76.89,166.99,129.99,99.9,159.9,219.99,89.7,327.49,13.99,26.99,21.99,129.99,152.9,999.8,75.0,117.3,49.0,69.9,53.9,45.0,149.9,163.0,29.9,58.99,44.9,74.99,199.9,76.8,229.99,16.99,154.0,299.99,32.9,388.0,79.8,49.99,59.9,61.9,219.9,34.9,74.9,49.0,109.9,49.0,40.0,269.0,79.0,35.9,32.99,219.94,139.99,129.0,16.9,89.9,150.0,48.0,49.9,229.99,38.9,142.5,129.94,224.7,79.9,39.9,34.9,277.0,99.0,47.9,105.0,79.9,23.8,169.9,49.0,190.0,269.0,49.7,249.9,139.9,49.9,399.0,44.9,279.8,399.99,229.0,33.9,89.99,179.9,59.99,149.7,34.9,205.0,39.9,521.89,43.6,45.0,46.9,609.99,219.99,99.9,249.9,314.97,59.0,34.99,59.1,53.99,199.0,499.9,199.9,23.48,99.9,89.98,55.0,127.0,199.99,29.99,219.99,56.99,89.0,49.9,59.9,69.9,319.96,35.0,16.9,69.99,126.9,114.0,59.0,64.9,19.9,325.0,45.0,149.9,138.0,149.87,89.9,55.9,99.99,422.0,199.9,139.8,159.9,140.9,11.99,79.99,59.99,29.9,64.9,299.9,2690.0,75.99,216.76,325.0,119.9,144.99,129.34,99.8,49.9,45.49,48.9,140.0,139.0,79.8,18.8,89.9,29.0,139.9,77.68,425.0,599.0,129.0,166.99,29.9,51.92,131.9,109.9,155.44,35.0,70.9,195.5,119.8,273.0,39.9,109.9,58.5,79.98,179.8,12.9,132.76,74.0,18.9,69.9,76.8,139.0,202.47,94.9,35.99,22.99,119.98,1050.0,89.18,41.58,399.0,99.0,84.99,43.5,109.0,230.0,85.0,180.0,38.0,59.9,349.9,26.0,95.0,679.99,310.99,42.99,179.7,22.9,179.98,57.4,29.45,29.9,93.98,59.49,59.0,49.9,88.0,7.0,119.9,59.99,17.33,34.99,1340.0,221.5,138.0,40.0,318.0,299.99,71.97,33.8,78.9,58.99,55.0,229.8,49.9,16.17,1340.0,99.9,34.9,134.9,134.7,329.99,29.9,129.9,75.99,49.9,34.9,19.9,14.9,199.9,39.99,49.0,59.0,13.98,22.9,165.0,25.9,59.0,168.0,139.99,149.99,83.48,89.9,38.97,142.27,139.99,58.8,44.99,143.0,270.0,59.9,79.9,109.9,56.99,19.9,105.0,18.9,112.9,49.0,65.0,257.6,49.9,119.0,52.0,269.99,31.9,129.99,39.9,160.0,45.9,79.0,48.0,23.9,28.69,62.4,129.6,49.9,24.9,74.9,39.99,38.5,13.99,45.9,59.99,59.9,199.0,169.0,208.0,39.0,85.0,12.5,269.0,179.7,17.89,100.0,49.9,79.0,75.78,49.0,69.99,31.9,189.99,72.9,45.0,92.9,80.0,99.9,24.87,700.0,69.9,89.97,80.0,69.9,227.9,29.0,94.0,41.9,44.99,27.99,229.0,93.49,99.9,159.0,34.99,217.98,149.0,28.99,20.0,53.9,51.9,550.0,299.9,89.9,46.2,49.9,359.82,219.9,241.1,234.9,12.99,49.99,39.9,18.99,199.9,98.9,40.0,179.8,44.66,140.0,54.9,99.0,26.0,34.9,89.9,59.9,69.0,312.84,319.0,99.0,65.9,31.9,32.99,45.9,2690.0,59.99,94.0,32.0,29.9,69.9,27.9,63.9,13.99,32.9,39.9,189.0,99.99,79.9,99.99,97.0,33.49,44.9,259.99,49.9,49.0,72.0,199.89,57.99,49.99,35.9,169.9,38.99,99.98,79.9,209.99,32.5,50.0,129.9,44.9,233.98,49.9,69.9,120.0,129.0,19.9,249.99,209.0,127.9,49.0,130.0,19.9,153.6,19.99,150.0,120.9,30.0,13.99,59.9,26.99,15.92,19.99,119.9,74.9,998.9,204.0,56.99,299.0,24.9,76.99,39.9,129.99,21.0,98.72,239.9,89.0,199.98,159.9,58.9,129.99,105.0,99.9,109.9,50.0,89.7,149.9,143.8,115.0,96.9,149.9,89.9,149.9,84.9,18.99,15.9,142.0,39.9,131.35,99.0,27.9,89.9,159.0,279.9,109.9,49.0,134.9,229.0,13.0,84.99,139.99,139.76,84.9,69.9,98.99,89.3,399.99,89.0,59.0,399.98,15.9,161.7,139.99,45.0,220.0,1300.0,760.0,29.95,58.9,56.99,449.5,44.99,1004.99,47.9,199.0,239.9,13.98,71.8,99.7,89.9,58.67,300.0,65.0,39.99,50.0,36.26,149.0,24.5,19.9,58.99,49.9,278.99,188.0,37.5,100.0,53.7,34.99,119.9,12.9,229.0,219.0,659.0,119.8,84.9,783.14,28.72,179.9,112.0,109.9,59.0,72.9,49.9,99.99,219.99,191.4,59.0,35.0,34.45,103.94,44.9,99.0,14.99,39.4,114.9,99.9,59.9,56.99,52.0,67.12,52.99,50.9,48.0,99.0,56.97,109.4,179.0,24.99,79.9,145.95,70.0,166.89,41.9,204.9,19.9,79.9,35.9,158.0,129.9,49.9,235.0,20.0,89.99,439.0,49.0,74.25,39.4,69.9,4.52,59.99,134.9,70.74,24.9,189.99,219.9,32.9,29.99,84.9,239.9,27.9,32.99,149.0,29.9,67.9,94.0,319.0,58.9,406.99,61.5,75.0,117.0,169.9,69.9,49.95,109.0,49.0,99.99,46.9,94.98,136.8,109.9,230.0,119.9,43.5,49.0,139.9,60.0,199.0,238.9,299.0,99.8,29.0,52.99,99.9,89.99,254.0,19.99,159.0,99.49,79.9,276.0,104.0,149.99,36.0,249.9,899.0,19.9,159.94,35.9,298.0,35.0,69.99,39.9,795.0,72.9,38.0],\"type\":\"scatter\"}],                        {\"template\":{\"data\":{\"barpolar\":[{\"marker\":{\"line\":{\"color\":\"#E5ECF6\",\"width\":0.5},\"pattern\":{\"fillmode\":\"overlay\",\"size\":10,\"solidity\":0.2}},\"type\":\"barpolar\"}],\"bar\":[{\"error_x\":{\"color\":\"#2a3f5f\"},\"error_y\":{\"color\":\"#2a3f5f\"},\"marker\":{\"line\":{\"color\":\"#E5ECF6\",\"width\":0.5},\"pattern\":{\"fillmode\":\"overlay\",\"size\":10,\"solidity\":0.2}},\"type\":\"bar\"}],\"carpet\":[{\"aaxis\":{\"endlinecolor\":\"#2a3f5f\",\"gridcolor\":\"white\",\"linecolor\":\"white\",\"minorgridcolor\":\"white\",\"startlinecolor\":\"#2a3f5f\"},\"baxis\":{\"endlinecolor\":\"#2a3f5f\",\"gridcolor\":\"white\",\"linecolor\":\"white\",\"minorgridcolor\":\"white\",\"startlinecolor\":\"#2a3f5f\"},\"type\":\"carpet\"}],\"choropleth\":[{\"colorbar\":{\"outlinewidth\":0,\"ticks\":\"\"},\"type\":\"choropleth\"}],\"contourcarpet\":[{\"colorbar\":{\"outlinewidth\":0,\"ticks\":\"\"},\"type\":\"contourcarpet\"}],\"contour\":[{\"colorbar\":{\"outlinewidth\":0,\"ticks\":\"\"},\"colorscale\":[[0.0,\"#0d0887\"],[0.1111111111111111,\"#46039f\"],[0.2222222222222222,\"#7201a8\"],[0.3333333333333333,\"#9c179e\"],[0.4444444444444444,\"#bd3786\"],[0.5555555555555556,\"#d8576b\"],[0.6666666666666666,\"#ed7953\"],[0.7777777777777778,\"#fb9f3a\"],[0.8888888888888888,\"#fdca26\"],[1.0,\"#f0f921\"]],\"type\":\"contour\"}],\"heatmapgl\":[{\"colorbar\":{\"outlinewidth\":0,\"ticks\":\"\"},\"colorscale\":[[0.0,\"#0d0887\"],[0.1111111111111111,\"#46039f\"],[0.2222222222222222,\"#7201a8\"],[0.3333333333333333,\"#9c179e\"],[0.4444444444444444,\"#bd3786\"],[0.5555555555555556,\"#d8576b\"],[0.6666666666666666,\"#ed7953\"],[0.7777777777777778,\"#fb9f3a\"],[0.8888888888888888,\"#fdca26\"],[1.0,\"#f0f921\"]],\"type\":\"heatmapgl\"}],\"heatmap\":[{\"colorbar\":{\"outlinewidth\":0,\"ticks\":\"\"},\"colorscale\":[[0.0,\"#0d0887\"],[0.1111111111111111,\"#46039f\"],[0.2222222222222222,\"#7201a8\"],[0.3333333333333333,\"#9c179e\"],[0.4444444444444444,\"#bd3786\"],[0.5555555555555556,\"#d8576b\"],[0.6666666666666666,\"#ed7953\"],[0.7777777777777778,\"#fb9f3a\"],[0.8888888888888888,\"#fdca26\"],[1.0,\"#f0f921\"]],\"type\":\"heatmap\"}],\"histogram2dcontour\":[{\"colorbar\":{\"outlinewidth\":0,\"ticks\":\"\"},\"colorscale\":[[0.0,\"#0d0887\"],[0.1111111111111111,\"#46039f\"],[0.2222222222222222,\"#7201a8\"],[0.3333333333333333,\"#9c179e\"],[0.4444444444444444,\"#bd3786\"],[0.5555555555555556,\"#d8576b\"],[0.6666666666666666,\"#ed7953\"],[0.7777777777777778,\"#fb9f3a\"],[0.8888888888888888,\"#fdca26\"],[1.0,\"#f0f921\"]],\"type\":\"histogram2dcontour\"}],\"histogram2d\":[{\"colorbar\":{\"outlinewidth\":0,\"ticks\":\"\"},\"colorscale\":[[0.0,\"#0d0887\"],[0.1111111111111111,\"#46039f\"],[0.2222222222222222,\"#7201a8\"],[0.3333333333333333,\"#9c179e\"],[0.4444444444444444,\"#bd3786\"],[0.5555555555555556,\"#d8576b\"],[0.6666666666666666,\"#ed7953\"],[0.7777777777777778,\"#fb9f3a\"],[0.8888888888888888,\"#fdca26\"],[1.0,\"#f0f921\"]],\"type\":\"histogram2d\"}],\"histogram\":[{\"marker\":{\"pattern\":{\"fillmode\":\"overlay\",\"size\":10,\"solidity\":0.2}},\"type\":\"histogram\"}],\"mesh3d\":[{\"colorbar\":{\"outlinewidth\":0,\"ticks\":\"\"},\"type\":\"mesh3d\"}],\"parcoords\":[{\"line\":{\"colorbar\":{\"outlinewidth\":0,\"ticks\":\"\"}},\"type\":\"parcoords\"}],\"pie\":[{\"automargin\":true,\"type\":\"pie\"}],\"scatter3d\":[{\"line\":{\"colorbar\":{\"outlinewidth\":0,\"ticks\":\"\"}},\"marker\":{\"colorbar\":{\"outlinewidth\":0,\"ticks\":\"\"}},\"type\":\"scatter3d\"}],\"scattercarpet\":[{\"marker\":{\"colorbar\":{\"outlinewidth\":0,\"ticks\":\"\"}},\"type\":\"scattercarpet\"}],\"scattergeo\":[{\"marker\":{\"colorbar\":{\"outlinewidth\":0,\"ticks\":\"\"}},\"type\":\"scattergeo\"}],\"scattergl\":[{\"marker\":{\"colorbar\":{\"outlinewidth\":0,\"ticks\":\"\"}},\"type\":\"scattergl\"}],\"scattermapbox\":[{\"marker\":{\"colorbar\":{\"outlinewidth\":0,\"ticks\":\"\"}},\"type\":\"scattermapbox\"}],\"scatterpolargl\":[{\"marker\":{\"colorbar\":{\"outlinewidth\":0,\"ticks\":\"\"}},\"type\":\"scatterpolargl\"}],\"scatterpolar\":[{\"marker\":{\"colorbar\":{\"outlinewidth\":0,\"ticks\":\"\"}},\"type\":\"scatterpolar\"}],\"scatter\":[{\"fillpattern\":{\"fillmode\":\"overlay\",\"size\":10,\"solidity\":0.2},\"type\":\"scatter\"}],\"scatterternary\":[{\"marker\":{\"colorbar\":{\"outlinewidth\":0,\"ticks\":\"\"}},\"type\":\"scatterternary\"}],\"surface\":[{\"colorbar\":{\"outlinewidth\":0,\"ticks\":\"\"},\"colorscale\":[[0.0,\"#0d0887\"],[0.1111111111111111,\"#46039f\"],[0.2222222222222222,\"#7201a8\"],[0.3333333333333333,\"#9c179e\"],[0.4444444444444444,\"#bd3786\"],[0.5555555555555556,\"#d8576b\"],[0.6666666666666666,\"#ed7953\"],[0.7777777777777778,\"#fb9f3a\"],[0.8888888888888888,\"#fdca26\"],[1.0,\"#f0f921\"]],\"type\":\"surface\"}],\"table\":[{\"cells\":{\"fill\":{\"color\":\"#EBF0F8\"},\"line\":{\"color\":\"white\"}},\"header\":{\"fill\":{\"color\":\"#C8D4E3\"},\"line\":{\"color\":\"white\"}},\"type\":\"table\"}]},\"layout\":{\"annotationdefaults\":{\"arrowcolor\":\"#2a3f5f\",\"arrowhead\":0,\"arrowwidth\":1},\"autotypenumbers\":\"strict\",\"coloraxis\":{\"colorbar\":{\"outlinewidth\":0,\"ticks\":\"\"}},\"colorscale\":{\"diverging\":[[0,\"#8e0152\"],[0.1,\"#c51b7d\"],[0.2,\"#de77ae\"],[0.3,\"#f1b6da\"],[0.4,\"#fde0ef\"],[0.5,\"#f7f7f7\"],[0.6,\"#e6f5d0\"],[0.7,\"#b8e186\"],[0.8,\"#7fbc41\"],[0.9,\"#4d9221\"],[1,\"#276419\"]],\"sequential\":[[0.0,\"#0d0887\"],[0.1111111111111111,\"#46039f\"],[0.2222222222222222,\"#7201a8\"],[0.3333333333333333,\"#9c179e\"],[0.4444444444444444,\"#bd3786\"],[0.5555555555555556,\"#d8576b\"],[0.6666666666666666,\"#ed7953\"],[0.7777777777777778,\"#fb9f3a\"],[0.8888888888888888,\"#fdca26\"],[1.0,\"#f0f921\"]],\"sequentialminus\":[[0.0,\"#0d0887\"],[0.1111111111111111,\"#46039f\"],[0.2222222222222222,\"#7201a8\"],[0.3333333333333333,\"#9c179e\"],[0.4444444444444444,\"#bd3786\"],[0.5555555555555556,\"#d8576b\"],[0.6666666666666666,\"#ed7953\"],[0.7777777777777778,\"#fb9f3a\"],[0.8888888888888888,\"#fdca26\"],[1.0,\"#f0f921\"]]},\"colorway\":[\"#636efa\",\"#EF553B\",\"#00cc96\",\"#ab63fa\",\"#FFA15A\",\"#19d3f3\",\"#FF6692\",\"#B6E880\",\"#FF97FF\",\"#FECB52\"],\"font\":{\"color\":\"#2a3f5f\"},\"geo\":{\"bgcolor\":\"white\",\"lakecolor\":\"white\",\"landcolor\":\"#E5ECF6\",\"showlakes\":true,\"showland\":true,\"subunitcolor\":\"white\"},\"hoverlabel\":{\"align\":\"left\"},\"hovermode\":\"closest\",\"mapbox\":{\"style\":\"light\"},\"paper_bgcolor\":\"white\",\"plot_bgcolor\":\"#E5ECF6\",\"polar\":{\"angularaxis\":{\"gridcolor\":\"white\",\"linecolor\":\"white\",\"ticks\":\"\"},\"bgcolor\":\"#E5ECF6\",\"radialaxis\":{\"gridcolor\":\"white\",\"linecolor\":\"white\",\"ticks\":\"\"}},\"scene\":{\"xaxis\":{\"backgroundcolor\":\"#E5ECF6\",\"gridcolor\":\"white\",\"gridwidth\":2,\"linecolor\":\"white\",\"showbackground\":true,\"ticks\":\"\",\"zerolinecolor\":\"white\"},\"yaxis\":{\"backgroundcolor\":\"#E5ECF6\",\"gridcolor\":\"white\",\"gridwidth\":2,\"linecolor\":\"white\",\"showbackground\":true,\"ticks\":\"\",\"zerolinecolor\":\"white\"},\"zaxis\":{\"backgroundcolor\":\"#E5ECF6\",\"gridcolor\":\"white\",\"gridwidth\":2,\"linecolor\":\"white\",\"showbackground\":true,\"ticks\":\"\",\"zerolinecolor\":\"white\"}},\"shapedefaults\":{\"line\":{\"color\":\"#2a3f5f\"}},\"ternary\":{\"aaxis\":{\"gridcolor\":\"white\",\"linecolor\":\"white\",\"ticks\":\"\"},\"baxis\":{\"gridcolor\":\"white\",\"linecolor\":\"white\",\"ticks\":\"\"},\"bgcolor\":\"#E5ECF6\",\"caxis\":{\"gridcolor\":\"white\",\"linecolor\":\"white\",\"ticks\":\"\"}},\"title\":{\"x\":0.05},\"xaxis\":{\"automargin\":true,\"gridcolor\":\"white\",\"linecolor\":\"white\",\"ticks\":\"\",\"title\":{\"standoff\":15},\"zerolinecolor\":\"white\",\"zerolinewidth\":2},\"yaxis\":{\"automargin\":true,\"gridcolor\":\"white\",\"linecolor\":\"white\",\"ticks\":\"\",\"title\":{\"standoff\":15},\"zerolinecolor\":\"white\",\"zerolinewidth\":2}}},\"title\":{\"text\":\"Valor de Frete x Valor do Produto\"},\"xaxis\":{\"tickformat\":\".\",\"tickprefix\":\"R$\",\"title\":{\"text\":\"Valor do Produto\"}},\"yaxis\":{\"tickformat\":\".\",\"tickprefix\":\"R$\",\"title\":{\"text\":\"Valor do Produto\"}}},                        {\"responsive\": true}                    ).then(function(){\n",
              "                            \n",
              "var gd = document.getElementById('677bd20e-1f04-4d05-991a-7704aede814c');\n",
              "var x = new MutationObserver(function (mutations, observer) {{\n",
              "        var display = window.getComputedStyle(gd).display;\n",
              "        if (!display || display === 'none') {{\n",
              "            console.log([gd, 'removed!']);\n",
              "            Plotly.purge(gd);\n",
              "            observer.disconnect();\n",
              "        }}\n",
              "}});\n",
              "\n",
              "// Listen for the removal of the full notebook cells\n",
              "var notebookContainer = gd.closest('#notebook-container');\n",
              "if (notebookContainer) {{\n",
              "    x.observe(notebookContainer, {childList: true});\n",
              "}}\n",
              "\n",
              "// Listen for the clearing of the current output cell\n",
              "var outputEl = gd.closest('.output');\n",
              "if (outputEl) {{\n",
              "    x.observe(outputEl, {childList: true});\n",
              "}}\n",
              "\n",
              "                        })                };                            </script>        </div>\n",
              "</body>\n",
              "</html>"
            ]
          },
          "metadata": {}
        }
      ]
    },
    {
      "cell_type": "code",
      "source": [
        "data = [go.Histogram(x = df.order_items_qty)]"
      ],
      "metadata": {
        "id": "-NQQ547ug_S0"
      },
      "execution_count": 409,
      "outputs": []
    },
    {
      "cell_type": "code",
      "source": [
        "layout = go.Layout(title = \"Quantidade média de itens de um pedido\")"
      ],
      "metadata": {
        "id": "K_LeSN2RtLoC"
      },
      "execution_count": 410,
      "outputs": []
    },
    {
      "cell_type": "code",
      "source": [
        "fig = go.Figure(data = data, layout = layout)"
      ],
      "metadata": {
        "id": "HoppiUf8tU7d"
      },
      "execution_count": 411,
      "outputs": []
    },
    {
      "cell_type": "code",
      "source": [
        "py.iplot(fig)"
      ],
      "metadata": {
        "colab": {
          "base_uri": "https://localhost:8080/",
          "height": 542
        },
        "id": "PV3BeB2Ztaxw",
        "outputId": "f97f4cc2-d940-4858-ecbf-a69e9ea7156f"
      },
      "execution_count": 412,
      "outputs": [
        {
          "output_type": "display_data",
          "data": {
            "text/html": [
              "<html>\n",
              "<head><meta charset=\"utf-8\" /></head>\n",
              "<body>\n",
              "    <div>            <script src=\"https://cdnjs.cloudflare.com/ajax/libs/mathjax/2.7.5/MathJax.js?config=TeX-AMS-MML_SVG\"></script><script type=\"text/javascript\">if (window.MathJax && window.MathJax.Hub && window.MathJax.Hub.Config) {window.MathJax.Hub.Config({SVG: {font: \"STIX-Web\"}});}</script>                <script type=\"text/javascript\">window.PlotlyConfig = {MathJaxConfig: 'local'};</script>\n",
              "        <script charset=\"utf-8\" src=\"https://cdn.plot.ly/plotly-2.24.1.min.js\"></script>                <div id=\"4170c18e-e366-426d-bcb2-40efc6e6837b\" class=\"plotly-graph-div\" style=\"height:525px; width:100%;\"></div>            <script type=\"text/javascript\">                                    window.PLOTLYENV=window.PLOTLYENV || {};                                    if (document.getElementById(\"4170c18e-e366-426d-bcb2-40efc6e6837b\")) {                    Plotly.newPlot(                        \"4170c18e-e366-426d-bcb2-40efc6e6837b\",                        [{\"x\":[1,1,2,1,1,1,1,1,1,1,1,1,1,1,1,1,1,1,1,1,1,1,1,1,1,1,1,1,1,1,2,1,1,2,1,1,1,1,1,1,1,1,1,1,1,1,1,1,1,1,1,1,1,1,1,3,1,1,1,1,1,2,1,1,1,1,1,1,1,1,1,1,1,1,1,1,1,1,1,1,1,1,2,1,1,1,1,1,1,1,1,1,1,1,1,1,1,1,1,1,1,1,1,2,1,1,1,1,1,1,1,1,1,1,1,1,1,1,1,1,1,1,1,1,1,1,1,1,1,1,1,1,1,1,1,1,1,1,1,1,1,1,1,1,1,1,1,1,1,1,1,1,1,1,1,1,1,1,1,1,1,1,1,1,1,2,1,1,1,1,2,1,1,1,1,1,1,1,1,1,1,1,1,1,1,1,1,1,1,1,1,1,1,1,1,1,1,1,1,1,1,1,1,1,1,1,1,1,1,1,1,1,1,1,1,1,1,1,1,1,1,1,1,1,1,2,1,1,1,1,1,1,1,1,1,1,1,1,1,1,2,1,1,1,1,1,1,1,1,2,1,1,1,1,1,1,1,1,1,6,1,1,1,1,1,1,1,1,1,2,1,1,1,1,1,1,1,1,1,1,1,1,1,1,1,1,1,1,1,1,1,1,1,1,1,1,1,1,1,1,1,1,1,1,1,1,1,1,1,1,1,1,1,1,1,1,1,1,1,1,1,1,1,1,1,1,1,1,1,1,1,1,1,1,1,1,1,1,1,1,1,1,1,1,1,1,1,1,1,1,1,1,1,1,1,1,1,1,1,1,1,1,1,1,1,1,5,1,2,1,1,1,2,1,1,1,1,1,1,1,1,3,1,1,1,1,1,1,1,1,1,1,1,1,1,1,1,1,1,1,1,1,1,1,1,1,1,1,1,1,1,1,1,1,1,1,1,1,1,1,1,2,1,1,1,1,1,1,1,1,1,1,1,1,1,2,1,1,1,1,2,1,1,1,3,1,1,1,1,4,1,1,1,1,1,1,1,1,1,1,1,1,1,1,1,1,1,2,1,1,1,1,1,1,1,1,1,1,2,1,1,1,1,1,2,1,1,1,1,1,1,1,1,1,1,5,1,1,1,1,1,1,1,1,1,1,1,1,1,1,1,1,1,1,1,1,1,1,1,1,1,2,1,1,1,1,1,2,1,1,1,1,1,1,1,2,1,2,1,1,1,1,1,1,1,1,2,1,1,1,1,1,1,6,1,1,2,1,1,2,1,1,1,1,1,1,1,1,1,1,1,1,1,1,1,1,2,1,1,1,1,1,1,1,1,1,1,1,1,1,1,1,1,2,1,1,1,1,1,1,1,1,1,1,1,1,1,1,1,1,1,1,1,1,4,1,1,1,1,1,1,1,1,1,1,1,1,1,1,1,1,1,1,1,2,1,1,1,1,2,1,1,1,1,1,1,1,1,1,1,1,1,1,1,1,1,1,1,2,1,1,8,1,2,1,1,1,1,1,1,1,1,1,1,1,1,1,1,1,1,1,1,1,1,1,1,1,1,1,1,1,1,1,1,1,1,1,1,1,1,1,1,1,1,1,1,1,1,1,1,1,1,1,1,1,1,1,1,1,1,1,1,1,1,1,1,1,1,1,1,1,1,1,1,1,1,1,1,1,1,1,1,1,1,1,1,2,1,1,2,1,1,1,1,2,1,1,1,1,2,1,1,1,1,1,1,1,1,1,1,1,1,1,1,1,1,1,1,1,1,1,1,1,1,1,1,1,1,1,1,1,1,1,1,1,1,1,1,1,1,1,1,1,1,1,1,1,1,1,1,1,1,1,1,1,2,1,2,1,1,3,1,1,1,3,1,1,1,1,1,1,1,1,1,1,1,1,1,1,1,1,1,1,1,1,1,1,1,1,1,1,1,1,2,1,1,1,6,1,1,1,1,1,1,1,2,1,1,1,1,1,1,1,1,1,1,1,1,1,1,1,1,1,1,1,1,1,1,1,1,1,1,2,1,1,1,1,1,1,1,1,1,1,1,1,1,1,1,1,1,1,1,1,1,1,1,1,1,1,1,1,1,1,1,1,2,2,1,1,2,1,1,1,1,3,1,1,1,1,1,1,1,1,1,3,4,1,1,1,1,1,1,1,1,1,2,1,1,1,1,1,1,1,1,1,2,1,1,1,1,1,2,4,1,1,1,1,1,1,1,2,3,1,1,1,1,1,1,1,1,1,1,1,1,1,1,1,1,1,1,1,1,1,1,1,1,2,1,1,2,1,1,1,2,1,1,1,1,1,1,1,1,1,1,1,1,1,1,1,1,1,1,1,1,1,1,1,1,1,1,1,1,1,1,1,1,2,1,1,1,1,1,1,1,1,1,1,1,1,1,1,1,1,1,1,1,1,1,1,1,1,1,1,1,1,1,1,1,1,1,1,1,1,1,1,1,1,1,1,1,1,1,1,1,1,1,1,2,1,1,1,1,1,1,1,3,1,1,1,1,1,1,1,1,1,1,1,1,1,1,1,1,1,1,1,1,1,1,1,1,1,1,1,1,1,2,1,1,1,1,1,1,1,1,1,1,1,1,2,1,1,1,1,1,1,1,1,1,1,1,1,1,5,1,1,1,1,1,1,1,1,1,1,1,2,1,1,1,1,1,1,1,1,1,1,1,1,1,1,1,1,2,1,1,2,1,1,1,1,1,2,1,1,1,1,1,1,1,1,1,1,1,1,1,1,1,1,1,1,1,1,1,1,1,1,1,1,1,1,1,1,1,1,1,1,1,1,3,1,1,1,1,1,1,1,1,1,6,2,1,1,1,1,1,1,2,1,1,1,1,1,1,1,1,1,1,1,1,1,1,2,1,1,1,1,1,1,1,1,1,1,1,1,2,1,3,1,1,1,1,1,1,1,1,1,1,1,1,1,1,1,1,1,1,1,1,1,1,1,1,1,1,1,1,1,1,1,1,1,1,1,1,1,1,2,1,1,1,1,1,1,1,1,1,1,1,2,1,1,1,1,2,1,1,1,1,1,1,1,1,1,1,1,1,1,1,1,1,1,1,1,1,1,1,1,1,1,1,1,1,1,1,1,1,1,1,1,1,1,1,1,1,1,1,3,1,1,1,1,1,1,1,1,1,1,1,2,1,1,1,1,1,1,1,1,1,1,1,3,1,1,1,1,1,2,1,1,1,1,1,1,1,1,1,1,1,1,1,1,1,1,1,1,1,5,1,1,1,1,1,1,2,1,2,1,1,1,1,1,1,1,1,3,1,1,1,1,1,1,1,1,1,1,1,1,1,1,1,1,1,1,1,1,1,1,1,2,1,1,1,1,1,1,1,1,2,1,1,1,1,1,1,1,1,1,1,1,1,2,1,1,1,1,1,1,1,1,1,1,1,1,1,1,1,1,1,1,1,1,1,1,1,1,1,1,1,1,1,1,1,1,1,1,1,1,1,1,1,1,1,1,1,1,1,2,1,1,1,1,1,1,1,1,1,1,1,1,1,1,1,1,1,1,1,1,1,1,1,1,1,1,1,1,1,1,1,1,1,1,1,1,1,1,1,2,1,1,1,1,1,1,2,1,1,1,1,1,1,1,1,1,1,1,1,1,1,1,1,1,2,1,1,1,1,1,1,1,1,1,1,1,1,1,1,1,1,1,1,1,1,1,1,1,1,1,1,1,1,1,1,1,1,1,1,1,1,1,1,1,1,1,1,1,1,1,1,1,1,3,1,1,1,1,1,1,1,1,1,1,1,1,1,1,1,1,1,1,1,1,1,1,1,1,1,1,1,1,1,1,1,1,1,5,1,1,1,1,1,1,1,1,1,1,2,1,1,1,1,1,1,1,1,1,1,1,1,1,3,1,1,1,1,1,1,1,1,1,1,1,1,1,1,1,1,1,1,1,1,1,1,2,1,1,1,1,1,1,1,1,1,1,1,1,1,1,1,1,1,1,1,1,1,1,1,1,1,1,1,1,1,1,1,1,1,1,1,1,1,1,1,1,1,1,1,1,1,1,1,1,1,1,1,1,1,3,1,1,1,1,1,1,1,1,1,1,1,1,1,1,1,1,1,1,1,1,1,1,1,1,1,2,1,1,1,1,1,1,1,1,1,1,2,1,1,1,1,1,2,1,1,1,1,1,1,1,1,1,1,1,1,1,1,1,1,1,1,1,1,1,1,1,3,1,1,1,1,1,1,1,1,1,1,1,1,1,1,1,1,1,1,1,1,1,1,1,1,1,1,2,1,2,1,1,1,2,1,1,1,1,1,1,1,1,1,1,1,1,1,1,1,1,1,1,1,1,1,1,1,1,1,1,1,1,1,1,4,1,1,1,1,1,1,1,2,1,1,1,1,1,1,1,1,1,1,1,1,1,1,1,4,1,2,1,1,1,1,1,1,1,1,2,1,1,1,2,1,1,1,1,1,1,1,1,1,1,1,1,1,1,1,1,1,1,1,1,1,1,1,1,1,1,1,1,1,1,1,1,5,1,1,1,1,1,1,1,1,1,1,1,1,1,1,1,1,1,1,1,1,2,1,1,1,1,6,1,1,1,1,1,1,2,1,1,1,1,1,1,1,1,1,1,1,1,1,1,1,1,1,1,1,1,1,1,1,1,2,1,1,1,1,1,1,1,1,1,1,1,1,1,1,1,1,1,1,1,1,1,2,1,1,1,1,1,1,1,1,1,4,1,1,1,1,1,2,1,1,1,1,1,1,1,1,1,1,1,1,1,1,1,1,1,1,1,1,1,1,1,1,1,1,1,1,1,1,1,1,1,1,1,1,1,1,1,1,2,1,1,1,1,1,1,1,1,1,1,1,2,1,1,1,1,1,1,1,1,1,1,1,1,1,1,1,1,1,1,1,2,1,1,1,1,1,1,1,1,1,1,1,1,1,1,1,2,1,1,1,1,2,1,1,1,1,1,1,1,1,1,1,1,1,1,1,1,1,2,1,1,2,1,1,1,1,1,1,1,1,1,1,1,1,1,2,1,1,2,1,1,1,1,1,1,1,1,1,1,1,1,1,1,1,1,1,1,1,1,1,1,1,1,1,2,1,1,1,1,1,2,1,1,1,1,1,1,1,1,1,1,1,1,1,1,1,2,1,1,1,3,1,1,3,2,1,1,1,2,1,1,2,1,1,1,1,2,1,1,1,1,2,1,2,1,1,1,1,1,1,1,1,1,1,1,1,1,1,1,1,1,1,1,1,1,1,1,1,3,1,1,1,1,1,1,1,1,1,1,1,2,1,1,2,1,1,1,1,1,1,1,1,1,1,1,1,1,2,1,1,1,1,1,1,1,1,1,1,1,1,1,1,1,1,2,1,1,1,1,2,1,1,1,1,1,1,1,1,1,1,1,1,1,1,1,1,1,1,1,1,1,1,1,1,1,1,1,1,4,1,1,1,1,1,1,1,1,1,1,1,1,1,1,1,1,1,1,1,1,1,1,1,1,1,1,1,1,1,1,1,1,1,1,1,2,1,1,1,1,2,1,1,1,1,2,1,1,1,1,2,1,1,1,1,1,1,1,1,2,1,1,1,1,1,1,1,1,1,1,1,1,1,1,1,1,1,1,1,1,1,2,1,1,1,1,1,1,1,1,1,1,1,1,1,1,1,1,1,1,1,1,1,1,1,1,2,1,1,1,1,1,1,1,1,1,1,1,1,1,1,1,1,1,4,1,1,1,3,1,2,1,1,2,1,1,1,1,1,1,1,1,1,1,1,1,1,1,1,1,1,1,1,1,1,1,1,1,2,1,1,1,3,1,1,1,1,1,1,1,1,1,1,1,1,1,1,2,1,1,1,1,1,1,1,2,1,1,1,6,3,1,1,1,1,1,1,1,1,1,1,1,1,1,1,1,1,1,1,3,1,1,1,1,1,1,1,1,1,1,1,1,1,1,1,1,1,1,1,1,1,1,1,1,1,1,1,1,2,1,1,1,1,1,1,1,1,1,1,1,1,1,1,1,2,1,1,1,1,1,1,1,1,1,1,1,1,1,1,1,1,1,1,1,1,1,1,1,1,1,1,1,1,1,1,1,1,4,1,2,1,1,1,1,1,1,3,1,1,1,1,1,1,1,1,1,1,1,1,1,1,1,1,1,1,1,1,1,1,2,1,1,1,1,1,1,1,2,1,2,1,1,1,1,1,1,1,1,1,1,1,1,1,1,1,1,1,1,1,1,1,1,1,1,1,1,1,1,1,1,1,1,1,1,1,1,1,1,1,1,1,1,1,1,1,1,1,1,1,1,1,1,1,1,1,1,1,1,1,1,1,1,1,1,1,1,1,1,1,1,1,1,1,1,1,1,1,1,1,1,1,1,3,1,1,1,1,1,1,1,1,1,1,1,1,1,1,1,1,1,1,1,1,1,1,1,1,1,1,1,1,1,1,1,1,1,1,1,1,1,1,1,1,1,1,1,1,1,1,1,1,1,1,1,2,1,1,1,1,1,1,1,1,1,1,2,1,1,1,1,2,1,1,1,1,1,1,2,1,1,1,1,1,1,1,1,1,1,1,1,1,1,1,2,1,1,1,1,1,1,1,1,1,1,1,1,1,1,2,1,1,1,1,1,1,1,1,1,1,1,1,1,2,1,1,1,1,1,1,2,1,1,1,1,1,1,1,1,1,1,1,1,1,1,1,1,1,1,1,1,1,1,1,1,1,1,3,1,1,1,1,1,1,1,1,1,1,1,1,1,1,1,1,1,1,1,2,1,1,1,1,1,1,3,1,1,1,1,4,1,1,1,1,1,1,1,1,1,1,1,1,1,1,1,1,1,1,1,1,1,1,1,1,1,1,1,4,1,1,1,1,1,1,1,1,1,1,1,1,1,1,1,1,1,1,2,1,1,1,1,1,1,1,1,1,1,1,1,1,1,1,2,1,1,1,1,1,2,1,1,1,1,1,1,1,1,1,1,1,1,1,1,1,1,1,2,1,1,1,1,2,2,1,1,1,1,1,2,1,3,1,1,1,2,1,1,1,1,1,1,1,1,2,1,1,1,1,1,1,1,1,1,1,3,1,2,2,1,1,2,1,1,1,1,1,1,1,1,1,1,1,1,1,3,1,3,2,1,1,1,2,1,1,1,1,1,1,3,1,1,1,1,1,1,1,1,1,1,1,1,1,1,1,1,1,4,1,1,1,1,1,1,1,1,1,1,1,1,1,1,1,1,1,1,1,1,1,2,1,1,2,1,1,1,1,1,1,1,1,1,1,1,1,1,1,1,1,1,1,1,1,1,1,1,1,1,1,1,1,3,1,1,1,1,1,1,1,1,1,1,1,1,1,1,1,1,1,1,1,1,1,1,1,1,1,1,1,1,1,1,1,2,1,1,1,1,1,1,1,1,1,1,3,1,1,1,1,1,1,1,1,1,1,2,2,1,1,1,1,1,1,1,1,1,1,1,1,1,1,1,1,1,1,2,1,1,1,1,1,1,1,1,1,1,1,1,1,1,1,1,1,1,1,1,1,1,1,1,2,1,1,1,1,1,1,2,1,1,1,1,1,1,1,1,1,1,1,4,1,1,1,1,1,1,1,2,1,1,1,1,1,1,1,1,1,1,1,1,1,1,1,1,1,1,1,1,1,1,1,1,1,1,1,1,1,1,1,1,1,1,1,1,1,1,1,1,1,1,1,1,1,1,1,1,1,2,1,1,1,1,1,1,1,2,1,3,1,1,2,1,2,1,1,1,1,1,1,1,1,1,1,2,1,1,1,1,1,1,1,1,1,1,1,1,1,1,1,1,1,1,1,1,1,1,1,1,2,1,1,4,1,1,1,1,1,1,1,1,1,1,1,1,1,1,1,1,1,1,1,1,1,1,1,1,1,1,1,1,1,1,1,1,1,2,1,1,1,1,1,1,2,1,1,1,1,1,1,1,3,1,1,1,1,1,1,1,1,1,1,1,1,1,1,1,1,1,1,1,1,1,1,1,1,3,1,1,1,1,1,1,1,1,1,1,2,1,1,1,1,1,1,1,1,2,1,1,1,1,1,1,1,1,1,2,1,1,1,1,1,1,1,1,2,1,1,1,1,1,1],\"type\":\"histogram\"}],                        {\"template\":{\"data\":{\"barpolar\":[{\"marker\":{\"line\":{\"color\":\"#E5ECF6\",\"width\":0.5},\"pattern\":{\"fillmode\":\"overlay\",\"size\":10,\"solidity\":0.2}},\"type\":\"barpolar\"}],\"bar\":[{\"error_x\":{\"color\":\"#2a3f5f\"},\"error_y\":{\"color\":\"#2a3f5f\"},\"marker\":{\"line\":{\"color\":\"#E5ECF6\",\"width\":0.5},\"pattern\":{\"fillmode\":\"overlay\",\"size\":10,\"solidity\":0.2}},\"type\":\"bar\"}],\"carpet\":[{\"aaxis\":{\"endlinecolor\":\"#2a3f5f\",\"gridcolor\":\"white\",\"linecolor\":\"white\",\"minorgridcolor\":\"white\",\"startlinecolor\":\"#2a3f5f\"},\"baxis\":{\"endlinecolor\":\"#2a3f5f\",\"gridcolor\":\"white\",\"linecolor\":\"white\",\"minorgridcolor\":\"white\",\"startlinecolor\":\"#2a3f5f\"},\"type\":\"carpet\"}],\"choropleth\":[{\"colorbar\":{\"outlinewidth\":0,\"ticks\":\"\"},\"type\":\"choropleth\"}],\"contourcarpet\":[{\"colorbar\":{\"outlinewidth\":0,\"ticks\":\"\"},\"type\":\"contourcarpet\"}],\"contour\":[{\"colorbar\":{\"outlinewidth\":0,\"ticks\":\"\"},\"colorscale\":[[0.0,\"#0d0887\"],[0.1111111111111111,\"#46039f\"],[0.2222222222222222,\"#7201a8\"],[0.3333333333333333,\"#9c179e\"],[0.4444444444444444,\"#bd3786\"],[0.5555555555555556,\"#d8576b\"],[0.6666666666666666,\"#ed7953\"],[0.7777777777777778,\"#fb9f3a\"],[0.8888888888888888,\"#fdca26\"],[1.0,\"#f0f921\"]],\"type\":\"contour\"}],\"heatmapgl\":[{\"colorbar\":{\"outlinewidth\":0,\"ticks\":\"\"},\"colorscale\":[[0.0,\"#0d0887\"],[0.1111111111111111,\"#46039f\"],[0.2222222222222222,\"#7201a8\"],[0.3333333333333333,\"#9c179e\"],[0.4444444444444444,\"#bd3786\"],[0.5555555555555556,\"#d8576b\"],[0.6666666666666666,\"#ed7953\"],[0.7777777777777778,\"#fb9f3a\"],[0.8888888888888888,\"#fdca26\"],[1.0,\"#f0f921\"]],\"type\":\"heatmapgl\"}],\"heatmap\":[{\"colorbar\":{\"outlinewidth\":0,\"ticks\":\"\"},\"colorscale\":[[0.0,\"#0d0887\"],[0.1111111111111111,\"#46039f\"],[0.2222222222222222,\"#7201a8\"],[0.3333333333333333,\"#9c179e\"],[0.4444444444444444,\"#bd3786\"],[0.5555555555555556,\"#d8576b\"],[0.6666666666666666,\"#ed7953\"],[0.7777777777777778,\"#fb9f3a\"],[0.8888888888888888,\"#fdca26\"],[1.0,\"#f0f921\"]],\"type\":\"heatmap\"}],\"histogram2dcontour\":[{\"colorbar\":{\"outlinewidth\":0,\"ticks\":\"\"},\"colorscale\":[[0.0,\"#0d0887\"],[0.1111111111111111,\"#46039f\"],[0.2222222222222222,\"#7201a8\"],[0.3333333333333333,\"#9c179e\"],[0.4444444444444444,\"#bd3786\"],[0.5555555555555556,\"#d8576b\"],[0.6666666666666666,\"#ed7953\"],[0.7777777777777778,\"#fb9f3a\"],[0.8888888888888888,\"#fdca26\"],[1.0,\"#f0f921\"]],\"type\":\"histogram2dcontour\"}],\"histogram2d\":[{\"colorbar\":{\"outlinewidth\":0,\"ticks\":\"\"},\"colorscale\":[[0.0,\"#0d0887\"],[0.1111111111111111,\"#46039f\"],[0.2222222222222222,\"#7201a8\"],[0.3333333333333333,\"#9c179e\"],[0.4444444444444444,\"#bd3786\"],[0.5555555555555556,\"#d8576b\"],[0.6666666666666666,\"#ed7953\"],[0.7777777777777778,\"#fb9f3a\"],[0.8888888888888888,\"#fdca26\"],[1.0,\"#f0f921\"]],\"type\":\"histogram2d\"}],\"histogram\":[{\"marker\":{\"pattern\":{\"fillmode\":\"overlay\",\"size\":10,\"solidity\":0.2}},\"type\":\"histogram\"}],\"mesh3d\":[{\"colorbar\":{\"outlinewidth\":0,\"ticks\":\"\"},\"type\":\"mesh3d\"}],\"parcoords\":[{\"line\":{\"colorbar\":{\"outlinewidth\":0,\"ticks\":\"\"}},\"type\":\"parcoords\"}],\"pie\":[{\"automargin\":true,\"type\":\"pie\"}],\"scatter3d\":[{\"line\":{\"colorbar\":{\"outlinewidth\":0,\"ticks\":\"\"}},\"marker\":{\"colorbar\":{\"outlinewidth\":0,\"ticks\":\"\"}},\"type\":\"scatter3d\"}],\"scattercarpet\":[{\"marker\":{\"colorbar\":{\"outlinewidth\":0,\"ticks\":\"\"}},\"type\":\"scattercarpet\"}],\"scattergeo\":[{\"marker\":{\"colorbar\":{\"outlinewidth\":0,\"ticks\":\"\"}},\"type\":\"scattergeo\"}],\"scattergl\":[{\"marker\":{\"colorbar\":{\"outlinewidth\":0,\"ticks\":\"\"}},\"type\":\"scattergl\"}],\"scattermapbox\":[{\"marker\":{\"colorbar\":{\"outlinewidth\":0,\"ticks\":\"\"}},\"type\":\"scattermapbox\"}],\"scatterpolargl\":[{\"marker\":{\"colorbar\":{\"outlinewidth\":0,\"ticks\":\"\"}},\"type\":\"scatterpolargl\"}],\"scatterpolar\":[{\"marker\":{\"colorbar\":{\"outlinewidth\":0,\"ticks\":\"\"}},\"type\":\"scatterpolar\"}],\"scatter\":[{\"fillpattern\":{\"fillmode\":\"overlay\",\"size\":10,\"solidity\":0.2},\"type\":\"scatter\"}],\"scatterternary\":[{\"marker\":{\"colorbar\":{\"outlinewidth\":0,\"ticks\":\"\"}},\"type\":\"scatterternary\"}],\"surface\":[{\"colorbar\":{\"outlinewidth\":0,\"ticks\":\"\"},\"colorscale\":[[0.0,\"#0d0887\"],[0.1111111111111111,\"#46039f\"],[0.2222222222222222,\"#7201a8\"],[0.3333333333333333,\"#9c179e\"],[0.4444444444444444,\"#bd3786\"],[0.5555555555555556,\"#d8576b\"],[0.6666666666666666,\"#ed7953\"],[0.7777777777777778,\"#fb9f3a\"],[0.8888888888888888,\"#fdca26\"],[1.0,\"#f0f921\"]],\"type\":\"surface\"}],\"table\":[{\"cells\":{\"fill\":{\"color\":\"#EBF0F8\"},\"line\":{\"color\":\"white\"}},\"header\":{\"fill\":{\"color\":\"#C8D4E3\"},\"line\":{\"color\":\"white\"}},\"type\":\"table\"}]},\"layout\":{\"annotationdefaults\":{\"arrowcolor\":\"#2a3f5f\",\"arrowhead\":0,\"arrowwidth\":1},\"autotypenumbers\":\"strict\",\"coloraxis\":{\"colorbar\":{\"outlinewidth\":0,\"ticks\":\"\"}},\"colorscale\":{\"diverging\":[[0,\"#8e0152\"],[0.1,\"#c51b7d\"],[0.2,\"#de77ae\"],[0.3,\"#f1b6da\"],[0.4,\"#fde0ef\"],[0.5,\"#f7f7f7\"],[0.6,\"#e6f5d0\"],[0.7,\"#b8e186\"],[0.8,\"#7fbc41\"],[0.9,\"#4d9221\"],[1,\"#276419\"]],\"sequential\":[[0.0,\"#0d0887\"],[0.1111111111111111,\"#46039f\"],[0.2222222222222222,\"#7201a8\"],[0.3333333333333333,\"#9c179e\"],[0.4444444444444444,\"#bd3786\"],[0.5555555555555556,\"#d8576b\"],[0.6666666666666666,\"#ed7953\"],[0.7777777777777778,\"#fb9f3a\"],[0.8888888888888888,\"#fdca26\"],[1.0,\"#f0f921\"]],\"sequentialminus\":[[0.0,\"#0d0887\"],[0.1111111111111111,\"#46039f\"],[0.2222222222222222,\"#7201a8\"],[0.3333333333333333,\"#9c179e\"],[0.4444444444444444,\"#bd3786\"],[0.5555555555555556,\"#d8576b\"],[0.6666666666666666,\"#ed7953\"],[0.7777777777777778,\"#fb9f3a\"],[0.8888888888888888,\"#fdca26\"],[1.0,\"#f0f921\"]]},\"colorway\":[\"#636efa\",\"#EF553B\",\"#00cc96\",\"#ab63fa\",\"#FFA15A\",\"#19d3f3\",\"#FF6692\",\"#B6E880\",\"#FF97FF\",\"#FECB52\"],\"font\":{\"color\":\"#2a3f5f\"},\"geo\":{\"bgcolor\":\"white\",\"lakecolor\":\"white\",\"landcolor\":\"#E5ECF6\",\"showlakes\":true,\"showland\":true,\"subunitcolor\":\"white\"},\"hoverlabel\":{\"align\":\"left\"},\"hovermode\":\"closest\",\"mapbox\":{\"style\":\"light\"},\"paper_bgcolor\":\"white\",\"plot_bgcolor\":\"#E5ECF6\",\"polar\":{\"angularaxis\":{\"gridcolor\":\"white\",\"linecolor\":\"white\",\"ticks\":\"\"},\"bgcolor\":\"#E5ECF6\",\"radialaxis\":{\"gridcolor\":\"white\",\"linecolor\":\"white\",\"ticks\":\"\"}},\"scene\":{\"xaxis\":{\"backgroundcolor\":\"#E5ECF6\",\"gridcolor\":\"white\",\"gridwidth\":2,\"linecolor\":\"white\",\"showbackground\":true,\"ticks\":\"\",\"zerolinecolor\":\"white\"},\"yaxis\":{\"backgroundcolor\":\"#E5ECF6\",\"gridcolor\":\"white\",\"gridwidth\":2,\"linecolor\":\"white\",\"showbackground\":true,\"ticks\":\"\",\"zerolinecolor\":\"white\"},\"zaxis\":{\"backgroundcolor\":\"#E5ECF6\",\"gridcolor\":\"white\",\"gridwidth\":2,\"linecolor\":\"white\",\"showbackground\":true,\"ticks\":\"\",\"zerolinecolor\":\"white\"}},\"shapedefaults\":{\"line\":{\"color\":\"#2a3f5f\"}},\"ternary\":{\"aaxis\":{\"gridcolor\":\"white\",\"linecolor\":\"white\",\"ticks\":\"\"},\"baxis\":{\"gridcolor\":\"white\",\"linecolor\":\"white\",\"ticks\":\"\"},\"bgcolor\":\"#E5ECF6\",\"caxis\":{\"gridcolor\":\"white\",\"linecolor\":\"white\",\"ticks\":\"\"}},\"title\":{\"x\":0.05},\"xaxis\":{\"automargin\":true,\"gridcolor\":\"white\",\"linecolor\":\"white\",\"ticks\":\"\",\"title\":{\"standoff\":15},\"zerolinecolor\":\"white\",\"zerolinewidth\":2},\"yaxis\":{\"automargin\":true,\"gridcolor\":\"white\",\"linecolor\":\"white\",\"ticks\":\"\",\"title\":{\"standoff\":15},\"zerolinecolor\":\"white\",\"zerolinewidth\":2}}},\"title\":{\"text\":\"Quantidade m\\u00e9dia de itens de um pedido\"}},                        {\"responsive\": true}                    ).then(function(){\n",
              "                            \n",
              "var gd = document.getElementById('4170c18e-e366-426d-bcb2-40efc6e6837b');\n",
              "var x = new MutationObserver(function (mutations, observer) {{\n",
              "        var display = window.getComputedStyle(gd).display;\n",
              "        if (!display || display === 'none') {{\n",
              "            console.log([gd, 'removed!']);\n",
              "            Plotly.purge(gd);\n",
              "            observer.disconnect();\n",
              "        }}\n",
              "}});\n",
              "\n",
              "// Listen for the removal of the full notebook cells\n",
              "var notebookContainer = gd.closest('#notebook-container');\n",
              "if (notebookContainer) {{\n",
              "    x.observe(notebookContainer, {childList: true});\n",
              "}}\n",
              "\n",
              "// Listen for the clearing of the current output cell\n",
              "var outputEl = gd.closest('.output');\n",
              "if (outputEl) {{\n",
              "    x.observe(outputEl, {childList: true});\n",
              "}}\n",
              "\n",
              "                        })                };                            </script>        </div>\n",
              "</body>\n",
              "</html>"
            ]
          },
          "metadata": {}
        }
      ]
    },
    {
      "cell_type": "code",
      "source": [
        "trace1 = go.Histogram(x = df.order_items_qty,\n",
        "                      name = \"itens\",\n",
        "                      opacity = 0.75)"
      ],
      "metadata": {
        "id": "j-ot2H5UtgrP"
      },
      "execution_count": 413,
      "outputs": []
    },
    {
      "cell_type": "code",
      "source": [
        "trace2 = go.Histogram(x = df.order_sellers_qty,\n",
        "                      name = \"vendedores\",\n",
        "                      opacity = 0.75)"
      ],
      "metadata": {
        "id": "Bt1_FTixuHfR"
      },
      "execution_count": 414,
      "outputs": []
    },
    {
      "cell_type": "code",
      "source": [
        "layout = go.Layout(title = \"Quantidade de itens e Vendedores por pedido\",\n",
        "                   barmode = \"overlay\")"
      ],
      "metadata": {
        "id": "z-66UNpRuatq"
      },
      "execution_count": 415,
      "outputs": []
    },
    {
      "cell_type": "code",
      "source": [
        "dados = [trace1, trace2]"
      ],
      "metadata": {
        "id": "pxHqtdWIunfo"
      },
      "execution_count": 416,
      "outputs": []
    },
    {
      "cell_type": "code",
      "source": [
        "fig = go.Figure(data = data, layout = layout)"
      ],
      "metadata": {
        "id": "zBS5QR0pusR7"
      },
      "execution_count": 417,
      "outputs": []
    },
    {
      "cell_type": "code",
      "source": [
        "py.iplot(fig)"
      ],
      "metadata": {
        "colab": {
          "base_uri": "https://localhost:8080/",
          "height": 542
        },
        "id": "Vw4WG1nxuyn_",
        "outputId": "62c26404-a162-4574-ee05-2590704e90a8"
      },
      "execution_count": 418,
      "outputs": [
        {
          "output_type": "display_data",
          "data": {
            "text/html": [
              "<html>\n",
              "<head><meta charset=\"utf-8\" /></head>\n",
              "<body>\n",
              "    <div>            <script src=\"https://cdnjs.cloudflare.com/ajax/libs/mathjax/2.7.5/MathJax.js?config=TeX-AMS-MML_SVG\"></script><script type=\"text/javascript\">if (window.MathJax && window.MathJax.Hub && window.MathJax.Hub.Config) {window.MathJax.Hub.Config({SVG: {font: \"STIX-Web\"}});}</script>                <script type=\"text/javascript\">window.PlotlyConfig = {MathJaxConfig: 'local'};</script>\n",
              "        <script charset=\"utf-8\" src=\"https://cdn.plot.ly/plotly-2.24.1.min.js\"></script>                <div id=\"c0627fe6-bff8-4928-9a74-1e2dba04d668\" class=\"plotly-graph-div\" style=\"height:525px; width:100%;\"></div>            <script type=\"text/javascript\">                                    window.PLOTLYENV=window.PLOTLYENV || {};                                    if (document.getElementById(\"c0627fe6-bff8-4928-9a74-1e2dba04d668\")) {                    Plotly.newPlot(                        \"c0627fe6-bff8-4928-9a74-1e2dba04d668\",                        [{\"x\":[1,1,2,1,1,1,1,1,1,1,1,1,1,1,1,1,1,1,1,1,1,1,1,1,1,1,1,1,1,1,2,1,1,2,1,1,1,1,1,1,1,1,1,1,1,1,1,1,1,1,1,1,1,1,1,3,1,1,1,1,1,2,1,1,1,1,1,1,1,1,1,1,1,1,1,1,1,1,1,1,1,1,2,1,1,1,1,1,1,1,1,1,1,1,1,1,1,1,1,1,1,1,1,2,1,1,1,1,1,1,1,1,1,1,1,1,1,1,1,1,1,1,1,1,1,1,1,1,1,1,1,1,1,1,1,1,1,1,1,1,1,1,1,1,1,1,1,1,1,1,1,1,1,1,1,1,1,1,1,1,1,1,1,1,1,2,1,1,1,1,2,1,1,1,1,1,1,1,1,1,1,1,1,1,1,1,1,1,1,1,1,1,1,1,1,1,1,1,1,1,1,1,1,1,1,1,1,1,1,1,1,1,1,1,1,1,1,1,1,1,1,1,1,1,1,2,1,1,1,1,1,1,1,1,1,1,1,1,1,1,2,1,1,1,1,1,1,1,1,2,1,1,1,1,1,1,1,1,1,6,1,1,1,1,1,1,1,1,1,2,1,1,1,1,1,1,1,1,1,1,1,1,1,1,1,1,1,1,1,1,1,1,1,1,1,1,1,1,1,1,1,1,1,1,1,1,1,1,1,1,1,1,1,1,1,1,1,1,1,1,1,1,1,1,1,1,1,1,1,1,1,1,1,1,1,1,1,1,1,1,1,1,1,1,1,1,1,1,1,1,1,1,1,1,1,1,1,1,1,1,1,1,1,1,1,1,5,1,2,1,1,1,2,1,1,1,1,1,1,1,1,3,1,1,1,1,1,1,1,1,1,1,1,1,1,1,1,1,1,1,1,1,1,1,1,1,1,1,1,1,1,1,1,1,1,1,1,1,1,1,1,2,1,1,1,1,1,1,1,1,1,1,1,1,1,2,1,1,1,1,2,1,1,1,3,1,1,1,1,4,1,1,1,1,1,1,1,1,1,1,1,1,1,1,1,1,1,2,1,1,1,1,1,1,1,1,1,1,2,1,1,1,1,1,2,1,1,1,1,1,1,1,1,1,1,5,1,1,1,1,1,1,1,1,1,1,1,1,1,1,1,1,1,1,1,1,1,1,1,1,1,2,1,1,1,1,1,2,1,1,1,1,1,1,1,2,1,2,1,1,1,1,1,1,1,1,2,1,1,1,1,1,1,6,1,1,2,1,1,2,1,1,1,1,1,1,1,1,1,1,1,1,1,1,1,1,2,1,1,1,1,1,1,1,1,1,1,1,1,1,1,1,1,2,1,1,1,1,1,1,1,1,1,1,1,1,1,1,1,1,1,1,1,1,4,1,1,1,1,1,1,1,1,1,1,1,1,1,1,1,1,1,1,1,2,1,1,1,1,2,1,1,1,1,1,1,1,1,1,1,1,1,1,1,1,1,1,1,2,1,1,8,1,2,1,1,1,1,1,1,1,1,1,1,1,1,1,1,1,1,1,1,1,1,1,1,1,1,1,1,1,1,1,1,1,1,1,1,1,1,1,1,1,1,1,1,1,1,1,1,1,1,1,1,1,1,1,1,1,1,1,1,1,1,1,1,1,1,1,1,1,1,1,1,1,1,1,1,1,1,1,1,1,1,1,1,2,1,1,2,1,1,1,1,2,1,1,1,1,2,1,1,1,1,1,1,1,1,1,1,1,1,1,1,1,1,1,1,1,1,1,1,1,1,1,1,1,1,1,1,1,1,1,1,1,1,1,1,1,1,1,1,1,1,1,1,1,1,1,1,1,1,1,1,1,2,1,2,1,1,3,1,1,1,3,1,1,1,1,1,1,1,1,1,1,1,1,1,1,1,1,1,1,1,1,1,1,1,1,1,1,1,1,2,1,1,1,6,1,1,1,1,1,1,1,2,1,1,1,1,1,1,1,1,1,1,1,1,1,1,1,1,1,1,1,1,1,1,1,1,1,1,2,1,1,1,1,1,1,1,1,1,1,1,1,1,1,1,1,1,1,1,1,1,1,1,1,1,1,1,1,1,1,1,1,2,2,1,1,2,1,1,1,1,3,1,1,1,1,1,1,1,1,1,3,4,1,1,1,1,1,1,1,1,1,2,1,1,1,1,1,1,1,1,1,2,1,1,1,1,1,2,4,1,1,1,1,1,1,1,2,3,1,1,1,1,1,1,1,1,1,1,1,1,1,1,1,1,1,1,1,1,1,1,1,1,2,1,1,2,1,1,1,2,1,1,1,1,1,1,1,1,1,1,1,1,1,1,1,1,1,1,1,1,1,1,1,1,1,1,1,1,1,1,1,1,2,1,1,1,1,1,1,1,1,1,1,1,1,1,1,1,1,1,1,1,1,1,1,1,1,1,1,1,1,1,1,1,1,1,1,1,1,1,1,1,1,1,1,1,1,1,1,1,1,1,1,2,1,1,1,1,1,1,1,3,1,1,1,1,1,1,1,1,1,1,1,1,1,1,1,1,1,1,1,1,1,1,1,1,1,1,1,1,1,2,1,1,1,1,1,1,1,1,1,1,1,1,2,1,1,1,1,1,1,1,1,1,1,1,1,1,5,1,1,1,1,1,1,1,1,1,1,1,2,1,1,1,1,1,1,1,1,1,1,1,1,1,1,1,1,2,1,1,2,1,1,1,1,1,2,1,1,1,1,1,1,1,1,1,1,1,1,1,1,1,1,1,1,1,1,1,1,1,1,1,1,1,1,1,1,1,1,1,1,1,1,3,1,1,1,1,1,1,1,1,1,6,2,1,1,1,1,1,1,2,1,1,1,1,1,1,1,1,1,1,1,1,1,1,2,1,1,1,1,1,1,1,1,1,1,1,1,2,1,3,1,1,1,1,1,1,1,1,1,1,1,1,1,1,1,1,1,1,1,1,1,1,1,1,1,1,1,1,1,1,1,1,1,1,1,1,1,1,2,1,1,1,1,1,1,1,1,1,1,1,2,1,1,1,1,2,1,1,1,1,1,1,1,1,1,1,1,1,1,1,1,1,1,1,1,1,1,1,1,1,1,1,1,1,1,1,1,1,1,1,1,1,1,1,1,1,1,1,3,1,1,1,1,1,1,1,1,1,1,1,2,1,1,1,1,1,1,1,1,1,1,1,3,1,1,1,1,1,2,1,1,1,1,1,1,1,1,1,1,1,1,1,1,1,1,1,1,1,5,1,1,1,1,1,1,2,1,2,1,1,1,1,1,1,1,1,3,1,1,1,1,1,1,1,1,1,1,1,1,1,1,1,1,1,1,1,1,1,1,1,2,1,1,1,1,1,1,1,1,2,1,1,1,1,1,1,1,1,1,1,1,1,2,1,1,1,1,1,1,1,1,1,1,1,1,1,1,1,1,1,1,1,1,1,1,1,1,1,1,1,1,1,1,1,1,1,1,1,1,1,1,1,1,1,1,1,1,1,2,1,1,1,1,1,1,1,1,1,1,1,1,1,1,1,1,1,1,1,1,1,1,1,1,1,1,1,1,1,1,1,1,1,1,1,1,1,1,1,2,1,1,1,1,1,1,2,1,1,1,1,1,1,1,1,1,1,1,1,1,1,1,1,1,2,1,1,1,1,1,1,1,1,1,1,1,1,1,1,1,1,1,1,1,1,1,1,1,1,1,1,1,1,1,1,1,1,1,1,1,1,1,1,1,1,1,1,1,1,1,1,1,1,3,1,1,1,1,1,1,1,1,1,1,1,1,1,1,1,1,1,1,1,1,1,1,1,1,1,1,1,1,1,1,1,1,1,5,1,1,1,1,1,1,1,1,1,1,2,1,1,1,1,1,1,1,1,1,1,1,1,1,3,1,1,1,1,1,1,1,1,1,1,1,1,1,1,1,1,1,1,1,1,1,1,2,1,1,1,1,1,1,1,1,1,1,1,1,1,1,1,1,1,1,1,1,1,1,1,1,1,1,1,1,1,1,1,1,1,1,1,1,1,1,1,1,1,1,1,1,1,1,1,1,1,1,1,1,1,3,1,1,1,1,1,1,1,1,1,1,1,1,1,1,1,1,1,1,1,1,1,1,1,1,1,2,1,1,1,1,1,1,1,1,1,1,2,1,1,1,1,1,2,1,1,1,1,1,1,1,1,1,1,1,1,1,1,1,1,1,1,1,1,1,1,1,3,1,1,1,1,1,1,1,1,1,1,1,1,1,1,1,1,1,1,1,1,1,1,1,1,1,1,2,1,2,1,1,1,2,1,1,1,1,1,1,1,1,1,1,1,1,1,1,1,1,1,1,1,1,1,1,1,1,1,1,1,1,1,1,4,1,1,1,1,1,1,1,2,1,1,1,1,1,1,1,1,1,1,1,1,1,1,1,4,1,2,1,1,1,1,1,1,1,1,2,1,1,1,2,1,1,1,1,1,1,1,1,1,1,1,1,1,1,1,1,1,1,1,1,1,1,1,1,1,1,1,1,1,1,1,1,5,1,1,1,1,1,1,1,1,1,1,1,1,1,1,1,1,1,1,1,1,2,1,1,1,1,6,1,1,1,1,1,1,2,1,1,1,1,1,1,1,1,1,1,1,1,1,1,1,1,1,1,1,1,1,1,1,1,2,1,1,1,1,1,1,1,1,1,1,1,1,1,1,1,1,1,1,1,1,1,2,1,1,1,1,1,1,1,1,1,4,1,1,1,1,1,2,1,1,1,1,1,1,1,1,1,1,1,1,1,1,1,1,1,1,1,1,1,1,1,1,1,1,1,1,1,1,1,1,1,1,1,1,1,1,1,1,2,1,1,1,1,1,1,1,1,1,1,1,2,1,1,1,1,1,1,1,1,1,1,1,1,1,1,1,1,1,1,1,2,1,1,1,1,1,1,1,1,1,1,1,1,1,1,1,2,1,1,1,1,2,1,1,1,1,1,1,1,1,1,1,1,1,1,1,1,1,2,1,1,2,1,1,1,1,1,1,1,1,1,1,1,1,1,2,1,1,2,1,1,1,1,1,1,1,1,1,1,1,1,1,1,1,1,1,1,1,1,1,1,1,1,1,2,1,1,1,1,1,2,1,1,1,1,1,1,1,1,1,1,1,1,1,1,1,2,1,1,1,3,1,1,3,2,1,1,1,2,1,1,2,1,1,1,1,2,1,1,1,1,2,1,2,1,1,1,1,1,1,1,1,1,1,1,1,1,1,1,1,1,1,1,1,1,1,1,1,3,1,1,1,1,1,1,1,1,1,1,1,2,1,1,2,1,1,1,1,1,1,1,1,1,1,1,1,1,2,1,1,1,1,1,1,1,1,1,1,1,1,1,1,1,1,2,1,1,1,1,2,1,1,1,1,1,1,1,1,1,1,1,1,1,1,1,1,1,1,1,1,1,1,1,1,1,1,1,1,4,1,1,1,1,1,1,1,1,1,1,1,1,1,1,1,1,1,1,1,1,1,1,1,1,1,1,1,1,1,1,1,1,1,1,1,2,1,1,1,1,2,1,1,1,1,2,1,1,1,1,2,1,1,1,1,1,1,1,1,2,1,1,1,1,1,1,1,1,1,1,1,1,1,1,1,1,1,1,1,1,1,2,1,1,1,1,1,1,1,1,1,1,1,1,1,1,1,1,1,1,1,1,1,1,1,1,2,1,1,1,1,1,1,1,1,1,1,1,1,1,1,1,1,1,4,1,1,1,3,1,2,1,1,2,1,1,1,1,1,1,1,1,1,1,1,1,1,1,1,1,1,1,1,1,1,1,1,1,2,1,1,1,3,1,1,1,1,1,1,1,1,1,1,1,1,1,1,2,1,1,1,1,1,1,1,2,1,1,1,6,3,1,1,1,1,1,1,1,1,1,1,1,1,1,1,1,1,1,1,3,1,1,1,1,1,1,1,1,1,1,1,1,1,1,1,1,1,1,1,1,1,1,1,1,1,1,1,1,2,1,1,1,1,1,1,1,1,1,1,1,1,1,1,1,2,1,1,1,1,1,1,1,1,1,1,1,1,1,1,1,1,1,1,1,1,1,1,1,1,1,1,1,1,1,1,1,1,4,1,2,1,1,1,1,1,1,3,1,1,1,1,1,1,1,1,1,1,1,1,1,1,1,1,1,1,1,1,1,1,2,1,1,1,1,1,1,1,2,1,2,1,1,1,1,1,1,1,1,1,1,1,1,1,1,1,1,1,1,1,1,1,1,1,1,1,1,1,1,1,1,1,1,1,1,1,1,1,1,1,1,1,1,1,1,1,1,1,1,1,1,1,1,1,1,1,1,1,1,1,1,1,1,1,1,1,1,1,1,1,1,1,1,1,1,1,1,1,1,1,1,1,1,3,1,1,1,1,1,1,1,1,1,1,1,1,1,1,1,1,1,1,1,1,1,1,1,1,1,1,1,1,1,1,1,1,1,1,1,1,1,1,1,1,1,1,1,1,1,1,1,1,1,1,1,2,1,1,1,1,1,1,1,1,1,1,2,1,1,1,1,2,1,1,1,1,1,1,2,1,1,1,1,1,1,1,1,1,1,1,1,1,1,1,2,1,1,1,1,1,1,1,1,1,1,1,1,1,1,2,1,1,1,1,1,1,1,1,1,1,1,1,1,2,1,1,1,1,1,1,2,1,1,1,1,1,1,1,1,1,1,1,1,1,1,1,1,1,1,1,1,1,1,1,1,1,1,3,1,1,1,1,1,1,1,1,1,1,1,1,1,1,1,1,1,1,1,2,1,1,1,1,1,1,3,1,1,1,1,4,1,1,1,1,1,1,1,1,1,1,1,1,1,1,1,1,1,1,1,1,1,1,1,1,1,1,1,4,1,1,1,1,1,1,1,1,1,1,1,1,1,1,1,1,1,1,2,1,1,1,1,1,1,1,1,1,1,1,1,1,1,1,2,1,1,1,1,1,2,1,1,1,1,1,1,1,1,1,1,1,1,1,1,1,1,1,2,1,1,1,1,2,2,1,1,1,1,1,2,1,3,1,1,1,2,1,1,1,1,1,1,1,1,2,1,1,1,1,1,1,1,1,1,1,3,1,2,2,1,1,2,1,1,1,1,1,1,1,1,1,1,1,1,1,3,1,3,2,1,1,1,2,1,1,1,1,1,1,3,1,1,1,1,1,1,1,1,1,1,1,1,1,1,1,1,1,4,1,1,1,1,1,1,1,1,1,1,1,1,1,1,1,1,1,1,1,1,1,2,1,1,2,1,1,1,1,1,1,1,1,1,1,1,1,1,1,1,1,1,1,1,1,1,1,1,1,1,1,1,1,3,1,1,1,1,1,1,1,1,1,1,1,1,1,1,1,1,1,1,1,1,1,1,1,1,1,1,1,1,1,1,1,2,1,1,1,1,1,1,1,1,1,1,3,1,1,1,1,1,1,1,1,1,1,2,2,1,1,1,1,1,1,1,1,1,1,1,1,1,1,1,1,1,1,2,1,1,1,1,1,1,1,1,1,1,1,1,1,1,1,1,1,1,1,1,1,1,1,1,2,1,1,1,1,1,1,2,1,1,1,1,1,1,1,1,1,1,1,4,1,1,1,1,1,1,1,2,1,1,1,1,1,1,1,1,1,1,1,1,1,1,1,1,1,1,1,1,1,1,1,1,1,1,1,1,1,1,1,1,1,1,1,1,1,1,1,1,1,1,1,1,1,1,1,1,1,2,1,1,1,1,1,1,1,2,1,3,1,1,2,1,2,1,1,1,1,1,1,1,1,1,1,2,1,1,1,1,1,1,1,1,1,1,1,1,1,1,1,1,1,1,1,1,1,1,1,1,2,1,1,4,1,1,1,1,1,1,1,1,1,1,1,1,1,1,1,1,1,1,1,1,1,1,1,1,1,1,1,1,1,1,1,1,1,2,1,1,1,1,1,1,2,1,1,1,1,1,1,1,3,1,1,1,1,1,1,1,1,1,1,1,1,1,1,1,1,1,1,1,1,1,1,1,1,3,1,1,1,1,1,1,1,1,1,1,2,1,1,1,1,1,1,1,1,2,1,1,1,1,1,1,1,1,1,2,1,1,1,1,1,1,1,1,2,1,1,1,1,1,1],\"type\":\"histogram\"}],                        {\"barmode\":\"overlay\",\"template\":{\"data\":{\"barpolar\":[{\"marker\":{\"line\":{\"color\":\"#E5ECF6\",\"width\":0.5},\"pattern\":{\"fillmode\":\"overlay\",\"size\":10,\"solidity\":0.2}},\"type\":\"barpolar\"}],\"bar\":[{\"error_x\":{\"color\":\"#2a3f5f\"},\"error_y\":{\"color\":\"#2a3f5f\"},\"marker\":{\"line\":{\"color\":\"#E5ECF6\",\"width\":0.5},\"pattern\":{\"fillmode\":\"overlay\",\"size\":10,\"solidity\":0.2}},\"type\":\"bar\"}],\"carpet\":[{\"aaxis\":{\"endlinecolor\":\"#2a3f5f\",\"gridcolor\":\"white\",\"linecolor\":\"white\",\"minorgridcolor\":\"white\",\"startlinecolor\":\"#2a3f5f\"},\"baxis\":{\"endlinecolor\":\"#2a3f5f\",\"gridcolor\":\"white\",\"linecolor\":\"white\",\"minorgridcolor\":\"white\",\"startlinecolor\":\"#2a3f5f\"},\"type\":\"carpet\"}],\"choropleth\":[{\"colorbar\":{\"outlinewidth\":0,\"ticks\":\"\"},\"type\":\"choropleth\"}],\"contourcarpet\":[{\"colorbar\":{\"outlinewidth\":0,\"ticks\":\"\"},\"type\":\"contourcarpet\"}],\"contour\":[{\"colorbar\":{\"outlinewidth\":0,\"ticks\":\"\"},\"colorscale\":[[0.0,\"#0d0887\"],[0.1111111111111111,\"#46039f\"],[0.2222222222222222,\"#7201a8\"],[0.3333333333333333,\"#9c179e\"],[0.4444444444444444,\"#bd3786\"],[0.5555555555555556,\"#d8576b\"],[0.6666666666666666,\"#ed7953\"],[0.7777777777777778,\"#fb9f3a\"],[0.8888888888888888,\"#fdca26\"],[1.0,\"#f0f921\"]],\"type\":\"contour\"}],\"heatmapgl\":[{\"colorbar\":{\"outlinewidth\":0,\"ticks\":\"\"},\"colorscale\":[[0.0,\"#0d0887\"],[0.1111111111111111,\"#46039f\"],[0.2222222222222222,\"#7201a8\"],[0.3333333333333333,\"#9c179e\"],[0.4444444444444444,\"#bd3786\"],[0.5555555555555556,\"#d8576b\"],[0.6666666666666666,\"#ed7953\"],[0.7777777777777778,\"#fb9f3a\"],[0.8888888888888888,\"#fdca26\"],[1.0,\"#f0f921\"]],\"type\":\"heatmapgl\"}],\"heatmap\":[{\"colorbar\":{\"outlinewidth\":0,\"ticks\":\"\"},\"colorscale\":[[0.0,\"#0d0887\"],[0.1111111111111111,\"#46039f\"],[0.2222222222222222,\"#7201a8\"],[0.3333333333333333,\"#9c179e\"],[0.4444444444444444,\"#bd3786\"],[0.5555555555555556,\"#d8576b\"],[0.6666666666666666,\"#ed7953\"],[0.7777777777777778,\"#fb9f3a\"],[0.8888888888888888,\"#fdca26\"],[1.0,\"#f0f921\"]],\"type\":\"heatmap\"}],\"histogram2dcontour\":[{\"colorbar\":{\"outlinewidth\":0,\"ticks\":\"\"},\"colorscale\":[[0.0,\"#0d0887\"],[0.1111111111111111,\"#46039f\"],[0.2222222222222222,\"#7201a8\"],[0.3333333333333333,\"#9c179e\"],[0.4444444444444444,\"#bd3786\"],[0.5555555555555556,\"#d8576b\"],[0.6666666666666666,\"#ed7953\"],[0.7777777777777778,\"#fb9f3a\"],[0.8888888888888888,\"#fdca26\"],[1.0,\"#f0f921\"]],\"type\":\"histogram2dcontour\"}],\"histogram2d\":[{\"colorbar\":{\"outlinewidth\":0,\"ticks\":\"\"},\"colorscale\":[[0.0,\"#0d0887\"],[0.1111111111111111,\"#46039f\"],[0.2222222222222222,\"#7201a8\"],[0.3333333333333333,\"#9c179e\"],[0.4444444444444444,\"#bd3786\"],[0.5555555555555556,\"#d8576b\"],[0.6666666666666666,\"#ed7953\"],[0.7777777777777778,\"#fb9f3a\"],[0.8888888888888888,\"#fdca26\"],[1.0,\"#f0f921\"]],\"type\":\"histogram2d\"}],\"histogram\":[{\"marker\":{\"pattern\":{\"fillmode\":\"overlay\",\"size\":10,\"solidity\":0.2}},\"type\":\"histogram\"}],\"mesh3d\":[{\"colorbar\":{\"outlinewidth\":0,\"ticks\":\"\"},\"type\":\"mesh3d\"}],\"parcoords\":[{\"line\":{\"colorbar\":{\"outlinewidth\":0,\"ticks\":\"\"}},\"type\":\"parcoords\"}],\"pie\":[{\"automargin\":true,\"type\":\"pie\"}],\"scatter3d\":[{\"line\":{\"colorbar\":{\"outlinewidth\":0,\"ticks\":\"\"}},\"marker\":{\"colorbar\":{\"outlinewidth\":0,\"ticks\":\"\"}},\"type\":\"scatter3d\"}],\"scattercarpet\":[{\"marker\":{\"colorbar\":{\"outlinewidth\":0,\"ticks\":\"\"}},\"type\":\"scattercarpet\"}],\"scattergeo\":[{\"marker\":{\"colorbar\":{\"outlinewidth\":0,\"ticks\":\"\"}},\"type\":\"scattergeo\"}],\"scattergl\":[{\"marker\":{\"colorbar\":{\"outlinewidth\":0,\"ticks\":\"\"}},\"type\":\"scattergl\"}],\"scattermapbox\":[{\"marker\":{\"colorbar\":{\"outlinewidth\":0,\"ticks\":\"\"}},\"type\":\"scattermapbox\"}],\"scatterpolargl\":[{\"marker\":{\"colorbar\":{\"outlinewidth\":0,\"ticks\":\"\"}},\"type\":\"scatterpolargl\"}],\"scatterpolar\":[{\"marker\":{\"colorbar\":{\"outlinewidth\":0,\"ticks\":\"\"}},\"type\":\"scatterpolar\"}],\"scatter\":[{\"fillpattern\":{\"fillmode\":\"overlay\",\"size\":10,\"solidity\":0.2},\"type\":\"scatter\"}],\"scatterternary\":[{\"marker\":{\"colorbar\":{\"outlinewidth\":0,\"ticks\":\"\"}},\"type\":\"scatterternary\"}],\"surface\":[{\"colorbar\":{\"outlinewidth\":0,\"ticks\":\"\"},\"colorscale\":[[0.0,\"#0d0887\"],[0.1111111111111111,\"#46039f\"],[0.2222222222222222,\"#7201a8\"],[0.3333333333333333,\"#9c179e\"],[0.4444444444444444,\"#bd3786\"],[0.5555555555555556,\"#d8576b\"],[0.6666666666666666,\"#ed7953\"],[0.7777777777777778,\"#fb9f3a\"],[0.8888888888888888,\"#fdca26\"],[1.0,\"#f0f921\"]],\"type\":\"surface\"}],\"table\":[{\"cells\":{\"fill\":{\"color\":\"#EBF0F8\"},\"line\":{\"color\":\"white\"}},\"header\":{\"fill\":{\"color\":\"#C8D4E3\"},\"line\":{\"color\":\"white\"}},\"type\":\"table\"}]},\"layout\":{\"annotationdefaults\":{\"arrowcolor\":\"#2a3f5f\",\"arrowhead\":0,\"arrowwidth\":1},\"autotypenumbers\":\"strict\",\"coloraxis\":{\"colorbar\":{\"outlinewidth\":0,\"ticks\":\"\"}},\"colorscale\":{\"diverging\":[[0,\"#8e0152\"],[0.1,\"#c51b7d\"],[0.2,\"#de77ae\"],[0.3,\"#f1b6da\"],[0.4,\"#fde0ef\"],[0.5,\"#f7f7f7\"],[0.6,\"#e6f5d0\"],[0.7,\"#b8e186\"],[0.8,\"#7fbc41\"],[0.9,\"#4d9221\"],[1,\"#276419\"]],\"sequential\":[[0.0,\"#0d0887\"],[0.1111111111111111,\"#46039f\"],[0.2222222222222222,\"#7201a8\"],[0.3333333333333333,\"#9c179e\"],[0.4444444444444444,\"#bd3786\"],[0.5555555555555556,\"#d8576b\"],[0.6666666666666666,\"#ed7953\"],[0.7777777777777778,\"#fb9f3a\"],[0.8888888888888888,\"#fdca26\"],[1.0,\"#f0f921\"]],\"sequentialminus\":[[0.0,\"#0d0887\"],[0.1111111111111111,\"#46039f\"],[0.2222222222222222,\"#7201a8\"],[0.3333333333333333,\"#9c179e\"],[0.4444444444444444,\"#bd3786\"],[0.5555555555555556,\"#d8576b\"],[0.6666666666666666,\"#ed7953\"],[0.7777777777777778,\"#fb9f3a\"],[0.8888888888888888,\"#fdca26\"],[1.0,\"#f0f921\"]]},\"colorway\":[\"#636efa\",\"#EF553B\",\"#00cc96\",\"#ab63fa\",\"#FFA15A\",\"#19d3f3\",\"#FF6692\",\"#B6E880\",\"#FF97FF\",\"#FECB52\"],\"font\":{\"color\":\"#2a3f5f\"},\"geo\":{\"bgcolor\":\"white\",\"lakecolor\":\"white\",\"landcolor\":\"#E5ECF6\",\"showlakes\":true,\"showland\":true,\"subunitcolor\":\"white\"},\"hoverlabel\":{\"align\":\"left\"},\"hovermode\":\"closest\",\"mapbox\":{\"style\":\"light\"},\"paper_bgcolor\":\"white\",\"plot_bgcolor\":\"#E5ECF6\",\"polar\":{\"angularaxis\":{\"gridcolor\":\"white\",\"linecolor\":\"white\",\"ticks\":\"\"},\"bgcolor\":\"#E5ECF6\",\"radialaxis\":{\"gridcolor\":\"white\",\"linecolor\":\"white\",\"ticks\":\"\"}},\"scene\":{\"xaxis\":{\"backgroundcolor\":\"#E5ECF6\",\"gridcolor\":\"white\",\"gridwidth\":2,\"linecolor\":\"white\",\"showbackground\":true,\"ticks\":\"\",\"zerolinecolor\":\"white\"},\"yaxis\":{\"backgroundcolor\":\"#E5ECF6\",\"gridcolor\":\"white\",\"gridwidth\":2,\"linecolor\":\"white\",\"showbackground\":true,\"ticks\":\"\",\"zerolinecolor\":\"white\"},\"zaxis\":{\"backgroundcolor\":\"#E5ECF6\",\"gridcolor\":\"white\",\"gridwidth\":2,\"linecolor\":\"white\",\"showbackground\":true,\"ticks\":\"\",\"zerolinecolor\":\"white\"}},\"shapedefaults\":{\"line\":{\"color\":\"#2a3f5f\"}},\"ternary\":{\"aaxis\":{\"gridcolor\":\"white\",\"linecolor\":\"white\",\"ticks\":\"\"},\"baxis\":{\"gridcolor\":\"white\",\"linecolor\":\"white\",\"ticks\":\"\"},\"bgcolor\":\"#E5ECF6\",\"caxis\":{\"gridcolor\":\"white\",\"linecolor\":\"white\",\"ticks\":\"\"}},\"title\":{\"x\":0.05},\"xaxis\":{\"automargin\":true,\"gridcolor\":\"white\",\"linecolor\":\"white\",\"ticks\":\"\",\"title\":{\"standoff\":15},\"zerolinecolor\":\"white\",\"zerolinewidth\":2},\"yaxis\":{\"automargin\":true,\"gridcolor\":\"white\",\"linecolor\":\"white\",\"ticks\":\"\",\"title\":{\"standoff\":15},\"zerolinecolor\":\"white\",\"zerolinewidth\":2}}},\"title\":{\"text\":\"Quantidade de itens e Vendedores por pedido\"}},                        {\"responsive\": true}                    ).then(function(){\n",
              "                            \n",
              "var gd = document.getElementById('c0627fe6-bff8-4928-9a74-1e2dba04d668');\n",
              "var x = new MutationObserver(function (mutations, observer) {{\n",
              "        var display = window.getComputedStyle(gd).display;\n",
              "        if (!display || display === 'none') {{\n",
              "            console.log([gd, 'removed!']);\n",
              "            Plotly.purge(gd);\n",
              "            observer.disconnect();\n",
              "        }}\n",
              "}});\n",
              "\n",
              "// Listen for the removal of the full notebook cells\n",
              "var notebookContainer = gd.closest('#notebook-container');\n",
              "if (notebookContainer) {{\n",
              "    x.observe(notebookContainer, {childList: true});\n",
              "}}\n",
              "\n",
              "// Listen for the clearing of the current output cell\n",
              "var outputEl = gd.closest('.output');\n",
              "if (outputEl) {{\n",
              "    x.observe(outputEl, {childList: true});\n",
              "}}\n",
              "\n",
              "                        })                };                            </script>        </div>\n",
              "</body>\n",
              "</html>"
            ]
          },
          "metadata": {}
        }
      ]
    },
    {
      "cell_type": "code",
      "source": [
        "df.order_status.value_counts()"
      ],
      "metadata": {
        "colab": {
          "base_uri": "https://localhost:8080/"
        },
        "id": "t1-9ehUNu3zP",
        "outputId": "3e9ba8ac-3d03-4965-ac78-e6b14bf32f84"
      },
      "execution_count": 419,
      "outputs": [
        {
          "output_type": "execute_result",
          "data": {
            "text/plain": [
              "delivered     3467\n",
              "shipped         48\n",
              "canceled        25\n",
              "invoiced        24\n",
              "processing      20\n",
              "Name: order_status, dtype: int64"
            ]
          },
          "metadata": {},
          "execution_count": 419
        }
      ]
    },
    {
      "cell_type": "code",
      "source": [
        "df.order_status.value_counts()"
      ],
      "metadata": {
        "colab": {
          "base_uri": "https://localhost:8080/"
        },
        "id": "OZlaZi9pu_LZ",
        "outputId": "826a6b57-9914-4115-b1e6-1f5d145d722b"
      },
      "execution_count": 420,
      "outputs": [
        {
          "output_type": "execute_result",
          "data": {
            "text/plain": [
              "delivered     3467\n",
              "shipped         48\n",
              "canceled        25\n",
              "invoiced        24\n",
              "processing      20\n",
              "Name: order_status, dtype: int64"
            ]
          },
          "metadata": {},
          "execution_count": 420
        }
      ]
    },
    {
      "cell_type": "code",
      "source": [
        "classes_mais_votadas = df.groupby(by = \"most_voted_class\").id.count()"
      ],
      "metadata": {
        "id": "jackDp9FvJ6y"
      },
      "execution_count": 421,
      "outputs": []
    },
    {
      "cell_type": "code",
      "source": [
        "classes_mais_votadas = df.most_voted_class.value_counts()"
      ],
      "metadata": {
        "id": "Phvrgx4hvho0"
      },
      "execution_count": 422,
      "outputs": []
    },
    {
      "cell_type": "code",
      "source": [
        "trace = go.Pie(labels = classes_mais_votadas.index,\n",
        "               values = classes_mais_votadas.values)"
      ],
      "metadata": {
        "id": "cU992jYWvqGh"
      },
      "execution_count": 423,
      "outputs": []
    },
    {
      "cell_type": "code",
      "source": [
        "data = [trace]"
      ],
      "metadata": {
        "id": "kkgs1RrSv29p"
      },
      "execution_count": 424,
      "outputs": []
    },
    {
      "cell_type": "code",
      "source": [
        "layout = go.Layout(title = \"Classificação de Clientes sobre Pedidos\")"
      ],
      "metadata": {
        "id": "0smWGrUiv6TF"
      },
      "execution_count": 425,
      "outputs": []
    },
    {
      "cell_type": "code",
      "source": [
        "fig = go.Figure(data = data, layout = layout)"
      ],
      "metadata": {
        "id": "TkMSCuC2wEFH"
      },
      "execution_count": 426,
      "outputs": []
    },
    {
      "cell_type": "code",
      "source": [
        "py.iplot(fig)"
      ],
      "metadata": {
        "colab": {
          "base_uri": "https://localhost:8080/",
          "height": 542
        },
        "id": "82B-OTz7wLN4",
        "outputId": "5d040cbc-8d4e-42ec-c6fb-c2ed2c5c74d7"
      },
      "execution_count": 427,
      "outputs": [
        {
          "output_type": "display_data",
          "data": {
            "text/html": [
              "<html>\n",
              "<head><meta charset=\"utf-8\" /></head>\n",
              "<body>\n",
              "    <div>            <script src=\"https://cdnjs.cloudflare.com/ajax/libs/mathjax/2.7.5/MathJax.js?config=TeX-AMS-MML_SVG\"></script><script type=\"text/javascript\">if (window.MathJax && window.MathJax.Hub && window.MathJax.Hub.Config) {window.MathJax.Hub.Config({SVG: {font: \"STIX-Web\"}});}</script>                <script type=\"text/javascript\">window.PlotlyConfig = {MathJaxConfig: 'local'};</script>\n",
              "        <script charset=\"utf-8\" src=\"https://cdn.plot.ly/plotly-2.24.1.min.js\"></script>                <div id=\"0e85c191-0e29-404f-81cb-619b6a40eacf\" class=\"plotly-graph-div\" style=\"height:525px; width:100%;\"></div>            <script type=\"text/javascript\">                                    window.PLOTLYENV=window.PLOTLYENV || {};                                    if (document.getElementById(\"0e85c191-0e29-404f-81cb-619b6a40eacf\")) {                    Plotly.newPlot(                        \"0e85c191-0e29-404f-81cb-619b6a40eacf\",                        [{\"labels\":[\"satisfeito_com_pedido\",\"problemas_de_entrega\",\"problemas_de_qualidade\"],\"values\":[1983,950,480],\"type\":\"pie\"}],                        {\"template\":{\"data\":{\"barpolar\":[{\"marker\":{\"line\":{\"color\":\"#E5ECF6\",\"width\":0.5},\"pattern\":{\"fillmode\":\"overlay\",\"size\":10,\"solidity\":0.2}},\"type\":\"barpolar\"}],\"bar\":[{\"error_x\":{\"color\":\"#2a3f5f\"},\"error_y\":{\"color\":\"#2a3f5f\"},\"marker\":{\"line\":{\"color\":\"#E5ECF6\",\"width\":0.5},\"pattern\":{\"fillmode\":\"overlay\",\"size\":10,\"solidity\":0.2}},\"type\":\"bar\"}],\"carpet\":[{\"aaxis\":{\"endlinecolor\":\"#2a3f5f\",\"gridcolor\":\"white\",\"linecolor\":\"white\",\"minorgridcolor\":\"white\",\"startlinecolor\":\"#2a3f5f\"},\"baxis\":{\"endlinecolor\":\"#2a3f5f\",\"gridcolor\":\"white\",\"linecolor\":\"white\",\"minorgridcolor\":\"white\",\"startlinecolor\":\"#2a3f5f\"},\"type\":\"carpet\"}],\"choropleth\":[{\"colorbar\":{\"outlinewidth\":0,\"ticks\":\"\"},\"type\":\"choropleth\"}],\"contourcarpet\":[{\"colorbar\":{\"outlinewidth\":0,\"ticks\":\"\"},\"type\":\"contourcarpet\"}],\"contour\":[{\"colorbar\":{\"outlinewidth\":0,\"ticks\":\"\"},\"colorscale\":[[0.0,\"#0d0887\"],[0.1111111111111111,\"#46039f\"],[0.2222222222222222,\"#7201a8\"],[0.3333333333333333,\"#9c179e\"],[0.4444444444444444,\"#bd3786\"],[0.5555555555555556,\"#d8576b\"],[0.6666666666666666,\"#ed7953\"],[0.7777777777777778,\"#fb9f3a\"],[0.8888888888888888,\"#fdca26\"],[1.0,\"#f0f921\"]],\"type\":\"contour\"}],\"heatmapgl\":[{\"colorbar\":{\"outlinewidth\":0,\"ticks\":\"\"},\"colorscale\":[[0.0,\"#0d0887\"],[0.1111111111111111,\"#46039f\"],[0.2222222222222222,\"#7201a8\"],[0.3333333333333333,\"#9c179e\"],[0.4444444444444444,\"#bd3786\"],[0.5555555555555556,\"#d8576b\"],[0.6666666666666666,\"#ed7953\"],[0.7777777777777778,\"#fb9f3a\"],[0.8888888888888888,\"#fdca26\"],[1.0,\"#f0f921\"]],\"type\":\"heatmapgl\"}],\"heatmap\":[{\"colorbar\":{\"outlinewidth\":0,\"ticks\":\"\"},\"colorscale\":[[0.0,\"#0d0887\"],[0.1111111111111111,\"#46039f\"],[0.2222222222222222,\"#7201a8\"],[0.3333333333333333,\"#9c179e\"],[0.4444444444444444,\"#bd3786\"],[0.5555555555555556,\"#d8576b\"],[0.6666666666666666,\"#ed7953\"],[0.7777777777777778,\"#fb9f3a\"],[0.8888888888888888,\"#fdca26\"],[1.0,\"#f0f921\"]],\"type\":\"heatmap\"}],\"histogram2dcontour\":[{\"colorbar\":{\"outlinewidth\":0,\"ticks\":\"\"},\"colorscale\":[[0.0,\"#0d0887\"],[0.1111111111111111,\"#46039f\"],[0.2222222222222222,\"#7201a8\"],[0.3333333333333333,\"#9c179e\"],[0.4444444444444444,\"#bd3786\"],[0.5555555555555556,\"#d8576b\"],[0.6666666666666666,\"#ed7953\"],[0.7777777777777778,\"#fb9f3a\"],[0.8888888888888888,\"#fdca26\"],[1.0,\"#f0f921\"]],\"type\":\"histogram2dcontour\"}],\"histogram2d\":[{\"colorbar\":{\"outlinewidth\":0,\"ticks\":\"\"},\"colorscale\":[[0.0,\"#0d0887\"],[0.1111111111111111,\"#46039f\"],[0.2222222222222222,\"#7201a8\"],[0.3333333333333333,\"#9c179e\"],[0.4444444444444444,\"#bd3786\"],[0.5555555555555556,\"#d8576b\"],[0.6666666666666666,\"#ed7953\"],[0.7777777777777778,\"#fb9f3a\"],[0.8888888888888888,\"#fdca26\"],[1.0,\"#f0f921\"]],\"type\":\"histogram2d\"}],\"histogram\":[{\"marker\":{\"pattern\":{\"fillmode\":\"overlay\",\"size\":10,\"solidity\":0.2}},\"type\":\"histogram\"}],\"mesh3d\":[{\"colorbar\":{\"outlinewidth\":0,\"ticks\":\"\"},\"type\":\"mesh3d\"}],\"parcoords\":[{\"line\":{\"colorbar\":{\"outlinewidth\":0,\"ticks\":\"\"}},\"type\":\"parcoords\"}],\"pie\":[{\"automargin\":true,\"type\":\"pie\"}],\"scatter3d\":[{\"line\":{\"colorbar\":{\"outlinewidth\":0,\"ticks\":\"\"}},\"marker\":{\"colorbar\":{\"outlinewidth\":0,\"ticks\":\"\"}},\"type\":\"scatter3d\"}],\"scattercarpet\":[{\"marker\":{\"colorbar\":{\"outlinewidth\":0,\"ticks\":\"\"}},\"type\":\"scattercarpet\"}],\"scattergeo\":[{\"marker\":{\"colorbar\":{\"outlinewidth\":0,\"ticks\":\"\"}},\"type\":\"scattergeo\"}],\"scattergl\":[{\"marker\":{\"colorbar\":{\"outlinewidth\":0,\"ticks\":\"\"}},\"type\":\"scattergl\"}],\"scattermapbox\":[{\"marker\":{\"colorbar\":{\"outlinewidth\":0,\"ticks\":\"\"}},\"type\":\"scattermapbox\"}],\"scatterpolargl\":[{\"marker\":{\"colorbar\":{\"outlinewidth\":0,\"ticks\":\"\"}},\"type\":\"scatterpolargl\"}],\"scatterpolar\":[{\"marker\":{\"colorbar\":{\"outlinewidth\":0,\"ticks\":\"\"}},\"type\":\"scatterpolar\"}],\"scatter\":[{\"fillpattern\":{\"fillmode\":\"overlay\",\"size\":10,\"solidity\":0.2},\"type\":\"scatter\"}],\"scatterternary\":[{\"marker\":{\"colorbar\":{\"outlinewidth\":0,\"ticks\":\"\"}},\"type\":\"scatterternary\"}],\"surface\":[{\"colorbar\":{\"outlinewidth\":0,\"ticks\":\"\"},\"colorscale\":[[0.0,\"#0d0887\"],[0.1111111111111111,\"#46039f\"],[0.2222222222222222,\"#7201a8\"],[0.3333333333333333,\"#9c179e\"],[0.4444444444444444,\"#bd3786\"],[0.5555555555555556,\"#d8576b\"],[0.6666666666666666,\"#ed7953\"],[0.7777777777777778,\"#fb9f3a\"],[0.8888888888888888,\"#fdca26\"],[1.0,\"#f0f921\"]],\"type\":\"surface\"}],\"table\":[{\"cells\":{\"fill\":{\"color\":\"#EBF0F8\"},\"line\":{\"color\":\"white\"}},\"header\":{\"fill\":{\"color\":\"#C8D4E3\"},\"line\":{\"color\":\"white\"}},\"type\":\"table\"}]},\"layout\":{\"annotationdefaults\":{\"arrowcolor\":\"#2a3f5f\",\"arrowhead\":0,\"arrowwidth\":1},\"autotypenumbers\":\"strict\",\"coloraxis\":{\"colorbar\":{\"outlinewidth\":0,\"ticks\":\"\"}},\"colorscale\":{\"diverging\":[[0,\"#8e0152\"],[0.1,\"#c51b7d\"],[0.2,\"#de77ae\"],[0.3,\"#f1b6da\"],[0.4,\"#fde0ef\"],[0.5,\"#f7f7f7\"],[0.6,\"#e6f5d0\"],[0.7,\"#b8e186\"],[0.8,\"#7fbc41\"],[0.9,\"#4d9221\"],[1,\"#276419\"]],\"sequential\":[[0.0,\"#0d0887\"],[0.1111111111111111,\"#46039f\"],[0.2222222222222222,\"#7201a8\"],[0.3333333333333333,\"#9c179e\"],[0.4444444444444444,\"#bd3786\"],[0.5555555555555556,\"#d8576b\"],[0.6666666666666666,\"#ed7953\"],[0.7777777777777778,\"#fb9f3a\"],[0.8888888888888888,\"#fdca26\"],[1.0,\"#f0f921\"]],\"sequentialminus\":[[0.0,\"#0d0887\"],[0.1111111111111111,\"#46039f\"],[0.2222222222222222,\"#7201a8\"],[0.3333333333333333,\"#9c179e\"],[0.4444444444444444,\"#bd3786\"],[0.5555555555555556,\"#d8576b\"],[0.6666666666666666,\"#ed7953\"],[0.7777777777777778,\"#fb9f3a\"],[0.8888888888888888,\"#fdca26\"],[1.0,\"#f0f921\"]]},\"colorway\":[\"#636efa\",\"#EF553B\",\"#00cc96\",\"#ab63fa\",\"#FFA15A\",\"#19d3f3\",\"#FF6692\",\"#B6E880\",\"#FF97FF\",\"#FECB52\"],\"font\":{\"color\":\"#2a3f5f\"},\"geo\":{\"bgcolor\":\"white\",\"lakecolor\":\"white\",\"landcolor\":\"#E5ECF6\",\"showlakes\":true,\"showland\":true,\"subunitcolor\":\"white\"},\"hoverlabel\":{\"align\":\"left\"},\"hovermode\":\"closest\",\"mapbox\":{\"style\":\"light\"},\"paper_bgcolor\":\"white\",\"plot_bgcolor\":\"#E5ECF6\",\"polar\":{\"angularaxis\":{\"gridcolor\":\"white\",\"linecolor\":\"white\",\"ticks\":\"\"},\"bgcolor\":\"#E5ECF6\",\"radialaxis\":{\"gridcolor\":\"white\",\"linecolor\":\"white\",\"ticks\":\"\"}},\"scene\":{\"xaxis\":{\"backgroundcolor\":\"#E5ECF6\",\"gridcolor\":\"white\",\"gridwidth\":2,\"linecolor\":\"white\",\"showbackground\":true,\"ticks\":\"\",\"zerolinecolor\":\"white\"},\"yaxis\":{\"backgroundcolor\":\"#E5ECF6\",\"gridcolor\":\"white\",\"gridwidth\":2,\"linecolor\":\"white\",\"showbackground\":true,\"ticks\":\"\",\"zerolinecolor\":\"white\"},\"zaxis\":{\"backgroundcolor\":\"#E5ECF6\",\"gridcolor\":\"white\",\"gridwidth\":2,\"linecolor\":\"white\",\"showbackground\":true,\"ticks\":\"\",\"zerolinecolor\":\"white\"}},\"shapedefaults\":{\"line\":{\"color\":\"#2a3f5f\"}},\"ternary\":{\"aaxis\":{\"gridcolor\":\"white\",\"linecolor\":\"white\",\"ticks\":\"\"},\"baxis\":{\"gridcolor\":\"white\",\"linecolor\":\"white\",\"ticks\":\"\"},\"bgcolor\":\"#E5ECF6\",\"caxis\":{\"gridcolor\":\"white\",\"linecolor\":\"white\",\"ticks\":\"\"}},\"title\":{\"x\":0.05},\"xaxis\":{\"automargin\":true,\"gridcolor\":\"white\",\"linecolor\":\"white\",\"ticks\":\"\",\"title\":{\"standoff\":15},\"zerolinecolor\":\"white\",\"zerolinewidth\":2},\"yaxis\":{\"automargin\":true,\"gridcolor\":\"white\",\"linecolor\":\"white\",\"ticks\":\"\",\"title\":{\"standoff\":15},\"zerolinecolor\":\"white\",\"zerolinewidth\":2}}},\"title\":{\"text\":\"Classifica\\u00e7\\u00e3o de Clientes sobre Pedidos\"}},                        {\"responsive\": true}                    ).then(function(){\n",
              "                            \n",
              "var gd = document.getElementById('0e85c191-0e29-404f-81cb-619b6a40eacf');\n",
              "var x = new MutationObserver(function (mutations, observer) {{\n",
              "        var display = window.getComputedStyle(gd).display;\n",
              "        if (!display || display === 'none') {{\n",
              "            console.log([gd, 'removed!']);\n",
              "            Plotly.purge(gd);\n",
              "            observer.disconnect();\n",
              "        }}\n",
              "}});\n",
              "\n",
              "// Listen for the removal of the full notebook cells\n",
              "var notebookContainer = gd.closest('#notebook-container');\n",
              "if (notebookContainer) {{\n",
              "    x.observe(notebookContainer, {childList: true});\n",
              "}}\n",
              "\n",
              "// Listen for the clearing of the current output cell\n",
              "var outputEl = gd.closest('.output');\n",
              "if (outputEl) {{\n",
              "    x.observe(outputEl, {childList: true});\n",
              "}}\n",
              "\n",
              "                        })                };                            </script>        </div>\n",
              "</body>\n",
              "</html>"
            ]
          },
          "metadata": {}
        }
      ]
    },
    {
      "cell_type": "code",
      "source": [
        "trace = go.Pie(labels = classes_mais_votadas.index,\n",
        "               values = classes_mais_votadas.values,\n",
        "               direction = \"clockwise\")"
      ],
      "metadata": {
        "id": "GHHdTOYkxQ-6"
      },
      "execution_count": 428,
      "outputs": []
    },
    {
      "cell_type": "code",
      "source": [
        "data = [trace]"
      ],
      "metadata": {
        "id": "pHMZD8ryy6t4"
      },
      "execution_count": 429,
      "outputs": []
    },
    {
      "cell_type": "code",
      "source": [
        "layout = go.Layout(title = \"Classificação de Clientes sobre Pedidos\")"
      ],
      "metadata": {
        "id": "BbsMfiFNzBmx"
      },
      "execution_count": 430,
      "outputs": []
    },
    {
      "cell_type": "code",
      "source": [
        "fig = go.Figure(data = data, layout = layout)"
      ],
      "metadata": {
        "id": "xrtzXHSLzD1W"
      },
      "execution_count": 431,
      "outputs": []
    },
    {
      "cell_type": "code",
      "source": [
        "py.iplot(fig)"
      ],
      "metadata": {
        "colab": {
          "base_uri": "https://localhost:8080/",
          "height": 542
        },
        "id": "IW7I7BOjy0Z0",
        "outputId": "b0323097-1dfa-4a6b-a0dc-7dabbdb811d8"
      },
      "execution_count": 432,
      "outputs": [
        {
          "output_type": "display_data",
          "data": {
            "text/html": [
              "<html>\n",
              "<head><meta charset=\"utf-8\" /></head>\n",
              "<body>\n",
              "    <div>            <script src=\"https://cdnjs.cloudflare.com/ajax/libs/mathjax/2.7.5/MathJax.js?config=TeX-AMS-MML_SVG\"></script><script type=\"text/javascript\">if (window.MathJax && window.MathJax.Hub && window.MathJax.Hub.Config) {window.MathJax.Hub.Config({SVG: {font: \"STIX-Web\"}});}</script>                <script type=\"text/javascript\">window.PlotlyConfig = {MathJaxConfig: 'local'};</script>\n",
              "        <script charset=\"utf-8\" src=\"https://cdn.plot.ly/plotly-2.24.1.min.js\"></script>                <div id=\"ad6baad4-d3ad-4312-b8b6-6f004bd97c3a\" class=\"plotly-graph-div\" style=\"height:525px; width:100%;\"></div>            <script type=\"text/javascript\">                                    window.PLOTLYENV=window.PLOTLYENV || {};                                    if (document.getElementById(\"ad6baad4-d3ad-4312-b8b6-6f004bd97c3a\")) {                    Plotly.newPlot(                        \"ad6baad4-d3ad-4312-b8b6-6f004bd97c3a\",                        [{\"direction\":\"clockwise\",\"labels\":[\"satisfeito_com_pedido\",\"problemas_de_entrega\",\"problemas_de_qualidade\"],\"values\":[1983,950,480],\"type\":\"pie\"}],                        {\"template\":{\"data\":{\"barpolar\":[{\"marker\":{\"line\":{\"color\":\"#E5ECF6\",\"width\":0.5},\"pattern\":{\"fillmode\":\"overlay\",\"size\":10,\"solidity\":0.2}},\"type\":\"barpolar\"}],\"bar\":[{\"error_x\":{\"color\":\"#2a3f5f\"},\"error_y\":{\"color\":\"#2a3f5f\"},\"marker\":{\"line\":{\"color\":\"#E5ECF6\",\"width\":0.5},\"pattern\":{\"fillmode\":\"overlay\",\"size\":10,\"solidity\":0.2}},\"type\":\"bar\"}],\"carpet\":[{\"aaxis\":{\"endlinecolor\":\"#2a3f5f\",\"gridcolor\":\"white\",\"linecolor\":\"white\",\"minorgridcolor\":\"white\",\"startlinecolor\":\"#2a3f5f\"},\"baxis\":{\"endlinecolor\":\"#2a3f5f\",\"gridcolor\":\"white\",\"linecolor\":\"white\",\"minorgridcolor\":\"white\",\"startlinecolor\":\"#2a3f5f\"},\"type\":\"carpet\"}],\"choropleth\":[{\"colorbar\":{\"outlinewidth\":0,\"ticks\":\"\"},\"type\":\"choropleth\"}],\"contourcarpet\":[{\"colorbar\":{\"outlinewidth\":0,\"ticks\":\"\"},\"type\":\"contourcarpet\"}],\"contour\":[{\"colorbar\":{\"outlinewidth\":0,\"ticks\":\"\"},\"colorscale\":[[0.0,\"#0d0887\"],[0.1111111111111111,\"#46039f\"],[0.2222222222222222,\"#7201a8\"],[0.3333333333333333,\"#9c179e\"],[0.4444444444444444,\"#bd3786\"],[0.5555555555555556,\"#d8576b\"],[0.6666666666666666,\"#ed7953\"],[0.7777777777777778,\"#fb9f3a\"],[0.8888888888888888,\"#fdca26\"],[1.0,\"#f0f921\"]],\"type\":\"contour\"}],\"heatmapgl\":[{\"colorbar\":{\"outlinewidth\":0,\"ticks\":\"\"},\"colorscale\":[[0.0,\"#0d0887\"],[0.1111111111111111,\"#46039f\"],[0.2222222222222222,\"#7201a8\"],[0.3333333333333333,\"#9c179e\"],[0.4444444444444444,\"#bd3786\"],[0.5555555555555556,\"#d8576b\"],[0.6666666666666666,\"#ed7953\"],[0.7777777777777778,\"#fb9f3a\"],[0.8888888888888888,\"#fdca26\"],[1.0,\"#f0f921\"]],\"type\":\"heatmapgl\"}],\"heatmap\":[{\"colorbar\":{\"outlinewidth\":0,\"ticks\":\"\"},\"colorscale\":[[0.0,\"#0d0887\"],[0.1111111111111111,\"#46039f\"],[0.2222222222222222,\"#7201a8\"],[0.3333333333333333,\"#9c179e\"],[0.4444444444444444,\"#bd3786\"],[0.5555555555555556,\"#d8576b\"],[0.6666666666666666,\"#ed7953\"],[0.7777777777777778,\"#fb9f3a\"],[0.8888888888888888,\"#fdca26\"],[1.0,\"#f0f921\"]],\"type\":\"heatmap\"}],\"histogram2dcontour\":[{\"colorbar\":{\"outlinewidth\":0,\"ticks\":\"\"},\"colorscale\":[[0.0,\"#0d0887\"],[0.1111111111111111,\"#46039f\"],[0.2222222222222222,\"#7201a8\"],[0.3333333333333333,\"#9c179e\"],[0.4444444444444444,\"#bd3786\"],[0.5555555555555556,\"#d8576b\"],[0.6666666666666666,\"#ed7953\"],[0.7777777777777778,\"#fb9f3a\"],[0.8888888888888888,\"#fdca26\"],[1.0,\"#f0f921\"]],\"type\":\"histogram2dcontour\"}],\"histogram2d\":[{\"colorbar\":{\"outlinewidth\":0,\"ticks\":\"\"},\"colorscale\":[[0.0,\"#0d0887\"],[0.1111111111111111,\"#46039f\"],[0.2222222222222222,\"#7201a8\"],[0.3333333333333333,\"#9c179e\"],[0.4444444444444444,\"#bd3786\"],[0.5555555555555556,\"#d8576b\"],[0.6666666666666666,\"#ed7953\"],[0.7777777777777778,\"#fb9f3a\"],[0.8888888888888888,\"#fdca26\"],[1.0,\"#f0f921\"]],\"type\":\"histogram2d\"}],\"histogram\":[{\"marker\":{\"pattern\":{\"fillmode\":\"overlay\",\"size\":10,\"solidity\":0.2}},\"type\":\"histogram\"}],\"mesh3d\":[{\"colorbar\":{\"outlinewidth\":0,\"ticks\":\"\"},\"type\":\"mesh3d\"}],\"parcoords\":[{\"line\":{\"colorbar\":{\"outlinewidth\":0,\"ticks\":\"\"}},\"type\":\"parcoords\"}],\"pie\":[{\"automargin\":true,\"type\":\"pie\"}],\"scatter3d\":[{\"line\":{\"colorbar\":{\"outlinewidth\":0,\"ticks\":\"\"}},\"marker\":{\"colorbar\":{\"outlinewidth\":0,\"ticks\":\"\"}},\"type\":\"scatter3d\"}],\"scattercarpet\":[{\"marker\":{\"colorbar\":{\"outlinewidth\":0,\"ticks\":\"\"}},\"type\":\"scattercarpet\"}],\"scattergeo\":[{\"marker\":{\"colorbar\":{\"outlinewidth\":0,\"ticks\":\"\"}},\"type\":\"scattergeo\"}],\"scattergl\":[{\"marker\":{\"colorbar\":{\"outlinewidth\":0,\"ticks\":\"\"}},\"type\":\"scattergl\"}],\"scattermapbox\":[{\"marker\":{\"colorbar\":{\"outlinewidth\":0,\"ticks\":\"\"}},\"type\":\"scattermapbox\"}],\"scatterpolargl\":[{\"marker\":{\"colorbar\":{\"outlinewidth\":0,\"ticks\":\"\"}},\"type\":\"scatterpolargl\"}],\"scatterpolar\":[{\"marker\":{\"colorbar\":{\"outlinewidth\":0,\"ticks\":\"\"}},\"type\":\"scatterpolar\"}],\"scatter\":[{\"fillpattern\":{\"fillmode\":\"overlay\",\"size\":10,\"solidity\":0.2},\"type\":\"scatter\"}],\"scatterternary\":[{\"marker\":{\"colorbar\":{\"outlinewidth\":0,\"ticks\":\"\"}},\"type\":\"scatterternary\"}],\"surface\":[{\"colorbar\":{\"outlinewidth\":0,\"ticks\":\"\"},\"colorscale\":[[0.0,\"#0d0887\"],[0.1111111111111111,\"#46039f\"],[0.2222222222222222,\"#7201a8\"],[0.3333333333333333,\"#9c179e\"],[0.4444444444444444,\"#bd3786\"],[0.5555555555555556,\"#d8576b\"],[0.6666666666666666,\"#ed7953\"],[0.7777777777777778,\"#fb9f3a\"],[0.8888888888888888,\"#fdca26\"],[1.0,\"#f0f921\"]],\"type\":\"surface\"}],\"table\":[{\"cells\":{\"fill\":{\"color\":\"#EBF0F8\"},\"line\":{\"color\":\"white\"}},\"header\":{\"fill\":{\"color\":\"#C8D4E3\"},\"line\":{\"color\":\"white\"}},\"type\":\"table\"}]},\"layout\":{\"annotationdefaults\":{\"arrowcolor\":\"#2a3f5f\",\"arrowhead\":0,\"arrowwidth\":1},\"autotypenumbers\":\"strict\",\"coloraxis\":{\"colorbar\":{\"outlinewidth\":0,\"ticks\":\"\"}},\"colorscale\":{\"diverging\":[[0,\"#8e0152\"],[0.1,\"#c51b7d\"],[0.2,\"#de77ae\"],[0.3,\"#f1b6da\"],[0.4,\"#fde0ef\"],[0.5,\"#f7f7f7\"],[0.6,\"#e6f5d0\"],[0.7,\"#b8e186\"],[0.8,\"#7fbc41\"],[0.9,\"#4d9221\"],[1,\"#276419\"]],\"sequential\":[[0.0,\"#0d0887\"],[0.1111111111111111,\"#46039f\"],[0.2222222222222222,\"#7201a8\"],[0.3333333333333333,\"#9c179e\"],[0.4444444444444444,\"#bd3786\"],[0.5555555555555556,\"#d8576b\"],[0.6666666666666666,\"#ed7953\"],[0.7777777777777778,\"#fb9f3a\"],[0.8888888888888888,\"#fdca26\"],[1.0,\"#f0f921\"]],\"sequentialminus\":[[0.0,\"#0d0887\"],[0.1111111111111111,\"#46039f\"],[0.2222222222222222,\"#7201a8\"],[0.3333333333333333,\"#9c179e\"],[0.4444444444444444,\"#bd3786\"],[0.5555555555555556,\"#d8576b\"],[0.6666666666666666,\"#ed7953\"],[0.7777777777777778,\"#fb9f3a\"],[0.8888888888888888,\"#fdca26\"],[1.0,\"#f0f921\"]]},\"colorway\":[\"#636efa\",\"#EF553B\",\"#00cc96\",\"#ab63fa\",\"#FFA15A\",\"#19d3f3\",\"#FF6692\",\"#B6E880\",\"#FF97FF\",\"#FECB52\"],\"font\":{\"color\":\"#2a3f5f\"},\"geo\":{\"bgcolor\":\"white\",\"lakecolor\":\"white\",\"landcolor\":\"#E5ECF6\",\"showlakes\":true,\"showland\":true,\"subunitcolor\":\"white\"},\"hoverlabel\":{\"align\":\"left\"},\"hovermode\":\"closest\",\"mapbox\":{\"style\":\"light\"},\"paper_bgcolor\":\"white\",\"plot_bgcolor\":\"#E5ECF6\",\"polar\":{\"angularaxis\":{\"gridcolor\":\"white\",\"linecolor\":\"white\",\"ticks\":\"\"},\"bgcolor\":\"#E5ECF6\",\"radialaxis\":{\"gridcolor\":\"white\",\"linecolor\":\"white\",\"ticks\":\"\"}},\"scene\":{\"xaxis\":{\"backgroundcolor\":\"#E5ECF6\",\"gridcolor\":\"white\",\"gridwidth\":2,\"linecolor\":\"white\",\"showbackground\":true,\"ticks\":\"\",\"zerolinecolor\":\"white\"},\"yaxis\":{\"backgroundcolor\":\"#E5ECF6\",\"gridcolor\":\"white\",\"gridwidth\":2,\"linecolor\":\"white\",\"showbackground\":true,\"ticks\":\"\",\"zerolinecolor\":\"white\"},\"zaxis\":{\"backgroundcolor\":\"#E5ECF6\",\"gridcolor\":\"white\",\"gridwidth\":2,\"linecolor\":\"white\",\"showbackground\":true,\"ticks\":\"\",\"zerolinecolor\":\"white\"}},\"shapedefaults\":{\"line\":{\"color\":\"#2a3f5f\"}},\"ternary\":{\"aaxis\":{\"gridcolor\":\"white\",\"linecolor\":\"white\",\"ticks\":\"\"},\"baxis\":{\"gridcolor\":\"white\",\"linecolor\":\"white\",\"ticks\":\"\"},\"bgcolor\":\"#E5ECF6\",\"caxis\":{\"gridcolor\":\"white\",\"linecolor\":\"white\",\"ticks\":\"\"}},\"title\":{\"x\":0.05},\"xaxis\":{\"automargin\":true,\"gridcolor\":\"white\",\"linecolor\":\"white\",\"ticks\":\"\",\"title\":{\"standoff\":15},\"zerolinecolor\":\"white\",\"zerolinewidth\":2},\"yaxis\":{\"automargin\":true,\"gridcolor\":\"white\",\"linecolor\":\"white\",\"ticks\":\"\",\"title\":{\"standoff\":15},\"zerolinecolor\":\"white\",\"zerolinewidth\":2}}},\"title\":{\"text\":\"Classifica\\u00e7\\u00e3o de Clientes sobre Pedidos\"}},                        {\"responsive\": true}                    ).then(function(){\n",
              "                            \n",
              "var gd = document.getElementById('ad6baad4-d3ad-4312-b8b6-6f004bd97c3a');\n",
              "var x = new MutationObserver(function (mutations, observer) {{\n",
              "        var display = window.getComputedStyle(gd).display;\n",
              "        if (!display || display === 'none') {{\n",
              "            console.log([gd, 'removed!']);\n",
              "            Plotly.purge(gd);\n",
              "            observer.disconnect();\n",
              "        }}\n",
              "}});\n",
              "\n",
              "// Listen for the removal of the full notebook cells\n",
              "var notebookContainer = gd.closest('#notebook-container');\n",
              "if (notebookContainer) {{\n",
              "    x.observe(notebookContainer, {childList: true});\n",
              "}}\n",
              "\n",
              "// Listen for the clearing of the current output cell\n",
              "var outputEl = gd.closest('.output');\n",
              "if (outputEl) {{\n",
              "    x.observe(outputEl, {childList: true});\n",
              "}}\n",
              "\n",
              "                        })                };                            </script>        </div>\n",
              "</body>\n",
              "</html>"
            ]
          },
          "metadata": {}
        }
      ]
    },
    {
      "cell_type": "code",
      "source": [
        "cores = [\"#96D38C\", \"#FEBFB3\", \"#E1396C\"]"
      ],
      "metadata": {
        "id": "PzIIR96EzJU6"
      },
      "execution_count": 433,
      "outputs": []
    },
    {
      "cell_type": "code",
      "source": [
        "trace = go.Pie(labels = classes_mais_votadas.index,\n",
        "               values = classes_mais_votadas.values,\n",
        "               marker = {\"colors\" : cores},\n",
        "               direction = \"clockwise\")"
      ],
      "metadata": {
        "id": "z61a2MBNzZK0"
      },
      "execution_count": 434,
      "outputs": []
    },
    {
      "cell_type": "code",
      "source": [
        "data = [trace]"
      ],
      "metadata": {
        "id": "ChNoBH--zxAD"
      },
      "execution_count": 435,
      "outputs": []
    },
    {
      "cell_type": "code",
      "source": [
        "layout = go.Layout(title = \"Classificação de Clientes sobre Pedidos\")"
      ],
      "metadata": {
        "id": "UfLPSUYHz0LR"
      },
      "execution_count": 436,
      "outputs": []
    },
    {
      "cell_type": "code",
      "source": [
        "fig = go.Figure(data = data, layout = layout)"
      ],
      "metadata": {
        "id": "vRGzsHGYz9Q-"
      },
      "execution_count": 437,
      "outputs": []
    },
    {
      "cell_type": "code",
      "source": [
        "py.iplot(fig)"
      ],
      "metadata": {
        "colab": {
          "base_uri": "https://localhost:8080/",
          "height": 542
        },
        "id": "TUKGgpnR0EjK",
        "outputId": "ca865d76-4c50-47f1-808a-2b4a6e0506a0"
      },
      "execution_count": 438,
      "outputs": [
        {
          "output_type": "display_data",
          "data": {
            "text/html": [
              "<html>\n",
              "<head><meta charset=\"utf-8\" /></head>\n",
              "<body>\n",
              "    <div>            <script src=\"https://cdnjs.cloudflare.com/ajax/libs/mathjax/2.7.5/MathJax.js?config=TeX-AMS-MML_SVG\"></script><script type=\"text/javascript\">if (window.MathJax && window.MathJax.Hub && window.MathJax.Hub.Config) {window.MathJax.Hub.Config({SVG: {font: \"STIX-Web\"}});}</script>                <script type=\"text/javascript\">window.PlotlyConfig = {MathJaxConfig: 'local'};</script>\n",
              "        <script charset=\"utf-8\" src=\"https://cdn.plot.ly/plotly-2.24.1.min.js\"></script>                <div id=\"04ec86d5-1cad-4c91-9f2a-903f1aab70fa\" class=\"plotly-graph-div\" style=\"height:525px; width:100%;\"></div>            <script type=\"text/javascript\">                                    window.PLOTLYENV=window.PLOTLYENV || {};                                    if (document.getElementById(\"04ec86d5-1cad-4c91-9f2a-903f1aab70fa\")) {                    Plotly.newPlot(                        \"04ec86d5-1cad-4c91-9f2a-903f1aab70fa\",                        [{\"direction\":\"clockwise\",\"labels\":[\"satisfeito_com_pedido\",\"problemas_de_entrega\",\"problemas_de_qualidade\"],\"marker\":{\"colors\":[\"#96D38C\",\"#FEBFB3\",\"#E1396C\"]},\"values\":[1983,950,480],\"type\":\"pie\"}],                        {\"template\":{\"data\":{\"barpolar\":[{\"marker\":{\"line\":{\"color\":\"#E5ECF6\",\"width\":0.5},\"pattern\":{\"fillmode\":\"overlay\",\"size\":10,\"solidity\":0.2}},\"type\":\"barpolar\"}],\"bar\":[{\"error_x\":{\"color\":\"#2a3f5f\"},\"error_y\":{\"color\":\"#2a3f5f\"},\"marker\":{\"line\":{\"color\":\"#E5ECF6\",\"width\":0.5},\"pattern\":{\"fillmode\":\"overlay\",\"size\":10,\"solidity\":0.2}},\"type\":\"bar\"}],\"carpet\":[{\"aaxis\":{\"endlinecolor\":\"#2a3f5f\",\"gridcolor\":\"white\",\"linecolor\":\"white\",\"minorgridcolor\":\"white\",\"startlinecolor\":\"#2a3f5f\"},\"baxis\":{\"endlinecolor\":\"#2a3f5f\",\"gridcolor\":\"white\",\"linecolor\":\"white\",\"minorgridcolor\":\"white\",\"startlinecolor\":\"#2a3f5f\"},\"type\":\"carpet\"}],\"choropleth\":[{\"colorbar\":{\"outlinewidth\":0,\"ticks\":\"\"},\"type\":\"choropleth\"}],\"contourcarpet\":[{\"colorbar\":{\"outlinewidth\":0,\"ticks\":\"\"},\"type\":\"contourcarpet\"}],\"contour\":[{\"colorbar\":{\"outlinewidth\":0,\"ticks\":\"\"},\"colorscale\":[[0.0,\"#0d0887\"],[0.1111111111111111,\"#46039f\"],[0.2222222222222222,\"#7201a8\"],[0.3333333333333333,\"#9c179e\"],[0.4444444444444444,\"#bd3786\"],[0.5555555555555556,\"#d8576b\"],[0.6666666666666666,\"#ed7953\"],[0.7777777777777778,\"#fb9f3a\"],[0.8888888888888888,\"#fdca26\"],[1.0,\"#f0f921\"]],\"type\":\"contour\"}],\"heatmapgl\":[{\"colorbar\":{\"outlinewidth\":0,\"ticks\":\"\"},\"colorscale\":[[0.0,\"#0d0887\"],[0.1111111111111111,\"#46039f\"],[0.2222222222222222,\"#7201a8\"],[0.3333333333333333,\"#9c179e\"],[0.4444444444444444,\"#bd3786\"],[0.5555555555555556,\"#d8576b\"],[0.6666666666666666,\"#ed7953\"],[0.7777777777777778,\"#fb9f3a\"],[0.8888888888888888,\"#fdca26\"],[1.0,\"#f0f921\"]],\"type\":\"heatmapgl\"}],\"heatmap\":[{\"colorbar\":{\"outlinewidth\":0,\"ticks\":\"\"},\"colorscale\":[[0.0,\"#0d0887\"],[0.1111111111111111,\"#46039f\"],[0.2222222222222222,\"#7201a8\"],[0.3333333333333333,\"#9c179e\"],[0.4444444444444444,\"#bd3786\"],[0.5555555555555556,\"#d8576b\"],[0.6666666666666666,\"#ed7953\"],[0.7777777777777778,\"#fb9f3a\"],[0.8888888888888888,\"#fdca26\"],[1.0,\"#f0f921\"]],\"type\":\"heatmap\"}],\"histogram2dcontour\":[{\"colorbar\":{\"outlinewidth\":0,\"ticks\":\"\"},\"colorscale\":[[0.0,\"#0d0887\"],[0.1111111111111111,\"#46039f\"],[0.2222222222222222,\"#7201a8\"],[0.3333333333333333,\"#9c179e\"],[0.4444444444444444,\"#bd3786\"],[0.5555555555555556,\"#d8576b\"],[0.6666666666666666,\"#ed7953\"],[0.7777777777777778,\"#fb9f3a\"],[0.8888888888888888,\"#fdca26\"],[1.0,\"#f0f921\"]],\"type\":\"histogram2dcontour\"}],\"histogram2d\":[{\"colorbar\":{\"outlinewidth\":0,\"ticks\":\"\"},\"colorscale\":[[0.0,\"#0d0887\"],[0.1111111111111111,\"#46039f\"],[0.2222222222222222,\"#7201a8\"],[0.3333333333333333,\"#9c179e\"],[0.4444444444444444,\"#bd3786\"],[0.5555555555555556,\"#d8576b\"],[0.6666666666666666,\"#ed7953\"],[0.7777777777777778,\"#fb9f3a\"],[0.8888888888888888,\"#fdca26\"],[1.0,\"#f0f921\"]],\"type\":\"histogram2d\"}],\"histogram\":[{\"marker\":{\"pattern\":{\"fillmode\":\"overlay\",\"size\":10,\"solidity\":0.2}},\"type\":\"histogram\"}],\"mesh3d\":[{\"colorbar\":{\"outlinewidth\":0,\"ticks\":\"\"},\"type\":\"mesh3d\"}],\"parcoords\":[{\"line\":{\"colorbar\":{\"outlinewidth\":0,\"ticks\":\"\"}},\"type\":\"parcoords\"}],\"pie\":[{\"automargin\":true,\"type\":\"pie\"}],\"scatter3d\":[{\"line\":{\"colorbar\":{\"outlinewidth\":0,\"ticks\":\"\"}},\"marker\":{\"colorbar\":{\"outlinewidth\":0,\"ticks\":\"\"}},\"type\":\"scatter3d\"}],\"scattercarpet\":[{\"marker\":{\"colorbar\":{\"outlinewidth\":0,\"ticks\":\"\"}},\"type\":\"scattercarpet\"}],\"scattergeo\":[{\"marker\":{\"colorbar\":{\"outlinewidth\":0,\"ticks\":\"\"}},\"type\":\"scattergeo\"}],\"scattergl\":[{\"marker\":{\"colorbar\":{\"outlinewidth\":0,\"ticks\":\"\"}},\"type\":\"scattergl\"}],\"scattermapbox\":[{\"marker\":{\"colorbar\":{\"outlinewidth\":0,\"ticks\":\"\"}},\"type\":\"scattermapbox\"}],\"scatterpolargl\":[{\"marker\":{\"colorbar\":{\"outlinewidth\":0,\"ticks\":\"\"}},\"type\":\"scatterpolargl\"}],\"scatterpolar\":[{\"marker\":{\"colorbar\":{\"outlinewidth\":0,\"ticks\":\"\"}},\"type\":\"scatterpolar\"}],\"scatter\":[{\"fillpattern\":{\"fillmode\":\"overlay\",\"size\":10,\"solidity\":0.2},\"type\":\"scatter\"}],\"scatterternary\":[{\"marker\":{\"colorbar\":{\"outlinewidth\":0,\"ticks\":\"\"}},\"type\":\"scatterternary\"}],\"surface\":[{\"colorbar\":{\"outlinewidth\":0,\"ticks\":\"\"},\"colorscale\":[[0.0,\"#0d0887\"],[0.1111111111111111,\"#46039f\"],[0.2222222222222222,\"#7201a8\"],[0.3333333333333333,\"#9c179e\"],[0.4444444444444444,\"#bd3786\"],[0.5555555555555556,\"#d8576b\"],[0.6666666666666666,\"#ed7953\"],[0.7777777777777778,\"#fb9f3a\"],[0.8888888888888888,\"#fdca26\"],[1.0,\"#f0f921\"]],\"type\":\"surface\"}],\"table\":[{\"cells\":{\"fill\":{\"color\":\"#EBF0F8\"},\"line\":{\"color\":\"white\"}},\"header\":{\"fill\":{\"color\":\"#C8D4E3\"},\"line\":{\"color\":\"white\"}},\"type\":\"table\"}]},\"layout\":{\"annotationdefaults\":{\"arrowcolor\":\"#2a3f5f\",\"arrowhead\":0,\"arrowwidth\":1},\"autotypenumbers\":\"strict\",\"coloraxis\":{\"colorbar\":{\"outlinewidth\":0,\"ticks\":\"\"}},\"colorscale\":{\"diverging\":[[0,\"#8e0152\"],[0.1,\"#c51b7d\"],[0.2,\"#de77ae\"],[0.3,\"#f1b6da\"],[0.4,\"#fde0ef\"],[0.5,\"#f7f7f7\"],[0.6,\"#e6f5d0\"],[0.7,\"#b8e186\"],[0.8,\"#7fbc41\"],[0.9,\"#4d9221\"],[1,\"#276419\"]],\"sequential\":[[0.0,\"#0d0887\"],[0.1111111111111111,\"#46039f\"],[0.2222222222222222,\"#7201a8\"],[0.3333333333333333,\"#9c179e\"],[0.4444444444444444,\"#bd3786\"],[0.5555555555555556,\"#d8576b\"],[0.6666666666666666,\"#ed7953\"],[0.7777777777777778,\"#fb9f3a\"],[0.8888888888888888,\"#fdca26\"],[1.0,\"#f0f921\"]],\"sequentialminus\":[[0.0,\"#0d0887\"],[0.1111111111111111,\"#46039f\"],[0.2222222222222222,\"#7201a8\"],[0.3333333333333333,\"#9c179e\"],[0.4444444444444444,\"#bd3786\"],[0.5555555555555556,\"#d8576b\"],[0.6666666666666666,\"#ed7953\"],[0.7777777777777778,\"#fb9f3a\"],[0.8888888888888888,\"#fdca26\"],[1.0,\"#f0f921\"]]},\"colorway\":[\"#636efa\",\"#EF553B\",\"#00cc96\",\"#ab63fa\",\"#FFA15A\",\"#19d3f3\",\"#FF6692\",\"#B6E880\",\"#FF97FF\",\"#FECB52\"],\"font\":{\"color\":\"#2a3f5f\"},\"geo\":{\"bgcolor\":\"white\",\"lakecolor\":\"white\",\"landcolor\":\"#E5ECF6\",\"showlakes\":true,\"showland\":true,\"subunitcolor\":\"white\"},\"hoverlabel\":{\"align\":\"left\"},\"hovermode\":\"closest\",\"mapbox\":{\"style\":\"light\"},\"paper_bgcolor\":\"white\",\"plot_bgcolor\":\"#E5ECF6\",\"polar\":{\"angularaxis\":{\"gridcolor\":\"white\",\"linecolor\":\"white\",\"ticks\":\"\"},\"bgcolor\":\"#E5ECF6\",\"radialaxis\":{\"gridcolor\":\"white\",\"linecolor\":\"white\",\"ticks\":\"\"}},\"scene\":{\"xaxis\":{\"backgroundcolor\":\"#E5ECF6\",\"gridcolor\":\"white\",\"gridwidth\":2,\"linecolor\":\"white\",\"showbackground\":true,\"ticks\":\"\",\"zerolinecolor\":\"white\"},\"yaxis\":{\"backgroundcolor\":\"#E5ECF6\",\"gridcolor\":\"white\",\"gridwidth\":2,\"linecolor\":\"white\",\"showbackground\":true,\"ticks\":\"\",\"zerolinecolor\":\"white\"},\"zaxis\":{\"backgroundcolor\":\"#E5ECF6\",\"gridcolor\":\"white\",\"gridwidth\":2,\"linecolor\":\"white\",\"showbackground\":true,\"ticks\":\"\",\"zerolinecolor\":\"white\"}},\"shapedefaults\":{\"line\":{\"color\":\"#2a3f5f\"}},\"ternary\":{\"aaxis\":{\"gridcolor\":\"white\",\"linecolor\":\"white\",\"ticks\":\"\"},\"baxis\":{\"gridcolor\":\"white\",\"linecolor\":\"white\",\"ticks\":\"\"},\"bgcolor\":\"#E5ECF6\",\"caxis\":{\"gridcolor\":\"white\",\"linecolor\":\"white\",\"ticks\":\"\"}},\"title\":{\"x\":0.05},\"xaxis\":{\"automargin\":true,\"gridcolor\":\"white\",\"linecolor\":\"white\",\"ticks\":\"\",\"title\":{\"standoff\":15},\"zerolinecolor\":\"white\",\"zerolinewidth\":2},\"yaxis\":{\"automargin\":true,\"gridcolor\":\"white\",\"linecolor\":\"white\",\"ticks\":\"\",\"title\":{\"standoff\":15},\"zerolinecolor\":\"white\",\"zerolinewidth\":2}}},\"title\":{\"text\":\"Classifica\\u00e7\\u00e3o de Clientes sobre Pedidos\"}},                        {\"responsive\": true}                    ).then(function(){\n",
              "                            \n",
              "var gd = document.getElementById('04ec86d5-1cad-4c91-9f2a-903f1aab70fa');\n",
              "var x = new MutationObserver(function (mutations, observer) {{\n",
              "        var display = window.getComputedStyle(gd).display;\n",
              "        if (!display || display === 'none') {{\n",
              "            console.log([gd, 'removed!']);\n",
              "            Plotly.purge(gd);\n",
              "            observer.disconnect();\n",
              "        }}\n",
              "}});\n",
              "\n",
              "// Listen for the removal of the full notebook cells\n",
              "var notebookContainer = gd.closest('#notebook-container');\n",
              "if (notebookContainer) {{\n",
              "    x.observe(notebookContainer, {childList: true});\n",
              "}}\n",
              "\n",
              "// Listen for the clearing of the current output cell\n",
              "var outputEl = gd.closest('.output');\n",
              "if (outputEl) {{\n",
              "    x.observe(outputEl, {childList: true});\n",
              "}}\n",
              "\n",
              "                        })                };                            </script>        </div>\n",
              "</body>\n",
              "</html>"
            ]
          },
          "metadata": {}
        }
      ]
    },
    {
      "cell_type": "code",
      "source": [
        "# Convertendo as colunas de datas para datetime\n",
        "df['order_estimated_delivery_date'] = pd.to_datetime(df['order_estimated_delivery_date'])\n",
        "df['order_delivered_customer_date'] = pd.to_datetime(df['order_delivered_customer_date'])\n",
        "\n",
        "# Calculando o tempo de entrega\n",
        "df['tempo_entrega'] = df['order_delivered_customer_date'] - df['order_estimated_delivery_date']\n",
        "\n",
        "# Calculando a média do tempo de entrega\n",
        "tempo_medio_entrega = df['tempo_entrega'].mean()\n",
        "\n",
        "print(f'O tempo médio de entrega é: {tempo_medio_entrega}')\n"
      ],
      "metadata": {
        "id": "R4MukE1Z0I7l",
        "colab": {
          "base_uri": "https://localhost:8080/"
        },
        "outputId": "4fcd78c3-ada8-4b8d-ce6c-d89d31839525"
      },
      "execution_count": 439,
      "outputs": [
        {
          "output_type": "stream",
          "name": "stdout",
          "text": [
            "O tempo médio de entrega é: -11 days +20:02:13.856892984\n"
          ]
        }
      ]
    },
    {
      "cell_type": "code",
      "source": [
        "data = [go.Bar(x=vendas_por_mes.index, y=vendas_por_mes.values)]\n",
        "configuracoes_layout = go.Layout(title=\"Vendas por Mês\", yaxis={\"title\": \"Valores em Vendas\"}, xaxis={\"title\": \"Mês\"})\n",
        "fig = go.Figure(data=data, layout=configuracoes_layout)\n",
        "py.iplot(fig)\n"
      ],
      "metadata": {
        "colab": {
          "base_uri": "https://localhost:8080/",
          "height": 542
        },
        "id": "PmWU1TKzrj8b",
        "outputId": "51c89303-e340-40e4-a0de-ea1628db9e09"
      },
      "execution_count": 440,
      "outputs": [
        {
          "output_type": "display_data",
          "data": {
            "text/html": [
              "<html>\n",
              "<head><meta charset=\"utf-8\" /></head>\n",
              "<body>\n",
              "    <div>            <script src=\"https://cdnjs.cloudflare.com/ajax/libs/mathjax/2.7.5/MathJax.js?config=TeX-AMS-MML_SVG\"></script><script type=\"text/javascript\">if (window.MathJax && window.MathJax.Hub && window.MathJax.Hub.Config) {window.MathJax.Hub.Config({SVG: {font: \"STIX-Web\"}});}</script>                <script type=\"text/javascript\">window.PlotlyConfig = {MathJaxConfig: 'local'};</script>\n",
              "        <script charset=\"utf-8\" src=\"https://cdn.plot.ly/plotly-2.24.1.min.js\"></script>                <div id=\"4a3c4944-c269-4456-aa2b-9a4bac68fd02\" class=\"plotly-graph-div\" style=\"height:525px; width:100%;\"></div>            <script type=\"text/javascript\">                                    window.PLOTLYENV=window.PLOTLYENV || {};                                    if (document.getElementById(\"4a3c4944-c269-4456-aa2b-9a4bac68fd02\")) {                    Plotly.newPlot(                        \"4a3c4944-c269-4456-aa2b-9a4bac68fd02\",                        [{\"x\":[\"2017-02\",\"2017-03\",\"2017-04\",\"2017-05\",\"2017-06\",\"2017-07\",\"2017-08\",\"2017-09\",\"2017-10\",\"2017-11\",\"2017-12\",\"2018-01\",\"2018-02\",\"2018-03\",\"2018-04\"],\"y\":[9.99,902.86,17654.190000000002,25556.23,34172.86,47284.74,39898.85,45462.2,40910.4,55373.92,43806.57,46755.56,42560.54,33435.48,3754.33],\"type\":\"bar\"}],                        {\"template\":{\"data\":{\"barpolar\":[{\"marker\":{\"line\":{\"color\":\"#E5ECF6\",\"width\":0.5},\"pattern\":{\"fillmode\":\"overlay\",\"size\":10,\"solidity\":0.2}},\"type\":\"barpolar\"}],\"bar\":[{\"error_x\":{\"color\":\"#2a3f5f\"},\"error_y\":{\"color\":\"#2a3f5f\"},\"marker\":{\"line\":{\"color\":\"#E5ECF6\",\"width\":0.5},\"pattern\":{\"fillmode\":\"overlay\",\"size\":10,\"solidity\":0.2}},\"type\":\"bar\"}],\"carpet\":[{\"aaxis\":{\"endlinecolor\":\"#2a3f5f\",\"gridcolor\":\"white\",\"linecolor\":\"white\",\"minorgridcolor\":\"white\",\"startlinecolor\":\"#2a3f5f\"},\"baxis\":{\"endlinecolor\":\"#2a3f5f\",\"gridcolor\":\"white\",\"linecolor\":\"white\",\"minorgridcolor\":\"white\",\"startlinecolor\":\"#2a3f5f\"},\"type\":\"carpet\"}],\"choropleth\":[{\"colorbar\":{\"outlinewidth\":0,\"ticks\":\"\"},\"type\":\"choropleth\"}],\"contourcarpet\":[{\"colorbar\":{\"outlinewidth\":0,\"ticks\":\"\"},\"type\":\"contourcarpet\"}],\"contour\":[{\"colorbar\":{\"outlinewidth\":0,\"ticks\":\"\"},\"colorscale\":[[0.0,\"#0d0887\"],[0.1111111111111111,\"#46039f\"],[0.2222222222222222,\"#7201a8\"],[0.3333333333333333,\"#9c179e\"],[0.4444444444444444,\"#bd3786\"],[0.5555555555555556,\"#d8576b\"],[0.6666666666666666,\"#ed7953\"],[0.7777777777777778,\"#fb9f3a\"],[0.8888888888888888,\"#fdca26\"],[1.0,\"#f0f921\"]],\"type\":\"contour\"}],\"heatmapgl\":[{\"colorbar\":{\"outlinewidth\":0,\"ticks\":\"\"},\"colorscale\":[[0.0,\"#0d0887\"],[0.1111111111111111,\"#46039f\"],[0.2222222222222222,\"#7201a8\"],[0.3333333333333333,\"#9c179e\"],[0.4444444444444444,\"#bd3786\"],[0.5555555555555556,\"#d8576b\"],[0.6666666666666666,\"#ed7953\"],[0.7777777777777778,\"#fb9f3a\"],[0.8888888888888888,\"#fdca26\"],[1.0,\"#f0f921\"]],\"type\":\"heatmapgl\"}],\"heatmap\":[{\"colorbar\":{\"outlinewidth\":0,\"ticks\":\"\"},\"colorscale\":[[0.0,\"#0d0887\"],[0.1111111111111111,\"#46039f\"],[0.2222222222222222,\"#7201a8\"],[0.3333333333333333,\"#9c179e\"],[0.4444444444444444,\"#bd3786\"],[0.5555555555555556,\"#d8576b\"],[0.6666666666666666,\"#ed7953\"],[0.7777777777777778,\"#fb9f3a\"],[0.8888888888888888,\"#fdca26\"],[1.0,\"#f0f921\"]],\"type\":\"heatmap\"}],\"histogram2dcontour\":[{\"colorbar\":{\"outlinewidth\":0,\"ticks\":\"\"},\"colorscale\":[[0.0,\"#0d0887\"],[0.1111111111111111,\"#46039f\"],[0.2222222222222222,\"#7201a8\"],[0.3333333333333333,\"#9c179e\"],[0.4444444444444444,\"#bd3786\"],[0.5555555555555556,\"#d8576b\"],[0.6666666666666666,\"#ed7953\"],[0.7777777777777778,\"#fb9f3a\"],[0.8888888888888888,\"#fdca26\"],[1.0,\"#f0f921\"]],\"type\":\"histogram2dcontour\"}],\"histogram2d\":[{\"colorbar\":{\"outlinewidth\":0,\"ticks\":\"\"},\"colorscale\":[[0.0,\"#0d0887\"],[0.1111111111111111,\"#46039f\"],[0.2222222222222222,\"#7201a8\"],[0.3333333333333333,\"#9c179e\"],[0.4444444444444444,\"#bd3786\"],[0.5555555555555556,\"#d8576b\"],[0.6666666666666666,\"#ed7953\"],[0.7777777777777778,\"#fb9f3a\"],[0.8888888888888888,\"#fdca26\"],[1.0,\"#f0f921\"]],\"type\":\"histogram2d\"}],\"histogram\":[{\"marker\":{\"pattern\":{\"fillmode\":\"overlay\",\"size\":10,\"solidity\":0.2}},\"type\":\"histogram\"}],\"mesh3d\":[{\"colorbar\":{\"outlinewidth\":0,\"ticks\":\"\"},\"type\":\"mesh3d\"}],\"parcoords\":[{\"line\":{\"colorbar\":{\"outlinewidth\":0,\"ticks\":\"\"}},\"type\":\"parcoords\"}],\"pie\":[{\"automargin\":true,\"type\":\"pie\"}],\"scatter3d\":[{\"line\":{\"colorbar\":{\"outlinewidth\":0,\"ticks\":\"\"}},\"marker\":{\"colorbar\":{\"outlinewidth\":0,\"ticks\":\"\"}},\"type\":\"scatter3d\"}],\"scattercarpet\":[{\"marker\":{\"colorbar\":{\"outlinewidth\":0,\"ticks\":\"\"}},\"type\":\"scattercarpet\"}],\"scattergeo\":[{\"marker\":{\"colorbar\":{\"outlinewidth\":0,\"ticks\":\"\"}},\"type\":\"scattergeo\"}],\"scattergl\":[{\"marker\":{\"colorbar\":{\"outlinewidth\":0,\"ticks\":\"\"}},\"type\":\"scattergl\"}],\"scattermapbox\":[{\"marker\":{\"colorbar\":{\"outlinewidth\":0,\"ticks\":\"\"}},\"type\":\"scattermapbox\"}],\"scatterpolargl\":[{\"marker\":{\"colorbar\":{\"outlinewidth\":0,\"ticks\":\"\"}},\"type\":\"scatterpolargl\"}],\"scatterpolar\":[{\"marker\":{\"colorbar\":{\"outlinewidth\":0,\"ticks\":\"\"}},\"type\":\"scatterpolar\"}],\"scatter\":[{\"fillpattern\":{\"fillmode\":\"overlay\",\"size\":10,\"solidity\":0.2},\"type\":\"scatter\"}],\"scatterternary\":[{\"marker\":{\"colorbar\":{\"outlinewidth\":0,\"ticks\":\"\"}},\"type\":\"scatterternary\"}],\"surface\":[{\"colorbar\":{\"outlinewidth\":0,\"ticks\":\"\"},\"colorscale\":[[0.0,\"#0d0887\"],[0.1111111111111111,\"#46039f\"],[0.2222222222222222,\"#7201a8\"],[0.3333333333333333,\"#9c179e\"],[0.4444444444444444,\"#bd3786\"],[0.5555555555555556,\"#d8576b\"],[0.6666666666666666,\"#ed7953\"],[0.7777777777777778,\"#fb9f3a\"],[0.8888888888888888,\"#fdca26\"],[1.0,\"#f0f921\"]],\"type\":\"surface\"}],\"table\":[{\"cells\":{\"fill\":{\"color\":\"#EBF0F8\"},\"line\":{\"color\":\"white\"}},\"header\":{\"fill\":{\"color\":\"#C8D4E3\"},\"line\":{\"color\":\"white\"}},\"type\":\"table\"}]},\"layout\":{\"annotationdefaults\":{\"arrowcolor\":\"#2a3f5f\",\"arrowhead\":0,\"arrowwidth\":1},\"autotypenumbers\":\"strict\",\"coloraxis\":{\"colorbar\":{\"outlinewidth\":0,\"ticks\":\"\"}},\"colorscale\":{\"diverging\":[[0,\"#8e0152\"],[0.1,\"#c51b7d\"],[0.2,\"#de77ae\"],[0.3,\"#f1b6da\"],[0.4,\"#fde0ef\"],[0.5,\"#f7f7f7\"],[0.6,\"#e6f5d0\"],[0.7,\"#b8e186\"],[0.8,\"#7fbc41\"],[0.9,\"#4d9221\"],[1,\"#276419\"]],\"sequential\":[[0.0,\"#0d0887\"],[0.1111111111111111,\"#46039f\"],[0.2222222222222222,\"#7201a8\"],[0.3333333333333333,\"#9c179e\"],[0.4444444444444444,\"#bd3786\"],[0.5555555555555556,\"#d8576b\"],[0.6666666666666666,\"#ed7953\"],[0.7777777777777778,\"#fb9f3a\"],[0.8888888888888888,\"#fdca26\"],[1.0,\"#f0f921\"]],\"sequentialminus\":[[0.0,\"#0d0887\"],[0.1111111111111111,\"#46039f\"],[0.2222222222222222,\"#7201a8\"],[0.3333333333333333,\"#9c179e\"],[0.4444444444444444,\"#bd3786\"],[0.5555555555555556,\"#d8576b\"],[0.6666666666666666,\"#ed7953\"],[0.7777777777777778,\"#fb9f3a\"],[0.8888888888888888,\"#fdca26\"],[1.0,\"#f0f921\"]]},\"colorway\":[\"#636efa\",\"#EF553B\",\"#00cc96\",\"#ab63fa\",\"#FFA15A\",\"#19d3f3\",\"#FF6692\",\"#B6E880\",\"#FF97FF\",\"#FECB52\"],\"font\":{\"color\":\"#2a3f5f\"},\"geo\":{\"bgcolor\":\"white\",\"lakecolor\":\"white\",\"landcolor\":\"#E5ECF6\",\"showlakes\":true,\"showland\":true,\"subunitcolor\":\"white\"},\"hoverlabel\":{\"align\":\"left\"},\"hovermode\":\"closest\",\"mapbox\":{\"style\":\"light\"},\"paper_bgcolor\":\"white\",\"plot_bgcolor\":\"#E5ECF6\",\"polar\":{\"angularaxis\":{\"gridcolor\":\"white\",\"linecolor\":\"white\",\"ticks\":\"\"},\"bgcolor\":\"#E5ECF6\",\"radialaxis\":{\"gridcolor\":\"white\",\"linecolor\":\"white\",\"ticks\":\"\"}},\"scene\":{\"xaxis\":{\"backgroundcolor\":\"#E5ECF6\",\"gridcolor\":\"white\",\"gridwidth\":2,\"linecolor\":\"white\",\"showbackground\":true,\"ticks\":\"\",\"zerolinecolor\":\"white\"},\"yaxis\":{\"backgroundcolor\":\"#E5ECF6\",\"gridcolor\":\"white\",\"gridwidth\":2,\"linecolor\":\"white\",\"showbackground\":true,\"ticks\":\"\",\"zerolinecolor\":\"white\"},\"zaxis\":{\"backgroundcolor\":\"#E5ECF6\",\"gridcolor\":\"white\",\"gridwidth\":2,\"linecolor\":\"white\",\"showbackground\":true,\"ticks\":\"\",\"zerolinecolor\":\"white\"}},\"shapedefaults\":{\"line\":{\"color\":\"#2a3f5f\"}},\"ternary\":{\"aaxis\":{\"gridcolor\":\"white\",\"linecolor\":\"white\",\"ticks\":\"\"},\"baxis\":{\"gridcolor\":\"white\",\"linecolor\":\"white\",\"ticks\":\"\"},\"bgcolor\":\"#E5ECF6\",\"caxis\":{\"gridcolor\":\"white\",\"linecolor\":\"white\",\"ticks\":\"\"}},\"title\":{\"x\":0.05},\"xaxis\":{\"automargin\":true,\"gridcolor\":\"white\",\"linecolor\":\"white\",\"ticks\":\"\",\"title\":{\"standoff\":15},\"zerolinecolor\":\"white\",\"zerolinewidth\":2},\"yaxis\":{\"automargin\":true,\"gridcolor\":\"white\",\"linecolor\":\"white\",\"ticks\":\"\",\"title\":{\"standoff\":15},\"zerolinecolor\":\"white\",\"zerolinewidth\":2}}},\"title\":{\"text\":\"Vendas por M\\u00eas\"},\"xaxis\":{\"title\":{\"text\":\"M\\u00eas\"}},\"yaxis\":{\"title\":{\"text\":\"Valores em Vendas\"}}},                        {\"responsive\": true}                    ).then(function(){\n",
              "                            \n",
              "var gd = document.getElementById('4a3c4944-c269-4456-aa2b-9a4bac68fd02');\n",
              "var x = new MutationObserver(function (mutations, observer) {{\n",
              "        var display = window.getComputedStyle(gd).display;\n",
              "        if (!display || display === 'none') {{\n",
              "            console.log([gd, 'removed!']);\n",
              "            Plotly.purge(gd);\n",
              "            observer.disconnect();\n",
              "        }}\n",
              "}});\n",
              "\n",
              "// Listen for the removal of the full notebook cells\n",
              "var notebookContainer = gd.closest('#notebook-container');\n",
              "if (notebookContainer) {{\n",
              "    x.observe(notebookContainer, {childList: true});\n",
              "}}\n",
              "\n",
              "// Listen for the clearing of the current output cell\n",
              "var outputEl = gd.closest('.output');\n",
              "if (outputEl) {{\n",
              "    x.observe(outputEl, {childList: true});\n",
              "}}\n",
              "\n",
              "                        })                };                            </script>        </div>\n",
              "</body>\n",
              "</html>"
            ]
          },
          "metadata": {}
        }
      ]
    },
    {
      "cell_type": "code",
      "source": [
        "# Filtrando os dados para incluir apenas o ano de 2016\n",
        "vendas_2016 = df[df['order_purchase_timestamp'].dt.year == 2016]\n",
        "\n",
        "# Calculando as vendas por mês em 2016\n",
        "vendas_por_mes_2016 = vendas_2016.groupby(by='order_purchase_month').order_products_value.sum()\n",
        "\n",
        "# Agora, você pode plotar o gráfico de barras para as vendas de 2016\n",
        "data_2016 = [go.Bar(x=vendas_por_mes_2016.index, y=vendas_por_mes_2016.values)]\n",
        "configuracoes_layout_2016 = go.Layout(title=\"Vendas por Mês em 2016\", yaxis={\"title\": \"Valores em Vendas\"}, xaxis={\"title\": \"Mês\"})\n",
        "fig_2016 = go.Figure(data=data_2016, layout=configuracoes_layout_2016)\n",
        "py.iplot(fig_2016)\n"
      ],
      "metadata": {
        "id": "70kHbcCct-Tg",
        "outputId": "e1b11c8d-220a-4b80-8332-c018fec4081f",
        "colab": {
          "base_uri": "https://localhost:8080/",
          "height": 542
        }
      },
      "execution_count": 441,
      "outputs": [
        {
          "output_type": "display_data",
          "data": {
            "text/html": [
              "<html>\n",
              "<head><meta charset=\"utf-8\" /></head>\n",
              "<body>\n",
              "    <div>            <script src=\"https://cdnjs.cloudflare.com/ajax/libs/mathjax/2.7.5/MathJax.js?config=TeX-AMS-MML_SVG\"></script><script type=\"text/javascript\">if (window.MathJax && window.MathJax.Hub && window.MathJax.Hub.Config) {window.MathJax.Hub.Config({SVG: {font: \"STIX-Web\"}});}</script>                <script type=\"text/javascript\">window.PlotlyConfig = {MathJaxConfig: 'local'};</script>\n",
              "        <script charset=\"utf-8\" src=\"https://cdn.plot.ly/plotly-2.24.1.min.js\"></script>                <div id=\"1c088ecc-f929-47ca-b1b7-27818af64e57\" class=\"plotly-graph-div\" style=\"height:525px; width:100%;\"></div>            <script type=\"text/javascript\">                                    window.PLOTLYENV=window.PLOTLYENV || {};                                    if (document.getElementById(\"1c088ecc-f929-47ca-b1b7-27818af64e57\")) {                    Plotly.newPlot(                        \"1c088ecc-f929-47ca-b1b7-27818af64e57\",                        [{\"x\":[],\"y\":[],\"type\":\"bar\"}],                        {\"template\":{\"data\":{\"barpolar\":[{\"marker\":{\"line\":{\"color\":\"#E5ECF6\",\"width\":0.5},\"pattern\":{\"fillmode\":\"overlay\",\"size\":10,\"solidity\":0.2}},\"type\":\"barpolar\"}],\"bar\":[{\"error_x\":{\"color\":\"#2a3f5f\"},\"error_y\":{\"color\":\"#2a3f5f\"},\"marker\":{\"line\":{\"color\":\"#E5ECF6\",\"width\":0.5},\"pattern\":{\"fillmode\":\"overlay\",\"size\":10,\"solidity\":0.2}},\"type\":\"bar\"}],\"carpet\":[{\"aaxis\":{\"endlinecolor\":\"#2a3f5f\",\"gridcolor\":\"white\",\"linecolor\":\"white\",\"minorgridcolor\":\"white\",\"startlinecolor\":\"#2a3f5f\"},\"baxis\":{\"endlinecolor\":\"#2a3f5f\",\"gridcolor\":\"white\",\"linecolor\":\"white\",\"minorgridcolor\":\"white\",\"startlinecolor\":\"#2a3f5f\"},\"type\":\"carpet\"}],\"choropleth\":[{\"colorbar\":{\"outlinewidth\":0,\"ticks\":\"\"},\"type\":\"choropleth\"}],\"contourcarpet\":[{\"colorbar\":{\"outlinewidth\":0,\"ticks\":\"\"},\"type\":\"contourcarpet\"}],\"contour\":[{\"colorbar\":{\"outlinewidth\":0,\"ticks\":\"\"},\"colorscale\":[[0.0,\"#0d0887\"],[0.1111111111111111,\"#46039f\"],[0.2222222222222222,\"#7201a8\"],[0.3333333333333333,\"#9c179e\"],[0.4444444444444444,\"#bd3786\"],[0.5555555555555556,\"#d8576b\"],[0.6666666666666666,\"#ed7953\"],[0.7777777777777778,\"#fb9f3a\"],[0.8888888888888888,\"#fdca26\"],[1.0,\"#f0f921\"]],\"type\":\"contour\"}],\"heatmapgl\":[{\"colorbar\":{\"outlinewidth\":0,\"ticks\":\"\"},\"colorscale\":[[0.0,\"#0d0887\"],[0.1111111111111111,\"#46039f\"],[0.2222222222222222,\"#7201a8\"],[0.3333333333333333,\"#9c179e\"],[0.4444444444444444,\"#bd3786\"],[0.5555555555555556,\"#d8576b\"],[0.6666666666666666,\"#ed7953\"],[0.7777777777777778,\"#fb9f3a\"],[0.8888888888888888,\"#fdca26\"],[1.0,\"#f0f921\"]],\"type\":\"heatmapgl\"}],\"heatmap\":[{\"colorbar\":{\"outlinewidth\":0,\"ticks\":\"\"},\"colorscale\":[[0.0,\"#0d0887\"],[0.1111111111111111,\"#46039f\"],[0.2222222222222222,\"#7201a8\"],[0.3333333333333333,\"#9c179e\"],[0.4444444444444444,\"#bd3786\"],[0.5555555555555556,\"#d8576b\"],[0.6666666666666666,\"#ed7953\"],[0.7777777777777778,\"#fb9f3a\"],[0.8888888888888888,\"#fdca26\"],[1.0,\"#f0f921\"]],\"type\":\"heatmap\"}],\"histogram2dcontour\":[{\"colorbar\":{\"outlinewidth\":0,\"ticks\":\"\"},\"colorscale\":[[0.0,\"#0d0887\"],[0.1111111111111111,\"#46039f\"],[0.2222222222222222,\"#7201a8\"],[0.3333333333333333,\"#9c179e\"],[0.4444444444444444,\"#bd3786\"],[0.5555555555555556,\"#d8576b\"],[0.6666666666666666,\"#ed7953\"],[0.7777777777777778,\"#fb9f3a\"],[0.8888888888888888,\"#fdca26\"],[1.0,\"#f0f921\"]],\"type\":\"histogram2dcontour\"}],\"histogram2d\":[{\"colorbar\":{\"outlinewidth\":0,\"ticks\":\"\"},\"colorscale\":[[0.0,\"#0d0887\"],[0.1111111111111111,\"#46039f\"],[0.2222222222222222,\"#7201a8\"],[0.3333333333333333,\"#9c179e\"],[0.4444444444444444,\"#bd3786\"],[0.5555555555555556,\"#d8576b\"],[0.6666666666666666,\"#ed7953\"],[0.7777777777777778,\"#fb9f3a\"],[0.8888888888888888,\"#fdca26\"],[1.0,\"#f0f921\"]],\"type\":\"histogram2d\"}],\"histogram\":[{\"marker\":{\"pattern\":{\"fillmode\":\"overlay\",\"size\":10,\"solidity\":0.2}},\"type\":\"histogram\"}],\"mesh3d\":[{\"colorbar\":{\"outlinewidth\":0,\"ticks\":\"\"},\"type\":\"mesh3d\"}],\"parcoords\":[{\"line\":{\"colorbar\":{\"outlinewidth\":0,\"ticks\":\"\"}},\"type\":\"parcoords\"}],\"pie\":[{\"automargin\":true,\"type\":\"pie\"}],\"scatter3d\":[{\"line\":{\"colorbar\":{\"outlinewidth\":0,\"ticks\":\"\"}},\"marker\":{\"colorbar\":{\"outlinewidth\":0,\"ticks\":\"\"}},\"type\":\"scatter3d\"}],\"scattercarpet\":[{\"marker\":{\"colorbar\":{\"outlinewidth\":0,\"ticks\":\"\"}},\"type\":\"scattercarpet\"}],\"scattergeo\":[{\"marker\":{\"colorbar\":{\"outlinewidth\":0,\"ticks\":\"\"}},\"type\":\"scattergeo\"}],\"scattergl\":[{\"marker\":{\"colorbar\":{\"outlinewidth\":0,\"ticks\":\"\"}},\"type\":\"scattergl\"}],\"scattermapbox\":[{\"marker\":{\"colorbar\":{\"outlinewidth\":0,\"ticks\":\"\"}},\"type\":\"scattermapbox\"}],\"scatterpolargl\":[{\"marker\":{\"colorbar\":{\"outlinewidth\":0,\"ticks\":\"\"}},\"type\":\"scatterpolargl\"}],\"scatterpolar\":[{\"marker\":{\"colorbar\":{\"outlinewidth\":0,\"ticks\":\"\"}},\"type\":\"scatterpolar\"}],\"scatter\":[{\"fillpattern\":{\"fillmode\":\"overlay\",\"size\":10,\"solidity\":0.2},\"type\":\"scatter\"}],\"scatterternary\":[{\"marker\":{\"colorbar\":{\"outlinewidth\":0,\"ticks\":\"\"}},\"type\":\"scatterternary\"}],\"surface\":[{\"colorbar\":{\"outlinewidth\":0,\"ticks\":\"\"},\"colorscale\":[[0.0,\"#0d0887\"],[0.1111111111111111,\"#46039f\"],[0.2222222222222222,\"#7201a8\"],[0.3333333333333333,\"#9c179e\"],[0.4444444444444444,\"#bd3786\"],[0.5555555555555556,\"#d8576b\"],[0.6666666666666666,\"#ed7953\"],[0.7777777777777778,\"#fb9f3a\"],[0.8888888888888888,\"#fdca26\"],[1.0,\"#f0f921\"]],\"type\":\"surface\"}],\"table\":[{\"cells\":{\"fill\":{\"color\":\"#EBF0F8\"},\"line\":{\"color\":\"white\"}},\"header\":{\"fill\":{\"color\":\"#C8D4E3\"},\"line\":{\"color\":\"white\"}},\"type\":\"table\"}]},\"layout\":{\"annotationdefaults\":{\"arrowcolor\":\"#2a3f5f\",\"arrowhead\":0,\"arrowwidth\":1},\"autotypenumbers\":\"strict\",\"coloraxis\":{\"colorbar\":{\"outlinewidth\":0,\"ticks\":\"\"}},\"colorscale\":{\"diverging\":[[0,\"#8e0152\"],[0.1,\"#c51b7d\"],[0.2,\"#de77ae\"],[0.3,\"#f1b6da\"],[0.4,\"#fde0ef\"],[0.5,\"#f7f7f7\"],[0.6,\"#e6f5d0\"],[0.7,\"#b8e186\"],[0.8,\"#7fbc41\"],[0.9,\"#4d9221\"],[1,\"#276419\"]],\"sequential\":[[0.0,\"#0d0887\"],[0.1111111111111111,\"#46039f\"],[0.2222222222222222,\"#7201a8\"],[0.3333333333333333,\"#9c179e\"],[0.4444444444444444,\"#bd3786\"],[0.5555555555555556,\"#d8576b\"],[0.6666666666666666,\"#ed7953\"],[0.7777777777777778,\"#fb9f3a\"],[0.8888888888888888,\"#fdca26\"],[1.0,\"#f0f921\"]],\"sequentialminus\":[[0.0,\"#0d0887\"],[0.1111111111111111,\"#46039f\"],[0.2222222222222222,\"#7201a8\"],[0.3333333333333333,\"#9c179e\"],[0.4444444444444444,\"#bd3786\"],[0.5555555555555556,\"#d8576b\"],[0.6666666666666666,\"#ed7953\"],[0.7777777777777778,\"#fb9f3a\"],[0.8888888888888888,\"#fdca26\"],[1.0,\"#f0f921\"]]},\"colorway\":[\"#636efa\",\"#EF553B\",\"#00cc96\",\"#ab63fa\",\"#FFA15A\",\"#19d3f3\",\"#FF6692\",\"#B6E880\",\"#FF97FF\",\"#FECB52\"],\"font\":{\"color\":\"#2a3f5f\"},\"geo\":{\"bgcolor\":\"white\",\"lakecolor\":\"white\",\"landcolor\":\"#E5ECF6\",\"showlakes\":true,\"showland\":true,\"subunitcolor\":\"white\"},\"hoverlabel\":{\"align\":\"left\"},\"hovermode\":\"closest\",\"mapbox\":{\"style\":\"light\"},\"paper_bgcolor\":\"white\",\"plot_bgcolor\":\"#E5ECF6\",\"polar\":{\"angularaxis\":{\"gridcolor\":\"white\",\"linecolor\":\"white\",\"ticks\":\"\"},\"bgcolor\":\"#E5ECF6\",\"radialaxis\":{\"gridcolor\":\"white\",\"linecolor\":\"white\",\"ticks\":\"\"}},\"scene\":{\"xaxis\":{\"backgroundcolor\":\"#E5ECF6\",\"gridcolor\":\"white\",\"gridwidth\":2,\"linecolor\":\"white\",\"showbackground\":true,\"ticks\":\"\",\"zerolinecolor\":\"white\"},\"yaxis\":{\"backgroundcolor\":\"#E5ECF6\",\"gridcolor\":\"white\",\"gridwidth\":2,\"linecolor\":\"white\",\"showbackground\":true,\"ticks\":\"\",\"zerolinecolor\":\"white\"},\"zaxis\":{\"backgroundcolor\":\"#E5ECF6\",\"gridcolor\":\"white\",\"gridwidth\":2,\"linecolor\":\"white\",\"showbackground\":true,\"ticks\":\"\",\"zerolinecolor\":\"white\"}},\"shapedefaults\":{\"line\":{\"color\":\"#2a3f5f\"}},\"ternary\":{\"aaxis\":{\"gridcolor\":\"white\",\"linecolor\":\"white\",\"ticks\":\"\"},\"baxis\":{\"gridcolor\":\"white\",\"linecolor\":\"white\",\"ticks\":\"\"},\"bgcolor\":\"#E5ECF6\",\"caxis\":{\"gridcolor\":\"white\",\"linecolor\":\"white\",\"ticks\":\"\"}},\"title\":{\"x\":0.05},\"xaxis\":{\"automargin\":true,\"gridcolor\":\"white\",\"linecolor\":\"white\",\"ticks\":\"\",\"title\":{\"standoff\":15},\"zerolinecolor\":\"white\",\"zerolinewidth\":2},\"yaxis\":{\"automargin\":true,\"gridcolor\":\"white\",\"linecolor\":\"white\",\"ticks\":\"\",\"title\":{\"standoff\":15},\"zerolinecolor\":\"white\",\"zerolinewidth\":2}}},\"title\":{\"text\":\"Vendas por M\\u00eas em 2016\"},\"xaxis\":{\"title\":{\"text\":\"M\\u00eas\"}},\"yaxis\":{\"title\":{\"text\":\"Valores em Vendas\"}}},                        {\"responsive\": true}                    ).then(function(){\n",
              "                            \n",
              "var gd = document.getElementById('1c088ecc-f929-47ca-b1b7-27818af64e57');\n",
              "var x = new MutationObserver(function (mutations, observer) {{\n",
              "        var display = window.getComputedStyle(gd).display;\n",
              "        if (!display || display === 'none') {{\n",
              "            console.log([gd, 'removed!']);\n",
              "            Plotly.purge(gd);\n",
              "            observer.disconnect();\n",
              "        }}\n",
              "}});\n",
              "\n",
              "// Listen for the removal of the full notebook cells\n",
              "var notebookContainer = gd.closest('#notebook-container');\n",
              "if (notebookContainer) {{\n",
              "    x.observe(notebookContainer, {childList: true});\n",
              "}}\n",
              "\n",
              "// Listen for the clearing of the current output cell\n",
              "var outputEl = gd.closest('.output');\n",
              "if (outputEl) {{\n",
              "    x.observe(outputEl, {childList: true});\n",
              "}}\n",
              "\n",
              "                        })                };                            </script>        </div>\n",
              "</body>\n",
              "</html>"
            ]
          },
          "metadata": {}
        }
      ]
    }
  ]
}